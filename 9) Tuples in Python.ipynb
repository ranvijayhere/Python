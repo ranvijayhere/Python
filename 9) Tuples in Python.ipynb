{
 "cells": [
  {
   "cell_type": "markdown",
   "id": "0f17077d-c680-42ea-9386-70283566ba70",
   "metadata": {},
   "source": [
    "# __10) Tuples in Python__\n",
    "### _Tuples are used to store multiple items in a single variable. Tuple is one of 4 built-in data types in Python used to store collections of data. the other 3 are List, Set, and Dictionary, all with different qualities and usage._   \n",
    "### _A tuple in Python is an immutable ordered collection of elements. Tuples are similar to lists, but unlike lists, they cannot be changed after their creation (i.e., they are immutable). Tuples can hold elements of different data types._ \n",
    "### _The main characteristics of tuples are being ordered , heterogeneous and immutable._  \n",
    "### _A tuple is a collection which is ordered and unchangeable._"
   ]
  },
  {
   "cell_type": "markdown",
   "id": "f8931677-1da1-47b0-8d43-04a0c5eecb25",
   "metadata": {},
   "source": [
    "# Creating a Tuple :"
   ]
  },
  {
   "cell_type": "code",
   "execution_count": 2,
   "id": "a1675a8c-0afb-439c-ae17-7be270e975ce",
   "metadata": {},
   "outputs": [
    {
     "name": "stdout",
     "output_type": "stream",
     "text": [
      "('apple', 'banana', 'cherry')\n"
     ]
    }
   ],
   "source": [
    "tpl = (\"apple\", \"banana\", \"cherry\")\n",
    "print(tpl)"
   ]
  },
  {
   "cell_type": "code",
   "execution_count": 3,
   "id": "3ab45e99-b9e1-4ee2-9f15-8af66281c307",
   "metadata": {},
   "outputs": [
    {
     "name": "stdout",
     "output_type": "stream",
     "text": [
      "(1, 2, -5)\n"
     ]
    }
   ],
   "source": [
    "numbers = (1, 2, -5)\n",
    "print(numbers)"
   ]
  },
  {
   "cell_type": "code",
   "execution_count": 1,
   "id": "c75b89d0-6141-4a61-9820-58f9cab39cd2",
   "metadata": {},
   "outputs": [
    {
     "name": "stdout",
     "output_type": "stream",
     "text": [
      "()\n",
      "('Vijay', 'Chauhan')\n",
      "(1, 2, 3, 4, 5, 6)\n",
      "('V', 'i', 'j', 'a', 'y')\n"
     ]
    }
   ],
   "source": [
    "tup = ()       # empty tuple\n",
    "print(tup)\n",
    "                                # Using String\n",
    "tup = ('Vijay', 'Chauhan')\n",
    "print(tup)\n",
    "                                    # Using List\n",
    "li = [1, 2, 3, 4, 5, 6]\n",
    "print(tuple(li))\n",
    "                                        # Using Built-in Function\n",
    "tup = tuple('Vijay')\n",
    "print(tup)"
   ]
  },
  {
   "cell_type": "markdown",
   "id": "19f299ea-561c-4913-8574-c372b16cb4aa",
   "metadata": {},
   "source": [
    "# Single element"
   ]
  },
  {
   "cell_type": "code",
   "execution_count": 3,
   "id": "b5ae7ec9-1f5c-4c6a-a605-e46c98561f21",
   "metadata": {},
   "outputs": [
    {
     "name": "stdout",
     "output_type": "stream",
     "text": [
      "5\n",
      "<class 'int'>\n"
     ]
    }
   ],
   "source": [
    "a = (5)\n",
    "print(a)\n",
    "print(type(a))"
   ]
  },
  {
   "cell_type": "code",
   "execution_count": 8,
   "id": "a79250ac-9791-42fe-b694-f970d0aa2b65",
   "metadata": {},
   "outputs": [
    {
     "name": "stdout",
     "output_type": "stream",
     "text": [
      "(6,)\n",
      "<class 'tuple'>\n"
     ]
    }
   ],
   "source": [
    "b = (6,)\n",
    "print(b)\n",
    "print(type(b))"
   ]
  },
  {
   "cell_type": "code",
   "execution_count": 5,
   "id": "dad840c2-8976-49fd-be8f-8b5f667cb2be",
   "metadata": {},
   "outputs": [
    {
     "name": "stdout",
     "output_type": "stream",
     "text": [
      "Hello\n",
      "<class 'str'>\n"
     ]
    }
   ],
   "source": [
    "var = (\"Hello\")\n",
    "print(var)\n",
    "print (type(var))"
   ]
  },
  {
   "cell_type": "markdown",
   "id": "612a00cc-a568-407c-ba07-603b7dca02a1",
   "metadata": {},
   "source": [
    "# Tuple constructor\n",
    "#### _In Python, the tuple() constructor is a built-in function used to create tuple objects. It offers a way to construct tuples from various iterable data types._ "
   ]
  },
  {
   "cell_type": "code",
   "execution_count": 12,
   "id": "2d7aaa39-2119-4deb-a9df-0096384e1033",
   "metadata": {},
   "outputs": [
    {
     "name": "stdout",
     "output_type": "stream",
     "text": [
      "()\n",
      "<class 'tuple'>\n"
     ]
    }
   ],
   "source": [
    "empty = tuple()\n",
    "print(empty)\n",
    "print(type(empty))"
   ]
  },
  {
   "cell_type": "code",
   "execution_count": 13,
   "id": "88b6725e-5790-49eb-83ea-16950c5009ec",
   "metadata": {},
   "outputs": [
    {
     "name": "stdout",
     "output_type": "stream",
     "text": [
      "(1, 2, 3)\n",
      "('P', 'y', 't', 'h', 'o', 'n')\n",
      "(34, 12, 23)\n",
      "('cars', 'a', 'b')\n"
     ]
    }
   ],
   "source": [
    "my_string  = \"Python\"\n",
    "my_list = [1, 2, 3]\n",
    "my_set = {12,23,34}\n",
    "my_dict = { \"cars\" : \"BMW\",\"a\": 1, \"b\": 2}\n",
    "\n",
    "my_tuple = tuple(my_list)\n",
    "print(my_tuple) \n",
    "\n",
    "print(tuple(my_string))\n",
    "print(tuple(my_set))\n",
    "print(tuple(my_dict))"
   ]
  },
  {
   "cell_type": "markdown",
   "id": "0ea17162-8ae0-4197-a726-f2e5c7be4e3a",
   "metadata": {},
   "source": [
    "# ➩ ➩     __Tuple Items__\n",
    "### _Tuple items are ordered, unchangeable, and allow duplicate values._\n",
    "\n",
    "### _Tuple items are indexed, the first item has index [0] , the second item has index [1] etc._\n",
    "## Ordered\n",
    "#### _When we say that tuples are ordered, it means that the items have a defined order, and that order will not change._"
   ]
  },
  {
   "cell_type": "markdown",
   "id": "0854da48-3cec-4e55-974d-20f4106140f3",
   "metadata": {},
   "source": [
    "## Unchangeable\n",
    "#### _Tuples are unchangeable, meaning that we cannot change, add or remove items after the tuple has been created._\n",
    "#### _once tuple is created, you cannot change its values. Tuples are unchangable or immutable as it also is called.)_"
   ]
  },
  {
   "cell_type": "markdown",
   "id": "59c5510f-4542-4902-9103-125650f79273",
   "metadata": {},
   "source": [
    "## Allow Duplicates\n",
    "### _Since tuples are indexed, they can have items with the same value :_"
   ]
  },
  {
   "cell_type": "code",
   "execution_count": 8,
   "id": "53c8931c-2df5-4fa4-a79e-8faf4c6757fc",
   "metadata": {},
   "outputs": [
    {
     "name": "stdout",
     "output_type": "stream",
     "text": [
      "('apple', 'banana', 'cherry', 'apple', 'cherry')\n"
     ]
    }
   ],
   "source": [
    "tpl = (\"apple\", \"banana\", \"cherry\", \"apple\", \"cherry\")\n",
    "print(tpl)"
   ]
  },
  {
   "cell_type": "code",
   "execution_count": 38,
   "id": "0796b2ab-c301-4fb8-9b74-948ecb3d2bd9",
   "metadata": {},
   "outputs": [
    {
     "name": "stdout",
     "output_type": "stream",
     "text": [
      "(1, 2, 3, 4, 2, 3)\n"
     ]
    }
   ],
   "source": [
    "tup = (1, 2, 3, 4, 2, 3)\n",
    "print(tup)"
   ]
  },
  {
   "cell_type": "code",
   "execution_count": 11,
   "id": "3b61c0a3-9962-4f00-bbc8-bd69683002db",
   "metadata": {},
   "outputs": [
    {
     "name": "stdout",
     "output_type": "stream",
     "text": [
      "(2, 3, 6, 4, 45, 6, 45, 5, 66, 7, 8, 66)\n",
      "<class 'tuple'>\n"
     ]
    }
   ],
   "source": [
    "a = (2,3,6,4,45,6,45,5,66,7,8,66)\n",
    "print(a)\n",
    "print(type (a))"
   ]
  },
  {
   "cell_type": "markdown",
   "id": "8542711e-06ae-43cf-9188-9e3cc3c5d361",
   "metadata": {},
   "source": [
    "#  ⮩ __Tuple Length__\n",
    "### _To determine how many items a tuple has, use the __len()__ function :_"
   ]
  },
  {
   "cell_type": "code",
   "execution_count": 4,
   "id": "5b8be198-c443-43e4-997c-89abcb062a8a",
   "metadata": {},
   "outputs": [
    {
     "name": "stdout",
     "output_type": "stream",
     "text": [
      "3\n",
      "<class 'tuple'>\n"
     ]
    }
   ],
   "source": [
    "tpl= (\"apple\", \"banana\", \"cherry\")\n",
    "print(len(tpl))\n",
    "print(type(tpl))"
   ]
  },
  {
   "cell_type": "code",
   "execution_count": 8,
   "id": "010928e7-fcd6-4f16-9e5f-5dda0495f1cf",
   "metadata": {},
   "outputs": [
    {
     "name": "stdout",
     "output_type": "stream",
     "text": [
      "<class 'tuple'>\n",
      "<class 'list'>\n"
     ]
    }
   ],
   "source": [
    "                                    # Tuple with one item \n",
    "tpl = (\"apple\",)\n",
    "print(type(tpl))\n",
    "                                    # NOT a tuple\n",
    "thistuple = list(\"apple\")\n",
    "print(type(thistuple))"
   ]
  },
  {
   "cell_type": "code",
   "execution_count": 9,
   "id": "71c2c7ea-7031-4607-8cd4-5d887757ae12",
   "metadata": {},
   "outputs": [
    {
     "name": "stdout",
     "output_type": "stream",
     "text": [
      "Length of Tuple is :  6\n"
     ]
    }
   ],
   "source": [
    "tup = (1, 3, 4, 2, 5, 6)\n",
    "l = len(tup)\n",
    "print('Length of Tuple is : ', l)"
   ]
  },
  {
   "cell_type": "code",
   "execution_count": 12,
   "id": "4ad867f2-1aba-48cd-abb4-eab2c92c6ffd",
   "metadata": {},
   "outputs": [
    {
     "name": "stdout",
     "output_type": "stream",
     "text": [
      "Length of Tuple is 4\n",
      "Length of nested tuple is 3\n"
     ]
    }
   ],
   "source": [
    "alphabets = (('R', 'A', 'N'), ('V', 'I', 'J'),('S', 'A', 'B'), ('RaN', 'ran'))\n",
    "L = len(alphabets)\n",
    "print('Length of Tuple is', L)\n",
    "\n",
    "L_nested = len(alphabets[0])\n",
    "print('Length of nested tuple is', L_nested)"
   ]
  },
  {
   "cell_type": "code",
   "execution_count": 20,
   "id": "ce24073b-383f-4874-a6b8-68b0a7aa3998",
   "metadata": {},
   "outputs": [
    {
     "name": "stdout",
     "output_type": "stream",
     "text": [
      "Length of Tuple is :  5\n"
     ]
    }
   ],
   "source": [
    "alphabets = (('R', 'A', 'N'), ('r', 'f', 'k'),('r', 'g', 'r'), 'RaN', 'ran')\n",
    "print('Length of Tuple is : ', len(alphabets))"
   ]
  },
  {
   "cell_type": "code",
   "execution_count": 10,
   "id": "98d2efdb-7ee9-4e8a-8ad0-d215c0c4500d",
   "metadata": {},
   "outputs": [
    {
     "name": "stdout",
     "output_type": "stream",
     "text": [
      "4\n",
      "<class 'str'>\n"
     ]
    }
   ],
   "source": [
    "mixed_tuple = ('apple', 3, True, 2.5)\n",
    "print(len(mixed_tuple))\n",
    "\n",
    "print(type(mixed_tuple[0]))"
   ]
  },
  {
   "cell_type": "markdown",
   "id": "11422e91-c50e-4d68-89cf-1023e022359f",
   "metadata": {},
   "source": [
    "#  ⮩ Tuple Items - __Data Types__\n",
    "### _Tuple items can be of any data type :_"
   ]
  },
  {
   "cell_type": "code",
   "execution_count": 36,
   "id": "e507d551-0c48-430c-b352-fe6040ead09c",
   "metadata": {},
   "outputs": [
    {
     "name": "stdout",
     "output_type": "stream",
     "text": [
      "(10, 20, 30)\n",
      "<class 'tuple'>\n"
     ]
    }
   ],
   "source": [
    "tup = (10, 20, 30) \n",
    "print(tup)\n",
    "print(type(tup))"
   ]
  },
  {
   "cell_type": "code",
   "execution_count": 16,
   "id": "b8a9fce3-763f-4f37-9000-043dcc3bfa0d",
   "metadata": {},
   "outputs": [
    {
     "name": "stdout",
     "output_type": "stream",
     "text": [
      "('apple', 'banana', 'cherry')\n",
      "<class 'tuple'>\n",
      "<class 'tuple'>\n",
      "<class 'tuple'>\n",
      "<class 'tuple'>\n"
     ]
    }
   ],
   "source": [
    "tup1 = (\"apple\", \"banana\", \"cherry\")\n",
    "tup2 = (1, 5, 7, 9, 3)\n",
    "tup3 = (True, False, False)\n",
    "tup4 = (23.45, 4.56, 5+7j)\n",
    "\n",
    "print(tup1)\n",
    "print(type(tup1))\n",
    "print(type(tup2))\n",
    "print(type(tup3))\n",
    "print(type(tup4))"
   ]
  },
  {
   "cell_type": "code",
   "execution_count": 16,
   "id": "50c6b97e-9c7c-41e2-988d-f6f65d301d83",
   "metadata": {},
   "outputs": [
    {
     "name": "stdout",
     "output_type": "stream",
     "text": [
      "<class 'tuple'>\n"
     ]
    }
   ],
   "source": [
    "mytuple = (\"apple\", \"banana\", \"cherry\")\n",
    "print(type(mytuple))"
   ]
  },
  {
   "cell_type": "markdown",
   "id": "c786d3ba-81fe-46f8-b580-750a5f7ee5e7",
   "metadata": {},
   "source": [
    "# Creating a __Tuple with Mixed Datatypes__."
   ]
  },
  {
   "cell_type": "code",
   "execution_count": 18,
   "id": "8e428beb-68d6-4fd3-86ad-dba4ef83559f",
   "metadata": {},
   "outputs": [
    {
     "name": "stdout",
     "output_type": "stream",
     "text": [
      "('abc', 34, True, 40, 'male')\n"
     ]
    }
   ],
   "source": [
    "                                          # Multiple Data Types \n",
    "tpl = (\"abc\", 34, True, 40, \"male\")\n",
    "print(tpl)"
   ]
  },
  {
   "cell_type": "code",
   "execution_count": 19,
   "id": "26c9f935-405f-4b71-a944-3c5764a7114b",
   "metadata": {},
   "outputs": [
    {
     "name": "stdout",
     "output_type": "stream",
     "text": [
      "11\n",
      "<class 'tuple'>\n"
     ]
    }
   ],
   "source": [
    "tup3 = (34,5.4,65,67,87,9.8,6.6,True, \"Hello\", 5+6j, False)\n",
    "print(len(tup3))\n",
    "print(type(tup3))"
   ]
  },
  {
   "cell_type": "code",
   "execution_count": 59,
   "id": "e55cb789-cbee-45a2-aa74-5554069e4302",
   "metadata": {},
   "outputs": [
    {
     "name": "stdout",
     "output_type": "stream",
     "text": [
      "(1, 'Hello', 4.6)\n"
     ]
    }
   ],
   "source": [
    "my_tuple = (1,\"Hello\", 4.6)\n",
    "print(my_tuple)"
   ]
  },
  {
   "cell_type": "code",
   "execution_count": 16,
   "id": "d0e13f54-67ef-466d-8d2d-a63821a577af",
   "metadata": {},
   "outputs": [
    {
     "name": "stdout",
     "output_type": "stream",
     "text": [
      "(5, 'Welcome', 7, 'Home')\n",
      "('ranvijay', 'ranvijay', 'ranvijay')\n",
      "<class 'tuple'>\n"
     ]
    }
   ],
   "source": [
    "tup = (5, 'Welcome', 7, 'Home')\n",
    "print(tup)\n",
    "\n",
    "                    # Creating a Tuple with repetition\n",
    "\n",
    "tup1 = ('ranvijay',) * 3\n",
    "print(tup1)\n",
    "print(type(tup1))"
   ]
  },
  {
   "cell_type": "code",
   "execution_count": 25,
   "id": "34fbdd13-ffba-45a5-8852-093807afe0c9",
   "metadata": {},
   "outputs": [
    {
     "name": "stdout",
     "output_type": "stream",
     "text": [
      "((((('jupyter notebook',),),),),)\n"
     ]
    }
   ],
   "source": [
    "                                     # Creating a Tuple with the use of loop\n",
    "tup = ('jupyter notebook')\n",
    "n = 5\n",
    "for i in range(n):\n",
    "    tup = (tup,)\n",
    "print(tup)"
   ]
  },
  {
   "cell_type": "markdown",
   "id": "91a30305-8ab2-4cfe-8d5f-3eb91df6f389",
   "metadata": {},
   "source": [
    "# ➩ __Nested Tuples__\n",
    "#### Tuple inside Tuples"
   ]
  },
  {
   "cell_type": "code",
   "execution_count": 21,
   "id": "8c88d340-b0e5-4da1-9e4a-4fbeeda5d43a",
   "metadata": {},
   "outputs": [
    {
     "name": "stdout",
     "output_type": "stream",
     "text": [
      "('mouse', 2.4, 3.0, (10, 20, True), 'Vijay', 20.3)\n",
      "<class 'tuple'>\n"
     ]
    }
   ],
   "source": [
    "a = (\"mouse\", 2.4,3.00, (10,20,True), \"Vijay\",20.3)\n",
    "print(a)\n",
    "print(type(a))"
   ]
  },
  {
   "cell_type": "code",
   "execution_count": 22,
   "id": "a0551dbf-1065-4ff4-a09e-53f155c8e4d3",
   "metadata": {},
   "outputs": [
    {
     "name": "stdout",
     "output_type": "stream",
     "text": [
      "((0, 1, 2, 3), ('python', 'coding'))\n",
      "<class 'tuple'>\n"
     ]
    }
   ],
   "source": [
    "tup1 = (0, 1, 2, 3)\n",
    "tup2 = ('python', 'coding')\n",
    "tup3 = (tup1, tup2)\n",
    "print(tup3)\n",
    "print(type(tup3))"
   ]
  },
  {
   "cell_type": "code",
   "execution_count": 17,
   "id": "84717e62-a516-41b3-8d39-b80343e3c9b7",
   "metadata": {},
   "outputs": [
    {
     "name": "stdout",
     "output_type": "stream",
     "text": [
      "([23, 34, 45, 43], [12, 34, 6.7], [45, 65, 78], [3, 4, 5, 6, 7, 8], 'Ranvijay')\n",
      "<class 'tuple'>\n"
     ]
    }
   ],
   "source": [
    "mytup = ([ 23,34,45,43], [12,34,6.7],[ 45,65,78],[3,4,5,6,7,8], \"Ranvijay\")\n",
    "print(mytup)\n",
    "print(type(mytup))"
   ]
  },
  {
   "cell_type": "code",
   "execution_count": 23,
   "id": "bb5f88c1-8088-4121-ae70-38d84190ffd5",
   "metadata": {},
   "outputs": [
    {
     "name": "stdout",
     "output_type": "stream",
     "text": [
      "((0, 1, 2, 3), ('Ranvijay', 'Chauhan'))\n"
     ]
    }
   ],
   "source": [
    "tup1 = (0, 1, 2, 3)\n",
    "tup2 = ('Ranvijay', 'Chauhan')\n",
    "\n",
    "tup3 = (tup1, tup2)\n",
    "print(tup3)"
   ]
  },
  {
   "cell_type": "markdown",
   "id": "d18ded45-f321-405f-95ad-5c0b8bfa3914",
   "metadata": {},
   "source": [
    "# ➩➩ __Access Tuple Items__\n",
    "##  Access Tuple using a __Positive Indexing__\n",
    "\n",
    "### _You can access tuple items by referring to the index number , inside square brackets :_"
   ]
  },
  {
   "cell_type": "code",
   "execution_count": 24,
   "id": "02cd4d5d-219f-49a9-a379-59d47cda09f1",
   "metadata": {},
   "outputs": [
    {
     "name": "stdout",
     "output_type": "stream",
     "text": [
      "banana\n",
      "cherry\n"
     ]
    }
   ],
   "source": [
    "tup = (\"apple\", \"banana\", \"cherry\")\n",
    "print(tup[1])\n",
    "print(tup[2])"
   ]
  },
  {
   "cell_type": "code",
   "execution_count": 26,
   "id": "5b2e2bc7-73cc-4acc-8aa7-39c8253d1754",
   "metadata": {},
   "outputs": [
    {
     "name": "stdout",
     "output_type": "stream",
     "text": [
      "90\n",
      "89\n",
      "(5+6j)\n",
      "<class 'complex'>\n"
     ]
    }
   ],
   "source": [
    "d = (45,56,67,78,89,90,98,87,76, 5+6j, 8+3j)\n",
    "print(d[5])\n",
    "print(d[4])\n",
    "print(d[9])\n",
    "\n",
    "print(type(d[9]))"
   ]
  },
  {
   "cell_type": "code",
   "execution_count": 30,
   "id": "c8d22654-1ef3-48c5-93d0-75ac2ab5718e",
   "metadata": {},
   "outputs": [
    {
     "name": "stdout",
     "output_type": "stream",
     "text": [
      "R\n"
     ]
    }
   ],
   "source": [
    "tup = tuple(\"Ranvijay\")\n",
    "print(tup[0])"
   ]
  },
  {
   "cell_type": "code",
   "execution_count": 31,
   "id": "67130412-09f5-4a34-b106-2cbbca2ef587",
   "metadata": {},
   "outputs": [
    {
     "name": "stdout",
     "output_type": "stream",
     "text": [
      "j\n"
     ]
    }
   ],
   "source": [
    "tup = tuple(\"Ranvijay\")\n",
    "print(tup[5])"
   ]
  },
  {
   "cell_type": "code",
   "execution_count": 32,
   "id": "811f9de2-1ef9-4657-a9a7-bd76844a0f6a",
   "metadata": {},
   "outputs": [
    {
     "name": "stdout",
     "output_type": "stream",
     "text": [
      "4\n"
     ]
    }
   ],
   "source": [
    "tup = tuple(\"654267557\")\n",
    "print(tup[2])"
   ]
  },
  {
   "cell_type": "code",
   "execution_count": 25,
   "id": "127042df-2918-4850-8b7a-a49b92d60a6d",
   "metadata": {},
   "outputs": [
    {
     "name": "stdout",
     "output_type": "stream",
     "text": [
      "Value in tup[0] =  10\n",
      "Value in tup[1] =  5\n",
      "Value in tup[2] =  20\n"
     ]
    }
   ],
   "source": [
    "tup = (10, 5, 20)\n",
    "\n",
    "print(\"Value in tup[0] = \", tup[0])\n",
    "print(\"Value in tup[1] = \", tup[1])\n",
    "print(\"Value in tup[2] = \", tup[2])"
   ]
  },
  {
   "cell_type": "markdown",
   "id": "b75e410c-78d0-4aa1-b344-65564445a9d3",
   "metadata": {},
   "source": [
    "# Access Tuple using __Negative Indexing__\n",
    "## Negative indexing means start from the end.\n",
    "\n",
    "### _-1 refers to the last item, -2 refers to the second last item etc._"
   ]
  },
  {
   "cell_type": "code",
   "execution_count": 18,
   "id": "3304b14b-c8e7-4a2f-9fbc-7d5831fdea7c",
   "metadata": {},
   "outputs": [
    {
     "name": "stdout",
     "output_type": "stream",
     "text": [
      "cherry\n"
     ]
    }
   ],
   "source": [
    "thistuple = (\"apple\", \"banana\", \"cherry\")\n",
    "print(thistuple[-1])"
   ]
  },
  {
   "cell_type": "code",
   "execution_count": 40,
   "id": "3c35fff6-8c14-4dc6-b54b-76771e3aa1f0",
   "metadata": {},
   "outputs": [
    {
     "name": "stdout",
     "output_type": "stream",
     "text": [
      "Value in tup[-1] =  20\n",
      "Value in tup[-2] =  5\n",
      "Value in tup[-3] =  10\n"
     ]
    }
   ],
   "source": [
    "tup = (10, 5, 20)\n",
    "\n",
    "print(\"Value in tup[-1] = \", tup[-1])\n",
    "print(\"Value in tup[-2] = \", tup[-2])\n",
    "print(\"Value in tup[-3] = \", tup[-3])"
   ]
  },
  {
   "cell_type": "markdown",
   "id": "38cbb538-5769-4e02-a86f-a85e93005901",
   "metadata": {},
   "source": [
    "# ➩ __Range of Indexes__\n",
    "#### _You can specify a range of indexes by specifying where to start and where to end the range._\n",
    "#### _When specifying a range , the return value will be a new tuple with the specified items._\n",
    "\n",
    "# __Positive Slicing__"
   ]
  },
  {
   "cell_type": "code",
   "execution_count": 26,
   "id": "ca9cb005-9b3d-4289-b303-2b74b3a877cf",
   "metadata": {},
   "outputs": [
    {
     "name": "stdout",
     "output_type": "stream",
     "text": [
      "11\n",
      "(6.6, True, 'Hello', (5+6j))\n"
     ]
    }
   ],
   "source": [
    "tup3 = (34,5.4,65,67,87,9.8,6.6,True, \"Hello\", 5+6j, False)\n",
    "print(len(tup3))\n",
    "print(tup3[6:10])"
   ]
  },
  {
   "cell_type": "code",
   "execution_count": 27,
   "id": "f45da987-3b0a-4dc3-be35-8054c4e45530",
   "metadata": {},
   "outputs": [
    {
     "name": "stdout",
     "output_type": "stream",
     "text": [
      "7\n",
      "('cherry', 'orange', 'kiwi')\n"
     ]
    }
   ],
   "source": [
    "tup = (\"apple\", \"banana\", \"cherry\", \"orange\", \"kiwi\", \"melon\", \"mango\")\n",
    "print(len(tup))\n",
    "print(tup[2:5])"
   ]
  },
  {
   "cell_type": "code",
   "execution_count": 28,
   "id": "efebbdef-49e2-46e0-92bb-ee46a9e7d196",
   "metadata": {},
   "outputs": [
    {
     "name": "stdout",
     "output_type": "stream",
     "text": [
      "7\n",
      "('apple', 'banana', 'cherry', 'orange')\n"
     ]
    }
   ],
   "source": [
    "thistuple = (\"apple\", \"banana\", \"cherry\", \"orange\", \"kiwi\", \"melon\", \"mango\")\n",
    "print(len(thistuple))\n",
    "print(thistuple[:4])"
   ]
  },
  {
   "cell_type": "code",
   "execution_count": 44,
   "id": "8395f0c3-63d3-48e0-b27d-ad4d2bfc8826",
   "metadata": {},
   "outputs": [
    {
     "name": "stdout",
     "output_type": "stream",
     "text": [
      "('cherry', 'orange', 'kiwi', 'melon', 'mango')\n"
     ]
    }
   ],
   "source": [
    "tup = (\"apple\", \"banana\", \"cherry\", \"orange\", \"kiwi\", \"melon\", \"mango\")\n",
    "print(tup[2:])"
   ]
  },
  {
   "cell_type": "code",
   "execution_count": 29,
   "id": "5cdfebe8-da8b-49ee-81a2-63a470ac91a0",
   "metadata": {},
   "outputs": [
    {
     "name": "stdout",
     "output_type": "stream",
     "text": [
      "('a', 'n', 'v')\n",
      "('R', 'a', 'n')\n"
     ]
    }
   ],
   "source": [
    "tup = tuple(\"Ranvijay\")\n",
    "\n",
    "print(tup[1:4])  \n",
    "print(tup[:3])"
   ]
  },
  {
   "cell_type": "code",
   "execution_count": 49,
   "id": "f3c81568-1e19-4340-aa64-7698137258ab",
   "metadata": {},
   "outputs": [
    {
     "name": "stdout",
     "output_type": "stream",
     "text": [
      "(45, 7, 89, 90, 98, 8, 7, 6)\n",
      "(34, 45, 7, 89, 90, 98, 8, 7, 6)\n",
      "(7, 89)\n"
     ]
    }
   ],
   "source": [
    "tup = (34,45,7,89,90,98,8,7,6)\n",
    "\n",
    "print(tup[1:])\n",
    "print(tup[::1])\n",
    "print(tup[2:4])"
   ]
  },
  {
   "cell_type": "code",
   "execution_count": 29,
   "id": "a8ed2636-cef2-4556-8aac-cf743f1dd1e3",
   "metadata": {},
   "outputs": [
    {
     "name": "stdout",
     "output_type": "stream",
     "text": [
      "('a', 'b', 'c', 'd')\n",
      "('b', 'c', 'd')\n",
      "('a', 'b', 'c', 'd', 'e', 'f', 'g', 'h')\n",
      "('a', 'c', 'e', 'g')\n",
      "('e', 'f', 'g', 'h')\n"
     ]
    }
   ],
   "source": [
    "my_tup = ('a','b','c','d','e','f','g','h')\n",
    "\n",
    "print(my_tup[:4])\n",
    "print(my_tup[1:4])\n",
    "print(my_tup[:])\n",
    "print(my_tup[::2])\n",
    "print(my_tup[4::])"
   ]
  },
  {
   "cell_type": "markdown",
   "id": "7bb193a1-dd2d-42d2-8aa1-c3fb7b2b4bcd",
   "metadata": {},
   "source": [
    "# __Negative Slicing__\n",
    "### _Specify negative indexes if you want to start the search from the end of the tuple:_\n"
   ]
  },
  {
   "cell_type": "code",
   "execution_count": 24,
   "id": "0fd83236-aabf-4764-be0c-d90b23a6323e",
   "metadata": {},
   "outputs": [
    {
     "name": "stdout",
     "output_type": "stream",
     "text": [
      "('orange', 'kiwi', 'melon')\n"
     ]
    }
   ],
   "source": [
    "thistuple = (\"apple\", \"banana\", \"cherry\", \"orange\", \"kiwi\", \"melon\", \"mango\")\n",
    "print(thistuple[-4:-1])"
   ]
  },
  {
   "cell_type": "code",
   "execution_count": 47,
   "id": "5f41434d-2c55-42c1-8589-379e65205e89",
   "metadata": {},
   "outputs": [
    {
     "name": "stdout",
     "output_type": "stream",
     "text": [
      "(90,)\n",
      "(23, 32, 45, 65, 67, 87, 98)\n",
      "(90, 98, 87, 67, 65, 45, 32, 23)\n",
      "(65, 67, 87)\n"
     ]
    }
   ],
   "source": [
    "tup = (23,32,45,65,67,87,98,90)\n",
    "\n",
    "print(tup[-1:])\n",
    "print(tup[:-1])\n",
    "print(tup[::-1])\n",
    "print(tup[-5:-2])"
   ]
  },
  {
   "cell_type": "code",
   "execution_count": 30,
   "id": "f8cc8fa3-e975-4d1f-ae66-7148ee6f2fba",
   "metadata": {},
   "outputs": [
    {
     "name": "stdout",
     "output_type": "stream",
     "text": [
      "('apple', 'banana', 'cherry', 'orange', 'kiwi', 'melon')\n",
      "('apple', 'banana', 'cherry')\n",
      "('cherry', 'orange', 'kiwi')\n"
     ]
    }
   ],
   "source": [
    "fruits = (\"apple\", \"banana\", \"cherry\",\"orange\", \"kiwi\", \"melon\", \"mango\")\n",
    "\n",
    "print(fruits[:-1])\n",
    "print(fruits[:-4])\n",
    "print(fruits[-5:-2])"
   ]
  },
  {
   "cell_type": "code",
   "execution_count": 31,
   "id": "5fca35ce-175a-4576-b5e5-999f60ea0694",
   "metadata": {},
   "outputs": [
    {
     "name": "stdout",
     "output_type": "stream",
     "text": [
      "9    :   <class 'tuple'>\n",
      "(9, 8, 6.6, True, 'Hello', (5+6j), False, 'Ranvijay', '67.67.9')\n",
      "(True, 'Hello', (5+6j), False, 'Ranvijay', '67.67.9')\n",
      "(9, 8, 6.6, True)\n",
      "()\n"
     ]
    }
   ],
   "source": [
    "tup4 = (9,8,6.6,True, \"Hello\", 5+6j, False, (\"Ranvijay\"), '67.67.9')\n",
    "\n",
    "print(len(tup4),  \"   :  \", type(tup4))\n",
    "print(tup4[::])\n",
    "print(tup4[3:])\n",
    "print(tup4[:4])\n",
    "print(tup4[-2 :-5 ])"
   ]
  },
  {
   "cell_type": "markdown",
   "id": "8cf98bd6-a47b-4308-9da8-bbe983955aae",
   "metadata": {},
   "source": [
    "# Reversing the tuple"
   ]
  },
  {
   "cell_type": "code",
   "execution_count": 32,
   "id": "4a1cc6b6-deb5-4b84-935a-323ad25e3a2e",
   "metadata": {},
   "outputs": [
    {
     "name": "stdout",
     "output_type": "stream",
     "text": [
      "(5, 4, 3, 2, 1)\n"
     ]
    }
   ],
   "source": [
    "t = (1, 2, 3, 4, 5)            # Reverse the tuple using slicing with a step of -1\n",
    "rev = t[::-1]\n",
    "print(rev)"
   ]
  },
  {
   "cell_type": "code",
   "execution_count": 33,
   "id": "2cc8d8b2-eb88-4dc5-9fb0-14c03143373a",
   "metadata": {},
   "outputs": [
    {
     "name": "stdout",
     "output_type": "stream",
     "text": [
      "(87, 29, 58, 65, 34, 45, 65, 98, 7, 56, 43)\n",
      "(43, 56, 7, 98, 65, 45, 34)\n",
      "(98, 65, 45, 34, 65, 58, 29, 87)\n",
      "(29,)\n"
     ]
    }
   ],
   "source": [
    "a = (43,56,7,98,65,45,34,65,58,29,87)\n",
    "\n",
    "print(a[::-1])\n",
    "print(a[:-4])\n",
    "print(a[3:])\n",
    "print(a[-2:-1])"
   ]
  },
  {
   "cell_type": "code",
   "execution_count": 33,
   "id": "66affa6d-eafa-4e33-9515-8ba90bb486be",
   "metadata": {},
   "outputs": [
    {
     "name": "stdout",
     "output_type": "stream",
     "text": [
      "(5, 4, 3, 2, 1)\n"
     ]
    }
   ],
   "source": [
    "t = (1, 2, 3, 4, 5)          # Converting back to a Tuple\n",
    "rev = tuple(reversed(t))\n",
    "print(rev)"
   ]
  },
  {
   "cell_type": "code",
   "execution_count": 34,
   "id": "ea993f82-7dd5-48d3-bf0c-6fb69b8c4262",
   "metadata": {},
   "outputs": [
    {
     "name": "stdout",
     "output_type": "stream",
     "text": [
      "(5, 4, 3, 2, 1)\n"
     ]
    }
   ],
   "source": [
    "t = (1, 2, 3, 4, 5)  \n",
    "                           # Reverse the tuple by iterating through the indices in reverse order\n",
    "rev = tuple(t[i] for i in range(len(t) - 1, -1, -1))\n",
    "print(rev)"
   ]
  },
  {
   "cell_type": "markdown",
   "id": "735f4f2f-972c-4959-b176-c5aa2b38e2e2",
   "metadata": {},
   "source": [
    "# ⮩ Check if Item present in a tuple\n",
    "### _To determine if a specified item is present in a tuple use the __in keyword__:_"
   ]
  },
  {
   "cell_type": "code",
   "execution_count": 45,
   "id": "a37c5f3a-7b40-4491-a444-82293c01ba43",
   "metadata": {},
   "outputs": [
    {
     "name": "stdout",
     "output_type": "stream",
     "text": [
      "Yes, 'apple' is in the fruits tuple\n"
     ]
    }
   ],
   "source": [
    "tup1 = (\"apple\", \"banana\", \"cherry\")\n",
    "if \"apple\" in tup1:\n",
    "  print(\"Yes, 'apple' is in the fruits tuple\")\n"
   ]
  },
  {
   "cell_type": "markdown",
   "id": "f2ed409c-bda4-45fe-a751-c7e7416e11fd",
   "metadata": {},
   "source": [
    "# ➩➩ __Update Tuples__\n",
    "### _Tuples are unchangeable , meaning that you cannot change , add , or remove items once the tuple is created._\n",
    "### _But there are some workarounds._\n",
    "# Change Tuple Values\n",
    "#### _Once a tuple is created, you cannot change its values. Tuples are unchangeable, or immutable as it also is called._      \n",
    "#### _But there is a workaround. You can convert the tuple into a list, change the list, and convert the list back into a tuple._"
   ]
  },
  {
   "cell_type": "code",
   "execution_count": 34,
   "id": "49a19297-6b9b-4d95-b002-0ecbc808b36b",
   "metadata": {},
   "outputs": [
    {
     "name": "stdout",
     "output_type": "stream",
     "text": [
      "(0, 1, 2)\n"
     ]
    }
   ],
   "source": [
    "a = [0, 1, 2]\n",
    "tup = tuple(a)\n",
    "\n",
    "print(tup)"
   ]
  },
  {
   "cell_type": "code",
   "execution_count": 35,
   "id": "44cc67d4-0483-4d38-8650-b9cb163c33ed",
   "metadata": {},
   "outputs": [
    {
     "name": "stdout",
     "output_type": "stream",
     "text": [
      "['apple', 'kiwi', 'cherry']\n",
      "('apple', 'kiwi', 'cherry')\n"
     ]
    }
   ],
   "source": [
    "x = (\"apple\", \"banana\", \"cherry\")\n",
    "y = list(x)\n",
    "y[1] = \"kiwi\"\n",
    "\n",
    "print(y)\n",
    "print(tuple(y))"
   ]
  },
  {
   "cell_type": "markdown",
   "id": "f14ce05c-015c-41b0-812a-2d85628838f8",
   "metadata": {},
   "source": [
    "# ➩➩ Unchangeable == immutable\n",
    "### _Tuples are unchangeable , meaning that we cannot change , add or remove items after the tuple has been created._   "
   ]
  },
  {
   "cell_type": "markdown",
   "id": "0a391db8-54b8-441c-a69d-e5366e47e46c",
   "metadata": {},
   "source": [
    "## 1. Converting string into tuple\n",
    "#### _The tuple() constructor can be directly applied to a string, which is an iterable. This will create a tuple where each character of the string becomes a separate element._"
   ]
  },
  {
   "cell_type": "code",
   "execution_count": 36,
   "id": "491fd13e-8ef5-447f-9133-1c5772cc43b5",
   "metadata": {},
   "outputs": [
    {
     "name": "stdout",
     "output_type": "stream",
     "text": [
      "hello\n",
      "<class 'str'>\n"
     ]
    }
   ],
   "source": [
    "my_string = \"hello\"\n",
    "my_tuple = (my_string)\n",
    "\n",
    "print(my_tuple)\n",
    "print(type(my_tuple))"
   ]
  },
  {
   "cell_type": "code",
   "execution_count": 41,
   "id": "23441b67-5d9d-4096-9fa1-d476b272f0a4",
   "metadata": {},
   "outputs": [
    {
     "name": "stdout",
     "output_type": "stream",
     "text": [
      "('s', 'i', 'n', 'g', 'l', 'e', ' ', 'e', 'l', 'e', 'm', 'e', 'n', 't')\n",
      "<class 'tuple'>\n"
     ]
    }
   ],
   "source": [
    "my_string = \"single element\"\n",
    "my_tuple = tuple(my_string,)  \n",
    "\n",
    "print(my_tuple)\n",
    "print(type(my_tuple))"
   ]
  },
  {
   "cell_type": "code",
   "execution_count": 42,
   "id": "76328d2a-57ab-41f1-a4ed-883edf07242b",
   "metadata": {},
   "outputs": [
    {
     "name": "stdout",
     "output_type": "stream",
     "text": [
      "['apple', 'banana', 'cherry']\n",
      "('apple', 'banana', 'cherry')\n"
     ]
    }
   ],
   "source": [
    "data_string = \"apple,banana,cherry\"\n",
    "list_of_items = data_string.split(',')\n",
    "tuple_of_items = (list_of_items)\n",
    "\n",
    "print(tuple_of_items)\n",
    "print(tuple(tuple_of_items))"
   ]
  },
  {
   "cell_type": "code",
   "execution_count": 43,
   "id": "a78757cc-7de6-4af7-8507-6d00db6bb437",
   "metadata": {},
   "outputs": [
    {
     "name": "stdout",
     "output_type": "stream",
     "text": [
      "Hello\n",
      "<class 'str'>\n",
      "('H', 'e', 'l', 'l', 'o')\n",
      "<class 'tuple'>\n"
     ]
    }
   ],
   "source": [
    "string = \"Hello\"\n",
    "print(string)\n",
    "print(type(string))\n",
    "\n",
    "num = tuple(string)\n",
    "print(num)\n",
    "print(type(num))"
   ]
  },
  {
   "cell_type": "markdown",
   "id": "55b27115-905c-4de9-8e80-cf37a1677391",
   "metadata": {},
   "source": [
    "## 2. Converting list into tuple :\n",
    "#### _you can convert it into a list, add your item(s), and convert it back into a tuple._"
   ]
  },
  {
   "cell_type": "code",
   "execution_count": 44,
   "id": "526e45f8-d225-4a4c-b450-540978ea9ed5",
   "metadata": {},
   "outputs": [
    {
     "name": "stdout",
     "output_type": "stream",
     "text": [
      "[5, 6, 7, 8, 9, 3]\n",
      "<class 'list'>\n",
      "(5, 6, 7, 8, 9, 3)\n",
      "<class 'tuple'>\n"
     ]
    }
   ],
   "source": [
    "lis = [5,6,7,8,9,3]\n",
    "print(lis)\n",
    "print(type(lis))\n",
    "\n",
    "number = tuple(lis)  \n",
    "print(number)\n",
    "print(type(number))"
   ]
  },
  {
   "cell_type": "code",
   "execution_count": 45,
   "id": "bd41b191-e064-4753-a3e1-2951ca9d03aa",
   "metadata": {},
   "outputs": [
    {
     "name": "stdout",
     "output_type": "stream",
     "text": [
      "('data', 'science', 'python', 'coding')\n"
     ]
    }
   ],
   "source": [
    "x = (\"data\", \"analyst\",\"python\",\"coding\")\n",
    "y = list(x)\n",
    "y[1] = \"science\"\n",
    "\n",
    "x = tuple(y) \n",
    "print(x)"
   ]
  },
  {
   "cell_type": "markdown",
   "id": "e2db80e2-61c5-4837-bf6e-a5494c681447",
   "metadata": {},
   "source": [
    "## 3. Converting tuple to a tuple : \n",
    "#### _You are allowed to convert  a original tuple with a new tuple._"
   ]
  },
  {
   "cell_type": "code",
   "execution_count": 46,
   "id": "0d7e463a-0abe-47da-93c5-e08cfb800511",
   "metadata": {},
   "outputs": [
    {
     "name": "stdout",
     "output_type": "stream",
     "text": [
      "Original tuple : (1, 2, 3, 'a', 'bc')\n",
      "New tuple : (1, 2, 3, 'a', 'bc')\n",
      "Are they the same object?  : True\n"
     ]
    }
   ],
   "source": [
    "original_tuple = (1, 2, 3, 'a', 'b' 'c')\n",
    "\n",
    "                                    # Convert the original tuple into a new tuple\n",
    "new_tuple = tuple(original_tuple)\n",
    "\n",
    "print(f\"Original tuple : {original_tuple}\")\n",
    "print(f\"New tuple : {new_tuple}\")\n",
    "\n",
    "print(f\"Are they the same object?  : {original_tuple is new_tuple}\")"
   ]
  },
  {
   "cell_type": "markdown",
   "id": "bfedb23c-6c4e-4b4e-9327-5a554fcdd660",
   "metadata": {},
   "source": [
    "## 4. Converting a set into tuple"
   ]
  },
  {
   "cell_type": "code",
   "execution_count": 48,
   "id": "a93a3534-feac-4b0f-9297-fcb08d96d850",
   "metadata": {},
   "outputs": [
    {
     "name": "stdout",
     "output_type": "stream",
     "text": [
      "(1, 2, 3, 4, 5, 6, 7, 8, 9)\n",
      "<class 'tuple'>\n"
     ]
    }
   ],
   "source": [
    "set1 =  {1,3,5,7,9,2,4,6,8}\n",
    "tup1 = tuple(set1)\n",
    "\n",
    "print(tup1)\n",
    "print(type(tup1))"
   ]
  },
  {
   "cell_type": "code",
   "execution_count": 16,
   "id": "a523146c-886b-4bff-a6bb-58fad06665cd",
   "metadata": {},
   "outputs": [
    {
     "name": "stdout",
     "output_type": "stream",
     "text": [
      "Original set : {1, 2, 3, 'b', 'a'}\n",
      "Converted tuple : (1, 2, 3, 'b', 'a')\n",
      "Type of converted object : <class 'tuple'>\n"
     ]
    }
   ],
   "source": [
    "my_set = {1, 2, 3, 'a', 'b'}\n",
    "my_tuple = tuple(my_set)\n",
    "\n",
    "print(f\"Original set : {my_set}\")\n",
    "print(f\"Converted tuple : {my_tuple}\")\n",
    "print(f\"Type of converted object : {type(my_tuple)}\")"
   ]
  },
  {
   "cell_type": "code",
   "execution_count": 49,
   "id": "8d8fcb44-17a5-422c-8c42-c20217b909db",
   "metadata": {},
   "outputs": [
    {
     "name": "stdout",
     "output_type": "stream",
     "text": [
      "('d', 'b', 'e', 'a', 'c')\n"
     ]
    }
   ],
   "source": [
    "s = {'a', 'b', 'c', 'd', 'e'} \n",
    "x = [i for i in s]\n",
    "print(tuple(x))"
   ]
  },
  {
   "cell_type": "code",
   "execution_count": 54,
   "id": "78b7020a-539e-466b-80fc-3c17e3b6dcef",
   "metadata": {},
   "outputs": [
    {
     "name": "stdout",
     "output_type": "stream",
     "text": [
      "('d',)\n",
      "('b',)\n",
      "('e',)\n",
      "('a',)\n",
      "('c',)\n"
     ]
    }
   ],
   "source": [
    "s = {'a', 'b', 'c', 'd', 'e'} \n",
    "for i in s:\n",
    "      print(tuple(i))"
   ]
  },
  {
   "cell_type": "markdown",
   "id": "6b43ff7f-5f5a-4e30-981f-4b36aa2b704d",
   "metadata": {},
   "source": [
    "## 5. Converting a dictionary into tuple"
   ]
  },
  {
   "cell_type": "code",
   "execution_count": 57,
   "id": "f9a62e7b-4e89-439c-8d23-2501235804d4",
   "metadata": {},
   "outputs": [
    {
     "name": "stdout",
     "output_type": "stream",
     "text": [
      "{'a': 1, 'b': 2, 'c': 3} <class 'dict'>\n",
      "('a', 'b', 'c') <class 'tuple'>\n"
     ]
    }
   ],
   "source": [
    "dict1 = {'a':1, 'b':2, 'c':3}\n",
    "print(dict1, type(dict1))\n",
    "\n",
    "tup = tuple(dict1)\n",
    "print(tup, type(tup))"
   ]
  },
  {
   "cell_type": "code",
   "execution_count": 27,
   "id": "f389f07b-ca4d-4093-ba24-0f6b37ddda1c",
   "metadata": {},
   "outputs": [
    {
     "name": "stdout",
     "output_type": "stream",
     "text": [
      "('name', 'age', 'city')\n"
     ]
    }
   ],
   "source": [
    "my_dict = {'name': 'Alice', 'age': 30, 'city': 'New York'}\n",
    "\n",
    "keys_tuple = tuple(my_dict.keys())\n",
    "print(keys_tuple)"
   ]
  },
  {
   "cell_type": "code",
   "execution_count": 26,
   "id": "63b4ec21-c716-4cd1-a2d4-199b3be0d0d0",
   "metadata": {},
   "outputs": [
    {
     "name": "stdout",
     "output_type": "stream",
     "text": [
      "('Alice', 30, 'New York')\n"
     ]
    }
   ],
   "source": [
    "my_dict = {'name': 'Alice', 'age': 30, 'city': 'New York'}\n",
    "values_tuple = tuple(my_dict.values())\n",
    "print(values_tuple)"
   ]
  },
  {
   "cell_type": "code",
   "execution_count": 25,
   "id": "6e9c5152-e19a-4636-b9e2-abcfafa173e7",
   "metadata": {},
   "outputs": [
    {
     "name": "stdout",
     "output_type": "stream",
     "text": [
      "(('name', 'Alice'), ('age', 30), ('city', 'New York'))\n"
     ]
    }
   ],
   "source": [
    "my_dict = {'name': 'Alice', 'age': 30, 'city': 'New York'}\n",
    "items_tuple = tuple(my_dict.items())\n",
    "print(items_tuple)"
   ]
  },
  {
   "cell_type": "markdown",
   "id": "97a5cfa1-4945-4ccb-a9c9-fb6725342b45",
   "metadata": {},
   "source": [
    "# ➩ __Add Items__\n",
    "### ⮩  _Since tuples are immutable, they __do not have a built-in append() method__, but there are other ways to add items to a tuple._"
   ]
  },
  {
   "cell_type": "code",
   "execution_count": 58,
   "id": "39d6d8f4-3717-43e4-ae77-dbc1cb77521e",
   "metadata": {},
   "outputs": [
    {
     "name": "stdout",
     "output_type": "stream",
     "text": [
      "('apple', 'banana', 'cherry', 'orange')\n"
     ]
    }
   ],
   "source": [
    "mytuple = (\"apple\", \"banana\", \"cherry\")\n",
    "y = list(mytuple)\n",
    "y.append(\"orange\")\n",
    "mytuple = tuple(y)\n",
    "print(mytuple)"
   ]
  },
  {
   "cell_type": "code",
   "execution_count": 60,
   "id": "4834d262-d058-4261-b47c-0c80c7910b72",
   "metadata": {},
   "outputs": [
    {
     "name": "stdout",
     "output_type": "stream",
     "text": [
      "(56, 67, 7, 89, 9, 0.6, 87)\n"
     ]
    }
   ],
   "source": [
    "x = (56,67,7,89,9,0.6)\n",
    "y = list(x)\n",
    "\n",
    "y.append(87)\n",
    "x = tuple(y)\n",
    "print(x)"
   ]
  },
  {
   "cell_type": "code",
   "execution_count": 61,
   "id": "3352225e-bcae-461e-af9b-e022f68ac5a4",
   "metadata": {},
   "outputs": [
    {
     "name": "stdout",
     "output_type": "stream",
     "text": [
      "('apple', 'banana', 'cherry', 'orange')\n"
     ]
    }
   ],
   "source": [
    "tup5= (\"apple\", \"banana\", \"cherry\")\n",
    "y = list(tup5)\n",
    "y.append(\"orange\")\n",
    "tup5 = tuple(y)\n",
    "print(tup5)"
   ]
  },
  {
   "cell_type": "markdown",
   "id": "7d013a12-d6bd-45a5-a855-4845df5662ea",
   "metadata": {},
   "source": [
    "# ⮩  Add tuple to a tuple : \n",
    "### _You are allowed to tuples to tuples, so if you want to add one item, (or many), create a new tuple with the item(s), and add it to the existing tuple:_"
   ]
  },
  {
   "cell_type": "code",
   "execution_count": 160,
   "id": "54d78869-bc9e-431d-9516-8ff0f48d2fa5",
   "metadata": {},
   "outputs": [
    {
     "name": "stdout",
     "output_type": "stream",
     "text": [
      "('apple', 'banana', 'cherry', 'orange')\n"
     ]
    }
   ],
   "source": [
    "thistuple = (\"apple\", \"banana\", \"cherry\")\n",
    "y = tuple(\"orange\",)\n",
    "thistuple += y\n",
    "print(thistuple)"
   ]
  },
  {
   "cell_type": "markdown",
   "id": "188b68e3-c23d-4425-add1-15c56b3ccf1a",
   "metadata": {},
   "source": [
    "# ➩➩ __Remove Items__\n",
    "### _Tuples are unchangeable, so you cannot remove items from it, but you can use the same workaround as we used for changing and adding tuple items:_"
   ]
  },
  {
   "cell_type": "code",
   "execution_count": 4,
   "id": "f291e326-6057-4f74-8d7a-7317cf56a9b2",
   "metadata": {},
   "outputs": [
    {
     "name": "stdout",
     "output_type": "stream",
     "text": [
      "('banana', 'cherry')\n"
     ]
    }
   ],
   "source": [
    "my_tuple = (\"apple\", \"banana\", \"cherry\")      # Original tuple\n",
    "temp_list = list(my_tuple)                    # Convert tuple to list\n",
    "temp_list.remove(\"apple\")                     # Remove an item from the list\n",
    "my_tuple = tuple(temp_list)                   # Convert list back to tuple                   \n",
    "print(my_tuple)                               # Output result\n"
   ]
  },
  {
   "cell_type": "markdown",
   "id": "ff4b55e9-2074-4493-96eb-c54b5fc41272",
   "metadata": {},
   "source": [
    "# The del keyword can delete the tuple completely:"
   ]
  },
  {
   "cell_type": "code",
   "execution_count": 62,
   "id": "cab11035-1f6f-4d39-8500-bcc253cf3293",
   "metadata": {},
   "outputs": [
    {
     "ename": "NameError",
     "evalue": "name 'thistuple' is not defined",
     "output_type": "error",
     "traceback": [
      "\u001b[1;31m---------------------------------------------------------------------------\u001b[0m",
      "\u001b[1;31mNameError\u001b[0m                                 Traceback (most recent call last)",
      "Cell \u001b[1;32mIn[62], line 3\u001b[0m\n\u001b[0;32m      1\u001b[0m thistuple \u001b[38;5;241m=\u001b[39m (\u001b[38;5;124m\"\u001b[39m\u001b[38;5;124mapple\u001b[39m\u001b[38;5;124m\"\u001b[39m, \u001b[38;5;124m\"\u001b[39m\u001b[38;5;124mbanana\u001b[39m\u001b[38;5;124m\"\u001b[39m, \u001b[38;5;124m\"\u001b[39m\u001b[38;5;124mcherry\u001b[39m\u001b[38;5;124m\"\u001b[39m)\n\u001b[0;32m      2\u001b[0m \u001b[38;5;28;01mdel\u001b[39;00m thistuple\n\u001b[1;32m----> 3\u001b[0m \u001b[38;5;28mprint\u001b[39m(thistuple)\n",
      "\u001b[1;31mNameError\u001b[0m: name 'thistuple' is not defined"
     ]
    }
   ],
   "source": [
    "thistuple = (\"apple\", \"banana\", \"cherry\")\n",
    "del thistuple\n",
    "print(thistuple)      # this will raise an error because the tuple is no longer exists."
   ]
  },
  {
   "cell_type": "code",
   "execution_count": null,
   "id": "4a7c73bb-b00f-4525-ad9a-bbce9fd2cc92",
   "metadata": {},
   "outputs": [],
   "source": [
    "tup = (0, 1, 2, 3, 4)\n",
    "del tup\n",
    "print(tup)"
   ]
  },
  {
   "cell_type": "markdown",
   "id": "4b5a67da-2d73-42d0-a41b-2e0fa5d73095",
   "metadata": {},
   "source": [
    "# ➩➩ __Packing - Unpacking a Tuple__\n",
    "### _When we create a tuple, we normally assign values to it. This is called \"packing\" a tuple:_"
   ]
  },
  {
   "cell_type": "code",
   "execution_count": 9,
   "id": "1c6c1387-f836-408a-992b-df319de640d0",
   "metadata": {},
   "outputs": [
    {
     "name": "stdout",
     "output_type": "stream",
     "text": [
      "('apple', 'banana', 'cherry')\n"
     ]
    }
   ],
   "source": [
    "                         # Pacing a Tuple\n",
    "\n",
    "fruits = (\"apple\", \"banana\", \"cherry\")\n",
    "print(fruits)"
   ]
  },
  {
   "cell_type": "code",
   "execution_count": 53,
   "id": "43982e63-3c26-4ec2-8d44-a420341c68f4",
   "metadata": {},
   "outputs": [
    {
     "name": "stdout",
     "output_type": "stream",
     "text": [
      "(11, 12, 13)\n"
     ]
    }
   ],
   "source": [
    "                     # packing a Tuple\n",
    "\n",
    "a, b, c = 11, 12, 13\n",
    "tup = (a, b, c)\n",
    "print(tup)"
   ]
  },
  {
   "cell_type": "code",
   "execution_count": 11,
   "id": "72606647-cdd0-4ff8-88f7-1333eefc80b4",
   "metadata": {},
   "outputs": [
    {
     "name": "stdout",
     "output_type": "stream",
     "text": [
      "apple\n",
      "banana\n",
      "cherry\n"
     ]
    }
   ],
   "source": [
    "                                     # Unpacking a tuple:\n",
    "\n",
    "fruits = (\"apple\", \"banana\", \"cherry\")\n",
    "(green, yellow, red) = fruits\n",
    "\n",
    "print(green)\n",
    "print(yellow) \n",
    "print(red)"
   ]
  },
  {
   "cell_type": "code",
   "execution_count": 28,
   "id": "6bb3c085-2550-420d-b542-816c99618d1b",
   "metadata": {},
   "outputs": [
    {
     "name": "stdout",
     "output_type": "stream",
     "text": [
      "Ranvijay\n",
      "For\n",
      "Work\n"
     ]
    }
   ],
   "source": [
    "                                     # unpacking Tuple\n",
    "tup = (\"Ranvijay\", \"For\", \"Work\")\n",
    "                                  # This line unpack values of Tuple1\n",
    "a, b, c = tup\n",
    "print(a)\n",
    "print(b)\n",
    "print(c)"
   ]
  },
  {
   "cell_type": "markdown",
   "id": "452ca72f-7f5b-4035-b7e5-9de67355725d",
   "metadata": {},
   "source": [
    "# ⮩ __Using Asterisk *__\n",
    "### _If the number of variables are less than the number of values, you can add an __*__ to the variable name and the values will be assigned to the variable as a list :_"
   ]
  },
  {
   "cell_type": "code",
   "execution_count": 13,
   "id": "ba69d568-f647-4651-8f1b-eb52e36f352f",
   "metadata": {},
   "outputs": [
    {
     "name": "stdout",
     "output_type": "stream",
     "text": [
      "apple\n",
      "banana\n",
      "['cherry', 'strawberry', 'raspberry']\n"
     ]
    }
   ],
   "source": [
    "fruits = (\"apple\", \"banana\", \"cherry\", \"strawberry\", \"raspberry\")\n",
    "(green, yellow, *red) = fruits\n",
    "\n",
    "print(green)\n",
    "print(yellow)\n",
    "print(red)\n"
   ]
  },
  {
   "cell_type": "code",
   "execution_count": 15,
   "id": "5e275e1c-85fb-40d9-b3b6-444ed8a3d7fb",
   "metadata": {},
   "outputs": [
    {
     "name": "stdout",
     "output_type": "stream",
     "text": [
      "apple\n",
      "['mango', 'papaya', 'pineapple']\n",
      "cherry\n"
     ]
    }
   ],
   "source": [
    "fruits = (\"apple\", \"mango\", \"papaya\", \"pineapple\", \"cherry\")\n",
    "(green, *tropic, red) = fruits\n",
    "\n",
    "print(green)\n",
    "print(tropic)\n",
    "print(red)"
   ]
  },
  {
   "cell_type": "markdown",
   "id": "02248430-c768-4ff6-b2e2-3f4fbba0e09c",
   "metadata": {},
   "source": [
    "# ➩  __Loop Tuples__\n",
    "#  Loop Through a Tuple\n",
    "### _You can loop through the tuple items by __using a for loop___."
   ]
  },
  {
   "cell_type": "code",
   "execution_count": 29,
   "id": "424b093d-64f4-4120-ad19-260c7f87fd48",
   "metadata": {},
   "outputs": [
    {
     "name": "stdout",
     "output_type": "stream",
     "text": [
      "apple\n",
      "banana\n",
      "cherry\n"
     ]
    }
   ],
   "source": [
    "thistuple = (\"apple\", \"banana\", \"cherry\")\n",
    "for x in thistuple:\n",
    "    print(x)"
   ]
  },
  {
   "cell_type": "code",
   "execution_count": 18,
   "id": "6abe5b63-c2f9-47af-822d-9bdce03c7c7b",
   "metadata": {},
   "outputs": [
    {
     "name": "stdout",
     "output_type": "stream",
     "text": [
      "apple\n",
      "banana\n",
      "cherry\n"
     ]
    }
   ],
   "source": [
    "for x in ('apple', 'banana', 'cherry'):\n",
    "    print(x)"
   ]
  },
  {
   "cell_type": "code",
   "execution_count": 97,
   "id": "a6990c04-4eba-4947-9981-0570a114108e",
   "metadata": {},
   "outputs": [
    {
     "name": "stdout",
     "output_type": "stream",
     "text": [
      "a\n",
      "b\n",
      "c\n",
      "d\n"
     ]
    }
   ],
   "source": [
    "z = (\"a\",\"b\",\"c\",\"d\")\n",
    "for i in z:\n",
    "    print(i)"
   ]
  },
  {
   "cell_type": "markdown",
   "id": "7d2cca10-d84a-4202-8907-e4aa41a41190",
   "metadata": {},
   "source": [
    "#  ➩ Loop Through the Index Numbers\n",
    "### _You can also loop through the tuple items by referring to their index number_.\n",
    "\n",
    "###  ⮩ _Use the __range()__ and __len()__ functions to create a suitable iterable._"
   ]
  },
  {
   "cell_type": "code",
   "execution_count": 37,
   "id": "7f770e87-bb19-4448-afad-754d4d536205",
   "metadata": {},
   "outputs": [
    {
     "name": "stdout",
     "output_type": "stream",
     "text": [
      "H\n",
      "e\n",
      "l\n",
      "l\n",
      "o\n"
     ]
    }
   ],
   "source": [
    "tup =('ranvijay', 'Hello', 'ramesh', 5)\n",
    "for i in tup[1]:\n",
    "    print(i)"
   ]
  },
  {
   "cell_type": "code",
   "execution_count": 30,
   "id": "ef9add55-adf4-4ce2-af74-4d000676fbf3",
   "metadata": {},
   "outputs": [
    {
     "name": "stdout",
     "output_type": "stream",
     "text": [
      "apple\n",
      "banana\n",
      "cherry\n"
     ]
    }
   ],
   "source": [
    "thistuple = (\"apple\", \"banana\", \"cherry\")\n",
    "for i in range(len(thistuple)):\n",
    "    print(thistuple[i])"
   ]
  },
  {
   "cell_type": "markdown",
   "id": "a03bac7f-3ac5-4047-99a1-04209cf1e960",
   "metadata": {},
   "source": [
    "# ➩ Using a While Loop\n",
    "#### _You can loop through the tuple items by using a while loop._\n",
    "### ⮩  _Use the __len() function__ to determine the length of the tuple, then start at 0 and loop your way through the tuple items by referring to their indexes._\n",
    "#### _Remember to increase the index by 1 after each iteration._"
   ]
  },
  {
   "cell_type": "code",
   "execution_count": 16,
   "id": "2203c245-5ba4-4cc3-9610-0665b9ea5005",
   "metadata": {},
   "outputs": [
    {
     "name": "stdout",
     "output_type": "stream",
     "text": [
      "apple\n",
      "banana\n",
      "cherry\n"
     ]
    }
   ],
   "source": [
    "thistuple = (\"apple\", \"banana\", \"cherry\")\n",
    "i = 0\n",
    "while i < len(thistuple):\n",
    "    print(thistuple[i])\n",
    "    i = i + 1"
   ]
  },
  {
   "cell_type": "markdown",
   "id": "efa53a73-aaec-4776-ada4-f2fe2238c326",
   "metadata": {},
   "source": [
    "# ➩➩ __Join Tuples__\n",
    "# ⮩ Join Two Tuples == Concatenation\n",
    "### _To join two or more tuples you can use the __+ operator__:_"
   ]
  },
  {
   "cell_type": "code",
   "execution_count": 19,
   "id": "6d834ab0-4e01-475f-a9b0-b95771d01bc5",
   "metadata": {},
   "outputs": [
    {
     "name": "stdout",
     "output_type": "stream",
     "text": [
      "('a', 'b', 'c', 1, 2, 3)\n"
     ]
    }
   ],
   "source": [
    "tuple1 = (\"a\", \"b\" , \"c\")\n",
    "tuple2 = (1, 2, 3)\n",
    "\n",
    "tuple3 = tuple1 + tuple2\n",
    "print(tuple3)"
   ]
  },
  {
   "cell_type": "code",
   "execution_count": 33,
   "id": "76fd3d90-65df-43fe-ade5-494046daad3d",
   "metadata": {},
   "outputs": [
    {
     "name": "stdout",
     "output_type": "stream",
     "text": [
      "(0, 1, 2, 3, 'Ranvijay', 'For', 'Work')\n"
     ]
    }
   ],
   "source": [
    "tup1 = (0, 1, 2, 3)\n",
    "tup2 = ('Ranvijay', 'For', 'Work')\n",
    "\n",
    "tup3 = tup1 + tup2\n",
    "print(tup3)"
   ]
  },
  {
   "cell_type": "markdown",
   "id": "949d0e4c-c208-4950-bcd8-637b03ef5e74",
   "metadata": {},
   "source": [
    "# ⮩  Multiply Tuples == Repetation\n",
    "### _If you want to multiply the content of a tuple a given number of times, you can use the __* operator__:_"
   ]
  },
  {
   "cell_type": "code",
   "execution_count": 21,
   "id": "87b3a4f7-a7f4-4eac-9542-024d9d7e3a95",
   "metadata": {},
   "outputs": [
    {
     "name": "stdout",
     "output_type": "stream",
     "text": [
      "('apple', 'banana', 'cherry', 'apple', 'banana', 'cherry')\n"
     ]
    }
   ],
   "source": [
    "fruits = (\"apple\", \"banana\", \"cherry\")\n",
    "mytuple = fruits * 2\n",
    "\n",
    "print(mytuple)"
   ]
  },
  {
   "cell_type": "code",
   "execution_count": 44,
   "id": "07984cd1-f447-4d38-8ed6-23646a4461c6",
   "metadata": {},
   "outputs": [
    {
     "name": "stdout",
     "output_type": "stream",
     "text": [
      "('python', 'python', 'python')\n"
     ]
    }
   ],
   "source": [
    "tup = ('python',)*3\n",
    "print(tup)"
   ]
  },
  {
   "cell_type": "code",
   "execution_count": 63,
   "id": "07c61ee6-9a34-47ba-b396-99afa55a3be9",
   "metadata": {},
   "outputs": [
    {
     "name": "stdout",
     "output_type": "stream",
     "text": [
      "cccc\n",
      "2 * 8 =  16\n"
     ]
    }
   ],
   "source": [
    "tupp1 =  (\"a\", \"b\" , \"c\", 1,2,3)\n",
    "\n",
    "tupp2  =  tupp1[2]*4\n",
    "\n",
    "tupp4 = tupp1[4]*8\n",
    "\n",
    "print(tupp2)\n",
    "print(\"2 * 8 = \" , tupp4)"
   ]
  },
  {
   "cell_type": "code",
   "execution_count": 38,
   "id": "af31e474-fd65-4481-b044-76fed3ea7e34",
   "metadata": {},
   "outputs": [
    {
     "name": "stdout",
     "output_type": "stream",
     "text": [
      "(3, 4, 5, 6, 7, 8, 9, 3, 4, 5, 6, 7, 8, 9)\n",
      "(3, 4, 5, 6, 7, 8, 9, 3, 4, 5, 6, 7, 8, 9, 3, 4, 5, 6, 7, 8, 9)\n",
      "Length is:  7\n"
     ]
    }
   ],
   "source": [
    "T = (3,4,5,6,7,8,9)\n",
    "print(T+T)\n",
    "print(T*3)\n",
    "print(\"Length is: \" , len(T))"
   ]
  },
  {
   "cell_type": "markdown",
   "id": "40a18f7a-78c8-48c0-ae5d-934978b8f8b6",
   "metadata": {},
   "source": [
    "# ⮩  Traversal through Tuple - using for loop"
   ]
  },
  {
   "cell_type": "code",
   "execution_count": 65,
   "id": "8fabcccc-7cf0-4b4b-87cb-05b37c562345",
   "metadata": {},
   "outputs": [
    {
     "name": "stdout",
     "output_type": "stream",
     "text": [
      "1 2 3 4 5 "
     ]
    }
   ],
   "source": [
    "tup = (1, 2, 3, 4, 5)\n",
    "\n",
    "             # Traverse through each item in the tuple\n",
    "for x in tup:\n",
    "    print(x, end = \" \")"
   ]
  },
  {
   "cell_type": "code",
   "execution_count": 32,
   "id": "8c8b91f4-a4b2-4ced-a5ca-7653de2749ad",
   "metadata": {},
   "outputs": [
    {
     "name": "stdout",
     "output_type": "stream",
     "text": [
      "1 2 3 4 5 Hello Vijay 0.00056 "
     ]
    }
   ],
   "source": [
    "tup = (1, 2, 3, 4, 5,\"Hello\", \"Vijay\", '0.00056')\n",
    "for x in tup:\n",
    "    print(x, end=\" \")"
   ]
  },
  {
   "cell_type": "markdown",
   "id": "11f348e7-98c2-49ac-9a6d-9638cf3cd687",
   "metadata": {},
   "source": [
    "# ➩➩ __Python Tuple Methods__\n",
    "### _Python has two built-in methods that you can use on tuples_.\n",
    "\n",
    "#### _-> __count()__ :\tReturns the number of times a specified value occurs in a tuple._    \n",
    "#### _-> __index()__ :\tSearches the tuple for a specified value and returns the position of where it was found._"
   ]
  },
  {
   "cell_type": "markdown",
   "id": "f6a73534-2f71-4e6e-8507-618feb8cb3ce",
   "metadata": {},
   "source": [
    "# ⮩  __count () method__ in tuple \n",
    "### _The __count()__  method returns the number of times a specified value appears in the tuple._"
   ]
  },
  {
   "cell_type": "code",
   "execution_count": 23,
   "id": "139ba0a5-e356-4a82-810a-b80eb742866c",
   "metadata": {},
   "outputs": [
    {
     "name": "stdout",
     "output_type": "stream",
     "text": [
      "2\n"
     ]
    }
   ],
   "source": [
    "thistuple = (1, 3, 7, 8, 7, 5, 4, 6, 8, 5)\n",
    "x = thistuple.count(5)\n",
    "print(x)"
   ]
  },
  {
   "cell_type": "code",
   "execution_count": 43,
   "id": "3e74c472-b593-424b-b496-4b27289c7ed1",
   "metadata": {},
   "outputs": [
    {
     "name": "stdout",
     "output_type": "stream",
     "text": [
      "3\n"
     ]
    }
   ],
   "source": [
    "a = (23,34,12,56,12,7,23,23,76,56,43,12)\n",
    "print(a.count(12))"
   ]
  },
  {
   "cell_type": "code",
   "execution_count": 44,
   "id": "013d3dfa-ff4c-405a-8feb-860cbbad6fc1",
   "metadata": {},
   "outputs": [
    {
     "name": "stdout",
     "output_type": "stream",
     "text": [
      "3\n",
      "2\n"
     ]
    }
   ],
   "source": [
    "b = ('ran', 'rv', 'rj', 'chn', 'rv', 'chn', 'ran','rv')\n",
    "print(b.count('rv'))     \n",
    "print(b.count('ran'))"
   ]
  },
  {
   "cell_type": "code",
   "execution_count": 40,
   "id": "be175bc2-c989-495a-96c1-98112b5048ad",
   "metadata": {},
   "outputs": [
    {
     "name": "stdout",
     "output_type": "stream",
     "text": [
      "Count of (2, 3) in Tuple is: 2\n",
      "Count of [3, 2] in Tuple is: 1\n"
     ]
    }
   ],
   "source": [
    "                                    # Creating tuples\n",
    "Tup = (0, 1, (2, 3), (2, 3), 1, \n",
    "         [3, 2], 'Vijay', (0,))\n",
    "                                         # count the appearance of (2, 3)\n",
    "c = Tup.count((2, 3))\n",
    "print('Count of (2, 3) in Tuple is:', c)\n",
    "                                       # count the appearance of [3, 2]\n",
    "d = Tup.count([3, 2])\n",
    "print('Count of [3, 2] in Tuple is:', d)"
   ]
  },
  {
   "cell_type": "code",
   "execution_count": 68,
   "id": "8ba1f6f8-6144-4d7c-a496-69bfaeeb5fa7",
   "metadata": {},
   "outputs": [
    {
     "name": "stdout",
     "output_type": "stream",
     "text": [
      "2\n",
      "0\n"
     ]
    }
   ],
   "source": [
    "my_tuple = ((1, 2), ('a', 'b'), (1, 2), ('c', 'd'), ('a', 'b'))\n",
    "count_tuple = my_tuple.count((1, 2))\n",
    "print(count_tuple)  \n",
    "\n",
    "count_xy = my_tuple.count(('x', 'y'))\n",
    "print(count_xy)"
   ]
  },
  {
   "cell_type": "code",
   "execution_count": null,
   "id": "dca9d865-5655-432f-9652-957083bd9e83",
   "metadata": {},
   "outputs": [],
   "source": [
    "# PROBLEM \n",
    "\n",
    "write a python program to find repeated items in a tuple.\n",
    "\n",
    "tuplex = 5,7,9,4,5,6,7,6,8,4,5,4"
   ]
  },
  {
   "cell_type": "code",
   "execution_count": 73,
   "id": "dbf8ce36-dfe8-4096-8b0d-f5cb57db349f",
   "metadata": {},
   "outputs": [
    {
     "name": "stdout",
     "output_type": "stream",
     "text": [
      "(5, 7, 9, 4, 5, 6, 7, 8, 4, 5, 4)\n",
      "The count of 5s is :  3\n"
     ]
    }
   ],
   "source": [
    "tuplex = 5,7,9,4,5,6,7,6,8,4,5,4\n",
    "print(tuplex)\n",
    "\n",
    "countt = tuplex.count(5)\n",
    "print( \"The count of 5s is : \" , countt)"
   ]
  },
  {
   "cell_type": "markdown",
   "id": "4bb3fe63-8b4b-4e04-ae3c-18af61772c82",
   "metadata": {},
   "source": [
    "# ⮩ __index method__ in Tuple\n",
    "### _The __index()__ method returns the first occurrence of the given element from the tuple._"
   ]
  },
  {
   "cell_type": "code",
   "execution_count": 45,
   "id": "13bce203-2bb9-41be-a9a1-85096ee6a3d9",
   "metadata": {},
   "outputs": [
    {
     "name": "stdout",
     "output_type": "stream",
     "text": [
      "1\n",
      "3\n"
     ]
    }
   ],
   "source": [
    "b = ('ran', 'rv', 'rj', 'chn', 'rv', 'chn', 'ran','rv')\n",
    "print(b.index('rv'))\n",
    "print(b.index('chn'))"
   ]
  },
  {
   "cell_type": "code",
   "execution_count": 46,
   "id": "1989c531-7224-43d6-a487-c5b201cb78d3",
   "metadata": {},
   "outputs": [
    {
     "name": "stdout",
     "output_type": "stream",
     "text": [
      "First occurrence of 3 is 3\n",
      "First occurrence of 3 after 4th index is: 5\n"
     ]
    }
   ],
   "source": [
    "Tup = (0, 1, 2, 3, 2, 3, 1, 3, 2)\n",
    "res = Tup.index(3)\n",
    "print('First occurrence of 3 is', res)\n",
    "\n",
    "res = Tup.index(3, 4)\n",
    "print('First occurrence of 3 after 4th index is:',res)"
   ]
  },
  {
   "cell_type": "code",
   "execution_count": 47,
   "id": "4f92e8f2-c6a6-4471-95d8-280eb60680ff",
   "metadata": {},
   "outputs": [
    {
     "name": "stdout",
     "output_type": "stream",
     "text": [
      "Index of 3 is :  1\n"
     ]
    }
   ],
   "source": [
    "Tupl = ( 1, 3, 4, 2, 5, 6 )\n",
    "res = Tupl.index(3)\n",
    "print('Index of 3 is : ', res)"
   ]
  },
  {
   "cell_type": "code",
   "execution_count": 48,
   "id": "7ef870f4-68f7-4474-b991-5d7e7f73741b",
   "metadata": {},
   "outputs": [
    {
     "name": "stdout",
     "output_type": "stream",
     "text": [
      "Index of 3 is :  0\n"
     ]
    }
   ],
   "source": [
    "Tupl = ( 3, 3, 5, 7, 3, 3 )\n",
    "res = Tupl.index(3)\n",
    "print('Index of 3 is : ', res)"
   ]
  },
  {
   "cell_type": "code",
   "execution_count": 49,
   "id": "6404309f-4519-4750-be25-484f66d75c3b",
   "metadata": {},
   "outputs": [
    {
     "name": "stdout",
     "output_type": "stream",
     "text": [
      "Index of G in alphabets from index                            4 to 10: 8\n"
     ]
    }
   ],
   "source": [
    "alphabets = ('A', 'b', 'b', 'c', 'h', 'g', 'o',\n",
    "             's', 'G', 'b', 'e', 'c', 'h')\n",
    "index = alphabets.index('G', 4, 10)\n",
    "\n",
    "print('Index of G in alphabets from index\\\n",
    "                            4 to 10:', index)"
   ]
  },
  {
   "cell_type": "code",
   "execution_count": 42,
   "id": "fb8614e0-778e-498a-a4e3-498acdfa54ae",
   "metadata": {},
   "outputs": [
    {
     "name": "stdout",
     "output_type": "stream",
     "text": [
      "1\n"
     ]
    }
   ],
   "source": [
    "t = ('R', 'A', 'N')\n",
    "u = t.index('A')\n",
    "print(u)"
   ]
  },
  {
   "cell_type": "markdown",
   "id": "dc1de1b9-9dee-4f8e-8ee1-b89b50b88948",
   "metadata": {},
   "source": [
    "# ⮩  __min() Method__ in Tuple\n",
    "\n",
    "### _In Python, the __min() function__ is used to find the minimum value within a tuple._   \n",
    "#### _It is a built-in function and not a method specifically belonging to the tuple object itself._"
   ]
  },
  {
   "cell_type": "code",
   "execution_count": 73,
   "id": "1ea55812-b645-46c5-81c1-d552836ce8ed",
   "metadata": {},
   "outputs": [
    {
     "name": "stdout",
     "output_type": "stream",
     "text": [
      "2\n"
     ]
    }
   ],
   "source": [
    "tp =( 4, 2, 5, 6, 7, 5)\n",
    "print(min(tp))"
   ]
  },
  {
   "cell_type": "code",
   "execution_count": 75,
   "id": "8e62ad77-5dd4-4f0e-8e91-a8d94aeacdd2",
   "metadata": {},
   "outputs": [
    {
     "name": "stdout",
     "output_type": "stream",
     "text": [
      "Minimum of Tuple is :  -2\n"
     ]
    }
   ],
   "source": [
    "Tup = ( -1, 3, 4, -2, 5, 6 )\n",
    " \n",
    "res = min(Tup)\n",
    "print('Minimum of Tuple is : ', res)"
   ]
  },
  {
   "cell_type": "code",
   "execution_count": 50,
   "id": "0509950c-541f-4996-9803-ee529debe406",
   "metadata": {},
   "outputs": [
    {
     "name": "stdout",
     "output_type": "stream",
     "text": [
      "('Ranvijay', 'Chauhan', 'SabhavathVijay', 'Vijay')\n",
      "Minimum of Tuple is : Chauhan\n"
     ]
    }
   ],
   "source": [
    "Tup1 = ( \"Ranvijay\", \"Chauhan\", \"SabhavathVijay\", \"Vijay\")\n",
    "print(Tup1)\n",
    "print(\"Minimum of Tuple is :\",  min(Tup1))"
   ]
  },
  {
   "cell_type": "code",
   "execution_count": 51,
   "id": "d7798738-d988-4188-872f-f1d4650fdf3c",
   "metadata": {},
   "outputs": [
    {
     "name": "stdout",
     "output_type": "stream",
     "text": [
      "Minimum of Tuple is :  ABC\n"
     ]
    }
   ],
   "source": [
    "alphabets = ('ABC', 'fgh', 'hJk', 'AbA', 'cCC')\n",
    "\n",
    "res = min(alphabets)\n",
    "print('Minimum of Tuple is : ', res)"
   ]
  },
  {
   "cell_type": "markdown",
   "id": "b7c03428-f040-4970-85fd-815123774ca0",
   "metadata": {},
   "source": [
    "# ⮩  __max() method__ in Tuple\n",
    "### _The __max() function__ returns the item with the highest value, or the item with the highest value in an iterable._"
   ]
  },
  {
   "cell_type": "code",
   "execution_count": 64,
   "id": "b93ae9d1-4737-41c3-82d4-5e33e5546550",
   "metadata": {},
   "outputs": [
    {
     "name": "stdout",
     "output_type": "stream",
     "text": [
      "9\n"
     ]
    }
   ],
   "source": [
    "tup =( 4, 2, 5, 6, 7, 5, 9, 6, 5, 4, 3, 2)\n",
    "print(max(tup))"
   ]
  },
  {
   "cell_type": "code",
   "execution_count": 66,
   "id": "2646eb48-7432-4c88-b03e-a2f4e5c57e18",
   "metadata": {},
   "outputs": [
    {
     "name": "stdout",
     "output_type": "stream",
     "text": [
      "Maximum of Tuple is :  6\n"
     ]
    }
   ],
   "source": [
    "Tup = ( 1, 3, 4, 2, 5, 6 )\n",
    " \n",
    "res = max(Tup)\n",
    "print('Maximum of Tuple is : ', res)"
   ]
  },
  {
   "cell_type": "code",
   "execution_count": 69,
   "id": "4b241e56-aa79-43f5-8b87-0f0b627b0972",
   "metadata": {},
   "outputs": [
    {
     "name": "stdout",
     "output_type": "stream",
     "text": [
      "Maximum of Tuple is :  SabhavathVijay\n"
     ]
    }
   ],
   "source": [
    "Tup1 = ( \"Ranvijay\", \"Chauhan\", \"SabhavathVijay\")\n",
    "\n",
    "res = max(Tup1)\n",
    "print('Maximum of Tuple is : ', res)"
   ]
  },
  {
   "cell_type": "code",
   "execution_count": 52,
   "id": "5d652b39-2f80-431d-8c16-c660edd2178b",
   "metadata": {},
   "outputs": [
    {
     "name": "stdout",
     "output_type": "stream",
     "text": [
      "Maximum of Tuple is :  hJk\n"
     ]
    }
   ],
   "source": [
    "alphabets = ('ABC', 'fgh', 'hJk', 'AbA', 'cCC')\n",
    "\n",
    "res = max(alphabets)\n",
    "print('Maximum of Tuple is : ', res)"
   ]
  },
  {
   "cell_type": "markdown",
   "id": "45fa0144-bfe1-4a40-a608-42a9207eba79",
   "metadata": {},
   "source": [
    "# Removing Empty tuple from the list"
   ]
  },
  {
   "cell_type": "code",
   "execution_count": 53,
   "id": "b1c1f2a9-bab9-42a6-af13-c123257149c6",
   "metadata": {},
   "outputs": [
    {
     "name": "stdout",
     "output_type": "stream",
     "text": [
      "[(1, 2), (3, 4), (5,)]\n"
     ]
    }
   ],
   "source": [
    "                                   # Using filter method\n",
    "a = [(1, 2), (), (3, 4), (), (5,)]\n",
    "\n",
    "res = list(filter(None, a))\n",
    "print(res)"
   ]
  },
  {
   "cell_type": "code",
   "execution_count": 54,
   "id": "cdc12c6d-7226-4731-81d7-6d72149c33a9",
   "metadata": {},
   "outputs": [
    {
     "name": "stdout",
     "output_type": "stream",
     "text": [
      "[(1, 2), (3, 4), (5,)]\n"
     ]
    }
   ],
   "source": [
    "                          # Using for loop \n",
    "a = [(1, 2), (), (3, 4), (), (5,)]\n",
    "res = [] \n",
    "for t in a:\n",
    "    if t != ():\n",
    "        res.append(t)\n",
    "print(res)"
   ]
  },
  {
   "cell_type": "markdown",
   "id": "9296aaf0-0e8a-42c4-b1da-cb11c7ec32a8",
   "metadata": {},
   "source": [
    "# ⮩ Clearing a Tuple"
   ]
  },
  {
   "cell_type": "code",
   "execution_count": 55,
   "id": "0520e738-d9ec-4335-bc68-b267cc7e02a3",
   "metadata": {},
   "outputs": [
    {
     "name": "stdout",
     "output_type": "stream",
     "text": [
      "The original tuple : (1, 5, 3, 6, 8)\n",
      "The tuple after clearing values : ()\n"
     ]
    }
   ],
   "source": [
    "test_tup = (1, 5, 3, 6, 8)\n",
    "print(\"The original tuple : \" + str(test_tup))\n",
    "temp = list(test_tup)\n",
    "temp.clear()\n",
    "test_tup = tuple(temp)\n",
    "\n",
    "print(\"The tuple after clearing values : \" + str(test_tup))"
   ]
  },
  {
   "cell_type": "code",
   "execution_count": 56,
   "id": "e6eaca90-c88e-463b-8eb1-b6f532cc5bda",
   "metadata": {},
   "outputs": [
    {
     "name": "stdout",
     "output_type": "stream",
     "text": [
      "The original tuple : (1, 5, 3, 6, 8)\n",
      "The tuple after clearing values : ()\n"
     ]
    }
   ],
   "source": [
    "test_tup = (1, 5, 3, 6, 8)\n",
    "print(\"The original tuple : \" + str(test_tup))\n",
    "test_tup = tuple()\n",
    "print(\"The tuple after clearing values : \" +str(test_tup))"
   ]
  },
  {
   "cell_type": "code",
   "execution_count": 57,
   "id": "916f7468-b283-454d-99d3-2f0732084d48",
   "metadata": {},
   "outputs": [
    {
     "name": "stdout",
     "output_type": "stream",
     "text": [
      "The original tuple : (1, 5, 3, 6, 8)\n",
      "The tuple after clearing values : (1,)\n"
     ]
    }
   ],
   "source": [
    "test_tup = (1, 5, 3, 6, 8)\n",
    "print(\"The original tuple : \" + str(test_tup))\n",
    "test_tup = test_tup[0:1] + ()\n",
    "print(\"The tuple after clearing values : \" +str(test_tup))"
   ]
  },
  {
   "cell_type": "code",
   "execution_count": 47,
   "id": "c6355b2f-a1e4-4e40-a20e-0deadfaf8fc8",
   "metadata": {},
   "outputs": [
    {
     "name": "stdout",
     "output_type": "stream",
     "text": [
      "The original tuple: (1, 5, 3, 6, 8)\n",
      "The tuple after clearing values: ()\n"
     ]
    }
   ],
   "source": [
    "tup = (1, 5, 3, 6, 8)\n",
    "\n",
    "                                          # Delete the original tuple using the del keyword\n",
    "del tup\n",
    "print(\"The original tuple:\", (1, 5, 3, 6, 8))\n",
    "print(\"The tuple after clearing values:\", ())"
   ]
  },
  {
   "cell_type": "markdown",
   "id": "d194daba-2aa7-410e-b4f5-bffa75d7a507",
   "metadata": {},
   "source": [
    "# Python program to remove last item in the list"
   ]
  },
  {
   "cell_type": "code",
   "execution_count": 60,
   "id": "aa240003-3eea-49cd-8e61-a5f8de2af203",
   "metadata": {},
   "outputs": [
    {
     "name": "stdout",
     "output_type": "stream",
     "text": [
      "('Ranvijay', 'Sabhavath')\n"
     ]
    }
   ],
   "source": [
    "tup1 = (\"Ranvijay\", \"Sabhavath\",\"Chauhan\")\n",
    "\n",
    "                        # remove last element\n",
    "tup = tup1[:-1]\n",
    "print(tup)"
   ]
  },
  {
   "cell_type": "code",
   "execution_count": 61,
   "id": "2c6f6cc7-d854-4115-a7e2-8e4b139e2cc8",
   "metadata": {},
   "outputs": [
    {
     "name": "stdout",
     "output_type": "stream",
     "text": [
      "(45, 56, 67, 78, 8)\n"
     ]
    }
   ],
   "source": [
    "a = (45,56,67,78,8,99)\n",
    "b = len(a)-1\n",
    "print(a[:b])"
   ]
  },
  {
   "cell_type": "code",
   "execution_count": 62,
   "id": "19c28842-83ef-40f7-ab34-fb8f32e26c8f",
   "metadata": {},
   "outputs": [
    {
     "name": "stdout",
     "output_type": "stream",
     "text": [
      "('Ranvijay', 'Chauhan')\n"
     ]
    }
   ],
   "source": [
    "tup = (\"Ranvijay\", \"Chauhan\", \"Sabhavath\")\n",
    "element = len(tup)-1\n",
    "t1 = tup[:element]\n",
    "print(t1)\n"
   ]
  },
  {
   "cell_type": "code",
   "execution_count": 63,
   "id": "0f9f2742-1ee3-416f-9219-68ace18fa02c",
   "metadata": {},
   "outputs": [
    {
     "name": "stdout",
     "output_type": "stream",
     "text": [
      "(1, 2, 3, 4)\n"
     ]
    }
   ],
   "source": [
    "tu = (1, 2, 3, 4, 5)\n",
    "\n",
    "              # remove last element\n",
    "tu = list(tu)\n",
    "tu.remove(tu[-1])\n",
    "tu = tuple(tu)\n",
    "print(tu)"
   ]
  },
  {
   "cell_type": "code",
   "execution_count": 64,
   "id": "a62c74ec-de6f-41f1-8576-313585af62a1",
   "metadata": {},
   "outputs": [
    {
     "name": "stdout",
     "output_type": "stream",
     "text": [
      "(1, 2, 3, 4)\n"
     ]
    }
   ],
   "source": [
    "tu = (1, 2, 3, 4, 5)\n",
    "tu = tuple(filter(lambda x: x != tu[-1], tu))\n",
    "print(tu)"
   ]
  },
  {
   "cell_type": "code",
   "execution_count": 65,
   "id": "7aa0aa5c-3d4d-468a-a26c-c154a44f5958",
   "metadata": {},
   "outputs": [
    {
     "name": "stdout",
     "output_type": "stream",
     "text": [
      "The original tuple is : (1, 3, 5, 2, 3, 5, 1, 1, 3)\n",
      "The tuple after removing duplicates : (1, 3, 5, 2)\n"
     ]
    }
   ],
   "source": [
    "test_tup = (1, 3, 5, 2, 3, 5, 1, 1, 3)\n",
    "\n",
    "                                              # printing original tuple\n",
    "print(\"The original tuple is : \" , str(test_tup))\n",
    "\n",
    "              # Removing duplicates from tuple\n",
    "x = []\n",
    "for i in test_tup:\n",
    "    if i not in x:\n",
    "        x.append(i)\n",
    "res = tuple(x)\n",
    "print(\"The tuple after removing duplicates : \" + str(res))"
   ]
  },
  {
   "cell_type": "markdown",
   "id": "dff3179b-fa93-4af4-98ae-f4c6d62b233c",
   "metadata": {},
   "source": [
    "# sum of the elements using for loop"
   ]
  },
  {
   "cell_type": "code",
   "execution_count": 78,
   "id": "6d846940-646d-4a88-b64d-54c105f9431b",
   "metadata": {},
   "outputs": [
    {
     "name": "stdout",
     "output_type": "stream",
     "text": [
      "The original tuple is : (7, 8, 9, 1, 10, 7)\n",
      "The summation of tuple elements are : 42\n"
     ]
    }
   ],
   "source": [
    "test_tup = (7, 8, 9, 1, 10, 7)\n",
    "\n",
    "print(\"The original tuple is : \" + str(test_tup))\n",
    "\n",
    "res = 0\n",
    "for i in test_tup:\n",
    "    res += i\n",
    "print(\"The summation of tuple elements are : \" + str(res))"
   ]
  },
  {
   "cell_type": "code",
   "execution_count": null,
   "id": "3ebe0cfd-ba3c-47d2-aaa5-c82140a0d125",
   "metadata": {},
   "outputs": [],
   "source": [
    "# PROBLEM\n",
    "\n",
    "Write a python program to accept 5 numbers from the user and store it in a Tuple"
   ]
  },
  {
   "cell_type": "code",
   "execution_count": 77,
   "id": "b74a7eba-2610-4fc6-b549-848370aedb5e",
   "metadata": {},
   "outputs": [
    {
     "name": "stdin",
     "output_type": "stream",
     "text": [
      "enter the number :  78\n"
     ]
    },
    {
     "name": "stdout",
     "output_type": "stream",
     "text": [
      "0 "
     ]
    },
    {
     "name": "stdin",
     "output_type": "stream",
     "text": [
      "enter the number :  76\n"
     ]
    },
    {
     "name": "stdout",
     "output_type": "stream",
     "text": [
      "1 "
     ]
    },
    {
     "name": "stdin",
     "output_type": "stream",
     "text": [
      "enter the number :  654\n"
     ]
    },
    {
     "name": "stdout",
     "output_type": "stream",
     "text": [
      "2 "
     ]
    },
    {
     "name": "stdin",
     "output_type": "stream",
     "text": [
      "enter the number :  45\n"
     ]
    },
    {
     "name": "stdout",
     "output_type": "stream",
     "text": [
      "3 "
     ]
    },
    {
     "name": "stdin",
     "output_type": "stream",
     "text": [
      "enter the number :  34\n"
     ]
    },
    {
     "name": "stdout",
     "output_type": "stream",
     "text": [
      "4 the tuple of values are : (78, 76, 654, 45, 34)\n"
     ]
    }
   ],
   "source": [
    "tup = []\n",
    "for i in range(5):\n",
    "    inputs = int(input(\"enter the number : \" ))\n",
    "    tup.append(inputs)\n",
    "    print(i, end = \" \")\n",
    "print(\"the tuple of values are :\" , tuple(tup))"
   ]
  },
  {
   "cell_type": "code",
   "execution_count": null,
   "id": "55b3af6a-eb88-4752-a008-bbd6305c971b",
   "metadata": {},
   "outputs": [],
   "source": []
  }
 ],
 "metadata": {
  "kernelspec": {
   "display_name": "Python 3 (ipykernel)",
   "language": "python",
   "name": "python3"
  },
  "language_info": {
   "codemirror_mode": {
    "name": "ipython",
    "version": 3
   },
   "file_extension": ".py",
   "mimetype": "text/x-python",
   "name": "python",
   "nbconvert_exporter": "python",
   "pygments_lexer": "ipython3",
   "version": "3.12.7"
  }
 },
 "nbformat": 4,
 "nbformat_minor": 5
}
