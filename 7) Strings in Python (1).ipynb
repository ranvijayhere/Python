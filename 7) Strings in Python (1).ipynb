{
 "cells": [
  {
   "cell_type": "markdown",
   "id": "d869dab3-1fae-4372-b6da-93e9cc4bbb8d",
   "metadata": {},
   "source": [
    "# 7)  __Strings in Python__ \n",
    "## _Strings in python are surrounded by either single quotation marks , or double quotation marks_.\n",
    "\n",
    "### _Strings are Arrays. Like many other popular programming languages , __Strings in Python are arrays of bytes representing unicode characters___.\n"
   ]
  },
  {
   "cell_type": "code",
   "execution_count": 2,
   "id": "856914fc-0097-48eb-a1c7-55b0b9554c37",
   "metadata": {},
   "outputs": [
    {
     "name": "stdout",
     "output_type": "stream",
     "text": [
      "It's alright\n",
      "He is called 'Johnny'\n"
     ]
    }
   ],
   "source": [
    "print(\"It's alright\")\n",
    "print(\"He is called 'Johnny'\")"
   ]
  },
  {
   "cell_type": "markdown",
   "id": "5d187ce6-8d34-490c-a0ec-137a6e11703a",
   "metadata": {},
   "source": [
    "## Assigning string to a variable "
   ]
  },
  {
   "cell_type": "code",
   "execution_count": 73,
   "id": "40cae5d3-8948-4011-be23-2a069b7afc70",
   "metadata": {},
   "outputs": [
    {
     "name": "stdout",
     "output_type": "stream",
     "text": [
      "Learners\n",
      "<class 'str'>\n"
     ]
    }
   ],
   "source": [
    "a = 'Learners'        # single quote\n",
    "print(a)\n",
    "print(type(a))"
   ]
  },
  {
   "cell_type": "code",
   "execution_count": 74,
   "id": "5f5e59a3-10c4-4978-96dc-463c245c53b8",
   "metadata": {},
   "outputs": [
    {
     "name": "stdout",
     "output_type": "stream",
     "text": [
      "Students\n",
      "<class 'str'>\n"
     ]
    }
   ],
   "source": [
    "b = \"Students\"         # double quotes\n",
    "print(b)\n",
    "print(type(b))"
   ]
  },
  {
   "cell_type": "code",
   "execution_count": 5,
   "id": "e49c1fd8-9344-4ed3-bda1-9f9398a2324a",
   "metadata": {},
   "outputs": [
    {
     "name": "stdout",
     "output_type": "stream",
     "text": [
      "It's alright\n",
      "He is called 'Johnny'\n",
      "He is called \"Johnny\"\n"
     ]
    }
   ],
   "source": [
    "print(\"It's alright\")                                         # Quotes Inside Quotes\n",
    "print(\"He is called 'Johnny'\")\n",
    "print('He is called \"Johnny\"')"
   ]
  },
  {
   "cell_type": "code",
   "execution_count": 7,
   "id": "3525e986-66ad-4bf8-882b-28df582c8f4c",
   "metadata": {},
   "outputs": [
    {
     "name": "stdout",
     "output_type": "stream",
     "text": [
      "I am Ranvijay \n",
      "This is my first class\n"
     ]
    }
   ],
   "source": [
    "c = \"I am Ranvijay \\nThis is my first class\"               # seperating a string line by using '\\n'\n",
    "print(c)"
   ]
  },
  {
   "cell_type": "code",
   "execution_count": 4,
   "id": "e4b93302-0a22-4ffb-be11-b192f1aa7e55",
   "metadata": {},
   "outputs": [
    {
     "name": "stdout",
     "output_type": "stream",
     "text": [
      "I am Ranvijay\n",
      "hi!#I am Ranvijay\n",
      "I am Ranvijay:"
     ]
    }
   ],
   "source": [
    "c = \"I am Ranvijay\"               # seperating a string line by using 'end'\n",
    "print(c)\n",
    "print(\"hi!\",c,sep= \"#\")\n",
    "print(c, end = \":\")"
   ]
  },
  {
   "cell_type": "markdown",
   "id": "a71deb20-9fa5-4b97-bb6b-e522c544fc85",
   "metadata": {},
   "source": [
    "# __Multiline Strings__\n",
    "### _You can assign a multiline string to a variable by using three quotes_ : __'''  '''__ or __\"\"\"  \"\"\"__"
   ]
  },
  {
   "cell_type": "code",
   "execution_count": 75,
   "id": "0d82940d-e867-4dbf-af9d-10378272f4ce",
   "metadata": {},
   "outputs": [
    {
     "name": "stdout",
     "output_type": "stream",
     "text": [
      "In Python, multi-line strings are strings\n",
      "that span across multiple lines of code.\n",
      "They are primarily created using triple quotes.\n",
      "\n",
      "<class 'str'>\n"
     ]
    }
   ],
   "source": [
    " a = '''In Python, multi-line strings are strings\n",
    " that span across multiple lines of code.\n",
    " They are primarily created using triple quotes.\n",
    "'''\n",
    "print(a)\n",
    "print(type(a))"
   ]
  },
  {
   "cell_type": "code",
   "execution_count": 1,
   "id": "3d2aa49e-1cd8-43a5-9a65-c90cad0b8a26",
   "metadata": {},
   "outputs": [
    {
     "name": "stdout",
     "output_type": "stream",
     "text": [
      "<class 'str'>\n",
      "100\n",
      "<class 'int'>\n"
     ]
    }
   ],
   "source": [
    "                    # Convert string to integer ( it will work only for numbers stored in string format)\n",
    "string = \"100\"\n",
    "print(type(string))\n",
    "to_int = int(string)\n",
    "print(to_int)\n",
    "print(type(to_int))"
   ]
  },
  {
   "cell_type": "code",
   "execution_count": 4,
   "id": "cad00f98-eb80-4a11-bbc3-907fbf1cf9fb",
   "metadata": {},
   "outputs": [
    {
     "name": "stdout",
     "output_type": "stream",
     "text": [
      "h\n",
      "e\n",
      "l\n",
      "l\n",
      "o\n"
     ]
    }
   ],
   "source": [
    "               # Iterate over charecters of strings\n",
    "s = \"hello\"\n",
    "\n",
    "for letters in s:\n",
    "    print(letters)"
   ]
  },
  {
   "cell_type": "markdown",
   "id": "cb592cd0-e14b-4984-b94e-cc7964c59b89",
   "metadata": {},
   "source": [
    "# ➩ __length method in Strings__\n",
    "###  _The __len()__ method is used to find the length of an object in Python. By using __len()__ , we can find the length of strings and lists_. "
   ]
  },
  {
   "cell_type": "code",
   "execution_count": 19,
   "id": "17b68326-970b-49c8-b1de-225bb82aacbe",
   "metadata": {},
   "outputs": [
    {
     "name": "stdout",
     "output_type": "stream",
     "text": [
      "5\n"
     ]
    }
   ],
   "source": [
    "a = \"Hello\"\n",
    "print(len(a))"
   ]
  },
  {
   "cell_type": "code",
   "execution_count": 20,
   "id": "0ebe2cbb-3814-42ca-a7e5-8b43d256ba86",
   "metadata": {},
   "outputs": [
    {
     "name": "stdout",
     "output_type": "stream",
     "text": [
      "42\n"
     ]
    }
   ],
   "source": [
    "x = \"Python is a very easy programming language\"\n",
    "print(len(x))"
   ]
  },
  {
   "cell_type": "code",
   "execution_count": 21,
   "id": "f1001c05-6757-4412-bb92-ceb910fce2ee",
   "metadata": {},
   "outputs": [
    {
     "name": "stdout",
     "output_type": "stream",
     "text": [
      "14\n"
     ]
    }
   ],
   "source": [
    "z = \"11112345766788\"\n",
    "print(len(z))"
   ]
  },
  {
   "cell_type": "code",
   "execution_count": 22,
   "id": "b99e1026-505e-491c-b0d9-5ca6a84c9213",
   "metadata": {},
   "outputs": [
    {
     "name": "stdout",
     "output_type": "stream",
     "text": [
      "0\n",
      "1\n",
      "5\n",
      "the length : 0 1 5\n"
     ]
    }
   ],
   "source": [
    "a = \"\"\n",
    "b = \" \"\n",
    "c = \"     \"\n",
    "\n",
    "print(len(a))\n",
    "print(len(b))\n",
    "print(len(c))\n",
    "print( \"the length :\", len(a),len(b), len(c))"
   ]
  },
  {
   "cell_type": "markdown",
   "id": "bd921362-5e1c-4d9c-95f8-0c64be7e63af",
   "metadata": {},
   "source": [
    "\n",
    "# ➩ __Indexing of Strings__\n",
    "### _Indexing in Python refers to the process of accessing individual elements within a sequence (like strings, lists, or tuples) using their position._\n",
    "### _Each element in a sequence is assigned a numerical index, starting from 0 for the first element._\n",
    "\n",
    "##### Positive indexing starts with : 0 and Negative indexing starts with : -1"
   ]
  },
  {
   "cell_type": "markdown",
   "id": "a62b4675-c790-4262-8b7f-cc7aa08dac65",
   "metadata": {},
   "source": [
    "## Positive indexing"
   ]
  },
  {
   "cell_type": "code",
   "execution_count": 9,
   "id": "e82bd5a5-0d90-4580-8cea-03b962616d10",
   "metadata": {},
   "outputs": [
    {
     "name": "stdout",
     "output_type": "stream",
     "text": [
      "H\n",
      "e\n",
      "l\n",
      "l\n",
      "o\n",
      " \n",
      "d\n"
     ]
    }
   ],
   "source": [
    "a = \"Hello dear learners\"   \n",
    "\n",
    "print(a[0])\n",
    "print(a[1])\n",
    "print(a[2])\n",
    "print(a[3])\n",
    "print(a[4])\n",
    "print(a[5])\n",
    "print(a[6])"
   ]
  },
  {
   "cell_type": "code",
   "execution_count": 62,
   "id": "6a2cbeaa-857e-475e-9a99-f814d0c16321",
   "metadata": {},
   "outputs": [
    {
     "name": "stdout",
     "output_type": "stream",
     "text": [
      "y\n"
     ]
    }
   ],
   "source": [
    "a = \"How's your studeies going on\"\n",
    "print(a[6])"
   ]
  },
  {
   "cell_type": "markdown",
   "id": "890ffb20-acf8-443e-b29c-30c1174d973e",
   "metadata": {},
   "source": [
    "## Negative indexing"
   ]
  },
  {
   "cell_type": "code",
   "execution_count": 2,
   "id": "f14fba82-e9bf-4490-aee7-340a8059f608",
   "metadata": {},
   "outputs": [
    {
     "name": "stdout",
     "output_type": "stream",
     "text": [
      "s\n",
      "r\n",
      "e\n",
      "n\n",
      "r\n"
     ]
    }
   ],
   "source": [
    "a = \"Hello dear learners\"       \n",
    "print(a[-1])\n",
    "print(a[-2])\n",
    "print(a[-3])\n",
    "print(a[-4])\n",
    "print(a[-5])"
   ]
  },
  {
   "cell_type": "code",
   "execution_count": 22,
   "id": "3d3c13dc-5490-4c4d-aef2-c971d87e2a1d",
   "metadata": {},
   "outputs": [
    {
     "name": "stdout",
     "output_type": "stream",
     "text": [
      "d l e i f\n"
     ]
    }
   ],
   "source": [
    "b = \"data science is the growing field\"\n",
    "print(b[-1],b[-2],b[-3],b[-4], b[-5])"
   ]
  },
  {
   "cell_type": "code",
   "execution_count": 63,
   "id": "f7719500-8477-4438-913d-9b6cccf007dd",
   "metadata": {},
   "outputs": [
    {
     "name": "stdout",
     "output_type": "stream",
     "text": [
      "o\n"
     ]
    }
   ],
   "source": [
    "a = \"How's your studeies going on\"\n",
    "print(a[-2])"
   ]
  },
  {
   "cell_type": "code",
   "execution_count": 6,
   "id": "b8c9760c-d4a0-4b3c-94e5-a1f46165220c",
   "metadata": {},
   "outputs": [
    {
     "name": "stdout",
     "output_type": "stream",
     "text": [
      "('m', 'y', 'yajivnaR flesym')\n"
     ]
    }
   ],
   "source": [
    "w = \"myself Ranvijay\"\n",
    "x = w[0], w[-1], w[::-1]\n",
    "print(x)"
   ]
  },
  {
   "cell_type": "code",
   "execution_count": 7,
   "id": "54fc1c9f-fd40-4700-be0f-a8f78d38dc13",
   "metadata": {},
   "outputs": [
    {
     "name": "stdout",
     "output_type": "stream",
     "text": [
      "H\n",
      "e\n",
      "\n",
      "o\n",
      "l\n"
     ]
    }
   ],
   "source": [
    "word = 'Hello'\n",
    "print(word[0])            # index 0 - first letter\n",
    "print(word[1])          # index 1 - second letter\n",
    "print()   \n",
    "\n",
    "                  # negative indexing\n",
    "print(word[-1])         # index -1 - last letter\n",
    "print(word[-2])        # index -2 - second last letter"
   ]
  },
  {
   "cell_type": "markdown",
   "id": "fe80041e-7c61-4754-86a4-5afd304effb2",
   "metadata": {},
   "source": [
    "# ➩➩ __Slicing Strings__\n",
    "### _You can return a range of characters by using the slice syntax. Specify the start index and the end index , separated by a colon , to return a part of the string_. \n",
    "\n",
    "\n",
    "### ___Start : Stop : Step___"
   ]
  },
  {
   "cell_type": "code",
   "execution_count": 15,
   "id": "a8296975-dbff-4c70-924c-a0d4ffc1dd7d",
   "metadata": {},
   "outputs": [
    {
     "name": "stdout",
     "output_type": "stream",
     "text": [
      "This is some sample text written by me\n",
      "This\n",
      "sample\n",
      "sample text written by me\n"
     ]
    }
   ],
   "source": [
    "text = 'This is some sample text written by me'\n",
    "print(text)\n",
    "\n",
    "print(text[0:4])         # [start_index : stop_index] it does not include the stop index\n",
    "print(text[13:19])      # index 13 to 18\n",
    "print(text[13:])       # it will start from index 13 and go upto the end"
   ]
  },
  {
   "cell_type": "code",
   "execution_count": 10,
   "id": "4551556d-a006-48ec-9f43-aca226f0da5b",
   "metadata": {},
   "outputs": [
    {
     "name": "stdout",
     "output_type": "stream",
     "text": [
      "('d', 'e')\n"
     ]
    }
   ],
   "source": [
    "a = (\"a\", \"b\", \"c\", \"d\", \"e\", \"f\", \"g\", \"h\")\n",
    "x = slice(3, 5)\n",
    "print(a[x])"
   ]
  },
  {
   "cell_type": "code",
   "execution_count": 25,
   "id": "3f0404e7-4b51-4b52-a227-f25415693827",
   "metadata": {},
   "outputs": [
    {
     "name": "stdout",
     "output_type": "stream",
     "text": [
      "i am l\n"
     ]
    }
   ],
   "source": [
    "a = \"i am learning data science\"\n",
    "print(a[0:6])"
   ]
  },
  {
   "cell_type": "code",
   "execution_count": 33,
   "id": "19851f80-b4e7-4ddc-b48e-1f270890528e",
   "metadata": {},
   "outputs": [
    {
     "name": "stdout",
     "output_type": "stream",
     "text": [
      "Pyth\n",
      "Python is\n",
      "on i\n"
     ]
    }
   ],
   "source": [
    "b = \"Python is awesome\"\n",
    "print(b[0:4])\n",
    "print(b[0:9])\n",
    "print(b[4:8])"
   ]
  },
  {
   "cell_type": "code",
   "execution_count": 32,
   "id": "2284d848-734d-4879-9fb9-e9643af8aab1",
   "metadata": {},
   "outputs": [
    {
     "name": "stdout",
     "output_type": "stream",
     "text": [
      "Python is awesome\n"
     ]
    }
   ],
   "source": [
    "b = \"Python is awesome\"\n",
    "print(b[:])"
   ]
  },
  {
   "cell_type": "code",
   "execution_count": 10,
   "id": "b481ef2b-9bf0-42a2-9989-0401cd2aae2e",
   "metadata": {},
   "outputs": [
    {
     "name": "stdout",
     "output_type": "stream",
     "text": [
      "hon is awesome\n"
     ]
    }
   ],
   "source": [
    "b = \"Python is awesome\"           # Slice To the End\n",
    "print(b[3:])"
   ]
  },
  {
   "cell_type": "markdown",
   "id": "a194fdab-19a7-4fdb-9bef-17001f9f2717",
   "metadata": {},
   "source": [
    "# __Slicing with jump__\n",
    "### _You can return a range of characters by using the slice syntax. Specify the start index and the end index, separated by a colon, to return a part of the string._"
   ]
  },
  {
   "cell_type": "code",
   "execution_count": 23,
   "id": "af6c5b08-5ef1-4716-9a8c-51754ac36ed1",
   "metadata": {},
   "outputs": [
    {
     "name": "stdout",
     "output_type": "stream",
     "text": [
      "haracte\n",
      "string is a sequence of characte\n"
     ]
    }
   ],
   "source": [
    "text = \"string is a sequence of characters used to represent text data\"\n",
    "print(text[25:32])\n",
    "print(text[:32])"
   ]
  },
  {
   "cell_type": "code",
   "execution_count": 85,
   "id": "b9cbbef1-b266-4dd9-96c6-b3eda55366d2",
   "metadata": {},
   "outputs": [
    {
     "name": "stdout",
     "output_type": "stream",
     "text": [
      "Ranv\n",
      "loves music\n"
     ]
    }
   ],
   "source": [
    "a =\"Ranvijay loves music\"\n",
    "print(a[:4])\n",
    "print(a[9:])"
   ]
  },
  {
   "cell_type": "code",
   "execution_count": 87,
   "id": "ea041da8-c88c-490f-acd7-c5491bb8b1b6",
   "metadata": {},
   "outputs": [
    {
     "name": "stdout",
     "output_type": "stream",
     "text": [
      "Rjom\n",
      "loves music\n"
     ]
    }
   ],
   "source": [
    "a =\"Ranvijay loves music\"\n",
    "print(a[::5])\n",
    "print(a[9::])"
   ]
  },
  {
   "cell_type": "code",
   "execution_count": 41,
   "id": "461104fa-f7d0-4550-b58e-871608892ec0",
   "metadata": {},
   "outputs": [
    {
     "name": "stdout",
     "output_type": "stream",
     "text": [
      "Ranvijay loves music\n"
     ]
    }
   ],
   "source": [
    "a =\"Ranvijay loves music\"\n",
    "print(a[::])"
   ]
  },
  {
   "cell_type": "markdown",
   "id": "0ef4ffcb-9d7f-4e69-b5aa-23bb14325363",
   "metadata": {},
   "source": [
    " # __Slicing with steps__"
   ]
  },
  {
   "cell_type": "code",
   "execution_count": 24,
   "id": "3bc27f11-3458-47f2-9cf4-86801678e634",
   "metadata": {},
   "outputs": [
    {
     "name": "stdout",
     "output_type": "stream",
     "text": [
      "haracte\n",
      "hrce\n"
     ]
    }
   ],
   "source": [
    "                     # slicing with steps - # [start_index : stop_index : steps = 1]\n",
    "text = \"string is a sequence of characters used to represent text data\"\n",
    "print(text[25:32:1])\n",
    "print(text[25:32:2])"
   ]
  },
  {
   "cell_type": "code",
   "execution_count": 42,
   "id": "4187d589-405e-42c4-9c0c-1e366f2dc1e5",
   "metadata": {},
   "outputs": [
    {
     "name": "stdout",
     "output_type": "stream",
     "text": [
      "Rnia oe ui\n"
     ]
    }
   ],
   "source": [
    "a =\"Ranvijay loves music\"\n",
    "print(a[0::2])"
   ]
  },
  {
   "cell_type": "code",
   "execution_count": 35,
   "id": "a59d34cf-ccd1-46b2-ac22-da93435b27cd",
   "metadata": {},
   "outputs": [
    {
     "name": "stdout",
     "output_type": "stream",
     "text": [
      "Ranvija\n"
     ]
    }
   ],
   "source": [
    "a =\"Ranvijay loves music\"\n",
    "print(a[0:7:1])"
   ]
  },
  {
   "cell_type": "code",
   "execution_count": 36,
   "id": "42705c45-aa04-4bd6-9261-aff6d7bd7339",
   "metadata": {},
   "outputs": [
    {
     "name": "stdout",
     "output_type": "stream",
     "text": [
      "Rnia oe \n"
     ]
    }
   ],
   "source": [
    "a =\"Ranvijay loves music\"\n",
    "print(a[0:15:2])"
   ]
  },
  {
   "cell_type": "code",
   "execution_count": 43,
   "id": "8919d096-5d52-41e1-af01-69823293894e",
   "metadata": {},
   "outputs": [
    {
     "name": "stdout",
     "output_type": "stream",
     "text": [
      "Rnia oe ui\n"
     ]
    }
   ],
   "source": [
    "a =\"Ranvijay loves music\"\n",
    "print(a[::2])"
   ]
  },
  {
   "cell_type": "markdown",
   "id": "60be5cad-a66e-46d1-a59c-ab9965be74b9",
   "metadata": {},
   "source": [
    "# __Reversing a String__"
   ]
  },
  {
   "cell_type": "code",
   "execution_count": 18,
   "id": "38d2aa97-65d4-407c-8b99-3b6c02852a6a",
   "metadata": {},
   "outputs": [
    {
     "name": "stdout",
     "output_type": "stream",
     "text": [
      "atad txet tneserper ot desu sretcarahc fo ecn\n",
      "desu sretcarahc fo ecneuqes a si gnirts\n",
      "atad txet tneserper ot desu sretcarahc fo ecneuqes a si gnirts\n"
     ]
    }
   ],
   "source": [
    "text = \"string is a sequence of characters used to represent text data\"\n",
    "print(text[:16:-1])\n",
    "print(text[38::-1])\n",
    "print(text[::-1])      # reverse of any string"
   ]
  },
  {
   "cell_type": "code",
   "execution_count": 65,
   "id": "3aa7d2a6-aa1d-4a37-a6ac-905e55aa9f33",
   "metadata": {},
   "outputs": [
    {
     "name": "stdout",
     "output_type": "stream",
     "text": [
      "cisum sevol yajivnaR\n"
     ]
    }
   ],
   "source": [
    "a =\"Ranvijay loves music\"\n",
    "print(a[::-1])"
   ]
  },
  {
   "cell_type": "code",
   "execution_count": 82,
   "id": "c45eab2c-5903-44ea-89c5-f0e5c52064a5",
   "metadata": {},
   "outputs": [
    {
     "name": "stdout",
     "output_type": "stream",
     "text": [
      "0123456789\n"
     ]
    }
   ],
   "source": [
    "n = \"9876543210\"\n",
    "print(n[::-1])"
   ]
  },
  {
   "cell_type": "code",
   "execution_count": 42,
   "id": "78157c93-ee44-4b58-9724-03f6284e13bc",
   "metadata": {},
   "outputs": [
    {
     "name": "stdin",
     "output_type": "stream",
     "text": [
      "type name here Ranvijay\n"
     ]
    },
    {
     "name": "stdout",
     "output_type": "stream",
     "text": [
      "this is not palindrome\n"
     ]
    }
   ],
   "source": [
    "name = input('type name here')\n",
    "\n",
    "if name[::-1]==name:\n",
    "    print('this is palindrome')\n",
    "else:\n",
    "    print('this is not palindrome')"
   ]
  },
  {
   "cell_type": "markdown",
   "id": "e26d5361-22ae-47e5-bfeb-11b5152b10b6",
   "metadata": {},
   "source": [
    "# __Negative Slicing__"
   ]
  },
  {
   "cell_type": "code",
   "execution_count": 40,
   "id": "24e92765-3743-41e8-b5fb-f018761fec11",
   "metadata": {},
   "outputs": [
    {
     "name": "stdout",
     "output_type": "stream",
     "text": [
      "f ceqsas \n",
      "etcarah\n"
     ]
    }
   ],
   "source": [
    "text = \"string is a sequence of characters used to represent text data\"        # negative slicing\n",
    "\n",
    "print(text[22:5:-2])\n",
    "print(text[31:24:-1] )              # reverse of written"
   ]
  },
  {
   "cell_type": "code",
   "execution_count": 38,
   "id": "067a87c5-fd0e-4a45-8537-1c9b0f5ca13c",
   "metadata": {},
   "outputs": [
    {
     "name": "stdout",
     "output_type": "stream",
     "text": [
      "thon codin\n"
     ]
    }
   ],
   "source": [
    "a = \"i am learning python coding\"\n",
    "print(a[-11:-1])"
   ]
  },
  {
   "cell_type": "code",
   "execution_count": 60,
   "id": "0b68af08-b593-4484-901a-932c44dd1280",
   "metadata": {},
   "outputs": [
    {
     "name": "stdout",
     "output_type": "stream",
     "text": [
      "i am learnin\n",
      "ng python coding\n"
     ]
    }
   ],
   "source": [
    "a = \"i am learning python coding\"\n",
    "print(a[:-15])\n",
    "print(a[-16:])"
   ]
  },
  {
   "cell_type": "code",
   "execution_count": 52,
   "id": "c218295f-207c-48be-9726-5f363b1ad739",
   "metadata": {},
   "outputs": [
    {
     "name": "stdout",
     "output_type": "stream",
     "text": [
      "ann yhncdn\n"
     ]
    }
   ],
   "source": [
    "a = \"i am learning python coding\"\n",
    "print(a[-20:-1:2])"
   ]
  },
  {
   "cell_type": "markdown",
   "id": "dbef3a7a-b085-4cc6-81fe-0947e215aa8b",
   "metadata": {},
   "source": [
    "# ➩  __Check String__\n",
    "\n",
    "### _To check if a certain phrase or character is present in a stringb, we can use the keywords_ ___in___ _or_ ___not in___"
   ]
  },
  {
   "cell_type": "markdown",
   "id": "d661ddab-0f80-41b3-852a-e6630244c8db",
   "metadata": {},
   "source": [
    "###  ⮩ Check if the character is present- (in)"
   ]
  },
  {
   "cell_type": "code",
   "execution_count": 89,
   "id": "d35a1fa4-b20e-44e0-bdc7-3aa50c434014",
   "metadata": {},
   "outputs": [
    {
     "name": "stdout",
     "output_type": "stream",
     "text": [
      "True\n"
     ]
    }
   ],
   "source": [
    "a = \"New Delhi is the capital of India\"\n",
    "print(\"capital\" in a)"
   ]
  },
  {
   "cell_type": "code",
   "execution_count": 90,
   "id": "6718d7e6-742d-4cd5-bad3-a8abc1b2121f",
   "metadata": {},
   "outputs": [
    {
     "name": "stdout",
     "output_type": "stream",
     "text": [
      "False\n"
     ]
    }
   ],
   "source": [
    "a = \"New Delhi is the capital of India\"\n",
    "print(\"country\" in a)"
   ]
  },
  {
   "cell_type": "code",
   "execution_count": 92,
   "id": "a99f20b5-cf71-4209-bd88-f6fc6b17d47d",
   "metadata": {},
   "outputs": [
    {
     "name": "stdout",
     "output_type": "stream",
     "text": [
      "Yes, capital is present\n"
     ]
    }
   ],
   "source": [
    "a = \"New Delhi is the capital of India\"\n",
    "if \"capital\" in a:\n",
    "    print(\"Yes, capital is present\")"
   ]
  },
  {
   "cell_type": "markdown",
   "id": "e2d1b784-f418-481d-bbcc-2969d984f373",
   "metadata": {},
   "source": [
    "###  ⮩ Check if Not present - (not in)"
   ]
  },
  {
   "cell_type": "code",
   "execution_count": 93,
   "id": "7de44789-0b09-4aba-ba48-74114aece5f4",
   "metadata": {},
   "outputs": [
    {
     "name": "stdout",
     "output_type": "stream",
     "text": [
      "True\n"
     ]
    }
   ],
   "source": [
    "a = \"New Delhi is the capital of India\"\n",
    "print(\"Bombay\" not in a)"
   ]
  },
  {
   "cell_type": "code",
   "execution_count": 94,
   "id": "98322a9a-927d-4d1d-adce-caa95b9c1cc9",
   "metadata": {},
   "outputs": [
    {
     "name": "stdout",
     "output_type": "stream",
     "text": [
      "False\n"
     ]
    }
   ],
   "source": [
    "a = \"New Delhi is the capital of India\"\n",
    "print(\"Delhi\" not in a)"
   ]
  },
  {
   "cell_type": "markdown",
   "id": "f58625a1-27e4-4ae1-ad35-135acf494051",
   "metadata": {},
   "source": [
    "# ➩ __Strings with special symbols__\n",
    "### _To insert characters that are illegal in a string, use an escape character. An escape character is a backslash \\ followed by the character you want to insert_."
   ]
  },
  {
   "cell_type": "code",
   "execution_count": 1,
   "id": "8da09d3f-c2b0-49ac-bc0b-3d990f93a480",
   "metadata": {},
   "outputs": [
    {
     "name": "stdout",
     "output_type": "stream",
     "text": [
      "Hello \n",
      "World\n"
     ]
    }
   ],
   "source": [
    "s = \"Hello \\nWorld\"\n",
    "print(s)"
   ]
  },
  {
   "cell_type": "code",
   "execution_count": 15,
   "id": "1d99ceeb-d9db-44fb-95a4-178604ae33b1",
   "metadata": {},
   "outputs": [
    {
     "name": "stdout",
     "output_type": "stream",
     "text": [
      "Hello@World\n",
      "11\n",
      "<class 'str'>\n"
     ]
    }
   ],
   "source": [
    "s =\"Hello@World\"\n",
    "print(s)\n",
    "print(len(s))\n",
    "print(type(s))"
   ]
  },
  {
   "cell_type": "code",
   "execution_count": 11,
   "id": "734bb247-55ff-4164-9428-a38c29108def",
   "metadata": {},
   "outputs": [
    {
     "name": "stdout",
     "output_type": "stream",
     "text": [
      "Hello! \n",
      "i am Ranvijay\n",
      "21\n"
     ]
    }
   ],
   "source": [
    "s = \"\"\"Hello! \n",
    "i am Ranvijay\"\"\"\n",
    "print(s)\n",
    "print(len (s))"
   ]
  },
  {
   "cell_type": "code",
   "execution_count": 13,
   "id": "aceddf5b-8fa8-42fa-8b47-95b40c42305d",
   "metadata": {},
   "outputs": [
    {
     "name": "stdout",
     "output_type": "stream",
     "text": [
      "159\n",
      "To insert characters that are illegal in a string, use an escape character. An escape character is a backslash '' followed by the character you want to insert.\n"
     ]
    }
   ],
   "source": [
    "s = \"To insert characters that are illegal in a string, use an escape character. An escape character is a backslash '\\' followed by the character you want to insert.\"\n",
    "print(len(s))\n",
    "print(s)"
   ]
  },
  {
   "cell_type": "markdown",
   "id": "cf342d9d-572a-4365-a5db-bd50ab41cb23",
   "metadata": {},
   "source": [
    "## ⮩ Escape characters\n",
    "#### To insert characters that are illegal in a string, use an escape character. An escape character is a backslash '\\' followed by the character you want to insert.\""
   ]
  },
  {
   "cell_type": "code",
   "execution_count": 19,
   "id": "bbd1f391-906f-474d-ab4c-ec324e62ee0c",
   "metadata": {},
   "outputs": [
    {
     "name": "stdout",
     "output_type": "stream",
     "text": [
      "We are the so-called \"Vikings\" from the north.\n"
     ]
    }
   ],
   "source": [
    "txt = \"We are the so-called \\\"Vikings\\\" from the north.\"\n",
    "print(txt)"
   ]
  },
  {
   "cell_type": "markdown",
   "id": "e05c40bd-c68e-410a-ba8b-99f9a10c2346",
   "metadata": {},
   "source": [
    "#  __➩➩ Modify Strings in Python__ - _[ Methods in Strings]_\n",
    "# ⮩ __upper () method__\n",
    "### _The __upper()__ method in Python is a built-in string method used to convert all lowercase letters within a string to their uppercase equivalents._ \n",
    "##### ( Symbols and Numbers are ignored )."
   ]
  },
  {
   "cell_type": "code",
   "execution_count": 14,
   "id": "3407194c-06cf-44e9-bd77-1b4ae125895c",
   "metadata": {},
   "outputs": [
    {
     "name": "stdout",
     "output_type": "stream",
     "text": [
      "I LOVE CODING IN PYTHON\n"
     ]
    }
   ],
   "source": [
    "s = \"i love coding in python\"\n",
    "print(s.upper())"
   ]
  },
  {
   "cell_type": "code",
   "execution_count": 23,
   "id": "3052a248-f00e-41ff-85f2-08157a3e6683",
   "metadata": {},
   "outputs": [
    {
     "name": "stdout",
     "output_type": "stream",
     "text": [
      "I LOVE CODING IN PYTHON 12345\n"
     ]
    }
   ],
   "source": [
    "s = \"i loVE CODING in PyTHon 12345\"\n",
    "print(s.upper())"
   ]
  },
  {
   "cell_type": "code",
   "execution_count": 22,
   "id": "f648a3fc-20b7-4985-91dc-3448199bbb1a",
   "metadata": {},
   "outputs": [
    {
     "name": "stdout",
     "output_type": "stream",
     "text": [
      "I LOVE CODING IN PYTHON\n"
     ]
    }
   ],
   "source": [
    "s = \"i loVE CODING in PyTHon\"\n",
    "t = s.upper()\n",
    "print(t)"
   ]
  },
  {
   "cell_type": "code",
   "execution_count": 13,
   "id": "d6f1e5b3-5ac2-400d-9846-b01469c433f5",
   "metadata": {},
   "outputs": [
    {
     "name": "stdout",
     "output_type": "stream",
     "text": [
      "PRACTICE MAKES MAN PERFECT\n"
     ]
    }
   ],
   "source": [
    "x = \"PraCtice Makes MAN Perfect\"\n",
    "print(x.upper())"
   ]
  },
  {
   "cell_type": "markdown",
   "id": "c9c8c739-cdd8-4d60-aac9-c34ccb03598f",
   "metadata": {},
   "source": [
    "# ⮩ __lower () method__\n",
    "### _The __lower()__ method in Python is a built-in string method used to convert all uppercase characters within a string to their lowercase equivalents._\n",
    "  ##### ( Symbols and Numbers are ignored )."
   ]
  },
  {
   "cell_type": "code",
   "execution_count": 10,
   "id": "8a9d6428-fc8f-4d37-bace-5bd5398f5fae",
   "metadata": {},
   "outputs": [
    {
     "name": "stdout",
     "output_type": "stream",
     "text": [
      "practice makes man perfect\n"
     ]
    }
   ],
   "source": [
    "x = \"PraCtice Makes MAN Perfect\"\n",
    "print(x.lower())"
   ]
  },
  {
   "cell_type": "code",
   "execution_count": 11,
   "id": "9cffd65a-72b9-4044-864e-631a8b7e9ce7",
   "metadata": {},
   "outputs": [
    {
     "name": "stdout",
     "output_type": "stream",
     "text": [
      "the lower() method returns a string where all characters are lower case\n"
     ]
    }
   ],
   "source": [
    "x = \"The lower() method returns a string where all characters are lower case\"\n",
    "print(x.lower())"
   ]
  },
  {
   "cell_type": "code",
   "execution_count": 12,
   "id": "6b535897-61f5-439f-b128-d34c65a8464e",
   "metadata": {},
   "outputs": [
    {
     "name": "stdout",
     "output_type": "stream",
     "text": [
      "I AM VIJAY\n",
      "this is my python class\n"
     ]
    }
   ],
   "source": [
    "a = \"i am Vijay\"\n",
    "print(a.upper())\n",
    "\n",
    "b = \"THIS IS MY PYTHON CLASS\"\n",
    "print(b.lower())"
   ]
  },
  {
   "cell_type": "markdown",
   "id": "8e95e6c6-df82-4d31-b41f-05d0ed121c70",
   "metadata": {},
   "source": [
    "# ⮩ __casefold() Method__ \n",
    "### _Python String __casefold()__ method is used to convert string to __lowercase__._\n",
    "\n",
    "### _It is similar to the Python __lower()case__ method_"
   ]
  },
  {
   "cell_type": "code",
   "execution_count": 24,
   "id": "df827ad8-4b58-4480-af74-e27042145be1",
   "metadata": {},
   "outputs": [
    {
     "name": "stdout",
     "output_type": "stream",
     "text": [
      "ranvijay chauhan\n"
     ]
    }
   ],
   "source": [
    "string = \"RANVIJAY CHAUHAN\"\n",
    "\n",
    "print(string.casefold())"
   ]
  },
  {
   "cell_type": "code",
   "execution_count": 9,
   "id": "87d5b335-be7c-47dd-a685-4c8520fe0816",
   "metadata": {},
   "outputs": [
    {
     "name": "stdout",
     "output_type": "stream",
     "text": [
      "Original String: WeightAGE oF THe DiScuSSiON\n",
      "String after using casefold(): weightage of the discussion\n"
     ]
    }
   ],
   "source": [
    "string = \"WeightAGE oF THe DiScuSSiON\"\n",
    "\n",
    "print(\"Original String:\", string)\n",
    "                                        # print the string after casefold transformation\n",
    "print(\"String after using casefold():\", string.casefold())\n"
   ]
  },
  {
   "cell_type": "markdown",
   "id": "0e0cb3a5-5f2b-4b2a-9512-efe32026493e",
   "metadata": {},
   "source": [
    "# ⮩ __split () method__\n",
    "### _The __split()__ method splits a string into a list._\n",
    "\n",
    "#### _You can specify the separator , default separator is any whitespace._"
   ]
  },
  {
   "cell_type": "code",
   "execution_count": 2,
   "id": "8f26be75-0bf9-46b6-afd9-908852f5c5b0",
   "metadata": {},
   "outputs": [
    {
     "name": "stdout",
     "output_type": "stream",
     "text": [
      "['welcome', 'to', 'the', 'jungle']\n"
     ]
    }
   ],
   "source": [
    "txt = \"welcome to the jungle\"\n",
    "x = txt.split()\n",
    "print(x)"
   ]
  },
  {
   "cell_type": "code",
   "execution_count": 2,
   "id": "fe1c61fe-c70c-4ef2-90c6-82fea8f9311a",
   "metadata": {},
   "outputs": [
    {
     "name": "stdout",
     "output_type": "stream",
     "text": [
      "['hello', ' my name is Peter', ' I am 26 years old']\n"
     ]
    }
   ],
   "source": [
    "txt = \"hello, my name is Peter, I am 26 years old\"\n",
    "x = txt.split(\",\")\n",
    "print(x)\n"
   ]
  },
  {
   "cell_type": "code",
   "execution_count": 2,
   "id": "bcdcb89e-be4f-4627-8a20-af3b8faf712d",
   "metadata": {},
   "outputs": [
    {
     "name": "stdout",
     "output_type": "stream",
     "text": [
      "['apple', 'banana', 'cherry', 'orange']\n"
     ]
    }
   ],
   "source": [
    "txt = \"apple#banana#cherry#orange\"\n",
    "x = txt.split(\"#\")\n",
    "print(x)"
   ]
  },
  {
   "cell_type": "markdown",
   "id": "14aaaf5d-5c59-4896-a0f8-a5c738cb3434",
   "metadata": {},
   "source": [
    "\n",
    "# ⮩ __String concatenation__\n",
    "### _String concatenation means add two or more strings together. Use the + character to add a variable to another_.\n",
    "\n",
    "#### _Just like adding 2 numbers, you can add 2 strings too. This is called concatenation of strings._\n",
    "#### _To add 2 strings, simply use a '+' symbol between the 2 strings_"
   ]
  },
  {
   "cell_type": "code",
   "execution_count": 3,
   "id": "7428261b-f9cd-471f-b91a-fa199a41d43e",
   "metadata": {},
   "outputs": [
    {
     "name": "stdout",
     "output_type": "stream",
     "text": [
      "ViratKohli\n"
     ]
    }
   ],
   "source": [
    "final_string = \"Virat\"+\"Kohli\"\n",
    "print(final_string)"
   ]
  },
  {
   "cell_type": "code",
   "execution_count": 8,
   "id": "0493c593-e3b4-4cb8-bace-ede7b3842bf6",
   "metadata": {},
   "outputs": [
    {
     "name": "stdout",
     "output_type": "stream",
     "text": [
      "helloworld\n",
      "hello world\n"
     ]
    }
   ],
   "source": [
    "a = \"hello\"\n",
    "b = \"world\"\n",
    "\n",
    "print(a+b)\n",
    "print(a+ \" \"+b)"
   ]
  },
  {
   "cell_type": "code",
   "execution_count": 16,
   "id": "25b3e43d-ef19-49e1-85bf-0b4e4c4b8212",
   "metadata": {},
   "outputs": [
    {
     "name": "stdout",
     "output_type": "stream",
     "text": [
      "Data Data Data Data Data \n"
     ]
    }
   ],
   "source": [
    "a = \"Data \"\n",
    "print(a*5)"
   ]
  },
  {
   "cell_type": "code",
   "execution_count": 7,
   "id": "f3915421-220f-49c2-825b-3ce1fcd28f11",
   "metadata": {},
   "outputs": [
    {
     "name": "stdout",
     "output_type": "stream",
     "text": [
      "Hello  Good  Thank you \n",
      "How are you? I'm fine. See you later.\n"
     ]
    }
   ],
   "source": [
    "# Horizontal concatenation\n",
    "\n",
    "s1 = '''Hello \n",
    "How are you?'''\n",
    "s2 = '''Good \n",
    "I'm fine.'''\n",
    "s3 = '''Thank you \n",
    "See you later.'''\n",
    "                          # Split strings into lines\n",
    "a = s1.splitlines()\n",
    "b = s2.splitlines()\n",
    "c = s3.splitlines()\n",
    "\n",
    "                                # Concatenate lines horizontally\n",
    "result = [f\"{line1} {line2} {line3}\" for line1, line2, line3 in zip(a, b, c)]\n",
    "\n",
    "for line in result:\n",
    "    print(line)"
   ]
  },
  {
   "cell_type": "markdown",
   "id": "ed527d57-63b1-465d-805e-20a8831e9005",
   "metadata": {},
   "source": [
    "# ⮩  __replace () method__ :\n",
    "### _The __replace()__ method replaces all occurrences of a specified substring in a string and returns a new string without modifying the original_ "
   ]
  },
  {
   "cell_type": "code",
   "execution_count": 4,
   "id": "b64f63b4-6bad-42cd-811f-deb01526009c",
   "metadata": {},
   "outputs": [
    {
     "name": "stdout",
     "output_type": "stream",
     "text": [
      "hello world, i am learning data science\n"
     ]
    }
   ],
   "source": [
    "\n",
    "text = \"hello world, i am learning python\"\n",
    "repl = text.replace(\"python\", \"data science\")\n",
    "print(repl)"
   ]
  },
  {
   "cell_type": "code",
   "execution_count": 27,
   "id": "9b585f28-8182-41de-8fc2-d5e9065f3a98",
   "metadata": {},
   "outputs": [
    {
     "name": "stdout",
     "output_type": "stream",
     "text": [
      "python coding  is amazing python programming is awesome\n"
     ]
    }
   ],
   "source": [
    "a = \"python programming is amazing\"\n",
    "print(a.replace(\"programming\",\"coding \"),(a.replace(\"amazing\",\"awesome\")))"
   ]
  },
  {
   "cell_type": "code",
   "execution_count": 6,
   "id": "56295d85-333e-442f-9695-4b81b83283a3",
   "metadata": {},
   "outputs": [
    {
     "name": "stdout",
     "output_type": "stream",
     "text": [
      "The replace() method in Python is a built-in STRING method used to replace occurrences of a specified subSTRING with another subSTRING within a given STRING. It returns a new STRING with the replacements, leaving the original STRING unchanged. \n"
     ]
    }
   ],
   "source": [
    "text = \"The replace() method in Python is a built-in string method used to replace occurrences of a specified substring with another substring within a given string. It returns a new string with the replacements, leaving the original string unchanged. \"\n",
    "rep = text.replace(\"string\", \"STRING\")\n",
    "print(rep)"
   ]
  },
  {
   "cell_type": "markdown",
   "id": "727ae66b-49b1-44fc-8bad-7323e3b18444",
   "metadata": {},
   "source": [
    "# ⮩ __Index () method__ \n",
    "### _In Python, the __index()__ method is a built-in string method used to find the first occurrence of a specified substring within a string and return its starting index._"
   ]
  },
  {
   "cell_type": "code",
   "execution_count": 5,
   "id": "48580c77-ae15-4750-a1f5-22da8da22308",
   "metadata": {},
   "outputs": [
    {
     "name": "stdout",
     "output_type": "stream",
     "text": [
      "7\n"
     ]
    }
   ],
   "source": [
    "a = \"I want to learn\"\n",
    "print(a.index(\"to\"))"
   ]
  },
  {
   "cell_type": "code",
   "execution_count": 17,
   "id": "89849709-2f99-4e8b-943a-e444d9111860",
   "metadata": {},
   "outputs": [
    {
     "name": "stdout",
     "output_type": "stream",
     "text": [
      "2\n"
     ]
    }
   ],
   "source": [
    "b = \"abc\", \"def\", \"ghi\"\n",
    "print(b.index(\"ghi\"))"
   ]
  },
  {
   "cell_type": "code",
   "execution_count": 18,
   "id": "52f821b3-800b-4ca6-b52d-f476a88507d1",
   "metadata": {},
   "outputs": [
    {
     "name": "stdout",
     "output_type": "stream",
     "text": [
      "23\n"
     ]
    }
   ],
   "source": [
    "i = \"index method finds the first occurrence of the specified value\" \n",
    "print(i.index(\"first\"))"
   ]
  },
  {
   "cell_type": "code",
   "execution_count": 19,
   "id": "78dbc1aa-3673-4931-af85-00d2a7431f51",
   "metadata": {},
   "outputs": [
    {
     "name": "stdout",
     "output_type": "stream",
     "text": [
      "3\n"
     ]
    }
   ],
   "source": [
    "n = \"hello everyone\"\n",
    "m = n.index(\"lo\")\n",
    "print(m)"
   ]
  },
  {
   "cell_type": "code",
   "execution_count": 20,
   "id": "d5f4882e-25e2-422d-8264-639a75fd015c",
   "metadata": {},
   "outputs": [
    {
     "name": "stdout",
     "output_type": "stream",
     "text": [
      "19\n"
     ]
    }
   ],
   "source": [
    "s = \"Python programming is fun\"\n",
    "\n",
    "p = s.index(\"is\", 10, 25)\n",
    "print(p)"
   ]
  },
  {
   "cell_type": "markdown",
   "id": "478fe317-53a6-4194-8fe8-6fdb2446bd78",
   "metadata": {},
   "source": [
    "# ⮩  __find () method__\n",
    "### ___find()___ _method in Python returns the index of the first occurrence of a substring within a given string. If the substring is not found, it returns -1. This method is case-sensitive, which means \"abc\" is treated differently from \"ABC\"._"
   ]
  },
  {
   "cell_type": "code",
   "execution_count": 127,
   "id": "ca745b55-5d6a-467c-9e16-09893673488d",
   "metadata": {},
   "outputs": [
    {
     "name": "stdout",
     "output_type": "stream",
     "text": [
      "7\n"
     ]
    }
   ],
   "source": [
    "a = \"python is awesome\"\n",
    "b = a.find(\"is\")\n",
    "print(b)"
   ]
  },
  {
   "cell_type": "code",
   "execution_count": 128,
   "id": "dee5813a-6e65-4ac6-a77c-868a2fb313f6",
   "metadata": {},
   "outputs": [
    {
     "name": "stdout",
     "output_type": "stream",
     "text": [
      "10\n"
     ]
    }
   ],
   "source": [
    "a = \"python is awesome\"\n",
    "print(a.find(\"aw\"))"
   ]
  },
  {
   "cell_type": "code",
   "execution_count": 28,
   "id": "2633ed2e-186f-4023-b8f4-5291209288c2",
   "metadata": {},
   "outputs": [
    {
     "name": "stdout",
     "output_type": "stream",
     "text": [
      "2\n"
     ]
    }
   ],
   "source": [
    "print(a.find(\"thon\"))"
   ]
  },
  {
   "cell_type": "code",
   "execution_count": 31,
   "id": "2476c77e-bce7-4bba-9af6-1a1809e261f9",
   "metadata": {},
   "outputs": [
    {
     "name": "stdout",
     "output_type": "stream",
     "text": [
      "8\n",
      "21\n"
     ]
    }
   ],
   "source": [
    "x = \"I am Ranvijay Chauhan\"\n",
    "b = x.find(\"vijay\")\n",
    "print(b)\n",
    "print(len(x))"
   ]
  },
  {
   "cell_type": "code",
   "execution_count": 225,
   "id": "1fd34fc4-f2ca-4469-a7c8-2132487a8f75",
   "metadata": {},
   "outputs": [
    {
     "name": "stdout",
     "output_type": "stream",
     "text": [
      "0\n"
     ]
    }
   ],
   "source": [
    "s = \"Python is fun\"\n",
    "index = s.find(\"Python\")\n",
    "print(index)"
   ]
  },
  {
   "cell_type": "markdown",
   "id": "a720f097-5387-4eba-b0a1-8ea8f1e0a842",
   "metadata": {},
   "source": [
    "# ⮩  __title () method__\n",
    "### ___title()___ _method in Python is a simple way to convert a string to a title case, where the first letter of each word is capitalized and all other letters are lowercase._"
   ]
  },
  {
   "cell_type": "code",
   "execution_count": 246,
   "id": "a606de85-4a0a-4f5b-9b13-039e4e774057",
   "metadata": {},
   "outputs": [
    {
     "name": "stdout",
     "output_type": "stream",
     "text": [
      "Hello Ramesh\n"
     ]
    }
   ],
   "source": [
    "a = \"hello ramesh\"\n",
    "                     # Converts string to title case\n",
    "b = a.title()  \n",
    "print(b)"
   ]
  },
  {
   "cell_type": "code",
   "execution_count": 33,
   "id": "d83781a7-0228-41e7-8588-6e151a649c66",
   "metadata": {},
   "outputs": [
    {
     "name": "stdout",
     "output_type": "stream",
     "text": [
      " Hello Vijay\n"
     ]
    }
   ],
   "source": [
    "x = \" heLLo vIjay\"\n",
    "print(x.title())"
   ]
  },
  {
   "cell_type": "code",
   "execution_count": 34,
   "id": "c2beb158-8010-4b4f-abed-efba34864992",
   "metadata": {},
   "outputs": [
    {
     "name": "stdout",
     "output_type": "stream",
     "text": [
      "Sabhavath Ranvijay\n"
     ]
    }
   ],
   "source": [
    "y = \"SABHAVATH RANVIJAY\"\n",
    "print(y.title())"
   ]
  },
  {
   "cell_type": "code",
   "execution_count": 244,
   "id": "f922fbbe-ff6a-43ad-8580-76226bff693f",
   "metadata": {},
   "outputs": [
    {
     "name": "stdout",
     "output_type": "stream",
     "text": [
      "Hello Vijay\n"
     ]
    }
   ],
   "source": [
    "user_name = \"hello vijay\"\n",
    "formatted_name = user_name.title()\n",
    "\n",
    "print(formatted_name)"
   ]
  },
  {
   "cell_type": "markdown",
   "id": "18284c90-560c-471e-a32a-18f22cd57546",
   "metadata": {},
   "source": [
    "# ⮩ __Capitalize() method__ \n",
    "### _The __capitalize()__ method in Python is used to change the first letter of a string to uppercase and make all other letters lowercase._"
   ]
  },
  {
   "cell_type": "code",
   "execution_count": 196,
   "id": "ca9ff88a-2f46-47b7-9a5b-cb306a9434dd",
   "metadata": {},
   "outputs": [
    {
     "name": "stdout",
     "output_type": "stream",
     "text": [
      "Hello world\n"
     ]
    }
   ],
   "source": [
    "s = \"hello WORLD\"\n",
    "res = s.capitalize()\n",
    "print(res)"
   ]
  },
  {
   "cell_type": "code",
   "execution_count": 197,
   "id": "c1ec46da-fd33-4645-b819-a6b03fc87a33",
   "metadata": {},
   "outputs": [
    {
     "name": "stdout",
     "output_type": "stream",
     "text": [
      "Multiple words in a string\n"
     ]
    }
   ],
   "source": [
    "s = \"multiple WORDS IN a String\"\n",
    "res = s.capitalize()\n",
    "print(res)"
   ]
  },
  {
   "cell_type": "code",
   "execution_count": 35,
   "id": "95338579-5732-4e2d-ba3f-7f10ed1916df",
   "metadata": {},
   "outputs": [
    {
     "name": "stdout",
     "output_type": "stream",
     "text": [
      "123hello world\n",
      "123Hello World\n"
     ]
    }
   ],
   "source": [
    "s = \"123hello WORLD\"\n",
    "res = s.capitalize()\n",
    "print(res)\n",
    "\n",
    "print(s.title())"
   ]
  },
  {
   "cell_type": "markdown",
   "id": "1ad026e5-c534-4a2d-82c2-5af8e8c2a5be",
   "metadata": {},
   "source": [
    "# ⮩  __center () method in strings__\n",
    "### ___center()___ _method in Python is a simple and efficient way to center-align strings within a given width._  \n",
    "### _By default, it uses spaces to fill the extra space but can also be customized to use any character we want._"
   ]
  },
  {
   "cell_type": "code",
   "execution_count": 203,
   "id": "30679cd9-cad3-4024-8cdf-3aec7d2ad6bd",
   "metadata": {},
   "outputs": [
    {
     "name": "stdout",
     "output_type": "stream",
     "text": [
      "       hello        \n"
     ]
    }
   ],
   "source": [
    "s1 = \"hello\"\n",
    "s2 = s1.center(20)\n",
    "\n",
    "print(s2)"
   ]
  },
  {
   "cell_type": "code",
   "execution_count": 204,
   "id": "78aa3d43-45e4-4888-b955-f3185b366c71",
   "metadata": {},
   "outputs": [
    {
     "name": "stdout",
     "output_type": "stream",
     "text": [
      "-------hello--------\n"
     ]
    }
   ],
   "source": [
    "a = \"hello\"\n",
    "b = a.center(20, '-')\n",
    "\n",
    "print(b)"
   ]
  },
  {
   "cell_type": "code",
   "execution_count": 36,
   "id": "316e52dc-ca70-4630-9894-ff4b7090b78f",
   "metadata": {},
   "outputs": [
    {
     "name": "stdout",
     "output_type": "stream",
     "text": [
      "              hello              \n"
     ]
    }
   ],
   "source": [
    "a = \"hello\"\n",
    "b = a.center(33)\n",
    "\n",
    "print(b)"
   ]
  },
  {
   "cell_type": "code",
   "execution_count": 38,
   "id": "9207f571-e268-4eb2-91ed-786e829ab056",
   "metadata": {},
   "outputs": [
    {
     "name": "stdout",
     "output_type": "stream",
     "text": [
      "        Name        \n",
      "--------Age---------\n",
      "------Location------\n"
     ]
    }
   ],
   "source": [
    "h1 = \"Name\"\n",
    "h2 = \"Age\"\n",
    "h3 = \"Location\"\n",
    "\n",
    "s1 = h1.center(20)\n",
    "s2 = h2.center(20, '-')\n",
    "s3 = h3.center(20, '-')\n",
    "\n",
    "print(s1)\n",
    "print(s2)\n",
    "print(s3)"
   ]
  },
  {
   "cell_type": "markdown",
   "id": "73a714cd-25c3-49be-95d0-19425eac7d5d",
   "metadata": {},
   "source": [
    "# ⮩ __count () method in strings__\n",
    "### _The __count()__ method in Python returns the number of times a specified substring appears in a string._    \n",
    "#### _It is commonly used in string analysis to quickly check how often certain characters or words appear._"
   ]
  },
  {
   "cell_type": "code",
   "execution_count": 39,
   "id": "de8cb60b-19bc-4dcc-adcd-033c0cb468e1",
   "metadata": {},
   "outputs": [
    {
     "name": "stdout",
     "output_type": "stream",
     "text": [
      "3\n"
     ]
    }
   ],
   "source": [
    "s = \"hello world\"\n",
    "res = s.count(\"l\")\n",
    "print(res)"
   ]
  },
  {
   "cell_type": "code",
   "execution_count": 40,
   "id": "9421818d-36b9-4991-967e-351627bf6f44",
   "metadata": {},
   "outputs": [
    {
     "name": "stdout",
     "output_type": "stream",
     "text": [
      "2\n"
     ]
    }
   ],
   "source": [
    "s = \"Python is fun and Python is powerful.\"\n",
    "print(s.count(\"Python\"))"
   ]
  },
  {
   "cell_type": "code",
   "execution_count": 41,
   "id": "b08cf01b-7680-4795-a913-7719018caf0a",
   "metadata": {},
   "outputs": [
    {
     "name": "stdout",
     "output_type": "stream",
     "text": [
      "4\n"
     ]
    }
   ],
   "source": [
    "s = \"Ranvijaychauhan\"\n",
    "print(s.count(\"a\"))"
   ]
  },
  {
   "cell_type": "code",
   "execution_count": 42,
   "id": "e5a2389d-576d-4aee-8cab-6b5c0b89243d",
   "metadata": {},
   "outputs": [
    {
     "name": "stdout",
     "output_type": "stream",
     "text": [
      "1\n"
     ]
    }
   ],
   "source": [
    "s = \"apple banana apple grape apple\"\n",
    "substring = \"apple\"\n",
    "                                      # Using start and end parameters to count occurrences \n",
    "                                          # of \"apple\" within a specific range\n",
    "c = s.count(substring, 1, 20)  \n",
    "print(c)"
   ]
  },
  {
   "cell_type": "markdown",
   "id": "119ddae9-bfbc-4e6c-81af-f7fbb867156b",
   "metadata": {},
   "source": [
    "# ⮩ __startswith () method__\n",
    "### _The __startswith()__ method in Python checks whether a given string starts with a specific prefix_"
   ]
  },
  {
   "cell_type": "code",
   "execution_count": 43,
   "id": "33aaf69f-3528-4325-b19e-500d27920086",
   "metadata": {},
   "outputs": [
    {
     "name": "stdout",
     "output_type": "stream",
     "text": [
      "True\n"
     ]
    }
   ],
   "source": [
    "s = \"ranvijaychauhan\"\n",
    "\n",
    "r = s.startswith(\"ranv\")\n",
    "print(r)"
   ]
  },
  {
   "cell_type": "code",
   "execution_count": 23,
   "id": "1212d633-b1a2-42d5-b53b-16b4cc094d08",
   "metadata": {},
   "outputs": [
    {
     "name": "stdout",
     "output_type": "stream",
     "text": [
      "False\n"
     ]
    }
   ],
   "source": [
    "s = \"ranvijaychauhan\"\n",
    "\n",
    "res = s.startswith(\"cha\")\n",
    "print(res)"
   ]
  },
  {
   "cell_type": "code",
   "execution_count": 21,
   "id": "4aedfe73-a856-4c82-aa23-6ef4c2774fbe",
   "metadata": {},
   "outputs": [
    {
     "name": "stdout",
     "output_type": "stream",
     "text": [
      "False\n"
     ]
    }
   ],
   "source": [
    "a = \"im writing a python code\"\n",
    "print(a.startswith(\"a\"))"
   ]
  },
  {
   "cell_type": "code",
   "execution_count": 22,
   "id": "2381807d-336b-4918-a718-5a8078918d57",
   "metadata": {},
   "outputs": [
    {
     "name": "stdout",
     "output_type": "stream",
     "text": [
      "True\n"
     ]
    }
   ],
   "source": [
    "print(a.startswith(\"im\"))"
   ]
  },
  {
   "cell_type": "markdown",
   "id": "1ec6cdd0-bc7c-431d-903a-d810a231eebe",
   "metadata": {},
   "source": [
    "# ⮩ __endswith () method in strings__\n",
    "#### _The __endswith()__ method is a tool in Python for checking if a string ends with a particular substring. It can handle simple checks, multiple possible endings and specific ranges within the string. This method helps us make our code cleaner and more efficient, whether we're checking for file extensions, validating URLs or processing text._"
   ]
  },
  {
   "cell_type": "code",
   "execution_count": 24,
   "id": "d6fb863b-e535-4a94-89b8-e3d570a4b775",
   "metadata": {},
   "outputs": [
    {
     "name": "stdout",
     "output_type": "stream",
     "text": [
      "True\n"
     ]
    }
   ],
   "source": [
    "s = \"ranvijaychauhan\"\n",
    "res = s.endswith(\"han\")\n",
    "print(res)  "
   ]
  },
  {
   "cell_type": "code",
   "execution_count": 25,
   "id": "46661d67-07ca-4ee7-b29f-5961300aee35",
   "metadata": {},
   "outputs": [
    {
     "name": "stdout",
     "output_type": "stream",
     "text": [
      "True\n"
     ]
    }
   ],
   "source": [
    "s = \"ranvijaychauhan\"\n",
    "res = s.endswith((\"han\", \"com\", \"org\"))\n",
    "print(res)"
   ]
  },
  {
   "cell_type": "code",
   "execution_count": 47,
   "id": "71e08df5-abf5-46bf-af8b-ac48a12a5064",
   "metadata": {},
   "outputs": [
    {
     "name": "stdout",
     "output_type": "stream",
     "text": [
      "True\n"
     ]
    }
   ],
   "source": [
    "s = \"somewhere under the sky\"\n",
    "res = s.endswith(\"der\", 5, 15)\n",
    "print(res)"
   ]
  },
  {
   "cell_type": "markdown",
   "id": "c7b8ca9d-ec13-4713-9a90-148df725d4bc",
   "metadata": {},
   "source": [
    "# ⮩ __format() method__ \n",
    "#### _The __format()__ method in Python is a tool used to create formatted strings. By embedding variables or values into placeholders within a template string, we can construct dynamic, well-organized output. It replaces the outdated % formatting method, making string interpolation more readable and efficient_."
   ]
  },
  {
   "cell_type": "code",
   "execution_count": 26,
   "id": "7802a99c-335a-41d3-aae1-246342637020",
   "metadata": {},
   "outputs": [
    {
     "name": "stdout",
     "output_type": "stream",
     "text": [
      "My name is Ranvijay and I am 22 years old.\n"
     ]
    }
   ],
   "source": [
    "a = \"Ranvijay\"     # name \n",
    "b = 22            # age\n",
    "\n",
    "msg = \"My name is {0} and I am {1} years old.\".format(a,b)\n",
    "print(msg)"
   ]
  },
  {
   "cell_type": "code",
   "execution_count": 27,
   "id": "860158e2-3f6b-495a-a772-ea3a38b4b237",
   "metadata": {},
   "outputs": [
    {
     "name": "stdout",
     "output_type": "stream",
     "text": [
      "Hi! My name is User and I am 19 years old.\n"
     ]
    }
   ],
   "source": [
    "print(\"Hi! My name is {} and I am {} years old.\".format(\"User\", 19))"
   ]
  },
  {
   "cell_type": "code",
   "execution_count": 28,
   "id": "f8e0f5c5-9f8b-4814-8b4a-144e23ec6099",
   "metadata": {},
   "outputs": [
    {
     "name": "stdout",
     "output_type": "stream",
     "text": [
      "This is one two three four.\n"
     ]
    }
   ],
   "source": [
    "print(\"This is {} {} {} {}.\".format(\"one\", \"two\", \"three\", \"four\"))"
   ]
  },
  {
   "cell_type": "markdown",
   "id": "02d5d031-c920-4f07-9446-201f55d813d8",
   "metadata": {},
   "source": [
    "# ⮩ __join() method__\n",
    "### _The __join()__ method in Python is used to concatenate the elements of an iterable (such as a list, tuple, or set) into a single string with a specified delimiter placed between each element._"
   ]
  },
  {
   "cell_type": "code",
   "execution_count": 29,
   "id": "9ee63102-dbe3-414f-9ed0-5f81c55c1352",
   "metadata": {},
   "outputs": [
    {
     "name": "stdout",
     "output_type": "stream",
     "text": [
      "Hello world from Python\n"
     ]
    }
   ],
   "source": [
    "a = ['Hello', 'world', 'from', 'Python']\n",
    "res = ' '.join(a)\n",
    "print(res)"
   ]
  },
  {
   "cell_type": "code",
   "execution_count": 30,
   "id": "cc931c65-e9fe-4dc5-bb9b-936412cc4685",
   "metadata": {},
   "outputs": [
    {
     "name": "stdout",
     "output_type": "stream",
     "text": [
      "Learn-to-code\n"
     ]
    }
   ],
   "source": [
    "s = (\"Learn\", \"to\", \"code\")\n",
    "                          # Separator \"-\" is used to join strings\n",
    "res = \"-\".join(s)\n",
    "print(res)"
   ]
  },
  {
   "cell_type": "markdown",
   "id": "dc0f5a3b-4f86-4edc-a196-63ef902bb7df",
   "metadata": {},
   "source": [
    "# ⮩ __encode () method in Strings__\n",
    "### _String __encode()__ method in Python is used to convert a string into bytes using a specified encoding format. This method is beneficial when working with data that needs to be stored or transmitted in a specific encoding format, such as UTF-8, ASCII, or others._"
   ]
  },
  {
   "cell_type": "code",
   "execution_count": 31,
   "id": "fc3e88d6-ddda-46ea-ae18-34f3438ac72b",
   "metadata": {},
   "outputs": [
    {
     "name": "stdout",
     "output_type": "stream",
     "text": [
      "b'Hello, World!'\n"
     ]
    }
   ],
   "source": [
    "s = \"Hello, World!\"\n",
    "\n",
    "encoded_text = s.encode()\n",
    "print(encoded_text)"
   ]
  },
  {
   "cell_type": "code",
   "execution_count": 32,
   "id": "611f6418-d18e-4c25-90ff-78004e72d971",
   "metadata": {},
   "outputs": [
    {
     "name": "stdout",
     "output_type": "stream",
     "text": [
      "b'Python is fun!'\n"
     ]
    }
   ],
   "source": [
    "a = \"Python is fun!\"\n",
    "utf8_encoded = a.encode(\"utf-8\")\n",
    "print(utf8_encoded)"
   ]
  },
  {
   "cell_type": "code",
   "execution_count": 33,
   "id": "a0f04ea9-3d50-47d4-b8b2-6ea972bde3df",
   "metadata": {},
   "outputs": [
    {
     "name": "stdout",
     "output_type": "stream",
     "text": [
      "b'Pyth?n'\n"
     ]
    }
   ],
   "source": [
    "a = \"Pythön\"\n",
    "encoded_ascii = a.encode(\"ascii\", errors=\"replace\")\n",
    "print(encoded_ascii)"
   ]
  },
  {
   "cell_type": "code",
   "execution_count": 34,
   "id": "3b2d2437-6e3e-4d63-acab-e4ec701d4e17",
   "metadata": {},
   "outputs": [
    {
     "name": "stdout",
     "output_type": "stream",
     "text": [
      "b'Pyth\\\\xf6n'\n"
     ]
    }
   ],
   "source": [
    "a = \"Pythön\"\n",
    "\n",
    "encoded_backslash = a.encode(\"ascii\", errors=\"backslashreplace\")\n",
    "print(encoded_backslash)"
   ]
  },
  {
   "cell_type": "markdown",
   "id": "10a05284-2863-4f8c-8853-fbaee095b251",
   "metadata": {},
   "source": [
    "# ⮩ __expandtabs() method__ \n",
    "### ___expandtabs()__ method in Python is used to replace all tab characters (\\t) in a string with spaces._"
   ]
  },
  {
   "cell_type": "code",
   "execution_count": 35,
   "id": "05542383-2aba-4a25-9392-f74983dd0603",
   "metadata": {},
   "outputs": [
    {
     "name": "stdout",
     "output_type": "stream",
     "text": [
      "Name    Age     Location\n"
     ]
    }
   ],
   "source": [
    "s = \"Name\\tAge\\tLocation\"\n",
    "\n",
    "# Expanding tabs with the default spacing\n",
    "res = s.expandtabs()\n",
    "\n",
    "print(res)"
   ]
  },
  {
   "cell_type": "markdown",
   "id": "e650ccf0-fdf5-434c-8a59-a8cf46bc67ed",
   "metadata": {},
   "source": [
    "# ⮩ __Isalpha () method__\n",
    "### _The __isalpha()__ method checks if all characters in a given string are alphabetic. It returns True if every character in the string is a letter and False if the string contains any numbers, spaces, or special characters._"
   ]
  },
  {
   "cell_type": "code",
   "execution_count": 44,
   "id": "d5a534fc-0f39-486f-a8db-a4afe5c0b36b",
   "metadata": {},
   "outputs": [
    {
     "name": "stdout",
     "output_type": "stream",
     "text": [
      "True\n"
     ]
    }
   ],
   "source": [
    "s1 = \"HelloWorld\"\n",
    "i = s1.isalpha()\n",
    "print(i)"
   ]
  },
  {
   "cell_type": "code",
   "execution_count": 45,
   "id": "b9f85dba-2400-4d5d-929c-53eb0f6e61e3",
   "metadata": {},
   "outputs": [
    {
     "name": "stdout",
     "output_type": "stream",
     "text": [
      "False\n"
     ]
    }
   ],
   "source": [
    "s2 = \"Hello123\"\n",
    "i = s2.isalpha()\n",
    "print(i)"
   ]
  },
  {
   "cell_type": "markdown",
   "id": "81a5127a-965d-4f48-ba62-5feea57d1245",
   "metadata": {},
   "source": [
    "# ⮩ __islower method__\n",
    "### _The __islower()__ method in Python checks if all characters in a string are lowercase._"
   ]
  },
  {
   "cell_type": "code",
   "execution_count": 50,
   "id": "37bdea05-de53-42c3-885e-c4ef740883f7",
   "metadata": {},
   "outputs": [
    {
     "name": "stdout",
     "output_type": "stream",
     "text": [
      "True\n",
      "False\n"
     ]
    }
   ],
   "source": [
    "s1 = \"hello\"\n",
    "res1 = s1.islower()\n",
    "print(res1)\n",
    "\n",
    "s2 = \"Hello\"\n",
    "res2 = s2.islower()\n",
    "print(res2)"
   ]
  },
  {
   "cell_type": "code",
   "execution_count": 51,
   "id": "7cfba361-b66d-46c8-b017-ae4bc4dda043",
   "metadata": {},
   "outputs": [
    {
     "name": "stdout",
     "output_type": "stream",
     "text": [
      "True\n",
      "False\n"
     ]
    }
   ],
   "source": [
    "s3 = \"hello123\"\n",
    "res3 = s3.islower()\n",
    "print(res3)\n",
    "\n",
    "s4 = \"\"\n",
    "res4 = s4.islower()\n",
    "print(res4)"
   ]
  },
  {
   "cell_type": "code",
   "execution_count": 47,
   "id": "097be2cb-c6e8-42cb-b41a-00a8db65e86c",
   "metadata": {},
   "outputs": [
    {
     "name": "stdout",
     "output_type": "stream",
     "text": [
      "False\n"
     ]
    }
   ],
   "source": [
    "s5 = \"123@\"\n",
    "res5 = s5.islower()\n",
    "print(res5)"
   ]
  },
  {
   "cell_type": "markdown",
   "id": "ec080212-448f-4413-ae14-a8ab74cfe955",
   "metadata": {},
   "source": [
    "# ⮩ __isnumeric() method__\n",
    "### _The __isnumeric()__ method returns True if all the characters are numeric (0-9), otherwise False._ \n",
    "#### _Exponents, like ² and ¾ are also considered to be numeric values._"
   ]
  },
  {
   "cell_type": "code",
   "execution_count": 48,
   "id": "0221b264-eb9c-472c-a734-288bbba7e4f8",
   "metadata": {},
   "outputs": [
    {
     "name": "stdout",
     "output_type": "stream",
     "text": [
      "True\n"
     ]
    }
   ],
   "source": [
    "txt = \"565543\"\n",
    "x = txt.isnumeric()\n",
    "print(x)"
   ]
  },
  {
   "cell_type": "code",
   "execution_count": 49,
   "id": "d004d380-8b93-4688-8c3f-7485e7bd6ca7",
   "metadata": {},
   "outputs": [
    {
     "name": "stdout",
     "output_type": "stream",
     "text": [
      "True\n",
      "True\n",
      "False\n",
      "False\n",
      "False\n"
     ]
    }
   ],
   "source": [
    "a = \"\\u0030\"         # unicode for 0\n",
    "b = \"\\u00B2\"         # unicode for & sup2;\n",
    "c = \"10km2\"\n",
    "d = \"\"123451\"\n",
    "e = \"1.5\"\n",
    "\n",
    "print(a.isnumeric())\n",
    "print(b.isnumeric())\n",
    "print(c.isnumeric())\n",
    "print(d.isnumeric())\n",
    "print(e.isnumeric())"
   ]
  },
  {
   "cell_type": "code",
   "execution_count": 50,
   "id": "2aa1b2e2-d932-40fe-93c8-ef76ff56b5dd",
   "metadata": {},
   "outputs": [
    {
     "name": "stdout",
     "output_type": "stream",
     "text": [
      "True\n",
      "True\n",
      "False\n"
     ]
    }
   ],
   "source": [
    "str1 = \"12³\"             # Contains a superscript\n",
    "str2 = \"½\"               # Contains a fraction\n",
    "str3 = \"Hello123\"\n",
    "print(str1.isnumeric())\n",
    "print(str2.isnumeric())\n",
    "print(str3.isnumeric())"
   ]
  },
  {
   "cell_type": "markdown",
   "id": "2a585692-d0e0-4589-a50c-88fec81325c9",
   "metadata": {},
   "source": [
    "# ⮩ __The isalnum() method__ \n",
    "### _in Python is a built-in string method used to check if all characters in a string are alphanumeric. Alphanumeric characters include letters (a-z, A-Z) and numbers (0-9)_. "
   ]
  },
  {
   "cell_type": "code",
   "execution_count": 56,
   "id": "5dd7caf2-f0db-4491-84a8-331473b42e65",
   "metadata": {},
   "outputs": [
    {
     "name": "stdout",
     "output_type": "stream",
     "text": [
      "True\n",
      "False\n"
     ]
    }
   ],
   "source": [
    "string1 = \"HelloWorld123\"    # Returns True: All characters are alphanumeric\n",
    "print(string1.isalnum())\n",
    "\n",
    "                          # Returns False: Contains a space\n",
    "string2 = \"Hello World\"\n",
    "print(string2.isalnum())"
   ]
  },
  {
   "cell_type": "code",
   "execution_count": 55,
   "id": "bbbdffce-4225-46f8-b1e2-6fa46c3a94ab",
   "metadata": {},
   "outputs": [
    {
     "name": "stdout",
     "output_type": "stream",
     "text": [
      "False\n",
      "True\n"
     ]
    }
   ],
   "source": [
    "                               # Returns False: Contains a special symbol\n",
    "string3 = \"Python!\"\n",
    "print(string3.isalnum())\n",
    "                             # Returns True: Contains only digits\n",
    "string4 = \"12345\"\n",
    "print(string4.isalnum())"
   ]
  },
  {
   "cell_type": "code",
   "execution_count": 54,
   "id": "7e0fd2d5-651e-4a98-ab5f-c0daa452798e",
   "metadata": {},
   "outputs": [
    {
     "name": "stdout",
     "output_type": "stream",
     "text": [
      "False\n"
     ]
    }
   ],
   "source": [
    "                             # Returns False: Empty string\n",
    "string5 = \"\"\n",
    "print(string5.isalnum())"
   ]
  },
  {
   "cell_type": "code",
   "execution_count": 52,
   "id": "7892401a-7b12-46fb-b8c4-03eccea6c199",
   "metadata": {},
   "outputs": [
    {
     "name": "stdout",
     "output_type": "stream",
     "text": [
      "Anything\n",
      "Anything\n",
      "ANYTHING\n",
      "anything\n",
      "False\n",
      "True\n",
      "False\n",
      "True\n",
      "True\n"
     ]
    }
   ],
   "source": [
    "word = 'anything'\n",
    "                            # some useful methods\n",
    "print(word.capitalize() )\n",
    "print(word.title() )\n",
    "\n",
    "print(word.upper())\n",
    "print(word.lower())\n",
    "\n",
    "print(word.isupper())\n",
    "print(word.islower())\n",
    "\n",
    "print(word.isnumeric())  \n",
    "print(word.isalpha())  \n",
    "print(word.isalnum())          # it checks whether the string has either alphabets or/and numbers"
   ]
  },
  {
   "cell_type": "markdown",
   "id": "0b0dd520-8c26-4ac4-b599-99e2dd221aed",
   "metadata": {},
   "source": [
    "# Practice Problems :\n"
   ]
  },
  {
   "cell_type": "code",
   "execution_count": null,
   "id": "4d6e8afb-0c11-4ee7-bce8-a1a7679ed916",
   "metadata": {},
   "outputs": [],
   "source": [
    "# PROBLEM : 1\n",
    "\n",
    "Write a Python function that takes a date string in the format \"YYYY-MM-DD\" and returns a tuple containing\n",
    "the year, month, and day as integers.\n",
    "\n",
    "Example Input: \"2024-05-28\"\n",
    "Expected Output:(2024, 5, 28)"
   ]
  },
  {
   "cell_type": "code",
   "execution_count": 36,
   "id": "119f1379-7400-4b78-8bd6-e532eb4d593a",
   "metadata": {},
   "outputs": [
    {
     "name": "stdout",
     "output_type": "stream",
     "text": [
      "(2024, 5, 28)\n",
      "(2032, 10, 15)\n"
     ]
    }
   ],
   "source": [
    "def extract_date_parts(date_string):\n",
    "    year = int(date_string[0:4])\n",
    "    month = int(date_string[5:7])\n",
    "    day = int(date_string[8:])\n",
    "    return (year, month, day)\n",
    "\n",
    "# Example usage\n",
    "print(extract_date_parts(\"2024-05-28\"))  # Output: (2024, 5, 28)\n",
    "print(extract_date_parts(\"2032-10-15\"))  # Output: (2032, 10, 15)\n"
   ]
  },
  {
   "cell_type": "code",
   "execution_count": 37,
   "id": "ea636e8b-f10f-4627-a26f-7f2f2c5adc83",
   "metadata": {},
   "outputs": [
    {
     "ename": "SyntaxError",
     "evalue": "invalid syntax (1939507574.py, line 3)",
     "output_type": "error",
     "traceback": [
      "\u001b[1;36m  Cell \u001b[1;32mIn[37], line 3\u001b[1;36m\u001b[0m\n\u001b[1;33m    Write a Python program to reverse the string \"honesty is the best policy\"\u001b[0m\n\u001b[1;37m          ^\u001b[0m\n\u001b[1;31mSyntaxError\u001b[0m\u001b[1;31m:\u001b[0m invalid syntax\n"
     ]
    }
   ],
   "source": [
    "# PROBLEM : 2\n",
    "\n",
    "Write a Python program to reverse the string \"honesty is the best policy\""
   ]
  },
  {
   "cell_type": "code",
   "execution_count": 38,
   "id": "842b605a-e0ee-428e-a425-a4af0880afc0",
   "metadata": {},
   "outputs": [
    {
     "name": "stdout",
     "output_type": "stream",
     "text": [
      "ycilop tseb eht si ytsenoh\n",
      "The reversed string is :  ycilop tseb eht si ytsenoh\n"
     ]
    }
   ],
   "source": [
    "x = \"honesty is the best policy\"\n",
    "print(x[::-1])\n",
    "print(\"The reversed string is : \", x[::-1])"
   ]
  },
  {
   "cell_type": "code",
   "execution_count": null,
   "id": "be373187-c40a-4655-86d6-5bbc1430577c",
   "metadata": {},
   "outputs": [],
   "source": [
    "# PROBLEM : 3\n",
    "\n",
    "Write a Python function that takes a string as input and returns the substring from the 3rd to the 8th character."
   ]
  },
  {
   "cell_type": "code",
   "execution_count": 39,
   "id": "f82530b4-91da-4eb8-b5cb-7f3e0ccaa0a0",
   "metadata": {},
   "outputs": [
    {
     "name": "stdin",
     "output_type": "stream",
     "text": [
      "Enter a sentence :  python is awesome\n"
     ]
    },
    {
     "name": "stdout",
     "output_type": "stream",
     "text": [
      "thon i\n"
     ]
    }
   ],
   "source": [
    "text = input(\"Enter a sentence : \")\n",
    "def substring_3_to_8(text):\n",
    "    print(text[2:8])\n",
    "substring_3_to_8(text)"
   ]
  },
  {
   "cell_type": "code",
   "execution_count": null,
   "id": "9d39ff97-c37f-484e-9391-fff9c856252b",
   "metadata": {},
   "outputs": [],
   "source": [
    "# PROBLEM : 4\n",
    "\n",
    "Write a Python function that takes a string as input and returns the substring from the 3rd to the 8th character.\n",
    "\n",
    "Examples:\n",
    "\"Data Science\"\n",
    "\"Hello World\"\n",
    "\"helo world, i am learning python\"\n",
    "\"All the best\""
   ]
  },
  {
   "cell_type": "code",
   "execution_count": 40,
   "id": "bc5bd8ec-af31-4d0c-9ca6-664cc8fbe7e4",
   "metadata": {},
   "outputs": [
    {
     "name": "stdout",
     "output_type": "stream",
     "text": [
      "ta Sci\n",
      "llo Wo\n"
     ]
    }
   ],
   "source": [
    "def substring_3_to_8(text):\n",
    "    return text[2:8]\n",
    "                                             # Test the function\n",
    "print(substring_3_to_8(\"Data Science\"))  # Output: 'ta Sci'\n",
    "print(substring_3_to_8(\"Hello World\"))   # Output: 'llo Wo'\n"
   ]
  },
  {
   "cell_type": "code",
   "execution_count": null,
   "id": "dff98665-9364-41fc-aa2a-97ffb69f114c",
   "metadata": {},
   "outputs": [],
   "source": [
    "# PROBLEM : 5\n",
    "\n",
    "Write a Python program that accomplishes the following tasks:\n",
    "\n",
    "1) Concatenate the strings \"hello\" and \"world\".\n",
    "2) Find the length of the resulting string from the concatenation.\n",
    "3) Extract the substring \"world\" from the concatenated string.\n",
    "4) Reverse the substring obtained in the previous step.\n",
    "5) Convert the reversed substring to uppercase.\n",
    "6) Replace the letter 'L' with 'X' in the reversed and uppercase substring."
   ]
  },
  {
   "cell_type": "code",
   "execution_count": 41,
   "id": "c903d605-3161-484e-a775-a0c4006fdabe",
   "metadata": {},
   "outputs": [
    {
     "name": "stdout",
     "output_type": "stream",
     "text": [
      "helloworld\n",
      "10\n",
      "world\n",
      "dlrow\n",
      "DLROW\n",
      "DXROW\n"
     ]
    }
   ],
   "source": [
    "concatenated_string = \"hello\" \"world\"\n",
    "length = len(concatenated_string)\n",
    "substring = concatenated_string[5:]\n",
    "reverse = substring[::-1]\n",
    "upper = reverse.upper()\n",
    "modify = upper.replace(\"L\", \"X\")\n",
    "\n",
    "print(concatenated_string)\n",
    "print(length)\n",
    "print(substring)\n",
    "print (reverse)\n",
    "print(upper)\n",
    "print(modify)"
   ]
  },
  {
   "cell_type": "code",
   "execution_count": null,
   "id": "6288d468-4ed4-4bd4-b765-e407af58dd18",
   "metadata": {},
   "outputs": [],
   "source": [
    "# PROBLEM : 6\n",
    "\n",
    "Write a python program to insert a string in between two strings. and find the length of the string ."
   ]
  },
  {
   "cell_type": "code",
   "execution_count": 42,
   "id": "910f46d1-80d4-4e84-8323-3e2d15e10e3e",
   "metadata": {},
   "outputs": [
    {
     "name": "stdout",
     "output_type": "stream",
     "text": [
      "New Delhi is a capital of india, and it is a beautiful city\n"
     ]
    }
   ],
   "source": [
    "a = \"New Delhi is a capital of india,\"\n",
    "b = \"it is a beautiful city\"\n",
    "c = a + \" and \" + b\n",
    "print(c)"
   ]
  },
  {
   "cell_type": "code",
   "execution_count": null,
   "id": "53959fdb-3d32-456d-bfb2-03436adffa45",
   "metadata": {},
   "outputs": [],
   "source": [
    "# PROBLEM : 7\n",
    "\n",
    "Vishal is creating a form and he wants to take the contact number as input. However, some people do\n",
    "not enter the number properly. Vishal is confused about how to verify whether the given number is in\n",
    "the correct format or not. To help Vishal write a python program to show how we can verify whether a\n",
    "given phone number is valid or not.\n",
    "● Note: A valid phone number contains 10 digits with 9,8 or 7 as the first digit. Phone number only\n",
    "contains numbers and not any character.\n",
    "● Hint:\n",
    "● User len() function to verify the number of digits.\n",
    "● Use isnumeric() function to check it only contains numeric values.\n",
    "● Use indexing to check whether the first character is 9,8 or 7 or not"
   ]
  },
  {
   "cell_type": "code",
   "execution_count": 54,
   "id": "70d4050d-1ecf-47f0-87c7-c95205b41011",
   "metadata": {},
   "outputs": [
    {
     "name": "stdin",
     "output_type": "stream",
     "text": [
      "type your phone number here pls :  8106101713\n"
     ]
    },
    {
     "name": "stdout",
     "output_type": "stream",
     "text": [
      "it has 10 digits\n",
      "it has all digits\n",
      "first letter is 8\n",
      "phone number is valid\n"
     ]
    }
   ],
   "source": [
    "phone = input('type your phone number here pls : ')\n",
    "if len(phone)==10:\n",
    "    print('it has 10 digits')\n",
    "    if  phone.isnumeric():              # if it is true\n",
    "        print('it has all digits')\n",
    "        if phone[0]=='9' or phone[0]=='8' or phone[0]=='7':\n",
    "            print('first letter is', phone[0])\n",
    "            print('phone number is valid')\n",
    "        else:\n",
    "            print('first letter is not 9,8,7')\n",
    "            print('phone number is not valid')\n",
    "    else:\n",
    "        print('it does not have all the characters as numeric')\n",
    "        \n",
    "else:\n",
    "    print('invalid phone number')"
   ]
  },
  {
   "cell_type": "code",
   "execution_count": 57,
   "id": "b3d38f85-4160-41fd-9e80-dc2122254654",
   "metadata": {},
   "outputs": [
    {
     "name": "stdin",
     "output_type": "stream",
     "text": [
      "type your phone nmber here pls :  8978771837\n"
     ]
    },
    {
     "name": "stdout",
     "output_type": "stream",
     "text": [
      "phone number is valid\n"
     ]
    }
   ],
   "source": [
    "phone = input('type your phone nmber here pls : ')\n",
    "if len(phone)==10 and phone.isnumeric() and phone[0]=='9' or phone[0]=='8' or phone[0]=='7':\n",
    "    print('phone number is valid')\n",
    "else:\n",
    "    print(' phone number is invalid')"
   ]
  },
  {
   "cell_type": "code",
   "execution_count": 57,
   "id": "05cfbac4-d1fe-47b4-ad3f-0844ccdd4fbc",
   "metadata": {},
   "outputs": [
    {
     "name": "stdin",
     "output_type": "stream",
     "text": [
      "type your pan number here ABC1234567\n"
     ]
    },
    {
     "name": "stdout",
     "output_type": "stream",
     "text": [
      "that's a valid pan number\n"
     ]
    }
   ],
   "source": [
    "# Checking pan number is correct or not\n",
    "\n",
    "pan = input('type your pan number here')\n",
    "if len(pan)==10 and pan.isupper() and pan.isalnum():\n",
    "    print(\"that's a valid pan number\")\n",
    "else:\n",
    "    print('incorrect pan number')"
   ]
  },
  {
   "cell_type": "code",
   "execution_count": 60,
   "id": "3edaeedd-5d09-4538-a95d-b6e27e71c4be",
   "metadata": {},
   "outputs": [
    {
     "name": "stdin",
     "output_type": "stream",
     "text": [
      "create a username Ranvijay\n",
      "create a password R67886\n",
      "confirm password R67886\n"
     ]
    },
    {
     "name": "stdout",
     "output_type": "stream",
     "text": [
      "password must have the length 8\n"
     ]
    },
    {
     "name": "stdin",
     "output_type": "stream",
     "text": [
      "do you wish to login? yes\n",
      "type your username Ranvijay\n",
      "type your password R67886\n"
     ]
    },
    {
     "name": "stdout",
     "output_type": "stream",
     "text": [
      "you have been succesfully logged into your account!\n"
     ]
    }
   ],
   "source": [
    "# PROBLEM\n",
    "\n",
    "username =input('create a username')\n",
    "if len(username)>=8:\n",
    "    pw =input('create a password')\n",
    "    pw2 = input('confirm password')    \n",
    "    if len(pw)>=8:        \n",
    "        if pw==pw2:\n",
    "            print('congrats! your account has been succesfully created')\n",
    "        else:\n",
    "            print(\"passwords don't match\")\n",
    "    else:\n",
    "        print('password must have the length 8')\n",
    "\n",
    "else:\n",
    "    print('username must exceed length 8')\n",
    "\n",
    "choice = input('do you wish to login?')\n",
    "if choice=='yes':\n",
    "    user =input('type your username')\n",
    "    pas =input('type your password')\n",
    "    if user==username and pas==pw:\n",
    "        print('you have been succesfully logged into your account!')\n",
    "    else:\n",
    "        print('incorrect username or password')\n",
    "elif choice=='no':\n",
    "    print('thank you!')\n",
    "else:\n",
    "    print('incorrect choice')"
   ]
  },
  {
   "cell_type": "code",
   "execution_count": null,
   "id": "403e350c-ec22-4b5a-9e6c-507508a973e3",
   "metadata": {},
   "outputs": [],
   "source": [
    "# Assignment\n",
    "\n",
    "username must have letters and numbers\n",
    "password must have letters, numbers, special characters and one uppercase letter"
   ]
  }
 ],
 "metadata": {
  "kernelspec": {
   "display_name": "Python 3 (ipykernel)",
   "language": "python",
   "name": "python3"
  },
  "language_info": {
   "codemirror_mode": {
    "name": "ipython",
    "version": 3
   },
   "file_extension": ".py",
   "mimetype": "text/x-python",
   "name": "python",
   "nbconvert_exporter": "python",
   "pygments_lexer": "ipython3",
   "version": "3.12.7"
  }
 },
 "nbformat": 4,
 "nbformat_minor": 5
}
