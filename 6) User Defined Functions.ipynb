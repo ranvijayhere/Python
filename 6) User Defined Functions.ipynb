{
 "cells": [
  {
   "cell_type": "markdown",
   "id": "7ceb94d1-3704-4ea5-a23c-74c7c34b1dfb",
   "metadata": {},
   "source": [
    "# __6) User Defined Functions__\n",
    "### _A User-Defined Function __( UDF )__ is a function __created by the user__ to perform specific tasks in a program ._  \n",
    "### _Unlike built-in functions provided by a programming language, UDFs allow for customization and code reusability, improving program structure and efficiency._"
   ]
  },
  {
   "cell_type": "markdown",
   "id": "fb1378b8-821b-4ba7-b7a4-110169e39cd2",
   "metadata": {},
   "source": [
    "##  Creating and Calling a User Defined function"
   ]
  },
  {
   "cell_type": "code",
   "execution_count": 15,
   "id": "fdc2c967-7a1f-4446-8068-f56abc2c73ec",
   "metadata": {},
   "outputs": [
    {
     "name": "stdout",
     "output_type": "stream",
     "text": [
      "hello from a function\n"
     ]
    }
   ],
   "source": [
    "def my_function():                            # function definition\n",
    "    print(\"hello from a function\")\n",
    "\n",
    "my_function()                                 # calling a function"
   ]
  },
  {
   "cell_type": "code",
   "execution_count": 20,
   "id": "e87a059f-bacb-4ecd-8c11-18b2ad2c891d",
   "metadata": {},
   "outputs": [
    {
     "name": "stdout",
     "output_type": "stream",
     "text": [
      "hello i am Ranvijay\n"
     ]
    }
   ],
   "source": [
    "def my_fun():\n",
    "    print(\"hello i am Ranvijay\")\n",
    "\n",
    "my_fun()"
   ]
  },
  {
   "cell_type": "code",
   "execution_count": 6,
   "id": "eee3aae2-06f9-4520-8879-6a73dd226614",
   "metadata": {},
   "outputs": [
    {
     "name": "stdout",
     "output_type": "stream",
     "text": [
      "I love Python Coding\n"
     ]
    }
   ],
   "source": [
    "def function ():\n",
    "    x = \"I love Python Coding\"\n",
    "    print(x)\n",
    "\n",
    "function()"
   ]
  },
  {
   "cell_type": "code",
   "execution_count": 5,
   "id": "9e7ccb79-3b84-4d35-aee3-78e7d69a2e17",
   "metadata": {},
   "outputs": [
    {
     "name": "stdin",
     "output_type": "stream",
     "text": [
      "type a number here :  5\n",
      "type a number here :  6\n"
     ]
    },
    {
     "name": "stdout",
     "output_type": "stream",
     "text": [
      "Total :  11\n"
     ]
    }
   ],
   "source": [
    "def add():                       # function definition\n",
    "    x = int(input('type a number here : '))\n",
    "    y = int(input('type a number here : '))\n",
    "    print('Total : ', x+y)\n",
    "\n",
    "           # calling a function\n",
    "add()"
   ]
  },
  {
   "cell_type": "code",
   "execution_count": 23,
   "id": "cb4881bf-d7a2-4943-aef8-2123a4c1d434",
   "metadata": {},
   "outputs": [
    {
     "name": "stdin",
     "output_type": "stream",
     "text": [
      "enter your name :  Ranvijay\n",
      "enter the unit of electricity you have consumed :  400\n"
     ]
    },
    {
     "name": "stdout",
     "output_type": "stream",
     "text": [
      "total amount of bill you need to pay is:  4000\n",
      "the last date of the ill payment is on next week sunday\n",
      "after deadine, you need to pay rs 1000 as a fine\n",
      "pay oyur bill soon\n"
     ]
    },
    {
     "name": "stdin",
     "output_type": "stream",
     "text": [
      "enter your name :  vijay\n",
      "enter the unit of electricity you have consumed :  450\n"
     ]
    },
    {
     "name": "stdout",
     "output_type": "stream",
     "text": [
      "total amount of bill you need to pay is:  4500\n",
      "the last date of the ill payment is on next week sunday\n",
      "after deadine, you need to pay rs 1000 as a fine\n",
      "pay oyur bill soon\n"
     ]
    },
    {
     "name": "stdin",
     "output_type": "stream",
     "text": [
      "enter your name :  Ramesh\n",
      "enter the unit of electricity you have consumed :  440\n"
     ]
    },
    {
     "name": "stdout",
     "output_type": "stream",
     "text": [
      "total amount of bill you need to pay is:  4400\n",
      "the last date of the ill payment is on next week sunday\n",
      "after deadine, you need to pay rs 1000 as a fine\n",
      "pay oyur bill soon\n"
     ]
    }
   ],
   "source": [
    "# Example Problem - Generating a Electricity bill\n",
    "\n",
    "def details_bill():\n",
    "    print(\"the last date of the bill payment is on next week sunday\")\n",
    "    print(\"after deadline, you need to pay 1000 rs as a fine\")\n",
    "    print(\"pay your bill soon\")\n",
    "\n",
    "for i in range(3):\n",
    "    a = input(\"enter your name : \")\n",
    "    b = int(input(\"enter the unit of electricity you have consumed : \"))\n",
    "    bill = b*10\n",
    "    print(\"total amount of bill you need to pay is: \", bill)\n",
    "\n",
    "    details_bill()"
   ]
  },
  {
   "cell_type": "markdown",
   "id": "a61f1e8d-c73e-441c-b629-d0c8fa23c40f",
   "metadata": {},
   "source": [
    "## ➩ Making the result of the student :"
   ]
  },
  {
   "cell_type": "code",
   "execution_count": 21,
   "id": "77b10daf-d125-47e9-91e8-f3ba392ebca3",
   "metadata": {},
   "outputs": [
    {
     "name": "stdin",
     "output_type": "stream",
     "text": [
      "enter the name of the student : Ranvijay\n",
      "enter the marks of Maths :  89\n",
      "enter the marks of Science :  87\n",
      "enter the marks of Social :  79\n"
     ]
    },
    {
     "name": "stdout",
     "output_type": "stream",
     "text": [
      "total Marks secured = : 255\n",
      "contact details - \n",
      "delhi public school\n",
      "bangalore, karnataka\n",
      "82084673821\n",
      "\n"
     ]
    },
    {
     "name": "stdin",
     "output_type": "stream",
     "text": [
      "enter the name of the student : Madhu\n",
      "enter the marks of Maths :  89\n",
      "enter the marks of Science :  98\n",
      "enter the marks of Social :  78\n"
     ]
    },
    {
     "name": "stdout",
     "output_type": "stream",
     "text": [
      "total Marks secured = : 265\n",
      "contact details - \n",
      "delhi public school\n",
      "bangalore, karnataka\n",
      "82084673821\n",
      "\n"
     ]
    },
    {
     "name": "stdin",
     "output_type": "stream",
     "text": [
      "enter the name of the student : Vijay\n",
      "enter the marks of Maths :  78\n",
      "enter the marks of Science :  89\n",
      "enter the marks of Social :  67\n"
     ]
    },
    {
     "name": "stdout",
     "output_type": "stream",
     "text": [
      "total Marks secured = : 234\n",
      "contact details - \n",
      "delhi public school\n",
      "bangalore, karnataka\n",
      "82084673821\n",
      "\n"
     ]
    }
   ],
   "source": [
    "def contact ():\n",
    "    print(\"contact details - \")\n",
    "    print(\"delhi public school\")\n",
    "    print(\"bangalore, karnataka\")\n",
    "    print(\"82084673821\")\n",
    "    print()\n",
    "\n",
    "for i in range (3):\n",
    "    a = input(\"enter the name of the student :\")\n",
    "    b = int(input(\"enter the marks of Maths : \"))\n",
    "    c = int(input(\"enter the marks of Science : \"))\n",
    "    d = int(input(\"enter the marks of Social : \"))\n",
    "    total = b+c+d\n",
    "    print( \"total Marks secured = :\", total)\n",
    "    contact()"
   ]
  },
  {
   "cell_type": "markdown",
   "id": "cbc1d68b-56a7-470a-8f98-9ab83fa3a195",
   "metadata": {},
   "source": [
    "# ➩ Create a function which checks the number is even or odd"
   ]
  },
  {
   "cell_type": "code",
   "execution_count": 23,
   "id": "b916025a-67dc-4a6f-80d9-33acfd8dabd8",
   "metadata": {},
   "outputs": [
    {
     "name": "stdout",
     "output_type": "stream",
     "text": [
      "the number is odd\n"
     ]
    }
   ],
   "source": [
    "def check_even_odd (number):       # passing an argument (number)\n",
    "    if number%2== 0:\n",
    "        print(\"the number is even\")\n",
    "    else:\n",
    "        print(\"the number is odd\")\n",
    "\n",
    "check_even_odd(7)\n"
   ]
  },
  {
   "cell_type": "code",
   "execution_count": 24,
   "id": "676b713f-5d01-4793-9d43-d0bd5d8e2390",
   "metadata": {},
   "outputs": [
    {
     "name": "stdout",
     "output_type": "stream",
     "text": [
      "the number is even\n"
     ]
    }
   ],
   "source": [
    "check_even_odd(8)"
   ]
  },
  {
   "cell_type": "code",
   "execution_count": 9,
   "id": "c5823a39-9632-49db-ad64-c6f908635930",
   "metadata": {},
   "outputs": [
    {
     "name": "stdout",
     "output_type": "stream",
     "text": [
      "odd\n"
     ]
    }
   ],
   "source": [
    "             # function to check whether a number is even or odd\n",
    "\n",
    "def EvenOdd(x):\n",
    "    if x%2==0:\n",
    "        print('even')\n",
    "    else:\n",
    "        print('odd')\n",
    "EvenOdd(9)"
   ]
  },
  {
   "cell_type": "code",
   "execution_count": 10,
   "id": "d6db9850-4f43-4a25-9f50-31ee79369983",
   "metadata": {},
   "outputs": [
    {
     "name": "stdout",
     "output_type": "stream",
     "text": [
      "even\n"
     ]
    }
   ],
   "source": [
    "EvenOdd(4)"
   ]
  },
  {
   "cell_type": "code",
   "execution_count": 11,
   "id": "4ff8a5eb-e388-4f12-b3d6-fda27e1b12a5",
   "metadata": {},
   "outputs": [
    {
     "name": "stdout",
     "output_type": "stream",
     "text": [
      "odd\n"
     ]
    }
   ],
   "source": [
    "EvenOdd(3)"
   ]
  },
  {
   "cell_type": "markdown",
   "id": "69bcbd7e-cfb3-4b8a-ad77-ff3af6f4124a",
   "metadata": {},
   "source": [
    "# ➩ Function with __return value__\n",
    "### _A function can return a value using the return statement. This allows the function to send back a result for further computation._"
   ]
  },
  {
   "cell_type": "code",
   "execution_count": 25,
   "id": "75f2415c-7d11-480c-a228-e9ace057ea48",
   "metadata": {},
   "outputs": [
    {
     "name": "stdout",
     "output_type": "stream",
     "text": [
      "25\n"
     ]
    }
   ],
   "source": [
    "def fun(num):\n",
    "    return num * num\n",
    "                      # function calling\n",
    "var = fun(5)\n",
    "print(var)"
   ]
  },
  {
   "cell_type": "code",
   "execution_count": 26,
   "id": "c7b12169-5a9b-4e17-880d-dad3fa390c4c",
   "metadata": {},
   "outputs": [
    {
     "data": {
      "text/plain": [
       "36"
      ]
     },
     "execution_count": 26,
     "metadata": {},
     "output_type": "execute_result"
    }
   ],
   "source": [
    "fun(6)"
   ]
  },
  {
   "cell_type": "code",
   "execution_count": 7,
   "id": "124f57da-1818-49c6-a114-1e90f3508517",
   "metadata": {},
   "outputs": [
    {
     "data": {
      "text/plain": [
       "'not prime'"
      ]
     },
     "execution_count": 7,
     "metadata": {},
     "output_type": "execute_result"
    }
   ],
   "source": [
    "def prime(x):\n",
    "    for i in range( 2, x):\n",
    "        if x%i==0:\n",
    "            return 'not prime'\n",
    "    else:\n",
    "        return 'prime'\n",
    "\n",
    "prime(8)"
   ]
  },
  {
   "cell_type": "code",
   "execution_count": 22,
   "id": "67a27887-5bcd-4b44-8f22-08dcde887646",
   "metadata": {},
   "outputs": [
    {
     "name": "stdout",
     "output_type": "stream",
     "text": [
      "[5, 7, 11, 13, 17, 19, 23, 29, 31, 37, 41, 43, 47, 53, 59, 61, 67, 71, 73, 79, 83, 89, 97]\n"
     ]
    }
   ],
   "source": [
    "def prime(x):\n",
    "    for i in range(2,x):\n",
    "        if x%i==0:\n",
    "            return False\n",
    "            break\n",
    "    else:\n",
    "        return True\n",
    "\n",
    "lower = 5\n",
    "upper = 100\n",
    "primes = [x for x in range(lower, upper) if prime(x)==True]\n",
    "print(primes)"
   ]
  },
  {
   "cell_type": "markdown",
   "id": "0bd67a40-7706-4e13-9e3f-c46e4d7c4f31",
   "metadata": {},
   "source": [
    "# ➩ __Local and Global variables__\n",
    "## Local Variable\n",
    "### _Local variables are declared within a function or a specific block of code._"
   ]
  },
  {
   "cell_type": "code",
   "execution_count": 2,
   "id": "4179f377-3543-4c18-be95-c4dbe1870ede",
   "metadata": {},
   "outputs": [
    {
     "name": "stdout",
     "output_type": "stream",
     "text": [
      "Hi\n",
      "Greetings\n",
      "Hello\n"
     ]
    }
   ],
   "source": [
    "global_message = \"Hello\"        # Global variable\n",
    "\n",
    "def greet():\n",
    "    local_message = \"Hi\"        # Local variable\n",
    "    print(local_message)        # Accesses the local_message\n",
    "\n",
    "def another_greet():\n",
    "    global_message = \"Greetings\"     # Creates a new local variable named global_message\n",
    "    print(global_message)        # Accesses the local global_message\n",
    "\n",
    "greet()                                          # Output: Hi\n",
    "another_greet()                                  # Output: Greetings\n",
    "print(global_message)                            # Output: Hello (The global_message remains unchanged)"
   ]
  },
  {
   "cell_type": "code",
   "execution_count": 1,
   "id": "00e4588f-e810-4cce-981a-60dcd1a5dc97",
   "metadata": {},
   "outputs": [
    {
     "name": "stdout",
     "output_type": "stream",
     "text": [
      "Alex\n",
      "112\n"
     ]
    }
   ],
   "source": [
    "class Student:\n",
    "    def Name(self):\n",
    "        name = 'Alex'     # local variable\n",
    "        print(name)\n",
    "    def Id(self):\n",
    "        id = 112\n",
    "        print(id)\n",
    "\n",
    "s1 = Student()              # creating an object\n",
    "\n",
    "                            # calling methods with objects\n",
    "s1.Name()\n",
    "s1.Id()"
   ]
  },
  {
   "cell_type": "code",
   "execution_count": 12,
   "id": "6c2cbbb0-927b-4d38-97a6-5c556d221f63",
   "metadata": {},
   "outputs": [
    {
     "name": "stdout",
     "output_type": "stream",
     "text": [
      "50\n",
      "300\n"
     ]
    }
   ],
   "source": [
    "x = 100                                 # global variable\n",
    "y = 200\n",
    "def multiply():\n",
    "    x = 5                               # local variable - you can not use them outside the function\n",
    "    y = 10\n",
    "    print(x*y)\n",
    "\n",
    "multiply()\n",
    "print(x+y)"
   ]
  },
  {
   "cell_type": "markdown",
   "id": "0de92396-936e-4a56-911f-2c5cb82096cd",
   "metadata": {},
   "source": [
    "# ➩ Global Variables\n",
    "### _Global variables are declared outside of any function or class, at the top level of a module or script._"
   ]
  },
  {
   "cell_type": "code",
   "execution_count": 1,
   "id": "56f9b2d1-df8f-4006-85f7-ca485627b0f6",
   "metadata": {},
   "outputs": [
    {
     "name": "stdout",
     "output_type": "stream",
     "text": [
      "20\n"
     ]
    }
   ],
   "source": [
    "global_var = 10               # Global variable\n",
    "\n",
    "def modify_global():\n",
    "    global global_var          # Declare intent to modify the global variable\n",
    "    global_var = 20           # Modifies the global_var\n",
    "\n",
    "def read_global():\n",
    "    print(global_var)        # Accesses the global_var\n",
    "\n",
    "modify_global()\n",
    "read_global()               # Output: 20"
   ]
  },
  {
   "cell_type": "code",
   "execution_count": 1,
   "id": "90ca8159-fd9e-473e-984d-810b3feb0392",
   "metadata": {},
   "outputs": [
    {
     "name": "stdout",
     "output_type": "stream",
     "text": [
      "50\n"
     ]
    }
   ],
   "source": [
    "def multiply():\n",
    "    global x\n",
    "    global y\n",
    "    x=5  \n",
    "    y=10\n",
    "    return x+y\n",
    "\n",
    "multiply()\n",
    "print(x*y)"
   ]
  },
  {
   "cell_type": "code",
   "execution_count": 14,
   "id": "88eca668-efb5-4e49-bca8-6202d3efea47",
   "metadata": {},
   "outputs": [
    {
     "name": "stdout",
     "output_type": "stream",
     "text": [
      "15\n"
     ]
    }
   ],
   "source": [
    "result = multiply()\n",
    "print(result)"
   ]
  },
  {
   "cell_type": "markdown",
   "id": "a2464526-5ecf-439c-91b3-d7033b1c8ac4",
   "metadata": {},
   "source": [
    "# ➩ __Lambda Function__\n",
    "### _A __lambda()__ function is an anonymous (nameless) function that is defined in a single line using the lambda keyword. It is used for short, simple operations where defining a full function is unnecessary._"
   ]
  },
  {
   "cell_type": "code",
   "execution_count": 15,
   "id": "baa5db6d-d563-4782-a802-80521a2912f5",
   "metadata": {},
   "outputs": [
    {
     "data": {
      "text/plain": [
       "9"
      ]
     },
     "execution_count": 15,
     "metadata": {},
     "output_type": "execute_result"
    }
   ],
   "source": [
    "add = lambda x,y : x+y\n",
    "\n",
    "# calling a lambda function\n",
    "\n",
    "add(4,5)"
   ]
  },
  {
   "cell_type": "code",
   "execution_count": 37,
   "id": "2fb6434c-497f-4ea3-966a-bc1d13512460",
   "metadata": {},
   "outputs": [
    {
     "data": {
      "text/plain": [
       "25"
      ]
     },
     "execution_count": 37,
     "metadata": {},
     "output_type": "execute_result"
    }
   ],
   "source": [
    "mult = lambda x: x * x\n",
    "\n",
    "mult(5)"
   ]
  },
  {
   "cell_type": "code",
   "execution_count": 48,
   "id": "74c1a97a-3b23-4562-a56f-0af9ddfb0937",
   "metadata": {},
   "outputs": [
    {
     "data": {
      "text/plain": [
       "46656"
      ]
     },
     "execution_count": 48,
     "metadata": {},
     "output_type": "execute_result"
    }
   ],
   "source": [
    "res = lambda x : x ** x\n",
    "\n",
    "res(6)\n"
   ]
  },
  {
   "cell_type": "code",
   "execution_count": 43,
   "id": "8782ec3e-aa90-49b6-bd53-d97e5576f8cc",
   "metadata": {},
   "outputs": [
    {
     "data": {
      "text/plain": [
       "'odd'"
      ]
     },
     "execution_count": 43,
     "metadata": {},
     "output_type": "execute_result"
    }
   ],
   "source": [
    "evenOdd = lambda x : 'even' if x%2==0 else 'odd'\n",
    "\n",
    "evenOdd(9345)"
   ]
  },
  {
   "cell_type": "code",
   "execution_count": 44,
   "id": "93dcb0c8-6a83-4745-9392-10f71bc37b75",
   "metadata": {},
   "outputs": [
    {
     "data": {
      "text/plain": [
       "'even'"
      ]
     },
     "execution_count": 44,
     "metadata": {},
     "output_type": "execute_result"
    }
   ],
   "source": [
    "evenOdd(566)"
   ]
  },
  {
   "cell_type": "code",
   "execution_count": 42,
   "id": "b2ac5dad-141f-4486-9049-abd433abf5cb",
   "metadata": {},
   "outputs": [
    {
     "name": "stdout",
     "output_type": "stream",
     "text": [
      "odd\n"
     ]
    }
   ],
   "source": [
    "evenOdd = lambda x : 'even' if x%2==0 else 'odd'\n",
    "\n",
    "result = evenOdd(9345)\n",
    "print(result)"
   ]
  },
  {
   "cell_type": "code",
   "execution_count": 3,
   "id": "aad58403-f3d4-4b32-9716-a2a224925cce",
   "metadata": {},
   "outputs": [
    {
     "data": {
      "text/plain": [
       "'not perfect'"
      ]
     },
     "execution_count": 3,
     "metadata": {},
     "output_type": "execute_result"
    }
   ],
   "source": [
    "perfect_square = lambda x : 'perfect' if x**0.5 == int(x**0.5) else 'not perfect'          # comprehension\n",
    "\n",
    "perfect_square(35)"
   ]
  },
  {
   "cell_type": "code",
   "execution_count": 46,
   "id": "3343e9c5-d331-44bf-a2cc-ee5d130a2dfd",
   "metadata": {},
   "outputs": [
    {
     "data": {
      "text/plain": [
       "49"
      ]
     },
     "execution_count": 46,
     "metadata": {},
     "output_type": "execute_result"
    }
   ],
   "source": [
    "7*7"
   ]
  },
  {
   "cell_type": "code",
   "execution_count": 47,
   "id": "6dfaed59-6427-4795-82ba-e13744edf38c",
   "metadata": {},
   "outputs": [
    {
     "data": {
      "text/plain": [
       "7.0"
      ]
     },
     "execution_count": 47,
     "metadata": {},
     "output_type": "execute_result"
    }
   ],
   "source": [
    "49**0.5"
   ]
  },
  {
   "cell_type": "code",
   "execution_count": 50,
   "id": "4fc36c7c-6855-4f1a-9f4c-3f5da5c06c0b",
   "metadata": {},
   "outputs": [
    {
     "data": {
      "text/plain": [
       "18"
      ]
     },
     "execution_count": 50,
     "metadata": {},
     "output_type": "execute_result"
    }
   ],
   "source": [
    "6 + 6 + 6 "
   ]
  },
  {
   "cell_type": "markdown",
   "id": "d482ba77-015b-4b62-a10e-a189fada912a",
   "metadata": {},
   "source": [
    "# ➩➩➩ __Arguments__\n",
    "\n",
    "###  _Arguments are specified after the function name, inside the parentheses. You can add as many arguments as you want, just separate them with a comma ._"
   ]
  },
  {
   "cell_type": "markdown",
   "id": "274a4fdb-2897-400d-b667-c65b40674b9e",
   "metadata": {},
   "source": [
    "# ➩ Keyword Arguments :\n",
    "### _Function arguments can be passed using keywords to improve code readability._\n",
    "### _This ensures the correct mapping of values to parameters, regardless of their order._"
   ]
  },
  {
   "cell_type": "code",
   "execution_count": 52,
   "id": "2bbdf2fb-d849-4d49-a18e-1485e292dd62",
   "metadata": {},
   "outputs": [
    {
     "name": "stdout",
     "output_type": "stream",
     "text": [
      "First Name : Eric\n",
      "Last Name : Cartman\n"
     ]
    }
   ],
   "source": [
    "def display_info(first_name, last_name):\n",
    "    print('First Name :', first_name)\n",
    "    print('Last Name :', last_name)\n",
    "\n",
    "display_info(last_name = 'Cartman', first_name = 'Eric')"
   ]
  },
  {
   "cell_type": "code",
   "execution_count": 53,
   "id": "2305165f-208a-4f5a-a2e9-e8e907671c43",
   "metadata": {},
   "outputs": [
    {
     "name": "stdout",
     "output_type": "stream",
     "text": [
      "Ranviajy is 27 years old.\n"
     ]
    }
   ],
   "source": [
    "def fun(name, age):\n",
    "    print(name, \"is\", age, \"years old.\") \n",
    "    \n",
    "                                  # function call\n",
    "fun(age=27, name=\"Ranvijay\")"
   ]
  },
  {
   "cell_type": "code",
   "execution_count": 8,
   "id": "d371c8bd-d463-47fd-afd7-41b4796ee158",
   "metadata": {},
   "outputs": [
    {
     "name": "stdout",
     "output_type": "stream",
     "text": [
      "Ranvijay is 27 years old.\n"
     ]
    }
   ],
   "source": [
    "def fun(name, age):\n",
    "    print(name, \"is\", age, \"years old.\") \n",
    "                                  # function call\n",
    "fun('Ranvijay', '27')"
   ]
  },
  {
   "cell_type": "code",
   "execution_count": 4,
   "id": "8603b4a6-c77a-4591-b97d-48c92ecb551f",
   "metadata": {},
   "outputs": [
    {
     "name": "stdout",
     "output_type": "stream",
     "text": [
      "29\n"
     ]
    }
   ],
   "source": [
    "def numbers(x,y):\n",
    "    z = x+y\n",
    "    print(z)\n",
    "\n",
    "numbers(24,5)"
   ]
  },
  {
   "cell_type": "markdown",
   "id": "e2475503-1f15-483f-8a76-adb8dfb98bac",
   "metadata": {},
   "source": [
    "# ➩ Default Arguments :\n",
    "### _A default argument is a parameter that assumes a default value in Default Arguments ._"
   ]
  },
  {
   "cell_type": "code",
   "execution_count": 60,
   "id": "ce5017c9-10b2-457a-bef4-9819ffb111d5",
   "metadata": {},
   "outputs": [
    {
     "name": "stdout",
     "output_type": "stream",
     "text": [
      "13\n",
      "10\n"
     ]
    }
   ],
   "source": [
    "                             # functions with default argumnets\n",
    "def add(x=5, y=5, z=3):\n",
    "    print(x+y+z)\n",
    "\n",
    "add()\n",
    "add(2, 3, 5)"
   ]
  },
  {
   "cell_type": "code",
   "execution_count": 58,
   "id": "62ca98e6-7e1e-4cde-85ac-7b18e6750c72",
   "metadata": {},
   "outputs": [
    {
     "name": "stdout",
     "output_type": "stream",
     "text": [
      "7\n",
      "-3\n"
     ]
    }
   ],
   "source": [
    "                             # functions with default argumnets\n",
    "def add(x=5, y=5, z=3):\n",
    "    print(x+y-z)\n",
    "\n",
    "add()\n",
    "add(2, 3, 8)"
   ]
  },
  {
   "cell_type": "code",
   "execution_count": 56,
   "id": "3f22d66a-8e3e-41bc-b595-8a2a4a8e4fb3",
   "metadata": {},
   "outputs": [
    {
     "name": "stdout",
     "output_type": "stream",
     "text": [
      "Sum : 5\n",
      "Sum : 10\n",
      "Sum : 15\n"
     ]
    }
   ],
   "source": [
    "def add_numbers( a = 7,  b = 8):\n",
    "    sum = a + b\n",
    "    print('Sum :', sum)\n",
    "                           # function call with two arguments\n",
    "add_numbers(2, 3)\n",
    "                          #  function call with one argument\n",
    "add_numbers(a = 2)\n",
    "                        # function call with no arguments\n",
    "add_numbers()"
   ]
  },
  {
   "cell_type": "code",
   "execution_count": 8,
   "id": "8be6bce5-34cf-4c9e-973f-f20aafcc893c",
   "metadata": {},
   "outputs": [
    {
     "name": "stdout",
     "output_type": "stream",
     "text": [
      "Sum: 9\n"
     ]
    }
   ],
   "source": [
    "add_numbers(4, 5)"
   ]
  },
  {
   "cell_type": "code",
   "execution_count": 9,
   "id": "1005001a-9d6d-45ff-a1c6-d4ddfe017517",
   "metadata": {},
   "outputs": [
    {
     "name": "stdout",
     "output_type": "stream",
     "text": [
      "Sum: 33\n"
     ]
    }
   ],
   "source": [
    "add_numbers(25)"
   ]
  },
  {
   "cell_type": "code",
   "execution_count": 10,
   "id": "c1b77709-1748-49c8-99a3-08ad4b37deff",
   "metadata": {},
   "outputs": [
    {
     "name": "stdout",
     "output_type": "stream",
     "text": [
      "Sum: 15\n"
     ]
    }
   ],
   "source": [
    "add_numbers()"
   ]
  },
  {
   "cell_type": "code",
   "execution_count": 23,
   "id": "77c63722-998b-48be-a069-5375a1753065",
   "metadata": {},
   "outputs": [
    {
     "name": "stdout",
     "output_type": "stream",
     "text": [
      "10\n",
      "12\n",
      "70\n",
      "90\n"
     ]
    }
   ],
   "source": [
    "                                # functions with default argumnets\n",
    "def add(x=5, y=5):\n",
    "    print(x+y)\n",
    "\n",
    "add() \n",
    "add(x=7)\n",
    "add(y=65)\n",
    "add(34,56)"
   ]
  },
  {
   "cell_type": "code",
   "execution_count": 61,
   "id": "8eb0a3d4-8b85-4b55-af1c-c590dddb7910",
   "metadata": {},
   "outputs": [
    {
     "name": "stdout",
     "output_type": "stream",
     "text": [
      "x is :  10\n",
      "y is :  50\n"
     ]
    }
   ],
   "source": [
    "def myFun(x,y = 50):\n",
    "    print(\"x is : \",x)\n",
    "    print(\"y is : \", y)\n",
    "    \n",
    "myFun(10)"
   ]
  },
  {
   "cell_type": "code",
   "execution_count": 71,
   "id": "f5c920f8-44fa-404e-ae9c-405100e3e8a6",
   "metadata": {},
   "outputs": [
    {
     "name": "stdout",
     "output_type": "stream",
     "text": [
      "6 , 7\n",
      "13\n",
      "3 , 6\n",
      "9\n"
     ]
    }
   ],
   "source": [
    "def fun(x,y = 7) :\n",
    "    print(x ,',' ,y)\n",
    "    print(x+y)\n",
    "\n",
    "fun(6)\n",
    "fun(3,6)"
   ]
  },
  {
   "cell_type": "code",
   "execution_count": 4,
   "id": "92618dc2-b478-4204-ab0a-fbf34ef99190",
   "metadata": {},
   "outputs": [
    {
     "name": "stdout",
     "output_type": "stream",
     "text": [
      "8\n"
     ]
    }
   ],
   "source": [
    "                      # functions with arguments\n",
    "def add(x, y):\n",
    "    print(x+y)\n",
    "\n",
    "add(3,5)               # must pass arguments"
   ]
  },
  {
   "cell_type": "code",
   "execution_count": 5,
   "id": "cbc09171-57e8-4695-9404-a2d771defb7e",
   "metadata": {},
   "outputs": [
    {
     "name": "stdout",
     "output_type": "stream",
     "text": [
      "21\n"
     ]
    }
   ],
   "source": [
    "add(9,12)"
   ]
  },
  {
   "cell_type": "code",
   "execution_count": 6,
   "id": "64d65aa2-f9f0-4a6a-b1c0-c8ba436f485c",
   "metadata": {},
   "outputs": [
    {
     "name": "stdout",
     "output_type": "stream",
     "text": [
      "690\n"
     ]
    }
   ],
   "source": [
    "add(345, 345)"
   ]
  },
  {
   "cell_type": "code",
   "execution_count": 9,
   "id": "5cdbd77b-1bc0-4850-9ac4-665b80dcdc98",
   "metadata": {},
   "outputs": [
    {
     "name": "stdout",
     "output_type": "stream",
     "text": [
      "14\n"
     ]
    }
   ],
   "source": [
    "def add(x,y):\n",
    "    print(x+y)\n",
    "\n",
    "def add(x,y,z):\n",
    "    print(x+y+z)\n",
    "\n",
    "add(2,5,7)"
   ]
  },
  {
   "cell_type": "code",
   "execution_count": 5,
   "id": "551fe1a6-df39-4e44-aa98-af89817ae454",
   "metadata": {},
   "outputs": [
    {
     "name": "stdout",
     "output_type": "stream",
     "text": [
      "15\n"
     ]
    }
   ],
   "source": [
    "def add(x,y):\n",
    "    print(x+y)\n",
    "\n",
    "def adddd(x,y,z):\n",
    "    print(x+y+z)\n",
    "\n",
    "adddd(5,3,7)"
   ]
  },
  {
   "cell_type": "code",
   "execution_count": 6,
   "id": "fea248e3-1724-4ddf-91ac-57e3a9166450",
   "metadata": {},
   "outputs": [
    {
     "name": "stdout",
     "output_type": "stream",
     "text": [
      "12\n"
     ]
    }
   ],
   "source": [
    "add(5,7)"
   ]
  },
  {
   "cell_type": "code",
   "execution_count": 8,
   "id": "7e75746c-3ab7-41b0-b59c-a7615bf139d2",
   "metadata": {},
   "outputs": [
    {
     "name": "stdout",
     "output_type": "stream",
     "text": [
      "22\n"
     ]
    }
   ],
   "source": [
    "adddd(5,8,9)"
   ]
  },
  {
   "cell_type": "code",
   "execution_count": 85,
   "id": "fce5bd42-b553-4ef8-9532-ce79e57c2fd0",
   "metadata": {},
   "outputs": [
    {
     "name": "stdout",
     "output_type": "stream",
     "text": [
      "Hello, Alice!\n"
     ]
    }
   ],
   "source": [
    "def myname(name):\n",
    "    print(f\"Hello, {name}!\")     # using Format -f\n",
    "\n",
    "myname(\"Alice\")"
   ]
  },
  {
   "cell_type": "markdown",
   "id": "3a3acfb7-fe79-43bb-909c-849c7b59a200",
   "metadata": {},
   "source": [
    "##### with return statement"
   ]
  },
  {
   "cell_type": "code",
   "execution_count": 86,
   "id": "6c937349-3e0d-47ac-becf-01a7e3da9c30",
   "metadata": {},
   "outputs": [
    {
     "name": "stdout",
     "output_type": "stream",
     "text": [
      "The sum is: 8\n"
     ]
    }
   ],
   "source": [
    "def add_numbers(a, b):\n",
    "        sum_result = a + b\n",
    "        return sum_result\n",
    "\n",
    "result = add_numbers(5, 3)\n",
    "print(f\"The sum is: {result}\")      # Format"
   ]
  },
  {
   "cell_type": "code",
   "execution_count": 87,
   "id": "40868312-ec0f-4136-a111-db795c006857",
   "metadata": {},
   "outputs": [
    {
     "data": {
      "text/plain": [
       "50"
      ]
     },
     "execution_count": 87,
     "metadata": {},
     "output_type": "execute_result"
    }
   ],
   "source": [
    "add_numbers(33,17)"
   ]
  },
  {
   "cell_type": "code",
   "execution_count": 14,
   "id": "56324d9e-c186-4829-a57d-e0276a3112c2",
   "metadata": {},
   "outputs": [
    {
     "name": "stdout",
     "output_type": "stream",
     "text": [
      "16\n",
      "64\n"
     ]
    }
   ],
   "source": [
    "def calculate_power(base, exp = 2):\n",
    "        return base ** exp\n",
    "\n",
    "print(calculate_power(4))           # Uses default exponent (2)\n",
    "print(calculate_power(4, 3))       # Overrides default exponent"
   ]
  },
  {
   "cell_type": "markdown",
   "id": "e0a4d463-b29f-4932-a3f1-77089e0aafd9",
   "metadata": {},
   "source": [
    "# ➩ Single Argument\n",
    "### _In Python, a \"single argument\" refers to a function designed to accept one piece of information when it is called. This information is passed into the function's parameters and can be used within the function's scope._"
   ]
  },
  {
   "cell_type": "code",
   "execution_count": 9,
   "id": "feb402c1-66a6-4afb-88e3-2f89a4a1511b",
   "metadata": {},
   "outputs": [
    {
     "name": "stdout",
     "output_type": "stream",
     "text": [
      "Hello, Alice!\n"
     ]
    }
   ],
   "source": [
    " def greet(name):\n",
    "        print(f\"Hello, {name}!\")\n",
    "\n",
    "greet(\"Alice\")"
   ]
  },
  {
   "cell_type": "code",
   "execution_count": 17,
   "id": "be7f7194-120c-4db1-b390-ce54df51bcba",
   "metadata": {},
   "outputs": [
    {
     "name": "stdout",
     "output_type": "stream",
     "text": [
      "The number is :  34\n"
     ]
    }
   ],
   "source": [
    " def check (number):\n",
    "        print(\"The number is : \", number)\n",
    "\n",
    "check(34)"
   ]
  },
  {
   "cell_type": "markdown",
   "id": "1b3c07e2-98d6-4e44-b430-6b58d69612e2",
   "metadata": {},
   "source": [
    "# ➩ Two or multiple Arguments"
   ]
  },
  {
   "cell_type": "code",
   "execution_count": 42,
   "id": "6d99a095-331d-4f63-b533-dd9082f9c80f",
   "metadata": {},
   "outputs": [
    {
     "name": "stdout",
     "output_type": "stream",
     "text": [
      "Ranvijay Sabhavath\n"
     ]
    }
   ],
   "source": [
    "def my_name(fname, lname):\n",
    "    print(fname + \" \" + lname)\n",
    "\n",
    "my_name(\"Ranvijay\", \"Sabhavath\")"
   ]
  },
  {
   "cell_type": "code",
   "execution_count": 57,
   "id": "fd4acf72-948b-4914-ad40-5565a8fe2cb0",
   "metadata": {},
   "outputs": [
    {
     "name": "stdout",
     "output_type": "stream",
     "text": [
      "Ranvijay Chauhan\n",
      "Vijay Chauhan\n",
      "Ramesh Chauhan\n"
     ]
    }
   ],
   "source": [
    "def my_function(fname):\n",
    "    print(fname+ \" Chauhan\")\n",
    "\n",
    "my_function(\"Ranvijay\")\n",
    "my_function(\"Vijay\")\n",
    "my_function(\"Ramesh\")"
   ]
  },
  {
   "cell_type": "code",
   "execution_count": 59,
   "id": "00813a3c-d449-41fd-bfae-169661228158",
   "metadata": {},
   "outputs": [
    {
     "name": "stdout",
     "output_type": "stream",
     "text": [
      "Ranvijay Chauhan\n",
      "Suresh Sabhavath\n"
     ]
    }
   ],
   "source": [
    "def my_function(fname, lname):\n",
    "    print(fname + \" \" + lname)\n",
    "\n",
    "my_function(\"Ranvijay\", \"Chauhan\")\n",
    "my_function(\"Suresh\", \"Sabhavath\")"
   ]
  },
  {
   "cell_type": "markdown",
   "id": "adb2b574-1e62-49ff-bda2-a2fe86cad602",
   "metadata": {},
   "source": [
    "# ➩ __Variable length argument - [ Arbitary arguments ]__ \n",
    "# _Keyword and non Keyword arguments   *args & **kwargs_\n",
    "#### _*args (Non-Keyword Arguments)_  \n",
    "#### _**kwargs (Keyword Arguments)_\n",
    "\n",
    "### _When the number of arguments are unknown, a function can accept multiple arguments using *args (for non-keyword arguments) or **kwargs (for keyword arguments)._"
   ]
  },
  {
   "cell_type": "code",
   "execution_count": 10,
   "id": "c24c3882-fee1-474b-9c97-660adf2d4afc",
   "metadata": {},
   "outputs": [
    {
     "name": "stdout",
     "output_type": "stream",
     "text": [
      "Python\n",
      "Java\n",
      "C++\n"
     ]
    }
   ],
   "source": [
    "                       # length argument function\n",
    "def fun(*args):\n",
    "    for arg in args :\n",
    "        print(arg)\n",
    "                        # function calling\n",
    "\n",
    "fun(\"Python\", \"Java\", \"C++\")"
   ]
  },
  {
   "cell_type": "code",
   "execution_count": 11,
   "id": "c2db3747-d9ab-43ae-81dc-bd0a4ef2bbfa",
   "metadata": {},
   "outputs": [
    {
     "name": "stdout",
     "output_type": "stream",
     "text": [
      "Hello\n",
      "Welcome\n",
      "to\n",
      "Python\n",
      "coding\n"
     ]
    }
   ],
   "source": [
    "def myFun(*words) :\n",
    "    for word in words :\n",
    "        print(word)\n",
    "\n",
    "myFun('Hello', 'Welcome', 'to', 'Python', 'coding')"
   ]
  },
  {
   "cell_type": "code",
   "execution_count": 15,
   "id": "d56d6088-33df-48b8-83c8-c0d2d4cdd288",
   "metadata": {},
   "outputs": [
    {
     "name": "stdout",
     "output_type": "stream",
     "text": [
      "Sum =  6\n",
      "Sum =  13\n"
     ]
    }
   ],
   "source": [
    "def find_sum(*numbers):\n",
    "    result = 0\n",
    "    \n",
    "    for num in numbers:\n",
    "        result = result + num\n",
    "    \n",
    "    print(\"Sum = \", result)\n",
    "                             # function call with 3 arguments\n",
    "find_sum(1, 2, 3)\n",
    "                             # function call with 2 arguments\n",
    "find_sum(4, 9)"
   ]
  },
  {
   "cell_type": "code",
   "execution_count": 16,
   "id": "3b3de558-3a2a-400e-8ea5-52353a707e03",
   "metadata": {},
   "outputs": [
    {
     "name": "stdout",
     "output_type": "stream",
     "text": [
      "Sum =  30\n"
     ]
    }
   ],
   "source": [
    "find_sum(3,5,7,9,6)"
   ]
  },
  {
   "cell_type": "code",
   "execution_count": 12,
   "id": "8c2213ed-0c39-42ac-8100-44904ea1431f",
   "metadata": {},
   "outputs": [
    {
     "name": "stdout",
     "output_type": "stream",
     "text": [
      "First argument : Hello\n",
      "Argument *words : Welcome\n",
      "Argument *words : to\n",
      "Argument *words : python\n"
     ]
    }
   ],
   "source": [
    "def fun(arg1, *words):\n",
    "    print(\"First argument :\", arg1)\n",
    "    for word in words:\n",
    "        print(\"Argument *words :\", word)\n",
    "\n",
    "fun('Hello', 'Welcome', 'to', 'python')"
   ]
  },
  {
   "cell_type": "code",
   "execution_count": 38,
   "id": "a86fdd90-aadf-474a-b062-31aa9cf72de4",
   "metadata": {},
   "outputs": [
    {
     "name": "stdout",
     "output_type": "stream",
     "text": [
      "10\n",
      "30\n",
      "a 1\n",
      "b 2\n",
      "c 3\n"
     ]
    }
   ],
   "source": [
    "def fun(*args):\n",
    "    return sum(args)\n",
    "\n",
    "print(fun(1, 2, 3, 4)) \n",
    "print(fun(5, 10, 15))   \n",
    "\n",
    "                     # **kwargs example\n",
    "def fun(**kwargs):\n",
    "    for k, val in kwargs.items():\n",
    "        print(k, val)\n",
    "\n",
    "fun(a=1, b=2, c=3)"
   ]
  },
  {
   "cell_type": "code",
   "execution_count": 4,
   "id": "c4b9b1d9-7a05-46df-977d-7f50c2186e33",
   "metadata": {},
   "outputs": [
    {
     "name": "stdout",
     "output_type": "stream",
     "text": [
      "s1 == Ranvijay\n",
      "s2 == for\n",
      "s3 == Work\n"
     ]
    }
   ],
   "source": [
    "def fun(**kwargs):\n",
    "    for k, val in kwargs.items():\n",
    "        print(\"%s == %s\" % (k, val))\n",
    "                                          # Driver code\n",
    "fun(s1='Ranvijay', s2='for', s3='Work')"
   ]
  },
  {
   "cell_type": "code",
   "execution_count": 45,
   "id": "a85b46f3-43e2-4645-9cf2-dd0cb7ffc995",
   "metadata": {},
   "outputs": [
    {
     "name": "stdout",
     "output_type": "stream",
     "text": [
      "Positional arguments: (1, 2, 3)\n",
      "Keyword arguments: {'a': 4, 'b': 5}\n"
     ]
    }
   ],
   "source": [
    "def fun(*args, **kwargs):\n",
    "    print(\"Positional arguments:\", args)\n",
    "    print(\"Keyword arguments:\", kwargs)\n",
    "\n",
    "fun(1, 2, 3, a=4, b=5)"
   ]
  },
  {
   "cell_type": "markdown",
   "id": "010cd7fb-b491-455f-b16a-0a2477869372",
   "metadata": {},
   "source": [
    "# ➩ _Write a python function to check whether a number falls with a given range_"
   ]
  },
  {
   "cell_type": "code",
   "execution_count": 21,
   "id": "492a5f73-b5fc-4fed-9452-0fc50c69270c",
   "metadata": {},
   "outputs": [
    {
     "name": "stdout",
     "output_type": "stream",
     "text": [
      " The number is in the range :  6\n"
     ]
    }
   ],
   "source": [
    "def test_range(n):\n",
    "    if n in range(3,9):\n",
    "        print(\" The number is in the range : \" , n)\n",
    "    else:\n",
    "        print(\"The number is outside the given range.\")\n",
    "\n",
    "test_range(6)"
   ]
  },
  {
   "cell_type": "code",
   "execution_count": 111,
   "id": "2960ff44-5a2f-4fbd-8243-75c27a81df7a",
   "metadata": {},
   "outputs": [
    {
     "name": "stdout",
     "output_type": "stream",
     "text": [
      "The number is within the Range :  7\n"
     ]
    }
   ],
   "source": [
    "def number(num):\n",
    "    if num in range (5,15):\n",
    "        print('The number is within the Range : ' , num)\n",
    "    else:\n",
    "        print(\"The number is out of Range : \", num)\n",
    "\n",
    "number(7)"
   ]
  },
  {
   "cell_type": "code",
   "execution_count": 112,
   "id": "aa3bee2f-5e85-47f5-9a22-a2f409fb2d46",
   "metadata": {},
   "outputs": [
    {
     "name": "stdout",
     "output_type": "stream",
     "text": [
      "The number is out of Range :  16\n"
     ]
    }
   ],
   "source": [
    "number(16)"
   ]
  },
  {
   "cell_type": "markdown",
   "id": "0ea05273-a506-4b61-b596-4d962f028f9f",
   "metadata": {},
   "source": [
    "# ➩➩ __Doc String__\n",
    "### _A docstring in Python is a string literal that serves as documentation for modules, functions, classes, or methods. It is placed as the first statement within the definition of the respective object and is enclosed in triple quotes ( either single ''' or double \"\"\" ) ._"
   ]
  },
  {
   "cell_type": "code",
   "execution_count": 2,
   "id": "254df340-d9ae-4309-a33a-381ff8aeb4f1",
   "metadata": {},
   "outputs": [
    {
     "name": "stdout",
     "output_type": "stream",
     "text": [
      "Hello i am student\n",
      "Python is awesome\n"
     ]
    }
   ],
   "source": [
    "def learn ():\n",
    "    ''' This function deos nothing except printing'''\n",
    "    print(\"Hello i am student\")\n",
    "    print(\"Python is awesome\")\n",
    "\n",
    "learn()"
   ]
  },
  {
   "cell_type": "code",
   "execution_count": 22,
   "id": "7645ae5e-da9f-403c-8122-0bb9e05fbff0",
   "metadata": {},
   "outputs": [
    {
     "data": {
      "text/plain": [
       "25"
      ]
     },
     "execution_count": 22,
     "metadata": {},
     "output_type": "execute_result"
    }
   ],
   "source": [
    "def square(n):\n",
    "    '''Take a number n and return the square of n.'''\n",
    "    return n**2\n",
    "\n",
    "square(5)"
   ]
  },
  {
   "cell_type": "markdown",
   "id": "ec6bf0ed-f30b-49db-86e6-b691b58a12e0",
   "metadata": {},
   "source": [
    "# ➩ Generating a random number by importing random"
   ]
  },
  {
   "cell_type": "code",
   "execution_count": 23,
   "id": "e2d1e053-3b77-48ab-896b-e39a7f26e40e",
   "metadata": {},
   "outputs": [
    {
     "name": "stdout",
     "output_type": "stream",
     "text": [
      "61\n"
     ]
    }
   ],
   "source": [
    "import random\n",
    "\n",
    "def guess_num():\n",
    "    secret_number = random.randint(1, 100)\n",
    "    print(secret_number)\n",
    " \n",
    "guess_num()"
   ]
  },
  {
   "cell_type": "code",
   "execution_count": 28,
   "id": "b51337a0-3f67-491b-bdc1-1c02be11f6e4",
   "metadata": {},
   "outputs": [
    {
     "data": {
      "text/plain": [
       "45"
      ]
     },
     "execution_count": 28,
     "metadata": {},
     "output_type": "execute_result"
    }
   ],
   "source": [
    "import random\n",
    "\n",
    "def guess_num():\n",
    "    secret_number = random.randint(1, 50)\n",
    "    return secret_number\n",
    " \n",
    "guess_num()"
   ]
  },
  {
   "cell_type": "markdown",
   "id": "26970580-b472-44de-9bf3-f03f9e72215a",
   "metadata": {},
   "source": [
    "# Practice Questions"
   ]
  },
  {
   "cell_type": "code",
   "execution_count": null,
   "id": "195be581-9147-447d-b93a-f9e09828e7aa",
   "metadata": {},
   "outputs": [],
   "source": [
    "# PROBLEM : 1\n",
    "\n",
    "write a program to calculate the electricity bill of 3 customers:\n",
    "\n",
    "if 500 unit = pay Rs 5 for each unit\n",
    "if 700 unit = pay Rs 10 for each unit\n",
    "if 1000 unit = pay Rs 15 for each unit\n",
    "if more than 1000 unit = pay Rs 20 for each unit"
   ]
  },
  {
   "cell_type": "code",
   "execution_count": 16,
   "id": "3a31bd16-f4b6-40f9-a09b-1171ae4e6f1f",
   "metadata": {},
   "outputs": [
    {
     "name": "stdin",
     "output_type": "stream",
     "text": [
      "Enter the name of the customer :  Ranviajy\n",
      "enter the units of electricity consumed :  450\n"
     ]
    },
    {
     "name": "stdout",
     "output_type": "stream",
     "text": [
      "Your bill is Rs :  2250\n",
      "The last date of paying the bill is 20 April\n",
      "After deadline you need to pay fine of Rs 1000\n",
      "Pay your bill soon\n",
      "\n"
     ]
    },
    {
     "name": "stdin",
     "output_type": "stream",
     "text": [
      "Enter the name of the customer :  Ramesh Sabhavath\n",
      "enter the units of electricity consumed :  400\n"
     ]
    },
    {
     "name": "stdout",
     "output_type": "stream",
     "text": [
      "Your bill is Rs :  2000\n",
      "The last date of paying the bill is 20 April\n",
      "After deadline you need to pay fine of Rs 1000\n",
      "Pay your bill soon\n",
      "\n"
     ]
    },
    {
     "name": "stdin",
     "output_type": "stream",
     "text": [
      "Enter the name of the customer :  Vijay Kumar\n",
      "enter the units of electricity consumed :  500\n"
     ]
    },
    {
     "name": "stdout",
     "output_type": "stream",
     "text": [
      "Your bill is Rs :  2500\n",
      "The last date of paying the bill is 20 April\n",
      "After deadline you need to pay fine of Rs 1000\n",
      "Pay your bill soon\n",
      "\n"
     ]
    }
   ],
   "source": [
    "def electricity_bill(n):\n",
    "    if n <= 500:\n",
    "        print(\"Your bill is Rs : \", n*5)\n",
    "    elif n > 500 and n <= 700:\n",
    "        print(\"Your bill is Rs : \", n*10)\n",
    "    elif n > 700 and n <= 1000:\n",
    "        print(\"Your bill is Rs : \", n*15)\n",
    "    elif n > 1000:\n",
    "        print(\"Your bill is Rs : \", n*20)\n",
    "\n",
    "def details_bill():\n",
    "    print(\"The last date of paying the bill is 20 April\")\n",
    "    print(\"After deadline you need to pay fine of Rs 1000\")\n",
    "    print(\"Pay your bill soon\")\n",
    "\n",
    "for i in range(3):\n",
    "    a = input(\"Enter the name of the customer : \")\n",
    "    n = int(input(\"enter the units of electricity consumed : \"))\n",
    "    \n",
    "    electricity_bill(n)\n",
    "    details_bill()\n",
    "    print()"
   ]
  },
  {
   "cell_type": "code",
   "execution_count": null,
   "id": "8fd61d78-7ae2-4273-9221-9a1583969297",
   "metadata": {},
   "outputs": [],
   "source": [
    "# PROBLEM : 2\n",
    "You are given a dataset of student grades and need to determine the grade distribution.\n",
    "\n",
    "Question: Write a Python function grade_distribution(grades) that takes a list of integers representing student grades (0–100) . \n",
    "Use a loop to count the number of grades in each grade category:\n",
    "\n",
    "'A' (90–100) , 'B' (80–89) , 'C' (70–79) , 'D' (60–69) ,'E' (below 60)\n",
    "\n",
    "Use if-elif-else statements within the loop to categorize the grades.\n",
    "Return a dictionary with the counts of each grade category.\n"
   ]
  },
  {
   "cell_type": "code",
   "execution_count": 17,
   "id": "a058ab8d-cd7a-4277-96bd-1081faf378ab",
   "metadata": {},
   "outputs": [
    {
     "name": "stdout",
     "output_type": "stream",
     "text": [
      "you have got B grade\n",
      "you have got A grade\n",
      "you have got B grade\n",
      "you have got C grade\n",
      "you have got D grade\n",
      "you have got A grade\n",
      "you have got C grade\n",
      "you have got E grade\n",
      "you have got B grade\n",
      "you have got D grade\n",
      "you have got A grade\n",
      "you have got C grade\n"
     ]
    }
   ],
   "source": [
    "def grade_distribution(grades):\n",
    "    \n",
    "    for grade in grades:\n",
    "        if 90 <= grade <= 100:\n",
    "            print(\"you have got A grade\")\n",
    "        elif 80 <= grade <= 89:\n",
    "            print(\"you have got B grade\")\n",
    "        elif 70 <= grade <= 79:\n",
    "            print(\"you have got C grade\")\n",
    "        elif 60 <= grade <= 69:\n",
    "            print(\"you have got D grade\")\n",
    "        else:\n",
    "            print(\"you have got E grade\")\n",
    "\n",
    "grades = [85, 92, 88, 74, 63, 95, 70, 58, 82, 67, 99, 73]\n",
    "grade_distribution(grades)"
   ]
  },
  {
   "cell_type": "code",
   "execution_count": null,
   "id": "38f74d14-2edb-4d48-961b-46cc795409b3",
   "metadata": {},
   "outputs": [],
   "source": [
    "# PROBLEM : 3\n",
    "\n",
    "You're creating a number guessing game where the computer generates a random number between 1 and 100, and the player has to guess it.\n",
    "Write Python code to Generate a random number between 1 and 100.\n",
    "Use control flow statements and loops to allow the player to guess the number and provide feedback (too high, too low, or correct).\n",
    "Define a user-defined function to encapsulate the game logic and call this function to play the game."
   ]
  },
  {
   "cell_type": "code",
   "execution_count": 22,
   "id": "79e1f699-3cea-4211-95b7-bc2b46de1e38",
   "metadata": {},
   "outputs": [
    {
     "name": "stdout",
     "output_type": "stream",
     "text": [
      "7\n",
      "Welcome to the number guessing game\n",
      "I have chosen the number between 1 to 100. Can you guess it?\n"
     ]
    },
    {
     "name": "stdin",
     "output_type": "stream",
     "text": [
      "Enter your guess:  56\n"
     ]
    },
    {
     "name": "stdout",
     "output_type": "stream",
     "text": [
      "Too high, try again\n"
     ]
    },
    {
     "name": "stdin",
     "output_type": "stream",
     "text": [
      "Enter your guess:  76\n"
     ]
    },
    {
     "name": "stdout",
     "output_type": "stream",
     "text": [
      "Too high, try again\n"
     ]
    },
    {
     "name": "stdin",
     "output_type": "stream",
     "text": [
      "Enter your guess:  7\n"
     ]
    },
    {
     "name": "stdout",
     "output_type": "stream",
     "text": [
      "Congratulations, you have guessed the correct number!\n",
      "The number of attempts in guessing the correct number: 3\n"
     ]
    }
   ],
   "source": [
    "import random\n",
    "\n",
    "def number_guessing_game():\n",
    "    secret_number = random.randint(1, 100)\n",
    "    print(secret_number)\n",
    "\n",
    "    print(\"Welcome to the number guessing game\")\n",
    "    print(\"I have chosen the number between 1 to 100. Can you guess it?\")\n",
    "\n",
    "    attempts = 0\n",
    "    guess = None\n",
    "\n",
    "    while guess != secret_number:\n",
    "        guess = int(input(\"Enter your guess: \"))\n",
    "        attempts = attempts + 1\n",
    "\n",
    "        if guess < secret_number:\n",
    "            print(\"Too low, try again\")\n",
    "        elif guess > secret_number:\n",
    "            print(\"Too high, try again\")\n",
    "        else:\n",
    "            print(\"Congratulations, you have guessed the correct number!\")\n",
    "            print(\"The number of attempts in guessing the correct number:\", attempts)\n",
    "\n",
    "number_guessing_game()"
   ]
  },
  {
   "cell_type": "code",
   "execution_count": null,
   "id": "f18f1ddb-9e51-4f86-b848-0c188338e30a",
   "metadata": {},
   "outputs": [],
   "source": [
    "# PROBLEM : 4\n",
    "\n",
    "You're tasked with creating a program to calculate the sum of squares of the first n natural numbers, where n is entered by the user.\n",
    "Write Python code to:\n",
    "Prompt the user to enter a positive integer n.\n",
    "Use a loop to calculate the sum of squares of the first n natural numbers.\n",
    "Define a user-defined function to encapsulate the sum of squares calculation logic.\n",
    "Call this function with the user's input."
   ]
  },
  {
   "cell_type": "code",
   "execution_count": 21,
   "id": "500f429a-c55f-4bbd-b2bd-f1463ab58a90",
   "metadata": {},
   "outputs": [
    {
     "name": "stdin",
     "output_type": "stream",
     "text": [
      "Enter a positive integer:  45\n"
     ]
    },
    {
     "name": "stdout",
     "output_type": "stream",
     "text": [
      "The sum of squares of the first 45 natural numbers is: 31395\n"
     ]
    }
   ],
   "source": [
    "def sum_of_squares(n):\n",
    "    \"\"\"Calculate the sum of squares of the first n natural numbers.\"\"\"\n",
    "    total = 0\n",
    "    for i in range(1, n + 1):\n",
    "        total += i ** 2\n",
    "    return total\n",
    "\n",
    "def main():\n",
    "                             # Prompt the user to enter a positive integer n\n",
    "    n = int(input(\"Enter a positive integer: \"))\n",
    "\n",
    "                            # Calculate the sum of squares\n",
    "    result = sum_of_squares(n)\n",
    "    print(f\"The sum of squares of the first {n} natural numbers is: {result}\")\n",
    "\n",
    "                              # Call the main function to execute the program\n",
    "main()\n"
   ]
  },
  {
   "cell_type": "code",
   "execution_count": null,
   "id": "b5f01946-eb1b-4563-8bc7-dc4392d6750a",
   "metadata": {},
   "outputs": [],
   "source": [
    "# PROBLEM : 5\n",
    "write a user-defined function to process the exam scores and calculate the following:\n",
    "\n",
    "The average exam score.\n",
    "The highest exam score.\n",
    "The lowest exam score.\n",
    "The number of students who passed the exam(assuming the passing score is 80 or above)\n",
    "The number of students who failed the exam.\n",
    "\n",
    "exam_scores = [67,89,78,75,87,80,98,67,73,90,93,83]"
   ]
  },
  {
   "cell_type": "code",
   "execution_count": 16,
   "id": "23a27337-bf98-4224-af42-7cbd64d28c21",
   "metadata": {},
   "outputs": [],
   "source": [
    "def calculate_exam_statistics(exam_scores):\n",
    "    num_students = len(exam_scores)\n",
    "    average_score = sum(exam_scores) / num_students\n",
    "    highest_score = max(exam_scores)\n",
    "    lowest_score = min(exam_scores)\n",
    "\n",
    "    num_passed = 0\n",
    "    for score in exam_scores:\n",
    "        if score >= 80:\n",
    "            num_passed = num_passed + 1\n",
    "\n",
    "    num_failed = num_students - num_passed\n",
    "\n",
    "    return average_score, highest_score, lowest_score, num_passed, num_failed"
   ]
  },
  {
   "cell_type": "code",
   "execution_count": 18,
   "id": "62e81546-97ad-4e65-b92a-80766278f58b",
   "metadata": {},
   "outputs": [
    {
     "name": "stdout",
     "output_type": "stream",
     "text": [
      "the average score is 86.7\n",
      "the highest score is 95\n",
      "the lowest score is 78\n",
      "the number of students passed is 8\n",
      "the number of students failed is 2\n"
     ]
    }
   ],
   "source": [
    "exam_scores = [85, 92, 78, 90, 88, 95, 82, 79, 87, 91]\n",
    "average_score, highest_score, lowest_score, num_passed, num_failed = calculate_exam_statistics(exam_scores)\n",
    "\n",
    "print(\"the average score is\", average_score)\n",
    "print(\"the highest score is\", highest_score)\n",
    "print(\"the lowest score is\", lowest_score)\n",
    "print(\"the number of students passed is\", num_passed)\n",
    "print(\"the number of students failed is\", num_failed)\n"
   ]
  },
  {
   "cell_type": "markdown",
   "id": "b293dd26-f3a5-4e92-9148-8388d11efe34",
   "metadata": {},
   "source": [
    "#### Tic Tac Toe"
   ]
  },
  {
   "cell_type": "code",
   "execution_count": null,
   "id": "61f86e79-b0b3-40b0-9b8b-46eaeeb30ff2",
   "metadata": {},
   "outputs": [],
   "source": [
    "board = [[' ', ' ', ' '],[' ', ' ', ' '],[' ', ' ', ' '], ]\n",
    "\n",
    "def show_board():\n",
    "    for i in board:\n",
    "        print(i)\n",
    "\n",
    "p1=\"X\"\n",
    "p2=\"O\"\n",
    "show_board()\n",
    "\n",
    "def move(p):\n",
    "    position = int(input(f'{p} move'))\n",
    "    if position==1:\n",
    "        if board[0][0]==\" \":\n",
    "            board[0][0]=p\n",
    "            show_board()\n",
    "        else:\n",
    "             print('invalid move, try again')\n",
    "             move(p)          # recursion\n",
    "    elif position==2:\n",
    "        if board[0][1]==\" \":\n",
    "            board[0][1]=p\n",
    "            show_board()\n",
    "        else:\n",
    "             print('invalid move, try again')\n",
    "             move(p)           # recursion\n",
    "    elif position==3:\n",
    "        if board[0][2]==\" \":\n",
    "            board[0][2]=p\n",
    "            show_board()\n",
    "        else:\n",
    "             print('invalid move, try again')\n",
    "             move(p)           # recursion\n",
    "    elif position==4:\n",
    "        if board[1][0]==\" \":\n",
    "            board[1][0]=p\n",
    "            show_board()\n",
    "        else:\n",
    "             print('invalid move, try again')\n",
    "             move(p)    # recursion\n",
    "    elif position==5:\n",
    "        if board[1][1]==\" \":\n",
    "            board[1][1]=p\n",
    "            show_board()\n",
    "        else:\n",
    "             print('invalid move, try again')\n",
    "             move(p)    # recursion\n",
    "    elif position==6:\n",
    "        if board[1][2]==\" \":\n",
    "            board[1][2]=p\n",
    "            show_board()\n",
    "        else:\n",
    "             print('invalid move, try again')\n",
    "             move(p)    # recursion\n",
    "    elif position==7:\n",
    "        if board[2][0]==\" \":\n",
    "            board[2][0]=p\n",
    "            show_board()\n",
    "        else:\n",
    "             print('invalid move, try again')\n",
    "             move(p)    # recursion\n",
    "    elif position==8:\n",
    "        if board[2][1]==\" \":\n",
    "            board[2][1]=p\n",
    "            show_board()\n",
    "        else:\n",
    "             print('invalid move, try again')\n",
    "             move(p)    # recursion\n",
    "    elif position==9:\n",
    "        if board[2][2]==\" \":\n",
    "            board[2][2]=p\n",
    "            show_board()\n",
    "        else:\n",
    "             print('invalid move, try again')\n",
    "             move(p)    # recursion\n",
    "    else:\n",
    "       print('invalid move')\n",
    "\n",
    "for i in range(5):\n",
    "    move(p1)\n",
    "    move(p2)\n",
    "    "
   ]
  },
  {
   "cell_type": "code",
   "execution_count": null,
   "id": "56c87e6d-7910-455b-9fc8-25760edf75ee",
   "metadata": {},
   "outputs": [],
   "source": [
    "# Make functions to check winning of a player\n",
    "# make function to check draw"
   ]
  },
  {
   "cell_type": "code",
   "execution_count": null,
   "id": "0098e319-b012-4c57-b729-6a17bd0e7d48",
   "metadata": {},
   "outputs": [],
   "source": []
  },
  {
   "cell_type": "code",
   "execution_count": null,
   "id": "730aaab7-a099-481a-bfa5-ed9b54181d0d",
   "metadata": {},
   "outputs": [],
   "source": []
  }
 ],
 "metadata": {
  "kernelspec": {
   "display_name": "Python 3 (ipykernel)",
   "language": "python",
   "name": "python3"
  },
  "language_info": {
   "codemirror_mode": {
    "name": "ipython",
    "version": 3
   },
   "file_extension": ".py",
   "mimetype": "text/x-python",
   "name": "python",
   "nbconvert_exporter": "python",
   "pygments_lexer": "ipython3",
   "version": "3.12.7"
  }
 },
 "nbformat": 4,
 "nbformat_minor": 5
}
