{
 "cells": [
  {
   "cell_type": "markdown",
   "id": "72a3e40e-3e04-4edc-b978-4650bea3e739",
   "metadata": {},
   "source": [
    "# __3)  Built in funtions in Python__\n",
    "### _Python offers a comprehensive set of built-in functions that are readily available for use without requiring any explicit imports. These functions provide fundamental capabilities for various tasks , including data manipulation , type conversion , mathematical operations , and more ._"
   ]
  },
  {
   "cell_type": "markdown",
   "id": "cfd39d5a-208c-4ea1-b5b1-cea994b6d55b",
   "metadata": {},
   "source": [
    "#   ➩ __float () function__\n",
    "### _The __float()__ function converts the specified value into a floating point number._"
   ]
  },
  {
   "cell_type": "code",
   "execution_count": 4,
   "id": "7bad0244-b882-4f55-b5c6-a8d0425d97d7",
   "metadata": {},
   "outputs": [
    {
     "name": "stdout",
     "output_type": "stream",
     "text": [
      "<class 'int'>\n",
      "30.0\n",
      "<class 'float'>\n"
     ]
    }
   ],
   "source": [
    "num_int = 30 \n",
    "print(type(num_int))\n",
    "a = float(num_int)\n",
    "print(a)\n",
    "print(type(a))"
   ]
  },
  {
   "cell_type": "code",
   "execution_count": 1,
   "id": "c9a893c1-4333-4788-b189-2e5484a37c54",
   "metadata": {},
   "outputs": [
    {
     "name": "stdout",
     "output_type": "stream",
     "text": [
      "<class 'float'>\n",
      "4\n",
      "<class 'int'>\n"
     ]
    }
   ],
   "source": [
    "a = 4.56\n",
    "print(type(a))\n",
    "b = int(a)\n",
    "print(b)\n",
    "print(type(b))"
   ]
  },
  {
   "cell_type": "markdown",
   "id": "cfca0963-8abf-412f-88db-296a51c886ca",
   "metadata": {},
   "source": [
    "# ➩ __int () function__\n",
    "### _The __int()___ _function converts the specified value into an integer number._"
   ]
  },
  {
   "cell_type": "code",
   "execution_count": 9,
   "id": "24cdded3-0908-420a-a67a-a98d5211118b",
   "metadata": {},
   "outputs": [
    {
     "name": "stdout",
     "output_type": "stream",
     "text": [
      "<class 'float'>\n",
      "4\n",
      "<class 'int'>\n"
     ]
    }
   ],
   "source": [
    "x = 4.564664\n",
    "print(type(x))\n",
    "y = int(a)\n",
    "print(y)\n",
    "print(type(y))"
   ]
  },
  {
   "cell_type": "code",
   "execution_count": 10,
   "id": "adbd5abf-2717-4c85-bb15-ad5c7896b1c5",
   "metadata": {},
   "outputs": [
    {
     "name": "stdout",
     "output_type": "stream",
     "text": [
      "<class 'str'>\n",
      "22\n",
      "<class 'int'>\n"
     ]
    }
   ],
   "source": [
    "a1 = \"22\"\n",
    "print(type(a1))\n",
    "b1 = int(a1)\n",
    "print(b1)\n",
    "print(type(b1))"
   ]
  },
  {
   "cell_type": "markdown",
   "id": "0cc96979-0157-4c5e-b273-e0696bb0397e",
   "metadata": {},
   "source": [
    "# ➩ __str () function__\n",
    "### _The __str()__ function converts the specified value into a String._"
   ]
  },
  {
   "cell_type": "code",
   "execution_count": 15,
   "id": "1ea36821-a81a-411a-a805-21b99b9f66e0",
   "metadata": {},
   "outputs": [
    {
     "name": "stdout",
     "output_type": "stream",
     "text": [
      "<class 'int'>\n",
      "45\n",
      "<class 'str'>\n",
      "<class 'str'>\n",
      "4533\n",
      "47\n"
     ]
    }
   ],
   "source": [
    "a = 45\n",
    "print(type(a))\n",
    "b = str(a)\n",
    "print(b)\n",
    "print(type(b))\n",
    "c = \"33\"\n",
    "print(type(c))\n",
    "print(b+c)\n",
    "print(a+2)"
   ]
  },
  {
   "cell_type": "code",
   "execution_count": 18,
   "id": "bb59d9ea-92c4-4487-9d08-d9070331a482",
   "metadata": {},
   "outputs": [
    {
     "name": "stdout",
     "output_type": "stream",
     "text": [
      "<class 'float'>\n",
      "5465.56\n",
      "<class 'str'>\n"
     ]
    }
   ],
   "source": [
    "x = 5465.56\n",
    "print(type(x))\n",
    "y =str(x)\n",
    "print(y)\n",
    "print(type(y))"
   ]
  },
  {
   "cell_type": "markdown",
   "id": "66992dfc-f2f8-4940-ac24-ee365f7c9030",
   "metadata": {},
   "source": [
    "# ➩ __complex () function__\n",
    "### _The __complex()__ function returns a complex number by specifying a real number and an imaginary number._"
   ]
  },
  {
   "cell_type": "code",
   "execution_count": 19,
   "id": "751375bf-41cc-40ed-aff9-02ddf90a0447",
   "metadata": {},
   "outputs": [
    {
     "name": "stdout",
     "output_type": "stream",
     "text": [
      "(2+3j)\n"
     ]
    }
   ],
   "source": [
    "comp = complex(2,3)\n",
    "print(comp)"
   ]
  },
  {
   "cell_type": "code",
   "execution_count": 20,
   "id": "df3a2a3b-d923-4e3b-a6d1-08d82195ee57",
   "metadata": {},
   "outputs": [
    {
     "name": "stdout",
     "output_type": "stream",
     "text": [
      "(6+68j)\n"
     ]
    }
   ],
   "source": [
    "y = complex(6,68)\n",
    "print(y)"
   ]
  },
  {
   "cell_type": "markdown",
   "id": "78b5bfb8-7994-425b-bbc2-985be40a90d4",
   "metadata": {},
   "source": [
    "# ➩ __len () function__\n",
    "### _Returns the length (number of items) of an object. This is __commonly used with Strings, Lists, Tuples, Dictionaries, and Sets__._"
   ]
  },
  {
   "cell_type": "code",
   "execution_count": 32,
   "id": "d976b30c-7f10-43cc-9b1f-8ef18fa48050",
   "metadata": {},
   "outputs": [
    {
     "name": "stdout",
     "output_type": "stream",
     "text": [
      "22\n"
     ]
    }
   ],
   "source": [
    "a = \"hello this is ranvijay\"\n",
    "print(len(a))"
   ]
  },
  {
   "cell_type": "code",
   "execution_count": 3,
   "id": "efc7f862-44df-4600-a51b-825637a2248d",
   "metadata": {},
   "outputs": [
    {
     "name": "stdout",
     "output_type": "stream",
     "text": [
      "cat dog\n",
      "7\n",
      "True\n"
     ]
    }
   ],
   "source": [
    "b = \"cat dog\"\n",
    "print(b)\n",
    "print(len(b))\n",
    "\n",
    "print('d' in b)"
   ]
  },
  {
   "cell_type": "code",
   "execution_count": 10,
   "id": "ae143fea-1762-438d-857b-68c5893f0e0e",
   "metadata": {},
   "outputs": [
    {
     "name": "stdout",
     "output_type": "stream",
     "text": [
      "5\n",
      "False\n",
      "False\n"
     ]
    }
   ],
   "source": [
    "c = [12,24,54,76,53]\n",
    "print(len(c))\n",
    "print(\"12\" in c)\n",
    "print(\"15\" in c)"
   ]
  },
  {
   "cell_type": "markdown",
   "id": "bbb65058-a28d-4f1a-bc0f-0b654bba9c77",
   "metadata": {},
   "source": [
    "# ➩ __abs () function__ - [ absolute ]\n",
    "### _The __abs()__ function Returns the absolute value of a number.( __converts the negative value into positive__ )_\n"
   ]
  },
  {
   "cell_type": "code",
   "execution_count": 4,
   "id": "2254865c-3772-405b-82b2-6dd04445191a",
   "metadata": {},
   "outputs": [
    {
     "name": "stdout",
     "output_type": "stream",
     "text": [
      "35\n",
      "-345.6545\n",
      "345.6545\n",
      "345\n"
     ]
    }
   ],
   "source": [
    "x = -35\n",
    "print(abs(x))\n",
    "y = -345.6545\n",
    "print(y)\n",
    "print(abs(y))\n",
    "print(abs(int(y)))"
   ]
  },
  {
   "cell_type": "code",
   "execution_count": 5,
   "id": "129d0e3b-7cef-4643-9355-8bbca6241355",
   "metadata": {},
   "outputs": [
    {
     "name": "stdout",
     "output_type": "stream",
     "text": [
      "6.708203932499369\n"
     ]
    }
   ],
   "source": [
    "z = -3+6j\n",
    "print(abs(z))"
   ]
  },
  {
   "cell_type": "code",
   "execution_count": 6,
   "id": "a5827ba5-6626-48b5-88d9-6cdaa8e3a010",
   "metadata": {},
   "outputs": [
    {
     "name": "stdout",
     "output_type": "stream",
     "text": [
      "345.6545\n"
     ]
    }
   ],
   "source": [
    "w  = -345.6545\n",
    "u = abs(w)\n",
    "print(u)"
   ]
  },
  {
   "cell_type": "code",
   "execution_count": 7,
   "id": "21f58f65-e881-47b4-9839-36590a8aa492",
   "metadata": {},
   "outputs": [
    {
     "name": "stdout",
     "output_type": "stream",
     "text": [
      "324\n"
     ]
    }
   ],
   "source": [
    "a, b = -324, 454.65\n",
    "abss = abs(a)\n",
    "print(abss)"
   ]
  },
  {
   "cell_type": "markdown",
   "id": "0d91e3c7-d47e-4e2f-8c25-67879c0c2500",
   "metadata": {},
   "source": [
    "# ➩ __bin () funtion__\n",
    "### _The __bin()__ function used to convert an integer into its binary representation._ \n",
    "#### _( it works with integer values only )_ \n"
   ]
  },
  {
   "cell_type": "code",
   "execution_count": 39,
   "id": "90479c07-021b-4bcc-9492-e3f185efb3eb",
   "metadata": {},
   "outputs": [
    {
     "name": "stdout",
     "output_type": "stream",
     "text": [
      "0b11000\n"
     ]
    }
   ],
   "source": [
    "binary_rep = bin(24)\n",
    "print(binary_rep)"
   ]
  },
  {
   "cell_type": "code",
   "execution_count": 40,
   "id": "d67f758a-9130-4d84-80ac-c2d5d2980a60",
   "metadata": {},
   "outputs": [
    {
     "name": "stdout",
     "output_type": "stream",
     "text": [
      "0b11101010\n"
     ]
    }
   ],
   "source": [
    "z = bin(234)\n",
    "print(z)"
   ]
  },
  {
   "cell_type": "code",
   "execution_count": 41,
   "id": "3d30e9c9-afcb-4a7c-ae29-e0ba7b2932f0",
   "metadata": {},
   "outputs": [
    {
     "name": "stdout",
     "output_type": "stream",
     "text": [
      "0b1100100001110011100111011100100110101101000\n"
     ]
    }
   ],
   "source": [
    "c = bin(6887465438568)\n",
    "print(c)"
   ]
  },
  {
   "cell_type": "code",
   "execution_count": 11,
   "id": "f154574b-50da-44e3-881d-d8074b24d019",
   "metadata": {},
   "outputs": [
    {
     "name": "stdout",
     "output_type": "stream",
     "text": [
      "0b100010\n"
     ]
    }
   ],
   "source": [
    "print(bin(34))"
   ]
  },
  {
   "cell_type": "markdown",
   "id": "cf4e1529-6003-4eb1-85d8-d98e5cbdc8e5",
   "metadata": {},
   "source": [
    "# ➩ __sum () function__\n",
    "### _The __sum() function__ is used to calculate the sum of numeric items within an iterable. It provides a concise and efficient way to add up numbers without explicitly writing a loop.  such as __lists ,tuples , and other iterable objects__._"
   ]
  },
  {
   "cell_type": "code",
   "execution_count": 45,
   "id": "1bad67b6-50e5-4b30-a0ef-94f479518dfc",
   "metadata": {},
   "outputs": [
    {
     "name": "stdout",
     "output_type": "stream",
     "text": [
      "15238\n"
     ]
    }
   ],
   "source": [
    "my_list = [1,22,43,5678,8784,35,6,8,7,79,9,64,4,2,424,7,8,57]\n",
    "a = sum(my_list)\n",
    "print(a)"
   ]
  },
  {
   "cell_type": "code",
   "execution_count": 1,
   "id": "3b2f8d56-311e-401d-9272-54011165879f",
   "metadata": {},
   "outputs": [
    {
     "name": "stdout",
     "output_type": "stream",
     "text": [
      "6328\n"
     ]
    }
   ],
   "source": [
    "my_list = [1,22,43,5678,9,9,64,4,2,424,7,8,57]\n",
    "print(sum(my_list))\n"
   ]
  },
  {
   "cell_type": "code",
   "execution_count": 17,
   "id": "28d80a78-0655-4a63-8c38-d0c001b5f556",
   "metadata": {},
   "outputs": [
    {
     "ename": "TypeError",
     "evalue": "unsupported operand type(s) for +: 'int' and 'str'",
     "output_type": "error",
     "traceback": [
      "\u001b[1;31m---------------------------------------------------------------------------\u001b[0m",
      "\u001b[1;31mTypeError\u001b[0m                                 Traceback (most recent call last)",
      "Cell \u001b[1;32mIn[17], line 2\u001b[0m\n\u001b[0;32m      1\u001b[0m string \u001b[38;5;241m=\u001b[39m \u001b[38;5;124m'\u001b[39m\u001b[38;5;124mRanvijay\u001b[39m\u001b[38;5;124m'\u001b[39m,\u001b[38;5;124m'\u001b[39m\u001b[38;5;124mSabhavath\u001b[39m\u001b[38;5;124m'\u001b[39m\n\u001b[1;32m----> 2\u001b[0m \u001b[38;5;28mprint\u001b[39m(\u001b[38;5;28msum\u001b[39m(string))\n",
      "\u001b[1;31mTypeError\u001b[0m: unsupported operand type(s) for +: 'int' and 'str'"
     ]
    }
   ],
   "source": [
    "string = 'Ranvijay','Sabhavath'\n",
    "print(sum(string))              # we can't define sum function for string values."
   ]
  },
  {
   "cell_type": "code",
   "execution_count": 18,
   "id": "702355af-c228-45bb-aeb5-27866b54f4f3",
   "metadata": {},
   "outputs": [
    {
     "name": "stdout",
     "output_type": "stream",
     "text": [
      "Ranvijay Sabhavath\n"
     ]
    }
   ],
   "source": [
    "a = \"Ranvijay \"\n",
    "b = \"Sabhavath\"\n",
    "print(a + b)"
   ]
  },
  {
   "cell_type": "code",
   "execution_count": 20,
   "id": "1d8c119e-e295-45da-aa6b-19d6a96e70f8",
   "metadata": {},
   "outputs": [
    {
     "name": "stdout",
     "output_type": "stream",
     "text": [
      "61\n"
     ]
    }
   ],
   "source": [
    "a = [1,4,3,6,7,6,7,8,9]\n",
    "starting_value = 10\n",
    "total = sum(a,starting_value)\n",
    "print(total)"
   ]
  },
  {
   "cell_type": "code",
   "execution_count": 61,
   "id": "9260d2e3-5282-4549-96c8-06274deb8ad9",
   "metadata": {},
   "outputs": [
    {
     "name": "stdout",
     "output_type": "stream",
     "text": [
      "7427\n",
      "7527\n"
     ]
    }
   ],
   "source": [
    "a = [1,4,3,6,73,45,5,76,45,34,23,567,6463,67,7,8]\n",
    "print(sum(a))\n",
    "starting_value = 100\n",
    "total = sum(a,starting_value)\n",
    "print(total)"
   ]
  },
  {
   "cell_type": "markdown",
   "id": "d2c67d88-c091-450d-a30b-e744db89123d",
   "metadata": {},
   "source": [
    "# ➩ __eval () function__\n",
    "### ___eval()__ : Evaluates a python expression stored in string format_"
   ]
  },
  {
   "cell_type": "code",
   "execution_count": 63,
   "id": "d7e94ec0-c05f-489d-a403-d39c6c153387",
   "metadata": {},
   "outputs": [
    {
     "name": "stdout",
     "output_type": "stream",
     "text": [
      "x+y*2\n",
      "78\n"
     ]
    }
   ],
   "source": [
    "x = 10\n",
    "y = 34\n",
    "expression = \"x+y*2\"\n",
    "print(expression)\n",
    "print(eval(expression))"
   ]
  },
  {
   "cell_type": "code",
   "execution_count": 69,
   "id": "d703baf3-1f01-4d82-9a27-4fed5fd4ede9",
   "metadata": {},
   "outputs": [
    {
     "name": "stdout",
     "output_type": "stream",
     "text": [
      "6.266666666666667\n"
     ]
    }
   ],
   "source": [
    "exp = \" 5/3+4.6\"\n",
    "print(eval(exp))"
   ]
  },
  {
   "cell_type": "code",
   "execution_count": 71,
   "id": "a5afd16e-102c-427d-aa00-9dd233b6b7bd",
   "metadata": {},
   "outputs": [
    {
     "name": "stdout",
     "output_type": "stream",
     "text": [
      "521.1384615384616\n"
     ]
    }
   ],
   "source": [
    "exp22 = \"578-56/65%6*66\"\n",
    "print(eval(exp22))"
   ]
  },
  {
   "cell_type": "markdown",
   "id": "59880f91-4227-416b-8aea-b9307514dc2d",
   "metadata": {},
   "source": [
    "# ➩ __input function__\n",
    "### _The input() function allows user input. That means we are able __to ask the user for input__._  \n"
   ]
  },
  {
   "cell_type": "code",
   "execution_count": 8,
   "id": "e79d44cc-4900-4130-b11f-2a45f653fb9d",
   "metadata": {},
   "outputs": [
    {
     "name": "stdin",
     "output_type": "stream",
     "text": [
      "enter your name here :  Ranvijay\n"
     ]
    },
    {
     "name": "stdout",
     "output_type": "stream",
     "text": [
      "name entered by user is :  Ranvijay\n",
      "<class 'str'>\n"
     ]
    }
   ],
   "source": [
    "name = input(\"enter your name here : \")\n",
    "print(\"name entered by user is : \", name)\n",
    "print(type(name))"
   ]
  },
  {
   "cell_type": "code",
   "execution_count": 9,
   "id": "b6c5ae8b-7d51-4e3d-aa6e-0b5e4a023ba5",
   "metadata": {},
   "outputs": [
    {
     "name": "stdin",
     "output_type": "stream",
     "text": [
      "enter your age pls :  28\n"
     ]
    },
    {
     "name": "stdout",
     "output_type": "stream",
     "text": [
      "age of user is :  28\n",
      "<class 'str'>\n"
     ]
    }
   ],
   "source": [
    "age = input(\"enter your age pls : \")\n",
    "print(\"age of user is : \", age)\n",
    "print(type(age))"
   ]
  },
  {
   "cell_type": "markdown",
   "id": "9562155f-7701-4a72-85ac-8602407a4b21",
   "metadata": {},
   "source": [
    "# ➩ __bytes () function__\n",
    "### _The __bytes()__ function returns a byte object._\n",
    "\n",
    "### _It can __convert objects into bytes objects__, or create empty bytes object of the specified size._ "
   ]
  },
  {
   "cell_type": "code",
   "execution_count": 76,
   "id": "d611f8b8-f19b-4f8d-ab8b-89011d6f642e",
   "metadata": {},
   "outputs": [
    {
     "name": "stdout",
     "output_type": "stream",
     "text": [
      "b'\\x00\\x00\\x00\\x00'\n"
     ]
    }
   ],
   "source": [
    "x = bytes(4)\n",
    "print(x)"
   ]
  },
  {
   "cell_type": "code",
   "execution_count": 77,
   "id": "f470e8b7-f1f8-4d18-af84-c98c96d87e92",
   "metadata": {},
   "outputs": [
    {
     "name": "stdout",
     "output_type": "stream",
     "text": [
      "b'\\x00\\x00\\x00\\x00\\x00\\x00\\x00\\x00\\x00\\x00\\x00\\x00\\x00\\x00\\x00\\x00'\n"
     ]
    }
   ],
   "source": [
    "y = bytes(16)\n",
    "print(y)"
   ]
  },
  {
   "cell_type": "markdown",
   "id": "6c19d5c0-a39f-49a3-9fb3-57be1a91024e",
   "metadata": {},
   "source": [
    "# ➩ __chr() function__ [ character ] \n",
    "### _The __chr()__ function returns the character that represents the specified unicode._  \n",
    "#### _Syntax : chr(number)_"
   ]
  },
  {
   "cell_type": "code",
   "execution_count": 86,
   "id": "adb5e4d5-688d-4bdb-80e3-93813cf32db2",
   "metadata": {},
   "outputs": [
    {
     "name": "stdout",
     "output_type": "stream",
     "text": [
      "a\n"
     ]
    }
   ],
   "source": [
    "x = chr(97)\n",
    "print(x)"
   ]
  },
  {
   "cell_type": "code",
   "execution_count": 87,
   "id": "d15eb5c0-d1d2-4334-b2b4-38a6db996e81",
   "metadata": {},
   "outputs": [
    {
     "name": "stdout",
     "output_type": "stream",
     "text": [
      "b\n"
     ]
    }
   ],
   "source": [
    "x = chr(98)\n",
    "print(x)"
   ]
  },
  {
   "cell_type": "code",
   "execution_count": 88,
   "id": "0e904782-38ea-4a31-85e4-7ad7fd4c1381",
   "metadata": {},
   "outputs": [
    {
     "name": "stdout",
     "output_type": "stream",
     "text": [
      "c\n"
     ]
    }
   ],
   "source": [
    "x = chr(99)\n",
    "print(x)"
   ]
  },
  {
   "cell_type": "code",
   "execution_count": 1,
   "id": "defd35d5-a647-4b5c-83bc-43402170ba01",
   "metadata": {},
   "outputs": [
    {
     "name": "stdout",
     "output_type": "stream",
     "text": [
      "d\n"
     ]
    }
   ],
   "source": [
    "print(chr(100))"
   ]
  },
  {
   "cell_type": "markdown",
   "id": "6afe8dac-ffbd-4a8f-a39d-d5ae3e2cb414",
   "metadata": {},
   "source": [
    "# ➩ __format () function__\n",
    "### _The __format()__ method formats the specified value(s) and insert them inside the String's placeholder._"
   ]
  },
  {
   "cell_type": "code",
   "execution_count": 91,
   "id": "44ea7d12-72c0-4cbf-9e11-33450873413f",
   "metadata": {},
   "outputs": [
    {
     "name": "stdout",
     "output_type": "stream",
     "text": [
      "850.000000%\n"
     ]
    }
   ],
   "source": [
    "x = format (8.5, ',%')\n",
    "print(x)"
   ]
  },
  {
   "cell_type": "code",
   "execution_count": 22,
   "id": "c02d0044-248a-4681-beda-9831d40b0027",
   "metadata": {},
   "outputs": [
    {
     "name": "stdout",
     "output_type": "stream",
     "text": [
      "a\n"
     ]
    }
   ],
   "source": [
    "y = format(97,'c')\n",
    "print(y)"
   ]
  },
  {
   "cell_type": "code",
   "execution_count": 94,
   "id": "f268eb84-fe37-4fb3-b5a8-1ac956f51cd4",
   "metadata": {},
   "outputs": [
    {
     "name": "stdout",
     "output_type": "stream",
     "text": [
      "_\n"
     ]
    }
   ],
   "source": [
    "z = format(95, 'c')\n",
    "print(z)"
   ]
  },
  {
   "cell_type": "code",
   "execution_count": 95,
   "id": "7e66b4c0-d842-496b-a263-8021a0b68554",
   "metadata": {},
   "outputs": [
    {
     "name": "stdout",
     "output_type": "stream",
     "text": [
      "ff\n"
     ]
    }
   ],
   "source": [
    "a = format(255, \"x\")\n",
    "print(a)"
   ]
  },
  {
   "cell_type": "code",
   "execution_count": 4,
   "id": "5db06f62-7fa7-476f-a6ab-fa61380002ab",
   "metadata": {},
   "outputs": [
    {
     "name": "stdout",
     "output_type": "stream",
     "text": [
      "ਆ\n"
     ]
    }
   ],
   "source": [
    "x = format (2566,'c')\n",
    "print(x)"
   ]
  },
  {
   "cell_type": "markdown",
   "id": "728477ab-fe79-4db0-ad20-6898c5a5717a",
   "metadata": {},
   "source": [
    "# ➩ __compile function__\n",
    "### _The __compile()__ function returns the specified source as a code object, ready to be executed._"
   ]
  },
  {
   "cell_type": "code",
   "execution_count": 121,
   "id": "c2331fc0-760f-47fc-9d41-40232fa0a5c7",
   "metadata": {},
   "outputs": [
    {
     "name": "stdout",
     "output_type": "stream",
     "text": [
      "55\n"
     ]
    }
   ],
   "source": [
    "x = compile('print(55)', 'test', 'eval')\n",
    "exec(x)"
   ]
  },
  {
   "cell_type": "code",
   "execution_count": 122,
   "id": "654bfcb6-bdcb-4aba-aefe-3b04d7c6851b",
   "metadata": {},
   "outputs": [
    {
     "name": "stdout",
     "output_type": "stream",
     "text": [
      "55\n",
      "88\n"
     ]
    }
   ],
   "source": [
    "x = compile('print(55)\\nprint(88)', 'test', 'exec')\n",
    "exec(x)"
   ]
  },
  {
   "cell_type": "markdown",
   "id": "d06b1756-cc69-4d78-8d21-d5fec53a25ad",
   "metadata": {},
   "source": [
    "# ➩  __filter () function__\n",
    "### _The __filter()__ function returns an iterator where the items are filtered through a function to test if the item is accepted or not._\n"
   ]
  },
  {
   "cell_type": "code",
   "execution_count": 125,
   "id": "f731e48c-b803-446a-819d-d5ba3fe12464",
   "metadata": {},
   "outputs": [
    {
     "name": "stdout",
     "output_type": "stream",
     "text": [
      "18\n",
      "24\n",
      "32\n"
     ]
    }
   ],
   "source": [
    "ages = [5, 12, 17, 18, 24, 32]\n",
    "\n",
    "def myFunc(x):\n",
    "  if x < 18:\n",
    "    return False\n",
    "  else:\n",
    "    return True\n",
    "\n",
    "adults = filter(myFunc, ages)\n",
    "\n",
    "for x in adults:\n",
    "  print(x)\n"
   ]
  },
  {
   "cell_type": "markdown",
   "id": "638a7830-07bb-4e38-a6c7-99bda085106a",
   "metadata": {},
   "source": [
    "# ➩ __python next () function__\n",
    "### _The __next()__ function returns the next item in an iterator._\n",
    "\n",
    "### _You can add a default return value, to return if the iterator has reached to its end._"
   ]
  },
  {
   "cell_type": "code",
   "execution_count": 29,
   "id": "74faf193-bf2c-490e-ba82-49942cc1b9dc",
   "metadata": {},
   "outputs": [
    {
     "name": "stdout",
     "output_type": "stream",
     "text": [
      "apple\n",
      "banana\n",
      "cherry\n"
     ]
    }
   ],
   "source": [
    "mylist = iter([\"apple\", \"banana\", \"cherry\"])\n",
    "x = next(mylist)\n",
    "print(x)\n",
    "x = next(mylist)\n",
    "print(x)\n",
    "x = next(mylist)\n",
    "print(x)"
   ]
  },
  {
   "cell_type": "code",
   "execution_count": 3,
   "id": "08599123-93ea-4af7-abc9-c68df5e7f602",
   "metadata": {},
   "outputs": [
    {
     "name": "stdout",
     "output_type": "stream",
     "text": [
      "apple\n",
      "banana\n",
      "cherry\n",
      "orange\n"
     ]
    }
   ],
   "source": [
    "mylist = iter([\"apple\", \"banana\", \"cherry\"])\n",
    "x = next(mylist, \"orange\")\n",
    "print(x)\n",
    "x = next(mylist, \"orange\")\n",
    "print(x)\n",
    "x = next(mylist, \"orange\")\n",
    "print(x)\n",
    "x = next(mylist, \"orange\")\n",
    "print(x)"
   ]
  },
  {
   "cell_type": "markdown",
   "id": "07e5eebb-3041-48ac-acf4-aafc430d1cfa",
   "metadata": {},
   "source": [
    "# ➩ __round () function__\n",
    "### _The __round()__ function returns a floating point number that is a rounded version of the specified number , with the specified number of decimals._\n",
    "### _The default number of decimals is 0 , meaning that the function will return the nearest integer._"
   ]
  },
  {
   "cell_type": "code",
   "execution_count": 32,
   "id": "3795ca74-8bf8-4c92-bf42-38bf2b8088e2",
   "metadata": {},
   "outputs": [
    {
     "name": "stdout",
     "output_type": "stream",
     "text": [
      "6\n"
     ]
    }
   ],
   "source": [
    "x = round(5.76543)\n",
    "print(x)"
   ]
  },
  {
   "cell_type": "code",
   "execution_count": 11,
   "id": "8d925c06-4a6f-43f1-a8c5-07b3a980542f",
   "metadata": {},
   "outputs": [
    {
     "name": "stdout",
     "output_type": "stream",
     "text": [
      "5.77\n"
     ]
    }
   ],
   "source": [
    "x = round(5.76543, 2)\n",
    "print(x)"
   ]
  },
  {
   "cell_type": "code",
   "execution_count": 33,
   "id": "6e843825-368e-4447-9a70-fcbc31dcb375",
   "metadata": {},
   "outputs": [
    {
     "name": "stdout",
     "output_type": "stream",
     "text": [
      "55.836\n"
     ]
    }
   ],
   "source": [
    "y = round(55.835683, 3)\n",
    "print(y)"
   ]
  },
  {
   "cell_type": "code",
   "execution_count": 1,
   "id": "16118186-ea3a-4427-8dc7-c7a6db368f78",
   "metadata": {},
   "outputs": [
    {
     "name": "stdout",
     "output_type": "stream",
     "text": [
      "5466.024\n"
     ]
    }
   ],
   "source": [
    "x = 5466.024256463\n",
    "print(round(x,3))"
   ]
  },
  {
   "cell_type": "markdown",
   "id": "1aefbf1c-5281-48b3-9fd9-93e0ea6c344f",
   "metadata": {},
   "source": [
    "# ➩ __range () function__\n",
    "### _The __range()__ function returns a sequence of numbers , starting from 0 by default , and increments by 1 (by default) , and stops before a specified number._"
   ]
  },
  {
   "cell_type": "code",
   "execution_count": 12,
   "id": "a3d1e486-1763-4644-9bd4-2b762a5f47c0",
   "metadata": {},
   "outputs": [
    {
     "name": "stdout",
     "output_type": "stream",
     "text": [
      "0\n",
      "1\n",
      "2\n",
      "3\n",
      "4\n",
      "5\n"
     ]
    }
   ],
   "source": [
    "x = range(6)\n",
    "for n in x:\n",
    "  print(n)"
   ]
  },
  {
   "cell_type": "code",
   "execution_count": 13,
   "id": "46ac168c-7ec6-4507-9516-3733e4b2085e",
   "metadata": {},
   "outputs": [
    {
     "name": "stdout",
     "output_type": "stream",
     "text": [
      "0\n",
      "1\n",
      "2\n",
      "3\n"
     ]
    }
   ],
   "source": [
    "for n in range(4):\n",
    "    print(n)"
   ]
  },
  {
   "cell_type": "markdown",
   "id": "a938425f-becd-4cba-8d9b-f325e030e7a4",
   "metadata": {},
   "source": [
    "# ➩ __reversed () function__\n",
    "### _The __reversed()__ function returns a reversed iterator object._"
   ]
  },
  {
   "cell_type": "code",
   "execution_count": 4,
   "id": "08687c91-093e-4a7b-a517-af1fd6cd809e",
   "metadata": {},
   "outputs": [
    {
     "name": "stdout",
     "output_type": "stream",
     "text": [
      "d\n",
      "c\n",
      "b\n",
      "a\n"
     ]
    }
   ],
   "source": [
    "a = [\"a\", \"b\", \"c\", \"d\"]\n",
    "b = reversed(a)\n",
    "for x in b:\n",
    "  print(x)"
   ]
  },
  {
   "cell_type": "code",
   "execution_count": 6,
   "id": "bc043b0a-684d-432c-8b57-bc2345da5e4e",
   "metadata": {},
   "outputs": [
    {
     "name": "stdout",
     "output_type": "stream",
     "text": [
      "d\n",
      "c\n",
      "b\n",
      "8\n",
      "5\n",
      "1\n",
      "a\n"
     ]
    }
   ],
   "source": [
    "a = [\"a\",1, 5, 8, \"b\", \"c\", \"d\"]\n",
    "b = reversed(a)\n",
    "for x in b:\n",
    "  print(x)"
   ]
  },
  {
   "cell_type": "markdown",
   "id": "c0d43e9e-a892-4c91-af34-91be1ab0645c",
   "metadata": {},
   "source": [
    "# ➩ __slice () function__\n",
    "### _The __slice()__ function returns a slice object._"
   ]
  },
  {
   "cell_type": "code",
   "execution_count": 7,
   "id": "2e6050f7-0e40-4dc6-b136-0ad18b5422d3",
   "metadata": {},
   "outputs": [
    {
     "name": "stdout",
     "output_type": "stream",
     "text": [
      "('d', 'e')\n"
     ]
    }
   ],
   "source": [
    "a = (\"a\", \"b\", \"c\", \"d\", \"e\", \"f\", \"g\", \"h\")\n",
    "x = slice(3, 5)\n",
    "print(a[x])"
   ]
  },
  {
   "cell_type": "code",
   "execution_count": 14,
   "id": "204253cd-6c05-45dc-b452-422f34f843ec",
   "metadata": {},
   "outputs": [
    {
     "name": "stdout",
     "output_type": "stream",
     "text": [
      "('a', 'd', 'g')\n"
     ]
    }
   ],
   "source": [
    "a = (\"a\", \"b\", \"c\", \"d\", \"e\", \"f\", \"g\", \"h\")\n",
    "x = slice(0, 8, 3)\n",
    "print(a[x])"
   ]
  },
  {
   "cell_type": "code",
   "execution_count": 8,
   "id": "155ab3d1-5e20-4299-9d6c-7c3904b9c354",
   "metadata": {},
   "outputs": [
    {
     "name": "stdout",
     "output_type": "stream",
     "text": [
      "('d', 'e', 'f')\n"
     ]
    }
   ],
   "source": [
    "a = (\"a\", \"b\", \"c\", \"d\", \"e\", \"f\", \"g\", \"h\")\n",
    "x = slice(3, -2)\n",
    "print(a[x])"
   ]
  },
  {
   "cell_type": "markdown",
   "id": "0bde9f48-8474-4bb1-8d8c-522c26f5d114",
   "metadata": {},
   "source": [
    "# ➩ __sorted () function__\n",
    "### _The __sorted()__ function returns a sorted list of the specified iterable object._\n",
    "### _You can specify ascending or descending order. Strings are sorted alphabetically, and numbers are sorted numerically._"
   ]
  },
  {
   "cell_type": "code",
   "execution_count": 135,
   "id": "170e2973-7e59-4c6c-9ddd-8cd42bc88d16",
   "metadata": {},
   "outputs": [
    {
     "name": "stdout",
     "output_type": "stream",
     "text": [
      "['a', 'b', 'c', 'd', 'e', 'f', 'g', 'h']\n"
     ]
    }
   ],
   "source": [
    "a = (\"b\", \"g\", \"a\", \"d\", \"f\", \"c\", \"h\", \"e\")\n",
    "x = sorted(a)\n",
    "print(x)"
   ]
  },
  {
   "cell_type": "code",
   "execution_count": 10,
   "id": "01549c9b-95a9-4816-b190-456433af3074",
   "metadata": {},
   "outputs": [
    {
     "name": "stdout",
     "output_type": "stream",
     "text": [
      "['a', 'b', 'c', 'd', 'e', 'f', 'g', 'h']\n"
     ]
    }
   ],
   "source": [
    "b = (\"b\", \"g\", \"a\", \"d\", \"f\", \"c\", \"h\", \"e\")\n",
    "print(sorted(b))"
   ]
  },
  {
   "cell_type": "code",
   "execution_count": 14,
   "id": "5b7b3b89-547d-4117-b305-af80fd7b8bac",
   "metadata": {},
   "outputs": [
    {
     "name": "stdout",
     "output_type": "stream",
     "text": [
      "[1, 2, 11]\n"
     ]
    }
   ],
   "source": [
    "a = (1, 11, 2)\n",
    "x = sorted(a)\n",
    "print(x)"
   ]
  },
  {
   "cell_type": "code",
   "execution_count": 15,
   "id": "c93d2ac7-b020-4312-9573-ed85527b4c96",
   "metadata": {},
   "outputs": [
    {
     "name": "stdout",
     "output_type": "stream",
     "text": [
      "['a', 'b', 'c', 'd', 'e', 'f', 'g', 'h']\n"
     ]
    }
   ],
   "source": [
    "            # Sort ascending:\n",
    "\n",
    "a = (\"h\", \"b\", \"a\", \"c\", \"f\", \"d\", \"e\", \"g\")\n",
    "x = sorted(a)\n",
    "print(x)"
   ]
  },
  {
   "cell_type": "code",
   "execution_count": 16,
   "id": "50a46f8f-ffae-4e28-8a0b-84bb28b15801",
   "metadata": {},
   "outputs": [
    {
     "name": "stdout",
     "output_type": "stream",
     "text": [
      "['h', 'g', 'f', 'e', 'd', 'c', 'b', 'a']\n"
     ]
    }
   ],
   "source": [
    "                 # Sort descending:\n",
    "\n",
    "a = (\"h\", \"b\", \"a\", \"c\", \"f\", \"d\", \"e\", \"g\")\n",
    "x = sorted(a, reverse=True)\n",
    "print(x)"
   ]
  },
  {
   "cell_type": "code",
   "execution_count": 17,
   "id": "925228e9-21a4-4c78-ab1c-a31e16216227",
   "metadata": {},
   "outputs": [
    {
     "name": "stdout",
     "output_type": "stream",
     "text": [
      "['Jane', 'Sally', 'Jenifer']\n"
     ]
    }
   ],
   "source": [
    "a = (\"Jenifer\", \"Sally\", \"Jane\")\n",
    "x = sorted(a, key=len)\n",
    "print(x)"
   ]
  },
  {
   "cell_type": "code",
   "execution_count": 9,
   "id": "2ff26a88-53ef-41f1-8180-c246ca5a512b",
   "metadata": {},
   "outputs": [
    {
     "name": "stdout",
     "output_type": "stream",
     "text": [
      "[11, 12, 5, 3, 17, 2, 1]\n"
     ]
    }
   ],
   "source": [
    "def myfunc(n):\n",
    "  return abs(10-n)\n",
    "\n",
    "a = (5, 3, 1, 11, 2, 12, 17)\n",
    "x = sorted(a, key=myfunc)\n",
    "print(x)"
   ]
  },
  {
   "cell_type": "markdown",
   "id": "053c4f84-6454-4cca-88f3-473abae62067",
   "metadata": {},
   "source": [
    "# ➩ __python dict function__ \n",
    "### _The __dict() function__ creates a dictionary._\n",
    "\n",
    "### _A dictionary is a collection which is unordered, changeable and indexed._"
   ]
  },
  {
   "cell_type": "code",
   "execution_count": 10,
   "id": "df0665ff-6c01-4060-b85a-b2e42756bec1",
   "metadata": {},
   "outputs": [
    {
     "name": "stdout",
     "output_type": "stream",
     "text": [
      "{'name': 'John', 'age': 36, 'country': 'Norway'}\n"
     ]
    }
   ],
   "source": [
    "x = dict(name = \"John\", age = 36, country = \"Norway\")\n",
    "print(x)"
   ]
  },
  {
   "cell_type": "markdown",
   "id": "000ab350-4f17-4d71-b5d6-2a129ca5a56d",
   "metadata": {},
   "source": [
    "# ➩ __vars () function__\n",
    "### _The __vars()__ function returns the __dict__ attribute of an object._"
   ]
  },
  {
   "cell_type": "code",
   "execution_count": 146,
   "id": "0d239bd9-b8be-4644-bc4d-246410c740ed",
   "metadata": {},
   "outputs": [
    {
     "name": "stdout",
     "output_type": "stream",
     "text": [
      "{'__module__': '__main__', 'name': 'John', 'age': 36, 'country': 'norway', '__dict__': <attribute '__dict__' of 'Person' objects>, '__weakref__': <attribute '__weakref__' of 'Person' objects>, '__doc__': None}\n"
     ]
    }
   ],
   "source": [
    "class Person:\n",
    "  name = \"John\"\n",
    "  age = 36\n",
    "  country = \"norway\"\n",
    "\n",
    "x = vars(Person)\n",
    "print(x)"
   ]
  },
  {
   "cell_type": "markdown",
   "id": "e9369601-06f9-4bd5-b8a6-97c58e6ca5ca",
   "metadata": {},
   "source": [
    "# ➩ __zip function__  in python\n",
    "### _The __zip()__ function returns a zip object, which is an iterator of __Tuples__ where the first item in each passed iterator is paired together, and then the second item in each passed iterator are paired together etc._"
   ]
  },
  {
   "cell_type": "code",
   "execution_count": 18,
   "id": "5649c51a-ae3c-4565-a23b-2999d18a60c4",
   "metadata": {},
   "outputs": [
    {
     "name": "stdout",
     "output_type": "stream",
     "text": [
      "(('John', 'Jenny'), ('Charles', 'Christy'), ('Mike', 'Monica'))\n"
     ]
    }
   ],
   "source": [
    "a = (\"John\", \"Charles\", \"Mike\")\n",
    "b = (\"Jenny\", \"Christy\", \"Monica\")\n",
    "\n",
    "x = tuple(zip(a, b))\n",
    "print(x)"
   ]
  },
  {
   "cell_type": "code",
   "execution_count": 19,
   "id": "185505e4-2f00-4637-b3f8-fc3fcc76b5eb",
   "metadata": {},
   "outputs": [
    {
     "name": "stdout",
     "output_type": "stream",
     "text": [
      "[(1, 'a'), (2, 'b'), (3, 'c')]\n"
     ]
    }
   ],
   "source": [
    "list1 = [1, 2, 3]\n",
    "list2 = ['a', 'b', 'c']\n",
    "zipped_lists = list(zip(list1, list2))\n",
    "\n",
    "print(zipped_lists)                                   # Output: [(1, 'a'), (2, 'b'), (3, 'c')]"
   ]
  },
  {
   "cell_type": "code",
   "execution_count": 20,
   "id": "38653cf6-6a64-4eb0-b82f-7763919e55ce",
   "metadata": {},
   "outputs": [
    {
     "name": "stdout",
     "output_type": "stream",
     "text": [
      "(('John', 'Jenny'), ('Charles', 'Christy'), ('Mike', 'Monica'))\n"
     ]
    }
   ],
   "source": [
    "a = (\"John\", \"Charles\", \"Mike\")\n",
    "b = (\"Jenny\", \"Christy\", \"Monica\", \"Vicky\")\n",
    "\n",
    "x = tuple(zip(a, b))\n",
    "print(x)"
   ]
  },
  {
   "cell_type": "markdown",
   "id": "40d4770c-4d5b-47cc-9554-794eeabd26ed",
   "metadata": {},
   "source": [
    "# ➩ __all () function__\n",
    "### _The __all()__ function returns True if all items in an iterable are true, otherwise it returns False._\n",
    "### _If the iterable object is empty, the all() function also returns True._"
   ]
  },
  {
   "cell_type": "code",
   "execution_count": 7,
   "id": "19edfdd0-f723-4c2b-bfe6-57872c863fda",
   "metadata": {},
   "outputs": [
    {
     "name": "stdout",
     "output_type": "stream",
     "text": [
      "True\n"
     ]
    }
   ],
   "source": [
    "mylist = [True, True, True]\n",
    "x = all(mylist)\n",
    "print(x)"
   ]
  },
  {
   "cell_type": "code",
   "execution_count": 8,
   "id": "f7f26b55-f554-46e3-a901-b8dc3d28ac89",
   "metadata": {},
   "outputs": [
    {
     "name": "stdout",
     "output_type": "stream",
     "text": [
      "False\n"
     ]
    }
   ],
   "source": [
    "mytuple = (0, True, False)\n",
    "x = all(mytuple)\n",
    "print(x)"
   ]
  },
  {
   "cell_type": "code",
   "execution_count": 9,
   "id": "d4739115-1aa8-4383-96ab-160167354cb4",
   "metadata": {},
   "outputs": [
    {
     "name": "stdout",
     "output_type": "stream",
     "text": [
      "False\n"
     ]
    }
   ],
   "source": [
    "myset = {0, 1, 0}\n",
    "x = all(myset)\n",
    "print(x)"
   ]
  },
  {
   "cell_type": "code",
   "execution_count": 10,
   "id": "eeffaa6b-1020-470f-8f7d-b0942b760b51",
   "metadata": {},
   "outputs": [
    {
     "name": "stdout",
     "output_type": "stream",
     "text": [
      "False\n"
     ]
    }
   ],
   "source": [
    "mydict = {0 : \"Apple\", 1 : \"Orange\"}\n",
    "x = all(mydict)\n",
    "print(x)"
   ]
  },
  {
   "cell_type": "markdown",
   "id": "a07e927f-1558-4c4f-bc49-f8bc66d85356",
   "metadata": {},
   "source": [
    "# ➩ __any() function__ in python\n",
    "### _The __any()__ function returns True if any item in an iterable are true, otherwise it returns False._\n",
    "#### _In Python , True is 1 , and False is 0 ._"
   ]
  },
  {
   "cell_type": "code",
   "execution_count": 3,
   "id": "11ec84d1-00f2-4fc2-a00c-6d84edd890c6",
   "metadata": {},
   "outputs": [
    {
     "name": "stdout",
     "output_type": "stream",
     "text": [
      "True\n"
     ]
    }
   ],
   "source": [
    "mylist = [False, True, False]\n",
    "x = any(mylist)\n",
    "print(x)"
   ]
  },
  {
   "cell_type": "code",
   "execution_count": 4,
   "id": "1c2822e7-e409-4b47-956d-22389b4516ca",
   "metadata": {},
   "outputs": [
    {
     "name": "stdout",
     "output_type": "stream",
     "text": [
      "True\n"
     ]
    }
   ],
   "source": [
    "mytuple = (0, 1, False)                         # True is 1 , and False is 0 .\n",
    "x = any(mytuple)\n",
    "print(x)"
   ]
  },
  {
   "cell_type": "code",
   "execution_count": 5,
   "id": "86030475-0a8b-4134-afa7-3a7634e36556",
   "metadata": {},
   "outputs": [
    {
     "name": "stdout",
     "output_type": "stream",
     "text": [
      "True\n"
     ]
    }
   ],
   "source": [
    "myset = {0, 1, 0}               # True is 1 , and False is 0 .\n",
    "x = any(myset)\n",
    "print(x)"
   ]
  },
  {
   "cell_type": "code",
   "execution_count": 6,
   "id": "8cc06b7e-e9ac-46a9-a9c1-caf01e10fb55",
   "metadata": {},
   "outputs": [
    {
     "name": "stdout",
     "output_type": "stream",
     "text": [
      "True\n"
     ]
    }
   ],
   "source": [
    "mydict = {0 : \"Apple\", 1 : \"Orange\"}\n",
    "x = any(mydict)\n",
    "print(x)"
   ]
  },
  {
   "cell_type": "markdown",
   "id": "b6678664-edde-47a5-a0cb-4e1efdc1d854",
   "metadata": {},
   "source": [
    "# ➩ __callable function__\n",
    "### The __callable()__ function returns True if the specified object is callable, otherwise it returns False."
   ]
  },
  {
   "cell_type": "code",
   "execution_count": 1,
   "id": "a97bdb17-a72e-443e-bd99-677a39c04243",
   "metadata": {},
   "outputs": [
    {
     "name": "stdout",
     "output_type": "stream",
     "text": [
      "False\n"
     ]
    }
   ],
   "source": [
    "x = 5\n",
    "\n",
    "print(callable(x))"
   ]
  },
  {
   "cell_type": "code",
   "execution_count": 2,
   "id": "bd65d9bf-c3f5-408f-8dd0-5a4dacb6a640",
   "metadata": {},
   "outputs": [
    {
     "name": "stdout",
     "output_type": "stream",
     "text": [
      "True\n"
     ]
    }
   ],
   "source": [
    "def x():\n",
    "  a = 5\n",
    "\n",
    "print(callable(x))"
   ]
  },
  {
   "cell_type": "markdown",
   "id": "57ec50e6-5063-454b-bc03-efbeba9b168e",
   "metadata": {},
   "source": [
    "# ➩ __help function__\n",
    "### _The __help()__ function: that provides documentation and information about Python objects, including modules, classes, functions, and keywords. It serves as an on-demand, in-console reference for understanding how different components of Python work._ "
   ]
  },
  {
   "cell_type": "code",
   "execution_count": 149,
   "id": "300fbc39-baea-4bab-a88d-ae737e427628",
   "metadata": {
    "collapsed": true,
    "jupyter": {
     "outputs_hidden": true
    }
   },
   "outputs": [
    {
     "name": "stdout",
     "output_type": "stream",
     "text": [
      "Help on class int in module builtins:\n",
      "\n",
      "class int(object)\n",
      " |  int([x]) -> integer\n",
      " |  int(x, base=10) -> integer\n",
      " |\n",
      " |  Convert a number or string to an integer, or return 0 if no arguments\n",
      " |  are given.  If x is a number, return x.__int__().  For floating-point\n",
      " |  numbers, this truncates towards zero.\n",
      " |\n",
      " |  If x is not a number or if base is given, then x must be a string,\n",
      " |  bytes, or bytearray instance representing an integer literal in the\n",
      " |  given base.  The literal can be preceded by '+' or '-' and be surrounded\n",
      " |  by whitespace.  The base defaults to 10.  Valid bases are 0 and 2-36.\n",
      " |  Base 0 means to interpret the base from the string as an integer literal.\n",
      " |  >>> int('0b100', base=0)\n",
      " |  4\n",
      " |\n",
      " |  Built-in subclasses:\n",
      " |      bool\n",
      " |\n",
      " |  Methods defined here:\n",
      " |\n",
      " |  __abs__(self, /)\n",
      " |      abs(self)\n",
      " |\n",
      " |  __add__(self, value, /)\n",
      " |      Return self+value.\n",
      " |\n",
      " |  __and__(self, value, /)\n",
      " |      Return self&value.\n",
      " |\n",
      " |  __bool__(self, /)\n",
      " |      True if self else False\n",
      " |\n",
      " |  __ceil__(...)\n",
      " |      Ceiling of an Integral returns itself.\n",
      " |\n",
      " |  __divmod__(self, value, /)\n",
      " |      Return divmod(self, value).\n",
      " |\n",
      " |  __eq__(self, value, /)\n",
      " |      Return self==value.\n",
      " |\n",
      " |  __float__(self, /)\n",
      " |      float(self)\n",
      " |\n",
      " |  __floor__(...)\n",
      " |      Flooring an Integral returns itself.\n",
      " |\n",
      " |  __floordiv__(self, value, /)\n",
      " |      Return self//value.\n",
      " |\n",
      " |  __format__(self, format_spec, /)\n",
      " |      Convert to a string according to format_spec.\n",
      " |\n",
      " |  __ge__(self, value, /)\n",
      " |      Return self>=value.\n",
      " |\n",
      " |  __getattribute__(self, name, /)\n",
      " |      Return getattr(self, name).\n",
      " |\n",
      " |  __getnewargs__(self, /)\n",
      " |\n",
      " |  __gt__(self, value, /)\n",
      " |      Return self>value.\n",
      " |\n",
      " |  __hash__(self, /)\n",
      " |      Return hash(self).\n",
      " |\n",
      " |  __index__(self, /)\n",
      " |      Return self converted to an integer, if self is suitable for use as an index into a list.\n",
      " |\n",
      " |  __int__(self, /)\n",
      " |      int(self)\n",
      " |\n",
      " |  __invert__(self, /)\n",
      " |      ~self\n",
      " |\n",
      " |  __le__(self, value, /)\n",
      " |      Return self<=value.\n",
      " |\n",
      " |  __lshift__(self, value, /)\n",
      " |      Return self<<value.\n",
      " |\n",
      " |  __lt__(self, value, /)\n",
      " |      Return self<value.\n",
      " |\n",
      " |  __mod__(self, value, /)\n",
      " |      Return self%value.\n",
      " |\n",
      " |  __mul__(self, value, /)\n",
      " |      Return self*value.\n",
      " |\n",
      " |  __ne__(self, value, /)\n",
      " |      Return self!=value.\n",
      " |\n",
      " |  __neg__(self, /)\n",
      " |      -self\n",
      " |\n",
      " |  __or__(self, value, /)\n",
      " |      Return self|value.\n",
      " |\n",
      " |  __pos__(self, /)\n",
      " |      +self\n",
      " |\n",
      " |  __pow__(self, value, mod=None, /)\n",
      " |      Return pow(self, value, mod).\n",
      " |\n",
      " |  __radd__(self, value, /)\n",
      " |      Return value+self.\n",
      " |\n",
      " |  __rand__(self, value, /)\n",
      " |      Return value&self.\n",
      " |\n",
      " |  __rdivmod__(self, value, /)\n",
      " |      Return divmod(value, self).\n",
      " |\n",
      " |  __repr__(self, /)\n",
      " |      Return repr(self).\n",
      " |\n",
      " |  __rfloordiv__(self, value, /)\n",
      " |      Return value//self.\n",
      " |\n",
      " |  __rlshift__(self, value, /)\n",
      " |      Return value<<self.\n",
      " |\n",
      " |  __rmod__(self, value, /)\n",
      " |      Return value%self.\n",
      " |\n",
      " |  __rmul__(self, value, /)\n",
      " |      Return value*self.\n",
      " |\n",
      " |  __ror__(self, value, /)\n",
      " |      Return value|self.\n",
      " |\n",
      " |  __round__(...)\n",
      " |      Rounding an Integral returns itself.\n",
      " |\n",
      " |      Rounding with an ndigits argument also returns an integer.\n",
      " |\n",
      " |  __rpow__(self, value, mod=None, /)\n",
      " |      Return pow(value, self, mod).\n",
      " |\n",
      " |  __rrshift__(self, value, /)\n",
      " |      Return value>>self.\n",
      " |\n",
      " |  __rshift__(self, value, /)\n",
      " |      Return self>>value.\n",
      " |\n",
      " |  __rsub__(self, value, /)\n",
      " |      Return value-self.\n",
      " |\n",
      " |  __rtruediv__(self, value, /)\n",
      " |      Return value/self.\n",
      " |\n",
      " |  __rxor__(self, value, /)\n",
      " |      Return value^self.\n",
      " |\n",
      " |  __sizeof__(self, /)\n",
      " |      Returns size in memory, in bytes.\n",
      " |\n",
      " |  __sub__(self, value, /)\n",
      " |      Return self-value.\n",
      " |\n",
      " |  __truediv__(self, value, /)\n",
      " |      Return self/value.\n",
      " |\n",
      " |  __trunc__(...)\n",
      " |      Truncating an Integral returns itself.\n",
      " |\n",
      " |  __xor__(self, value, /)\n",
      " |      Return self^value.\n",
      " |\n",
      " |  as_integer_ratio(self, /)\n",
      " |      Return a pair of integers, whose ratio is equal to the original int.\n",
      " |\n",
      " |      The ratio is in lowest terms and has a positive denominator.\n",
      " |\n",
      " |      >>> (10).as_integer_ratio()\n",
      " |      (10, 1)\n",
      " |      >>> (-10).as_integer_ratio()\n",
      " |      (-10, 1)\n",
      " |      >>> (0).as_integer_ratio()\n",
      " |      (0, 1)\n",
      " |\n",
      " |  bit_count(self, /)\n",
      " |      Number of ones in the binary representation of the absolute value of self.\n",
      " |\n",
      " |      Also known as the population count.\n",
      " |\n",
      " |      >>> bin(13)\n",
      " |      '0b1101'\n",
      " |      >>> (13).bit_count()\n",
      " |      3\n",
      " |\n",
      " |  bit_length(self, /)\n",
      " |      Number of bits necessary to represent self in binary.\n",
      " |\n",
      " |      >>> bin(37)\n",
      " |      '0b100101'\n",
      " |      >>> (37).bit_length()\n",
      " |      6\n",
      " |\n",
      " |  conjugate(...)\n",
      " |      Returns self, the complex conjugate of any int.\n",
      " |\n",
      " |  is_integer(self, /)\n",
      " |      Returns True. Exists for duck type compatibility with float.is_integer.\n",
      " |\n",
      " |  to_bytes(self, /, length=1, byteorder='big', *, signed=False)\n",
      " |      Return an array of bytes representing an integer.\n",
      " |\n",
      " |      length\n",
      " |        Length of bytes object to use.  An OverflowError is raised if the\n",
      " |        integer is not representable with the given number of bytes.  Default\n",
      " |        is length 1.\n",
      " |      byteorder\n",
      " |        The byte order used to represent the integer.  If byteorder is 'big',\n",
      " |        the most significant byte is at the beginning of the byte array.  If\n",
      " |        byteorder is 'little', the most significant byte is at the end of the\n",
      " |        byte array.  To request the native byte order of the host system, use\n",
      " |        `sys.byteorder' as the byte order value.  Default is to use 'big'.\n",
      " |      signed\n",
      " |        Determines whether two's complement is used to represent the integer.\n",
      " |        If signed is False and a negative integer is given, an OverflowError\n",
      " |        is raised.\n",
      " |\n",
      " |  ----------------------------------------------------------------------\n",
      " |  Class methods defined here:\n",
      " |\n",
      " |  from_bytes(bytes, byteorder='big', *, signed=False)\n",
      " |      Return the integer represented by the given array of bytes.\n",
      " |\n",
      " |      bytes\n",
      " |        Holds the array of bytes to convert.  The argument must either\n",
      " |        support the buffer protocol or be an iterable object producing bytes.\n",
      " |        Bytes and bytearray are examples of built-in objects that support the\n",
      " |        buffer protocol.\n",
      " |      byteorder\n",
      " |        The byte order used to represent the integer.  If byteorder is 'big',\n",
      " |        the most significant byte is at the beginning of the byte array.  If\n",
      " |        byteorder is 'little', the most significant byte is at the end of the\n",
      " |        byte array.  To request the native byte order of the host system, use\n",
      " |        `sys.byteorder' as the byte order value.  Default is to use 'big'.\n",
      " |      signed\n",
      " |        Indicates whether two's complement is used to represent the integer.\n",
      " |\n",
      " |  ----------------------------------------------------------------------\n",
      " |  Static methods defined here:\n",
      " |\n",
      " |  __new__(*args, **kwargs)\n",
      " |      Create and return a new object.  See help(type) for accurate signature.\n",
      " |\n",
      " |  ----------------------------------------------------------------------\n",
      " |  Data descriptors defined here:\n",
      " |\n",
      " |  denominator\n",
      " |      the denominator of a rational number in lowest terms\n",
      " |\n",
      " |  imag\n",
      " |      the imaginary part of a complex number\n",
      " |\n",
      " |  numerator\n",
      " |      the numerator of a rational number in lowest terms\n",
      " |\n",
      " |  real\n",
      " |      the real part of a complex number\n",
      "\n"
     ]
    }
   ],
   "source": [
    "help(int)"
   ]
  },
  {
   "cell_type": "code",
   "execution_count": 150,
   "id": "585726a0-8167-4dc0-8dab-20811ad07066",
   "metadata": {
    "collapsed": true,
    "jupyter": {
     "outputs_hidden": true
    }
   },
   "outputs": [
    {
     "name": "stdout",
     "output_type": "stream",
     "text": [
      "Help on class float in module builtins:\n",
      "\n",
      "class float(object)\n",
      " |  float(x=0, /)\n",
      " |\n",
      " |  Convert a string or number to a floating-point number, if possible.\n",
      " |\n",
      " |  Methods defined here:\n",
      " |\n",
      " |  __abs__(self, /)\n",
      " |      abs(self)\n",
      " |\n",
      " |  __add__(self, value, /)\n",
      " |      Return self+value.\n",
      " |\n",
      " |  __bool__(self, /)\n",
      " |      True if self else False\n",
      " |\n",
      " |  __ceil__(self, /)\n",
      " |      Return the ceiling as an Integral.\n",
      " |\n",
      " |  __divmod__(self, value, /)\n",
      " |      Return divmod(self, value).\n",
      " |\n",
      " |  __eq__(self, value, /)\n",
      " |      Return self==value.\n",
      " |\n",
      " |  __float__(self, /)\n",
      " |      float(self)\n",
      " |\n",
      " |  __floor__(self, /)\n",
      " |      Return the floor as an Integral.\n",
      " |\n",
      " |  __floordiv__(self, value, /)\n",
      " |      Return self//value.\n",
      " |\n",
      " |  __format__(self, format_spec, /)\n",
      " |      Formats the float according to format_spec.\n",
      " |\n",
      " |  __ge__(self, value, /)\n",
      " |      Return self>=value.\n",
      " |\n",
      " |  __getnewargs__(self, /)\n",
      " |\n",
      " |  __gt__(self, value, /)\n",
      " |      Return self>value.\n",
      " |\n",
      " |  __hash__(self, /)\n",
      " |      Return hash(self).\n",
      " |\n",
      " |  __int__(self, /)\n",
      " |      int(self)\n",
      " |\n",
      " |  __le__(self, value, /)\n",
      " |      Return self<=value.\n",
      " |\n",
      " |  __lt__(self, value, /)\n",
      " |      Return self<value.\n",
      " |\n",
      " |  __mod__(self, value, /)\n",
      " |      Return self%value.\n",
      " |\n",
      " |  __mul__(self, value, /)\n",
      " |      Return self*value.\n",
      " |\n",
      " |  __ne__(self, value, /)\n",
      " |      Return self!=value.\n",
      " |\n",
      " |  __neg__(self, /)\n",
      " |      -self\n",
      " |\n",
      " |  __pos__(self, /)\n",
      " |      +self\n",
      " |\n",
      " |  __pow__(self, value, mod=None, /)\n",
      " |      Return pow(self, value, mod).\n",
      " |\n",
      " |  __radd__(self, value, /)\n",
      " |      Return value+self.\n",
      " |\n",
      " |  __rdivmod__(self, value, /)\n",
      " |      Return divmod(value, self).\n",
      " |\n",
      " |  __repr__(self, /)\n",
      " |      Return repr(self).\n",
      " |\n",
      " |  __rfloordiv__(self, value, /)\n",
      " |      Return value//self.\n",
      " |\n",
      " |  __rmod__(self, value, /)\n",
      " |      Return value%self.\n",
      " |\n",
      " |  __rmul__(self, value, /)\n",
      " |      Return value*self.\n",
      " |\n",
      " |  __round__(self, ndigits=None, /)\n",
      " |      Return the Integral closest to x, rounding half toward even.\n",
      " |\n",
      " |      When an argument is passed, work like built-in round(x, ndigits).\n",
      " |\n",
      " |  __rpow__(self, value, mod=None, /)\n",
      " |      Return pow(value, self, mod).\n",
      " |\n",
      " |  __rsub__(self, value, /)\n",
      " |      Return value-self.\n",
      " |\n",
      " |  __rtruediv__(self, value, /)\n",
      " |      Return value/self.\n",
      " |\n",
      " |  __sub__(self, value, /)\n",
      " |      Return self-value.\n",
      " |\n",
      " |  __truediv__(self, value, /)\n",
      " |      Return self/value.\n",
      " |\n",
      " |  __trunc__(self, /)\n",
      " |      Return the Integral closest to x between 0 and x.\n",
      " |\n",
      " |  as_integer_ratio(self, /)\n",
      " |      Return a pair of integers, whose ratio is exactly equal to the original float.\n",
      " |\n",
      " |      The ratio is in lowest terms and has a positive denominator.  Raise\n",
      " |      OverflowError on infinities and a ValueError on NaNs.\n",
      " |\n",
      " |      >>> (10.0).as_integer_ratio()\n",
      " |      (10, 1)\n",
      " |      >>> (0.0).as_integer_ratio()\n",
      " |      (0, 1)\n",
      " |      >>> (-.25).as_integer_ratio()\n",
      " |      (-1, 4)\n",
      " |\n",
      " |  conjugate(self, /)\n",
      " |      Return self, the complex conjugate of any float.\n",
      " |\n",
      " |  hex(self, /)\n",
      " |      Return a hexadecimal representation of a floating-point number.\n",
      " |\n",
      " |      >>> (-0.1).hex()\n",
      " |      '-0x1.999999999999ap-4'\n",
      " |      >>> 3.14159.hex()\n",
      " |      '0x1.921f9f01b866ep+1'\n",
      " |\n",
      " |  is_integer(self, /)\n",
      " |      Return True if the float is an integer.\n",
      " |\n",
      " |  ----------------------------------------------------------------------\n",
      " |  Class methods defined here:\n",
      " |\n",
      " |  __getformat__(typestr, /)\n",
      " |      You probably don't want to use this function.\n",
      " |\n",
      " |        typestr\n",
      " |          Must be 'double' or 'float'.\n",
      " |\n",
      " |      It exists mainly to be used in Python's test suite.\n",
      " |\n",
      " |      This function returns whichever of 'unknown', 'IEEE, big-endian' or 'IEEE,\n",
      " |      little-endian' best describes the format of floating-point numbers used by the\n",
      " |      C type named by typestr.\n",
      " |\n",
      " |  fromhex(string, /)\n",
      " |      Create a floating-point number from a hexadecimal string.\n",
      " |\n",
      " |      >>> float.fromhex('0x1.ffffp10')\n",
      " |      2047.984375\n",
      " |      >>> float.fromhex('-0x1p-1074')\n",
      " |      -5e-324\n",
      " |\n",
      " |  ----------------------------------------------------------------------\n",
      " |  Static methods defined here:\n",
      " |\n",
      " |  __new__(*args, **kwargs)\n",
      " |      Create and return a new object.  See help(type) for accurate signature.\n",
      " |\n",
      " |  ----------------------------------------------------------------------\n",
      " |  Data descriptors defined here:\n",
      " |\n",
      " |  imag\n",
      " |      the imaginary part of a complex number\n",
      " |\n",
      " |  real\n",
      " |      the real part of a complex number\n",
      "\n"
     ]
    }
   ],
   "source": [
    "help(float)"
   ]
  },
  {
   "cell_type": "code",
   "execution_count": null,
   "id": "1f58cfbb-93fa-4430-9ab7-9c846e998925",
   "metadata": {},
   "outputs": [],
   "source": [
    "# Practice question \n",
    "\n",
    "write a python code for hostel students, ask them to mention their courses for 3 students and calculate their avg age."
   ]
  },
  {
   "cell_type": "code",
   "execution_count": 23,
   "id": "a55d9ff8-1f30-4557-a573-6a1576abb189",
   "metadata": {},
   "outputs": [
    {
     "name": "stdin",
     "output_type": "stream",
     "text": [
      "enter student1 course :  Maths\n",
      "enter student1 age :  28\n",
      "enter student2 course :  Science\n",
      "enter student2 age :  29\n",
      "enter student3 course :  English\n",
      "enter student3 age :  32\n"
     ]
    },
    {
     "name": "stdout",
     "output_type": "stream",
     "text": [
      "student1 age :  28 student2 age :  29 student3 age :  32\n",
      "average age of the students is :  29\n"
     ]
    }
   ],
   "source": [
    "std1 = input(\"enter student1 course : \")\n",
    "age1 = int(input(\"enter student1 age : \"))\n",
    "std2 = input(\"enter student2 course : \")\n",
    "age2 = int(input(\"enter student2 age : \"))\n",
    "std3 = input(\"enter student3 course : \")\n",
    "age3 = int(input(\"enter student3 age : \"))\n",
    "\n",
    "avg_age = (age1+age2+age3) / 3\n",
    "\n",
    "print(\"student1 age : \", age1, \"student2 age : \", age2, \"student3 age : \", age3)\n",
    "print(\"average age of the students is : \", int(avg_age))"
   ]
  },
  {
   "cell_type": "code",
   "execution_count": null,
   "id": "696a44a5-f543-475f-a96a-f13ed5acc48c",
   "metadata": {},
   "outputs": [],
   "source": []
  }
 ],
 "metadata": {
  "kernelspec": {
   "display_name": "Python 3 (ipykernel)",
   "language": "python",
   "name": "python3"
  },
  "language_info": {
   "codemirror_mode": {
    "name": "ipython",
    "version": 3
   },
   "file_extension": ".py",
   "mimetype": "text/x-python",
   "name": "python",
   "nbconvert_exporter": "python",
   "pygments_lexer": "ipython3",
   "version": "3.12.7"
  }
 },
 "nbformat": 4,
 "nbformat_minor": 5
}
