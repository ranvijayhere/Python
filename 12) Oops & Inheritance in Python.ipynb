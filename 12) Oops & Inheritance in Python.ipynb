{
 "cells": [
  {
   "cell_type": "markdown",
   "id": "f5413242-4cb2-4710-b8bf-f7c94e8d8e15",
   "metadata": {},
   "source": [
    "# __12)  Concepts of OOP in Python__\n",
    "# OOP stands for Object-Oriented Programming.\n",
    "\n",
    "### _Python is an object-oriented Programming language , allowing you to structure your code using classes and objects for better organization and reusability._"
   ]
  },
  {
   "cell_type": "markdown",
   "id": "09e8170a-81f2-4964-9570-381245ae88f8",
   "metadata": {},
   "source": [
    "# Advantages of OOP\n",
    "##### 1) Provides a clear structure to programs\n",
    "##### 2) Makes code easier to maintain, reuse, and debug\n",
    "##### 3) Helps keep your code DRY (Dont Repeat Yourself) \n",
    "##### 4) Allows you to build reusable applications with less code"
   ]
  },
  {
   "cell_type": "markdown",
   "id": "bbd27810-1c80-4b4e-ae92-fcfe388bb6d0",
   "metadata": {},
   "source": [
    "# Procedural programming\n"
   ]
  },
  {
   "cell_type": "code",
   "execution_count": 4,
   "id": "a66eeac3-8b2b-475b-8bb3-56de2cbe01d1",
   "metadata": {},
   "outputs": [
    {
     "name": "stdout",
     "output_type": "stream",
     "text": [
      "50\n",
      "30\n"
     ]
    }
   ],
   "source": [
    "num1 = 40\n",
    "num2 = 10\n",
    "\n",
    "sum1 = num1 + num2 \n",
    "diff = num1 - num2 \n",
    "\n",
    "print(sum1) \n",
    "print(diff)"
   ]
  },
  {
   "cell_type": "code",
   "execution_count": 5,
   "id": "05b15162-4c3d-4322-8aab-f73601d0e383",
   "metadata": {},
   "outputs": [
    {
     "name": "stdout",
     "output_type": "stream",
     "text": [
      "41.1\n",
      "40.660000000000004\n"
     ]
    }
   ],
   "source": [
    "num1 = 40.88\n",
    "num2 = 0.22\n",
    "\n",
    "sum1 = num1 + num2 \n",
    "diff = num1 - num2 \n",
    "print(sum1) \n",
    "print(diff)"
   ]
  },
  {
   "cell_type": "markdown",
   "id": "a760ab97-9bbb-4e65-83a0-4144c1bc70bb",
   "metadata": {},
   "source": [
    "# Functional programming"
   ]
  },
  {
   "cell_type": "code",
   "execution_count": 6,
   "id": "7a24b99c-410d-4a7c-983d-556c3d23276f",
   "metadata": {},
   "outputs": [
    {
     "name": "stdout",
     "output_type": "stream",
     "text": [
      "50\n",
      "73\n"
     ]
    }
   ],
   "source": [
    "def add_numbers(a,b):\n",
    "    print(a+b)\n",
    "\n",
    "def subtract_numbers(a,b): \n",
    "    print(a-b)\n",
    "\n",
    "add_numbers (40,10) \n",
    "add_numbers (68,5)"
   ]
  },
  {
   "cell_type": "code",
   "execution_count": 7,
   "id": "a3e54adb-75f9-430f-a428-3254bfbfed54",
   "metadata": {},
   "outputs": [
    {
     "name": "stdout",
     "output_type": "stream",
     "text": [
      "30\n"
     ]
    }
   ],
   "source": [
    "subtract_numbers(40,10)"
   ]
  },
  {
   "cell_type": "code",
   "execution_count": 28,
   "id": "740fcb51-e5f8-4651-a79b-30d433579e93",
   "metadata": {},
   "outputs": [
    {
     "name": "stdout",
     "output_type": "stream",
     "text": [
      "[1, 4, 9, 16]\n"
     ]
    }
   ],
   "source": [
    "numbers = [1, 2, 3, 4]\n",
    "squared_numbers = list(map(lambda x: x * x, numbers))\n",
    "\n",
    "print(squared_numbers)                      # Output: [1, 4, 9, 16]"
   ]
  },
  {
   "cell_type": "markdown",
   "id": "94f37f95-bb49-43c3-af0a-c7e2ae113f36",
   "metadata": {},
   "source": [
    "# Object Oriented Programming"
   ]
  },
  {
   "cell_type": "code",
   "execution_count": 12,
   "id": "243b1250-9d92-4011-b078-9b60f7ff18bd",
   "metadata": {},
   "outputs": [
    {
     "name": "stdout",
     "output_type": "stream",
     "text": [
      "11\n"
     ]
    }
   ],
   "source": [
    "class calculator:\n",
    "    def add(self,a,b):\n",
    "        print(a+b)\n",
    "    def diff(self,a,b):\n",
    "        print(a-b)\n",
    "    def multi(self,a,b):\n",
    "        print(a*b)\n",
    "\n",
    "calc = calculator ()\n",
    "calc.add(5,6)"
   ]
  },
  {
   "cell_type": "code",
   "execution_count": 13,
   "id": "8faaac0f-d810-4c57-8a80-d43e4d6396ab",
   "metadata": {},
   "outputs": [
    {
     "name": "stdout",
     "output_type": "stream",
     "text": [
      "2520\n"
     ]
    }
   ],
   "source": [
    "calc.multi(45,56)"
   ]
  },
  {
   "cell_type": "code",
   "execution_count": 14,
   "id": "701891c3-bf01-4597-9e32-6f1eab1425c1",
   "metadata": {},
   "outputs": [
    {
     "name": "stdout",
     "output_type": "stream",
     "text": [
      "-10\n"
     ]
    }
   ],
   "source": [
    "calc.diff(45,55)"
   ]
  },
  {
   "cell_type": "code",
   "execution_count": 15,
   "id": "3b364867-fddd-4cf1-9307-07db874576a0",
   "metadata": {},
   "outputs": [
    {
     "name": "stdout",
     "output_type": "stream",
     "text": [
      "7\n"
     ]
    }
   ],
   "source": [
    "calc.diff(9,2)"
   ]
  },
  {
   "cell_type": "markdown",
   "id": "b42b9595-d95c-4c86-aa7e-206e2fd375cc",
   "metadata": {},
   "source": [
    "# ⮩ What are Classes and Objects?\n",
    "#### _Classes and objects are the two core concepts in object-oriented programming._\n",
    "\n",
    "#### _A class defines what an object should look like, and an object is created based on that class. For example:_\n",
    "\n",
    "#### __Class  ----  Objects__   \n",
    "#### Fruit----\tApple, Banana, Mango   \n",
    "#### Car\t----  Volvo, Audi, Toyota"
   ]
  },
  {
   "cell_type": "markdown",
   "id": "653bd274-d75b-44d3-b3ba-a197aa0a3349",
   "metadata": {},
   "source": [
    "## When you create an object from a class, it inherits all the variables and functions defined inside that class.\n"
   ]
  },
  {
   "cell_type": "markdown",
   "id": "6b816ca8-4647-4742-b569-133a17cc97b0",
   "metadata": {},
   "source": [
    "# ⮩ Python Classes/Objects\n",
    "### _Python is an object oriented programming language._\n",
    "\n",
    "#### _Almost everything in Python is an object, with its properties and methods._\n",
    "\n",
    "#### _A Class is like an object constructor, or a \"blueprint\" for creating objects._"
   ]
  },
  {
   "cell_type": "markdown",
   "id": "2f8e1358-be08-4178-ade3-f44286de0796",
   "metadata": {},
   "source": [
    "# Create a Class\n",
    "#### _To create a class, use the keyword __class___"
   ]
  },
  {
   "cell_type": "code",
   "execution_count": 1,
   "id": "7f3f4662-bfcb-46ba-b80d-7b7727a4b6cd",
   "metadata": {},
   "outputs": [
    {
     "name": "stdout",
     "output_type": "stream",
     "text": [
      "<class '__main__.MyClass'>\n"
     ]
    }
   ],
   "source": [
    "class MyClass:\n",
    "    x = 5\n",
    "print(MyClass)"
   ]
  },
  {
   "cell_type": "markdown",
   "id": "dd912f2b-0b2e-4721-8c09-2f5cde5cead0",
   "metadata": {},
   "source": [
    "# Create Object\n",
    "#### _Now we can use the class named MyClass to create objects:_"
   ]
  },
  {
   "cell_type": "code",
   "execution_count": 27,
   "id": "7f464394-b253-45df-acda-984ef73613ff",
   "metadata": {},
   "outputs": [
    {
     "name": "stdout",
     "output_type": "stream",
     "text": [
      "5\n"
     ]
    }
   ],
   "source": [
    "class MyClass:\n",
    "  x = 5\n",
    "\n",
    "p1 = MyClass()\n",
    "print(p1.x)"
   ]
  },
  {
   "cell_type": "markdown",
   "id": "b4e1a64c-3ac6-4342-8d77-8030efa2aac7",
   "metadata": {},
   "source": [
    "# Class & Object - example"
   ]
  },
  {
   "cell_type": "code",
   "execution_count": 2,
   "id": "4de4a0b8-9dec-46cc-bc59-00ca2359cfde",
   "metadata": {},
   "outputs": [
    {
     "name": "stdout",
     "output_type": "stream",
     "text": [
      "The (self.color) (self.model) car is starting.\n",
      "The (self.color) (self.model) car is starting.\n"
     ]
    }
   ],
   "source": [
    "class Car:\n",
    "    def start(self):\n",
    "        print(f\"The (self.color) (self.model) car is starting.\")\n",
    "\n",
    " # Object creation aur attributes set karna\n",
    "\n",
    "car1 = Car()\n",
    "car1.model = \"Toyota\"\n",
    "car1.color = \"Red\"\n",
    "\n",
    "car2 = Car()\n",
    "car2.model = \"Honda\"\n",
    "car2.color = \"Blue\"\n",
    "\n",
    "# Methods call karna              \n",
    " \n",
    "car1.start()      # Output: The Red Toyota car is starting.\n",
    "car2.start()      # Output: The Blue Honda car is starting."
   ]
  },
  {
   "cell_type": "code",
   "execution_count": 1,
   "id": "14d7c475-5b1d-46f6-900d-a31ae9564737",
   "metadata": {},
   "outputs": [
    {
     "name": "stdout",
     "output_type": "stream",
     "text": [
      "Alex\n",
      "112\n"
     ]
    }
   ],
   "source": [
    "class Student:\n",
    "    def Name(self):\n",
    "        name = 'Alex'    # local variable\n",
    "        print(name)\n",
    "    def Id(self):\n",
    "        id = 112\n",
    "        print(id)\n",
    "\n",
    "s1 = Student()     # creating an object\n",
    "\n",
    "            # calling methods with objects\n",
    "s1.Name()\n",
    "s1.Id()"
   ]
  },
  {
   "cell_type": "markdown",
   "id": "42660a35-e78f-4881-bd33-e1e98de7ad3c",
   "metadata": {},
   "source": [
    "# ⮩ The __init__() Function\n",
    "#### _The examples above are classes and objects in their simplest form, and are not really useful in real life applications._\n",
    "\n",
    "#### _To understand the meaning of classes we have to understand the built-in __init__() function._\n",
    "\n",
    "#### _All classes have a function called __init__(), which is always executed when the class is being initiated._\n",
    "\n",
    "#### _Use the __init__() function to assign values to object properties, or other operations that are necessary to do when the object is being created:_"
   ]
  },
  {
   "cell_type": "markdown",
   "id": "ce456c0f-62ed-4047-8150-8c39230caf18",
   "metadata": {},
   "source": [
    "#  __init__ Function kya hota hai?\n",
    "\n",
    "### _init function ek special method hai jo class ke object create hone par automatic call hota hai. Is function ka kaam hai object ke initial properties ko set karna. Is function ko constructor bhi kehte hain._\n",
    "\n",
    "#  __ __init__ __ Function kyun banate hain?\n",
    "\n",
    "#### __Initialization__  :  _Object ke properties ko initial values dene ke liye._  \n",
    "#### __Automatic Call__  :  _Jab bhi object banate hain, _ init function automatic call hota hai._  \n",
    "#### __Consistency__  :  _Sab objects ko consistent initial state dene ke liye_"
   ]
  },
  {
   "cell_type": "code",
   "execution_count": 21,
   "id": "2c154da5-205f-46f0-8640-8d3c6b14dab6",
   "metadata": {},
   "outputs": [
    {
     "name": "stdout",
     "output_type": "stream",
     "text": [
      "The black toyota car is starting.\n"
     ]
    }
   ],
   "source": [
    "class Car:\n",
    "    def __init__(self, model, color):\n",
    "        self.model = model\n",
    "        self.color = color\n",
    "    def start(self):\n",
    "        \n",
    "        print(f\"The {self.color} {self.model} car is starting.\")\n",
    "\n",
    "car1 = Car(\"toyota\", \"black\")\n",
    "car1.start()"
   ]
  },
  {
   "cell_type": "code",
   "execution_count": 1,
   "id": "42bef1fa-8579-457f-8a17-f263c5c2c6ae",
   "metadata": {},
   "outputs": [
    {
     "name": "stdout",
     "output_type": "stream",
     "text": [
      "John\n",
      "36\n"
     ]
    }
   ],
   "source": [
    "class Person:\n",
    "  def __init__(self, name, age):\n",
    "    self.name = name\n",
    "    self.age = age\n",
    "\n",
    "p1 = Person(\"John\", 36)\n",
    "\n",
    "print(p1.name)\n",
    "print(p1.age)"
   ]
  },
  {
   "cell_type": "code",
   "execution_count": 1,
   "id": "abe0ef47-7448-491e-8379-145fa4ee3e67",
   "metadata": {},
   "outputs": [
    {
     "name": "stdout",
     "output_type": "stream",
     "text": [
      "White\n",
      "Defender\n",
      "280\n"
     ]
    }
   ],
   "source": [
    "class Car:\n",
    "    def __init__(self, name, color, model_year, top_speed):\n",
    "        self.name = name\n",
    "        self.color = color\n",
    "        self.model_year = model_year\n",
    "        self.top_speed = top_speed\n",
    "\n",
    "    def Name(self):\n",
    "        print(self.name)\n",
    "    def Color(self):\n",
    "        print(self.color)\n",
    "    def Model_year(self):\n",
    "        print(self.model_year)\n",
    "    def Top_speed(self):\n",
    "        print(self.top_speed)\n",
    "\n",
    "                                         # creating objects\n",
    "bmw = Car('X6', 'Black', 2017, 280)\n",
    "toyota = Car('Camry', 'White', 2012, 240)\n",
    "rr = Car('Defender', 'Green', 2022, 260)\n",
    "                                         # calling objects\n",
    "toyota.Color()\n",
    "rr.Name()\n",
    "bmw.Top_speed()"
   ]
  },
  {
   "cell_type": "code",
   "execution_count": null,
   "id": "53c54ab2-3584-4043-a646-239ee648be02",
   "metadata": {},
   "outputs": [],
   "source": [
    "# Example Problem :\n",
    "\n",
    "Yash created a class square ( shape ) to create squares of different dimensions. Also, he developed\n",
    "methods to get the area and perimeter of the squares. Now he wants to develop a similar class for\n",
    "rectangle ( shape ) as well. Also, he wants to add methods to change the dimensions of the rectangle.\n",
    "Help Yash in creating the class rectangle."
   ]
  },
  {
   "cell_type": "code",
   "execution_count": 4,
   "id": "616792f2-dbab-4631-b1bd-9ff02adbb5f6",
   "metadata": {},
   "outputs": [
    {
     "name": "stdout",
     "output_type": "stream",
     "text": [
      "49\n",
      "28\n"
     ]
    }
   ],
   "source": [
    "class Square:\n",
    "    def __init__(self, side):\n",
    "        self.side = side\n",
    "    def Area(self):\n",
    "        area = self.side * self.side\n",
    "        print(area)\n",
    "    def Perimeter(self):\n",
    "        p = 4*self.side\n",
    "        print(p)\n",
    "\n",
    "sq1 = Square(7)\n",
    "sq1.Area()\n",
    "sq1.Perimeter()"
   ]
  },
  {
   "cell_type": "code",
   "execution_count": 5,
   "id": "1a5ae8d5-4910-48c7-bbb6-f3f522601859",
   "metadata": {},
   "outputs": [
    {
     "name": "stdout",
     "output_type": "stream",
     "text": [
      "28\n"
     ]
    }
   ],
   "source": [
    "class Rectangle:\n",
    "    def __init__(self, l, w):\n",
    "        self.l = l\n",
    "        self.w = w\n",
    "    def Area(self):\n",
    "        area = self.l * self.w\n",
    "        print(area)\n",
    "    def Perimeter(self):\n",
    "        p = 2* (l+w)\n",
    "        print(p)\n",
    "\n",
    "rec1 = Rectangle(4,7)\n",
    "rec1.Area()"
   ]
  },
  {
   "cell_type": "code",
   "execution_count": 2,
   "id": "60552c5d-5432-4034-86ba-e2ce320a701b",
   "metadata": {},
   "outputs": [],
   "source": [
    "# Blueprint for a player of a game - Tekken 8\n",
    "class Player:   # blueprint\n",
    "    def __init__(self, name, height, weight):\n",
    "        self.height = height\n",
    "        self.name = name\n",
    "        self.weight = weight\n",
    "    def Jump(self):\n",
    "        print(self.name, 'is Jumping')\n",
    "    def Run(self):\n",
    "        print('Running')\n",
    "    def Punch(self):\n",
    "        print('Punching')\n",
    "    def Kick(self):\n",
    "        print('Kicking')\n",
    "    def Powersmash(self):\n",
    "        print('Powersmash')"
   ]
  },
  {
   "cell_type": "code",
   "execution_count": 3,
   "id": "cab2c01b-7744-4c39-9ea3-bd585223ffc9",
   "metadata": {},
   "outputs": [
    {
     "name": "stdout",
     "output_type": "stream",
     "text": [
      "Powersmash\n",
      "Nina Williams is Jumping\n",
      "Devil Kazuya is Jumping\n",
      "Kicking\n"
     ]
    }
   ],
   "source": [
    "# making objects (players)\n",
    "Jin = Player('Jin Kazama', 176, 78)\n",
    "Nina = Player(\"Nina Williams\", 175, 72)\n",
    "Devil = Player('Devil Kazuya', 181, 83)\n",
    "\n",
    "\n",
    "# calling methods\n",
    "Jin.Powersmash()\n",
    "Nina.Jump()\n",
    "Devil.Jump()\n",
    "Nina.Kick()"
   ]
  },
  {
   "cell_type": "markdown",
   "id": "14185519-d9bf-4034-b05c-42a9ac913add",
   "metadata": {},
   "source": [
    "# ⮩ The __ str() __ Function\n",
    "### _The __ __str()__ __ function controls what should be returned when the class object is represented as a string._\n",
    "\n",
    "#### _If the __str__() function is not set, the string representation of the object is returned:_\n"
   ]
  },
  {
   "cell_type": "code",
   "execution_count": 9,
   "id": "81219b1b-d914-49f9-b178-c60f12baaa32",
   "metadata": {},
   "outputs": [
    {
     "name": "stdout",
     "output_type": "stream",
     "text": [
      "<__main__.Person object at 0x00000185E53428A0>\n"
     ]
    }
   ],
   "source": [
    "class Person:                          # The string representation of an object WITHOUT the __str__() function:\n",
    "  def __init__(self, name, age):\n",
    "    self.name = name\n",
    "    self.age = age\n",
    "\n",
    "p1 = Person(\"John\", 36)\n",
    "\n",
    "print(p1)"
   ]
  },
  {
   "cell_type": "code",
   "execution_count": 10,
   "id": "c3cdd22b-e331-4feb-8a8f-2b9e18efdf6f",
   "metadata": {},
   "outputs": [
    {
     "name": "stdout",
     "output_type": "stream",
     "text": [
      "John(36)\n"
     ]
    }
   ],
   "source": [
    "class Person:                         # The string representation of an object WITH the __str__() function :\n",
    "  def __init__(self, name, age):\n",
    "    self.name = name\n",
    "    self.age = age\n",
    "\n",
    "  def __str__(self):\n",
    "    return f\"{self.name}({self.age})\"\n",
    "\n",
    "p1 = Person(\"John\", 36)\n",
    "\n",
    "print(p1)"
   ]
  },
  {
   "cell_type": "markdown",
   "id": "3df76fd4-1606-4642-9a2c-2d12c3ad929e",
   "metadata": {},
   "source": [
    "# Object Methods\n",
    "#### _Objects can also contain methods. Methods in objects are functions that belong to the object._"
   ]
  },
  {
   "cell_type": "code",
   "execution_count": 11,
   "id": "e7bcb030-e4b2-40ec-a403-01d49059929e",
   "metadata": {},
   "outputs": [
    {
     "name": "stdout",
     "output_type": "stream",
     "text": [
      "Hello my name is John\n"
     ]
    }
   ],
   "source": [
    "class Person:\n",
    "  def __init__(self, name, age):\n",
    "    self.name = name\n",
    "    self.age = age\n",
    "\n",
    "  def myfunc(self):\n",
    "    print(\"Hello my name is \" + self.name)\n",
    "\n",
    "p1 = Person(\"John\", 36)\n",
    "p1.myfunc()"
   ]
  },
  {
   "cell_type": "markdown",
   "id": "93a02b6c-c851-4ef5-9b9f-dd646b33aa15",
   "metadata": {},
   "source": [
    "# The self Parameter\n",
    "#### _The self parameter is a reference to the current instance of the class, and is used to access variables that belong to the class._"
   ]
  },
  {
   "cell_type": "code",
   "execution_count": 4,
   "id": "7a012dc5-e2e5-4378-880d-1e778ba2513e",
   "metadata": {},
   "outputs": [
    {
     "name": "stdout",
     "output_type": "stream",
     "text": [
      "Hello my name is : John\n"
     ]
    }
   ],
   "source": [
    "class Person:\n",
    "  def __init__(self, name, age):\n",
    "    self.name = name\n",
    "    self.age = age\n",
    "\n",
    "  def myfunc(abc):\n",
    "    print(\"Hello my name is : \" + abc.name)\n",
    "\n",
    "p1 = Person(\"John\", 36)\n",
    "p1.myfunc()"
   ]
  },
  {
   "cell_type": "code",
   "execution_count": 3,
   "id": "fbd6d399-a504-4a2f-b5b3-13bd33e9100d",
   "metadata": {},
   "outputs": [
    {
     "name": "stdout",
     "output_type": "stream",
     "text": [
      "Hello my name is : John\n"
     ]
    }
   ],
   "source": [
    "class Person:\n",
    "  def __init__(myobject, name, age):\n",
    "    myobject.name = name\n",
    "    myobject.age = age\n",
    "\n",
    "  def myfunc(abc):\n",
    "    print(\"Hello my name is : \" + abc.name)\n",
    "\n",
    "p1 = Person(\"John\", 36)\n",
    "p1.myfunc()"
   ]
  },
  {
   "cell_type": "markdown",
   "id": "d85e0f8d-1148-4dc1-92d1-2a14df891a25",
   "metadata": {},
   "source": [
    "# Modify Object Properties"
   ]
  },
  {
   "cell_type": "code",
   "execution_count": 9,
   "id": "bb8be6e0-f752-4124-9432-6d0ec1796e82",
   "metadata": {},
   "outputs": [
    {
     "name": "stdout",
     "output_type": "stream",
     "text": [
      "40\n"
     ]
    }
   ],
   "source": [
    "class Person:\n",
    "  def __init__(myobject, name, age):\n",
    "    myobject.name = name\n",
    "    myobject.age = age\n",
    "\n",
    "  def myfunc(abc):\n",
    "    print(\"Hello my name is : \" + abc.name)\n",
    "\n",
    "p1 = Person(\"John\", 36)\n",
    "p1.age = 40\n",
    "print(p1.age)"
   ]
  },
  {
   "cell_type": "markdown",
   "id": "9b81c8e8-efed-4c46-8d26-fe14ace3be4a",
   "metadata": {},
   "source": [
    "# Delete Object Properties\n",
    "#### _You can delete properties on objects by using the __del keyword__ :_"
   ]
  },
  {
   "cell_type": "code",
   "execution_count": 10,
   "id": "95bfc18b-23c1-4fd3-8759-1e99068d5fb9",
   "metadata": {},
   "outputs": [
    {
     "name": "stdout",
     "output_type": "stream",
     "text": [
      "John\n"
     ]
    },
    {
     "ename": "AttributeError",
     "evalue": "'Person' object has no attribute 'age'",
     "output_type": "error",
     "traceback": [
      "\u001b[1;31m---------------------------------------------------------------------------\u001b[0m",
      "\u001b[1;31mAttributeError\u001b[0m                            Traceback (most recent call last)",
      "Cell \u001b[1;32mIn[10], line 14\u001b[0m\n\u001b[0;32m     11\u001b[0m \u001b[38;5;28;01mdel\u001b[39;00m p1\u001b[38;5;241m.\u001b[39mage\n\u001b[0;32m     13\u001b[0m \u001b[38;5;28mprint\u001b[39m(p1\u001b[38;5;241m.\u001b[39mname)\n\u001b[1;32m---> 14\u001b[0m \u001b[38;5;28mprint\u001b[39m(p1\u001b[38;5;241m.\u001b[39mage)\n",
      "\u001b[1;31mAttributeError\u001b[0m: 'Person' object has no attribute 'age'"
     ]
    }
   ],
   "source": [
    "class Person:\n",
    "  def __init__(self, name, age):\n",
    "    self.name = name\n",
    "    self.age = age\n",
    "\n",
    "  def myfunc(self):\n",
    "    print(\"Hello my name is \" + self.name)\n",
    "\n",
    "p1 = Person(\"John\", 36)\n",
    "\n",
    "del p1.age\n",
    "\n",
    "print(p1.name)\n",
    "print(p1.age)  # it shows error as its already deleted"
   ]
  },
  {
   "cell_type": "markdown",
   "id": "0b7d5072-c62b-4c5a-8bcb-0e8800667f95",
   "metadata": {},
   "source": [
    "# Delete Objects\n",
    "#### _You can delete objects by using the __del keyword__:_"
   ]
  },
  {
   "cell_type": "code",
   "execution_count": 76,
   "id": "90b55d49-5433-4324-b3ae-4c0ba96952db",
   "metadata": {},
   "outputs": [
    {
     "ename": "NameError",
     "evalue": "name 'per1' is not defined",
     "output_type": "error",
     "traceback": [
      "\u001b[1;31m---------------------------------------------------------------------------\u001b[0m",
      "\u001b[1;31mNameError\u001b[0m                                 Traceback (most recent call last)",
      "Cell \u001b[1;32mIn[76], line 12\u001b[0m\n\u001b[0;32m      9\u001b[0m per1 \u001b[38;5;241m=\u001b[39m Person(\u001b[38;5;124m\"\u001b[39m\u001b[38;5;124mJohn\u001b[39m\u001b[38;5;124m\"\u001b[39m, \u001b[38;5;241m36\u001b[39m)\n\u001b[0;32m     10\u001b[0m \u001b[38;5;28;01mdel\u001b[39;00m per1\n\u001b[1;32m---> 12\u001b[0m \u001b[38;5;28mprint\u001b[39m(per1)\n",
      "\u001b[1;31mNameError\u001b[0m: name 'per1' is not defined"
     ]
    }
   ],
   "source": [
    "class Person:\n",
    "  def __init__(self, name, age):\n",
    "    self.name = name\n",
    "    self.age = age\n",
    "\n",
    "  def myfunc(self):\n",
    "    print(\"Hello my name is \" + self.name)\n",
    "\n",
    "per1 = Person(\"John\", 36)\n",
    "del per1\n",
    "\n",
    "print(per1)"
   ]
  },
  {
   "cell_type": "markdown",
   "id": "e5ddca5a-60ba-4b7f-b169-4af904f93cde",
   "metadata": {},
   "source": [
    "# The pass Statement\n",
    "### _class definitions cannot be empty, but for some reason , if you have a class definition with no content, put in the pass statement to avoid getting an error._"
   ]
  },
  {
   "cell_type": "code",
   "execution_count": 11,
   "id": "5b4580f1-d30c-47c5-a8cd-6dd4c6f29f76",
   "metadata": {},
   "outputs": [
    {
     "name": "stdout",
     "output_type": "stream",
     "text": [
      "<__main__.Person object at 0x000001F5943377D0>\n"
     ]
    }
   ],
   "source": [
    "class Person:\n",
    "  def __init__(self, name, age):\n",
    "    self.name = name\n",
    "    self.age = age\n",
    "  def myfunc(self):\n",
    "   pass\n",
    "      \n",
    "per1 = Person(\"John\", 36)\n",
    "print(per1)"
   ]
  },
  {
   "cell_type": "markdown",
   "id": "99c29b18-ac16-4712-818a-1a14156b62e1",
   "metadata": {},
   "source": [
    "# ➩➩➩ __Inheritance in Python__\n",
    "### _Inheritance allows us to define a class that inherits all the methods and properties from another class._\n",
    "\n",
    "###  _-->  __Parent class__ is the class being inherited from , also called __base class___.\n",
    "\n",
    "### _-->  __Child class__ is the class that inherits from another class, also called __derived class__._\n",
    "\n",
    "# ⮩ Create a Parent Class\n",
    "\n",
    "### _An object-oriented programming, __A parent class (also known as a base class)__ defines common attributes and methods that can be inherited by other classes. These attributes and methods serve as the foundation for the child classes. By using inheritance, child classes can access and extend the functionality provided by the parent class._"
   ]
  },
  {
   "cell_type": "code",
   "execution_count": 5,
   "id": "9e86c79d-22df-4635-bca8-20bc8f86a11b",
   "metadata": {},
   "outputs": [
    {
     "name": "stdout",
     "output_type": "stream",
     "text": [
      "Satyam 102\n"
     ]
    }
   ],
   "source": [
    "class Person():\n",
    "                                  # Constructor\n",
    "  def __init__(self, name, id):\n",
    "    self.name = name\n",
    "    self.id = id\n",
    "                                   # To check if this person is an employee\n",
    "  def Display(self):\n",
    "    print(self.name, self.id)\n",
    "                                          # Driver code\n",
    "emp = Person(\"Satyam\", 102)         # An Object of Person\n",
    "emp.Display()"
   ]
  },
  {
   "cell_type": "code",
   "execution_count": 2,
   "id": "bc642f35-ac6d-4bb4-8573-af9a8488f9c3",
   "metadata": {},
   "outputs": [
    {
     "name": "stdout",
     "output_type": "stream",
     "text": [
      "Ramesh Sabhavath\n"
     ]
    }
   ],
   "source": [
    "class Person():\n",
    "  def __init__(self, fname, lname):\n",
    "    self.firstname = fname\n",
    "    self.lastname = lname\n",
    "\n",
    "  def printname(self):\n",
    "    print(self.firstname, self.lastname)\n",
    "\n",
    "              # Use the Person class to create an object , and then execute the printname method :\n",
    "\n",
    "x = Person(\"Ramesh\", \"Sabhavath\")\n",
    "x.printname()"
   ]
  },
  {
   "cell_type": "markdown",
   "id": "4a295abe-43c0-43f2-be93-75454252fd44",
   "metadata": {},
   "source": [
    "# ⮩ Create a Child Class\n",
    "### _To create a class that inherits the functionality from another class, send the parent class as a parameter when creating the child class :_   \n",
    "#### ___A child class (also known as a subclass)__ is a class that inherits properties and methods from its parent class. The child class can also introduce additional attributes and methods, or even override the ones inherited from the parent._\n"
   ]
  },
  {
   "cell_type": "code",
   "execution_count": 8,
   "id": "c2dadd9f-e7af-4acd-87b2-00715570880a",
   "metadata": {},
   "outputs": [
    {
     "name": "stdout",
     "output_type": "stream",
     "text": [
      "hi\n",
      "hello\n"
     ]
    }
   ],
   "source": [
    "class A:                       # parent class\n",
    "    def hello(self):\n",
    "        print('hello')\n",
    "\n",
    "class B(A):                    # child class - inheriting all the properties from A\n",
    "    def hi(self):\n",
    "        print('hi')\n",
    "\n",
    "objA = A()\n",
    "objB = B()\n",
    "\n",
    "objB.hi()\n",
    "objB.hello()"
   ]
  },
  {
   "cell_type": "markdown",
   "id": "d045aaa0-3d3f-4872-ad5e-03c0e955373d",
   "metadata": {},
   "source": [
    "# ⮩ __ __init__ __ function\n",
    "### _We want to add the __init__() function to the child class (instead of the pass keyword)._\n",
    "\n",
    "#### __Note_ : The __init__() function is called automatically every time the class is being used to create a new object._"
   ]
  },
  {
   "cell_type": "code",
   "execution_count": null,
   "id": "afd63106-9d96-4e58-8fab-3c234ae5eb2c",
   "metadata": {},
   "outputs": [],
   "source": [
    "class Student(Person):\n",
    "  def __init__(self, fname, lname):\n",
    "      \n",
    "    # add properties etc."
   ]
  },
  {
   "cell_type": "markdown",
   "id": "9f2fe0f9-1b86-4176-b366-e36d340dcc0b",
   "metadata": {},
   "source": [
    "#### _When you add the __ __init__  __ () function , the child class will no longer inherit the parent's_ __ ___init__ __ () function_.\n",
    "\n",
    "#### ___Note :__ The child's __ __init__ __ () function overrides the inheritance of the parent's_ __ ___init__ __ () function._\n",
    "\n",
    "#### _To keep the inheritance of the parent's_ __ ___init__ __ () function , add a call to the parent's __ __init__ __ () function :_"
   ]
  },
  {
   "cell_type": "code",
   "execution_count": 46,
   "id": "240fc52b-485c-419c-b78e-a777b03140aa",
   "metadata": {},
   "outputs": [
    {
     "name": "stdout",
     "output_type": "stream",
     "text": [
      "Hello, my name is John and I am 30 years old.\n"
     ]
    }
   ],
   "source": [
    "class Person:\n",
    "    def __init__(self, name, age):\n",
    "        self.name = name\n",
    "        self.age = age\n",
    "\n",
    "    def greet(self):\n",
    "        print(f\"Hello, my name is {self.name} and I am {self.age} years old.\")\n",
    "\n",
    "p = Person(\"John\", 30)\n",
    "p.greet()                     # Output: Hello, my name is John and I am 30 years old."
   ]
  },
  {
   "cell_type": "code",
   "execution_count": 20,
   "id": "4b04bbfa-17a8-4c87-b240-49deae140659",
   "metadata": {},
   "outputs": [
    {
     "name": "stdout",
     "output_type": "stream",
     "text": [
      "Mike Olsen\n"
     ]
    }
   ],
   "source": [
    "class Person:\n",
    "  def __init__(self, fname, lname):\n",
    "    self.firstname = fname\n",
    "    self.lastname = lname\n",
    "\n",
    "  def printname(self):\n",
    "    print(self.firstname, self.lastname)\n",
    "\n",
    "class Student(Person):\n",
    "  def __init__(self, fname, lname):\n",
    "    Person.__init__(self, fname, lname)\n",
    "\n",
    "x = Student(\"Mike\", \"Olsen\")\n",
    "x.printname()"
   ]
  },
  {
   "cell_type": "code",
   "execution_count": 1,
   "id": "37bf0b67-e096-468d-b225-f14dfc58904c",
   "metadata": {},
   "outputs": [
    {
     "name": "stdout",
     "output_type": "stream",
     "text": [
      "Buddy barks!\n"
     ]
    }
   ],
   "source": [
    "class Animal:\n",
    "    def __init__(self, name):\n",
    "        self.name = name                            # Initialize the name attribute\n",
    "\n",
    "    def speak(self):\n",
    "        pass                  # Placeholder method to be overridden by child classes\n",
    "\n",
    "                          # Child class inheriting from Animal\n",
    "class Dog(Animal):\n",
    "    def speak(self):\n",
    "        return f\"{self.name} barks!\"  # Override the speak method\n",
    "\n",
    "# Creating an instance of Dog\n",
    "dog = Dog(\"Buddy\")\n",
    "print(dog.speak())"
   ]
  },
  {
   "cell_type": "code",
   "execution_count": 21,
   "id": "5ae6f696-1a1d-4c16-bff3-c497887dc6f7",
   "metadata": {},
   "outputs": [],
   "source": [
    "                                         # Parent Class: Person\n",
    "class Person:\n",
    "    def __init__(self, name, idnumber):\n",
    "        self.name = name\n",
    "        self.idnumber = idnumber\n",
    "                                               # Child Class: Employee\n",
    "class Employee(Person):\n",
    "    def __init__(self, name, idnumber, salary, post):\n",
    "        super().__init__(name, idnumber)            # Calls Person's __init__()\n",
    "        self.salary = salary\n",
    "        self.post = post"
   ]
  },
  {
   "cell_type": "markdown",
   "id": "07725ac9-bbd1-41bc-83e6-41434d8e932f",
   "metadata": {},
   "source": [
    "# ⮩ The super() Function\n",
    "#### _Python also has a __super() function__ that will make the child class inherit all the methods and properties from its parent:_  \n",
    "#### _By using the super() function, you do not have to use the name of the parent element, it will automatically inherit the methods and properties from its parent._"
   ]
  },
  {
   "cell_type": "code",
   "execution_count": 31,
   "id": "5395b7da-446f-4f4a-b53d-3b312ce5cd1d",
   "metadata": {},
   "outputs": [
    {
     "name": "stdout",
     "output_type": "stream",
     "text": [
      "Mike Olsen\n"
     ]
    }
   ],
   "source": [
    "class Person:\n",
    "  def __init__(self, fname, lname):\n",
    "    self.firstname = fname\n",
    "    self.lastname = lname\n",
    "\n",
    "  def printname(self):\n",
    "    print(self.firstname, self.lastname)\n",
    "\n",
    "class Student(Person):\n",
    "  def __init__(self, fname, lname):\n",
    "    super().__init__(fname, lname)\n",
    "\n",
    "x = Student(\"Mike\", \"Olsen\")\n",
    "x.printname()\n"
   ]
  },
  {
   "cell_type": "code",
   "execution_count": 33,
   "id": "a4969d42-06d4-49d7-87f2-a79080eb7afc",
   "metadata": {},
   "outputs": [
    {
     "name": "stdout",
     "output_type": "stream",
     "text": [
      "2019\n"
     ]
    }
   ],
   "source": [
    "class Person:\n",
    "  def __init__(self, fname, lname):\n",
    "    self.firstname = fname\n",
    "    self.lastname = lname\n",
    "\n",
    "  def printname(self):\n",
    "    print(self.firstname, self.lastname)\n",
    "\n",
    "class Student(Person):\n",
    "  def __init__(self, fname, lname):\n",
    "    super().__init__(fname, lname)\n",
    "    self.graduationyear = 2019\n",
    "\n",
    "x = Student(\"Mike\", \"Olsen\")\n",
    "print(x.graduationyear)"
   ]
  },
  {
   "cell_type": "code",
   "execution_count": 24,
   "id": "c33a5349-b1cc-4157-97eb-fd7d76c3b018",
   "metadata": {},
   "outputs": [
    {
     "name": "stdout",
     "output_type": "stream",
     "text": [
      "my name is : Ranvijay my id number : 9008 salary : 45000 post : Hyderabad\n"
     ]
    }
   ],
   "source": [
    "                                           # Parent Class: Person\n",
    "class Person:\n",
    "    def __init__(self, name, idnumber):\n",
    "        self.name = name\n",
    "        self.idnumber = idnumber\n",
    "\n",
    "    def display(self):\n",
    "        print(self.name)\n",
    "        print(self.idnumber)\n",
    "\n",
    "                                                      # Child Class: Employee\n",
    "class Employee(Person):\n",
    "    def __init__(self, name, idnumber, salary, post):\n",
    "        super().__init__(name, idnumber)                      # Using super() to call Person's __init__()\n",
    "        self.salary = salary\n",
    "        self.post = post\n",
    "    def details(self):\n",
    "        print(f\"my name is : {self.name} my id number : {self.idnumber} salary : {self.salary} post : {self.post}\")\n",
    "\n",
    "x = Employee(\"Ranvijay\", 9008, 45000, \"Hyderabad\")\n",
    "x.details()"
   ]
  },
  {
   "cell_type": "markdown",
   "id": "b2c62906-b780-4e02-a454-06c137781183",
   "metadata": {},
   "source": [
    "# ➩ Add method\n",
    "#### _If you add a method in the child class with the same name as a function in the parent class, the inheritance of the parent method will be overridden._"
   ]
  },
  {
   "cell_type": "code",
   "execution_count": 35,
   "id": "81ef8288-624a-4fe5-b4d3-85d65046b429",
   "metadata": {},
   "outputs": [
    {
     "name": "stdout",
     "output_type": "stream",
     "text": [
      "Welcome Mike Olsen to the class of 2024\n"
     ]
    }
   ],
   "source": [
    "class Person:\n",
    "  def __init__(self, fname, lname):\n",
    "    self.firstname = fname\n",
    "    self.lastname = lname\n",
    "\n",
    "  def printname(self):\n",
    "    print(self.firstname, self.lastname)\n",
    "\n",
    "class Student(Person):\n",
    "  def __init__(self, fname, lname, year):\n",
    "    super().__init__(fname, lname)\n",
    "    self.graduationyear = year\n",
    "\n",
    "  def welcome(self):\n",
    "    print(\"Welcome\", self.firstname, self.lastname, \"to the class of\", self.graduationyear)\n",
    "\n",
    "x = Student(\"Mike\", \"Olsen\", 2024)\n",
    "x.welcome()\n"
   ]
  },
  {
   "cell_type": "markdown",
   "id": "e79b6453-3efb-40c6-8400-fa9b1c621488",
   "metadata": {},
   "source": [
    "# ➩ Add Properties\n",
    "####  _Once inheritance is established, both the parent and child classes can have their own properties. Properties are attributes that belong to a class and are used to store data._"
   ]
  },
  {
   "cell_type": "code",
   "execution_count": 26,
   "id": "370b5ac1-7f9c-4dc8-aa3e-fa5a97b77b5c",
   "metadata": {},
   "outputs": [
    {
     "name": "stdout",
     "output_type": "stream",
     "text": [
      "my name is : Ranvijay my id number : 9008 salary : 45000 post : Hyderabad\n"
     ]
    }
   ],
   "source": [
    "                                            # Parent Class: Person\n",
    "class Person:\n",
    "    def __init__(self, name, idnumber):\n",
    "        self.name = name\n",
    "        self.idnumber = idnumber\n",
    "\n",
    "    def display(self):\n",
    "        print(self.name)\n",
    "        print(self.idnumber)\n",
    "          \n",
    "                                                   # Child Class: Employee\n",
    "class Employee(Person):\n",
    "    def __init__(self, name, idnumber, salary, post):\n",
    "        super().__init__(name, idnumber)\n",
    "        self.salary = salary\n",
    "        self.post = post\n",
    "    def details(self):\n",
    "        print(f\"my name is : {self.name} my id number : {self.idnumber} salary : {self.salary} post : {self.post}\")\n",
    "\n",
    "x = Employee(\"Ranvijay\", 9008, 45000, \"Hyderabad\")\n",
    "x.details()"
   ]
  },
  {
   "cell_type": "markdown",
   "id": "54cfdfaa-d4ee-40cd-9080-4e11942cb83b",
   "metadata": {},
   "source": [
    "# ➩ Types of Python Inheritance\n",
    "### 1) __Single Inheritance :__ A child class inherits from one parent class.   \n",
    "### 2) __Multiple Inheritance :__ A child class inherits from more than one parent class.    \n",
    "### 3) __Multilevel Inheritance :__ A class is derived from a class which is also derived from another class.   \n",
    "### 4) __Hierarchical Inheritance :__ Multiple classes inherit from a single parent class.   \n",
    "### 5) __Hybrid Inheritance :__ A combination of more than one type of inheritance."
   ]
  },
  {
   "cell_type": "markdown",
   "id": "bd312b50-2bb4-4ceb-9f28-123c7f599d49",
   "metadata": {},
   "source": [
    "# 1) Single inheritance :\n",
    "\n",
    "### _Single inheritance enables a derived class to inherit properties from a single parent class, thus enabling code reusability and the addition of new features to existing code._"
   ]
  },
  {
   "cell_type": "code",
   "execution_count": 16,
   "id": "c8606fe5-691b-47db-92e9-8f6ca8fa9379",
   "metadata": {},
   "outputs": [
    {
     "name": "stdout",
     "output_type": "stream",
     "text": [
      "this is parent class\n",
      "this is child class\n"
     ]
    }
   ],
   "source": [
    "class Parent:                    # Base class\n",
    "    def show(self):\n",
    "        print(\"this is parent class\")\n",
    "\n",
    "class Child:                                   # Derived class (child class)\n",
    "    def show(self):\n",
    "        print(\"this is child class\")\n",
    "                              # Driver code\n",
    "parent = Parent()\n",
    "child = Child()\n",
    "\n",
    "parent.show()\n",
    "child.show()"
   ]
  },
  {
   "cell_type": "code",
   "execution_count": 15,
   "id": "9bb1bb92-4bf2-4e6b-9789-dd0a11cfc2e9",
   "metadata": {},
   "outputs": [
    {
     "name": "stdout",
     "output_type": "stream",
     "text": [
      "This function is in parent class.\n",
      "This function is in child class.\n"
     ]
    }
   ],
   "source": [
    "                             # Base class\n",
    "class Parent:\n",
    "    def func1(self):\n",
    "        print(\"This function is in parent class.\")\n",
    "\n",
    "                                  # Derived class\n",
    "class Child(Parent):\n",
    "    def func2(self):\n",
    "        print(\"This function is in child class.\")\n",
    "\n",
    "                               # Driver code\n",
    "obj = Child()\n",
    "obj.func1()\n",
    "obj.func2()"
   ]
  },
  {
   "cell_type": "markdown",
   "id": "030bb266-acfd-4e93-9e08-8c6f0f189d86",
   "metadata": {},
   "source": [
    "# 2) Multiple Inheritance : \n",
    "#### _When a class can be derived from more than one base class this type of inheritance is called multiple inheritances. In multiple inheritances, all the features of the base classes are inherited into the derived class._ \n",
    "\n"
   ]
  },
  {
   "cell_type": "code",
   "execution_count": 20,
   "id": "d56b06bf-cdaf-40fb-ab29-5a7349e802d5",
   "metadata": {},
   "outputs": [
    {
     "name": "stdout",
     "output_type": "stream",
     "text": [
      "Father : RAM\n",
      "Mother : SITA\n"
     ]
    }
   ],
   "source": [
    "                        # Base class 1\n",
    "class Mother:\n",
    "    mothername = \" \"\n",
    "    def mother(self):\n",
    "        print(self.mothername)\n",
    "                                  # Base class 2\n",
    "class Father:\n",
    "    fathername = \" \"\n",
    "    def father(self):\n",
    "        print(self.fathername)\n",
    "                                 # Derived class\n",
    "class Son(Mother, Father):\n",
    "    def parents(self):\n",
    "        print(\"Father :\", self.fathername)\n",
    "        print(\"Mother :\", self.mothername)\n",
    "\n",
    "                           # Driver code\n",
    "s1 = Son()\n",
    "s1.fathername = \"RAM\"\n",
    "s1.mothername = \"SITA\"\n",
    "s1.parents()\n"
   ]
  },
  {
   "cell_type": "code",
   "execution_count": 21,
   "id": "56ead7a3-c5c7-4c36-89d3-9b459a332583",
   "metadata": {},
   "outputs": [
    {
     "name": "stdout",
     "output_type": "stream",
     "text": [
      "this is mother class\n",
      "this is father class\n",
      "i am child class\n"
     ]
    }
   ],
   "source": [
    "class Mother :\n",
    "    def show_mother(self):\n",
    "        print(\"this is mother class\")\n",
    "\n",
    "class Father(Mother):\n",
    "    def show_father(self):\n",
    "        print(\"this is father class\")\n",
    "\n",
    "class Child(Father):\n",
    "    def show_child(self):\n",
    "        print(\"i am child class\")\n",
    "\n",
    "child = Child()\n",
    "\n",
    "child.show_mother()\n",
    "child.show_father()\n",
    "child.show_child() "
   ]
  },
  {
   "cell_type": "markdown",
   "id": "51e02dd1-5b8a-4ea9-93b2-c809e9393726",
   "metadata": {},
   "source": [
    "# 3) Multilevel Inheritance :\n",
    "#### _In multilevel inheritance, features of the base class and the derived class are further inherited into the new derived class. This is similar to a relationship representing a child and a grandfather._ "
   ]
  },
  {
   "cell_type": "code",
   "execution_count": 22,
   "id": "55217be4-de9b-43db-86b1-8fab3d433b1f",
   "metadata": {},
   "outputs": [
    {
     "name": "stdout",
     "output_type": "stream",
     "text": [
      "Lal mani\n",
      "Grandfather name : Lal mani\n",
      "Father name : Rampal\n",
      "Son name : Prince\n"
     ]
    }
   ],
   "source": [
    "                                       # Base class\n",
    "class Grandfather:\n",
    "    def __init__(self, grandfathername):\n",
    "        self.grandfathername = grandfathername\n",
    "\n",
    "                                            # Intermediate class\n",
    "class Father(Grandfather):\n",
    "    def __init__(self, fathername, grandfathername):\n",
    "        self.fathername = fathername\n",
    "                                                  # Call the constructor of Grandfather\n",
    "        Grandfather.__init__(self, grandfathername)\n",
    "\n",
    "                                            # Derived class\n",
    "class Son(Father):\n",
    "    def __init__(self, sonname, fathername, grandfathername):\n",
    "        self.sonname = sonname\n",
    "                                          # Call the constructor of Father\n",
    "        Father.__init__(self, fathername, grandfathername)\n",
    "\n",
    "    def print_name(self):\n",
    "        print('Grandfather name :', self.grandfathername)\n",
    "        print('Father name :', self.fathername)\n",
    "        print('Son name :', self.sonname)\n",
    "\n",
    "# Driver code\n",
    "s1 = Son('Prince', 'Rampal', 'Lal mani')\n",
    "print(s1.grandfathername)\n",
    "s1.print_name()"
   ]
  },
  {
   "cell_type": "code",
   "execution_count": 23,
   "id": "5daa6eae-cf2c-40d2-9caf-3ba52b106f15",
   "metadata": {},
   "outputs": [
    {
     "name": "stdout",
     "output_type": "stream",
     "text": [
      "Grand Parents\n",
      "Parents class\n",
      "Child class\n"
     ]
    }
   ],
   "source": [
    "class Grandparent:\n",
    "    def show_grandparent(self):\n",
    "        print(\"Grand Parents\")\n",
    "\n",
    "class Parents(Grandparent):\n",
    "    def show_parents(self):\n",
    "        print(\"Parents class\")\n",
    "\n",
    "class Child(Parents):\n",
    "    def show_child(self):\n",
    "        print(\"Child class\")\n",
    "\n",
    "child1 = Child()\n",
    "\n",
    "child1.show_grandparent()\n",
    "child1.show_parents()\n",
    "child1.show_child()"
   ]
  },
  {
   "cell_type": "markdown",
   "id": "2b6be871-2c0a-49c1-88ca-976745198066",
   "metadata": {},
   "source": [
    "# 4) Hierarchical Inheritance : \n",
    "### _When more than one derived class are created from a single base this type of inheritance is called hierarchical inheritance. In this program, we have a parent (base) class and two child (derived) classes._"
   ]
  },
  {
   "cell_type": "code",
   "execution_count": 25,
   "id": "863ef11f-cb43-4035-b3c3-c5bb5c82a003",
   "metadata": {},
   "outputs": [
    {
     "name": "stdout",
     "output_type": "stream",
     "text": [
      "This function is in parent class.\n",
      "This function is in child 1.\n",
      "This function is in parent class.\n",
      "This function is in child 2.\n"
     ]
    }
   ],
   "source": [
    "                           # Base class\n",
    "class Parent:\n",
    "    def func1(self):\n",
    "        print(\"This function is in parent class.\")\n",
    "\n",
    "                               # Derived class 1\n",
    "class Child1(Parent):\n",
    "    def func2(self):\n",
    "        print(\"This function is in child 1.\")\n",
    "\n",
    "                                    # Derived class 2\n",
    "class Child2(Parent):\n",
    "    def func3(self):\n",
    "        print(\"This function is in child 2.\")\n",
    "                                    \n",
    "                            # Driver code\n",
    "object1 = Child1()\n",
    "object2 = Child2()\n",
    "\n",
    "object1.func1()\n",
    "object1.func2()\n",
    "object2.func1()\n",
    "object2.func3()"
   ]
  },
  {
   "cell_type": "code",
   "execution_count": 26,
   "id": "ebf43d1d-0279-4d60-b6ec-9d933e943bcf",
   "metadata": {},
   "outputs": [
    {
     "name": "stdout",
     "output_type": "stream",
     "text": [
      "this is parent class\n",
      "this is parent class\n"
     ]
    }
   ],
   "source": [
    "class Parent:\n",
    "    def show(self):\n",
    "        print(\"this is parent class\")\n",
    "\n",
    "class Child1(Parent):\n",
    "    def dispaly1(self):\n",
    "        print(\"this is child 1 class\")\n",
    "\n",
    "class Child2(Parent):\n",
    "    def dispaly2(self):\n",
    "        print(\"this is child 2 class\")\n",
    "\n",
    "childa = Child1()\n",
    "childb = Child2()\n",
    "\n",
    "childa.show()\n",
    "childa.show()"
   ]
  },
  {
   "cell_type": "markdown",
   "id": "b4fe71fb-914d-498b-ba50-99e008868274",
   "metadata": {},
   "source": [
    "# 5) Hybrid Inheritance : \n",
    "#### _Hybrid inheritance is a combination of more than one type of inheritance. It uses a mix like single, multiple, or multilevel inheritance within the same program. Python's method resolution order (MRO) handles such cases._"
   ]
  },
  {
   "cell_type": "code",
   "execution_count": 27,
   "id": "aa00346c-abf6-48f2-95f4-b026e84a4e0a",
   "metadata": {},
   "outputs": [
    {
     "name": "stdout",
     "output_type": "stream",
     "text": [
      "This function is in school.\n",
      "This function is in student 1.\n"
     ]
    }
   ],
   "source": [
    "                                          # Base class\n",
    "class School:\n",
    "    def func1(self):\n",
    "        print(\"This function is in school.\")\n",
    "\n",
    "                                     # Derived class 1 (Single Inheritance)\n",
    "class Student1(School):\n",
    "    def func2(self):\n",
    "        print(\"This function is in student 1.\")\n",
    "\n",
    "                                 # Derived class 2 (Another Single Inheritance)\n",
    "class Student2(School):\n",
    "    def func3(self):\n",
    "        print(\"This function is in student 2.\")\n",
    "\n",
    "                                            # Derived class 3 (Multiple Inheritance)\n",
    "class Student3(Student1, School):\n",
    "    def func4(self):\n",
    "        print(\"This function is in student 3.\")\n",
    "\n",
    "                   # Driver code\n",
    "obj = Student3()\n",
    "obj.func1()\n",
    "obj.func2()"
   ]
  },
  {
   "cell_type": "code",
   "execution_count": 31,
   "id": "0512adac-3f79-496d-a62c-de3533b671f4",
   "metadata": {},
   "outputs": [
    {
     "name": "stdout",
     "output_type": "stream",
     "text": [
      "Animal speaks\n",
      "Mammal gives birth\n",
      "Bird lays eggs\n"
     ]
    }
   ],
   "source": [
    "class Animal:\n",
    "    def speak(self):\n",
    "        print(\"Animal speaks\")\n",
    "\n",
    "class Mammal(Animal):\n",
    "    def give_birth(self):\n",
    "        print(\"Mammal gives birth\")\n",
    "\n",
    "class Bird(Animal):\n",
    "    def lay_eggs(self):\n",
    "        print(\"Bird lays eggs\")\n",
    "\n",
    "class Platypus(Mammal, Bird):\n",
    "    pass\n",
    "\n",
    "platypus = Platypus()\n",
    "platypus.speak()        # Method from Animal class\n",
    "platypus.give_birth()   # Method from Mammal class\n",
    "platypus.lay_eggs()    # Method from Bird class"
   ]
  },
  {
   "cell_type": "markdown",
   "id": "56ce164a-1750-4ee3-8963-07fa25016ae9",
   "metadata": {},
   "source": [
    "# ➩➩ Python Iterators\n",
    "#### _An iterator is an object that contains a countable number of values._\n",
    "\n",
    "#### _An iterator is an object that can be iterated upon, meaning that you can traverse through all the values._\n",
    "\n",
    "#### _Technically, in Python, an iterator is an object which implements the iterator protocol, which consist of the methods __iter__() and __next__()._\n",
    "\n",
    "# Iterator vs Iterable\n",
    "### _Lists, tuples, dictionaries, and sets are all iterable objects. They are iterable containers which you can get an iterator from._\n",
    "\n",
    "### _All these objects have a __iter() method__ which is used to get an iterator:_"
   ]
  },
  {
   "cell_type": "code",
   "execution_count": 36,
   "id": "0026abb8-fcf7-4a7e-9468-687e77c31b84",
   "metadata": {},
   "outputs": [
    {
     "name": "stdout",
     "output_type": "stream",
     "text": [
      "apple\n",
      "banana\n",
      "cherry\n"
     ]
    }
   ],
   "source": [
    "mytuple = (\"apple\", \"banana\", \"cherry\")\n",
    "myit = iter(mytuple)\n",
    "\n",
    "print(next(myit))\n",
    "print(next(myit))\n",
    "print(next(myit))"
   ]
  },
  {
   "cell_type": "code",
   "execution_count": 37,
   "id": "26f666bf-bd58-4c4e-9dea-335c223ebb2a",
   "metadata": {},
   "outputs": [
    {
     "name": "stdout",
     "output_type": "stream",
     "text": [
      "b\n",
      "a\n",
      "n\n",
      "a\n",
      "n\n",
      "a\n"
     ]
    }
   ],
   "source": [
    "mystr = \"banana\"\n",
    "myit = iter(mystr)\n",
    "\n",
    "print(next(myit))\n",
    "print(next(myit))\n",
    "print(next(myit))\n",
    "print(next(myit))\n",
    "print(next(myit))\n",
    "print(next(myit))"
   ]
  },
  {
   "cell_type": "markdown",
   "id": "6b5bf3b3-c755-4787-b079-a577466d6242",
   "metadata": {},
   "source": [
    "# ⮩ Looping Through an Iterator\n",
    "#### _We can also use a for loop to iterate through an iterable object:_"
   ]
  },
  {
   "cell_type": "code",
   "execution_count": 38,
   "id": "377e582b-5fc8-4761-acbd-791394ae80a2",
   "metadata": {},
   "outputs": [
    {
     "name": "stdout",
     "output_type": "stream",
     "text": [
      "apple\n",
      "banana\n",
      "cherry\n"
     ]
    }
   ],
   "source": [
    "mytuple = (\"apple\", \"banana\", \"cherry\")\n",
    "\n",
    "for x in mytuple:\n",
    "  print(x)"
   ]
  },
  {
   "cell_type": "code",
   "execution_count": 39,
   "id": "0fa35c06-b726-498e-9b56-1f304a5e7594",
   "metadata": {},
   "outputs": [
    {
     "name": "stdout",
     "output_type": "stream",
     "text": [
      "b\n",
      "a\n",
      "n\n",
      "a\n",
      "n\n",
      "a\n"
     ]
    }
   ],
   "source": [
    "mystr = \"banana\"\n",
    "\n",
    "for x in mystr:\n",
    "  print(x)"
   ]
  },
  {
   "cell_type": "markdown",
   "id": "2aa7bfc7-c165-408c-bed7-30060a0daeb8",
   "metadata": {},
   "source": [
    "# Create an Iterator\n",
    "### _To create an object/class as an iterator you have to implement the methods __iter__() and __next__() to your object._\n",
    "\n",
    "#### _As you have learned in the Python Classes/Objects chapter, all classes have a function called __init__(), which allows you to do some initializing when the object is being created._\n",
    "\n",
    "### ⮩ _The __ __iter__ __ () method acts similar, you can do operations (initializing etc.), but must always return the iterator object itself._\n",
    "\n",
    "### ⮩ _The __ __next__ __ () method also allows you to do operations, and must return the next item in the sequence._"
   ]
  },
  {
   "cell_type": "code",
   "execution_count": 40,
   "id": "3b0d5e50-20c3-4dcc-a330-14afddee498e",
   "metadata": {},
   "outputs": [
    {
     "name": "stdout",
     "output_type": "stream",
     "text": [
      "1\n",
      "2\n",
      "3\n",
      "4\n",
      "5\n"
     ]
    }
   ],
   "source": [
    "class MyNumbers:\n",
    "  def __iter__(self):\n",
    "    self.a = 1\n",
    "    return self\n",
    "\n",
    "  def __next__(self):\n",
    "    x = self.a\n",
    "    self.a += 1\n",
    "    return x\n",
    "\n",
    "myclass = MyNumbers()\n",
    "myiter = iter(myclass)\n",
    "\n",
    "print(next(myiter))\n",
    "print(next(myiter))\n",
    "print(next(myiter))\n",
    "print(next(myiter))\n",
    "print(next(myiter))"
   ]
  },
  {
   "cell_type": "markdown",
   "id": "031bc46d-e4c7-45d7-bf2f-01c7710421c4",
   "metadata": {},
   "source": [
    "# ➩ StopIteration\n",
    "### _The example above would continue forever if you had enough __next()__ statements, or if it was used in a for loop._\n",
    "\n",
    "### _To prevent the iteration from going on forever, we can use the StopIteration statement._"
   ]
  },
  {
   "cell_type": "code",
   "execution_count": 41,
   "id": "f6e62f5f-6f20-41dc-8221-a2fcc5dfe561",
   "metadata": {},
   "outputs": [
    {
     "name": "stdout",
     "output_type": "stream",
     "text": [
      "1\n",
      "2\n",
      "3\n",
      "4\n",
      "5\n",
      "6\n",
      "7\n",
      "8\n",
      "9\n",
      "10\n",
      "11\n",
      "12\n",
      "13\n",
      "14\n",
      "15\n",
      "16\n",
      "17\n",
      "18\n",
      "19\n",
      "20\n"
     ]
    }
   ],
   "source": [
    "class MyNumbers:\n",
    "  def __iter__(self):\n",
    "    self.a = 1\n",
    "    return self\n",
    "\n",
    "  def __next__(self):\n",
    "    if self.a <= 20:\n",
    "      x = self.a\n",
    "      self.a += 1\n",
    "      return x\n",
    "    else:\n",
    "      raise StopIteration\n",
    "\n",
    "myclass = MyNumbers()\n",
    "myiter = iter(myclass)\n",
    "\n",
    "for x in myiter:\n",
    "  print(x)"
   ]
  },
  {
   "cell_type": "markdown",
   "id": "cf4eabc3-9c52-4928-8e92-cf0b7577a269",
   "metadata": {},
   "source": [
    "# ➩➩➩  __Python Polymorphism__\n",
    "### _The word \"Polymorphism\" Derived from Greek, the term literally means \"many forms\"., and in programming it refers to methods / functions / operators with the same name that can be executed on many objects or classes._"
   ]
  },
  {
   "cell_type": "markdown",
   "id": "811ee5ae-e3c0-4bc8-9b1c-83a648f3d7f0",
   "metadata": {},
   "source": [
    "# ⮩  Polymorphism with functions"
   ]
  },
  {
   "cell_type": "code",
   "execution_count": 36,
   "id": "4c930cd0-3637-462b-b0e8-a8918339a94e",
   "metadata": {},
   "outputs": [
    {
     "name": "stdout",
     "output_type": "stream",
     "text": [
      "7\n",
      "Hello, World!\n",
      "[1, 2, 3, 4]\n"
     ]
    }
   ],
   "source": [
    "def add(a, b):\n",
    "    return a + b\n",
    "\n",
    "print(add(3, 4))                       # Integer addition\n",
    "print(add(\"Hello, \", \"World!\"))          # String concatenation\n",
    "print(add([1, 2], [3, 4]))            # List concatenation"
   ]
  },
  {
   "cell_type": "code",
   "execution_count": 33,
   "id": "694a7a14-fb60-4e5e-a1f8-7624ecbe0834",
   "metadata": {},
   "outputs": [
    {
     "name": "stdout",
     "output_type": "stream",
     "text": [
      "Bird is flying\n"
     ]
    }
   ],
   "source": [
    "class Bird:\n",
    "    def fly (self):\n",
    "        print(\"Bird is flying\")\n",
    "\n",
    "class Airoplane:\n",
    "    def fly(self):\n",
    "        print(\"Airoplane is flying\")\n",
    "\n",
    "bird = Bird()\n",
    "airoplane = Airoplane()\n",
    "\n",
    "bird.fly()"
   ]
  },
  {
   "cell_type": "code",
   "execution_count": 35,
   "id": "3c292d95-621d-4751-9232-1eead23203fb",
   "metadata": {},
   "outputs": [
    {
     "name": "stdout",
     "output_type": "stream",
     "text": [
      "Airoplane is flying\n"
     ]
    }
   ],
   "source": [
    "airoplane.fly()"
   ]
  },
  {
   "cell_type": "markdown",
   "id": "35d18778-a5d9-4b04-b1e5-714cb68f0871",
   "metadata": {},
   "source": [
    "# ⮩  Polymorphism with  Built in Functions\n",
    "#### _An example of a Python function that can be used on different objects is the __len() function__._"
   ]
  },
  {
   "cell_type": "code",
   "execution_count": 42,
   "id": "0213af12-9b2c-4cf4-92d5-23824a5ae5ce",
   "metadata": {},
   "outputs": [
    {
     "name": "stdout",
     "output_type": "stream",
     "text": [
      "12\n"
     ]
    }
   ],
   "source": [
    "x = \"Hello World!\"              # string\n",
    "print(len(x)) "
   ]
  },
  {
   "cell_type": "code",
   "execution_count": 35,
   "id": "7124ac2b-d1f1-41e6-ad71-bb9b20a8715f",
   "metadata": {},
   "outputs": [
    {
     "name": "stdout",
     "output_type": "stream",
     "text": [
      "5\n",
      "3\n",
      "3\n",
      "z\n"
     ]
    }
   ],
   "source": [
    "print(len(\"Hello\"))      # String length\n",
    "print(len([1, 2, 3]))     # List length\n",
    "\n",
    "print(max(1, 3, 2))        # Maximum of integers\n",
    "print(max(\"a\", \"z\", \"m\"))    # Maximum in strings"
   ]
  },
  {
   "cell_type": "code",
   "execution_count": 33,
   "id": "d591517a-ef82-40d4-a381-5a1189c090e1",
   "metadata": {},
   "outputs": [
    {
     "name": "stdout",
     "output_type": "stream",
     "text": [
      "3\n"
     ]
    }
   ],
   "source": [
    "mytuple = (\"apple\", \"banana\", \"cherry\")          # polymorphism with built in functions\n",
    "print(len(mytuple))"
   ]
  },
  {
   "cell_type": "code",
   "execution_count": 34,
   "id": "1cc4506a-f058-4ab8-a192-ad2ee1b1ad9b",
   "metadata": {},
   "outputs": [
    {
     "name": "stdout",
     "output_type": "stream",
     "text": [
      "3\n"
     ]
    }
   ],
   "source": [
    "thisdict = {                  # Dictionary\n",
    "  \"brand\": \"Ford\",\n",
    "  \"model\": \"Mustang\",\n",
    "  \"year\": 1964\n",
    "}\n",
    "\n",
    "print(len(thisdict))"
   ]
  },
  {
   "cell_type": "markdown",
   "id": "afa4b98d-036c-440b-a2c6-6eb3ad8ee4ba",
   "metadata": {},
   "source": [
    "# ➩➩ __Polymorphism in OOPs__\n",
    "### _In OOP, polymorphism allows methods in different classes to share the same name but perform distinct tasks. This is achieved through inheritance and interface design. Polymorphism complements other OOP principles like inheritance (sharing behavior) and encapsulation (hiding complexity) to create robust and modular applications._"
   ]
  },
  {
   "cell_type": "markdown",
   "id": "c45603b9-1bbb-4b47-afc0-79e796548542",
   "metadata": {},
   "source": [
    "# ⮩ Class Polymorphism\n",
    "### _Polymorphism is often used in Class methods, where we can have multiple classes with the same method name._\n",
    "\n",
    "### _For example, say we have three_ ___classes : Car, Boat, and Plane___,  _and they all have a method called ___move()___:_"
   ]
  },
  {
   "cell_type": "code",
   "execution_count": 7,
   "id": "151335fa-34c9-41ba-9442-54ae0688da06",
   "metadata": {},
   "outputs": [
    {
     "name": "stdout",
     "output_type": "stream",
     "text": [
      "Drive!\n",
      "Sail!\n",
      "Fly!\n"
     ]
    }
   ],
   "source": [
    "class Car:\n",
    "  def __init__(self, brand, model):\n",
    "    self.brand = brand\n",
    "    self.model = model\n",
    "\n",
    "  def move(self):\n",
    "    print(\"Drive!\")\n",
    "\n",
    "class Boat:\n",
    "  def __init__(self, brand, model):\n",
    "    self.brand = brand\n",
    "    self.model = model\n",
    "\n",
    "  def move(self):\n",
    "    print(\"Sail!\")\n",
    "\n",
    "class Plane:\n",
    "  def __init__(self, brand, model):\n",
    "    self.brand = brand\n",
    "    self.model = model\n",
    "\n",
    "  def move(self):\n",
    "    print(\"Fly!\")\n",
    "\n",
    "car1 = Car(\"Ford\", \"Mustang\")       # Create a Car object\n",
    "boat1 = Boat(\"Ibiza\", \"Touring 20\") # Create a Boat object\n",
    "plane1 = Plane(\"Boeing\", \"747\")     # Create a Plane object\n",
    "\n",
    "for x in (car1, boat1, plane1):\n",
    "  x.move() "
   ]
  },
  {
   "cell_type": "markdown",
   "id": "f3fee471-011a-4886-9a01-ff43a857fbc1",
   "metadata": {},
   "source": [
    "# ➩➩ Inheritance Class Polymorphism\n",
    "\n",
    "#### _Inheritance-based polymorphism occurs when a subclass overrides a method from its parent class, providing a specific implementation.   This process of re-implementing a method in the child class is known as Method Overriding_.  \n",
    "\n",
    "#### _If we use the example above and make a parent class called Vehicle, and make Car, Boat, Plane child classes of Vehicle, the child classes inherits the Vehicle methods, but can override them:_"
   ]
  },
  {
   "cell_type": "code",
   "execution_count": 46,
   "id": "4260bbd9-488d-40f0-8d11-95553ef840ef",
   "metadata": {},
   "outputs": [
    {
     "name": "stdout",
     "output_type": "stream",
     "text": [
      "Ford\n",
      "Mustang\n",
      "Move!\n",
      "Ibiza\n",
      "Touring 20\n",
      "Sail!\n",
      "Boeing\n",
      "747\n",
      "Fly!\n"
     ]
    }
   ],
   "source": [
    "class Vehicle:\n",
    "  def __init__(self, brand, model):\n",
    "    self.brand = brand\n",
    "    self.model = model\n",
    "\n",
    "  def move(self):\n",
    "    print(\"Move!\")\n",
    "\n",
    "class Car(Vehicle):\n",
    "  pass\n",
    "\n",
    "class Boat(Vehicle):\n",
    "  def move(self):\n",
    "    print(\"Sail!\")\n",
    "\n",
    "class Plane(Vehicle):\n",
    "  def move(self):\n",
    "    print(\"Fly!\")\n",
    "\n",
    "car1 = Car(\"Ford\", \"Mustang\")          # Create a Car object\n",
    "boat1 = Boat(\"Ibiza\", \"Touring 20\")   # Create a Boat object\n",
    "plane1 = Plane(\"Boeing\", \"747\")       # Create a Plane object\n",
    "\n",
    "for x in (car1, boat1, plane1):\n",
    "  print(x.brand)\n",
    "  print(x.model)\n",
    "  x.move()"
   ]
  },
  {
   "cell_type": "code",
   "execution_count": 21,
   "id": "32971b3a-56d2-4480-9e49-bec9ffb98f75",
   "metadata": {},
   "outputs": [
    {
     "name": "stdout",
     "output_type": "stream",
     "text": [
      "Bark\n",
      "Meow\n",
      "Some generic animal sound\n"
     ]
    }
   ],
   "source": [
    "class Animal:\n",
    "    def sound(self):\n",
    "        return \"Some generic animal sound\"\n",
    "\n",
    "class Dog(Animal):\n",
    "    def sound(self):\n",
    "        return \"Bark\"\n",
    "\n",
    "class Cat(Animal):\n",
    "    def sound(self):\n",
    "        return \"Meow\"\n",
    "        \n",
    "animals = [Dog(), Cat(), Animal()]\n",
    "for animal in animals:\n",
    "    print(animal.sound())"
   ]
  },
  {
   "cell_type": "markdown",
   "id": "e2932ad2-cffa-4bf1-b3e9-a2bab6d6234a",
   "metadata": {},
   "source": [
    "#### _Child classes inherits the properties and methods from the parent class._\n",
    "\n",
    "#### _In the example above you can see that the Car class is empty, but it inherits brand, model, and move() from Vehicle._\n",
    "\n",
    "#### _The Boat and Plane classes also inherit brand, model, and move() from Vehicle, but they both override the move() method._\n",
    "\n",
    "#### _Because of polymorphism we can execute the same method for all classes._"
   ]
  },
  {
   "cell_type": "markdown",
   "id": "c775fb39-5c7f-4362-a0a6-4867bf80b22b",
   "metadata": {},
   "source": [
    "# ➩➩➩ __Types of Polymorphism__"
   ]
  },
  {
   "cell_type": "markdown",
   "id": "eb4d2edd-a811-495c-a041-8b27bb4941d4",
   "metadata": {},
   "source": [
    "# 1) Run-time Polymorphism \n",
    "\n",
    "#### _Method overriding tab hota hai jab child class apne parent class ke method ko redefine karti hai. ye ensure karta hai ki child class ka method call ho jab object child class ke ho._\n",
    "\n",
    "### _--> Occurs when the behavior of a method is determined at runtime based on the type of the object._  \n",
    "### _--> In Python, this is achieved through method overriding: a child class can redefine a method from its parent class to provide its own specific implementation._   \n",
    "### _--> Python's dynamic nature allows it to excel at runtime polymorphism, enabling flexible and adaptable code._"
   ]
  },
  {
   "cell_type": "code",
   "execution_count": 37,
   "id": "3cc1ee9c-7797-4c32-9d2e-665eaa3130f0",
   "metadata": {},
   "outputs": [
    {
     "name": "stdout",
     "output_type": "stream",
     "text": [
      "Bark\n",
      "Meow\n",
      "Some generic sound\n"
     ]
    }
   ],
   "source": [
    "class Animal:\n",
    "    def sound(self):\n",
    "        return \"Some generic sound\"\n",
    "\n",
    "class Dog(Animal):\n",
    "    def sound(self):\n",
    "        return \"Bark\"\n",
    "\n",
    "class Cat(Animal):\n",
    "    def sound(self):\n",
    "        return \"Meow\"\n",
    "\n",
    "# Polymorphic behavior\n",
    "animals = [Dog(), Cat(), Animal()]\n",
    "for animal in animals:\n",
    "    print(animal.sound())  # Calls the overridden method based on the object type"
   ]
  },
  {
   "cell_type": "code",
   "execution_count": 51,
   "id": "b2b61610-8bca-496e-b0c3-f1695c27ebab",
   "metadata": {},
   "outputs": [
    {
     "name": "stdout",
     "output_type": "stream",
     "text": [
      "animal makes a sound\n",
      "dog barks\n",
      "cat meows\n"
     ]
    }
   ],
   "source": [
    "                                     #parent class\n",
    "class Animal: \n",
    "    def make_sound(self):\n",
    "        print(\"animal makes a sound\")\n",
    "                                   #child class\n",
    "class Dog(Animal):\n",
    "    def make_sound(self):\n",
    "        print(\"dog barks\")\n",
    "                                    # child class\n",
    "class Cat(Animal):\n",
    "    def make_sound(self):\n",
    "        print(\"cat meows\")\n",
    "\n",
    "# object create\n",
    "\n",
    "animal = Animal()\n",
    "dog = Dog()\n",
    "cat = Cat()\n",
    "\n",
    "animal.make_sound()\n",
    "dog.make_sound()\n",
    "cat.make_sound()"
   ]
  },
  {
   "cell_type": "markdown",
   "id": "362ac8ad-789e-419f-8017-8a215778b811",
   "metadata": {},
   "source": [
    "# 2) Compile time Polymorphism "
   ]
  },
  {
   "cell_type": "markdown",
   "id": "65f74718-352f-4bfb-9e4a-b37f522badb1",
   "metadata": {},
   "source": [
    "#### _python me method overloading directly support nahi karta, lekin ham default arguments ka use karke ek method ko multiple tarike se use kar sakte hai_\n",
    "\n",
    "### _--> Found in statically typed languages like Java or C++, where the behavior of a function or operator is resolved during the program's compilation phase._  \n",
    "### _--> Examples include method overloading and operator overloading, where multiple functions or operators can share the same name but perform different tasks based on the context._   \n",
    "### _--> In Python, which is dynamically typed, compile-time polymorphism is not natively supported. Instead, Python uses techniques like dynamic typing and duck typing to achieve similar flexibility._"
   ]
  },
  {
   "cell_type": "code",
   "execution_count": 23,
   "id": "771f954d-d6eb-4560-8a64-dc8a8c0c6e30",
   "metadata": {},
   "outputs": [
    {
     "ename": "NameError",
     "evalue": "name 'calculator' is not defined",
     "output_type": "error",
     "traceback": [
      "\u001b[1;31m---------------------------------------------------------------------------\u001b[0m",
      "\u001b[1;31mNameError\u001b[0m                                 Traceback (most recent call last)",
      "Cell \u001b[1;32mIn[23], line 5\u001b[0m\n\u001b[0;32m      2\u001b[0m     \u001b[38;5;28;01mdef\u001b[39;00m \u001b[38;5;21madd\u001b[39m (\u001b[38;5;28mself\u001b[39m,a,b, c \u001b[38;5;241m=\u001b[39m \u001b[38;5;241m0\u001b[39m):\n\u001b[0;32m      3\u001b[0m         \u001b[38;5;28mprint\u001b[39m(a\u001b[38;5;241m+\u001b[39mb\u001b[38;5;241m+\u001b[39mc)\n\u001b[1;32m----> 5\u001b[0m calc \u001b[38;5;241m=\u001b[39m calculator()\n\u001b[0;32m      6\u001b[0m calc\u001b[38;5;241m.\u001b[39madd(\u001b[38;5;241m2\u001b[39m,\u001b[38;5;241m4\u001b[39m)\n",
      "\u001b[1;31mNameError\u001b[0m: name 'calculator' is not defined"
     ]
    }
   ],
   "source": [
    "class claculator:\n",
    "    def add (self,a,b, c = 0):\n",
    "        print(a+b+c)\n",
    "\n",
    "calc = calculator()\n",
    "calc.add(2,4)"
   ]
  },
  {
   "cell_type": "code",
   "execution_count": 24,
   "id": "e8fcfc6d-2abb-42b9-bd54-9e0248792c0d",
   "metadata": {},
   "outputs": [
    {
     "ename": "NameError",
     "evalue": "name 'calc' is not defined",
     "output_type": "error",
     "traceback": [
      "\u001b[1;31m---------------------------------------------------------------------------\u001b[0m",
      "\u001b[1;31mNameError\u001b[0m                                 Traceback (most recent call last)",
      "Cell \u001b[1;32mIn[24], line 1\u001b[0m\n\u001b[1;32m----> 1\u001b[0m calc\u001b[38;5;241m.\u001b[39madd(\u001b[38;5;241m23\u001b[39m,\u001b[38;5;241m45\u001b[39m)\n",
      "\u001b[1;31mNameError\u001b[0m: name 'calc' is not defined"
     ]
    }
   ],
   "source": [
    "calc.add(23,45)"
   ]
  },
  {
   "cell_type": "code",
   "execution_count": null,
   "id": "2bb8c0ef-49d2-4a42-a1e1-251d4d9d3858",
   "metadata": {},
   "outputs": [],
   "source": []
  },
  {
   "cell_type": "markdown",
   "id": "b1cdede5-7235-4310-8229-75b2c9b55134",
   "metadata": {},
   "source": [
    "# ➩ Polymorphism in real world scenario\n",
    "#### _Imagine kariye ek software application jo different types of media files ko play karta hai jaise audio files aur video files. Hum ek MediaPlayer class create kar sakte hain jo play method ko define karega, aur phir AudioPlayer aur VideoPlayer classes inherit karengi MediaPlayer class ko aur play method ko override karengi apne specific behavior ke liye._"
   ]
  },
  {
   "cell_type": "code",
   "execution_count": 25,
   "id": "9983cecf-219b-419b-824a-921491b40d80",
   "metadata": {},
   "outputs": [
    {
     "name": "stdout",
     "output_type": "stream",
     "text": [
      "playing media\n",
      "plaiyng audio file\n",
      "plaiyng video file\n"
     ]
    }
   ],
   "source": [
    "class MediaPlayer:\n",
    "    def play(self):\n",
    "        print(\"playing media\")\n",
    "\n",
    "class AudioPlayer( MediaPlayer):\n",
    "    def play(self):\n",
    "        print(\"plaiyng audio file\")\n",
    "\n",
    "class VideoPlayer( MediaPlayer):\n",
    "    def play(self):\n",
    "        print(\"plaiyng video file\")\n",
    "\n",
    "# creating object\n",
    "\n",
    "mediaplayer = MediaPlayer()\n",
    "audioplayer = AudioPlayer()\n",
    "videoplayer = VideoPlayer()\n",
    "\n",
    "mediaplayer.play()\n",
    "audioplayer.play()\n",
    "videoplayer.play()"
   ]
  },
  {
   "cell_type": "markdown",
   "id": "36867b75-12fb-44cd-b317-7e303031bd2f",
   "metadata": {},
   "source": [
    "# ➩➩ __Method Overriding in Python__\n",
    "### _Method overriding is an ability of any object-oriented programming language that allows a subclass or child class to provide a specific implementation of a method that is already provided by one of its super-classes or parent classes. When a method in a subclass has the same name, the same parameters or signature, and same return type(or sub-type) as a method in its super-class, then the method in the subclass is said to override the method in the super-class._"
   ]
  },
  {
   "cell_type": "code",
   "execution_count": 39,
   "id": "42986ec5-ad46-4c3c-b343-b39e278d3a99",
   "metadata": {},
   "outputs": [
    {
     "name": "stdout",
     "output_type": "stream",
     "text": [
      "Inside Parent\n",
      "Inside Child\n"
     ]
    }
   ],
   "source": [
    "                    # Defining parent class \n",
    "class Parent(): \n",
    "\t\n",
    "\t                     # Constructor \n",
    "\tdef __init__(self): \n",
    "\t\tself.value = \"Inside Parent\"\n",
    "\t\t\n",
    "\t                 # Parent's show method \n",
    "\tdef show(self): \n",
    "\t\tprint(self.value) \n",
    "\t\t\n",
    "                           # Defining child class \n",
    "class Child(Parent): \n",
    "\t\n",
    "                       \t# Constructor \n",
    "\tdef __init__(self): \n",
    "\t\tsuper().__init__()      # Call parent constructor\n",
    "\t\tself.value = \"Inside Child\"\n",
    "\t\t\n",
    "\t                     # Child's show method \n",
    "\tdef show(self): \n",
    "\t\tprint(self.value) \n",
    "\t\t\n",
    "                      # Driver's code \n",
    "obj1 = Parent() \n",
    "obj2 = Child() \n",
    "\n",
    "obj1.show()             # Should print \"Inside Parent\"\n",
    "obj2.show()             # Should print \"Inside child\""
   ]
  },
  {
   "cell_type": "markdown",
   "id": "5ac41681-4026-4972-b04c-a16d4b1bdd16",
   "metadata": {},
   "source": [
    "### ➩ Method over riding with __Multilevel Inheritance :__ \"When we have a child and grandchild relationship.\""
   ]
  },
  {
   "cell_type": "code",
   "execution_count": 40,
   "id": "34ce3958-6c12-427b-be32-0c116cfbb5a0",
   "metadata": {},
   "outputs": [
    {
     "name": "stdout",
     "output_type": "stream",
     "text": [
      "Inside GrandChild\n",
      "Inside Parent\n"
     ]
    }
   ],
   "source": [
    "                   # overriding in multilevel inheritance \n",
    "\n",
    "class Parent(): \n",
    "\t\t\n",
    "                              \t# Parent's show method \n",
    "\tdef display(self): \n",
    "\t\tprint(\"Inside Parent\") \n",
    "\t\n",
    "\t\n",
    "                                   # Inherited or Sub class (Note Parent in bracket) \n",
    "class Child(Parent): \n",
    "                \t\t\n",
    "                                    # Child's show method \n",
    "\tdef show(self): \n",
    "\t\tprint(\"Inside Child\") \n",
    "\t\n",
    "                                  # Inherited or Sub class (Note Child in bracket) \n",
    "class GrandChild(Child): \n",
    "\t\t\n",
    "                          \t# Child's show method \n",
    "\tdef show(self): \n",
    "\t\tprint(\"Inside GrandChild\")\t\t \n",
    "\t\n",
    "                       # Driver code \n",
    "g = GrandChild() \n",
    "g.show() \n",
    "g.display()"
   ]
  },
  {
   "cell_type": "markdown",
   "id": "0c597842-c8cb-44c9-9e64-24b81b093f4f",
   "metadata": {},
   "source": [
    "### ➩ __Calling the Parent's method within the overridden method__"
   ]
  },
  {
   "cell_type": "code",
   "execution_count": 41,
   "id": "1f85a31d-4c25-4167-9cd3-a043e53c65dc",
   "metadata": {},
   "outputs": [
    {
     "name": "stdout",
     "output_type": "stream",
     "text": [
      "Inside Parent\n",
      "Inside Child\n"
     ]
    }
   ],
   "source": [
    "# calling the parent's class method \n",
    "# inside the overridden method \n",
    "class Parent(): \n",
    "\t\n",
    "\tdef show(self): \n",
    "\t\tprint(\"Inside Parent\") \n",
    "\t\t\n",
    "class Child(Parent): \n",
    "\t\n",
    "\tdef show(self): \n",
    "\t\t\n",
    "\t\t# Calling the parent's class \n",
    "\t\t# method \n",
    "\t\tParent.show(self) \n",
    "\t\tprint(\"Inside Child\") \n",
    "\t\t\n",
    "# Driver's code \n",
    "obj = Child() \n",
    "obj.show() "
   ]
  },
  {
   "cell_type": "markdown",
   "id": "e88850fb-27b0-465a-8762-9178848f4004",
   "metadata": {},
   "source": [
    "### ➩ __calling the parent's class method inside the overridden method using super()__"
   ]
  },
  {
   "cell_type": "code",
   "execution_count": 42,
   "id": "f43f0fca-ed05-43cb-9492-634ddc378afe",
   "metadata": {},
   "outputs": [
    {
     "name": "stdout",
     "output_type": "stream",
     "text": [
      "Inside Parent\n",
      "Inside Child\n"
     ]
    }
   ],
   "source": [
    "class Parent(): \t\n",
    "\tdef show(self): \n",
    "\t\tprint(\"Inside Parent\") \n",
    "\t\t\n",
    "class Child(Parent): \t\n",
    "\tdef show(self): \t\t\n",
    "                        \t\t# Calling the parent's class method \n",
    "\t\tsuper().show() \n",
    "\t\tprint(\"Inside Child\") \t\t\n",
    "                             # Driver's code \n",
    "obj = Child() \n",
    "obj.show()"
   ]
  },
  {
   "cell_type": "markdown",
   "id": "5d24ffaa-29a6-465b-a208-16b74b1430fc",
   "metadata": {},
   "source": [
    "# ➩➩➩ __Method Overloading in Python__\n",
    "#### --> _In many programming languages like C++ or Java, you can define multiple methods with the same name but different parameter lists. This concept is called method overloading._\n",
    "\n",
    "#### _--> Python does not support method overloading by default. If you define multiple methods with the same name, only the latest definition will be used._"
   ]
  },
  {
   "cell_type": "code",
   "execution_count": 43,
   "id": "cdd407d2-b79b-4855-96ba-1fae731f4a3f",
   "metadata": {},
   "outputs": [
    {
     "name": "stdout",
     "output_type": "stream",
     "text": [
      "100\n"
     ]
    }
   ],
   "source": [
    "def product(a, b):\n",
    "    p = a * b\n",
    "    print(p)\n",
    "\n",
    "def product(a, b, c):\n",
    "    p = a * b*c\n",
    "    print(p)\n",
    "\n",
    "product(4, 5, 5)"
   ]
  },
  {
   "cell_type": "markdown",
   "id": "3d1fb6ee-1eb8-4814-ba57-6f5993c932ed",
   "metadata": {},
   "source": [
    "➩ __Using Variable Arguments (*args)__\n",
    "\n",
    "##### _In this approach, we use variable-length arguments to accept any number of arguments and handle them inside the function._"
   ]
  },
  {
   "cell_type": "code",
   "execution_count": 47,
   "id": "fe44a490-9e3b-4384-b3f0-c7047b8f69c0",
   "metadata": {},
   "outputs": [
    {
     "name": "stdout",
     "output_type": "stream",
     "text": [
      "11\n",
      "Hi Ranvijay\n"
     ]
    }
   ],
   "source": [
    "def add(datatype, *args):\n",
    "    if datatype == 'int':\n",
    "        res = 0\n",
    "    elif datatype == 'str':\n",
    "        res = ''\n",
    "    \n",
    "    for item in args:\n",
    "        res += item\n",
    "\n",
    "    print(res)\n",
    "\n",
    "\n",
    "add('int', 5, 6)\n",
    "add('str', 'Hi ', 'Ranvijay')"
   ]
  },
  {
   "cell_type": "markdown",
   "id": "f626e9f1-f985-4206-add8-b3851261f9e0",
   "metadata": {},
   "source": [
    "# ➩  What is Encapsulation in Python?\n",
    "#### _Encapsulation is a fundamental concept in object-oriented programming that involves bundling the data (attributes) and methods (functions) that operate on the data into a single unit or class. It restricts direct access to some of the object's components, which can prevent the accidental modification of data and allows for safer and more structured code. In Python, encapsulation is implemented using private (denoted by double underscores __ ) and protected (denoted by single underscore _ ) attributes and methods._"
   ]
  },
  {
   "cell_type": "code",
   "execution_count": 48,
   "id": "517165c9-c66e-48fa-8964-14e2e313758d",
   "metadata": {},
   "outputs": [
    {
     "name": "stdout",
     "output_type": "stream",
     "text": [
      "Deposit successful\n",
      "100\n"
     ]
    }
   ],
   "source": [
    "class Account:\n",
    "    def __init__(self, owner, amount=0):\n",
    "        self.owner = owner\n",
    "        self.__balance = amount  # Private attribute\n",
    "\n",
    "    def deposit(self, amount):\n",
    "        if amount > 0:\n",
    "            self.__balance += amount\n",
    "            print(\"Deposit successful\")\n",
    "        else:\n",
    "            print(\"Deposit amount must be positive\")\n",
    "\n",
    "    def get_balance(self):\n",
    "        return self.__balance\n",
    "\n",
    "acct = Account(\"John\")\n",
    "acct.deposit(100)\n",
    "print(acct.get_balance())  # Output: 100\n",
    "# print(acct.__balance)  # This will raise an error because __balance is private"
   ]
  },
  {
   "cell_type": "code",
   "execution_count": null,
   "id": "1b02f848-d090-48bf-b866-23c81a422147",
   "metadata": {},
   "outputs": [],
   "source": []
  }
 ],
 "metadata": {
  "kernelspec": {
   "display_name": "Python 3 (ipykernel)",
   "language": "python",
   "name": "python3"
  },
  "language_info": {
   "codemirror_mode": {
    "name": "ipython",
    "version": 3
   },
   "file_extension": ".py",
   "mimetype": "text/x-python",
   "name": "python",
   "nbconvert_exporter": "python",
   "pygments_lexer": "ipython3",
   "version": "3.12.7"
  }
 },
 "nbformat": 4,
 "nbformat_minor": 5
}
