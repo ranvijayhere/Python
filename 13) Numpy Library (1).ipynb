{
 "cells": [
  {
   "cell_type": "markdown",
   "id": "9a7f28c4-7f3b-4da6-a7bf-aec71383f4df",
   "metadata": {},
   "source": [
    "# __13) Numpy Library__\n",
    "\n",
    "#### NumPy is a Python library.\n",
    "\n",
    "#### NumPy is used for working with arrays.\n",
    "\n",
    "#### NumPy is short for \"Numerical Python\"."
   ]
  },
  {
   "cell_type": "markdown",
   "id": "da7a5580-237d-401f-ace0-d529df16169e",
   "metadata": {},
   "source": [
    "# ⮩ Creating a Numpy Array"
   ]
  },
  {
   "cell_type": "code",
   "execution_count": 1,
   "id": "b8690653-2138-4d2b-81e1-969863dc6c47",
   "metadata": {},
   "outputs": [
    {
     "name": "stdout",
     "output_type": "stream",
     "text": [
      "[1 2 3 4 5]\n",
      "<class 'numpy.ndarray'>\n"
     ]
    }
   ],
   "source": [
    "import numpy as np\n",
    "\n",
    "arr = np.array([1, 2, 3, 4, 5])\n",
    "print(arr)\n",
    "\n",
    "print(type(arr))"
   ]
  },
  {
   "cell_type": "markdown",
   "id": "b72df381-0ab0-4844-8559-73378be88f29",
   "metadata": {},
   "source": [
    "# ⮩ What is an Array?\n",
    "### _An array is a special variable, which can hold more than one value at a time._  \n",
    "### _Arrays are a fundamental data structure, and an important part of most programming languages. In Python, they are containers which are able to store more than one item at the same time. Specifically, they are an ordered collection of elements with every value being of the same data types._"
   ]
  },
  {
   "cell_type": "markdown",
   "id": "74ac08bc-e2fc-40d2-8088-20d4496fddb2",
   "metadata": {},
   "source": [
    "# ⮩ What is NumPy?\n",
    "#### _NumPy is a Python library used for working with arrays._\n",
    "\n",
    "#### _It also has functions for working in domain of linear algebra, fourier transform, and matrices._\n",
    "\n",
    "#### _NumPy was created in 2005 by Travis Oliphant. It is an open source project and you can use it freely._\n",
    "\n",
    "#### _NumPy stands for Numerical Python._"
   ]
  },
  {
   "cell_type": "markdown",
   "id": "24a7a488-b89e-41c2-b2a9-9ff7f51be25a",
   "metadata": {},
   "source": [
    "# ⮩ Why Use NumPy?\n",
    "#### _In Python we have lists that serve the purpose of arrays, but they are slow to process._\n",
    "\n",
    "#### _NumPy aims to provide an array object that is up to 50x faster than traditional Python lists._\n",
    "\n",
    "#### _The array object in NumPy is called ndarray, it provides a lot of supporting functions that make working with ndarray very easy._\n",
    "\n",
    "#### _Arrays are very frequently used in data science, where speed and resources are very important._"
   ]
  },
  {
   "cell_type": "markdown",
   "id": "7f24afb4-a4cc-45af-a654-43d8e2d89624",
   "metadata": {},
   "source": [
    "# ⮩ Why is NumPy Faster Than Lists?\n",
    "#### _NumPy arrays are stored at one continuous place in memory unlike lists, so processes can access and manipulate them very efficiently._\n",
    "\n",
    "#### _This behavior is called locality of reference in computer science._\n",
    "\n",
    "#### _This is the main reason why NumPy is faster than lists. Also it is optimized to work with latest CPU architectures._\n",
    "\n"
   ]
  },
  {
   "cell_type": "markdown",
   "id": "e318adfd-dea0-464c-8fc5-22acf03916da",
   "metadata": {},
   "source": [
    "# ⮩ Which Language is NumPy written in?\n",
    "### _NumPy is a Python library and is written partially in Python, but most of the parts that require fast computation are written in C or C++._\n",
    "\n"
   ]
  },
  {
   "cell_type": "markdown",
   "id": "bb49a56b-a86c-4908-b4c8-b60d4e7dd645",
   "metadata": {},
   "source": [
    "# ⮩ Installation of NumPy\n",
    "#### _If you have Python and PIP already installed on a system, then installation of NumPy is very easy._\n",
    "\n",
    "#### C:\\Users\\Your Name > pip install numpy"
   ]
  },
  {
   "cell_type": "markdown",
   "id": "c5addf20-1c62-45ae-b55b-104f7ac0de3a",
   "metadata": {},
   "source": [
    "# Import NumPy\n",
    "#### _Once NumPy is installed, import it in your applications by adding the import keyword :_\n",
    "\n",
    "## import numpy"
   ]
  },
  {
   "cell_type": "code",
   "execution_count": 2,
   "id": "d5f971ae-0508-4952-9114-57e33e3c08e4",
   "metadata": {},
   "outputs": [
    {
     "name": "stdout",
     "output_type": "stream",
     "text": [
      "[1, 2, 3, 4, 5]\n",
      "<class 'list'>\n"
     ]
    }
   ],
   "source": [
    "lst = [1,2,3,4,5]\n",
    "print(lst)\n",
    "print(type(lst))"
   ]
  },
  {
   "cell_type": "code",
   "execution_count": 3,
   "id": "075b7dc6-fb43-4c71-ab33-e2523f7fa50a",
   "metadata": {},
   "outputs": [
    {
     "name": "stdout",
     "output_type": "stream",
     "text": [
      "[1 2 3 4 5]\n",
      "<class 'numpy.ndarray'>\n"
     ]
    }
   ],
   "source": [
    "import numpy\n",
    "\n",
    "arr = numpy.array([1, 2, 3, 4, 5])\n",
    "print(arr)\n",
    "print(type(arr))"
   ]
  },
  {
   "cell_type": "markdown",
   "id": "06538f07-63ed-48a9-9944-4ec8a3d5fa48",
   "metadata": {},
   "source": [
    "# NumPy as np\n",
    "### _NumPy is usually imported under the np alias._"
   ]
  },
  {
   "cell_type": "code",
   "execution_count": 3,
   "id": "8cd38dd0-e2d8-4be1-90ba-962c12b47ffc",
   "metadata": {},
   "outputs": [],
   "source": [
    "import numpy as np"
   ]
  },
  {
   "cell_type": "code",
   "execution_count": 2,
   "id": "f266121d-57b5-490e-a4fe-f0a74e06ebff",
   "metadata": {},
   "outputs": [
    {
     "name": "stdout",
     "output_type": "stream",
     "text": [
      "[1 2 3 4 5]\n",
      "<class 'numpy.ndarray'>\n"
     ]
    }
   ],
   "source": [
    "import numpy as np\n",
    "\n",
    "arr = np.array([1, 2, 3, 4, 5])\n",
    "print(arr)\n",
    "print(type(arr))"
   ]
  },
  {
   "cell_type": "markdown",
   "id": "1ba2b9b6-2fa8-4e8e-981c-67cb59713e63",
   "metadata": {},
   "source": [
    "# ⮩ Checking NumPy Version\n",
    "### _The version string is stored under __version__ attribute._"
   ]
  },
  {
   "cell_type": "code",
   "execution_count": 4,
   "id": "c93297a2-c462-4dd5-b999-60102ef0701c",
   "metadata": {},
   "outputs": [
    {
     "data": {
      "text/plain": [
       "'1.26.4'"
      ]
     },
     "execution_count": 4,
     "metadata": {},
     "output_type": "execute_result"
    }
   ],
   "source": [
    "np.__version__"
   ]
  },
  {
   "cell_type": "code",
   "execution_count": 5,
   "id": "1a01e8f6-bb51-4621-a67b-9186820a1cb5",
   "metadata": {},
   "outputs": [
    {
     "name": "stdout",
     "output_type": "stream",
     "text": [
      "1.26.4\n"
     ]
    }
   ],
   "source": [
    "import numpy as np\n",
    "\n",
    "print(np.__version__)"
   ]
  },
  {
   "cell_type": "markdown",
   "id": "dc22d2a1-9447-4528-b639-97bcffc0f9c6",
   "metadata": {},
   "source": [
    "# Create a NumPy ndarray Object\n",
    "#### _NumPy is used to work with arrays. The array object in NumPy is called ndarray._\n",
    "\n",
    "#### _We can create a NumPy ndarray object by using the __array() function__._"
   ]
  },
  {
   "cell_type": "code",
   "execution_count": 7,
   "id": "0d968a4e-7ffd-405e-9453-e84f133f0714",
   "metadata": {},
   "outputs": [
    {
     "name": "stdout",
     "output_type": "stream",
     "text": [
      "[1 2 3 4 5]\n",
      "<class 'numpy.ndarray'>\n"
     ]
    }
   ],
   "source": [
    "import numpy as np\n",
    "\n",
    "arr = np.array([1, 2, 3, 4, 5])\n",
    "\n",
    "print(arr)\n",
    "print(type(arr))"
   ]
  },
  {
   "cell_type": "code",
   "execution_count": 6,
   "id": "78e28daf-730f-4ea0-8323-222c1dbb9ef0",
   "metadata": {},
   "outputs": [
    {
     "name": "stdout",
     "output_type": "stream",
     "text": [
      "[1 2 3 4 5]\n"
     ]
    }
   ],
   "source": [
    "import numpy as np\n",
    "\n",
    "arr = np.array((1, 2, 3, 4, 5))\n",
    "print(arr)"
   ]
  },
  {
   "cell_type": "markdown",
   "id": "87a55ee9-4628-4898-9196-18a2e022a17a",
   "metadata": {},
   "source": [
    "# ➩➩  Dimensions in Arrays\n",
    "#### _A dimension in arrays is one level of array depth (nested arrays)._"
   ]
  },
  {
   "cell_type": "markdown",
   "id": "d3e5d53b-459a-4c2e-970c-6d59a8f39e2d",
   "metadata": {},
   "source": [
    "# ⮩  0-D Arrays\n",
    "#### _0-D arrays, or Scalars, are the elements in an array. Each value in an array is a 0-D array._"
   ]
  },
  {
   "cell_type": "code",
   "execution_count": 8,
   "id": "4449cdde-ef92-4de2-9d84-bf37956d20d6",
   "metadata": {},
   "outputs": [
    {
     "name": "stdout",
     "output_type": "stream",
     "text": [
      "42\n"
     ]
    }
   ],
   "source": [
    "import numpy as np\n",
    "\n",
    "arr = np.array(42)\n",
    "print(arr)"
   ]
  },
  {
   "cell_type": "markdown",
   "id": "33673828-d862-4a6a-b3da-65a87ef693bb",
   "metadata": {},
   "source": [
    "# ⮩ 1-D Arrays\n",
    "#### _An array that has 0-D arrays as its elements is called uni-dimensional or 1-D array._\n",
    "\n",
    "#### _These are the most common and basic arrays._"
   ]
  },
  {
   "cell_type": "code",
   "execution_count": 9,
   "id": "c4624717-ee3f-4a00-a145-0c5d3c025b96",
   "metadata": {},
   "outputs": [
    {
     "name": "stdout",
     "output_type": "stream",
     "text": [
      "[1 2 3 4 5]\n"
     ]
    }
   ],
   "source": [
    "import numpy as np\n",
    "\n",
    "arr = np.array([1, 2, 3, 4, 5])\n",
    "print(arr)"
   ]
  },
  {
   "cell_type": "markdown",
   "id": "97e6b888-1569-4f1d-a522-7053ef121863",
   "metadata": {},
   "source": [
    "# ⮩ 2-D Arrays\n",
    "#### _An array that has 1-D arrays as its elements is called a 2-D array._\n",
    "\n",
    "#### _These are often used to represent matrix or 2nd order tensors._"
   ]
  },
  {
   "cell_type": "code",
   "execution_count": 8,
   "id": "ba956f10-4c1f-481a-9f4a-918167660b11",
   "metadata": {},
   "outputs": [
    {
     "name": "stdout",
     "output_type": "stream",
     "text": [
      "[[1, 2, 3], [4, 5, 6]]\n",
      "<class 'list'>\n"
     ]
    }
   ],
   "source": [
    "                             # 2d array\n",
    "import numpy as np\n",
    "arr2 = [[1,2,3], [4,5,6]]        # if we dont write 'np.array' even after importing numpy, it will return list object\n",
    "print(arr2)\n",
    "print(type(arr2))"
   ]
  },
  {
   "cell_type": "code",
   "execution_count": 9,
   "id": "2416c224-1f96-4006-8c6b-56c1a3a64e0c",
   "metadata": {},
   "outputs": [
    {
     "name": "stdout",
     "output_type": "stream",
     "text": [
      "[[1 2 3]\n",
      " [4 5 6]]\n",
      "<class 'numpy.ndarray'>\n"
     ]
    }
   ],
   "source": [
    "arr = np.array([[1, 2, 3], [4, 5, 6]])\n",
    "print(arr)\n",
    "print(type(arr))"
   ]
  },
  {
   "cell_type": "markdown",
   "id": "6301b75e-b085-4075-8896-12b712c5d6d1",
   "metadata": {},
   "source": [
    "# ⮩ 3-D arrays\n",
    "#### _An array that has 2-D arrays (matrices) as its elements is called 3-D array._\n",
    "\n",
    "#### _These are often used to represent a 3rd order tensor._\n",
    "#### _Create a 3-D array with two 2-D arrays, both containing two arrays with the values 1,2,3 and 4,5,6 :_"
   ]
  },
  {
   "cell_type": "code",
   "execution_count": 6,
   "id": "b932529d-f8c2-4451-a85e-e1bf23795e08",
   "metadata": {},
   "outputs": [
    {
     "name": "stdout",
     "output_type": "stream",
     "text": [
      "[[[1 2 3]\n",
      "  [4 5 6]]\n",
      "\n",
      " [[1 2 3]\n",
      "  [4 5 6]]]\n"
     ]
    }
   ],
   "source": [
    "import numpy as np\n",
    "\n",
    "arr = np.array([[[1, 2, 3], [4, 5, 6]], [[1, 2, 3], [4, 5, 6]]])\n",
    "print(arr)"
   ]
  },
  {
   "cell_type": "code",
   "execution_count": 5,
   "id": "1c2ea871-b2e9-4e62-af36-b182822a7095",
   "metadata": {},
   "outputs": [
    {
     "name": "stdout",
     "output_type": "stream",
     "text": [
      "[[[1, 2, 3], [4, 5, 6]], [[1, 2, 3], [4, 5, 6]], [[1, 2, 3], [4, 5, 6]]]\n",
      "<class 'list'>\n"
     ]
    }
   ],
   "source": [
    "import numpy as np                                     # 3d array\n",
    "\n",
    "arr3 = ([[[1,2,3], [4,5,6]],  [[1,2,3], [4,5,6]],  [[1,2,3], [4,5,6]]])\n",
    "\n",
    "print(arr3)\n",
    "print(type(arr3))"
   ]
  },
  {
   "cell_type": "code",
   "execution_count": 8,
   "id": "a3edf398-3f6d-46b7-84e2-88b94a4bc3a8",
   "metadata": {},
   "outputs": [
    {
     "data": {
      "text/plain": [
       "1"
      ]
     },
     "execution_count": 8,
     "metadata": {},
     "output_type": "execute_result"
    }
   ],
   "source": [
    "arr3[0][0][0]"
   ]
  },
  {
   "cell_type": "markdown",
   "id": "0e3577e2-e7f4-4325-9a30-84c130a047c3",
   "metadata": {},
   "source": [
    "# Check Number of Dimensions?\n",
    "#### _NumPy Arrays provides the ndim attribute that returns an integer that tells us how many dimensions the array have._"
   ]
  },
  {
   "cell_type": "code",
   "execution_count": 11,
   "id": "9ddd5237-7704-42fd-94cd-f8cab5b24eb3",
   "metadata": {},
   "outputs": [
    {
     "name": "stdout",
     "output_type": "stream",
     "text": [
      "0\n",
      "1\n",
      "2\n",
      "3\n"
     ]
    }
   ],
   "source": [
    "import numpy as np\n",
    "\n",
    "a = np.array(42)\n",
    "b = np.array([1, 2, 3, 4, 5])\n",
    "c = np.array([[1, 2, 3], [4, 5, 6]])\n",
    "d = np.array([[[1, 2, 3], [4, 5, 6]], [[1, 2, 3], [4, 5, 6]]])\n",
    "\n",
    "print(a.ndim)\n",
    "print(b.ndim)\n",
    "print(c.ndim)\n",
    "print(d.ndim)"
   ]
  },
  {
   "cell_type": "markdown",
   "id": "88b1a503-c43e-4cda-915b-da24a5251d51",
   "metadata": {},
   "source": [
    "# ⮩ Higher Dimensional Arrays\n",
    "#### _An array can have any number of dimensions._\n",
    "#### _When the array is created, you can define the number of dimensions by using the ndmin argument._"
   ]
  },
  {
   "cell_type": "code",
   "execution_count": 9,
   "id": "26447f55-2c1d-4922-976b-0979fc307a06",
   "metadata": {},
   "outputs": [
    {
     "data": {
      "text/plain": [
       "array([[[[[1, 2, 3, 4, 5]]]]])"
      ]
     },
     "execution_count": 9,
     "metadata": {},
     "output_type": "execute_result"
    }
   ],
   "source": [
    "                                              # creating a nd array\n",
    "newarr = np.array([1,2,3,4,5], ndmin=5)\n",
    "newarr"
   ]
  },
  {
   "cell_type": "code",
   "execution_count": 10,
   "id": "f9376b52-1904-4371-bd7b-5c7166459e6f",
   "metadata": {},
   "outputs": [
    {
     "data": {
      "text/plain": [
       "5"
      ]
     },
     "execution_count": 10,
     "metadata": {},
     "output_type": "execute_result"
    }
   ],
   "source": [
    " # how to check dimensions of an array\n",
    "\n",
    "newarr.ndim"
   ]
  },
  {
   "cell_type": "code",
   "execution_count": 12,
   "id": "67edad09-d865-4836-b30a-dc847130e139",
   "metadata": {},
   "outputs": [
    {
     "name": "stdout",
     "output_type": "stream",
     "text": [
      "[[[[[1 2 3 4]]]]]\n",
      "number of dimensions : 5\n"
     ]
    }
   ],
   "source": [
    "import numpy as np\n",
    "\n",
    "arr = np.array([1, 2, 3, 4], ndmin=5)\n",
    "print(arr)\n",
    "print('number of dimensions :', arr.ndim)"
   ]
  },
  {
   "cell_type": "markdown",
   "id": "1edcfe78-36ed-4ddb-ad5d-08cf936fa8ef",
   "metadata": {},
   "source": [
    "#### _In this array the innermost dimension (5th dim) has 4 elements, the 4th dim has 1 element that is the vector, the 3rd dim has 1 element that is the matrix with the vector, the 2nd dim has 1 element that is 3D array and 1st dim has 1 element that is a 4D array._"
   ]
  },
  {
   "cell_type": "markdown",
   "id": "e9b136e8-9090-4150-ad2a-dd4955c99c7c",
   "metadata": {},
   "source": [
    "# ➩➩ Access Array Elements == Array Indexing\n",
    "#### _Array indexing is the same as accessing an array element._\n",
    "#### _You can access an array element by referring to its index number._\n",
    "#### _The indexes in NumPy arrays start with 0, meaning that the first element has index 0, and the second has index 1 etc._"
   ]
  },
  {
   "cell_type": "code",
   "execution_count": 14,
   "id": "a96bb563-3d0f-4464-8287-e9740c7a3cdf",
   "metadata": {},
   "outputs": [
    {
     "name": "stdout",
     "output_type": "stream",
     "text": [
      "1\n"
     ]
    }
   ],
   "source": [
    "import numpy as np\n",
    "\n",
    "arr = np.array([1, 2, 3, 4])\n",
    "print(arr[0])"
   ]
  },
  {
   "cell_type": "code",
   "execution_count": 15,
   "id": "d48e2fc1-00c5-4939-831e-a8c0063cca40",
   "metadata": {},
   "outputs": [
    {
     "name": "stdout",
     "output_type": "stream",
     "text": [
      "2\n"
     ]
    }
   ],
   "source": [
    "import numpy as np\n",
    "\n",
    "arr = np.array([1, 2, 3, 4])\n",
    "print(arr[1])"
   ]
  },
  {
   "cell_type": "code",
   "execution_count": 17,
   "id": "6739b91d-4fb0-4cac-a599-b70b92753085",
   "metadata": {},
   "outputs": [
    {
     "name": "stdout",
     "output_type": "stream",
     "text": [
      "7\n"
     ]
    }
   ],
   "source": [
    "import numpy as np\n",
    "\n",
    "arr = np.array([1, 2, 3, 4])\n",
    "print(arr[2] + arr[3])"
   ]
  },
  {
   "cell_type": "markdown",
   "id": "ddc54540-28a8-4ba4-936c-8cfd7f8225c1",
   "metadata": {},
   "source": [
    "# ⮩ Access 2-D Arrays\n",
    "#### _To access elements from 2-D arrays we can use comma separated integers representing the dimension and the index of the element._\n",
    "#### _Think of 2-D arrays like a table with rows and columns, where the dimension represents the row and the index represents the column._"
   ]
  },
  {
   "cell_type": "code",
   "execution_count": 18,
   "id": "898331ee-6468-4b42-adeb-243da98d543d",
   "metadata": {},
   "outputs": [
    {
     "name": "stdout",
     "output_type": "stream",
     "text": [
      "2nd element on 1st row:  2\n"
     ]
    }
   ],
   "source": [
    "import numpy as np\n",
    "\n",
    "arr = np.array([[1,2,3,4,5], [6,7,8,9,10]])\n",
    "print('2nd element on 1st row: ', arr[0, 1])"
   ]
  },
  {
   "cell_type": "code",
   "execution_count": 19,
   "id": "8a145922-1faf-43e3-b675-78ca9f395f76",
   "metadata": {},
   "outputs": [
    {
     "name": "stdout",
     "output_type": "stream",
     "text": [
      "5th element on 2nd row:  10\n"
     ]
    }
   ],
   "source": [
    "import numpy as np\n",
    "\n",
    "arr = np.array([[1,2,3,4,5], [6,7,8,9,10]])\n",
    "print('5th element on 2nd row: ', arr[1, 4])"
   ]
  },
  {
   "cell_type": "markdown",
   "id": "fba7af79-750b-4090-b2a4-b694e3d51274",
   "metadata": {},
   "source": [
    "# ⮩ Access 3-D Arrays\n",
    "#### _To access elements from 3-D arrays we can use comma separated integers representing the dimensions and the index of the element._"
   ]
  },
  {
   "cell_type": "code",
   "execution_count": 20,
   "id": "1172ee91-f922-4a02-8d11-aa1319b6ea59",
   "metadata": {},
   "outputs": [
    {
     "name": "stdout",
     "output_type": "stream",
     "text": [
      "6\n"
     ]
    }
   ],
   "source": [
    "import numpy as np\n",
    "\n",
    "arr = np.array([[[1, 2, 3], [4, 5, 6]], [[7, 8, 9], [10, 11, 12]]])\n",
    "print(arr[0, 1, 2])"
   ]
  },
  {
   "cell_type": "markdown",
   "id": "c8cb1327-8f41-4ab0-b685-dc6af2156bce",
   "metadata": {},
   "source": [
    "# ⮩ Negative Indexing\n",
    "#### _Use negative indexing to access an array from the end._"
   ]
  },
  {
   "cell_type": "code",
   "execution_count": 21,
   "id": "7beedcdb-cfca-4ce2-ad11-e8af27afc67d",
   "metadata": {},
   "outputs": [
    {
     "name": "stdout",
     "output_type": "stream",
     "text": [
      "Last element from 2nd dim:  10\n"
     ]
    }
   ],
   "source": [
    "import numpy as np\n",
    "\n",
    "arr = np.array([[1,2,3,4,5], [6,7,8,9,10]])\n",
    "print('Last element from 2nd dim: ', arr[1, -1])"
   ]
  },
  {
   "cell_type": "markdown",
   "id": "bff2e396-3cc1-4e79-9e05-ec18302ba6bd",
   "metadata": {},
   "source": [
    "# ➩➩ Slicing arrays\n",
    "#### _Slicing in python means taking elements from one given index to another given index._\n",
    "##### _We pass slice instead of index like this: [start:end]._\n",
    "\n",
    "##### _We can also define the step, like this: [start:end:step]._\n",
    "\n",
    "##### _If we don't pass start its considered 0_\n",
    "\n",
    "##### _If we don't pass end its considered length of array in that dimension_\n",
    "\n",
    "##### _If we don't pass step its considered 1_"
   ]
  },
  {
   "cell_type": "code",
   "execution_count": 22,
   "id": "4e6ffc1f-fddf-449f-96a7-abd81451eca1",
   "metadata": {},
   "outputs": [
    {
     "name": "stdout",
     "output_type": "stream",
     "text": [
      "[2 3 4 5]\n"
     ]
    }
   ],
   "source": [
    "import numpy as np\n",
    "\n",
    "arr = np.array([1, 2, 3, 4, 5, 6, 7])\n",
    "print(arr[1:5])"
   ]
  },
  {
   "cell_type": "code",
   "execution_count": 23,
   "id": "b5539c59-a9da-4482-858a-cf36cb5b0a11",
   "metadata": {},
   "outputs": [
    {
     "name": "stdout",
     "output_type": "stream",
     "text": [
      "[5 6 7]\n"
     ]
    }
   ],
   "source": [
    "import numpy as np\n",
    "\n",
    "arr = np.array([1, 2, 3, 4, 5, 6, 7])\n",
    "print(arr[4:])"
   ]
  },
  {
   "cell_type": "code",
   "execution_count": 24,
   "id": "dd54683b-99c4-4f56-b7a4-f01eb195b5a1",
   "metadata": {},
   "outputs": [
    {
     "name": "stdout",
     "output_type": "stream",
     "text": [
      "[1 2 3 4]\n"
     ]
    }
   ],
   "source": [
    "import numpy as np\n",
    "\n",
    "arr = np.array([1, 2, 3, 4, 5, 6, 7])\n",
    "print(arr[:4])"
   ]
  },
  {
   "cell_type": "markdown",
   "id": "588bbb04-2b87-465c-84ec-bdf951d746ac",
   "metadata": {},
   "source": [
    "# ⮩  Negative Slicing\n",
    "#### _Use the minus operator to refer to an index from the end :_"
   ]
  },
  {
   "cell_type": "code",
   "execution_count": 25,
   "id": "ef46348d-43bd-40af-968d-844e66f0bcc0",
   "metadata": {},
   "outputs": [
    {
     "name": "stdout",
     "output_type": "stream",
     "text": [
      "[5 6]\n"
     ]
    }
   ],
   "source": [
    "import numpy as np\n",
    "\n",
    "arr = np.array([1, 2, 3, 4, 5, 6, 7])\n",
    "print(arr[-3:-1])"
   ]
  },
  {
   "cell_type": "markdown",
   "id": "0e58541f-dac1-4c36-ae11-ed00d9af2cd3",
   "metadata": {},
   "source": [
    "# STEP\n",
    "##### _Use the step value to determine the step of the slicing :_"
   ]
  },
  {
   "cell_type": "code",
   "execution_count": 26,
   "id": "9e5d9627-10a9-4edb-a6dd-4f7250eab6e7",
   "metadata": {},
   "outputs": [
    {
     "name": "stdout",
     "output_type": "stream",
     "text": [
      "[2 4]\n"
     ]
    }
   ],
   "source": [
    "import numpy as np\n",
    "\n",
    "arr = np.array([1, 2, 3, 4, 5, 6, 7])\n",
    "print(arr[1:5:2])"
   ]
  },
  {
   "cell_type": "code",
   "execution_count": 27,
   "id": "d8dab75d-1818-44d6-a040-433788c6d937",
   "metadata": {},
   "outputs": [
    {
     "name": "stdout",
     "output_type": "stream",
     "text": [
      "[1 3 5 7]\n"
     ]
    }
   ],
   "source": [
    "import numpy as np\n",
    "\n",
    "arr = np.array([1, 2, 3, 4, 5, 6, 7])\n",
    "print(arr[::2])"
   ]
  },
  {
   "cell_type": "markdown",
   "id": "9e9c351f-8473-408a-8d1d-3b7514178b14",
   "metadata": {},
   "source": [
    "# ⮩  Slicing 2-D Arrays"
   ]
  },
  {
   "cell_type": "code",
   "execution_count": 28,
   "id": "75623e49-398f-41ce-914c-20f5195c7214",
   "metadata": {},
   "outputs": [
    {
     "name": "stdout",
     "output_type": "stream",
     "text": [
      "[7 8 9]\n"
     ]
    }
   ],
   "source": [
    "import numpy as np\n",
    "\n",
    "arr = np.array([[1, 2, 3, 4, 5], [6, 7, 8, 9, 10]])\n",
    "print(arr[1, 1:4])"
   ]
  },
  {
   "cell_type": "code",
   "execution_count": 29,
   "id": "77d533ea-c30f-4574-8a77-9a6a58c9c4b0",
   "metadata": {},
   "outputs": [
    {
     "name": "stdout",
     "output_type": "stream",
     "text": [
      "[3 8]\n"
     ]
    }
   ],
   "source": [
    "import numpy as np\n",
    "\n",
    "arr = np.array([[1, 2, 3, 4, 5], [6, 7, 8, 9, 10]])\n",
    "print(arr[0:2, 2])"
   ]
  },
  {
   "cell_type": "code",
   "execution_count": 30,
   "id": "b39724bb-da14-4789-83a7-dc8080f29d0b",
   "metadata": {},
   "outputs": [
    {
     "name": "stdout",
     "output_type": "stream",
     "text": [
      "[[2 3 4]\n",
      " [7 8 9]]\n"
     ]
    }
   ],
   "source": [
    "import numpy as np\n",
    "\n",
    "arr = np.array([[1, 2, 3, 4, 5], [6, 7, 8, 9, 10]])\n",
    "print(arr[0:2, 1:4])"
   ]
  },
  {
   "cell_type": "code",
   "execution_count": null,
   "id": "9f99225a-79b4-4974-a53a-ad8db1d584aa",
   "metadata": {},
   "outputs": [],
   "source": [
    "# NumPy Data Types\n",
    "By default Python have these data types:\n",
    "\n",
    "strings - used to represent text data, the text is given under quote marks. e.g. \"ABCD\"\n",
    "integer - used to represent integer numbers. e.g. -1, -2, -3\n",
    "float - used to represent real numbers. e.g. 1.2, 42.32\n",
    "boolean - used to represent True or False.\n",
    "complex - used to represent complex numbers. e.g. 1.0 + 2.0j, 1.5 + 2.5j"
   ]
  },
  {
   "cell_type": "markdown",
   "id": "6450c8c0-d344-4f18-bc65-81617cbd2179",
   "metadata": {},
   "source": [
    "# ➩➩ Data Types in NumPy\n",
    "#### _NumPy has some extra data types, and refer to data types with one character, like i for integers, u for unsigned integers etc._\n",
    "#### _Below is a list of all data types in NumPy and the characters used to represent them._\n",
    "\n",
    "i - integer  \n",
    "b - boolean   \n",
    "u - unsigned integer  \n",
    "f - float   \n",
    "c - complex float  \n",
    "m - timedelta   \n",
    "M - datetime   \n",
    "O - object   \n",
    "S - string   \n",
    "U - unicode string   \n",
    "V - fixed chunk of memory for other type ( void )"
   ]
  },
  {
   "cell_type": "markdown",
   "id": "f5edb2d4-be32-4d68-a5e5-3455b9ee7a15",
   "metadata": {},
   "source": [
    "# ⮩ Checking the Data Type of an Array\n",
    "#### _The NumPy array object has a property called dtype that returns the data type of the array :_"
   ]
  },
  {
   "cell_type": "code",
   "execution_count": 31,
   "id": "ce03463e-d190-4bd3-80ae-425ac49b9c44",
   "metadata": {},
   "outputs": [
    {
     "name": "stdout",
     "output_type": "stream",
     "text": [
      "int32\n"
     ]
    }
   ],
   "source": [
    "import numpy as np\n",
    "\n",
    "arr = np.array([1, 2, 3, 4])\n",
    "print(arr.dtype)"
   ]
  },
  {
   "cell_type": "code",
   "execution_count": 32,
   "id": "c37dd68f-a1bd-4816-acd6-75a538232db1",
   "metadata": {},
   "outputs": [
    {
     "name": "stdout",
     "output_type": "stream",
     "text": [
      "<U6\n"
     ]
    }
   ],
   "source": [
    "import numpy as np\n",
    "\n",
    "arr = np.array(['apple', 'banana', 'cherry'])\n",
    "print(arr.dtype)"
   ]
  },
  {
   "cell_type": "markdown",
   "id": "f31323ec-8c25-4e13-90e6-2ed32eb07516",
   "metadata": {},
   "source": [
    "# ⮩ Creating Arrays With a Defined Data Type\n",
    "#### _We use the __array() function__ to create arrays, this function can take an optional argument : dtype that allows us to define the expected data type of the array elements :_"
   ]
  },
  {
   "cell_type": "code",
   "execution_count": 33,
   "id": "629fbc0e-e765-47ae-9959-af1127b1abd2",
   "metadata": {},
   "outputs": [
    {
     "name": "stdout",
     "output_type": "stream",
     "text": [
      "[b'1' b'2' b'3' b'4']\n",
      "|S1\n"
     ]
    }
   ],
   "source": [
    "import numpy as np\n",
    "\n",
    "arr = np.array([1, 2, 3, 4], dtype='S')\n",
    "\n",
    "print(arr)\n",
    "print(arr.dtype)"
   ]
  },
  {
   "cell_type": "code",
   "execution_count": 34,
   "id": "dbe8b0fd-9342-4fc8-9680-2390367f50a9",
   "metadata": {},
   "outputs": [
    {
     "name": "stdout",
     "output_type": "stream",
     "text": [
      "[1 2 3 4]\n",
      "int32\n"
     ]
    }
   ],
   "source": [
    "arr = np.array([1, 2, 3, 4], dtype='i4')\n",
    "\n",
    "print(arr)\n",
    "print(arr.dtype)"
   ]
  },
  {
   "cell_type": "markdown",
   "id": "0da4326b-d876-43ad-b5b2-69c2e49ed83e",
   "metadata": {},
   "source": [
    "# ⮩ What if a Value Can Not Be Converted ?\n",
    "#### _If a type is given in which elements can't be casted then NumPy will raise a ValueError._"
   ]
  },
  {
   "cell_type": "code",
   "execution_count": 35,
   "id": "67a8627e-14d6-40de-af97-6d5758baa313",
   "metadata": {},
   "outputs": [
    {
     "ename": "ValueError",
     "evalue": "invalid literal for int() with base 10: 'a'",
     "output_type": "error",
     "traceback": [
      "\u001b[1;31m---------------------------------------------------------------------------\u001b[0m",
      "\u001b[1;31mValueError\u001b[0m                                Traceback (most recent call last)",
      "Cell \u001b[1;32mIn[35], line 3\u001b[0m\n\u001b[0;32m      1\u001b[0m \u001b[38;5;28;01mimport\u001b[39;00m \u001b[38;5;21;01mnumpy\u001b[39;00m \u001b[38;5;28;01mas\u001b[39;00m \u001b[38;5;21;01mnp\u001b[39;00m\n\u001b[1;32m----> 3\u001b[0m arr \u001b[38;5;241m=\u001b[39m np\u001b[38;5;241m.\u001b[39marray([\u001b[38;5;124m'\u001b[39m\u001b[38;5;124ma\u001b[39m\u001b[38;5;124m'\u001b[39m, \u001b[38;5;124m'\u001b[39m\u001b[38;5;124m2\u001b[39m\u001b[38;5;124m'\u001b[39m, \u001b[38;5;124m'\u001b[39m\u001b[38;5;124m3\u001b[39m\u001b[38;5;124m'\u001b[39m], dtype\u001b[38;5;241m=\u001b[39m\u001b[38;5;124m'\u001b[39m\u001b[38;5;124mi\u001b[39m\u001b[38;5;124m'\u001b[39m)\n",
      "\u001b[1;31mValueError\u001b[0m: invalid literal for int() with base 10: 'a'"
     ]
    }
   ],
   "source": [
    "import numpy as np\n",
    "\n",
    "arr = np.array(['a', '2', '3'], dtype='i')"
   ]
  },
  {
   "cell_type": "markdown",
   "id": "e0a991c8-e4ec-445f-b1e8-282d1267f55a",
   "metadata": {},
   "source": [
    "# ⮩ Converting Data Type on Existing Arrays\n",
    "#### _The best way to change the data type of an existing array, is to make a copy of the array with the __astype() method.___\n",
    "#### _The __astype() function__ creates a copy of the array, and allows you to specify the data type as a parameter._\n",
    "#### _The data type can be specified using a string, like 'f' for float, 'i' for integer etc. or you can use the data type directly like float for float and int for integer._"
   ]
  },
  {
   "cell_type": "code",
   "execution_count": 36,
   "id": "3d8f6ae4-b99d-472b-93a1-2a5c249e5ad7",
   "metadata": {},
   "outputs": [
    {
     "name": "stdout",
     "output_type": "stream",
     "text": [
      "[1 2 3]\n",
      "int32\n"
     ]
    }
   ],
   "source": [
    "import numpy as np\n",
    "\n",
    "arr = np.array([1.1, 2.1, 3.1])\n",
    "\n",
    "newarr = arr.astype('i')\n",
    "\n",
    "print(newarr)\n",
    "print(newarr.dtype)"
   ]
  },
  {
   "cell_type": "code",
   "execution_count": 37,
   "id": "e0aa926a-ceef-44d9-b01e-13aa68e31f2a",
   "metadata": {},
   "outputs": [
    {
     "name": "stdout",
     "output_type": "stream",
     "text": [
      "[1 2 3]\n",
      "int32\n"
     ]
    }
   ],
   "source": [
    "import numpy as np\n",
    "\n",
    "arr = np.array([1.1, 2.1, 3.1])\n",
    "\n",
    "newarr = arr.astype(int)\n",
    "\n",
    "print(newarr)\n",
    "print(newarr.dtype)"
   ]
  },
  {
   "cell_type": "code",
   "execution_count": 38,
   "id": "47c065be-f0de-472d-a65b-54d94f8e94dc",
   "metadata": {},
   "outputs": [
    {
     "name": "stdout",
     "output_type": "stream",
     "text": [
      "[ True False  True]\n",
      "bool\n"
     ]
    }
   ],
   "source": [
    "import numpy as np\n",
    "\n",
    "arr = np.array([1, 0, 3])\n",
    "\n",
    "newarr = arr.astype(bool)\n",
    "\n",
    "print(newarr)\n",
    "print(newarr.dtype)"
   ]
  },
  {
   "cell_type": "markdown",
   "id": "9f9dec7d-5691-4654-b253-6d0e32d23f12",
   "metadata": {},
   "source": [
    "# ➩➩➩ The Difference Between Copy and View\n",
    "#### _The main difference between a copy and a view of an array is that the copy is a new array, and the view is just a view of the original array._\n",
    "#### _The copy owns the data and any changes made to the copy will not affect original array, and any changes made to the original array will not affect the copy._\n",
    "#### _The view does not own the data and any changes made to the view will affect the original array, and any changes made to the original array will affect the view._"
   ]
  },
  {
   "cell_type": "markdown",
   "id": "d82ff711-89e6-44be-b4c9-686caac66d2d",
   "metadata": {},
   "source": [
    "# ⮩ COPY :"
   ]
  },
  {
   "cell_type": "code",
   "execution_count": 13,
   "id": "62850914-c044-4d02-928a-7c4f26b19ca2",
   "metadata": {},
   "outputs": [
    {
     "data": {
      "text/plain": [
       "array([1, 2, 3, 4, 5])"
      ]
     },
     "execution_count": 13,
     "metadata": {},
     "output_type": "execute_result"
    }
   ],
   "source": [
    "arr = np.array([1,2,3,4,5])\n",
    "\n",
    "copyarr = arr.copy()\n",
    "copyarr"
   ]
  },
  {
   "cell_type": "code",
   "execution_count": 7,
   "id": "c314cfe2-164f-48ff-81e5-81df482a3a86",
   "metadata": {},
   "outputs": [
    {
     "name": "stdout",
     "output_type": "stream",
     "text": [
      "[100   2   3   4   5]\n"
     ]
    }
   ],
   "source": [
    "arr = np.array([1,2,3,4,5])\n",
    "\n",
    "copyarr = arr.copy()\n",
    "\n",
    "copyarr[0] = 100\n",
    "print(copyarr)"
   ]
  },
  {
   "cell_type": "code",
   "execution_count": 39,
   "id": "a9142682-2dd9-4b2e-8f9b-c9dde6a89e8b",
   "metadata": {},
   "outputs": [
    {
     "name": "stdout",
     "output_type": "stream",
     "text": [
      "[42  2  3  4  5]\n",
      "[1 2 3 4 5]\n"
     ]
    }
   ],
   "source": [
    "import numpy as np\n",
    "\n",
    "arr = np.array([1, 2, 3, 4, 5])\n",
    "x = arr.copy()\n",
    "arr[0] = 42\n",
    "\n",
    "print(arr)\n",
    "print(x)"
   ]
  },
  {
   "cell_type": "markdown",
   "id": "92b45eed-edd1-401a-a62b-be145b55e86d",
   "metadata": {},
   "source": [
    "# ⮩ VIEW :"
   ]
  },
  {
   "cell_type": "code",
   "execution_count": 8,
   "id": "4d307d3b-4c0e-4f56-b8c2-c0ea627efc05",
   "metadata": {},
   "outputs": [
    {
     "data": {
      "text/plain": [
       "array([1, 2, 3, 4, 5])"
      ]
     },
     "execution_count": 8,
     "metadata": {},
     "output_type": "execute_result"
    }
   ],
   "source": [
    "import numpy as np\n",
    "\n",
    "# view\n",
    "arr = np.array([1,2,3,4,5])\n",
    "viewarr = arr.view()\n",
    "viewarr"
   ]
  },
  {
   "cell_type": "code",
   "execution_count": 4,
   "id": "bdfb8c9a-5927-4e79-89f7-7634abb759ad",
   "metadata": {},
   "outputs": [
    {
     "name": "stdout",
     "output_type": "stream",
     "text": [
      "[100   2   3   4   5]\n"
     ]
    }
   ],
   "source": [
    "viewarr[0] = 100\n",
    "print(viewarr)"
   ]
  },
  {
   "cell_type": "code",
   "execution_count": 40,
   "id": "2aad75c8-d29d-409a-aa79-1658805a8da2",
   "metadata": {},
   "outputs": [
    {
     "name": "stdout",
     "output_type": "stream",
     "text": [
      "[42  2  3  4  5]\n",
      "[42  2  3  4  5]\n"
     ]
    }
   ],
   "source": [
    "import numpy as np\n",
    "\n",
    "arr = np.array([1, 2, 3, 4, 5])\n",
    "x = arr.view()\n",
    "arr[0] = 42\n",
    "\n",
    "print(arr)\n",
    "print(x)"
   ]
  },
  {
   "cell_type": "code",
   "execution_count": 41,
   "id": "0954b38a-81db-4cd1-8d53-c6c5112ef774",
   "metadata": {},
   "outputs": [
    {
     "name": "stdout",
     "output_type": "stream",
     "text": [
      "[31  2  3  4  5]\n",
      "[31  2  3  4  5]\n"
     ]
    }
   ],
   "source": [
    "import numpy as np\n",
    "\n",
    "arr = np.array([1, 2, 3, 4, 5])\n",
    "x = arr.view()\n",
    "x[0] = 31\n",
    "\n",
    "print(arr)\n",
    "print(x)"
   ]
  },
  {
   "cell_type": "markdown",
   "id": "7f369baf-4e6c-42b2-85bf-9785aa52df0f",
   "metadata": {},
   "source": [
    "# ➩➩  Shape of an Array\n",
    "#### _The shape of an array is the number of elements in each dimension._\n",
    "#### _NumPy arrays have an attribute called shape that returns a tuple with each index having the number of corresponding elements._"
   ]
  },
  {
   "cell_type": "code",
   "execution_count": 10,
   "id": "8b2743ee-6a73-420e-b88e-4b412db3ddce",
   "metadata": {},
   "outputs": [
    {
     "name": "stdout",
     "output_type": "stream",
     "text": [
      "(2, 4)\n"
     ]
    }
   ],
   "source": [
    "import numpy as np\n",
    "\n",
    "arr = np.array([[1, 2, 3, 4], [5, 6, 7, 8]])\n",
    "\n",
    "print(arr.shape)"
   ]
  },
  {
   "cell_type": "code",
   "execution_count": 43,
   "id": "1a6a2758-7e84-437b-aa62-5b0ec54fbf23",
   "metadata": {},
   "outputs": [
    {
     "name": "stdout",
     "output_type": "stream",
     "text": [
      "[[[[[1 2 3 4]]]]]\n",
      "shape of array : (1, 1, 1, 1, 4)\n"
     ]
    }
   ],
   "source": [
    "import numpy as np\n",
    "\n",
    "arr = np.array([1, 2, 3, 4], ndmin=5)\n",
    "\n",
    "print(arr)\n",
    "print('shape of array :', arr.shape)"
   ]
  },
  {
   "cell_type": "markdown",
   "id": "31af3a24-e2e6-4470-9e61-ae3303bbb3f6",
   "metadata": {},
   "source": [
    "# ➩➩ Reshaping arrays\n",
    "#### _Reshaping means changing the shape of an array._\n",
    "#### _The shape of an array is the number of elements in each dimension._\n",
    "#### _By reshaping we can add or remove dimensions or change number of elements in each dimension._\n",
    "#### _Reshape From 1-D to 2-D_"
   ]
  },
  {
   "cell_type": "code",
   "execution_count": 44,
   "id": "70514104-b784-4803-92c5-4c0c07e2401d",
   "metadata": {},
   "outputs": [
    {
     "name": "stdout",
     "output_type": "stream",
     "text": [
      "[[ 1  2  3]\n",
      " [ 4  5  6]\n",
      " [ 7  8  9]\n",
      " [10 11 12]]\n"
     ]
    }
   ],
   "source": [
    "import numpy as np\n",
    "\n",
    "arr = np.array([1, 2, 3, 4, 5, 6, 7, 8, 9, 10, 11, 12])\n",
    "\n",
    "newarr = arr.reshape(4, 3)\n",
    "print(newarr)"
   ]
  },
  {
   "cell_type": "markdown",
   "id": "25dc3a29-347b-4053-be13-0710f705f8eb",
   "metadata": {},
   "source": [
    "# ⮩  Reshape From 1-D to 3-D"
   ]
  },
  {
   "cell_type": "code",
   "execution_count": 11,
   "id": "2d95503a-8a72-4c10-a0d9-ca7cb9d2f1e4",
   "metadata": {},
   "outputs": [
    {
     "data": {
      "text/plain": [
       "array([[3, 5],\n",
       "       [7, 9],\n",
       "       [8, 6],\n",
       "       [7, 5]])"
      ]
     },
     "execution_count": 11,
     "metadata": {},
     "output_type": "execute_result"
    }
   ],
   "source": [
    "# reshaping\n",
    "array1 = np.array ([3,5,7,9,8,6,7,5])\n",
    "new1 = array1.reshape(4,2)\n",
    "new1"
   ]
  },
  {
   "cell_type": "code",
   "execution_count": 10,
   "id": "0eddf0ed-4731-4cd5-b40e-4fdf674f1c32",
   "metadata": {},
   "outputs": [
    {
     "data": {
      "text/plain": [
       "array([[3, 5, 7, 9],\n",
       "       [8, 6, 7, 5]])"
      ]
     },
     "execution_count": 10,
     "metadata": {},
     "output_type": "execute_result"
    }
   ],
   "source": [
    "new1 = array1.reshape(2,4 )\n",
    "new1"
   ]
  },
  {
   "cell_type": "code",
   "execution_count": 17,
   "id": "321b06eb-a62b-463c-8762-6ff8e34ee672",
   "metadata": {},
   "outputs": [
    {
     "data": {
      "text/plain": [
       "(2, 4)"
      ]
     },
     "execution_count": 17,
     "metadata": {},
     "output_type": "execute_result"
    }
   ],
   "source": [
    "new1.shape"
   ]
  },
  {
   "cell_type": "code",
   "execution_count": 13,
   "id": "b6731ed5-224a-4a7a-8bc6-a496ede598af",
   "metadata": {},
   "outputs": [
    {
     "ename": "ValueError",
     "evalue": "cannot reshape array of size 8 into shape (3,2)",
     "output_type": "error",
     "traceback": [
      "\u001b[1;31m---------------------------------------------------------------------------\u001b[0m",
      "\u001b[1;31mValueError\u001b[0m                                Traceback (most recent call last)",
      "Cell \u001b[1;32mIn[13], line 1\u001b[0m\n\u001b[1;32m----> 1\u001b[0m new1 \u001b[38;5;241m=\u001b[39m array1\u001b[38;5;241m.\u001b[39mreshape(\u001b[38;5;241m3\u001b[39m,\u001b[38;5;241m2\u001b[39m)\n\u001b[0;32m      2\u001b[0m new1\n",
      "\u001b[1;31mValueError\u001b[0m: cannot reshape array of size 8 into shape (3,2)"
     ]
    }
   ],
   "source": [
    "new1 = array1.reshape(3,2)\n",
    "new1"
   ]
  },
  {
   "cell_type": "code",
   "execution_count": 16,
   "id": "d8f141b0-a9a4-4acc-a381-5c1bf2aa26c5",
   "metadata": {},
   "outputs": [
    {
     "name": "stdout",
     "output_type": "stream",
     "text": [
      "[[[ 1  2]\n",
      "  [ 3  4]\n",
      "  [ 5  6]]\n",
      "\n",
      " [[ 7  8]\n",
      "  [ 9 10]\n",
      "  [11 12]]]\n"
     ]
    }
   ],
   "source": [
    "import numpy as np\n",
    "\n",
    "arr = np.array([1, 2, 3, 4, 5, 6, 7, 8, 9, 10, 11, 12])\n",
    "newarr = arr.reshape(2, 3, 2)\n",
    "print(newarr)"
   ]
  },
  {
   "cell_type": "code",
   "execution_count": 18,
   "id": "2df4af50-1267-4d2b-9935-e721921c8c47",
   "metadata": {},
   "outputs": [
    {
     "data": {
      "text/plain": [
       "array([[[ 1,  2],\n",
       "        [ 3,  4],\n",
       "        [ 5,  6]],\n",
       "\n",
       "       [[ 7,  8],\n",
       "        [ 9, 10],\n",
       "        [11, 12]]])"
      ]
     },
     "execution_count": 18,
     "metadata": {},
     "output_type": "execute_result"
    }
   ],
   "source": [
    "arr8 = np.array([1, 2, 3, 4, 5, 6, 7, 8, 9, 10, 11, 12])\n",
    "\n",
    "newar = arr8.reshape(2, 3, 2)\n",
    "newar"
   ]
  },
  {
   "cell_type": "markdown",
   "id": "fb5bc2a9-897e-4788-bfcb-7a09aa094e9a",
   "metadata": {},
   "source": [
    "# ⮩ Can We Reshape Into any Shape?\n",
    "#### _Yes, as long as the elements required for reshaping are equal in both shapes._\n",
    "\n",
    "#### _We can reshape an 8 elements 1D array into 4 elements in 2 rows 2D array but we cannot reshape it into a 3 elements 3 rows 2D array as that would require 3 x 3 = 9 elements._"
   ]
  },
  {
   "cell_type": "code",
   "execution_count": 18,
   "id": "62f89ecf-97fe-41ad-a0c5-f75caae9f1b7",
   "metadata": {},
   "outputs": [
    {
     "ename": "ValueError",
     "evalue": "cannot reshape array of size 8 into shape (3,3)",
     "output_type": "error",
     "traceback": [
      "\u001b[1;31m---------------------------------------------------------------------------\u001b[0m",
      "\u001b[1;31mValueError\u001b[0m                                Traceback (most recent call last)",
      "Cell \u001b[1;32mIn[18], line 5\u001b[0m\n\u001b[0;32m      1\u001b[0m \u001b[38;5;28;01mimport\u001b[39;00m \u001b[38;5;21;01mnumpy\u001b[39;00m \u001b[38;5;28;01mas\u001b[39;00m \u001b[38;5;21;01mnp\u001b[39;00m\n\u001b[0;32m      3\u001b[0m arr \u001b[38;5;241m=\u001b[39m np\u001b[38;5;241m.\u001b[39marray([\u001b[38;5;241m1\u001b[39m, \u001b[38;5;241m2\u001b[39m, \u001b[38;5;241m3\u001b[39m, \u001b[38;5;241m4\u001b[39m, \u001b[38;5;241m5\u001b[39m, \u001b[38;5;241m6\u001b[39m, \u001b[38;5;241m7\u001b[39m, \u001b[38;5;241m8\u001b[39m])\n\u001b[1;32m----> 5\u001b[0m newarr \u001b[38;5;241m=\u001b[39m arr\u001b[38;5;241m.\u001b[39mreshape(\u001b[38;5;241m3\u001b[39m, \u001b[38;5;241m3\u001b[39m)\n\u001b[0;32m      6\u001b[0m \u001b[38;5;28mprint\u001b[39m(newarr)\n",
      "\u001b[1;31mValueError\u001b[0m: cannot reshape array of size 8 into shape (3,3)"
     ]
    }
   ],
   "source": [
    "import numpy as np\n",
    "\n",
    "arr = np.array([1, 2, 3, 4, 5, 6, 7, 8])\n",
    "\n",
    "newarr = arr.reshape(3, 3)\n",
    "print(newarr)"
   ]
  },
  {
   "cell_type": "code",
   "execution_count": 19,
   "id": "78186bb4-aae1-4da6-a2da-95e57f21355f",
   "metadata": {},
   "outputs": [
    {
     "name": "stdout",
     "output_type": "stream",
     "text": [
      "[[1 2 3 4]\n",
      " [5 6 7 8]]\n"
     ]
    }
   ],
   "source": [
    "import numpy as np            # returned array is a copy or a view:\n",
    "\n",
    "arr = np.array([1, 2, 3, 4, 5, 6, 7, 8])\n",
    "\n",
    "print(arr.reshape(2, 4))"
   ]
  },
  {
   "cell_type": "markdown",
   "id": "07a8cc8a-6e12-4e8a-af34-663f20497795",
   "metadata": {},
   "source": [
    "# ⮩ Unknown Dimension\n",
    "#### _You are allowed to have one \"unknown\" dimension._\n",
    "\n",
    "#### _Meaning that you do not have to specify an exact number for one of the dimensions in the reshape method._\n",
    "\n",
    "#### _Pass -1 as the value, and NumPy will calculate this number for you._"
   ]
  },
  {
   "cell_type": "code",
   "execution_count": 48,
   "id": "17f0b39f-ab43-4565-b5fe-2994ac59235c",
   "metadata": {},
   "outputs": [
    {
     "name": "stdout",
     "output_type": "stream",
     "text": [
      "[[[1 2]\n",
      "  [3 4]]\n",
      "\n",
      " [[5 6]\n",
      "  [7 8]]]\n"
     ]
    }
   ],
   "source": [
    "import numpy as np\n",
    "\n",
    "arr = np.array([1, 2, 3, 4, 5, 6, 7, 8])\n",
    "newarr = arr.reshape(2, 2, -1)\n",
    "print(newarr)"
   ]
  },
  {
   "cell_type": "markdown",
   "id": "fa915edb-e166-4745-b4c6-f8dedee1187e",
   "metadata": {},
   "source": [
    "# ➩ Flattening the arrays\n",
    "#### _Flattening array means converting a multidimensional array into a 1D array._\n",
    "##### _We can use reshape(-1) to do this._"
   ]
  },
  {
   "cell_type": "code",
   "execution_count": 49,
   "id": "5d1e7ae7-f07d-4a8e-96c8-975a33e75773",
   "metadata": {},
   "outputs": [
    {
     "name": "stdout",
     "output_type": "stream",
     "text": [
      "[1 2 3 4 5 6]\n"
     ]
    }
   ],
   "source": [
    "import numpy as np\n",
    "\n",
    "arr = np.array([[1, 2, 3], [4, 5, 6]])\n",
    "newarr = arr.reshape(-1)\n",
    "print(newarr)"
   ]
  },
  {
   "cell_type": "code",
   "execution_count": 20,
   "id": "5c43f925-14ad-4c31-b7e4-f4698aca6e47",
   "metadata": {},
   "outputs": [
    {
     "data": {
      "text/plain": [
       "array([ 1,  2,  3,  4,  5,  6,  7,  8,  9, 10, 11, 12])"
      ]
     },
     "execution_count": 20,
     "metadata": {},
     "output_type": "execute_result"
    }
   ],
   "source": [
    "arr9 = np.array([1, 2, 3, 4, 5, 6, 7, 8, 9, 10, 11, 12])\n",
    "\n",
    "newarray = arr9.reshape(2, 3, 2)\n",
    "\n",
    "arr1d = newarray.flatten()\n",
    "arr1d"
   ]
  },
  {
   "cell_type": "markdown",
   "id": "ab1d4e07-4cb2-4ecd-be99-2236880c343c",
   "metadata": {},
   "source": [
    "# ➩ Iterating Arrays\n",
    "#### _Iterating means going through elements one by one._\n",
    "#### _As we deal with multi-dimensional arrays in numpy, we can do this using basic for loop of python._\n",
    "#### _If we iterate on a 1-D array it will go through each element one by one._"
   ]
  },
  {
   "cell_type": "code",
   "execution_count": 50,
   "id": "9b7186dd-1fb8-4cba-b6d9-812791ef49fb",
   "metadata": {},
   "outputs": [
    {
     "name": "stdout",
     "output_type": "stream",
     "text": [
      "1\n",
      "2\n",
      "3\n"
     ]
    }
   ],
   "source": [
    "import numpy as np\n",
    "\n",
    "arr = np.array([1, 2, 3])\n",
    "\n",
    "for x in arr:\n",
    "    print(x)"
   ]
  },
  {
   "cell_type": "markdown",
   "id": "a3bfcd19-454c-47cd-bba2-0abf43821c7b",
   "metadata": {},
   "source": [
    "# ⮩ Iterating 2-D Arrays\n",
    "#### _In a 2-D array it will go through all the rows._"
   ]
  },
  {
   "cell_type": "code",
   "execution_count": 51,
   "id": "28b8bef4-ed8a-4167-9ebd-1fefc8aaebb0",
   "metadata": {},
   "outputs": [
    {
     "name": "stdout",
     "output_type": "stream",
     "text": [
      "[1 2 3]\n",
      "[4 5 6]\n"
     ]
    }
   ],
   "source": [
    "import numpy as np\n",
    "\n",
    "arr = np.array([[1, 2, 3], [4, 5, 6]])\n",
    "\n",
    "for x in arr:\n",
    "    print(x)"
   ]
  },
  {
   "cell_type": "code",
   "execution_count": 21,
   "id": "758138b1-0d2b-43b5-bb8e-e200f3efd6d5",
   "metadata": {},
   "outputs": [
    {
     "name": "stdout",
     "output_type": "stream",
     "text": [
      "1\n",
      "2\n",
      "3\n",
      "4\n",
      "5\n",
      "6\n"
     ]
    }
   ],
   "source": [
    "import numpy as np\n",
    "\n",
    "arr = np.array([[1, 2, 3], [4, 5, 6]])\n",
    "\n",
    "for x in arr:\n",
    "    for y in x:\n",
    "         print(y)\n"
   ]
  },
  {
   "cell_type": "code",
   "execution_count": 22,
   "id": "b37a41b3-fc29-46b9-8aab-72dc3c92532c",
   "metadata": {},
   "outputs": [
    {
     "name": "stdout",
     "output_type": "stream",
     "text": [
      "[1, 2, 3]\n",
      "[4, 5, 6]\n"
     ]
    }
   ],
   "source": [
    "                                      # 2d array\n",
    "ar = [[1,2,3], [4,5,6]]\n",
    "\n",
    "for i in ar:\n",
    "    print(i)"
   ]
  },
  {
   "cell_type": "markdown",
   "id": "81a4bb28-217a-4dab-ab5d-bc9a72bec690",
   "metadata": {},
   "source": [
    "# ⮩ Iterating 3-D Arrays\n",
    "#### _In a 3-D array it will go through all the 2-D arrays._"
   ]
  },
  {
   "cell_type": "code",
   "execution_count": 23,
   "id": "65b1b5dc-9edd-4025-8ca0-dd890abfcc35",
   "metadata": {},
   "outputs": [
    {
     "name": "stdout",
     "output_type": "stream",
     "text": [
      "[[1 2 3]\n",
      " [4 5 6]]\n",
      "[[ 7  8  9]\n",
      " [10 11 12]]\n"
     ]
    }
   ],
   "source": [
    "import numpy as np\n",
    "\n",
    "arr = np.array([[[1, 2, 3], [4, 5, 6]], [[7, 8, 9], [10, 11, 12]]])\n",
    "\n",
    "for x in arr:\n",
    "    print(x)"
   ]
  },
  {
   "cell_type": "code",
   "execution_count": 24,
   "id": "1b492300-afb5-4e3c-b903-fd67617ce3d1",
   "metadata": {},
   "outputs": [
    {
     "name": "stdout",
     "output_type": "stream",
     "text": [
      "1\n",
      "2\n",
      "3\n",
      "4\n",
      "5\n",
      "6\n",
      "7\n",
      "8\n",
      "9\n",
      "10\n",
      "11\n",
      "12\n"
     ]
    }
   ],
   "source": [
    "arr = np.array([[[1, 2, 3], [4, 5, 6]], [[7, 8, 9], [10, 11, 12]]])\n",
    "\n",
    "for x in arr:\n",
    "    for y in x:\n",
    "        for z in y:\n",
    "            print(z)"
   ]
  },
  {
   "cell_type": "markdown",
   "id": "3eefd75a-9c6a-47ed-8fb4-73b7d563cb3a",
   "metadata": {},
   "source": [
    "# ➩ Iterating Arrays Using nditer()\n",
    "#### _The function __nditer()__ is a helping function that can be used from very basic to very advanced iterations. It solves some basic issues which we face in iteration, lets go through it with examples.\n",
    "\n",
    "# ⮩  Iterating on Each Scalar Element\n",
    "#### _In basic for loops, iterating through each scalar of an array we need to use n for loops which can be difficult to write for arrays with very high dimensionality._"
   ]
  },
  {
   "cell_type": "code",
   "execution_count": 22,
   "id": "3afd993e-afea-40cd-8af2-61575f7fb4d4",
   "metadata": {},
   "outputs": [
    {
     "name": "stdout",
     "output_type": "stream",
     "text": [
      "1\n",
      "2\n",
      "3\n",
      "4\n",
      "5\n",
      "6\n",
      "7\n",
      "8\n"
     ]
    }
   ],
   "source": [
    "arr = np.array([[[1, 2], [3, 4]], [[5, 6], [7, 8]]])\n",
    "\n",
    "for x in np.nditer(arr):\n",
    "    print(x)"
   ]
  },
  {
   "cell_type": "code",
   "execution_count": 55,
   "id": "df8bf5d0-0841-49ec-943b-7d1c074eb4a8",
   "metadata": {},
   "outputs": [
    {
     "name": "stdout",
     "output_type": "stream",
     "text": [
      "1\n",
      "2\n",
      "3\n",
      "4\n",
      "5\n",
      "6\n",
      "7\n",
      "8\n"
     ]
    }
   ],
   "source": [
    "import numpy as np\n",
    "\n",
    "arr = np.array([[[1, 2], [3, 4]], [[5, 6], [7, 8]]])\n",
    "\n",
    "for x in np.nditer(arr):\n",
    "    print(x)"
   ]
  },
  {
   "cell_type": "markdown",
   "id": "75c54c51-f9ee-44d1-9535-0e7883fb0425",
   "metadata": {},
   "source": [
    "# ➩  Iterating Array With Different Data Types\n",
    "#### _We can use op_dtypes argument and pass it the expected datatype to change the datatype of elements while iterating._\n",
    "#### _NumPy does not change the data type of the element in-place (where the element is in array) so it needs some other space to perform this action, that extra space is called buffer, and in order to enable it in nditer() we pass flags=['buffered']._"
   ]
  },
  {
   "cell_type": "code",
   "execution_count": 25,
   "id": "6c534333-52fb-441c-ba45-1fb076a125c5",
   "metadata": {},
   "outputs": [
    {
     "name": "stdout",
     "output_type": "stream",
     "text": [
      "b'1'\n",
      "b'2'\n",
      "b'3'\n"
     ]
    }
   ],
   "source": [
    "import numpy as np\n",
    "\n",
    "arr = np.array([1, 2, 3])\n",
    "\n",
    "for x in np.nditer(arr, flags=['buffered'], op_dtypes=['S']):\n",
    "    print(x)"
   ]
  },
  {
   "cell_type": "markdown",
   "id": "3ea71b89-7518-46d4-b93d-400325307dbd",
   "metadata": {},
   "source": [
    "# ➩ Iterating With Different Step Size\n",
    "#### _We can use filtering and followed by iteration._"
   ]
  },
  {
   "cell_type": "code",
   "execution_count": 48,
   "id": "38818c9e-425d-49fc-bb53-ea5d433b009a",
   "metadata": {},
   "outputs": [
    {
     "data": {
      "text/plain": [
       "[1, 2, 3, 4, 5, 6, 7]"
      ]
     },
     "execution_count": 48,
     "metadata": {},
     "output_type": "execute_result"
    }
   ],
   "source": [
    "[i for i in range(1,8)]      # comprehnsion"
   ]
  },
  {
   "cell_type": "code",
   "execution_count": 57,
   "id": "0fd40679-93a7-4d32-84c5-5dd0b1e29596",
   "metadata": {},
   "outputs": [
    {
     "name": "stdout",
     "output_type": "stream",
     "text": [
      "1\n",
      "3\n",
      "5\n",
      "7\n"
     ]
    }
   ],
   "source": [
    "import numpy as np\n",
    "\n",
    "arr = np.array([[1, 2, 3, 4], [5, 6, 7, 8]])\n",
    "\n",
    "for x in np.nditer(arr[:, ::2]):\n",
    "    print(x)"
   ]
  },
  {
   "cell_type": "markdown",
   "id": "6192983b-f1b7-495d-8665-257986be3ccd",
   "metadata": {},
   "source": [
    "# ➩ Enumerated Iteration Using ndenumerate()\n",
    "#### _Enumeration means mentioning sequence number of somethings one by one._\n",
    "#### _Sometimes we require corresponding index of the element while iterating, the __ndenumerate() method__ can be used for those usecases._"
   ]
  },
  {
   "cell_type": "code",
   "execution_count": 58,
   "id": "81d55588-94aa-4260-99cc-b3085f8e6f25",
   "metadata": {},
   "outputs": [
    {
     "name": "stdout",
     "output_type": "stream",
     "text": [
      "(0,) 1\n",
      "(1,) 2\n",
      "(2,) 3\n"
     ]
    }
   ],
   "source": [
    "import numpy as np     # 1D ARRAY\n",
    "\n",
    "arr = np.array([1, 2, 3])\n",
    "\n",
    "for idx, x in np.ndenumerate(arr):\n",
    "    print(idx, x)"
   ]
  },
  {
   "cell_type": "code",
   "execution_count": 59,
   "id": "0e5ba55f-02cd-4d0d-bd9d-a5c50bf9c2f0",
   "metadata": {},
   "outputs": [
    {
     "name": "stdout",
     "output_type": "stream",
     "text": [
      "(0, 0) 1\n",
      "(0, 1) 2\n",
      "(0, 2) 3\n",
      "(0, 3) 4\n",
      "(1, 0) 5\n",
      "(1, 1) 6\n",
      "(1, 2) 7\n",
      "(1, 3) 8\n"
     ]
    }
   ],
   "source": [
    "import numpy as np    # 2D ARRAY\n",
    "\n",
    "arr = np.array([[1, 2, 3, 4], [5, 6, 7, 8]])\n",
    "\n",
    "for idx, x in np.ndenumerate(arr):\n",
    "  print(idx, x)\n"
   ]
  },
  {
   "cell_type": "markdown",
   "id": "c2dfb74f-0e9a-459f-8a83-5cb5d1f8867c",
   "metadata": {},
   "source": [
    "# ➩➩➩  Joining NumPy Arrays\n",
    "#### _Joining means putting contents of two or more arrays in a single array._\n",
    "### _In SQL we join tables based on a key, whereas in NumPy we join arrays by axes._\n",
    "\n",
    "#### _We pass a sequence of arrays that we want to join to the  concatenate() function, along with the axis. If axis is not explicitly passed, it is taken as 0._\n",
    "\n",
    "# ⮩ concatenate() function"
   ]
  },
  {
   "cell_type": "code",
   "execution_count": 23,
   "id": "4a394dd5-be6a-49b8-9090-c90a39ab07c0",
   "metadata": {},
   "outputs": [
    {
     "data": {
      "text/plain": [
       "array([1, 2, 3, 4, 5, 6])"
      ]
     },
     "execution_count": 23,
     "metadata": {},
     "output_type": "execute_result"
    }
   ],
   "source": [
    "arr1 = np.array([1, 2, 3])\n",
    "arr2 = np.array([4, 5, 6])\n",
    "\n",
    "arr = np.concatenate((arr1, arr2))\n",
    "arr"
   ]
  },
  {
   "cell_type": "code",
   "execution_count": 60,
   "id": "d9066cb4-23af-4991-b87b-da24e72427d0",
   "metadata": {},
   "outputs": [
    {
     "name": "stdout",
     "output_type": "stream",
     "text": [
      "[1 2 3 4 5 6]\n"
     ]
    }
   ],
   "source": [
    "import numpy as np\n",
    "\n",
    "arr1 = np.array([1, 2, 3])\n",
    "arr2 = np.array([4, 5, 6])\n",
    "arr = np.concatenate((arr1, arr2))\n",
    "\n",
    "print(arr)"
   ]
  },
  {
   "cell_type": "code",
   "execution_count": 61,
   "id": "0064f8f2-3d85-44d0-8e48-811f130f15f4",
   "metadata": {},
   "outputs": [
    {
     "name": "stdout",
     "output_type": "stream",
     "text": [
      "[[1 2 5 6]\n",
      " [3 4 7 8]]\n"
     ]
    }
   ],
   "source": [
    "import numpy as np               # Join two 2-D arrays along rows (axis=1):\n",
    "\n",
    "arr1 = np.array([[1, 2], [3, 4]])\n",
    "arr2 = np.array([[5, 6], [7, 8]])\n",
    "arr = np.concatenate((arr1, arr2), axis=1)\n",
    "\n",
    "print(arr)"
   ]
  },
  {
   "cell_type": "code",
   "execution_count": 24,
   "id": "0d79ecf5-fa9d-44dc-9214-a3c1d30bbe0c",
   "metadata": {},
   "outputs": [
    {
     "name": "stdout",
     "output_type": "stream",
     "text": [
      "[[1 2]\n",
      " [3 4]\n",
      " [5 6]\n",
      " [7 8]]\n"
     ]
    }
   ],
   "source": [
    "arr1 = np.array([[1, 2], [3, 4]])\n",
    "arr2 = np.array([[5, 6], [7, 8]])\n",
    "\n",
    "arr = np.concatenate((arr1, arr2), axis=0)\n",
    "\n",
    "print(arr)"
   ]
  },
  {
   "cell_type": "markdown",
   "id": "a2f628f3-9089-4baa-ae95-6fbc390deac5",
   "metadata": {},
   "source": [
    "# ➩ Joining Arrays Using Stack Functions\n",
    "#### _Stacking is same as concatenation, the only difference is that stacking is done along a new axis._\n",
    "#### _We can concatenate two 1-D arrays along the second axis which would result in putting them one over the other, ie. stacking._\n",
    "#### _We pass a sequence of arrays that we want to join to the stack() method along with the axis. If axis is not explicitly passed it is taken as 0._"
   ]
  },
  {
   "cell_type": "code",
   "execution_count": 2,
   "id": "25e705a1-6989-4366-8caa-a708b35a800a",
   "metadata": {},
   "outputs": [
    {
     "name": "stdout",
     "output_type": "stream",
     "text": [
      "[[1 4]\n",
      " [2 5]\n",
      " [3 6]]\n"
     ]
    }
   ],
   "source": [
    "import numpy as np\n",
    "\n",
    "arr1 = np.array([1, 2, 3])\n",
    "arr2 = np.array([4, 5, 6])\n",
    "arr = np.stack((arr1, arr2), axis=1)\n",
    "\n",
    "print(arr)"
   ]
  },
  {
   "cell_type": "markdown",
   "id": "ec27a297-9fd9-4fa4-a3d2-1efcd00db510",
   "metadata": {},
   "source": [
    "# ⮩  Stacking Along Rows\n",
    "#### _NumPy provides a helper function: hstack() to stack along rows._"
   ]
  },
  {
   "cell_type": "code",
   "execution_count": 63,
   "id": "eec953fb-0d80-4d90-819a-578577650481",
   "metadata": {},
   "outputs": [
    {
     "name": "stdout",
     "output_type": "stream",
     "text": [
      "[1 2 3 4 5 6]\n"
     ]
    }
   ],
   "source": [
    "import numpy as np\n",
    "\n",
    "arr1 = np.array([1, 2, 3])\n",
    "arr2 = np.array([4, 5, 6])\n",
    "arr = np.hstack((arr1, arr2))\n",
    "\n",
    "print(arr)"
   ]
  },
  {
   "cell_type": "markdown",
   "id": "ad10d4d0-60e9-48c8-a11b-9d90f61090ea",
   "metadata": {},
   "source": [
    "# ⮩  Stacking Along Columns\n",
    "#### _NumPy provides a helper function : __vstack()__  to stack along columns._"
   ]
  },
  {
   "cell_type": "code",
   "execution_count": 65,
   "id": "42b4f4eb-5979-41aa-8f6c-357ee8b6a334",
   "metadata": {},
   "outputs": [
    {
     "name": "stdout",
     "output_type": "stream",
     "text": [
      "[[1 2 3]\n",
      " [4 5 6]]\n"
     ]
    }
   ],
   "source": [
    "import numpy as np\n",
    "\n",
    "arr1 = np.array([1, 2, 3])\n",
    "arr2 = np.array([4, 5, 6])\n",
    "arr = np.vstack((arr1, arr2))\n",
    "\n",
    "print(arr)"
   ]
  },
  {
   "cell_type": "markdown",
   "id": "e5be0501-362c-4c63-b9f5-67e1dcfb5df4",
   "metadata": {},
   "source": [
    "# ⮩  Stacking Along Height (depth)\n",
    "#### _NumPy provides a helper function : __dstack()__ to stack along height, which is the same as depth._"
   ]
  },
  {
   "cell_type": "code",
   "execution_count": 66,
   "id": "905990e1-1fef-4193-8488-dcc5450318b2",
   "metadata": {},
   "outputs": [
    {
     "name": "stdout",
     "output_type": "stream",
     "text": [
      "[[[1 4]\n",
      "  [2 5]\n",
      "  [3 6]]]\n"
     ]
    }
   ],
   "source": [
    "import numpy as np\n",
    "\n",
    "arr1 = np.array([1, 2, 3])\n",
    "arr2 = np.array([4, 5, 6])\n",
    "arr = np.dstack((arr1, arr2))\n",
    "\n",
    "print(arr)"
   ]
  },
  {
   "cell_type": "markdown",
   "id": "ac15b519-75d8-4e60-bb61-6170514ede25",
   "metadata": {},
   "source": [
    "# ➩ Splitting NumPy Arrays\n",
    "#### _Splitting is reverse operation of Joining._\n",
    "#### _Joining merges multiple arrays into one and Splitting breaks one array into multiple._\n",
    "#### _We use __array_split()__ for splitting arrays, we pass it the array we want to split and the number of splits._"
   ]
  },
  {
   "cell_type": "code",
   "execution_count": 67,
   "id": "4fdc6982-1fb3-4382-88c5-41484640da97",
   "metadata": {},
   "outputs": [
    {
     "name": "stdout",
     "output_type": "stream",
     "text": [
      "[array([1, 2]), array([3, 4]), array([5, 6])]\n"
     ]
    }
   ],
   "source": [
    "import numpy as np     # Split the array in 3 parts:\n",
    "\n",
    "arr = np.array([1, 2, 3, 4, 5, 6])\n",
    "\n",
    "newarr = np.array_split(arr, 3)\n",
    "\n",
    "print(newarr)"
   ]
  },
  {
   "cell_type": "code",
   "execution_count": 68,
   "id": "e98ac031-dc8b-4d27-83e9-c68c78758e99",
   "metadata": {},
   "outputs": [
    {
     "name": "stdout",
     "output_type": "stream",
     "text": [
      "[array([1, 2]), array([3, 4]), array([5]), array([6])]\n"
     ]
    }
   ],
   "source": [
    "import numpy as np               # Split the array in 4 parts:\n",
    "\n",
    "arr = np.array([1, 2, 3, 4, 5, 6])\n",
    "\n",
    "newarr = np.array_split(arr, 4)\n",
    "\n",
    "print(newarr)"
   ]
  },
  {
   "cell_type": "markdown",
   "id": "ac4024a5-999d-42d9-8ed5-bb96bdfc6dce",
   "metadata": {},
   "source": [
    "# ⮩ Split Into Arrays\n",
    "#### _The return value of the array_split() method is an array containing each of the split as an array._\n",
    "#### _If you split an array into 3 arrays, you can access them from the result just like any array element :_"
   ]
  },
  {
   "cell_type": "code",
   "execution_count": 69,
   "id": "a12baefd-4d4f-49d7-ac99-90219fe75ff5",
   "metadata": {},
   "outputs": [
    {
     "name": "stdout",
     "output_type": "stream",
     "text": [
      "[1 2]\n",
      "[3 4]\n",
      "[5 6]\n"
     ]
    }
   ],
   "source": [
    "import numpy as np\n",
    "\n",
    "arr = np.array([1, 2, 3, 4, 5, 6])\n",
    "\n",
    "newarr = np.array_split(arr, 3)\n",
    "\n",
    "print(newarr[0])\n",
    "print(newarr[1])\n",
    "print(newarr[2])"
   ]
  },
  {
   "cell_type": "markdown",
   "id": "955006e3-0f83-4ab4-a26b-6e1ffb598a56",
   "metadata": {},
   "source": [
    "# ⮩  Splitting 2-D Arrays\n",
    "#### _Use the same syntax when splitting 2-D arrays._\n",
    "#### _Use the __array_split()__ method, pass in the array you want to split and the number of splits you want to do._"
   ]
  },
  {
   "cell_type": "code",
   "execution_count": 70,
   "id": "856557f0-1deb-4c10-a422-8b010548dea3",
   "metadata": {},
   "outputs": [
    {
     "name": "stdout",
     "output_type": "stream",
     "text": [
      "[array([[1, 2],\n",
      "       [3, 4]]), array([[5, 6],\n",
      "       [7, 8]]), array([[ 9, 10],\n",
      "       [11, 12]])]\n"
     ]
    }
   ],
   "source": [
    "import numpy as np\n",
    "\n",
    "arr = np.array([[1, 2], [3, 4], [5, 6], [7, 8], [9, 10], [11, 12]])\n",
    "newarr = np.array_split(arr, 3)\n",
    "\n",
    "print(newarr)"
   ]
  },
  {
   "cell_type": "code",
   "execution_count": 71,
   "id": "68920cc9-31a1-49ad-9bcd-15b063392f71",
   "metadata": {},
   "outputs": [
    {
     "name": "stdout",
     "output_type": "stream",
     "text": [
      "[array([[1, 2, 3],\n",
      "       [4, 5, 6]]), array([[ 7,  8,  9],\n",
      "       [10, 11, 12]]), array([[13, 14, 15],\n",
      "       [16, 17, 18]])]\n"
     ]
    }
   ],
   "source": [
    "import numpy as np\n",
    "\n",
    "arr = np.array([[1, 2, 3], [4, 5, 6], [7, 8, 9], [10, 11, 12], [13, 14, 15], [16, 17, 18]])\n",
    "newarr = np.array_split(arr, 3)\n",
    "\n",
    "print(newarr)"
   ]
  },
  {
   "cell_type": "code",
   "execution_count": 72,
   "id": "0a471961-ede8-431e-8549-f3ae5e674a2e",
   "metadata": {},
   "outputs": [
    {
     "name": "stdout",
     "output_type": "stream",
     "text": [
      "[array([[ 1],\n",
      "       [ 4],\n",
      "       [ 7],\n",
      "       [10],\n",
      "       [13],\n",
      "       [16]]), array([[ 2],\n",
      "       [ 5],\n",
      "       [ 8],\n",
      "       [11],\n",
      "       [14],\n",
      "       [17]]), array([[ 3],\n",
      "       [ 6],\n",
      "       [ 9],\n",
      "       [12],\n",
      "       [15],\n",
      "       [18]])]\n"
     ]
    }
   ],
   "source": [
    "# Split the 2-D array into three 2-D arrays along columns.\n",
    "\n",
    "import numpy as np\n",
    "\n",
    "arr = np.array([[1, 2, 3], [4, 5, 6], [7, 8, 9], [10, 11, 12], [13, 14, 15], [16, 17, 18]])\n",
    "newarr = np.array_split(arr, 3, axis=1)\n",
    "print(newarr)"
   ]
  },
  {
   "cell_type": "markdown",
   "id": "88cdb13f-61be-42b4-afa9-934b640df5b7",
   "metadata": {},
   "source": [
    "# ➩ An alternate solution is using hsplit() opposite of hstack()\n",
    "### _Use the __hsplit()__ method to split the __2-D array__ into __three 2-D arrays__ along columns._"
   ]
  },
  {
   "cell_type": "code",
   "execution_count": 73,
   "id": "c0b56dd4-24d4-42c6-b026-17493e1cf146",
   "metadata": {},
   "outputs": [
    {
     "name": "stdout",
     "output_type": "stream",
     "text": [
      "[array([[ 1],\n",
      "       [ 4],\n",
      "       [ 7],\n",
      "       [10],\n",
      "       [13],\n",
      "       [16]]), array([[ 2],\n",
      "       [ 5],\n",
      "       [ 8],\n",
      "       [11],\n",
      "       [14],\n",
      "       [17]]), array([[ 3],\n",
      "       [ 6],\n",
      "       [ 9],\n",
      "       [12],\n",
      "       [15],\n",
      "       [18]])]\n"
     ]
    }
   ],
   "source": [
    "import numpy as np\n",
    "\n",
    "arr = np.array([[1, 2, 3], [4, 5, 6], [7, 8, 9], [10, 11, 12], [13, 14, 15], [16, 17, 18]])\n",
    "newarr = np.hsplit(arr, 3)\n",
    "print(newarr)"
   ]
  },
  {
   "cell_type": "markdown",
   "id": "e1b71916-469b-40ec-b7a8-74ecbdfe93bd",
   "metadata": {},
   "source": [
    "#### __Note :__ Similar alternates to __vstack()__ and __dstack()__ are available as __vsplit()__ and __dsplit()__."
   ]
  },
  {
   "cell_type": "markdown",
   "id": "eb74026a-8ef8-4f14-bb31-165cf7ed0240",
   "metadata": {},
   "source": [
    "# ➩➩➩ Searching Arrays\n",
    "#### _You can search an array for a certain value, and return the indexes that get a match._\n",
    "#### _To search an array, use the __where()__ method._"
   ]
  },
  {
   "cell_type": "code",
   "execution_count": 28,
   "id": "c9e7ed59-faee-4a0d-b228-a748b75eb5c1",
   "metadata": {},
   "outputs": [
    {
     "name": "stdout",
     "output_type": "stream",
     "text": [
      "(array([3, 5, 6], dtype=int64),)\n"
     ]
    }
   ],
   "source": [
    "import numpy as np                # Find the indexes where the value is 4:\n",
    "\n",
    "arr = np.array([1, 2, 3, 4, 5, 4, 4])\n",
    "x = np.where(arr == 4)\n",
    "print(x)"
   ]
  },
  {
   "cell_type": "code",
   "execution_count": 27,
   "id": "66040ad3-c3a8-4fc1-9a7b-bae711334f5e",
   "metadata": {},
   "outputs": [
    {
     "name": "stdout",
     "output_type": "stream",
     "text": [
      "(array([1, 3, 5, 7], dtype=int64),)\n"
     ]
    }
   ],
   "source": [
    "                                             # Find the indexes where the values are even:\n",
    "arr = np.array([1, 2, 3, 4, 5, 6, 7, 8])\n",
    "x = np.where(arr%2 == 0)\n",
    "\n",
    "print(x)"
   ]
  },
  {
   "cell_type": "code",
   "execution_count": 26,
   "id": "8c4ddfc4-b380-4f86-9cc0-2150430caaf1",
   "metadata": {},
   "outputs": [
    {
     "name": "stdout",
     "output_type": "stream",
     "text": [
      "(array([0, 2, 4, 6], dtype=int64),)\n"
     ]
    }
   ],
   "source": [
    "                                             # Find the indexes where the values are odd:\n",
    "arr = np.array([1, 2, 3, 4, 5, 6, 7, 8])\n",
    "x = np.where(arr%2 == 1)\n",
    "\n",
    "print(x)"
   ]
  },
  {
   "cell_type": "code",
   "execution_count": 25,
   "id": "20caeaa6-64de-4876-af6f-3096dc1ba76d",
   "metadata": {},
   "outputs": [
    {
     "name": "stdout",
     "output_type": "stream",
     "text": [
      "(array([3, 5, 6], dtype=int64),)\n"
     ]
    }
   ],
   "source": [
    "arr = np.array([1, 2, 3, 4, 5, 4, 4])\n",
    "x = np.where(arr == 4)\n",
    "\n",
    "print(x)"
   ]
  },
  {
   "cell_type": "code",
   "execution_count": 29,
   "id": "f45f2fcc-fb53-471b-af73-0a190e7a7ea8",
   "metadata": {},
   "outputs": [
    {
     "data": {
      "text/plain": [
       "(array([1], dtype=int64),)"
      ]
     },
     "execution_count": 29,
     "metadata": {},
     "output_type": "execute_result"
    }
   ],
   "source": [
    "np.where(arr==2)"
   ]
  },
  {
   "cell_type": "markdown",
   "id": "9eca2934-026c-4300-9b14-f684344cfbd4",
   "metadata": {},
   "source": [
    "# ➩➩➩ Sorting Arrays\n",
    "#### _Sorting means putting elements in an ordered sequence._\n",
    "#### _Ordered sequence is any sequence that has an order corresponding to elements, like numeric or alphabetical, ascending or descending._\n",
    "#### _The NumPy ndarray object has a function called __sort()__ , that will sort a specified array._"
   ]
  },
  {
   "cell_type": "code",
   "execution_count": 36,
   "id": "e2e47909-7112-4888-a66f-9e9ec6cc68d5",
   "metadata": {},
   "outputs": [
    {
     "name": "stdout",
     "output_type": "stream",
     "text": [
      "[0 1 2 3]\n"
     ]
    }
   ],
   "source": [
    "import numpy as np\n",
    "\n",
    "arr1 = np.array([3, 2, 0, 1])\n",
    "print(np.sort(arr1))"
   ]
  },
  {
   "cell_type": "code",
   "execution_count": 37,
   "id": "d6c8a4fa-19aa-40b0-bf47-d9e68675ce13",
   "metadata": {},
   "outputs": [
    {
     "data": {
      "text/plain": [
       "0"
      ]
     },
     "execution_count": 37,
     "metadata": {},
     "output_type": "execute_result"
    }
   ],
   "source": [
    "np.min(arr1)"
   ]
  },
  {
   "cell_type": "code",
   "execution_count": 38,
   "id": "7ff3faf3-6d05-4da6-a48c-556d0f7b61df",
   "metadata": {},
   "outputs": [
    {
     "data": {
      "text/plain": [
       "3"
      ]
     },
     "execution_count": 38,
     "metadata": {},
     "output_type": "execute_result"
    }
   ],
   "source": [
    "np.max(arr1)"
   ]
  },
  {
   "cell_type": "code",
   "execution_count": 40,
   "id": "234d0d61-53dd-493b-b167-b3ef76d3df30",
   "metadata": {},
   "outputs": [
    {
     "data": {
      "text/plain": [
       "1.5"
      ]
     },
     "execution_count": 40,
     "metadata": {},
     "output_type": "execute_result"
    }
   ],
   "source": [
    "np.mean(arr1)"
   ]
  },
  {
   "cell_type": "code",
   "execution_count": 41,
   "id": "40ee2e5f-f7cb-437e-843d-ff687320cfec",
   "metadata": {},
   "outputs": [
    {
     "data": {
      "text/plain": [
       "6"
      ]
     },
     "execution_count": 41,
     "metadata": {},
     "output_type": "execute_result"
    }
   ],
   "source": [
    "np.sum(arr1)"
   ]
  },
  {
   "cell_type": "code",
   "execution_count": 42,
   "id": "951e64e8-5675-4ddd-998c-b22bdcc9ff7a",
   "metadata": {},
   "outputs": [
    {
     "data": {
      "text/plain": [
       "0"
      ]
     },
     "execution_count": 42,
     "metadata": {},
     "output_type": "execute_result"
    }
   ],
   "source": [
    "np.prod(arr1)"
   ]
  },
  {
   "cell_type": "code",
   "execution_count": 35,
   "id": "0ad93323-dda5-4f7e-81c4-a94b4f60ea2a",
   "metadata": {},
   "outputs": [
    {
     "name": "stdout",
     "output_type": "stream",
     "text": [
      "['apple' 'banana' 'cherry']\n"
     ]
    }
   ],
   "source": [
    "import numpy as np               # sorting strings\n",
    "\n",
    "arr2 = np.array(['banana', 'cherry', 'apple'])\n",
    "print(np.sort(arr2))"
   ]
  },
  {
   "cell_type": "code",
   "execution_count": 34,
   "id": "55e60d0d-4a18-4bfb-a568-c1f2095f361c",
   "metadata": {},
   "outputs": [
    {
     "name": "stdout",
     "output_type": "stream",
     "text": [
      "[False  True  True]\n"
     ]
    }
   ],
   "source": [
    "import numpy as np              # sorting boolean\n",
    "\n",
    "arr3 = np.array([True, False, True])\n",
    "print(np.sort(arr3))"
   ]
  },
  {
   "cell_type": "code",
   "execution_count": 33,
   "id": "bb19659e-91db-4f41-a4ab-0397820d6b2a",
   "metadata": {},
   "outputs": [
    {
     "data": {
      "text/plain": [
       "array([[4, 5, 6],\n",
       "       [7, 8, 9]])"
      ]
     },
     "execution_count": 33,
     "metadata": {},
     "output_type": "execute_result"
    }
   ],
   "source": [
    "lst1 = np.array([4,5,6,7,8,9])\n",
    "arrr = np.array([[4,5,6],[7,9,8]])\n",
    "\n",
    "lst1.sort()\n",
    "np.sort(arrr)"
   ]
  },
  {
   "cell_type": "markdown",
   "id": "81d76b80-9cf0-4e73-a1e8-17ca4039be43",
   "metadata": {},
   "source": [
    "# ⮩  Sorting a 2-D Array\n",
    "#### _If you use the __sort()__ method on a 2-D array, both arrays will be sorted :_"
   ]
  },
  {
   "cell_type": "code",
   "execution_count": 80,
   "id": "8f61e5f0-c2cf-4424-bca1-ed2ea607769b",
   "metadata": {},
   "outputs": [
    {
     "name": "stdout",
     "output_type": "stream",
     "text": [
      "[[2 3 4]\n",
      " [0 1 5]]\n"
     ]
    }
   ],
   "source": [
    "import numpy as np\n",
    "\n",
    "arr = np.array([[3, 2, 4], [5, 0, 1]])\n",
    "print(np.sort(arr))"
   ]
  },
  {
   "cell_type": "markdown",
   "id": "b029197b-87d9-42c4-bc2c-23424bb3a6e0",
   "metadata": {},
   "source": [
    "# ➩ Filtering Arrays\n",
    "#### _Getting some elements out of an existing array and creating a new array out of them is called filtering._\n",
    "#### _In NumPy, you filter an array using a boolean index list._\n",
    "#### _--> If the value at an index is __True__ that element is contained in the filtered array,_  \n",
    "#### _--> if the value at that index is __False__ that element is excluded from the filtered array._"
   ]
  },
  {
   "cell_type": "code",
   "execution_count": 81,
   "id": "be015918-7d40-4287-9677-4f3b239e83e2",
   "metadata": {},
   "outputs": [
    {
     "name": "stdout",
     "output_type": "stream",
     "text": [
      "[41 43]\n"
     ]
    }
   ],
   "source": [
    "import numpy as np\n",
    "\n",
    "arr = np.array([41, 42, 43, 44])\n",
    "x = [True, False, True, False]\n",
    "newarr = arr[x]\n",
    "\n",
    "print(newarr)"
   ]
  },
  {
   "cell_type": "markdown",
   "id": "30574598-b088-4d94-90d1-a86b3bd74986",
   "metadata": {},
   "source": [
    "# ⮩ Search Sorted\n",
    "### _There is a method called __searchsorted()__ which performs a binary search in the array, and returns the index where the specified value would be inserted to maintain the search order._"
   ]
  },
  {
   "cell_type": "code",
   "execution_count": 45,
   "id": "772bbfba-9594-4057-ba80-0a02246bf90c",
   "metadata": {},
   "outputs": [
    {
     "name": "stdout",
     "output_type": "stream",
     "text": [
      "1\n"
     ]
    }
   ],
   "source": [
    "import numpy as np\n",
    "\n",
    "arr = np.array([6, 7, 8, 9])\n",
    "x = np.searchsorted(arr, 7)\n",
    "\n",
    "print(x)"
   ]
  },
  {
   "cell_type": "markdown",
   "id": "57131cb7-6c5e-486e-8bf2-0a32bcbe6f43",
   "metadata": {},
   "source": [
    "# ⮩ Search From the Right Side\n",
    "#### _By default the left most index is returned, but we can give __side = 'right'__ to return the right most index instead_."
   ]
  },
  {
   "cell_type": "code",
   "execution_count": 46,
   "id": "6edbce88-225b-4508-8217-064f15406c27",
   "metadata": {},
   "outputs": [
    {
     "name": "stdout",
     "output_type": "stream",
     "text": [
      "2\n"
     ]
    }
   ],
   "source": [
    "import numpy as np\n",
    "\n",
    "arr = np.array([6, 7, 8, 9])\n",
    "x = np.searchsorted(arr, 7, side='right')\n",
    "print(x)"
   ]
  },
  {
   "cell_type": "code",
   "execution_count": 47,
   "id": "995b87cf-10cf-47c8-91ee-6abe998058fd",
   "metadata": {},
   "outputs": [
    {
     "name": "stdout",
     "output_type": "stream",
     "text": [
      "[1 2 3]\n"
     ]
    }
   ],
   "source": [
    "import numpy as np           # Multiple Values\n",
    "\n",
    "arr = np.array([1, 3, 5, 7])\n",
    "x = np.searchsorted(arr, [2, 4, 6])\n",
    "\n",
    "print(x)"
   ]
  },
  {
   "cell_type": "markdown",
   "id": "6e7cb331-78ea-4d18-960b-19ba25fd969e",
   "metadata": {},
   "source": [
    "# ➩ Create a filter array that will return only values higher than 42 :"
   ]
  },
  {
   "cell_type": "code",
   "execution_count": 82,
   "id": "bbc20b3e-dc93-430c-ba7f-82cd58dd8dff",
   "metadata": {},
   "outputs": [
    {
     "name": "stdout",
     "output_type": "stream",
     "text": [
      "[False, False, True, True]\n",
      "[43 44]\n"
     ]
    }
   ],
   "source": [
    "import numpy as np\n",
    "\n",
    "arr = np.array([41, 42, 43, 44])\n",
    "                                      # Create an empty list\n",
    "filter_arr = []\n",
    "                                   # go through each element in arr\n",
    "for element in arr:\n",
    "                               # if the element is higher than 42, set the value to True, otherwise False:\n",
    "  if element > 42:\n",
    "    filter_arr.append(True)\n",
    "  else:\n",
    "    filter_arr.append(False)\n",
    "\n",
    "newarr = arr[filter_arr]\n",
    "\n",
    "print(filter_arr)\n",
    "print(newarr)"
   ]
  },
  {
   "cell_type": "code",
   "execution_count": null,
   "id": "74cbab27-6e2a-4a57-b4b2-3e5b3974d03c",
   "metadata": {},
   "outputs": [],
   "source": [
    "import numpy as np\n",
    "\n",
    "arr = np.array([1, 2, 3, 4, 5, 6, 7])\n",
    "                    # Create an empty list\n",
    "filter_arr = []\n",
    "                    # go through each element in arr\n",
    "for element in arr:\n",
    "                       # if the element is completely divisble by 2, set the value to True, otherwise False\n",
    "  if element % 2 == 0:\n",
    "    filter_arr.append(True)\n",
    "  else:\n",
    "    filter_arr.append(False)\n",
    "\n",
    "newarr = arr[filter_arr]\n",
    "\n",
    "print(filter_arr)\n",
    "print(newarr)"
   ]
  },
  {
   "cell_type": "markdown",
   "id": "023f836b-0b57-4135-934c-3ee62aa17ee3",
   "metadata": {},
   "source": [
    "# ➩ Calculating Mean and Standard Deviation :"
   ]
  },
  {
   "cell_type": "code",
   "execution_count": 1,
   "id": "5d394f7a-852b-4abd-8742-eaa14454f73f",
   "metadata": {},
   "outputs": [
    {
     "name": "stdout",
     "output_type": "stream",
     "text": [
      "Mean: 13.0\n",
      "Standard Deviation: 2.0\n"
     ]
    }
   ],
   "source": [
    "import numpy as np\n",
    "\n",
    "data = [10, 12, 15, 11, 13, 16, 14]\n",
    "\n",
    "mean_value = np.mean(data)\n",
    "std_dev = np.std(data)\n",
    "\n",
    "print(f\"Mean: {mean_value}\")\n",
    "print(f\"Standard Deviation: {std_dev}\")"
   ]
  },
  {
   "cell_type": "code",
   "execution_count": null,
   "id": "1f2437d4-5d39-4b6e-ad1c-ecdf74c1edfc",
   "metadata": {},
   "outputs": [],
   "source": []
  }
 ],
 "metadata": {
  "kernelspec": {
   "display_name": "Python 3 (ipykernel)",
   "language": "python",
   "name": "python3"
  },
  "language_info": {
   "codemirror_mode": {
    "name": "ipython",
    "version": 3
   },
   "file_extension": ".py",
   "mimetype": "text/x-python",
   "name": "python",
   "nbconvert_exporter": "python",
   "pygments_lexer": "ipython3",
   "version": "3.12.7"
  }
 },
 "nbformat": 4,
 "nbformat_minor": 5
}
