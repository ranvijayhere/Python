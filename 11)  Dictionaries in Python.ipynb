{
 "cells": [
  {
   "cell_type": "markdown",
   "id": "42c27af2-b475-46ca-833b-1a01a9d1df77",
   "metadata": {},
   "source": [
    " # __11)   Dictionaries in Python__\n",
    "### _Dictionaries are used to store data values in __key : value pairs__._\n",
    "\n",
    "### _A dictionary is a collection which is __ordered *, changeable and do not allow duplicates__._\n",
    "\n",
    "#### _As of Python version 3.7, dictionaries are ordered. In Python 3.6 and earlier, dictionaries are unordered._\n",
    "\n",
    "### _Dictionaries are written with __curly brackets, and have keys and values__:_"
   ]
  },
  {
   "cell_type": "markdown",
   "id": "b9f4c3f3-1c23-4314-b70e-838265f920dc",
   "metadata": {},
   "source": [
    "# Python Collections (Arrays)\n",
    "\n",
    "#### There are four collection data types in the Python programming language :\n",
    "\n",
    "#### _1 .  List is a collection which is ordered and changeable. Allows duplicate members._  \n",
    "#### _2 .  Tuple is a collection which is ordered and unchangeable. Allows duplicate members._  \n",
    "#### _3 .  Set is a collection which is unordered, unchangeable*, and unindexed. No duplicate members._  \n",
    "#### _4 .  Dictionary is a collection which is ordered** and changeable. No duplicate members._"
   ]
  },
  {
   "cell_type": "markdown",
   "id": "72052078-5d67-45b0-b19a-eca11cddfa92",
   "metadata": {},
   "source": [
    "# Creating a Dictionary"
   ]
  },
  {
   "cell_type": "code",
   "execution_count": 43,
   "id": "ba14bc32-f3f4-4fc8-9eb3-79465ba4f9c2",
   "metadata": {},
   "outputs": [
    {
     "name": "stdout",
     "output_type": "stream",
     "text": [
      "{}\n",
      "<class 'dict'>\n"
     ]
    }
   ],
   "source": [
    "# Empty Dictonary\n",
    "\n",
    "empty = {}\n",
    "print(empty)\n",
    "print(type(empty))"
   ]
  },
  {
   "cell_type": "code",
   "execution_count": 7,
   "id": "50e8736d-202d-4077-bc8e-c354d7369ce8",
   "metadata": {},
   "outputs": [
    {
     "name": "stdout",
     "output_type": "stream",
     "text": [
      "{'a': 1, 'b': 2, 'c': 3}\n"
     ]
    }
   ],
   "source": [
    "# key : value pair\n",
    "\n",
    "d = dict(a = 1, b = 2, c = 3)\n",
    "print(d)"
   ]
  },
  {
   "cell_type": "code",
   "execution_count": 1,
   "id": "41642aad-87a5-4b85-837f-8ed149aad467",
   "metadata": {},
   "outputs": [
    {
     "name": "stdout",
     "output_type": "stream",
     "text": [
      "{'brand': 'Ford', 'model': 'Mustang', 'year': 1964}\n"
     ]
    }
   ],
   "source": [
    "thisdict = {\n",
    "  \"brand\": \"Ford\",\n",
    "  \"model\": \"Mustang\",\n",
    "  \"year\": 1964\n",
    "}\n",
    "print(thisdict)"
   ]
  },
  {
   "cell_type": "code",
   "execution_count": 5,
   "id": "e93ae8b9-90cb-42a7-8fe1-78d57c0d095a",
   "metadata": {},
   "outputs": [
    {
     "name": "stdout",
     "output_type": "stream",
     "text": [
      "{'name': 'Varun', 'class': 8, 'city': 'NYC'}\n"
     ]
    }
   ],
   "source": [
    "student = {'name':'Varun', 'class':8, 'city':'NYC'}\n",
    "print(student)"
   ]
  },
  {
   "cell_type": "markdown",
   "id": "b709009c-d877-4459-8d44-17aae16d4b30",
   "metadata": {},
   "source": [
    "# The dict() Constructor\n",
    "#### _It is also possible to use the __dict()__ constructor to make a dictionary._"
   ]
  },
  {
   "cell_type": "code",
   "execution_count": 7,
   "id": "4addfd99-0360-47c7-a10b-612deb71338d",
   "metadata": {},
   "outputs": [
    {
     "name": "stdout",
     "output_type": "stream",
     "text": [
      "{'name': 'John', 'age': 36, 'country': 'Norway'}\n"
     ]
    }
   ],
   "source": [
    "dic = dict(name = \"John\", age = 36, country = \"Norway\")\n",
    "print(dic)"
   ]
  },
  {
   "cell_type": "markdown",
   "id": "15324ef1-c3f2-4f81-9668-a685643c919a",
   "metadata": {},
   "source": [
    "# Dictionary Items\n",
    "#### _Dictionary items are ordered, changeable, and do not allow duplicates._\n",
    "#### _Dictionary items are presented in key : value pairs, and can be referred to by using the key name._"
   ]
  },
  {
   "cell_type": "code",
   "execution_count": 2,
   "id": "30a3dac1-1277-4500-ae9e-3776b09533c6",
   "metadata": {},
   "outputs": [
    {
     "name": "stdout",
     "output_type": "stream",
     "text": [
      "Ford\n"
     ]
    }
   ],
   "source": [
    "thisdict = {\n",
    "  \"brand\": \"Ford\",\n",
    "  \"model\": \"Mustang\",\n",
    "  \"year\": 1964\n",
    "}\n",
    "print(thisdict[\"brand\"])"
   ]
  },
  {
   "cell_type": "markdown",
   "id": "10d46bab-45d7-4825-aecc-d5b8a1544561",
   "metadata": {},
   "source": [
    "# Ordered or Unordered? \n",
    "##### _As of Python version 3.7, dictionaries are ordered. In Python 3.6 and earlier, dictionaries are unordered._\n",
    "\n",
    "#### _When we say that dictionaries are ordered, it means that the items have a defined order, and that order will not change._\n",
    "\n",
    "#### _Unordered means that the items do not have a defined order, you cannot refer to an item by using an index._\n",
    "\n",
    "# Changeable\n",
    "### _Dictionaries are changeable, meaning that we can change, add or remove items after the dictionary has been created._\n",
    "\n",
    "# Duplicates Not Allowed\n",
    "#### _Dictionaries cannot have two items with the same key :_  \n",
    "#### _Duplicate values will overwrite existing values :_"
   ]
  },
  {
   "cell_type": "code",
   "execution_count": 8,
   "id": "1333f686-1cfb-4b01-a0b0-f2e9d40051ba",
   "metadata": {},
   "outputs": [
    {
     "name": "stdout",
     "output_type": "stream",
     "text": [
      "{'brand': 'Ford', 'model': 'Mustang', 'year': 2020}\n"
     ]
    }
   ],
   "source": [
    "thisdict = {\n",
    "  \"brand\": \"Ford\",\n",
    "  \"model\": \"Mustang\",\n",
    "  \"year\": 1964,\n",
    "  \"year\": 2020\n",
    "}\n",
    "print(thisdict)"
   ]
  },
  {
   "cell_type": "code",
   "execution_count": 17,
   "id": "8fd72c09-5849-4ca4-bae4-e4e3dd247535",
   "metadata": {},
   "outputs": [
    {
     "name": "stdout",
     "output_type": "stream",
     "text": [
      "{'brand': 'Ford', 'model': 'Mustang', 'year': 1964}\n"
     ]
    }
   ],
   "source": [
    "thisdict = {\"brand\": \"Ford\",\"model\": \"Mustang\",\"year\": 1964,\n",
    "           \"model\": \"Mustang\",\"year\": 1964}\n",
    "\n",
    "print(thisdict)"
   ]
  },
  {
   "cell_type": "markdown",
   "id": "822bd887-f19b-4055-8208-fa22e7b18b47",
   "metadata": {},
   "source": [
    "# ⮩  Dictionary Length\n",
    "#### _To determine how many items a dictionary has, use the len() function :_"
   ]
  },
  {
   "cell_type": "code",
   "execution_count": 1,
   "id": "29c665d3-39b5-4157-a1c1-e9cd0ef00657",
   "metadata": {},
   "outputs": [
    {
     "name": "stdout",
     "output_type": "stream",
     "text": [
      "{'brand': 'Ford', 'model': 'Mustang', 'year': 2020}\n",
      "<class 'dict'>\n",
      "3\n"
     ]
    }
   ],
   "source": [
    "thisdict = { \"brand\": \"Ford\", \"model\": \"Mustang\", \"year\": 1964, \"year\": 2020}\n",
    "print(thisdict)\n",
    "print(type(thisdict))\n",
    "print(len(thisdict))"
   ]
  },
  {
   "cell_type": "code",
   "execution_count": 9,
   "id": "d4552b2d-58b9-4af4-9ddd-1636e52bbea5",
   "metadata": {},
   "outputs": [
    {
     "name": "stdout",
     "output_type": "stream",
     "text": [
      "3\n"
     ]
    }
   ],
   "source": [
    "d ={'Name':'Steve', 'Age':30, 'Designation':'Programmer'}\n",
    "print(len(d))"
   ]
  },
  {
   "cell_type": "markdown",
   "id": "28189f1b-ed48-4298-befb-ce15e21edd57",
   "metadata": {},
   "source": [
    "# ⮩  Dictionary Items - Data Types == flexible key types\n",
    "#### _The values in dictionary items can be of any data type: like String , int , boolean , and list data types:_\n",
    "#### _while keys in dictionaries must be unique, they can be of various data types, strings, integers,floats and tuples ( if they contain only hashable objects )_"
   ]
  },
  {
   "cell_type": "code",
   "execution_count": 5,
   "id": "cc885ebe-22af-4036-8ce3-4d322ea17679",
   "metadata": {},
   "outputs": [
    {
     "name": "stdout",
     "output_type": "stream",
     "text": [
      "{'brand': 'Ford', 'electric': False, 'year': 1964, 'colors': ['red', 'white', 'blue']}\n",
      "<class 'dict'>\n"
     ]
    }
   ],
   "source": [
    "thisdict = {\"brand\": \"Ford\",\"electric\": False,\"year\": 1964,\"colors\": [\"red\", \"white\", \"blue\"]}\n",
    "print(thisdict)\n",
    "print(type(thisdict))"
   ]
  },
  {
   "cell_type": "code",
   "execution_count": 10,
   "id": "f00b9a1c-e02f-4802-89eb-c87673e5f19b",
   "metadata": {},
   "outputs": [
    {
     "name": "stdout",
     "output_type": "stream",
     "text": [
      "{'Name': 'john', 123: 'integer key', (1, 2): 'tuple key', 3.6: 'float key'}\n"
     ]
    }
   ],
   "source": [
    "data = {\n",
    "    'Name' : 'john',\n",
    "    123 : \"integer key\",\n",
    "    (1,2): \"tuple key\",\n",
    "    3.6 : 'float key'\n",
    "}\n",
    "\n",
    "print(data)"
   ]
  },
  {
   "cell_type": "code",
   "execution_count": 2,
   "id": "979d676a-02a6-4f8d-a182-b0701176384d",
   "metadata": {},
   "outputs": [
    {
     "ename": "SyntaxError",
     "evalue": "invalid syntax (1310753065.py, line 6)",
     "output_type": "error",
     "traceback": [
      "\u001b[1;36m  Cell \u001b[1;32mIn[2], line 6\u001b[1;36m\u001b[0m\n\u001b[1;33m    [1,2,3] : \"list key\",\u001b[0m\n\u001b[1;37m            ^\u001b[0m\n\u001b[1;31mSyntaxError\u001b[0m\u001b[1;31m:\u001b[0m invalid syntax\n"
     ]
    }
   ],
   "source": [
    "data = {\n",
    "    'Name' : 'john',                        # Error ; unhashable type : 'list'\n",
    "    123 : \"integer key\",\n",
    "    (1,2): \"tuple key\",\n",
    "    3.6 : 'float key'\n",
    "    [1,2,3] : \"list key\",\n",
    "}\n",
    "\n",
    "print(data)"
   ]
  },
  {
   "cell_type": "code",
   "execution_count": 2,
   "id": "b780ab42-773d-4142-bd0b-70f97603f8de",
   "metadata": {},
   "outputs": [
    {
     "name": "stdout",
     "output_type": "stream",
     "text": [
      "{'ID': '123448', 'color': 'Black', 'year': 1964, 'a': [1, 2, 3, 4, 5], 'b': (2.1, 2.2, 2.3, 2.4), 'c': False}\n",
      "<class 'type'>\n"
     ]
    }
   ],
   "source": [
    "dict1 = { \"ID\": \"123448\", \"color\": \"Black\", \"year\": 1964, 'a': [1,2,3,4,5], 'b': (2.1,2.2,2.3,2.4), 'c': False}\n",
    "print(dict1) \n",
    "print(type(dict))"
   ]
  },
  {
   "cell_type": "markdown",
   "id": "07a9db7e-0e47-40d5-8bd7-39c4d184fe09",
   "metadata": {},
   "source": [
    "# ⮩  Dictionary Comprehension"
   ]
  },
  {
   "cell_type": "code",
   "execution_count": null,
   "id": "b9808b99-0583-445f-82b7-c3bc6ee8ec3a",
   "metadata": {},
   "outputs": [],
   "source": [
    "{ key :  value  for  vars in iterable }\n",
    " |       |     |     |        |\n",
    "{ x  :   x*x    for   num in  iterable(1,11) }"
   ]
  },
  {
   "cell_type": "code",
   "execution_count": 13,
   "id": "7d3194d6-e230-4bcf-b7ac-6da40d244444",
   "metadata": {},
   "outputs": [
    {
     "name": "stdout",
     "output_type": "stream",
     "text": [
      "{0: 0, 1: 1, 2: 4, 3: 9, 4: 16, 5: 25}\n"
     ]
    }
   ],
   "source": [
    "squares = { x : x*x for x in range(6)}\n",
    "print(squares)"
   ]
  },
  {
   "cell_type": "code",
   "execution_count": 14,
   "id": "af5e56db-62c0-4437-93f3-6d0d23d877fe",
   "metadata": {},
   "outputs": [
    {
     "name": "stdout",
     "output_type": "stream",
     "text": [
      "{1: 1, 2: 4, 3: 9, 4: 16, 5: 25, 6: 36, 7: 49, 8: 64, 9: 81, 10: 100}\n"
     ]
    }
   ],
   "source": [
    "square_dict = dict()\n",
    "for num in range(1, 11):\n",
    "    square_dict[num] = num*num\n",
    "print(square_dict)"
   ]
  },
  {
   "cell_type": "code",
   "execution_count": 16,
   "id": "6152c42f-93c4-4771-95f0-1b5eb57bc432",
   "metadata": {},
   "outputs": [
    {
     "name": "stdout",
     "output_type": "stream",
     "text": [
      "{'milk': 0.7752, 'coffee': 1.9, 'bread': 1.9}\n"
     ]
    }
   ],
   "source": [
    "# item price in dollars\n",
    "old_price = {'milk': 1.02, 'coffee': 2.5, 'bread': 2.5}\n",
    "\n",
    "dollar_to_pound = 0.76\n",
    "new_price = {item : value*dollar_to_pound for (item, value) in old_price.items()}\n",
    "print(new_price)"
   ]
  },
  {
   "cell_type": "markdown",
   "id": "d4231cf1-6f9b-452c-a568-fa6e1ce96dac",
   "metadata": {},
   "source": [
    "# ➩➩ Access Dictionary Items\n",
    "#### _You can access the items of a dictionary by referring to its key name , inside square brackets :_"
   ]
  },
  {
   "cell_type": "code",
   "execution_count": 8,
   "id": "a54bf07b-7616-4498-96e3-af73268bd0de",
   "metadata": {},
   "outputs": [
    {
     "name": "stdout",
     "output_type": "stream",
     "text": [
      "Mustang\n"
     ]
    }
   ],
   "source": [
    "thisdict = {                   # accessing a pair\n",
    "  \"brand\": \"Ford\",\n",
    "  \"model\": \"Mustang\",\n",
    "  \"year\": 1964\n",
    "}\n",
    "x = thisdict[\"model\"]\n",
    "print(x)"
   ]
  },
  {
   "cell_type": "code",
   "execution_count": 19,
   "id": "e22f4bb6-9b6b-448a-b5d1-8b930f5745e3",
   "metadata": {},
   "outputs": [
    {
     "name": "stdout",
     "output_type": "stream",
     "text": [
      "Ford\n"
     ]
    }
   ],
   "source": [
    "thisdict = {\"brand\": \"Ford\",\"model\": \"Mustang\",\"year\": 1964}\n",
    "x = thisdict[\"brand\"]\n",
    "print(x)"
   ]
  },
  {
   "cell_type": "code",
   "execution_count": 20,
   "id": "3fe98b63-0b4d-4a6a-b2ed-9707c1e4aa43",
   "metadata": {},
   "outputs": [
    {
     "name": "stdout",
     "output_type": "stream",
     "text": [
      "1964\n"
     ]
    }
   ],
   "source": [
    "print(thisdict['year'])"
   ]
  },
  {
   "cell_type": "markdown",
   "id": "9bc459d4-371a-47a4-9b5a-2ac9fa7f37c2",
   "metadata": {},
   "source": [
    "# There is also a method called get() that will give you the same result :\n",
    "# ⮩ __get method ()__\n",
    "#### _The __get()__ method returns the value of the item with the specified key._"
   ]
  },
  {
   "cell_type": "code",
   "execution_count": 12,
   "id": "fa42e4b8-55d0-4101-840f-88d5ea5b4fb2",
   "metadata": {},
   "outputs": [
    {
     "name": "stdout",
     "output_type": "stream",
     "text": [
      "{'name': 'John', 'age': 36, 'country': 'Norway'}\n",
      "36\n"
     ]
    }
   ],
   "source": [
    "di = dict(name = \"John\", age = 36, country = \"Norway\")\n",
    "print(dic)\n",
    "y = di.get(\"age\")\n",
    "print(y)"
   ]
  },
  {
   "cell_type": "code",
   "execution_count": 24,
   "id": "d092fdf4-5c0f-4d74-8cd8-ea979040ed2e",
   "metadata": {},
   "outputs": [
    {
     "name": "stdout",
     "output_type": "stream",
     "text": [
      "Mustang\n",
      "2\n"
     ]
    }
   ],
   "source": [
    "car = {\"brand\": \"Ford\",\"model\": \"Mustang\",\"year\": 1964 }\n",
    "x = car.get(\"model\")\n",
    "print(x)\n"
   ]
  },
  {
   "cell_type": "code",
   "execution_count": 21,
   "id": "51e91e5f-879f-4478-8aa2-9609e2ac1d90",
   "metadata": {},
   "outputs": [
    {
     "name": "stdout",
     "output_type": "stream",
     "text": [
      "15000\n"
     ]
    }
   ],
   "source": [
    "car = {\"brand\": \"Ford\",\"model\": \"Mustang\",\"year\": 1964}\n",
    "x = car.get(\"price\", 15000)\n",
    "print(x)"
   ]
  },
  {
   "cell_type": "code",
   "execution_count": 23,
   "id": "7eeed5ec-abae-4bf6-90af-8682127c0ba1",
   "metadata": {},
   "outputs": [
    {
     "name": "stdout",
     "output_type": "stream",
     "text": [
      "Ranvijay\n",
      "[1, 2, 4]\n"
     ]
    }
   ],
   "source": [
    "d = { \"name\": \"Ranvijay\", 1: \"Python\", (1, 2): [1,2,4] }\n",
    "\n",
    "print(d.get(\"name\")) \n",
    "print(d.get((1, 2)))  "
   ]
  },
  {
   "cell_type": "markdown",
   "id": "accca270-3278-4cd6-9b0b-99a2dcb065e5",
   "metadata": {},
   "source": [
    "# ⮩ Get Keys\n",
    "#### _The __keys() method__ will return a list of all the keys in the dictionary._  \n",
    "#### _The keys() method returns a view object. The view object contains the keys of the dictionary, as a list._"
   ]
  },
  {
   "cell_type": "code",
   "execution_count": 18,
   "id": "3d6c0220-7a63-4838-8909-491983b4d700",
   "metadata": {},
   "outputs": [
    {
     "name": "stdout",
     "output_type": "stream",
     "text": [
      "dict_keys(['name', 'age', 'country'])\n"
     ]
    }
   ],
   "source": [
    "di = dict(name = \"John\", age = 36, country = \"Norway\")\n",
    "y = di.keys()\n",
    "print(y)"
   ]
  },
  {
   "cell_type": "code",
   "execution_count": 25,
   "id": "d362acc0-ed3b-4a17-ae75-fa319ed10296",
   "metadata": {},
   "outputs": [
    {
     "name": "stdout",
     "output_type": "stream",
     "text": [
      "dict_keys(['brand', 'model', 'year', 'color'])\n"
     ]
    }
   ],
   "source": [
    "car = {\"brand\": \"Ford\",\"model\": \"Mustang\",\"year\": 1964}\n",
    "x = car.keys()\n",
    "\n",
    "car[\"color\"] = \"white\"\n",
    "print(x)"
   ]
  },
  {
   "cell_type": "code",
   "execution_count": 20,
   "id": "5d8cd50c-b02e-40e3-ba11-60ec70acd14b",
   "metadata": {},
   "outputs": [
    {
     "name": "stdout",
     "output_type": "stream",
     "text": [
      "Ranvijay  3\n",
      "for 2\n",
      "Work 1\n"
     ]
    }
   ],
   "source": [
    "a = {'Ranvijay ': 3, 'for': 2, 'Work': 1}  \n",
    "\n",
    "for key in a:  \n",
    "    print(key, a[key])"
   ]
  },
  {
   "cell_type": "code",
   "execution_count": 9,
   "id": "d9911da1-8bdf-4c98-ace0-f33e458454a6",
   "metadata": {},
   "outputs": [
    {
     "name": "stdout",
     "output_type": "stream",
     "text": [
      "{'a': 1, 'b': 2, 'c': 3}\n"
     ]
    }
   ],
   "source": [
    "keys = ['a', 'b', 'c']\n",
    "values = [1, 2, 3]\n",
    "\n",
    "d = {k: v for k, v in zip(keys, values)}\n",
    "print(d)"
   ]
  },
  {
   "cell_type": "markdown",
   "id": "ba638e4a-4c34-4606-9b24-fdbc7596896a",
   "metadata": {},
   "source": [
    "# ⮩ Get Values\n",
    "####  _The __values() method__ will return a list of all the values in the dictionary._   \n",
    "#### _The __values()__ method returns a view object. The view object contains the values of the dictionary, as a list._"
   ]
  },
  {
   "cell_type": "code",
   "execution_count": 19,
   "id": "9a45483f-1dbc-4374-bb21-03497c27dbe8",
   "metadata": {},
   "outputs": [
    {
     "name": "stdout",
     "output_type": "stream",
     "text": [
      "dict_values(['John', 36, 'Norway'])\n"
     ]
    }
   ],
   "source": [
    "di = dict(name = \"John\", age = 36, country = \"Norway\")\n",
    "y = di.values()\n",
    "print(y)"
   ]
  },
  {
   "cell_type": "code",
   "execution_count": 26,
   "id": "48415c20-845a-4586-98d1-2a30f6de5f7c",
   "metadata": {},
   "outputs": [
    {
     "name": "stdout",
     "output_type": "stream",
     "text": [
      "dict_values(['Ford', 'Mustang', 2018])\n"
     ]
    }
   ],
   "source": [
    "car = {\"brand\": \"Ford\",\"model\": \"Mustang\",\"year\": 1964}\n",
    "x = car.values()\n",
    "\n",
    "car[\"year\"] = 2018\n",
    "print(x)"
   ]
  },
  {
   "cell_type": "markdown",
   "id": "ce1552b6-1567-46f5-90d3-dd08e3625c2b",
   "metadata": {},
   "source": [
    "# ⮩ Get Items\n",
    "#### _The __items() method__ returns a view object. The view object contains the key-value pairs of the dictionary, as tuples in a list._"
   ]
  },
  {
   "cell_type": "code",
   "execution_count": 24,
   "id": "3be98bf5-801b-4c94-97ec-a55f1f0b51f5",
   "metadata": {},
   "outputs": [
    {
     "name": "stdout",
     "output_type": "stream",
     "text": [
      "dict_items([('name', 'John'), ('age', 36), ('country', 'Norway')])\n"
     ]
    }
   ],
   "source": [
    "di = dict(name = \"John\", age = 36, country = \"Norway\")\n",
    "y = di.items()\n",
    "print(y)"
   ]
  },
  {
   "cell_type": "code",
   "execution_count": 27,
   "id": "0474cf70-4b61-430d-bd93-5c7c4e790041",
   "metadata": {},
   "outputs": [
    {
     "name": "stdout",
     "output_type": "stream",
     "text": [
      "dict_items([('brand', 'Ford'), ('model', 'Mustang'), ('year', 1964)])\n"
     ]
    }
   ],
   "source": [
    "car = {\"brand\": \"Ford\",\"model\": \"Mustang\",\"year\": 1964}\n",
    "x = car.items()\n",
    "\n",
    "print(x)"
   ]
  },
  {
   "cell_type": "code",
   "execution_count": 22,
   "id": "e3369826-ef02-4f31-91a2-75fb6cf97779",
   "metadata": {},
   "outputs": [
    {
     "name": "stdout",
     "output_type": "stream",
     "text": [
      "{'a': 10, 'b': 15, 'c': 20}\n"
     ]
    }
   ],
   "source": [
    "d = {'a': 10, 'b': 15, 'c': 20, 'd': 5}\n",
    "res = {}\n",
    "\n",
    "for key, val in d.items():\n",
    "    if 10 <= val <= 20:  \n",
    "        res[key] = val  \n",
    "print(res)"
   ]
  },
  {
   "cell_type": "code",
   "execution_count": 3,
   "id": "86fde4db-e737-4c2c-a7b4-d527f44781e8",
   "metadata": {},
   "outputs": [
    {
     "name": "stdout",
     "output_type": "stream",
     "text": [
      "dict_items([('brand', 'Ford'), ('model', 'Mustang'), ('year', 2018)])\n"
     ]
    }
   ],
   "source": [
    "car = {\"brand\": \"Ford\",\"model\": \"Mustang\",\"year\": 1964}\n",
    "x = car.items()\n",
    "\n",
    "car[\"year\"] = 2018\n",
    "print(x)"
   ]
  },
  {
   "cell_type": "markdown",
   "id": "3610d68b-6de6-4f16-a554-d60644a0081b",
   "metadata": {},
   "source": [
    "# ➩ Check if Key Exists == Membership testing\n",
    "### _To determine if a specified key is present in a dictionary use the in keyword:_"
   ]
  },
  {
   "cell_type": "code",
   "execution_count": 26,
   "id": "a569e1e2-e86b-444e-a68c-d3b30ee84d62",
   "metadata": {},
   "outputs": [
    {
     "name": "stdout",
     "output_type": "stream",
     "text": [
      "Yes, 'model' is one of the keys in the dic dictionary\n"
     ]
    }
   ],
   "source": [
    "dic = { \"brand\": \"Ford\", \"model\": \"Mustang\", \"year\": 1964 }\n",
    "if \"model\" in dic:\n",
    "  print(\"Yes, 'model' is one of the keys in the dic dictionary\")\n"
   ]
  },
  {
   "cell_type": "code",
   "execution_count": 29,
   "id": "9125c32d-de34-4893-bac9-4a6a30306f38",
   "metadata": {},
   "outputs": [
    {
     "name": "stdout",
     "output_type": "stream",
     "text": [
      "False\n"
     ]
    }
   ],
   "source": [
    "dic = {\"brand\": \"Ford\", \"model\": \"Mustang\", \"year\": 1964, \"color\" : \"red\" }\n",
    "\n",
    "print('brand ' in  dic)"
   ]
  },
  {
   "cell_type": "code",
   "execution_count": 30,
   "id": "b21f0e11-1d37-4160-82ce-16c45a37eacc",
   "metadata": {},
   "outputs": [
    {
     "name": "stdout",
     "output_type": "stream",
     "text": [
      "False\n"
     ]
    }
   ],
   "source": [
    "dic = {\"brand\": \"Ford\", \"model\": \"Mustang\", \"year\": 1964, \"color\" : \"red\" }\n",
    "print('email' in  dic)"
   ]
  },
  {
   "cell_type": "code",
   "execution_count": 31,
   "id": "c406cf61-19c5-49cc-aa1a-c4779aef98d8",
   "metadata": {},
   "outputs": [
    {
     "name": "stdout",
     "output_type": "stream",
     "text": [
      "False\n"
     ]
    }
   ],
   "source": [
    "dic = {\"brand\": \"Ford\", \"model\": \"Mustang\", \"year\": 1964, \"color\" : \"red\" }\n",
    "print('Ford' in  dic)"
   ]
  },
  {
   "cell_type": "markdown",
   "id": "0ec0d4b2-dd3c-4ed8-b289-c296d8f70e34",
   "metadata": {},
   "source": [
    "#### _Check whether a given key already exists in a dictionary_."
   ]
  },
  {
   "cell_type": "code",
   "execution_count": 33,
   "id": "be41a832-bcc2-47c3-92d7-e0e5836e7425",
   "metadata": {},
   "outputs": [
    {
     "name": "stdout",
     "output_type": "stream",
     "text": [
      "key is present in the dictionary\n"
     ]
    }
   ],
   "source": [
    "d =  {1 : 10 , 2 : 20, 3 : 30, 4 : 40, 5 : 50, 6 : 60}\n",
    "def is_key_present(x):\n",
    "    if x in d:\n",
    "        print(\"key is present in the dictionary\")\n",
    "    else:\n",
    "        print(\"key is not present in the dictionary\")\n",
    "\n",
    "is_key_present(3)"
   ]
  },
  {
   "cell_type": "code",
   "execution_count": 35,
   "id": "d7e0aa13-e62d-4620-8d1d-c21326d77525",
   "metadata": {},
   "outputs": [
    {
     "name": "stdout",
     "output_type": "stream",
     "text": [
      "Key is present in the dictionary\n",
      "Key is not present in the dictionary\n"
     ]
    }
   ],
   "source": [
    "d = { 1: 10, 2: 28, 3: 30, 4: 40, 5: 50, 6: 60 }\n",
    "def is_key_present (x):\n",
    "    if x in d :\n",
    "        print(\"Key is present in the dictionary\")\n",
    "    else:\n",
    "        print(\"Key is not present in the dictionary\")\n",
    "\n",
    "is_key_present(5)\n",
    "is_key_present(9)\n"
   ]
  },
  {
   "cell_type": "code",
   "execution_count": 36,
   "id": "18e33871-9066-44b6-864f-112bb87efb75",
   "metadata": {},
   "outputs": [
    {
     "name": "stdout",
     "output_type": "stream",
     "text": [
      "Key is present in the dictionary\n"
     ]
    }
   ],
   "source": [
    "is_key_present(4)"
   ]
  },
  {
   "cell_type": "markdown",
   "id": "3069005c-a8d0-46f1-9fce-ee49192bba5c",
   "metadata": {},
   "source": [
    "#  ⮩ Converting List into Dictionary"
   ]
  },
  {
   "cell_type": "code",
   "execution_count": 37,
   "id": "483c67d7-f9af-4fd9-834f-2c8ed3897f21",
   "metadata": {},
   "outputs": [
    {
     "name": "stdout",
     "output_type": "stream",
     "text": [
      "{'name': 'Alice', 'age': 25, 'city': 'New York'}\n"
     ]
    }
   ],
   "source": [
    "a = [(\"name\", \"Alice\"), (\"age\", 25), (\"city\", \"New York\")]  # List of key-value pairs as tuples\n",
    "b = dict(a)\n",
    "\n",
    "print(b)"
   ]
  },
  {
   "cell_type": "code",
   "execution_count": 34,
   "id": "7d31c01b-8db2-47bb-87d9-62c7642732dc",
   "metadata": {},
   "outputs": [
    {
     "name": "stdout",
     "output_type": "stream",
     "text": [
      "{'name': 'Alice', 'age': 25, 'city': 'New York'}\n"
     ]
    }
   ],
   "source": [
    "a = [(\"name\", \"Alice\"), (\"age\", 25), (\"city\", \"New York\")]\n",
    "\n",
    "b = {}\n",
    "for key, value in a:\n",
    "    b[key] = value\n",
    "\n",
    "print(b)"
   ]
  },
  {
   "cell_type": "code",
   "execution_count": 35,
   "id": "3aad8079-4f70-4eb5-b43b-2cae46a63587",
   "metadata": {},
   "outputs": [
    {
     "name": "stdout",
     "output_type": "stream",
     "text": [
      "{'name': 'Alice', 'age': 25, 'city': 'New York'}\n"
     ]
    }
   ],
   "source": [
    "a = [(\"name\", \"Alice\"), (\"age\", 25), (\"city\", \"New York\")]     # List of key-value pairs as tuples\n",
    "                                                               # Using dictionary comprehension \n",
    "b = {key : value for key, value in a}\n",
    "\n",
    "print(b)"
   ]
  },
  {
   "cell_type": "markdown",
   "id": "6591377d-8408-4798-9bd5-287a6fc8a1ac",
   "metadata": {},
   "source": [
    "# ➩➩ Change Dictionary Items\n",
    "# ⮩ Change Values\n",
    "#### _You can change the value of a specific item by referring to its key name :_"
   ]
  },
  {
   "cell_type": "code",
   "execution_count": 29,
   "id": "4e88cd5a-ad6e-4843-8be1-d7f129f31ede",
   "metadata": {},
   "outputs": [
    {
     "name": "stdout",
     "output_type": "stream",
     "text": [
      "{'brand': 'Ford', 'model': 'Mustang', 'year': 2018}\n"
     ]
    }
   ],
   "source": [
    "d = {\"brand\": \"Ford\",\"model\": \"Mustang\",\"year\": 1964 }\n",
    "d[\"year\"] = 2018\n",
    "print(d)"
   ]
  },
  {
   "cell_type": "code",
   "execution_count": 41,
   "id": "038b1d62-977a-4c12-9cd2-b7540cd69f51",
   "metadata": {},
   "outputs": [
    {
     "name": "stdout",
     "output_type": "stream",
     "text": [
      "{'name': 'Ramesh', 'age': 25, 'city': 'hyd'}\n"
     ]
    }
   ],
   "source": [
    "a = { 'name' : 'vijay', 'age' : 25, 'city' : 'hyd', }\n",
    "a['name'] = 'Ramesh'\n",
    "print(a)"
   ]
  },
  {
   "cell_type": "code",
   "execution_count": 42,
   "id": "1877c2cf-a8fe-4fea-b8be-7414cf48ae99",
   "metadata": {},
   "outputs": [
    {
     "name": "stdout",
     "output_type": "stream",
     "text": [
      "{'name': 'Ramesh', 'age': 28, 'city': 'hyd'}\n"
     ]
    }
   ],
   "source": [
    "a[ 'age'] = 28\n",
    "print(a)"
   ]
  },
  {
   "cell_type": "markdown",
   "id": "bb17b1a4-58f5-4297-94d7-f0ca319d95db",
   "metadata": {},
   "source": [
    "# ⮩ Adding New Items to the Dictionary\n",
    "#### _Adding an item to the dictionary is done by using a new index key and assigning a value to it_\n",
    "\n",
    "#### _Adding a new key - value pair :_"
   ]
  },
  {
   "cell_type": "code",
   "execution_count": 11,
   "id": "869d5f3f-cb79-4a21-9f36-275bba2e79f3",
   "metadata": {},
   "outputs": [
    {
     "name": "stdout",
     "output_type": "stream",
     "text": [
      "{1: 10, 2: 20, 3: 30, 4: 40}\n"
     ]
    }
   ],
   "source": [
    "d = {1: 10, 2: 20, 3: 30}\n",
    "d[4] = 40                      # Adding a new key-value pair\n",
    "print(d)"
   ]
  },
  {
   "cell_type": "code",
   "execution_count": 31,
   "id": "6c3d3b58-de59-4d23-8dd5-ab5d51a0c4c9",
   "metadata": {},
   "outputs": [
    {
     "name": "stdout",
     "output_type": "stream",
     "text": [
      "{'brand': 'Ford', 'model': 'Mustang', 'year': 1964, 'color': 'red'}\n"
     ]
    }
   ],
   "source": [
    "thisdict = {\"brand\": \"Ford\",\"model\": \"Mustang\",\"year\": 1964              #adding a new key - value pair\n",
    "thisdict[\"color\"] = \"red\"\n",
    "print(thisdict)"
   ]
  },
  {
   "cell_type": "code",
   "execution_count": 2,
   "id": "0a2ef892-9bc4-4121-a386-4b13b64f1bec",
   "metadata": {},
   "outputs": [
    {
     "name": "stdout",
     "output_type": "stream",
     "text": [
      "{'name': 'Varun', 'class': 8, 'city': 'NYC', 'subjects': ['English', 'Science', 'Sociology']}\n"
     ]
    }
   ],
   "source": [
    "student = {'name':'Varun', 'class':8, 'city':'NYC'}                        #adding a new key - value pair\n",
    "student['subjects'] = ['English', 'Science', 'Sociology']\n",
    "print(student)"
   ]
  },
  {
   "cell_type": "code",
   "execution_count": 3,
   "id": "2ea76c61-afae-44fe-b926-3d0b45f6ac9d",
   "metadata": {},
   "outputs": [
    {
     "data": {
      "text/plain": [
       "['English', 'Science', 'Sociology']"
      ]
     },
     "execution_count": 3,
     "metadata": {},
     "output_type": "execute_result"
    }
   ],
   "source": [
    "student['subjects']"
   ]
  },
  {
   "cell_type": "code",
   "execution_count": 14,
   "id": "4a606f60-9ab6-4580-87ac-78ba950ac817",
   "metadata": {},
   "outputs": [
    {
     "name": "stdout",
     "output_type": "stream",
     "text": [
      "{1: 10, 2: 20, 3: 30, 4: 40, 5: 50}\n"
     ]
    }
   ],
   "source": [
    " # Add new items in a loop\n",
    "\n",
    "d = {1: 10, 2: 20, 3: 30}\n",
    "for i in range(4, 6):\n",
    "    d[i] = i * 10 \n",
    "print(d)"
   ]
  },
  {
   "cell_type": "code",
   "execution_count": 38,
   "id": "aac75b85-5396-4e02-9a06-3c047bade4bb",
   "metadata": {},
   "outputs": [
    {
     "name": "stdout",
     "output_type": "stream",
     "text": [
      "{1: 10, 2: 20, 3: 30, 4: 40, 5: 50}\n"
     ]
    }
   ],
   "source": [
    "d = {1: 10, 2: 20, 3: 30}\n",
    "\n",
    "for i in range(4, 6):            # Add keys dynamically\n",
    "    d[i] = i * 10               # Assign a value based on the key\n",
    "print(d)"
   ]
  },
  {
   "cell_type": "markdown",
   "id": "78696229-cf0e-454e-b967-9ebc9b7abc6b",
   "metadata": {},
   "source": [
    "# ⮩ Update Dictionary using update() method\n",
    "### _The __update () method__ will update the dictionary with the items from a given argument. If the item does not exist , the item will be added._\n",
    "\n",
    "#### _The argument must be a dictionary , or an iterable object with __key  :  value pairs__._"
   ]
  },
  {
   "cell_type": "code",
   "execution_count": 30,
   "id": "80c30fd0-19a2-4225-a693-c6309e50d87d",
   "metadata": {},
   "outputs": [
    {
     "name": "stdout",
     "output_type": "stream",
     "text": [
      "{'brand': 'Ford', 'model': 'Mustang', 'year': 2020}\n"
     ]
    }
   ],
   "source": [
    "d1 = { \"brand\": \"Ford\", \"model\": \"Mustang\", \"year\": 1964 }\n",
    "d1.update({\"year\": 2020})\n",
    "print(d1)"
   ]
  },
  {
   "cell_type": "code",
   "execution_count": 12,
   "id": "dafd3b02-23f2-4725-9deb-e09652fa7780",
   "metadata": {},
   "outputs": [
    {
     "name": "stdout",
     "output_type": "stream",
     "text": [
      "{1: 10, 2: 20, 3: 30, 4: 40, 5: 50}\n"
     ]
    }
   ],
   "source": [
    "d = {1: 10, 2: 20, 3: 30}\n",
    "d.update({4: 40, 5: 50})                   # Add multiple key-value pairs\n",
    "print(d)"
   ]
  },
  {
   "cell_type": "code",
   "execution_count": 13,
   "id": "f017dc75-29cd-4c4d-b194-0086eb1ec5ba",
   "metadata": {},
   "outputs": [
    {
     "name": "stdout",
     "output_type": "stream",
     "text": [
      "{1: 10, 2: 20, 3: 30, 4: 40, 5: 50}\n"
     ]
    }
   ],
   "source": [
    "d = {1: 10, 2: 20, 3: 30}\n",
    "a = [(4, 40), (5, 50)]\n",
    "d.update(a)                           # Add items from an iterable\n",
    "print(d)"
   ]
  },
  {
   "cell_type": "code",
   "execution_count": 33,
   "id": "9d84d3cf-29b1-416c-b70c-fc55b905783a",
   "metadata": {},
   "outputs": [
    {
     "name": "stdout",
     "output_type": "stream",
     "text": [
      "{'brand': 'Ford', 'model': 'Mustang', 'year': 1964, 'color': 'red'}\n"
     ]
    }
   ],
   "source": [
    "d = {\"brand\": \"Ford\",\"model\": \"Mustang\",\"year\": 1964}\n",
    "d.update({\"color\": \"red\"})\n",
    "print(d)"
   ]
  },
  {
   "cell_type": "code",
   "execution_count": 4,
   "id": "5def10cf-482e-49c3-9937-ea4070595a86",
   "metadata": {},
   "outputs": [
    {
     "name": "stdout",
     "output_type": "stream",
     "text": [
      "{1: 'Python dict', 2: 'Chauhan', 3: 'working', 'age': 22}\n"
     ]
    }
   ],
   "source": [
    "d = {1: 'Vijay', 2: 'Chauhan', 3: 'working'}\n",
    "d[\"age\"] = 22\n",
    "d[1] = \"Python dict\"\n",
    "\n",
    "print(d)"
   ]
  },
  {
   "cell_type": "code",
   "execution_count": 16,
   "id": "d28064b2-e05c-4a54-b4ee-e31b4b158b5f",
   "metadata": {},
   "outputs": [
    {
     "name": "stdout",
     "output_type": "stream",
     "text": [
      "{1: 10, 2: 20, 3: 30, 4: 40, 5: 50}\n"
     ]
    }
   ],
   "source": [
    "d = {1: 10, 2: 20, 3: 30}\n",
    "a = [(4, 40), (5, 50)]               # List of key-value pairs\n",
    "d.update(a)                          # Adds items from the iterable\n",
    "print(d)  "
   ]
  },
  {
   "cell_type": "code",
   "execution_count": 32,
   "id": "9f8a4358-cc2c-426b-a3ba-24e830fc3fb7",
   "metadata": {},
   "outputs": [
    {
     "name": "stdout",
     "output_type": "stream",
     "text": [
      "{'x': 1, 'y': 3, 'z': 4}\n"
     ]
    }
   ],
   "source": [
    "# Merging and Concatenating two Dictionaris \n",
    "\n",
    "d1 = {'x': 1, 'y': 2}\n",
    "d2 = {'y': 3, 'z': 4}\n",
    "\n",
    "d3 = d1.copy()\n",
    "for key, value in d2.items():\n",
    "    d3[key] = value\n",
    "\n",
    "print(d3)"
   ]
  },
  {
   "cell_type": "markdown",
   "id": "410a655a-204a-4572-81ac-01450705777e",
   "metadata": {},
   "source": [
    "# ➩➩  Remove Dictionary Items\n",
    "#### There are several methods to remove items from a dictionary:"
   ]
  },
  {
   "cell_type": "markdown",
   "id": "0167531b-8e4f-4ffa-8e11-25f49c0a8703",
   "metadata": {},
   "source": [
    "# ⮩ The pop() method \n",
    "### _The __pop() method__ removes the item with the specified key name:_"
   ]
  },
  {
   "cell_type": "code",
   "execution_count": 35,
   "id": "044ffafc-3f85-4cd5-8b1a-5d266ca98aa1",
   "metadata": {},
   "outputs": [
    {
     "name": "stdout",
     "output_type": "stream",
     "text": [
      "{'brand': 'Ford', 'year': 1964}\n"
     ]
    }
   ],
   "source": [
    "dd = {\n",
    "  \"brand\": \"Ford\",\n",
    "  \"model\": \"Mustang\",\n",
    "  \"year\": 1964\n",
    "}\n",
    "dd.pop(\"model\")\n",
    "print(dd)"
   ]
  },
  {
   "cell_type": "code",
   "execution_count": 17,
   "id": "07822673-1758-48ae-84a0-15f855a3316a",
   "metadata": {},
   "outputs": [
    {
     "name": "stdout",
     "output_type": "stream",
     "text": [
      "{'x': 100, 'z': 300}\n",
      "200\n"
     ]
    }
   ],
   "source": [
    "d = {'x': 100, 'y': 200, 'z': 300}\n",
    "removed_value = d.pop('y')\n",
    "\n",
    "print(d)  \n",
    "print(removed_value) "
   ]
  },
  {
   "cell_type": "code",
   "execution_count": 23,
   "id": "cca803ab-d585-438f-ba3e-cebb2ff3ffa0",
   "metadata": {},
   "outputs": [
    {
     "name": "stdout",
     "output_type": "stream",
     "text": [
      "{'nikhil': 1, 'manjeet': 10, 'Suraj': 15}\n"
     ]
    }
   ],
   "source": [
    "d = {'nikhil': 1, 'manjeet': 10, 'Amit': 15}\n",
    "\n",
    "val = d.pop('Amit')\n",
    "d['Suraj'] = val\n",
    "\n",
    "print(d)"
   ]
  },
  {
   "cell_type": "code",
   "execution_count": 41,
   "id": "111d91e9-85e0-4775-ace1-91b2b547bccf",
   "metadata": {},
   "outputs": [
    {
     "name": "stdout",
     "output_type": "stream",
     "text": [
      "{'name': 'Nikki', 'city': 'New York'}\n",
      "25\n"
     ]
    }
   ],
   "source": [
    "a = {\"name\": \"Nikki\", \"age\": 25, \"city\": \"New York\"}\n",
    "                                                        # Remove the key 'age'\n",
    "nk = a.pop(\"age\")\n",
    "\n",
    "print(a)  \n",
    "print(nk)"
   ]
  },
  {
   "cell_type": "markdown",
   "id": "a23f71c7-2ed0-4d4f-8900-60f118242684",
   "metadata": {},
   "source": [
    "# ⮩ The popitem() method \n",
    "### _The __popitem() method__  removes the last inserted item._ \n",
    "#### _The __popitem() method__ removes the item that was last inserted into the dictionary. In versions before 3.7,_   \n",
    "### _the __popitem() method__ removes a random item._"
   ]
  },
  {
   "cell_type": "code",
   "execution_count": 36,
   "id": "6d3e25e2-25f5-4c72-b975-c0fd81665377",
   "metadata": {},
   "outputs": [
    {
     "name": "stdout",
     "output_type": "stream",
     "text": [
      "{'brand': 'Ford', 'model': 'Mustang'}\n"
     ]
    }
   ],
   "source": [
    "thisdict = {\n",
    "  \"brand\": \"Ford\",\n",
    "  \"model\": \"Mustang\",\n",
    "  \"year\": 1964\n",
    "}\n",
    "thisdict.popitem()\n",
    "print(thisdict)"
   ]
  },
  {
   "cell_type": "code",
   "execution_count": 39,
   "id": "dba92b0c-56b5-4fc5-bbed-e95093be3ec7",
   "metadata": {},
   "outputs": [
    {
     "name": "stdout",
     "output_type": "stream",
     "text": [
      "('year', 1964)\n"
     ]
    }
   ],
   "source": [
    "car = {\"brand\": \"Ford\",\"model\": \"Mustang\",\"year\": 1964}\n",
    "x = car.popitem()\n",
    "\n",
    "print(x)"
   ]
  },
  {
   "cell_type": "code",
   "execution_count": 40,
   "id": "42c76284-d915-4f17-8aac-be91f0d378fe",
   "metadata": {},
   "outputs": [
    {
     "name": "stdout",
     "output_type": "stream",
     "text": [
      "{'name': 'Nikki', 'age': 25}\n",
      "('city', 'New York')\n"
     ]
    }
   ],
   "source": [
    "a = {\"name\": \"Nikki\", \"age\": 25, \"city\": \"New York\"}\n",
    "                                                       # Remove the last key-value pair\n",
    "c = a.popitem()\n",
    "\n",
    "print(a)  \n",
    "print(c)"
   ]
  },
  {
   "cell_type": "markdown",
   "id": "593158d9-9df9-464c-98c1-1ec127b1fd50",
   "metadata": {},
   "source": [
    "# ⮩ del () method\n",
    "### _The _del_ keyword removes the item with the specified key name : It can also delete the dictionary completely :_\n"
   ]
  },
  {
   "cell_type": "code",
   "execution_count": 37,
   "id": "09aa91bc-9238-44b6-8726-7943c8551603",
   "metadata": {},
   "outputs": [
    {
     "name": "stdout",
     "output_type": "stream",
     "text": [
      "{'brand': 'Ford', 'year': 1964}\n"
     ]
    }
   ],
   "source": [
    "mydict = {\n",
    "  \"brand\": \"Ford\",\n",
    "  \"model\": \"Mustang\",\n",
    "  \"year\": 1964\n",
    "}\n",
    "del mydict[\"model\"]\n",
    "print(mydict)"
   ]
  },
  {
   "cell_type": "code",
   "execution_count": 38,
   "id": "898ace22-0489-4643-92dd-a861488502f5",
   "metadata": {},
   "outputs": [
    {
     "ename": "NameError",
     "evalue": "name 'dict1' is not defined",
     "output_type": "error",
     "traceback": [
      "\u001b[1;31m---------------------------------------------------------------------------\u001b[0m",
      "\u001b[1;31mNameError\u001b[0m                                 Traceback (most recent call last)",
      "Cell \u001b[1;32mIn[38], line 3\u001b[0m\n\u001b[0;32m      1\u001b[0m dict1 \u001b[38;5;241m=\u001b[39m {\u001b[38;5;124m\"\u001b[39m\u001b[38;5;124mbrand\u001b[39m\u001b[38;5;124m\"\u001b[39m: \u001b[38;5;124m\"\u001b[39m\u001b[38;5;124mFord\u001b[39m\u001b[38;5;124m\"\u001b[39m,\u001b[38;5;124m\"\u001b[39m\u001b[38;5;124mmodel\u001b[39m\u001b[38;5;124m\"\u001b[39m: \u001b[38;5;124m\"\u001b[39m\u001b[38;5;124mMustang\u001b[39m\u001b[38;5;124m\"\u001b[39m,\u001b[38;5;124m\"\u001b[39m\u001b[38;5;124myear\u001b[39m\u001b[38;5;124m\"\u001b[39m: \u001b[38;5;241m1964\u001b[39m}\n\u001b[0;32m      2\u001b[0m \u001b[38;5;28;01mdel\u001b[39;00m dict1\n\u001b[1;32m----> 3\u001b[0m \u001b[38;5;28mprint\u001b[39m(dict1)\n",
      "\u001b[1;31mNameError\u001b[0m: name 'dict1' is not defined"
     ]
    }
   ],
   "source": [
    "dict1 = {\"brand\": \"Ford\",\"model\": \"Mustang\",\"year\": 1964}\n",
    "del dict1\n",
    "print(dict1)                            # this will cause an error because \"thisdict\" no longer exists."
   ]
  },
  {
   "cell_type": "code",
   "execution_count": 70,
   "id": "dcd2cb03-0341-42a8-b100-ad04c9e182b1",
   "metadata": {},
   "outputs": [
    {
     "name": "stdout",
     "output_type": "stream",
     "text": [
      "{'name': 'Vijay', 'age': 25}\n"
     ]
    }
   ],
   "source": [
    "a = {\"name\": \"Vijay\", \"age\": 25, \"city\": \"New York\"}\n",
    "                                   # Delete the key 'city'\n",
    "del a[\"city\"]\n",
    "print(a)"
   ]
  },
  {
   "cell_type": "code",
   "execution_count": 71,
   "id": "660ac298-fdee-456e-bd45-05fbe1e51ffd",
   "metadata": {},
   "outputs": [
    {
     "name": "stdout",
     "output_type": "stream",
     "text": [
      "{'name': 'Vijay'}\n"
     ]
    }
   ],
   "source": [
    "a = {\"name\": \"Vijay\", \"age\": 25, \"city\": \"New York\"}\n",
    "                                   # Delete the keys 'age' & 'city'\n",
    "del a[\"age\"] , a[\"city\"]\n",
    "print(a)"
   ]
  },
  {
   "cell_type": "markdown",
   "id": "27837580-9e04-4339-8dab-9647b4897b85",
   "metadata": {},
   "source": [
    "# Creating a new dictionary by Deleting old one"
   ]
  },
  {
   "cell_type": "code",
   "execution_count": 29,
   "id": "1b642dbc-32e3-410b-b9d6-856724536313",
   "metadata": {},
   "outputs": [
    {
     "name": "stdout",
     "output_type": "stream",
     "text": [
      "{'nikhil': 1, 'vashu': 5, 'manjeet': 10, 'akshat': 15}\n",
      "{'nikhil': 1, 'vashu': 5, 'manjeet': 10, 'akash': 15}\n"
     ]
    }
   ],
   "source": [
    "d = {'nikhil': 1, 'vashu': 5,'manjeet': 10, 'akshat': 15}\n",
    "print(d)\n",
    "\n",
    "d['akash'] = d['akshat']\n",
    "del d['akshat']\n",
    "\n",
    "print(d)"
   ]
  },
  {
   "cell_type": "code",
   "execution_count": 30,
   "id": "6983e302-f876-4883-8c12-cb3a8d4d8900",
   "metadata": {},
   "outputs": [
    {
     "name": "stdout",
     "output_type": "stream",
     "text": [
      "{'nikhil': 1, 'manjeet': 10, 'Suraj': 15}\n"
     ]
    }
   ],
   "source": [
    "d1 = {'nikhil': 1, 'manjeet': 10, 'Amit': 15}\n",
    "d2 = {}\n",
    "for key, val in d1.items():\n",
    "    if key == 'Amit':\n",
    "        d2['Suraj'] = val\n",
    "    else:\n",
    "        d2[key] = val\n",
    "del d1\n",
    "d1 = d2\n",
    "print(d1)"
   ]
  },
  {
   "cell_type": "markdown",
   "id": "68022306-dad2-48a6-8291-f110324d325c",
   "metadata": {},
   "source": [
    "# ⮩ The clear() method \n",
    "### The __clear() method__ empties the dictionary:\n",
    "#### _The __clear() method__ removes all the elements from a dictionary._"
   ]
  },
  {
   "cell_type": "code",
   "execution_count": 81,
   "id": "2a472506-eec9-4ecb-8ab4-d460d601b971",
   "metadata": {},
   "outputs": [
    {
     "name": "stdout",
     "output_type": "stream",
     "text": [
      "{}\n"
     ]
    }
   ],
   "source": [
    "car = {\"brand\": \"Ford\",\"model\": \"Mustang\",\"year\": 1964}\n",
    "car.clear()\n",
    "print(car)"
   ]
  },
  {
   "cell_type": "code",
   "execution_count": 108,
   "id": "5f369f0e-5795-46b8-9ffa-7bb333a0a70f",
   "metadata": {},
   "outputs": [
    {
     "name": "stdout",
     "output_type": "stream",
     "text": [
      "{}\n"
     ]
    }
   ],
   "source": [
    "a = {\"name\": \"Vijay\", \"age\" : 28 , \"country\" : \"India\", \"gender\" : \"male\" , \"mail id\" : \"Ranvijay@gmail.com\" }\n",
    "\n",
    "a.clear()\n",
    "print(a)"
   ]
  },
  {
   "cell_type": "code",
   "execution_count": 106,
   "id": "1087a8c3-6659-4062-9f5a-c2259bc91564",
   "metadata": {},
   "outputs": [
    {
     "name": "stdout",
     "output_type": "stream",
     "text": [
      "None\n"
     ]
    }
   ],
   "source": [
    "# if we use varaible for clear method it will show 'none'\n",
    "\n",
    "a = {\"name\": \"Vijay\", \"age\" : 28 , \"country\" : \"India\", \"gender\" : \"male\" , \"mail id\" : \"Ranvijay@gmail.com\" }\n",
    "\n",
    "b = a.clear()\n",
    "print(b)"
   ]
  },
  {
   "cell_type": "code",
   "execution_count": 39,
   "id": "004beb41-04d2-44e9-9302-007c1f1231df",
   "metadata": {},
   "outputs": [
    {
     "name": "stdout",
     "output_type": "stream",
     "text": [
      "{}\n"
     ]
    }
   ],
   "source": [
    "thisdict = {\n",
    "  \"brand\": \"Ford\",\n",
    "  \"model\": \"Mustang\",\n",
    "  \"year\": 1964\n",
    "}\n",
    "thisdict.clear()\n",
    "print(thisdict)"
   ]
  },
  {
   "cell_type": "markdown",
   "id": "91e1ccd7-801a-4db3-88e7-9b753b9ef17b",
   "metadata": {},
   "source": [
    "# ➩➩    Loop Through a Dictionary\n",
    "## _we can loop through a dictionary by using a for loop._\n",
    "\n",
    "### _When looping through a dictionary, the return value are the keys of the dictionary, but there are methods to return the values as well._"
   ]
  },
  {
   "cell_type": "markdown",
   "id": "a8836a67-561e-41f9-805a-33d40cfcb0c0",
   "metadata": {},
   "source": [
    "# Print all key names in the dictionary , one by one:"
   ]
  },
  {
   "cell_type": "code",
   "execution_count": 55,
   "id": "85b4d742-c6f0-412c-a1fb-a8882d4b92d7",
   "metadata": {},
   "outputs": [
    {
     "name": "stdout",
     "output_type": "stream",
     "text": [
      "brand\n",
      "model\n",
      "year\n"
     ]
    }
   ],
   "source": [
    "dict1 = {\"brand\": \"Ford\",\"model\": \"Mustang\",\"year\": 1964}\n",
    "\n",
    "for x in dict1:\n",
    "  print(x)"
   ]
  },
  {
   "cell_type": "code",
   "execution_count": 42,
   "id": "e75310bd-5afc-454b-a928-0e46a14d3a54",
   "metadata": {},
   "outputs": [
    {
     "name": "stdout",
     "output_type": "stream",
     "text": [
      "{(\"19.07'53.2\", \"72.54'51.0\"): 'Mumbai', (\"28.33'34.1\", \"77.06'16.6\"): 'Delhi'}\n",
      "\n",
      "\n",
      "[\"19.07'53.2\", \"28.33'34.1\"]\n",
      "[\"72.54'51.0\", \"77.06'16.6\"]\n",
      "['Mumbai', 'Delhi']\n"
     ]
    }
   ],
   "source": [
    "places = {(\"19.07'53.2\", \"72.54'51.0\"):\"Mumbai\",              # dictionary with keys having multiple inputs \n",
    "          (\"28.33'34.1\", \"77.06'16.6\"):\"Delhi\"}\n",
    "\n",
    "print(places)\n",
    "print('\\n')\n",
    "\n",
    "lat = []\n",
    "long = []\n",
    "plc = []\n",
    "for i in places:\n",
    "    lat.append(i[0])\n",
    "    long.append(i[1])\n",
    "    plc.append(places[i[0], i[1]])\n",
    "\n",
    "print(lat)\n",
    "print(long)\n",
    "print(plc)"
   ]
  },
  {
   "cell_type": "markdown",
   "id": "8329fa55-8bc4-488e-b384-93d5f80219a8",
   "metadata": {},
   "source": [
    "# ⮩ we can use the __keys() method__ to return the keys of a dictionary :"
   ]
  },
  {
   "cell_type": "code",
   "execution_count": 57,
   "id": "78fcaa84-0426-4e3b-88f2-3c5ed85b3685",
   "metadata": {},
   "outputs": [
    {
     "name": "stdout",
     "output_type": "stream",
     "text": [
      "brand\n",
      "model\n",
      "year\n"
     ]
    }
   ],
   "source": [
    "dict1 = {\"brand\": \"Ford\",\"model\": \"Mustang\",\"year\": 1964}\n",
    "for x in dict1.keys():\n",
    "  print(x)"
   ]
  },
  {
   "cell_type": "markdown",
   "id": "a1ba1ad3-b530-4265-ad5c-2d0e4ce67cb8",
   "metadata": {},
   "source": [
    "# ⮩ we can also use the __values() method__ to return values of a dictionary :"
   ]
  },
  {
   "cell_type": "code",
   "execution_count": 44,
   "id": "7364061c-c820-4d8e-858a-9f570cb30ac0",
   "metadata": {},
   "outputs": [
    {
     "name": "stdout",
     "output_type": "stream",
     "text": [
      "Ford\n",
      "Mustang\n",
      "1964\n"
     ]
    }
   ],
   "source": [
    "dict1 = {\"brand\": \"Ford\",\"model\": \"Mustang\",\"year\": 1964}\n",
    "\n",
    "for x in dict1.values():\n",
    "  print(x)"
   ]
  },
  {
   "cell_type": "markdown",
   "id": "3d9c4e1d-c067-4cad-84a6-accc4d7f079e",
   "metadata": {},
   "source": [
    "# ⮩ Loop through both keys and values, by using the __items() method__ :"
   ]
  },
  {
   "cell_type": "code",
   "execution_count": 54,
   "id": "6499d73b-484c-43a7-8587-11304abf95c8",
   "metadata": {},
   "outputs": [
    {
     "name": "stdout",
     "output_type": "stream",
     "text": [
      "brand Ford\n",
      "model Mustang\n",
      "year 1964\n"
     ]
    }
   ],
   "source": [
    "\n",
    "dict1 = {\"brand\": \"Ford\",\"model\": \"Mustang\",\"year\": 1964}\n",
    "for x, y in dict1.items():\n",
    "  print (x, y )"
   ]
  },
  {
   "cell_type": "code",
   "execution_count": 10,
   "id": "abc7aaf8-fb62-49bc-b5b3-346c9641f4d9",
   "metadata": {},
   "outputs": [
    {
     "name": "stdout",
     "output_type": "stream",
     "text": [
      "{'p': 5, 'q': 10, 'r': 15}\n"
     ]
    }
   ],
   "source": [
    "keys = ['p', 'q', 'r']\n",
    "values = [5, 10, 15]\n",
    "\n",
    "d = {} \n",
    "for i in range(len(keys)):\n",
    "    d[keys[i]] = values[i]\n",
    "\n",
    "print(d)"
   ]
  },
  {
   "cell_type": "code",
   "execution_count": 45,
   "id": "5b22ba25-bfa3-47ee-9954-b66668fdd585",
   "metadata": {},
   "outputs": [
    {
     "name": "stdout",
     "output_type": "stream",
     "text": [
      "1\n",
      "2\n",
      "Working\n",
      "Ranvijay\n",
      "is\n",
      "22\n",
      "1: Ranvijay\n",
      "2: is\n",
      "Working: 22\n"
     ]
    }
   ],
   "source": [
    "d = {1: 'Ranvijay', 2: 'is', 'Working':22}\n",
    "for key in d:\n",
    "    print(key)\n",
    "for value in d.values():\n",
    "    print(value)\n",
    "                                       # Iterate over key-value pairs\n",
    "for key, value in d.items():\n",
    "    print(f\"{key}: {value}\")"
   ]
  },
  {
   "cell_type": "markdown",
   "id": "d9e61b1b-95e1-404a-8c56-ea93e40caee6",
   "metadata": {},
   "source": [
    "# ➩➩ Copy Dictionaries\n",
    "\n",
    "#### _You cannot copy a dictionary simply by typing dict2 = dict1 , because : dict2 will only be a reference to dict1 , and changes made in dict1  will automatically also be made in dict2._   \n",
    "#### _There are ways to make a copy , one way is to use the built-in Dictionary method copy()._"
   ]
  },
  {
   "cell_type": "markdown",
   "id": "0acbc552-d68b-49db-befd-844cc3d42339",
   "metadata": {},
   "source": [
    "# ⮩ copy() method\n",
    "### _The __copy() method__ returns a copy of the specified dictionary_"
   ]
  },
  {
   "cell_type": "code",
   "execution_count": 47,
   "id": "368ff6bc-d0d2-4372-bfae-a0ea326febbe",
   "metadata": {},
   "outputs": [
    {
     "name": "stdout",
     "output_type": "stream",
     "text": [
      "{'brand': 'Ford', 'model': 'Mustang', 'year': 1964}\n"
     ]
    }
   ],
   "source": [
    "car = {\"brand\": \"Ford\",\"model\": \"Mustang\",\"year\": 1964}\n",
    "x = car.copy()\n",
    "print(x)"
   ]
  },
  {
   "cell_type": "code",
   "execution_count": 48,
   "id": "77bc0bf4-4790-4297-b270-9f8a681f4218",
   "metadata": {},
   "outputs": [
    {
     "name": "stdout",
     "output_type": "stream",
     "text": [
      "{'brand': 'Ford', 'model': 'Mustang', 'year': 1964}\n"
     ]
    }
   ],
   "source": [
    "thisdict = {\"brand\": \"Ford\",\"model\": \"Mustang\", \"year\": 1964 }\n",
    "mydict = thisdict.copy()\n",
    "print(mydict)"
   ]
  },
  {
   "cell_type": "code",
   "execution_count": 49,
   "id": "e43d253d-1237-4c04-b8a3-758c1d4f5cc6",
   "metadata": {},
   "outputs": [
    {
     "name": "stdout",
     "output_type": "stream",
     "text": [
      "{'brand': 'Ford', 'model': 'Mustang', 'year': 1964}\n"
     ]
    }
   ],
   "source": [
    "thisdict = {                 # copy of dictionary using dict function\n",
    "  \"brand\": \"Ford\",\n",
    "  \"model\": \"Mustang\",\n",
    "  \"year\": 1964\n",
    "}\n",
    "mydict = dict(thisdict)\n",
    "print(mydict)"
   ]
  },
  {
   "cell_type": "markdown",
   "id": "60fe3d8b-55a4-42c3-9b13-68ffcf93aede",
   "metadata": {},
   "source": [
    "# ➩ Nested Dictionaries\n",
    "### _A dictionary can contain dictionaries, this is called nested dictionaries._"
   ]
  },
  {
   "cell_type": "code",
   "execution_count": 50,
   "id": "9c65d1c2-4bae-47e9-8647-9174e5daf35f",
   "metadata": {},
   "outputs": [
    {
     "name": "stdout",
     "output_type": "stream",
     "text": [
      "{'child1': {'name': 'Emil', 'year': 2004}, 'child2': {'name': 'Tobias', 'year': 2007}, 'child3': {'name': 'Linus', 'year': 2011}}\n"
     ]
    }
   ],
   "source": [
    "myfam = {\"child1\" : {\"name\" : \"Emil\",\"year\" : 2004},\n",
    "        \"child2\" : {\"name\" : \"Tobias\",\"year\" : 2007},\n",
    "        \"child3\" : {\"name\" : \"Linus\",\"year\" : 2011}}\n",
    "\n",
    "print(myfam)"
   ]
  },
  {
   "cell_type": "code",
   "execution_count": 51,
   "id": "a557ee85-5a78-41ac-9632-43d461a83e32",
   "metadata": {},
   "outputs": [
    {
     "name": "stdout",
     "output_type": "stream",
     "text": [
      "{'child1': {'name': 'Emil', 'year': 2004}, 'child2': {'name': 'Tobias', 'year': 2007}, 'child3': {'name': 'Linus', 'year': 2011}}\n",
      "<class 'dict'>\n"
     ]
    }
   ],
   "source": [
    "child1 = {\"name\" : \"Emil\",\"year\" : 2004}\n",
    "child2 = {\"name\" : \"Tobias\",\"year\" : 2007}\n",
    "child3 = {\"name\" : \"Linus\",\"year\" : 2011}\n",
    "\n",
    "myfam = {\"child1\" : child1,\"child2\" : child2, \"child3\" : child3}\n",
    "\n",
    "print(myfam)\n",
    "print(type(myfam))"
   ]
  },
  {
   "cell_type": "markdown",
   "id": "9262b9f4-c61e-402f-845b-8c574e2f2dd6",
   "metadata": {},
   "source": [
    "# ➩➩ Access Items in Nested Dictionaries\n",
    "### _To access items from a nested dictionary, you use the name of the dictionaries, starting with the outer dictionary :_"
   ]
  },
  {
   "cell_type": "code",
   "execution_count": 52,
   "id": "00971e5b-5a14-4a0c-af0e-0034c8bc33be",
   "metadata": {},
   "outputs": [
    {
     "name": "stdout",
     "output_type": "stream",
     "text": [
      "Tobias\n",
      "27\n"
     ]
    }
   ],
   "source": [
    "myfam = {\"child1\" : {\"name\" : \"Emil\",\"year\" : 2004},\n",
    "        \"child2\" : {\"name\" : \"Tobias\",\"year\" : 2007},\n",
    "        \"child3\" : {\"name\" : \"Linus\",\"year\" : 2011,\"family\":{\n",
    "        \"brother\":\"27\"\n",
    "        }}}\n",
    "print(myfam[\"child2\"][\"name\"])\n",
    "print(myfam[\"child3\"][\"family\"][\"brother\"])\n",
    "      "
   ]
  },
  {
   "cell_type": "code",
   "execution_count": 53,
   "id": "e77d879e-6828-42f7-b814-0a46210f2948",
   "metadata": {},
   "outputs": [
    {
     "name": "stdout",
     "output_type": "stream",
     "text": [
      "child1\n",
      "name: Emil\n",
      "year: 2004\n",
      "child2\n",
      "name: Tobias\n",
      "year: 2007\n",
      "child3\n",
      "name: Linus\n",
      "year: 2011\n"
     ]
    }
   ],
   "source": [
    "# Loop through the keys and values of all nested dictionaries:\n",
    "\n",
    "myfam = {\"child1\" : {\"name\" : \"Emil\",\"year\" : 2004}, \n",
    "        \"child2\" : {\"name\" : \"Tobias\",\"year\" : 2007},\n",
    "        \"child3\" : {\"name\" : \"Linus\",\"year\" : 2011 }}\n",
    "\n",
    "for x, obj in myfam.items():\n",
    "  print(x)\n",
    "\n",
    "  for y in obj:\n",
    "    print(y + ':', obj[y])\n",
    "      "
   ]
  },
  {
   "cell_type": "markdown",
   "id": "004386f4-c16e-432f-96e7-b8643469dd75",
   "metadata": {},
   "source": [
    "# ⮩ fromkeys() method \n",
    "#### _The __fromkeys () method__ returns a dictionary with the specified keys and the specified value._"
   ]
  },
  {
   "cell_type": "code",
   "execution_count": 54,
   "id": "c29163d2-9cea-4d24-a80f-34b43ec89821",
   "metadata": {},
   "outputs": [
    {
     "name": "stdout",
     "output_type": "stream",
     "text": [
      "{'key1': 0, 'key2': 0, 'key3': 0}\n"
     ]
    }
   ],
   "source": [
    "x = ('key1', 'key2', 'key3')\n",
    "y = 0\n",
    "thisdict = dict.fromkeys(x, y)\n",
    "\n",
    "print(thisdict)"
   ]
  },
  {
   "cell_type": "code",
   "execution_count": 55,
   "id": "9fd7b82e-dcbe-4e5d-b1b0-1feb586d6278",
   "metadata": {},
   "outputs": [
    {
     "name": "stdout",
     "output_type": "stream",
     "text": [
      "{'key1': None, 'key2': None, 'key3': None}\n"
     ]
    }
   ],
   "source": [
    "x = ('key1', 'key2', 'key3')\n",
    "thisdict = dict.fromkeys(x)\n",
    "\n",
    "print(thisdict)"
   ]
  },
  {
   "cell_type": "markdown",
   "id": "6cdde49f-c4c0-4694-9ccc-d8245bc594b7",
   "metadata": {},
   "source": [
    "# ⮩ setdefault () method\n",
    "### _The __setdefault() method__ returns the value of the item with the specified key._"
   ]
  },
  {
   "cell_type": "code",
   "execution_count": 56,
   "id": "a1574ad8-f569-43d6-81f8-7a6aed3d0b8a",
   "metadata": {},
   "outputs": [
    {
     "name": "stdout",
     "output_type": "stream",
     "text": [
      "Mustang\n"
     ]
    }
   ],
   "source": [
    "car = {\"brand\": \"Ford\",\"model\": \"Mustang\",\"year\": 1964}\n",
    "x = car.setdefault(\"model\", \"Bronco\")\n",
    "\n",
    "print(x)"
   ]
  },
  {
   "cell_type": "code",
   "execution_count": 57,
   "id": "597603b5-c3bd-4bc3-a451-71c93ac31215",
   "metadata": {},
   "outputs": [
    {
     "name": "stdout",
     "output_type": "stream",
     "text": [
      "white\n"
     ]
    }
   ],
   "source": [
    "car = {\"brand\": \"Ford\",\"model\": \"Mustang\",\"year\": 1964}\n",
    "x = car.setdefault(\"color\", \"white\")\n",
    "\n",
    "print(x)"
   ]
  },
  {
   "cell_type": "markdown",
   "id": "3b3d01c5-cd81-470e-b1ca-5165019a75ae",
   "metadata": {},
   "source": [
    "# Practice Questions"
   ]
  },
  {
   "cell_type": "code",
   "execution_count": null,
   "id": "3fa8504a-9d78-47a1-8b80-bbdd8f4bc9a2",
   "metadata": {},
   "outputs": [],
   "source": [
    "# PROBLEM : 1\n",
    "\n",
    "Chris recently got to know about his marks which he scored in various subjects. Now he wants to store\n",
    "his marks in the form of a dictionary. Write a python program to help Chris and his friends to store the\n",
    "marks inside the dictionary. Print the dictionary with the total marks of the student."
   ]
  },
  {
   "cell_type": "code",
   "execution_count": 4,
   "id": "8c390f0c-f052-4ad1-a263-b18ed20c2c6f",
   "metadata": {},
   "outputs": [
    {
     "name": "stdin",
     "output_type": "stream",
     "text": [
      "type your maths score here 88\n",
      "type your history score here 76\n",
      "type your science score here 65\n",
      "type your coding score here 78\n"
     ]
    },
    {
     "name": "stdout",
     "output_type": "stream",
     "text": [
      "{'maths': 88, 'history': 76, 'science': 65, 'coding': 78}\n"
     ]
    }
   ],
   "source": [
    "marks =  {}\n",
    "\n",
    "subjects = ['maths', 'history', 'science', 'coding']\n",
    "for i in subjects:\n",
    "    score = int(input(f'type your {i} score here'))\n",
    "    marks[i] = score\n",
    "print(marks)"
   ]
  },
  {
   "cell_type": "code",
   "execution_count": 5,
   "id": "3ace6be3-a3ad-4f9c-b671-52b3805b3341",
   "metadata": {},
   "outputs": [
    {
     "name": "stdout",
     "output_type": "stream",
     "text": [
      "307\n"
     ]
    }
   ],
   "source": [
    "# total marks\n",
    "\n",
    "total = sum ( list( marks.values() ) )\n",
    "print(total)"
   ]
  },
  {
   "cell_type": "code",
   "execution_count": 6,
   "id": "c02ce462-ce8f-47b2-b815-350a55aa4a0a",
   "metadata": {},
   "outputs": [
    {
     "name": "stdin",
     "output_type": "stream",
     "text": [
      "type your maths score here 88\n",
      "type your history score here 65\n",
      "type your science score here 67\n",
      "type your coding score here 89\n",
      "type your maths score here 90\n",
      "type your history score here 99\n",
      "type your science score here 98\n",
      "type your coding score here 87\n",
      "type your maths score here 76\n",
      "type your history score here 78\n",
      "type your science score here 89\n",
      "type your coding score here 87\n"
     ]
    },
    {
     "name": "stdout",
     "output_type": "stream",
     "text": [
      "{'paul': {'maths': 88, 'history': 65, 'science': 67, 'coding': 89}, 'alastair': {'maths': 90, 'history': 99, 'science': 98, 'coding': 87}, 'tim': {'maths': 76, 'history': 78, 'science': 89, 'coding': 87}}\n"
     ]
    }
   ],
   "source": [
    "students = {}\n",
    "names = ['paul', 'alastair', 'tim']\n",
    "for n in names:\n",
    "    marks =  {}\n",
    "    subjects = ['maths', 'history', 'science', 'coding']\n",
    "    for i in subjects:\n",
    "        score = int(input(f'type your {i} score here'))\n",
    "        marks[i] = score\n",
    "    students[n] = marks\n",
    "\n",
    "print(students)"
   ]
  },
  {
   "cell_type": "code",
   "execution_count": null,
   "id": "9c67844d-2409-43ef-8d5a-7961278ebab9",
   "metadata": {},
   "outputs": [],
   "source": [
    "# PROBLEM : 2\n",
    "\n",
    "Write a ython script to conactenatethe following dictionarises to create a new one."
   ]
  },
  {
   "cell_type": "code",
   "execution_count": 58,
   "id": "3092d127-c7e8-4d88-9ff1-f8dcec64dcbf",
   "metadata": {},
   "outputs": [
    {
     "name": "stdout",
     "output_type": "stream",
     "text": [
      "{1: 10, 2: 20, 3: 30, 4: 40, 5: 50, 6: 60}\n"
     ]
    }
   ],
   "source": [
    "dic1 = {1:10, 2:20}\n",
    "dic2 = {3:30, 4:40}\n",
    "dic3 = {5:50, 6:60}\n",
    "\n",
    "dic4 = {}\n",
    "for d in (dic1, dic2, dic3):\n",
    "    dic4.update(d)\n",
    "print(dic4)"
   ]
  },
  {
   "cell_type": "code",
   "execution_count": null,
   "id": "c0d000a4-c985-4c83-9779-3cad8fcb7312",
   "metadata": {},
   "outputs": [],
   "source": [
    "# PROBLEM : 3\n",
    "\n",
    "Write a Python script to concatenate the following dictionaries to create a new one."
   ]
  },
  {
   "cell_type": "code",
   "execution_count": 46,
   "id": "c7241dbd-cce0-4250-a169-67691ee7df81",
   "metadata": {},
   "outputs": [
    {
     "name": "stdout",
     "output_type": "stream",
     "text": [
      "{1: 10, 2: 20, 3: 30, 4: 48, 5: 50, 6: 60}\n"
     ]
    }
   ],
   "source": [
    "dic1 = {1:10, 2:20} \n",
    "dic2 = {3:30, 4:48}\n",
    "dic3 = {5:50,6:60}\n",
    "\n",
    "dic4 = {} \n",
    "\n",
    "for d in (dic1, dic2, dic3) : dic4.update(d) \n",
    "print(dic4)"
   ]
  },
  {
   "cell_type": "code",
   "execution_count": null,
   "id": "d399a92f-4a90-477a-aa9c-e556056fe812",
   "metadata": {},
   "outputs": [],
   "source": [
    "# PROBLEM : 4\n",
    "\n",
    "Write a Python program to print a dictionary table format."
   ]
  },
  {
   "cell_type": "code",
   "execution_count": 59,
   "id": "5126faf9-3b75-4fc7-bf9a-d7a7c9d4a0e3",
   "metadata": {},
   "outputs": [
    {
     "name": "stdout",
     "output_type": "stream",
     "text": [
      "C1 C2 C3\n",
      "1 5 9\n",
      "2 6 10\n",
      "3 7 11\n"
     ]
    }
   ],
   "source": [
    "my_dict = {'C1': [1,2,3], 'C2': [5,6,7], 'C3': [9,10,11]}\n",
    "\n",
    "for row in zip (*([key]+ (value) for key, value in sorted(my_dict.items()))):\n",
    "    \n",
    "    print(*row)"
   ]
  },
  {
   "cell_type": "code",
   "execution_count": null,
   "id": "3b5f2614-b34e-4b88-8969-f4e222c06a5d",
   "metadata": {},
   "outputs": [],
   "source": [
    "# PROBLEM : 5\n",
    "\n",
    "Print a dictionary where the keys are numbers between 1 and 15 and the values are square of keys"
   ]
  },
  {
   "cell_type": "code",
   "execution_count": 60,
   "id": "0077cccd-4a2d-4516-b058-06da65df4b2e",
   "metadata": {},
   "outputs": [
    {
     "name": "stdout",
     "output_type": "stream",
     "text": [
      "{1: 1, 2: 4, 3: 9, 4: 16, 5: 25, 6: 36, 7: 49, 8: 64, 9: 81, 10: 100, 11: 121, 12: 144, 13: 169, 14: 196, 15: 225}\n"
     ]
    }
   ],
   "source": [
    "d = dict()\n",
    "for x in range(1,16):\n",
    "    d[x]=x**2\n",
    "print(d)"
   ]
  },
  {
   "cell_type": "code",
   "execution_count": null,
   "id": "858ccc67-8b23-4f61-af7b-b4b59442c0f8",
   "metadata": {},
   "outputs": [],
   "source": [
    "# PROBEM : 5\n",
    "Create a dictionary book_ratings with the following initial data;\n",
    "\n",
    "'Python Programming' : 4.5\n",
    "'Data Science Handbook' : 4.8\n",
    "'Machine Learning Basics' : 4.2\n",
    "\n",
    "Check if Python Programming is in book_ratings.\n",
    "Print \"Found\" if it exists, otherwise print \"Not Found\".\n",
    "\n",
    "Use a method to get all keys from book_ratings and store them in a list titles.\n",
    "Print the list titles."
   ]
  },
  {
   "cell_type": "code",
   "execution_count": 140,
   "id": "37935477-ffe7-478f-bb37-fce75ec0d257",
   "metadata": {},
   "outputs": [
    {
     "name": "stdout",
     "output_type": "stream",
     "text": [
      "found\n",
      "['Python Programming', 'Data Science Handbook', 'Machine Learning Basics']\n"
     ]
    }
   ],
   "source": [
    "book_ratings = {\n",
    "    'Python Programming': 4.5,\n",
    "    'Data Science Handbook': 4.8, \n",
    "    'Machine Learning Basics': 4.2\n",
    "}\n",
    "\n",
    "if 'Python Programming' in book_ratings:\n",
    "    print(\"found\")\n",
    "else:\n",
    "    print('not found')\n",
    "\n",
    "titles = list(book_ratings.keys())\n",
    "print(titles)"
   ]
  },
  {
   "cell_type": "code",
   "execution_count": null,
   "id": "0a726748-4adb-466a-9b8b-12532f50b6ff",
   "metadata": {},
   "outputs": [],
   "source": [
    "# PROBLEM : 6\n",
    "Create a dictionary fruit_stock with the following items:\n",
    "'apple': 10\n",
    "'banana': 15\n",
    "'orange': 8\n",
    "'grape': 20\n",
    "\n",
    "Print each fruit along with its stock count\n",
    "in the format \"Fruit : Stock\", using a loop.\n",
    "\n",
    "OUTPUT\n",
    "\n",
    "Fruit: apple, Stock: 10\n",
    "Fruit: banana, Stock: 15\n",
    "Fruit: orange, Stock: 8\n",
    "Fruit: grape, Stock: 20"
   ]
  },
  {
   "cell_type": "code",
   "execution_count": 143,
   "id": "71660041-da15-4375-8f22-4dc34a23c1cd",
   "metadata": {},
   "outputs": [
    {
     "name": "stdout",
     "output_type": "stream",
     "text": [
      "Fruit: apple stock :  10\n",
      "Fruit: banana stock :  15\n",
      "Fruit: orange stock :  8\n",
      "Fruit: grape stock :  20\n"
     ]
    }
   ],
   "source": [
    "fruit_stock = {\n",
    "    'apple':10,\n",
    "    'banana' :15,\n",
    "    'orange': 8,\n",
    "    'grape': 20\n",
    "}\n",
    "for fruit in fruit_stock:\n",
    "    print(\"Fruit:\", fruit, \"stock : \", fruit_stock[fruit])"
   ]
  },
  {
   "cell_type": "code",
   "execution_count": null,
   "id": "5f1c9d43-86f4-4cc1-94be-a12824f55dbb",
   "metadata": {},
   "outputs": [],
   "source": [
    "# PROBLEM : 7\n",
    "Print a dictionary where the keys are numbers between 1 and 15 and the values are square of keys."
   ]
  },
  {
   "cell_type": "code",
   "execution_count": 144,
   "id": "f21ba5cf-7302-458b-9a9c-3fcccc1d2a14",
   "metadata": {},
   "outputs": [
    {
     "name": "stdout",
     "output_type": "stream",
     "text": [
      "{1: 1, 2: 4, 3: 9, 4: 16, 5: 25, 6: 36, 7: 49, 8: 64, 9: 81, 10: 100, 11: 121, 12: 144, 13: 169, 14: 196, 15: 225}\n"
     ]
    }
   ],
   "source": [
    "square_dict = {}\n",
    "for num in range(1, 16):\n",
    "    square_dict[num] = num**2\n",
    "print(square_dict)"
   ]
  },
  {
   "cell_type": "code",
   "execution_count": 145,
   "id": "c6ba5b05-4898-4064-8414-3a188893cbf0",
   "metadata": {},
   "outputs": [
    {
     "name": "stdout",
     "output_type": "stream",
     "text": [
      "{1: 1, 2: 4, 3: 9, 4: 16, 5: 25, 6: 36, 7: 49, 8: 64, 9: 81, 10: 100, 11: 121, 12: 144, 13: 169, 14: 196, 15: 225, 16: 256, 17: 289, 18: 324, 19: 361, 20: 400, 21: 441, 22: 484, 23: 529, 24: 576, 25: 625, 26: 676, 27: 729, 28: 784, 29: 841, 30: 900, 31: 961, 32: 1024, 33: 1089, 34: 1156, 35: 1225, 36: 1296, 37: 1369, 38: 1444, 39: 1521, 40: 1600, 41: 1681, 42: 1764, 43: 1849, 44: 1936, 45: 2025, 46: 2116, 47: 2209, 48: 2304, 49: 2401, 50: 2500, 51: 2601, 52: 2704, 53: 2809, 54: 2916, 55: 3025, 56: 3136, 57: 3249, 58: 3364, 59: 3481, 60: 3600, 61: 3721, 62: 3844, 63: 3969, 64: 4096, 65: 4225, 66: 4356, 67: 4489, 68: 4624, 69: 4761, 70: 4900, 71: 5041, 72: 5184, 73: 5329, 74: 5476, 75: 5625, 76: 5776, 77: 5929, 78: 6084, 79: 6241, 80: 6400, 81: 6561, 82: 6724, 83: 6889, 84: 7056, 85: 7225, 86: 7396, 87: 7569, 88: 7744, 89: 7921, 90: 8100, 91: 8281, 92: 8464, 93: 8649, 94: 8836, 95: 9025, 96: 9216, 97: 9409, 98: 9604, 99: 9801, 100: 10000}\n"
     ]
    }
   ],
   "source": [
    "# Example for numbers between 1 and 100: \n",
    "\n",
    "square_dict = {}\n",
    "for num in range(1, 101):\n",
    "    square_dict[num] = num**2\n",
    "print(square_dict)"
   ]
  },
  {
   "cell_type": "code",
   "execution_count": 146,
   "id": "ea58441d-77b0-44bc-a3ad-dcc779fb6d30",
   "metadata": {},
   "outputs": [
    {
     "name": "stdout",
     "output_type": "stream",
     "text": [
      "{1: 1, 2: 4, 3: 9, 4: 16, 5: 25, 6: 36, 7: 49, 8: 64, 9: 81, 10: 100, 11: 121, 12: 144, 13: 169, 14: 196, 15: 225, 16: 256, 17: 289, 18: 324, 19: 361, 20: 400, 21: 441, 22: 484, 23: 529, 24: 576, 25: 625, 26: 676, 27: 729, 28: 784, 29: 841, 30: 900, 31: 961, 32: 1024, 33: 1089, 34: 1156, 35: 1225, 36: 1296, 37: 1369, 38: 1444, 39: 1521, 40: 1600, 41: 1681, 42: 1764, 43: 1849, 44: 1936, 45: 2025, 46: 2116, 47: 2209, 48: 2304, 49: 2401, 50: 2500, 51: 2601, 52: 2704, 53: 2809, 54: 2916, 55: 3025, 56: 3136, 57: 3249, 58: 3364, 59: 3481, 60: 3600, 61: 3721, 62: 3844, 63: 3969, 64: 4096, 65: 4225, 66: 4356, 67: 4489, 68: 4624, 69: 4761, 70: 4900, 71: 5041, 72: 5184, 73: 5329, 74: 5476, 75: 5625, 76: 5776, 77: 5929, 78: 6084, 79: 6241, 80: 6400, 81: 6561, 82: 6724, 83: 6889, 84: 7056, 85: 7225, 86: 7396, 87: 7569, 88: 7744, 89: 7921, 90: 8100, 91: 8281, 92: 8464, 93: 8649, 94: 8836, 95: 9025, 96: 9216, 97: 9409, 98: 9604, 99: 9801, 100: 10000, 101: 10201, 102: 10404, 103: 10609, 104: 10816, 105: 11025, 106: 11236, 107: 11449, 108: 11664, 109: 11881, 110: 12100, 111: 12321, 112: 12544, 113: 12769, 114: 12996, 115: 13225, 116: 13456, 117: 13689, 118: 13924, 119: 14161, 120: 14400, 121: 14641, 122: 14884, 123: 15129, 124: 15376, 125: 15625, 126: 15876, 127: 16129, 128: 16384, 129: 16641, 130: 16900, 131: 17161, 132: 17424, 133: 17689, 134: 17956, 135: 18225, 136: 18496, 137: 18769, 138: 19044, 139: 19321, 140: 19600, 141: 19881, 142: 20164, 143: 20449, 144: 20736, 145: 21025, 146: 21316, 147: 21609, 148: 21904, 149: 22201, 150: 22500}\n"
     ]
    }
   ],
   "source": [
    "# Example for numbers between 1 and 151: \n",
    "\n",
    "square_dict = {}\n",
    "for num in range(1, 151):\n",
    "    square_dict[num] = num**2\n",
    "print(square_dict)"
   ]
  },
  {
   "cell_type": "code",
   "execution_count": null,
   "id": "f33e0c50-7bd4-42c9-8a6a-a4517dfa5ef6",
   "metadata": {},
   "outputs": [],
   "source": []
  }
 ],
 "metadata": {
  "kernelspec": {
   "display_name": "Python 3 (ipykernel)",
   "language": "python",
   "name": "python3"
  },
  "language_info": {
   "codemirror_mode": {
    "name": "ipython",
    "version": 3
   },
   "file_extension": ".py",
   "mimetype": "text/x-python",
   "name": "python",
   "nbconvert_exporter": "python",
   "pygments_lexer": "ipython3",
   "version": "3.12.7"
  }
 },
 "nbformat": 4,
 "nbformat_minor": 5
}
