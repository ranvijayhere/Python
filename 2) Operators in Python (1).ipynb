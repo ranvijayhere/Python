{
 "cells": [
  {
   "cell_type": "markdown",
   "id": "29302040-849f-4f9a-a6c6-d620d1fd14a6",
   "metadata": {},
   "source": [
    "# __2) Operators in Python__\n",
    "### _Operators are used to perform operations on variables and values._\n",
    "### _Operators in Python are special symbols or keywords that perform operations on one or more values, known as operands. Python supports various types of operators, categorized by the kind of operation they perform :_\n",
    "\n",
    "##### _In the example below, we use the + operator to add together two values :_  ⮯"
   ]
  },
  {
   "cell_type": "code",
   "execution_count": 10,
   "id": "8c5045d1-1e3f-495b-863c-2a0653a5ccf1",
   "metadata": {},
   "outputs": [
    {
     "name": "stdout",
     "output_type": "stream",
     "text": [
      "15\n"
     ]
    }
   ],
   "source": [
    "print(10 + 5)"
   ]
  },
  {
   "cell_type": "markdown",
   "id": "f5c2c0e6-8d3f-43a1-82c1-6860ac9763d9",
   "metadata": {},
   "source": [
    "# Python divides the operators in the following groups:"
   ]
  },
  {
   "cell_type": "markdown",
   "id": "9c4502a6-84a8-4b3b-8f02-1fec52b41b71",
   "metadata": {},
   "source": [
    "##### 1 )  Arithmetic operators\n",
    "##### 2 )  Assignment operators\n",
    "##### 3 ) Comparison operators\n",
    "##### 4 )  Logical operators\n",
    "##### 5 )  Identity operators\n",
    "##### 6 )  Membership operators\n",
    "##### 7 )  Bitwise operators"
   ]
  },
  {
   "cell_type": "markdown",
   "id": "911002e5-3553-4fba-b6ab-f9e5f5ee1f83",
   "metadata": {},
   "source": [
    "# 1) ➩➩ __Arithmetic Operators__\n",
    "\n",
    "### _Arithmetic operators are used with numeric values to perform common mathematical operations :_\n"
   ]
  },
  {
   "cell_type": "code",
   "execution_count": null,
   "id": "2b8b8293-36f4-48eb-8d9a-529c625e958c",
   "metadata": {},
   "outputs": [],
   "source": [
    "# Operator           Example\n",
    "\n",
    "+\tAddition\t     x + y \t\n",
    "-\tSubtraction      x - y\t \n",
    "*\tMultiplication\t x * y\t\n",
    "/\tDivision\t     x / y\t\n",
    "%\tModulus\t         x % y\t\n",
    "**\tExponentiation\t x ** y\t\n",
    "//\tFloor division\t x // y\t\n"
   ]
  },
  {
   "cell_type": "markdown",
   "id": "c9d8f738-7b22-404b-b1a1-ab5b81068feb",
   "metadata": {},
   "source": [
    "#  Addition  __+__\n",
    "### _This operator can be used to __add numerical values directly__, values stored in variables, or even values obtained from user input._"
   ]
  },
  {
   "cell_type": "code",
   "execution_count": 15,
   "id": "153f2e4e-8fae-4659-b555-fc4ab69d1469",
   "metadata": {},
   "outputs": [
    {
     "name": "stdout",
     "output_type": "stream",
     "text": [
      "4\n"
     ]
    }
   ],
   "source": [
    "a = 1\n",
    "b = 3\n",
    "print(a+b)"
   ]
  },
  {
   "cell_type": "code",
   "execution_count": 17,
   "id": "50b26c46-322d-4c76-9d04-0340ae78e66a",
   "metadata": {},
   "outputs": [
    {
     "name": "stdout",
     "output_type": "stream",
     "text": [
      "12.5\n"
     ]
    }
   ],
   "source": [
    "x = 5.7\n",
    "y = 6.8\n",
    "print(x+y)"
   ]
  },
  {
   "cell_type": "code",
   "execution_count": 1,
   "id": "4d18f7ca-8cb5-4088-b715-284587540514",
   "metadata": {},
   "outputs": [
    {
     "name": "stdout",
     "output_type": "stream",
     "text": [
      "hello Students\n",
      "helloStudents\n"
     ]
    }
   ],
   "source": [
    "a1 = \"hello\"\n",
    "b2 = \"Students\"\n",
    "print(a1+ \" \"+ b2)\n",
    "print(a1+b2)"
   ]
  },
  {
   "cell_type": "code",
   "execution_count": 21,
   "id": "8509b105-8400-41c7-8cdf-7d9cbaba19ee",
   "metadata": {},
   "outputs": [
    {
     "name": "stdout",
     "output_type": "stream",
     "text": [
      "(3+10j)\n"
     ]
    }
   ],
   "source": [
    "x1 = 2+6j\n",
    "y1 = 1+4j\n",
    "print(x1+y1)"
   ]
  },
  {
   "cell_type": "code",
   "execution_count": 22,
   "id": "7af5b385-408f-4026-af90-edf8fbd10c1c",
   "metadata": {},
   "outputs": [
    {
     "name": "stdout",
     "output_type": "stream",
     "text": [
      "-60\n"
     ]
    }
   ],
   "source": [
    "w1 = -65\n",
    "w2 = 5\n",
    "print(w1+w2)"
   ]
  },
  {
   "cell_type": "markdown",
   "id": "64e843ae-b3d2-4417-9409-7612fc522827",
   "metadata": {},
   "source": [
    "# Substraction __-__\n",
    "### _Subtraction in Python is performed using the ___minus sign__(-)___. This operator can be used with various numerical data types, including integers , floats , and even with more complex objects like datetime objects and timedelta objects ._"
   ]
  },
  {
   "cell_type": "code",
   "execution_count": 23,
   "id": "6b2abe02-2a0d-419d-ab7a-e9546f3ac44e",
   "metadata": {},
   "outputs": [
    {
     "name": "stdout",
     "output_type": "stream",
     "text": [
      "33\n"
     ]
    }
   ],
   "source": [
    "num1 = 56\n",
    "num2 = 23\n",
    "print(num1-num2)"
   ]
  },
  {
   "cell_type": "code",
   "execution_count": 2,
   "id": "12e7f081-8a74-47f3-86c3-5b584fb36dfd",
   "metadata": {},
   "outputs": [
    {
     "name": "stdout",
     "output_type": "stream",
     "text": [
      "-1.7000000000000002\n",
      "-1\n"
     ]
    }
   ],
   "source": [
    "a2, b2 = 3.5,5.2\n",
    "print(a2-b2)\n",
    "print(int(a2-b2))"
   ]
  },
  {
   "cell_type": "code",
   "execution_count": 25,
   "id": "cde16e2a-614f-401d-a904-27441c58cc16",
   "metadata": {},
   "outputs": [
    {
     "ename": "TypeError",
     "evalue": "unsupported operand type(s) for -: 'str' and 'str'",
     "output_type": "error",
     "traceback": [
      "\u001b[1;31m---------------------------------------------------------------------------\u001b[0m",
      "\u001b[1;31mTypeError\u001b[0m                                 Traceback (most recent call last)",
      "Cell \u001b[1;32mIn[25], line 3\u001b[0m\n\u001b[0;32m      1\u001b[0m var1 \u001b[38;5;241m=\u001b[39m \u001b[38;5;124m\"\u001b[39m\u001b[38;5;124mhello\u001b[39m\u001b[38;5;124m\"\u001b[39m\n\u001b[0;32m      2\u001b[0m var2 \u001b[38;5;241m=\u001b[39m \u001b[38;5;124m'\u001b[39m\u001b[38;5;124mstudents\u001b[39m\u001b[38;5;124m'\u001b[39m\n\u001b[1;32m----> 3\u001b[0m \u001b[38;5;28mprint\u001b[39m(var1\u001b[38;5;241m-\u001b[39mvar2)\n",
      "\u001b[1;31mTypeError\u001b[0m: unsupported operand type(s) for -: 'str' and 'str'"
     ]
    }
   ],
   "source": [
    "var1 = \"hello\"\n",
    "var2 = 'students'         # we cannot perform substraction for string values\n",
    "print(var1-var2)"
   ]
  },
  {
   "cell_type": "code",
   "execution_count": 27,
   "id": "5fb0c8fc-8287-44a7-bc9e-b258f4d725d9",
   "metadata": {},
   "outputs": [
    {
     "name": "stdout",
     "output_type": "stream",
     "text": [
      "(3+1j)\n"
     ]
    }
   ],
   "source": [
    "b1 = 5+5j\n",
    "b2 = 2+4j            # complex (one is actual value and other one is imaginary value)\n",
    "print(b1-b2)"
   ]
  },
  {
   "cell_type": "markdown",
   "id": "ea711e72-fb42-4568-8f98-0a663e17b5a7",
   "metadata": {},
   "source": [
    "# Multiplication __*__\n",
    "### _in Python, the primary way to perform multiplication is by using the_ ___asterisk (__*__) operator . This operator can be used with various data types :_"
   ]
  },
  {
   "cell_type": "code",
   "execution_count": 28,
   "id": "615aea78-6e9e-4086-a2db-f84a926078e9",
   "metadata": {},
   "outputs": [
    {
     "name": "stdout",
     "output_type": "stream",
     "text": [
      "1288\n"
     ]
    }
   ],
   "source": [
    "n = 56\n",
    "m = 23\n",
    "print(n*m)"
   ]
  },
  {
   "cell_type": "code",
   "execution_count": 29,
   "id": "4c6852f9-8dac-4fe2-8ff6-fb370e58278a",
   "metadata": {},
   "outputs": [
    {
     "name": "stdout",
     "output_type": "stream",
     "text": [
      "107094.9\n"
     ]
    }
   ],
   "source": [
    "n1 = 456.5\n",
    "m1 = 234.6\n",
    "print(n1*m1)"
   ]
  },
  {
   "cell_type": "code",
   "execution_count": 6,
   "id": "2b38f26e-99a2-42f7-a9bb-69907ce2b0c0",
   "metadata": {},
   "outputs": [
    {
     "name": "stdout",
     "output_type": "stream",
     "text": [
      "Im Vijay, Im Vijay, Im Vijay, Im Vijay, Im Vijay, \n"
     ]
    }
   ],
   "source": [
    "str1 = \"Im Vijay, \"\n",
    "print(str1*5)"
   ]
  },
  {
   "cell_type": "markdown",
   "id": "5fb478c3-5c1e-4715-838a-73608748b046",
   "metadata": {},
   "source": [
    "# Division  /\n",
    "###  ___True Division (/)___ _(Forward Slash) : This operator performs standard division and always returns a floating-point number, even if both operands are integers and the result is a whole number._"
   ]
  },
  {
   "cell_type": "code",
   "execution_count": 1,
   "id": "d147b0cc-c306-47aa-86a7-d291957b9efd",
   "metadata": {},
   "outputs": [
    {
     "name": "stdout",
     "output_type": "stream",
     "text": [
      "0.8333333333333334\n"
     ]
    }
   ],
   "source": [
    "a = 5\n",
    "b = 6\n",
    "print(a/b)"
   ]
  },
  {
   "cell_type": "code",
   "execution_count": 2,
   "id": "03164b08-1e3f-4698-90d1-ead6d99cf03d",
   "metadata": {},
   "outputs": [
    {
     "name": "stdout",
     "output_type": "stream",
     "text": [
      "0.4417152749030971\n"
     ]
    }
   ],
   "source": [
    "a1 = 234.754\n",
    "b1 = 531.46\n",
    "print(a1/b1)"
   ]
  },
  {
   "cell_type": "code",
   "execution_count": 4,
   "id": "c4d6dfcd-7b5d-4f8f-bd23-21c02be27635",
   "metadata": {},
   "outputs": [
    {
     "name": "stdout",
     "output_type": "stream",
     "text": [
      "(1.1+0.3j)\n"
     ]
    }
   ],
   "source": [
    "comp1 = 1+5j\n",
    "comp2 = 2+4j\n",
    "print(comp1/comp2)"
   ]
  },
  {
   "cell_type": "code",
   "execution_count": 5,
   "id": "91e5dc69-9ef7-4446-8db9-dfd47032bffa",
   "metadata": {},
   "outputs": [
    {
     "ename": "TypeError",
     "evalue": "unsupported operand type(s) for /: 'str' and 'str'",
     "output_type": "error",
     "traceback": [
      "\u001b[1;31m---------------------------------------------------------------------------\u001b[0m",
      "\u001b[1;31mTypeError\u001b[0m                                 Traceback (most recent call last)",
      "Cell \u001b[1;32mIn[5], line 3\u001b[0m\n\u001b[0;32m      1\u001b[0m str1 \u001b[38;5;241m=\u001b[39m\u001b[38;5;124m\"\u001b[39m\u001b[38;5;124mhello\u001b[39m\u001b[38;5;124m\"\u001b[39m\n\u001b[0;32m      2\u001b[0m str2 \u001b[38;5;241m=\u001b[39m \u001b[38;5;124m\"\u001b[39m\u001b[38;5;124mworld\u001b[39m\u001b[38;5;124m\"\u001b[39m\n\u001b[1;32m----> 3\u001b[0m \u001b[38;5;28mprint\u001b[39m(str1\u001b[38;5;241m/\u001b[39mstr2)\n",
      "\u001b[1;31mTypeError\u001b[0m: unsupported operand type(s) for /: 'str' and 'str'"
     ]
    }
   ],
   "source": [
    "str1 =\"hello\"\n",
    "str2 = \"world\"                #we cannot devide string values,  it must be numeric\n",
    "print(str1/str2)"
   ]
  },
  {
   "cell_type": "code",
   "execution_count": 7,
   "id": "53132938-7e33-4e7a-aee1-de937684b0e2",
   "metadata": {},
   "outputs": [
    {
     "name": "stdout",
     "output_type": "stream",
     "text": [
      "1.335\n"
     ]
    }
   ],
   "source": [
    "print(5.34/4)"
   ]
  },
  {
   "cell_type": "code",
   "execution_count": 6,
   "id": "5d401d1f-b372-4978-9508-c245d3b110d4",
   "metadata": {},
   "outputs": [
    {
     "name": "stdout",
     "output_type": "stream",
     "text": [
      "0.5111111111111111\n"
     ]
    }
   ],
   "source": [
    "print(23/45)"
   ]
  },
  {
   "cell_type": "markdown",
   "id": "58a3eaa9-4248-4184-ae1c-72f08d2cb630",
   "metadata": {},
   "source": [
    "# Modulus  __%__\n",
    "### _In Python, the modulo operator , represented by the __percentage sign (%)__ , calculates the remainder of a division operation ._ "
   ]
  },
  {
   "cell_type": "code",
   "execution_count": 1,
   "id": "76fadfad-dbe9-4015-b64b-824448cd6c8e",
   "metadata": {},
   "outputs": [
    {
     "name": "stdout",
     "output_type": "stream",
     "text": [
      "1\n",
      "2\n",
      "0\n",
      "1\n"
     ]
    }
   ],
   "source": [
    "                # %-modulus  - it gives the remainder of two numbers\n",
    "print(5%2)\n",
    "print(10%4)\n",
    "print(15%3)\n",
    "print(15%2)"
   ]
  },
  {
   "cell_type": "code",
   "execution_count": 15,
   "id": "dafbf3f1-b196-4977-ad4c-26edf2c87eff",
   "metadata": {},
   "outputs": [
    {
     "name": "stdout",
     "output_type": "stream",
     "text": [
      "1\n"
     ]
    }
   ],
   "source": [
    "result = 10 % 3          # 10 divided by 3 is 3 with a remainder of 1\n",
    "print(result)            "
   ]
  },
  {
   "cell_type": "code",
   "execution_count": 9,
   "id": "3e7e988d-551d-4a96-b4d4-20080acbfa04",
   "metadata": {},
   "outputs": [
    {
     "name": "stdout",
     "output_type": "stream",
     "text": [
      "45\n"
     ]
    }
   ],
   "source": [
    "print(45%56)"
   ]
  },
  {
   "cell_type": "code",
   "execution_count": 10,
   "id": "ea91b391-aa9f-4ee2-b2b5-74ab191a8713",
   "metadata": {},
   "outputs": [
    {
     "name": "stdout",
     "output_type": "stream",
     "text": [
      "38756845.5687\n"
     ]
    }
   ],
   "source": [
    "print(38756845.5687%687554566.685)"
   ]
  },
  {
   "cell_type": "code",
   "execution_count": 11,
   "id": "820ce394-0895-40e3-a320-d61b171c8728",
   "metadata": {},
   "outputs": [
    {
     "name": "stdout",
     "output_type": "stream",
     "text": [
      "3.4600000000000364\n"
     ]
    }
   ],
   "source": [
    "a1 = 554.5\n",
    "b1 = 34.44\n",
    "print(a1%b1)"
   ]
  },
  {
   "cell_type": "code",
   "execution_count": 14,
   "id": "fc21458f-14eb-44db-bfc4-c0a187fae67f",
   "metadata": {
    "scrolled": true
   },
   "outputs": [
    {
     "ename": "TypeError",
     "evalue": "unsupported operand type(s) for %: 'complex' and 'complex'",
     "output_type": "error",
     "traceback": [
      "\u001b[1;31m---------------------------------------------------------------------------\u001b[0m",
      "\u001b[1;31mTypeError\u001b[0m                                 Traceback (most recent call last)",
      "Cell \u001b[1;32mIn[14], line 3\u001b[0m\n\u001b[0;32m      1\u001b[0m a2 \u001b[38;5;241m=\u001b[39m \u001b[38;5;241m5\u001b[39m\u001b[38;5;241m+\u001b[39m\u001b[38;5;241m6\u001b[39mj\n\u001b[0;32m      2\u001b[0m b2 \u001b[38;5;241m=\u001b[39m \u001b[38;5;241m4\u001b[39m\u001b[38;5;241m+\u001b[39m\u001b[38;5;241m5\u001b[39mj                           \u001b[38;5;66;03m#we cannot do complex here\u001b[39;00m\n\u001b[1;32m----> 3\u001b[0m \u001b[38;5;28mprint\u001b[39m(a2\u001b[38;5;241m%\u001b[39mb2)\n",
      "\u001b[1;31mTypeError\u001b[0m: unsupported operand type(s) for %: 'complex' and 'complex'"
     ]
    }
   ],
   "source": [
    "a2 = 5+6j\n",
    "b2 = 4+5j                           # we cannot do complex values here.\n",
    "print(a2 % b2)"
   ]
  },
  {
   "cell_type": "markdown",
   "id": "d6e406ff-825e-499e-b139-3012abb7cdc6",
   "metadata": {},
   "source": [
    "# Exponent  **\n",
    "\n",
    "### _exponents, also __known as powers ( __**__ )__ , are calculated by raising a base number to a specified power._"
   ]
  },
  {
   "cell_type": "code",
   "execution_count": 2,
   "id": "f13dba92-1a65-4e4b-b996-3f5f98ee5ad7",
   "metadata": {},
   "outputs": [
    {
     "name": "stdout",
     "output_type": "stream",
     "text": [
      "9\n",
      "27\n",
      "81\n"
     ]
    }
   ],
   "source": [
    "                                # ** - exponents\n",
    "print(3**2)     # 3x3\n",
    "print(3**3)     # 3x3x3\n",
    "print(3**4)     # 3x3x3x3"
   ]
  },
  {
   "cell_type": "code",
   "execution_count": 14,
   "id": "522d2241-6a17-4428-af71-ea30b474e7ff",
   "metadata": {},
   "outputs": [
    {
     "name": "stdout",
     "output_type": "stream",
     "text": [
      "8\n"
     ]
    }
   ],
   "source": [
    "print(2 ** 3)            # (2 raised to the power of 3)\n"
   ]
  },
  {
   "cell_type": "code",
   "execution_count": 13,
   "id": "c7e8ae28-5dcb-4bc9-8e71-9c0cce60d785",
   "metadata": {},
   "outputs": [
    {
     "name": "stdout",
     "output_type": "stream",
     "text": [
      "81\n"
     ]
    }
   ],
   "source": [
    "a = 3\n",
    "b = 4\n",
    "print(a**b)"
   ]
  },
  {
   "cell_type": "code",
   "execution_count": 19,
   "id": "c44a27a2-cc1d-443e-ba9a-d77070f47f80",
   "metadata": {},
   "outputs": [
    {
     "name": "stdout",
     "output_type": "stream",
     "text": [
      "3.5347653980084264e+119\n"
     ]
    }
   ],
   "source": [
    "print(84086594865786845469.785468**6)"
   ]
  },
  {
   "cell_type": "code",
   "execution_count": 21,
   "id": "729a52a2-055b-4055-93ee-d82c19d64c30",
   "metadata": {},
   "outputs": [
    {
     "name": "stdout",
     "output_type": "stream",
     "text": [
      "262144\n"
     ]
    }
   ],
   "source": [
    "b1 = 8\n",
    "b2 = 6\n",
    "c = b1**b2\n",
    "print(c)"
   ]
  },
  {
   "cell_type": "code",
   "execution_count": 23,
   "id": "641e6ae4-9ebe-44f8-8d0e-ae0bb07a9ae4",
   "metadata": {},
   "outputs": [
    {
     "name": "stdout",
     "output_type": "stream",
     "text": [
      "26337675885.834545\n"
     ]
    }
   ],
   "source": [
    "print(54.546**6)"
   ]
  },
  {
   "cell_type": "markdown",
   "id": "4fe7c8a5-27a7-42f8-bda0-1411796e7b14",
   "metadata": {},
   "source": [
    "# Floor Division   //\n",
    "### _Floor division in Python is a mathematical operation that divides two numbers and rounds the result down to the nearest whole number. This operation is performed using the_ ___// operator.___ "
   ]
  },
  {
   "cell_type": "code",
   "execution_count": 3,
   "id": "c8de692f-b9c6-401d-b190-0ee3b4a17dd3",
   "metadata": {},
   "outputs": [
    {
     "name": "stdout",
     "output_type": "stream",
     "text": [
      "2.5\n",
      "2\n",
      "12.5\n",
      "12\n"
     ]
    }
   ],
   "source": [
    "                     # // - \tFloor division - division without decimals\n",
    "print(5/2)\n",
    "print(5//2)\n",
    "\n",
    "print(25/2)\n",
    "print(25//2)"
   ]
  },
  {
   "cell_type": "code",
   "execution_count": 25,
   "id": "2d7a8327-3a36-43ab-91e4-e812a5ce17d0",
   "metadata": {},
   "outputs": [
    {
     "name": "stdout",
     "output_type": "stream",
     "text": [
      "0\n"
     ]
    }
   ],
   "source": [
    "print(56//78)"
   ]
  },
  {
   "cell_type": "code",
   "execution_count": 26,
   "id": "feae5652-9e7d-49c2-a824-02ee85017f18",
   "metadata": {},
   "outputs": [
    {
     "name": "stdout",
     "output_type": "stream",
     "text": [
      "12209.0\n"
     ]
    }
   ],
   "source": [
    "print(683756.65//56)"
   ]
  },
  {
   "cell_type": "code",
   "execution_count": 28,
   "id": "2992db4c-9d33-4217-8d8b-c7db0360c6b3",
   "metadata": {},
   "outputs": [
    {
     "name": "stdout",
     "output_type": "stream",
     "text": [
      "612.0\n"
     ]
    }
   ],
   "source": [
    "print(4687564856.78458//7656486.8765)"
   ]
  },
  {
   "cell_type": "markdown",
   "id": "bcdee5a8-063f-4b07-bdb4-a8c2e55ca3ae",
   "metadata": {},
   "source": [
    "# Boolean Operator  [ True / False]\n",
    "### _Boolean operators, also known as logical operators, are used to combine and evaluate Boolean expressions (expressions that result in True or False). The three main Boolean operators in Python are :_"
   ]
  },
  {
   "cell_type": "code",
   "execution_count": 29,
   "id": "69681564-4e80-4efc-9a2c-4361a9266a62",
   "metadata": {},
   "outputs": [
    {
     "name": "stdout",
     "output_type": "stream",
     "text": [
      "<class 'bool'>\n"
     ]
    }
   ],
   "source": [
    "a = True\n",
    "print(type(a))\n"
   ]
  },
  {
   "cell_type": "code",
   "execution_count": 31,
   "id": "9c8a8a5f-1550-466b-9ecc-aa6e9ad4b5c4",
   "metadata": {},
   "outputs": [
    {
     "name": "stdout",
     "output_type": "stream",
     "text": [
      "<class 'bool'>\n"
     ]
    }
   ],
   "source": [
    "b = False\n",
    "print(type(b))"
   ]
  },
  {
   "cell_type": "markdown",
   "id": "7b27fa39-7d16-47b8-9975-36352af6a7b4",
   "metadata": {},
   "source": [
    "# 2) __➩➩ Assignment Operators__\n",
    " ## _Assignment operators are used to assign values to variables:_ ⮯"
   ]
  },
  {
   "cell_type": "code",
   "execution_count": null,
   "id": "83044653-bb1a-43ac-a42a-451e8af2ea78",
   "metadata": {},
   "outputs": [],
   "source": [
    "Operator\tExample\t     Same as\n",
    "    \n",
    "=\t        x = 5\t      x = 5\t\n",
    "+=          x += 3\t      x = x + 3\t\n",
    "-=\t        x -= 3\t      x = x - 3\t\n",
    "*=\t        x *= 3\t      x = x * 3\t\n",
    "/=         \tx /= 3\t      x = x / 3\t\n",
    "%=       \tx %= 3\t      x = x % 3\t\n",
    "//=     \tx //= 3\t      x = x // 3\t\n",
    "**=\t        x **= 3\t      x = x & 3\t\n",
    "|=\t        x |= 3\t      x = x | 3\t\n",
    "^=\t        x ^= 3\t      x = x ^ 3\t\n",
    ">>=\t        x >>= 3\t      x = x >> 3\t\n",
    "<<=\t        x <<= 3\t      x = x << 3\t\n",
    ":=\t      print(x := 3)   x = 3\n",
    "                          print(x)"
   ]
  },
  {
   "cell_type": "code",
   "execution_count": 5,
   "id": "fc8dd3f6-4d31-4e03-a2b8-afc710bf31db",
   "metadata": {},
   "outputs": [
    {
     "name": "stdout",
     "output_type": "stream",
     "text": [
      "5\n",
      "8\n",
      "6\n",
      "18\n",
      "9.0\n"
     ]
    }
   ],
   "source": [
    "x = 5\n",
    "print(x)\n",
    "x += 3\n",
    "print(x)\n",
    "\n",
    "x -= 2\n",
    "print(x)\n",
    "\n",
    "x *= 3\n",
    "print(x)\n",
    "\n",
    "x /= 2\n",
    "print(x)"
   ]
  },
  {
   "cell_type": "markdown",
   "id": "96b68b4d-43cd-46cd-8a46-69866d57a622",
   "metadata": {},
   "source": [
    "# 3)  __➩➩  Comparison Operators__\n",
    "### _Comparison operators in Python, also known as relational operators, are used to compare two values and return a Boolean result (True or False) based on the comparison._"
   ]
  },
  {
   "cell_type": "code",
   "execution_count": null,
   "id": "aacc39cb-9e31-4d11-9467-6575dd224c6d",
   "metadata": {},
   "outputs": [],
   "source": [
    "Operator   Name                  Example\n",
    "    \n",
    "==\t     Equal\t                    x == y\t\n",
    "!=\t     Not equal\t                x != y\t\n",
    ">\t     Greater than\t            x > y\t\n",
    "<\t     Less than\t                x < y\t\n",
    ">=\t     Greater than or equal to\tx >= y\t\n",
    "<=\t     Less than or equal to\t    x <= y"
   ]
  },
  {
   "cell_type": "markdown",
   "id": "7e83028e-5216-4b87-9eb1-4383aeec0244",
   "metadata": {},
   "source": [
    "#### Equal to ==\n"
   ]
  },
  {
   "cell_type": "code",
   "execution_count": 33,
   "id": "b8c30f66-6dca-4578-969e-7826e31d548d",
   "metadata": {},
   "outputs": [
    {
     "name": "stdout",
     "output_type": "stream",
     "text": [
      "False\n"
     ]
    }
   ],
   "source": [
    "x = 5\n",
    "y = 8\n",
    "print(x==y)"
   ]
  },
  {
   "cell_type": "code",
   "execution_count": 35,
   "id": "fb8c1b5d-216f-4043-90b1-288559e993fc",
   "metadata": {},
   "outputs": [
    {
     "name": "stdout",
     "output_type": "stream",
     "text": [
      "True\n"
     ]
    }
   ],
   "source": [
    "x = 5\n",
    "y = 5\n",
    "print(x==y)"
   ]
  },
  {
   "cell_type": "markdown",
   "id": "2c55a9e5-eb02-4c9d-83cd-92dfa99a3646",
   "metadata": {},
   "source": [
    "#### Not Equal !="
   ]
  },
  {
   "cell_type": "code",
   "execution_count": 36,
   "id": "fed7e4ff-669b-4b4f-8a0d-46165c0d6cba",
   "metadata": {},
   "outputs": [
    {
     "name": "stdout",
     "output_type": "stream",
     "text": [
      "True\n"
     ]
    }
   ],
   "source": [
    "x = 5\n",
    "y = 6\n",
    "print(x!=y)"
   ]
  },
  {
   "cell_type": "code",
   "execution_count": 37,
   "id": "d2732cdf-1a3b-4ddd-971d-654f0fc4c1ff",
   "metadata": {},
   "outputs": [
    {
     "name": "stdout",
     "output_type": "stream",
     "text": [
      "False\n"
     ]
    }
   ],
   "source": [
    "a1 = 4\n",
    "a2 = 4\n",
    "print(a1!=a2)"
   ]
  },
  {
   "cell_type": "markdown",
   "id": "d76a348b-ff01-442c-a12c-e10a2b57e43b",
   "metadata": {},
   "source": [
    "#### Greatere than >"
   ]
  },
  {
   "cell_type": "code",
   "execution_count": 38,
   "id": "961ba8c6-45c8-4b6f-b2ab-d0362f76da4c",
   "metadata": {},
   "outputs": [
    {
     "name": "stdout",
     "output_type": "stream",
     "text": [
      "False\n"
     ]
    }
   ],
   "source": [
    "x = 5\n",
    "y = 23\n",
    "print(x>y)"
   ]
  },
  {
   "cell_type": "code",
   "execution_count": 39,
   "id": "07ad6f55-ea91-482b-81d1-7aa488f0c70c",
   "metadata": {},
   "outputs": [
    {
     "name": "stdout",
     "output_type": "stream",
     "text": [
      "True\n"
     ]
    }
   ],
   "source": [
    "y = 45.5\n",
    "z = 43.8\n",
    "print(y>z)"
   ]
  },
  {
   "cell_type": "markdown",
   "id": "5ed85cf6-7c36-444a-981e-94d999579172",
   "metadata": {},
   "source": [
    "#### Less Than <"
   ]
  },
  {
   "cell_type": "code",
   "execution_count": 40,
   "id": "d82572d7-ddec-4163-bc2f-cf827c16e8d6",
   "metadata": {},
   "outputs": [
    {
     "name": "stdout",
     "output_type": "stream",
     "text": [
      "False\n"
     ]
    }
   ],
   "source": [
    "n = 56\n",
    "m = 56\n",
    "print(n<m)"
   ]
  },
  {
   "cell_type": "code",
   "execution_count": 41,
   "id": "e37fe4ac-de60-4874-b783-061492369db7",
   "metadata": {},
   "outputs": [
    {
     "name": "stdout",
     "output_type": "stream",
     "text": [
      "True\n"
     ]
    }
   ],
   "source": [
    "y = 455.5\n",
    "z = 333.8\n",
    "print(z<y)"
   ]
  },
  {
   "cell_type": "markdown",
   "id": "426bc92c-de4c-4598-a266-8e54efb9d18f",
   "metadata": {},
   "source": [
    "#### Greater than or Equal to >="
   ]
  },
  {
   "cell_type": "code",
   "execution_count": 42,
   "id": "24c576b1-7282-4c00-ba56-3330ec928337",
   "metadata": {},
   "outputs": [
    {
     "name": "stdout",
     "output_type": "stream",
     "text": [
      "False\n"
     ]
    }
   ],
   "source": [
    "x = 56\n",
    "y = 57\n",
    "print(x>=y)"
   ]
  },
  {
   "cell_type": "markdown",
   "id": "9266c4b3-85e8-4b45-8256-0f46ed4ed5d4",
   "metadata": {},
   "source": [
    "#### Less than Equal to <="
   ]
  },
  {
   "cell_type": "code",
   "execution_count": 43,
   "id": "979146fe-029c-4563-b179-348123e4aea3",
   "metadata": {},
   "outputs": [
    {
     "name": "stdout",
     "output_type": "stream",
     "text": [
      "False\n"
     ]
    }
   ],
   "source": [
    "y = 45.5\n",
    "z = 43.8\n",
    "print(y<=z)"
   ]
  },
  {
   "cell_type": "code",
   "execution_count": 44,
   "id": "053f63f1-666e-408d-9f16-59282e26100a",
   "metadata": {},
   "outputs": [
    {
     "name": "stdout",
     "output_type": "stream",
     "text": [
      "True\n"
     ]
    }
   ],
   "source": [
    "x = 43\n",
    "y = 45\n",
    "print(x<=y)"
   ]
  },
  {
   "cell_type": "code",
   "execution_count": 15,
   "id": "ab18f34c-8690-46ed-88a1-9bca51baa9cf",
   "metadata": {},
   "outputs": [
    {
     "name": "stdout",
     "output_type": "stream",
     "text": [
      "False\n",
      "True\n",
      "True\n",
      "False\n",
      "True\n",
      "False\n",
      "False\n",
      "True\n"
     ]
    }
   ],
   "source": [
    "x=5\n",
    "y=10\n",
    "z=5\n",
    "\n",
    "print( x==y )\n",
    "print( x==z )\n",
    "print( x!=y )\n",
    "\n",
    "print(x>y)\n",
    "print(y>z)\n",
    "print(z<x)\n",
    "print(x>=y)            # x is neither greater nor equal to y\n",
    "print(x>=z)            # x is either greater than or equal to z"
   ]
  },
  {
   "cell_type": "markdown",
   "id": "1b359c0f-5e5e-48c2-8d4c-2255bb7ae92c",
   "metadata": {},
   "source": [
    "# 4) __➩➩ Logical Operators__\n",
    "##  _Logical operators are used to combine conditional statements : ⮯_"
   ]
  },
  {
   "cell_type": "code",
   "execution_count": null,
   "id": "75258b58-2e2a-4b46-b598-b7abc4ccd793",
   "metadata": {},
   "outputs": [],
   "source": [
    "# Operator\tDescription\t                                            Example\t\n",
    "    \n",
    "and \t  Returns True if both statements are true              \tx < 5 and  x < 10\t\n",
    "or        Returns True if one of the statements is true\t            x < 5 or x < 4\t\n",
    "not\t      Reverse the result, returns False if the result is true   \tnot(x < 5 and x < 10)\t\n"
   ]
  },
  {
   "cell_type": "code",
   "execution_count": 45,
   "id": "eeef7596-23cd-43cd-8313-86674d2e2ffc",
   "metadata": {},
   "outputs": [
    {
     "name": "stdout",
     "output_type": "stream",
     "text": [
      "False\n"
     ]
    }
   ],
   "source": [
    "x = True\n",
    "y = False\n",
    "print(x and y)"
   ]
  },
  {
   "cell_type": "code",
   "execution_count": 16,
   "id": "db0da437-e0b1-47fe-8580-92df89643681",
   "metadata": {},
   "outputs": [
    {
     "name": "stdout",
     "output_type": "stream",
     "text": [
      "True\n"
     ]
    }
   ],
   "source": [
    "x = True\n",
    "y = False\n",
    "print(x or y)"
   ]
  },
  {
   "cell_type": "code",
   "execution_count": 19,
   "id": "caaad5c2-38b6-4d80-996f-adef23ac6e95",
   "metadata": {},
   "outputs": [
    {
     "data": {
      "text/plain": [
       "False"
      ]
     },
     "execution_count": 19,
     "metadata": {},
     "output_type": "execute_result"
    }
   ],
   "source": [
    "x and y"
   ]
  },
  {
   "cell_type": "code",
   "execution_count": 47,
   "id": "0a86c729-ba88-4e28-ab71-182cf5348bf6",
   "metadata": {},
   "outputs": [
    {
     "name": "stdout",
     "output_type": "stream",
     "text": [
      "False\n"
     ]
    }
   ],
   "source": [
    "x = True\n",
    "print(not x)"
   ]
  },
  {
   "cell_type": "code",
   "execution_count": 48,
   "id": "bf442fe5-6340-4470-85d5-71af1e4cb70d",
   "metadata": {},
   "outputs": [
    {
     "name": "stdout",
     "output_type": "stream",
     "text": [
      "True\n"
     ]
    }
   ],
   "source": [
    "y = False \n",
    "print(not y)"
   ]
  },
  {
   "cell_type": "code",
   "execution_count": 12,
   "id": "e610666c-5780-4104-a501-f05b0d8e04be",
   "metadata": {},
   "outputs": [
    {
     "name": "stdout",
     "output_type": "stream",
     "text": [
      "True\n",
      "False\n",
      "True\n"
     ]
    }
   ],
   "source": [
    "print( 4>5 or 4==4 )\n",
    "print( 4>5 and 4==4 )\n",
    "print( not( 4>5 and 4==4 )) "
   ]
  },
  {
   "cell_type": "code",
   "execution_count": 13,
   "id": "cc03f3bc-bd87-47d1-9f07-cc0aebeae0d8",
   "metadata": {},
   "outputs": [
    {
     "data": {
      "text/plain": [
       "False"
      ]
     },
     "execution_count": 13,
     "metadata": {},
     "output_type": "execute_result"
    }
   ],
   "source": [
    "not(4==4)"
   ]
  },
  {
   "cell_type": "markdown",
   "id": "d6e14ebc-2379-4d54-8ae1-44c3e5009529",
   "metadata": {},
   "source": [
    "# 5) __➩➩ Identity Operators__\n",
    "### _The identity operators compare the objects to determine whether they share the same memory and refer to the same object type (data type)._ ⮯"
   ]
  },
  {
   "cell_type": "code",
   "execution_count": null,
   "id": "3de2a05c-5b96-48ec-a2c3-680a71b08eed",
   "metadata": {},
   "outputs": [],
   "source": [
    "Operator       Description                                      \t Example\t\n",
    "    \n",
    "is       Returns True if both variables are the same object         \tx is y\t\n",
    "is not\t Returns True if both variables are not the same object     \tx is not y"
   ]
  },
  {
   "cell_type": "code",
   "execution_count": 9,
   "id": "328739d7-46e0-461c-89a7-73d207dc1630",
   "metadata": {},
   "outputs": [
    {
     "name": "stdout",
     "output_type": "stream",
     "text": [
      "True\n",
      "False\n",
      "True\n",
      "False\n"
     ]
    }
   ],
   "source": [
    "a = [1, 2, 3]\n",
    "b = a\n",
    "c = [1, 2, 3]\n",
    "\n",
    "print(a is b)       # Output: True (a and b refer to the same list object)\n",
    "print(a is c)       # Output: False (a and c are different list objects, even with the same value)\n",
    "print(a is not c)    # Output : True ( returns True because a and b are same Objects)\n",
    "print(a is not b)"
   ]
  },
  {
   "cell_type": "code",
   "execution_count": 58,
   "id": "2be7781a-0b4b-4211-a787-93873a9a6847",
   "metadata": {},
   "outputs": [
    {
     "name": "stdout",
     "output_type": "stream",
     "text": [
      "True\n"
     ]
    }
   ],
   "source": [
    "a = [1, 2, 3]\n",
    "b = [1, 2, 3]\n",
    "\n",
    "print(a is not b)  # Output: True (a and b are different list objects)"
   ]
  },
  {
   "cell_type": "code",
   "execution_count": 61,
   "id": "5bf040b6-587a-42e5-a590-66688f4c04cb",
   "metadata": {},
   "outputs": [
    {
     "name": "stdout",
     "output_type": "stream",
     "text": [
      "my_var is None\n"
     ]
    }
   ],
   "source": [
    "               # Usecases\n",
    "my_var = None\n",
    "if my_var is None:\n",
    " print(\"my_var is None\")"
   ]
  },
  {
   "cell_type": "code",
   "execution_count": 11,
   "id": "e89b42ba-9028-462a-a7e6-d04524458943",
   "metadata": {},
   "outputs": [
    {
     "name": "stdout",
     "output_type": "stream",
     "text": [
      "False\n",
      "True\n",
      "True\n"
     ]
    }
   ],
   "source": [
    "x = 5\n",
    "y = 10\n",
    "z = 5\n",
    "print(x is y)\n",
    "print(x is z)\n",
    "print(x is not y)"
   ]
  },
  {
   "cell_type": "markdown",
   "id": "0fcc204b-74fc-451e-9fa2-41a4cd62929c",
   "metadata": {},
   "source": [
    "# 6)  __➩➩ Membership Operators__\n",
    "### _Membership operators are used to test if a sequence is presented in an object or not :_ ⮯\n"
   ]
  },
  {
   "cell_type": "code",
   "execution_count": null,
   "id": "21475451-af4e-4ea0-9268-53ad42ab6ee8",
   "metadata": {},
   "outputs": [],
   "source": [
    "# Operator                       \tDescription\t                                              Example\n",
    "    \n",
    "in         Returns True if a sequence with the specified value is present in the object\t      x in y\t\n",
    "not in     Returns True if a sequence with the specified value is not present in the object    x not \n"
   ]
  },
  {
   "cell_type": "markdown",
   "id": "c694f7bb-e5f6-4abf-8874-5ee99ecc98e4",
   "metadata": {},
   "source": [
    "                        in"
   ]
  },
  {
   "cell_type": "code",
   "execution_count": 10,
   "id": "13ed8356-3259-41b7-ad40-c7f7be9737d8",
   "metadata": {},
   "outputs": [
    {
     "name": "stdout",
     "output_type": "stream",
     "text": [
      "True\n",
      "False\n",
      "False\n",
      "True\n"
     ]
    }
   ],
   "source": [
    "word = 'hello'\n",
    "\n",
    "print('e' in word)\n",
    "print('f' in word)\n",
    "print('E' in word)\n",
    "print('x' not in word)"
   ]
  },
  {
   "cell_type": "code",
   "execution_count": 23,
   "id": "8fd06da4-c44a-4f23-bd20-e8f98d259c13",
   "metadata": {},
   "outputs": [
    {
     "name": "stdout",
     "output_type": "stream",
     "text": [
      "True\n",
      "False\n"
     ]
    }
   ],
   "source": [
    "my_list = [1, 2, 3, 4, 5]\n",
    "print(3 in my_list)  \n",
    "print(6 in my_list)  "
   ]
  },
  {
   "cell_type": "code",
   "execution_count": 22,
   "id": "93437066-3a88-43b2-8c13-d5a16678584b",
   "metadata": {},
   "outputs": [
    {
     "name": "stdout",
     "output_type": "stream",
     "text": [
      "True\n",
      "False\n"
     ]
    }
   ],
   "source": [
    "my_string = \"hello\"\n",
    "print('h' in my_string)     \n",
    "print('z' in my_string)    "
   ]
  },
  {
   "cell_type": "code",
   "execution_count": 64,
   "id": "2f57abda-cf3d-445c-aa57-dd875abea9e2",
   "metadata": {},
   "outputs": [
    {
     "name": "stdout",
     "output_type": "stream",
     "text": [
      "True\n",
      "False\n"
     ]
    }
   ],
   "source": [
    "my_dict = {'a': 1, 'b': 2}\n",
    "print('a' in my_dict)       # Output: True (checks for key)\n",
    "print(1 in my_dict)         # Output: False (does not check for value directly)"
   ]
  },
  {
   "cell_type": "markdown",
   "id": "23f3b80a-1975-4f65-930a-88af11be242d",
   "metadata": {},
   "source": [
    "                    not in"
   ]
  },
  {
   "cell_type": "code",
   "execution_count": 65,
   "id": "3b790068-e784-4ca8-be35-f74f20f6c143",
   "metadata": {},
   "outputs": [
    {
     "name": "stdout",
     "output_type": "stream",
     "text": [
      "True\n",
      "False\n"
     ]
    }
   ],
   "source": [
    "my_list = [1, 2, 3, 4, 5]\n",
    "print(6 not in my_list)  \n",
    "print(3 not in my_list)  "
   ]
  },
  {
   "cell_type": "code",
   "execution_count": 25,
   "id": "569699bd-c28f-4d00-b2e2-458a0606264e",
   "metadata": {},
   "outputs": [
    {
     "name": "stdout",
     "output_type": "stream",
     "text": [
      "True\n",
      "False\n"
     ]
    }
   ],
   "source": [
    "y_string = \"hello\"\n",
    "print('z' not in my_string) \n",
    "print('h' not in my_string) "
   ]
  },
  {
   "cell_type": "markdown",
   "id": "fe99ff8d-ac11-4c21-bd71-918f3ea9eb43",
   "metadata": {},
   "source": [
    "# 7)  __➩➩ Bitwise Operators__\n",
    "### _Bitwise operators are used to compare (binary) numbers :_  ⮯\n"
   ]
  },
  {
   "cell_type": "code",
   "execution_count": null,
   "id": "6913b1fe-8161-4251-b26d-96fc613dbb1f",
   "metadata": {},
   "outputs": [],
   "source": [
    "# Operator Name                         \tDescription                                                            \tExample\n",
    "    \n",
    "& \t    AND                   \tSets each bit to 1 if both bits are 1\t                                          x & y\t\n",
    "|\t    OR   \t                Sets each bit to 1 if one of two bits is 1                                        x | y\t\n",
    "^\t    XOR  \t                Sets each bit to 1 if only one of two bits is 1\t                                  x ^ y\t\n",
    "~\t    NOT\t                    Inverts all the bits                                                               ~x\t\n",
    "<<      Zero fill left shift\tShift left by pushing zeros in from the right and let the leftmost bits fall off\t     x << 2\t\n",
    ">>      Signed right shift\t    Shift right by pushing copies of the leftmost bit in from the left, and let the rightmost bits fall of x >> 2\n",
    "\n"
   ]
  },
  {
   "cell_type": "markdown",
   "id": "b6cec5fa-6501-46c1-81f0-de17ae6e0d4d",
   "metadata": {},
   "source": [
    "## _The precedence order is described in the table below, starting with the highest precedence at the top :_ ⮯"
   ]
  },
  {
   "cell_type": "code",
   "execution_count": null,
   "id": "e5a4b54d-3ece-4ce2-b443-cd1591aac551",
   "metadata": {},
   "outputs": [],
   "source": [
    "# Operator\t         Description\n",
    "\n",
    "()\t                Parentheses\t\n",
    "**                  Exponentiation\t\n",
    "+x  -x  ~x\t        Unary plus, unary minus, and bitwise NOT\t\n",
    "*  /  //  %\t        Multiplication, division, floor division, and modulus\t\n",
    "+  -\t            Addition and subtraction\t\n",
    "<<  >>\t            Bitwise left and right shifts\t\n",
    "&\t                Bitwise AND\t\n",
    "^\t                Bitwise XOR\t\n",
    "|\t                Bitwise OR\t\n",
    "==  !=  >  >=        \n",
    "<  <=  is  is       Comparisons, identity, and memberhip \n",
    "not  in  not in\n",
    "not\t                Logical NOT\t\n",
    "and\t                AND\t\n",
    "or                  OR"
   ]
  },
  {
   "cell_type": "markdown",
   "id": "a4e88d06-db48-40ee-b3df-5699fe2b3b12",
   "metadata": {},
   "source": [
    "## Practice Problems"
   ]
  },
  {
   "cell_type": "code",
   "execution_count": null,
   "id": "32a2fda0-5179-47a1-b80f-5244f6828a29",
   "metadata": {},
   "outputs": [],
   "source": [
    "# EXAMPLE PROBLEM : 1\n",
    "\n",
    "Nidhi and Shubh are two students in the same grade. They have a total of 3 subjects in the school. After\n",
    "examination, they want to check whether their total marks are equal or not.   \n",
    "So to help them write a program in python to take marks as input from two students. Print the overall score of both the students.    \n",
    "Also, print \"true\" if they have an equal score or print \"false\" on the screen.\n",
    "● Hint: Take the input for marks and then use the “==“ operator to print the answer."
   ]
  },
  {
   "cell_type": "code",
   "execution_count": 7,
   "id": "fec368bd-2d8a-4e6b-8c6e-4c0d4207bdb1",
   "metadata": {},
   "outputs": [
    {
     "name": "stdin",
     "output_type": "stream",
     "text": [
      "type your science score here:  67\n",
      "type your maths score here:  89\n",
      "type your coding score here:  78\n",
      "type your science score here:  87\n",
      "type your maths score here:  77\n",
      "type your coding score here:  78\n"
     ]
    },
    {
     "name": "stdout",
     "output_type": "stream",
     "text": [
      "234 242\n",
      "False\n"
     ]
    }
   ],
   "source": [
    "nidhi_science = int(input('type your science score here: '))\n",
    "nidhi_maths = int(input('type your maths score here: '))\n",
    "nidhi_coding = int(input('type your coding score here: '))\n",
    "nidhi_total = nidhi_science+nidhi_maths+nidhi_coding\n",
    "\n",
    "shubh_science = int(input('type your science score here: '))\n",
    "shubh_maths = int(input('type your maths score here: '))\n",
    "shubh_coding = int(input('type your coding score here: '))\n",
    "shubh_total = shubh_science+shubh_maths+shubh_coding\n",
    "\n",
    "print(nidhi_total, shubh_total)\n",
    "\n",
    "print(nidhi_total == shubh_total)"
   ]
  },
  {
   "cell_type": "code",
   "execution_count": null,
   "id": "cf141c82-7bcd-460e-905a-f3aede39da79",
   "metadata": {},
   "outputs": [],
   "source": [
    "# PROBLEM : 2\n",
    "\n",
    "Varun is using a stopwatch to calculate his running speed. The stopwatch shows the time taken in seconds.\n",
    "He wants to convert it into minutes and seconds. Write a program to help him with this.\n",
    "\n",
    "● For input :\n",
    "● Enter the number of seconds: 125\n",
    "● Output :\n",
    "● >> 2 minutes and 5 seconds"
   ]
  },
  {
   "cell_type": "code",
   "execution_count": 9,
   "id": "faa92c13-fa2c-4f9c-830c-cf800aeb5465",
   "metadata": {},
   "outputs": [
    {
     "name": "stdin",
     "output_type": "stream",
     "text": [
      "Enter the number of seconds 125\n"
     ]
    },
    {
     "name": "stdout",
     "output_type": "stream",
     "text": [
      "2 minutes 5 seconds\n"
     ]
    }
   ],
   "source": [
    "time = int(input(\"Enter the number of seconds\" ))\n",
    "\n",
    "mins = time//60\n",
    "secs = time%60\n",
    "\n",
    "print(mins, 'minutes', secs, 'seconds')"
   ]
  },
  {
   "cell_type": "code",
   "execution_count": null,
   "id": "cc5550e3-9343-40bb-a2ea-0da5fc406e3b",
   "metadata": {},
   "outputs": [],
   "source": [
    "# PROBLEM : 3\n",
    "\n",
    "write a python program to calculate the percentage of the student in the subjects Maths,Science,Social,English and Hindi"
   ]
  },
  {
   "cell_type": "code",
   "execution_count": 1,
   "id": "733c0172-a8e7-4e59-9e16-79969d935806",
   "metadata": {},
   "outputs": [
    {
     "name": "stdin",
     "output_type": "stream",
     "text": [
      "enter the name of the student :  Ranvijay\n",
      "enter the marks scored in Maths 78\n",
      "enter the marks scored in Science 78\n",
      "enter the marks scored in Social 98\n",
      "enter the marks scored in English 97\n",
      "enter the marks scored in Hindi 87\n"
     ]
    },
    {
     "name": "stdout",
     "output_type": "stream",
     "text": [
      "percentage scored by the student  Ranvijay is 83.6 %\n"
     ]
    }
   ],
   "source": [
    "x = input(\"enter the name of the student : \")\n",
    "\n",
    "a = input(\"enter the marks scored in Maths\")\n",
    "b = input(\"enter the marks scored in Science\")\n",
    "c = input(\"enter the marks scored in Social\")\n",
    "d = input(\"enter the marks scored in English\")\n",
    "e = input(\"enter the marks scored in Hindi\")\n",
    "\n",
    "total_marks = int(a)+int(b)+int(a)+int(d)+int(e)\n",
    "p = (total_marks/500)*100\n",
    "\n",
    "print(\"percentage scored by the student \", x, \"is\", p,\"%\")\n"
   ]
  },
  {
   "cell_type": "code",
   "execution_count": null,
   "id": "4a9a4f10-d3e3-4bc3-adcd-30821eadace4",
   "metadata": {},
   "outputs": [],
   "source": []
  }
 ],
 "metadata": {
  "kernelspec": {
   "display_name": "Python 3 (ipykernel)",
   "language": "python",
   "name": "python3"
  },
  "language_info": {
   "codemirror_mode": {
    "name": "ipython",
    "version": 3
   },
   "file_extension": ".py",
   "mimetype": "text/x-python",
   "name": "python",
   "nbconvert_exporter": "python",
   "pygments_lexer": "ipython3",
   "version": "3.12.7"
  }
 },
 "nbformat": 4,
 "nbformat_minor": 5
}
