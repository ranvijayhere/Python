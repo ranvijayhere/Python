{
 "cells": [
  {
   "cell_type": "markdown",
   "id": "ea5061a4-695e-4c55-81ce-94a2874b3c14",
   "metadata": {},
   "source": [
    "# __5) Concepts of Loops in Python__\n",
    "### _A loop is a control flow statement that allows a block of code to be executed repeatedly. This repetition continues as long as a specified condition is met. Loops are fundamental for automating repetitive tasks and optimizing code by reducing redundancy._\n",
    "#### Python has two primitive loop commands :\n",
    "\n",
    "### _--> while loops_  \n",
    "### _--> for loops_\n",
    "\n",
    "# ➩ __While Loop in Python__\n",
    "### _With the while loop we can execute a set of statements as long as a condition is true._  \n",
    "### _A for loop is used for iterating over a sequence (that is either a list , a tuple , a dictionary , a set , or a string)._"
   ]
  },
  {
   "cell_type": "code",
   "execution_count": null,
   "id": "7edda975-e0be-4034-9303-9b247e8b0f8b",
   "metadata": {},
   "outputs": [],
   "source": [
    "while 3>2:               # as long as this conditio is true, the code will keep running\n",
    "    \n",
    "    print('conition is true')\n",
    "else:\n",
    "    print('condition is false')"
   ]
  },
  {
   "cell_type": "code",
   "execution_count": 1,
   "id": "7543ddaa-d0e3-4f21-b467-7a3f0c269756",
   "metadata": {},
   "outputs": [
    {
     "name": "stdout",
     "output_type": "stream",
     "text": [
      "conition is true\n"
     ]
    }
   ],
   "source": [
    "while 3>2:               # as long as this conditio is true, the code will keep running\n",
    "    \n",
    "    print('conition is true')\n",
    "    break                        # we can break the loop by using break condition\n",
    "else:\n",
    "    print('condition is false')"
   ]
  },
  {
   "cell_type": "code",
   "execution_count": 3,
   "id": "4e509e61-84d7-482c-8917-c99277ad6ee9",
   "metadata": {},
   "outputs": [
    {
     "name": "stdout",
     "output_type": "stream",
     "text": [
      "1\n",
      "2\n",
      "3\n",
      "4\n",
      "5\n"
     ]
    }
   ],
   "source": [
    "i = 1\n",
    "while i < 6:\n",
    "  print(i)\n",
    "  i += 1"
   ]
  },
  {
   "cell_type": "code",
   "execution_count": 2,
   "id": "df04672d-986a-452d-ad7d-e3a409ec4fd4",
   "metadata": {},
   "outputs": [
    {
     "name": "stdout",
     "output_type": "stream",
     "text": [
      "Hello students\n",
      "Hello students\n",
      "Hello students\n"
     ]
    }
   ],
   "source": [
    "count = 0\n",
    "while (count < 3):\n",
    "    count = count + 1\n",
    "    print(\"Hello students\")"
   ]
  },
  {
   "cell_type": "code",
   "execution_count": 2,
   "id": "4553afec-9487-41ba-8d5f-e8bb101db771",
   "metadata": {},
   "outputs": [
    {
     "name": "stdout",
     "output_type": "stream",
     "text": [
      "heya 1\n",
      "heya 2\n",
      "heya 3\n",
      "heya 4\n",
      "heya 5\n"
     ]
    }
   ],
   "source": [
    "x = 1\n",
    "while x < 6:\n",
    "    print('heya', x)\n",
    "    x += 1            # increasing x by 1"
   ]
  },
  {
   "cell_type": "code",
   "execution_count": 3,
   "id": "d42e474b-f229-43c2-a7e4-b3a3599156cd",
   "metadata": {},
   "outputs": [
    {
     "data": {
      "text/plain": [
       "False"
      ]
     },
     "execution_count": 3,
     "metadata": {},
     "output_type": "execute_result"
    }
   ],
   "source": [
    "10<10"
   ]
  },
  {
   "cell_type": "code",
   "execution_count": 2,
   "id": "541a5ced-e857-4ec2-8ae1-708ab4641212",
   "metadata": {},
   "outputs": [
    {
     "name": "stdout",
     "output_type": "stream",
     "text": [
      "1\n",
      "3\n",
      "5\n",
      "7\n",
      "9\n"
     ]
    }
   ],
   "source": [
    "x = 1\n",
    "while x < 10:\n",
    "    print(x)\n",
    "    x += 2            # increasing x by 2"
   ]
  },
  {
   "cell_type": "code",
   "execution_count": 2,
   "id": "06b9181d-74ea-4073-9e0d-a9cb39bcca7f",
   "metadata": {},
   "outputs": [
    {
     "name": "stdout",
     "output_type": "stream",
     "text": [
      "1\n",
      "4\n",
      "7\n"
     ]
    }
   ],
   "source": [
    "x = 1\n",
    "while x < 10:\n",
    "    print(x)\n",
    "    x += 3        # increasing x by 3"
   ]
  },
  {
   "cell_type": "code",
   "execution_count": 4,
   "id": "c0b6fa63-1446-4431-8e61-df239c148686",
   "metadata": {},
   "outputs": [
    {
     "name": "stdout",
     "output_type": "stream",
     "text": [
      "1\n",
      "2\n",
      "3\n",
      "4\n",
      "5\n"
     ]
    }
   ],
   "source": [
    "i = 1\n",
    "n = 5\n",
    "while i <= n:\n",
    "    print(i)\n",
    "    i = i+1"
   ]
  },
  {
   "cell_type": "code",
   "execution_count": 22,
   "id": "c197f2bf-636b-46c9-8812-d9f61b3d9356",
   "metadata": {},
   "outputs": [
    {
     "name": "stdin",
     "output_type": "stream",
     "text": [
      "enter the value 5\n"
     ]
    },
    {
     "name": "stdout",
     "output_type": "stream",
     "text": [
      "5\n",
      "10\n",
      "15\n",
      "20\n",
      "25\n",
      "30\n",
      "35\n",
      "40\n",
      "45\n",
      "50\n",
      "this is multiplication table\n"
     ]
    }
   ],
   "source": [
    "# a simple multiplication table\n",
    "\n",
    "x = int(input(\"enter the value\"))\n",
    "i = 1\n",
    "while i<=10:\n",
    "    print(x*i)\n",
    "    i = i+1\n",
    "print(\"this is multiplication table\")   "
   ]
  },
  {
   "cell_type": "markdown",
   "id": "d7f24418-49e8-4b1c-bef9-09d7cc4aa503",
   "metadata": {},
   "source": [
    "# ➩➩ __Infinite while Loop__\n",
    "### _An infinite while loop in Python is a loop that continues to execute indefinitely because its condition always evaluates to True._\n",
    "### _This means the loop never reaches a point where its condition becomes False, which is the typical way for a while loop to terminate_."
   ]
  },
  {
   "cell_type": "code",
   "execution_count": null,
   "id": "e896f9c3-8dd1-417c-886a-06ca3105c6ec",
   "metadata": {},
   "outputs": [],
   "source": [
    "age = 32\n",
    "while age > 18:\n",
    "     print(\"you can vote\")\n",
    "\n",
    "# i didn't print output here beacuse it will struck and stops other tasks execution, as it runs code infinite times."
   ]
  },
  {
   "cell_type": "code",
   "execution_count": 7,
   "id": "6e3f0ac7-62cb-473d-9df2-2fc1929de03d",
   "metadata": {},
   "outputs": [
    {
     "name": "stdout",
     "output_type": "stream",
     "text": [
      "Hello students\n"
     ]
    }
   ],
   "source": [
    "count = 7\n",
    "while (count >= 3):\n",
    "    count = count+1\n",
    "    print(\"Hello students\")\n",
    "    break\n",
    "\n",
    "# i didn't print output here beacuse it will struck and stops other tasks execution, as it runs code infinite times.\n",
    "# but we can break the longer execution "
   ]
  },
  {
   "cell_type": "markdown",
   "id": "39145522-3c66-4f80-8ca0-a97b2f81dbc4",
   "metadata": {},
   "source": [
    "# ➩ __While loop using ' if - else '__\n",
    "## __if condition__\n",
    "### _An __if statement__ within a while loop allows for conditional execution of specific code blocks inside the loop's iterations._"
   ]
  },
  {
   "cell_type": "code",
   "execution_count": 9,
   "id": "ec184b19-17c5-46b5-b246-cbd86f327f86",
   "metadata": {},
   "outputs": [
    {
     "name": "stdout",
     "output_type": "stream",
     "text": [
      "1\n",
      "2\n",
      "3\n",
      "5\n",
      "6\n"
     ]
    }
   ],
   "source": [
    "i = 0\n",
    "while i < 6:\n",
    "  i += 1\n",
    "  if i == 4:\n",
    "    continue\n",
    "  print(i)"
   ]
  },
  {
   "cell_type": "code",
   "execution_count": 4,
   "id": "086da029-c2dd-47b5-96d2-f57d0f046481",
   "metadata": {},
   "outputs": [
    {
     "name": "stdout",
     "output_type": "stream",
     "text": [
      "3\n"
     ]
    }
   ],
   "source": [
    "i = 0\n",
    "while i < 6:\n",
    "  i += 1\n",
    "  if i != 3:\n",
    "    continue\n",
    "  print(i)"
   ]
  },
  {
   "cell_type": "code",
   "execution_count": 22,
   "id": "6960e5b5-2c8f-4cab-9cee-a67b5295a22a",
   "metadata": {},
   "outputs": [
    {
     "name": "stdin",
     "output_type": "stream",
     "text": [
      "enter a number :  3\n"
     ]
    },
    {
     "name": "stdout",
     "output_type": "stream",
     "text": [
      "4\n",
      "5\n"
     ]
    }
   ],
   "source": [
    "i = int(input('enter a number : '))\n",
    "while i < 8:\n",
    "  i += 1\n",
    "  if i == 6:\n",
    "    break\n",
    "  print(i)"
   ]
  },
  {
   "cell_type": "markdown",
   "id": "fdde3833-e305-4c95-8fd8-86a999df8d77",
   "metadata": {},
   "source": [
    "# ➩ __else__ statement with __while loop__\n",
    "### _In Python, a while loop can optionally have an else clause. This else block is executed only if the while loop completes its execution normally, meaning its condition eventually becomes False. If the while loop is terminated prematurely by a break statement, the else block will be skipped._"
   ]
  },
  {
   "cell_type": "code",
   "execution_count": 5,
   "id": "909b4c80-5056-41aa-90c1-ff06d94cdc3f",
   "metadata": {},
   "outputs": [
    {
     "name": "stdin",
     "output_type": "stream",
     "text": [
      "type your name here ranvijay\n"
     ]
    },
    {
     "name": "stdout",
     "output_type": "stream",
     "text": [
      "Hi ranvijay\n"
     ]
    },
    {
     "name": "stdin",
     "output_type": "stream",
     "text": [
      "type your name here ranvi\n"
     ]
    },
    {
     "name": "stdout",
     "output_type": "stream",
     "text": [
      "Hi ranvi\n"
     ]
    },
    {
     "name": "stdin",
     "output_type": "stream",
     "text": [
      "type your name here Ranvijay\n"
     ]
    },
    {
     "name": "stdout",
     "output_type": "stream",
     "text": [
      "the name is not lowercase anymore\n"
     ]
    }
   ],
   "source": [
    "name = input('type your name here')\n",
    "\n",
    "while name.islower():                 # as long as name is lowercase, the code will keep running\n",
    "    print('Hi', name)                        # line1 of loop\n",
    "    name = input('type your name here')   # line2 of loop\n",
    "else:\n",
    "    print('the name is not lowercase anymore')"
   ]
  },
  {
   "cell_type": "code",
   "execution_count": 6,
   "id": "20be284d-6fab-4547-a4b1-6a0723a0d701",
   "metadata": {},
   "outputs": [
    {
     "name": "stdin",
     "output_type": "stream",
     "text": [
      "type your name here ranvijay\n"
     ]
    },
    {
     "data": {
      "text/plain": [
       "True"
      ]
     },
     "execution_count": 6,
     "metadata": {},
     "output_type": "execute_result"
    }
   ],
   "source": [
    "name = input('type your name here')\n",
    "name.islower()"
   ]
  },
  {
   "cell_type": "code",
   "execution_count": 14,
   "id": "de43d82b-c41a-4d76-ba2b-e8abe8378a12",
   "metadata": {},
   "outputs": [
    {
     "name": "stdin",
     "output_type": "stream",
     "text": [
      " 5\n"
     ]
    },
    {
     "name": "stdout",
     "output_type": "stream",
     "text": [
      "positive number\n"
     ]
    },
    {
     "name": "stdin",
     "output_type": "stream",
     "text": [
      " 456\n"
     ]
    },
    {
     "name": "stdout",
     "output_type": "stream",
     "text": [
      "positive number\n"
     ]
    },
    {
     "name": "stdin",
     "output_type": "stream",
     "text": [
      " -54\n"
     ]
    },
    {
     "name": "stdout",
     "output_type": "stream",
     "text": [
      "negative number\n"
     ]
    }
   ],
   "source": [
    "x = int(input())\n",
    "\n",
    "while x>0:                       # as long as the number is positive, the below code will repeat\n",
    "    print('positive number')\n",
    "    x = int(input())\n",
    "else:\n",
    "    print('negative number')"
   ]
  },
  {
   "cell_type": "code",
   "execution_count": 9,
   "id": "23f5aaeb-b52d-4c7d-9be2-6532d42f1262",
   "metadata": {},
   "outputs": [
    {
     "name": "stdout",
     "output_type": "stream",
     "text": [
      "i is no longer less than 6\n"
     ]
    }
   ],
   "source": [
    "i = 1\n",
    "while i > 6:\n",
    "  print(i)\n",
    "  i += 1\n",
    "else:\n",
    "  print(\"i is no longer less than 6\")"
   ]
  },
  {
   "cell_type": "code",
   "execution_count": 30,
   "id": "6686fd97-4c57-400f-86fb-d78c311b6442",
   "metadata": {},
   "outputs": [
    {
     "name": "stdout",
     "output_type": "stream",
     "text": [
      "Hello students\n",
      "Hello students\n",
      "Hello students\n",
      "in else block\n"
     ]
    }
   ],
   "source": [
    "count = 0\n",
    "while (count < 3):\n",
    "    count = count + 1\n",
    "    print(\"Hello students\")\n",
    "else:\n",
    "    print(\"in else block\")"
   ]
  },
  {
   "cell_type": "code",
   "execution_count": null,
   "id": "d080eb8d-8349-4148-94d1-d06cbb4c1ca6",
   "metadata": {},
   "outputs": [],
   "source": [
    "# Example Problem \n",
    "\n",
    "A computer teacher in a school wanted to take a rest and that’s why he told students to\n",
    "calculate the sum of the first 1000 numbers. Even students were allowed to use a\n",
    "calculator, still it will take at least 15 minutes to add all the numbers. Sonali used python\n",
    "and she was able to answer the question within 2 minutes. Write a code in python same\n",
    "as Sonali."
   ]
  },
  {
   "cell_type": "code",
   "execution_count": 13,
   "id": "b54ae960-94b5-4fd1-b6aa-a541012211fc",
   "metadata": {},
   "outputs": [
    {
     "name": "stdout",
     "output_type": "stream",
     "text": [
      "finished\n",
      "500500\n"
     ]
    }
   ],
   "source": [
    "x=1\n",
    "sum = 0\n",
    "while x<1001:\n",
    "    sum+=x\n",
    "    x+=1\n",
    "else:\n",
    "    print('finished')\n",
    "print(sum)"
   ]
  },
  {
   "cell_type": "code",
   "execution_count": null,
   "id": "9a960a49-5623-4f40-bb44-bbb5a3386429",
   "metadata": {},
   "outputs": [],
   "source": [
    "# Example Problem \n",
    "\n",
    "You are tasked with validating user input for email addresses. Write a Python program that prompts the user to enter an email address. \n",
    "Use a while loop to iterate through the input and check if the email address contains an a'@'' symbol and a '.' symbol. \n",
    "If the email address does not meet these criteria, print invalid email address format. Please try again. \n",
    "Otherwise, print email address validation passed."
   ]
  },
  {
   "cell_type": "code",
   "execution_count": 16,
   "id": "4cc526b8-710a-4d03-becb-7cf2d7731ecd",
   "metadata": {},
   "outputs": [
    {
     "name": "stdin",
     "output_type": "stream",
     "text": [
      "please enter your mail address justranvijay@gmail.com\n"
     ]
    },
    {
     "name": "stdout",
     "output_type": "stream",
     "text": [
      "email address validation passed\n"
     ]
    }
   ],
   "source": [
    "email = input(\"please enter your mail address\")\n",
    "\n",
    "valid_email = False\n",
    "while not valid_email:\n",
    "    if \"@\" in email and \".\" in email:\n",
    "        print(\"email address validation passed\")\n",
    "        valid_email = True\n",
    "    else:\n",
    "        print(\"email address validation not passed\")\n",
    "        email = input(\"please enter a valid email address\")"
   ]
  },
  {
   "cell_type": "markdown",
   "id": "f22beb08-8aef-44e8-9b44-ed914e62cbd0",
   "metadata": {},
   "source": [
    "# Write a program to find the __exponent__ of a number using __while loop__\n",
    "### _A Python while loop can be used to calculate exponents by repeatedly multiplying a base number by itself a specified number of times, with the exponent serving as the condition that controls the loop's execution._"
   ]
  },
  {
   "cell_type": "code",
   "execution_count": 31,
   "id": "20635fde-0c69-49a3-8b52-5265eb028024",
   "metadata": {},
   "outputs": [
    {
     "name": "stdin",
     "output_type": "stream",
     "text": [
      "enter the number 5\n"
     ]
    },
    {
     "name": "stdout",
     "output_type": "stream",
     "text": [
      "0\n",
      "1\n",
      "4\n",
      "9\n",
      "16\n",
      "25\n"
     ]
    }
   ],
   "source": [
    "a = int(input(\"enter the number\"))\n",
    "i = 0\n",
    "while i <= a:\n",
    "    print(i**2)\n",
    "    i = i+1"
   ]
  },
  {
   "cell_type": "code",
   "execution_count": 26,
   "id": "b3a9569b-0245-4457-9a2b-6cb641d75058",
   "metadata": {},
   "outputs": [
    {
     "name": "stdin",
     "output_type": "stream",
     "text": [
      "enter the number :  5\n",
      "enter the exponent to calculate :  4\n"
     ]
    },
    {
     "name": "stdout",
     "output_type": "stream",
     "text": [
      "the exponent is :  625\n"
     ]
    }
   ],
   "source": [
    "                                                   # finding exponent\n",
    "x = int(input('enter the number : '))\n",
    "exp = int(input('enter the exponent to calculate : '))\n",
    "\n",
    "while x >= exp:\n",
    "    print('the exponent is : ', x**exp)\n",
    "    break       # if we cant break the prgm, execution will run infinite times\n",
    "else:\n",
    "    print('not mathing numbers')\n",
    "    x = int(input('enter the number : '))\n",
    "    exp = int(input('enter the exponent to calculate : '))\n"
   ]
  },
  {
   "cell_type": "markdown",
   "id": "ebc04e88-143e-4f67-8db9-0d23078d6f3d",
   "metadata": {},
   "source": [
    "# ➩ __Break statement__ _using_ __while loop__\n",
    "### _The __break statement__ in Python is used within a while loop to terminate the loop prematurely, even if the loop's condition is still true. When break is executed, the program control immediately jumps to the first statement following the loop._"
   ]
  },
  {
   "cell_type": "code",
   "execution_count": 10,
   "id": "0f3dd9f1-a4fa-4ea5-8d9a-29476906e735",
   "metadata": {},
   "outputs": [
    {
     "name": "stdout",
     "output_type": "stream",
     "text": [
      "1\n",
      "2\n",
      "3\n"
     ]
    }
   ],
   "source": [
    "i = 1\n",
    "while i < 6:\n",
    "  print(i)\n",
    "  if i == 3:\n",
    "    break\n",
    "  i += 1"
   ]
  },
  {
   "cell_type": "markdown",
   "id": "bd3a5a79-9765-41c9-8f9b-4869f6007ca2",
   "metadata": {},
   "source": [
    "# ➩ __Continue statement__ using __while loop__\n",
    "### _The __continue statement__ in Python is used within loops (both for and while) to skip the current iteration and proceed to the next iteration of the loop. When continue is encountered, the remaining code within the current iteration of the loop is skipped, and the loop's execution directly moves to the beginning of the next iteration._ "
   ]
  },
  {
   "cell_type": "code",
   "execution_count": 11,
   "id": "8ae9ce99-09c9-488b-b7b3-5b9bd2d6e4ae",
   "metadata": {},
   "outputs": [
    {
     "name": "stdout",
     "output_type": "stream",
     "text": [
      "1\n",
      "2\n",
      "4\n",
      "5\n",
      "6\n"
     ]
    }
   ],
   "source": [
    "i = 0\n",
    "while i < 6:\n",
    "  i += 1\n",
    "  if i == 3:\n",
    "    continue\n",
    "  print(i)"
   ]
  },
  {
   "cell_type": "markdown",
   "id": "bdf9cc9e-afd6-4471-9c70-e43845b1f833",
   "metadata": {},
   "source": [
    "# ➩➩ __for loop in python__\n",
    "### _A __for loop__ is used for iterating over a sequence (__that is either a String, a List, a Tuple, a Set, a Dictionary, or Range__) and execute a block of code for each item in the sequence._\n",
    "\n",
    "#### 1. for loop in  sequence (List, String, Tuple)\n",
    "#### 2. for loop in range(number)"
   ]
  },
  {
   "cell_type": "code",
   "execution_count": 18,
   "id": "a553349a-ad7d-4755-82ec-4fef36ac7293",
   "metadata": {},
   "outputs": [
    {
     "name": "stdout",
     "output_type": "stream",
     "text": [
      "hello 0\n",
      "hello 1\n",
      "hello 2\n",
      "hello 3\n",
      "hello 4\n",
      "hello 5\n"
     ]
    }
   ],
   "source": [
    "for x in range(6):\n",
    "    print('hello',x)"
   ]
  },
  {
   "cell_type": "code",
   "execution_count": 9,
   "id": "40b2548c-e275-446e-9c4c-8f3ab255444d",
   "metadata": {},
   "outputs": [
    {
     "name": "stdout",
     "output_type": "stream",
     "text": [
      "2\n",
      "5\n"
     ]
    }
   ],
   "source": [
    "x = (2,5)\n",
    "for i in x:\n",
    "    print(i)"
   ]
  },
  {
   "cell_type": "code",
   "execution_count": 32,
   "id": "0410f669-658c-4fee-ae9c-a942aaf2b756",
   "metadata": {},
   "outputs": [
    {
     "name": "stdout",
     "output_type": "stream",
     "text": [
      "apple\n",
      "banana\n",
      "cherry\n"
     ]
    }
   ],
   "source": [
    "fruits = [\"apple\",\"banana\",\"cherry\"]\n",
    "for x in fruits:\n",
    "    print(x)"
   ]
  },
  {
   "cell_type": "code",
   "execution_count": 12,
   "id": "f91d4a60-8e2d-41e9-8902-549cea296538",
   "metadata": {},
   "outputs": [
    {
     "name": "stdout",
     "output_type": "stream",
     "text": [
      "23\n",
      "42\n",
      "23\n",
      "26\n",
      "17\n",
      "18\n"
     ]
    }
   ],
   "source": [
    "numbers = [23,42,23,26,17,18,]\n",
    "for i in numbers:\n",
    "    print(i)"
   ]
  },
  {
   "cell_type": "markdown",
   "id": "6f0da4be-57be-4eac-b4bb-2374d4b9e310",
   "metadata": {},
   "source": [
    "# ➩ __range function__ in __for loop__\n",
    "### _The __range()__ function is typically used with a while loop to repeat a block of code for all values within a range._"
   ]
  },
  {
   "cell_type": "markdown",
   "id": "f8958137-e6d2-4094-b8b2-b4d4e864ea8f",
   "metadata": {},
   "source": [
    "#### range (start = 0, stop, steps = 1)"
   ]
  },
  {
   "cell_type": "code",
   "execution_count": 26,
   "id": "f46709b6-3ace-471f-8d6d-af4d1540fcb5",
   "metadata": {},
   "outputs": [
    {
     "name": "stdout",
     "output_type": "stream",
     "text": [
      "0\n",
      "1\n",
      "2\n",
      "3\n",
      "4\n",
      "5\n"
     ]
    }
   ],
   "source": [
    "for i in range (6):\n",
    "    print(i)"
   ]
  },
  {
   "cell_type": "code",
   "execution_count": 25,
   "id": "1b00e6aa-13ef-4ea4-b907-5da0b3c798b6",
   "metadata": {},
   "outputs": [
    {
     "name": "stdout",
     "output_type": "stream",
     "text": [
      "0\n",
      "1\n",
      "2\n",
      "3\n",
      "4\n",
      "5\n",
      "6\n",
      "7\n",
      "8\n"
     ]
    }
   ],
   "source": [
    "for i in range (9):\n",
    "    print(i)"
   ]
  },
  {
   "cell_type": "code",
   "execution_count": 15,
   "id": "1cef103e-4f62-467c-a493-4f0b94637642",
   "metadata": {},
   "outputs": [
    {
     "name": "stdout",
     "output_type": "stream",
     "text": [
      "2\n",
      "3\n",
      "4\n",
      "5\n"
     ]
    }
   ],
   "source": [
    "for x in range(2, 6):\n",
    "  print(x)"
   ]
  },
  {
   "cell_type": "code",
   "execution_count": 24,
   "id": "ab74dd19-050f-4860-b028-b7a6e3629d62",
   "metadata": {},
   "outputs": [
    {
     "name": "stdout",
     "output_type": "stream",
     "text": [
      "5\n",
      "6\n",
      "7\n",
      "8\n",
      "9\n",
      "10\n",
      "11\n",
      "12\n"
     ]
    }
   ],
   "source": [
    "for x in range(5,13):\n",
    "    print(x)"
   ]
  },
  {
   "cell_type": "code",
   "execution_count": 22,
   "id": "e9e0d6f8-ed45-4851-a64d-89e7c8050be2",
   "metadata": {},
   "outputs": [
    {
     "name": "stdout",
     "output_type": "stream",
     "text": [
      "2\n",
      "5\n",
      "8\n",
      "11\n",
      "14\n",
      "17\n",
      "20\n"
     ]
    }
   ],
   "source": [
    "for x in range(2, 21, 3):\n",
    "  print(x)\n"
   ]
  },
  {
   "cell_type": "code",
   "execution_count": 19,
   "id": "e9f2df4e-92e9-43dc-b159-c0c1e6b18a60",
   "metadata": {},
   "outputs": [
    {
     "name": "stdout",
     "output_type": "stream",
     "text": [
      "hello 1\n",
      "hello 3\n",
      "hello 5\n",
      "hello 7\n",
      "hello 9\n"
     ]
    }
   ],
   "source": [
    "for x in range(1, 10, 2):\n",
    "    print('hello',x)"
   ]
  },
  {
   "cell_type": "code",
   "execution_count": 21,
   "id": "00c98c89-3328-43eb-86d3-880a0a11b1f0",
   "metadata": {},
   "outputs": [
    {
     "name": "stdout",
     "output_type": "stream",
     "text": [
      "hello 8\n",
      "hello 7\n",
      "hello 6\n",
      "hello 5\n",
      "hello 4\n",
      "hello 3\n",
      "hello 2\n",
      "hello 1\n"
     ]
    }
   ],
   "source": [
    "for x in range(8, 0, -1):\n",
    "    print('hello',x)"
   ]
  },
  {
   "cell_type": "markdown",
   "id": "337cf511-fe32-4fa6-ac77-bea0e1cdedc2",
   "metadata": {},
   "source": [
    "#  Looping through a String\n",
    "### _A __for loop__ is used for iterating over a sequence (__that is either a list, a tuple, a dictionary, a set, or a string__)._"
   ]
  },
  {
   "cell_type": "code",
   "execution_count": 18,
   "id": "77b6c79d-7375-46b6-9637-cfc3253156b4",
   "metadata": {},
   "outputs": [
    {
     "name": "stdout",
     "output_type": "stream",
     "text": [
      "S\n",
      "t\n",
      "u\n",
      "d\n",
      "e\n",
      "n\n",
      "t\n",
      "s\n"
     ]
    }
   ],
   "source": [
    "n = \"Students\"\n",
    "for i in n:\n",
    "    print (i)"
   ]
  },
  {
   "cell_type": "code",
   "execution_count": 35,
   "id": "2f5d57f1-ac87-4f2c-9c76-6a7d289bd072",
   "metadata": {},
   "outputs": [
    {
     "name": "stdout",
     "output_type": "stream",
     "text": [
      "b\n",
      "a\n",
      "n\n",
      "a\n",
      "n\n",
      "a\n"
     ]
    }
   ],
   "source": [
    "for x in \"banana\":\n",
    "  print(x)"
   ]
  },
  {
   "cell_type": "code",
   "execution_count": 28,
   "id": "737e2126-8d33-48dc-84d9-d642fc5861e3",
   "metadata": {},
   "outputs": [
    {
     "name": "stdout",
     "output_type": "stream",
     "text": [
      "s\n",
      "a\n",
      "m\n",
      "p\n",
      "l\n",
      "e\n",
      " \n",
      "t\n",
      "e\n",
      "x\n",
      "t\n"
     ]
    }
   ],
   "source": [
    "text = 'sample text'\n",
    "\n",
    "for i in text:      # letter by letter iterating\n",
    "    print(i)"
   ]
  },
  {
   "cell_type": "markdown",
   "id": "993a75a3-ae25-4800-a504-eff06379924f",
   "metadata": {},
   "source": [
    "# ➩ __if condition  in for loop__\n",
    "### _In Python, an if statement can be placed inside a for loop to apply conditional logic to each item or iteration within the loop. This allows for specific actions to be taken only when certain conditions are met during the iteration._"
   ]
  },
  {
   "cell_type": "code",
   "execution_count": 19,
   "id": "4678b39a-ec53-418b-a893-38c90f9af15e",
   "metadata": {},
   "outputs": [
    {
     "name": "stdout",
     "output_type": "stream",
     "text": [
      "the number is even :  0\n",
      "the number is even :  2\n",
      "the number is even :  4\n",
      "the number is even :  6\n",
      "the number is even :  8\n",
      "the number is even :  10\n",
      "the number is even :  12\n",
      "the number is even :  14\n"
     ]
    }
   ],
   "source": [
    "for i in range (0,16):\n",
    "    if i%2==0:\n",
    "        print(\"the number is even : \", i)"
   ]
  },
  {
   "cell_type": "code",
   "execution_count": 30,
   "id": "44cb4ca6-dbb7-4b26-b055-d8ef7600b067",
   "metadata": {},
   "outputs": [
    {
     "name": "stdout",
     "output_type": "stream",
     "text": [
      "the number is even 0\n",
      "the number is even 2\n",
      "the number is even 4\n",
      "the number is even 6\n",
      "the number is even 8\n",
      "the number is even 10\n",
      "the number is even 12\n",
      "the number is even 14\n",
      "appending even numbers in a list :   [0, 2, 4, 6, 8, 10, 12, 14]\n"
     ]
    }
   ],
   "source": [
    "                      # checking whether the number is even or not\n",
    "e = []\n",
    "for i in range (0,16):\n",
    "    if i%2==0:\n",
    "        print(\"the number is even\", i)\n",
    "        e.append(i)\n",
    "print(\"appending even numbers in a list :  \", e)       "
   ]
  },
  {
   "cell_type": "code",
   "execution_count": 115,
   "id": "f9f92aee-3b52-4069-b446-a477367ad636",
   "metadata": {},
   "outputs": [
    {
     "name": "stdout",
     "output_type": "stream",
     "text": [
      "the number is even : [0, 2, 4, 6, 8, 10, 12, 14]\n",
      "the number is odd :  [1, 3, 5, 7, 9, 11, 13, 15]\n"
     ]
    }
   ],
   "source": [
    "                    # appending even & odd numbers in seperate variables\n",
    "E = []\n",
    "O = []\n",
    "for i in range (0,16):\n",
    "   if i%2==0:\n",
    "     E.append(i)\n",
    "print(\"the number is even :\", E)\n",
    "for i in range (0,16):\n",
    "   if i%2==1:\n",
    "     O.append(i)\n",
    "print(\"the number is odd : \", O)"
   ]
  },
  {
   "cell_type": "markdown",
   "id": "b9cea42b-64d0-4a4a-8e90-a6595096342b",
   "metadata": {},
   "source": [
    "## Implement a python program to generate the multiplication table of a given number using a for loop."
   ]
  },
  {
   "cell_type": "code",
   "execution_count": 26,
   "id": "3022f2c7-e470-4f57-8950-f8f13f60fe4a",
   "metadata": {},
   "outputs": [
    {
     "name": "stdin",
     "output_type": "stream",
     "text": [
      "enter a number to generate its multiplication table :  5\n"
     ]
    },
    {
     "name": "stdout",
     "output_type": "stream",
     "text": [
      "the multiplication table is of :  5\n",
      "5 * 1 = 5 \n",
      "5 * 2 = 10 \n",
      "5 * 3 = 15 \n",
      "5 * 4 = 20 \n",
      "5 * 5 = 25 \n",
      "5 * 6 = 30 \n",
      "5 * 7 = 35 \n",
      "5 * 8 = 40 \n",
      "5 * 9 = 45 \n",
      "5 * 10 = 50 \n"
     ]
    }
   ],
   "source": [
    "number = int(input(\"enter a number to generate its multiplication table : \"))\n",
    "print(\"the multiplication table is of : \" , number)\n",
    "\n",
    "for i in range (1,11):\n",
    "   print(f\"{number} * {i} = {number*i} \")"
   ]
  },
  {
   "cell_type": "markdown",
   "id": "d16971f2-311a-40ee-8e62-2b5052ec76c2",
   "metadata": {},
   "source": [
    "# ➩ __else statement using for loop__\n",
    "### _In Python, a for loop can optionally be followed by an else block. This else block executes only if the loop completes all its iterations without encountering a break statement._"
   ]
  },
  {
   "cell_type": "code",
   "execution_count": 17,
   "id": "88da8944-3cfc-4354-876d-e8987847e8b6",
   "metadata": {},
   "outputs": [
    {
     "name": "stdout",
     "output_type": "stream",
     "text": [
      "0\n",
      "1\n",
      "2\n",
      "3\n",
      "4\n",
      "5\n",
      "Finally finished!\n"
     ]
    }
   ],
   "source": [
    "for x in range(6):\n",
    "  print(x)\n",
    "else:\n",
    "  print(\"Finally finished!\")"
   ]
  },
  {
   "cell_type": "code",
   "execution_count": 32,
   "id": "d0b75a1e-d76e-4a73-8671-10bfe008ee43",
   "metadata": {},
   "outputs": [
    {
     "name": "stdout",
     "output_type": "stream",
     "text": [
      "0\n",
      "1\n",
      "2\n",
      "3\n"
     ]
    }
   ],
   "source": [
    "for x in range(6):\n",
    "  if x == 4: break\n",
    "  print(x)\n",
    "else:\n",
    "  print(\"Finally finished!\")"
   ]
  },
  {
   "cell_type": "markdown",
   "id": "31e5215f-49a1-4d39-80fb-5cfa3ead566b",
   "metadata": {},
   "source": [
    "# ➩➩ __Nested Loops__\n",
    "### _A nested loop is a loop inside a loop._\n",
    "### _The \"__inner loop__\" will be executed one time for each iteration of the \"__outer loop__\":_"
   ]
  },
  {
   "cell_type": "code",
   "execution_count": 40,
   "id": "fe0d413b-d857-40ad-b966-5634905f7d36",
   "metadata": {},
   "outputs": [
    {
     "name": "stdout",
     "output_type": "stream",
     "text": [
      "i is 1\n",
      "hello 1\n",
      "hello 2\n",
      "i is 2\n",
      "hello 1\n",
      "hello 2\n",
      "i is 3\n",
      "hello 1\n",
      "hello 2\n",
      "i is 4\n",
      "hello 1\n",
      "hello 2\n"
     ]
    }
   ],
   "source": [
    "for i in range(1,5):\n",
    "    print('i is', i)\n",
    "    for j in range(1,3):\n",
    "        print('hello', j)"
   ]
  },
  {
   "cell_type": "code",
   "execution_count": 40,
   "id": "4a106a30-0657-4955-9e8b-711ae8b15c8d",
   "metadata": {},
   "outputs": [
    {
     "name": "stdout",
     "output_type": "stream",
     "text": [
      "red apple\n",
      "red banana\n",
      "red cherry\n",
      "big apple\n",
      "big banana\n",
      "big cherry\n",
      "tasty apple\n",
      "tasty banana\n",
      "tasty cherry\n"
     ]
    }
   ],
   "source": [
    "clr = [\"red\", \"big\", \"tasty\"]\n",
    "fruits = [\"apple\", \"banana\", \"cherry\"]\n",
    "\n",
    "for x in clr:\n",
    "    for y in fruits:\n",
    "        print(x , y)"
   ]
  },
  {
   "cell_type": "code",
   "execution_count": 4,
   "id": "a08484a2-ca1c-43a4-8f94-a816bed286e1",
   "metadata": {},
   "outputs": [
    {
     "name": "stdout",
     "output_type": "stream",
     "text": [
      "# # # # # # # # # # # # \n",
      "# # # # # # # # # # # # \n",
      "# # # # # # # # # # # # \n",
      "# # # # # # # # # # # # \n",
      "# # # # # # # # # # # # \n",
      "# # # # # # # # # # # # \n",
      "# # # # # # # # # # # # \n",
      "# # # # # # # # # # # # \n",
      "# # # # # # # # # # # # \n",
      "108\n"
     ]
    }
   ],
   "source": [
    "total=0\n",
    "for i in range(9):\n",
    "    for j in range(12):\n",
    "        print(\"#\", end=\" \")\n",
    "        total+=1\n",
    "    print()\n",
    "print(total)"
   ]
  },
  {
   "cell_type": "code",
   "execution_count": 5,
   "id": "97412114-0606-4a00-8936-e90ee7ff235e",
   "metadata": {},
   "outputs": [
    {
     "name": "stdin",
     "output_type": "stream",
     "text": [
      "how many terms do you wanna see? 5\n"
     ]
    },
    {
     "name": "stdout",
     "output_type": "stream",
     "text": [
      "3\n"
     ]
    }
   ],
   "source": [
    "x = int(input('how many terms do you wanna see?'))\n",
    "n1 = 0\n",
    "n2 = 1\n",
    "for i in range(x-2):\n",
    "    new = n1+n2\n",
    "    n1=n2\n",
    "    n2=new\n",
    "print(new)"
   ]
  },
  {
   "cell_type": "markdown",
   "id": "e77bd3e5-88af-476d-9cd4-2b19eb901e5a",
   "metadata": {},
   "source": [
    "# __The pass Statement__\n",
    "#### _for loops cannot be empty, but if you for some reason have a for loop with no content, put in the pass statement to avoid getting an error._"
   ]
  },
  {
   "cell_type": "code",
   "execution_count": 22,
   "id": "c315e9f9-9065-4068-974b-50f918b37373",
   "metadata": {},
   "outputs": [],
   "source": [
    "for x in [0, 1, 2]:\n",
    "  pass"
   ]
  },
  {
   "cell_type": "markdown",
   "id": "f09608ec-dd7d-4e50-9b29-c93148938674",
   "metadata": {},
   "source": [
    "# ➩ __break Statement using for loop__\n",
    "### _With the __break statement__ we can stop the loop before it has looped through all the items:_"
   ]
  },
  {
   "cell_type": "code",
   "execution_count": 6,
   "id": "7db69733-a2db-4cae-9b86-a2993d35914d",
   "metadata": {},
   "outputs": [
    {
     "name": "stdout",
     "output_type": "stream",
     "text": [
      "T\n",
      "h\n",
      "i\n",
      "s\n",
      " \n"
     ]
    }
   ],
   "source": [
    "text = 'This is some sample text'\n",
    "\n",
    "for i in text:    # letter by letter iterating\n",
    "    print(i)\n",
    "    if i==' ':break"
   ]
  },
  {
   "cell_type": "code",
   "execution_count": 41,
   "id": "3e63876a-8119-45f7-9bf2-0df8a8187ff4",
   "metadata": {},
   "outputs": [
    {
     "name": "stdout",
     "output_type": "stream",
     "text": [
      "T\n",
      "h\n",
      "i\n",
      "s\n",
      " \n",
      "i\n",
      "s\n",
      " \n",
      "s\n",
      "o\n"
     ]
    }
   ],
   "source": [
    "text = 'This is some sample text'\n",
    "\n",
    "for i in text:                       # letter by letter iterating\n",
    "    print(i)\n",
    "    if i=='o':\n",
    "        break"
   ]
  },
  {
   "cell_type": "code",
   "execution_count": 128,
   "id": "454d94d8-31ef-4ddb-bbde-edf34f69ec23",
   "metadata": {},
   "outputs": [
    {
     "name": "stdout",
     "output_type": "stream",
     "text": [
      "0\n",
      "1\n",
      "2\n",
      "3\n"
     ]
    }
   ],
   "source": [
    "for i in range (5):\n",
    "    if i == 4:\n",
    "        break\n",
    "    print(i)"
   ]
  },
  {
   "cell_type": "code",
   "execution_count": 12,
   "id": "2786d221-6313-4c13-86a7-a90debf2c763",
   "metadata": {},
   "outputs": [
    {
     "name": "stdout",
     "output_type": "stream",
     "text": [
      "apple\n",
      "banana\n"
     ]
    }
   ],
   "source": [
    "fruits = [\"apple\", \"banana\", \"cherry\"]\n",
    "for x in fruits:\n",
    "  print(x)\n",
    "  if x == \"banana\":\n",
    "    break\n"
   ]
  },
  {
   "cell_type": "code",
   "execution_count": 13,
   "id": "28ba26cb-333a-4fa5-905d-1c48dce852c8",
   "metadata": {},
   "outputs": [
    {
     "name": "stdout",
     "output_type": "stream",
     "text": [
      "apple\n"
     ]
    }
   ],
   "source": [
    "fruits = [\"apple\", \"banana\", \"cherry\"]\n",
    "for x in fruits:\n",
    "  if x == \"banana\":\n",
    "    break\n",
    "  print(x)"
   ]
  },
  {
   "cell_type": "code",
   "execution_count": 43,
   "id": "d5f3a571-ac05-48d9-a9b2-13dd92484a3f",
   "metadata": {},
   "outputs": [
    {
     "name": "stdout",
     "output_type": "stream",
     "text": [
      "it is a prime number\n"
     ]
    }
   ],
   "source": [
    "x = 345311\n",
    "for i in range(2,x):\n",
    "    if x%i==0:\n",
    "        print('not a prime number')\n",
    "        break\n",
    "else:\n",
    "    print('it is a prime number')"
   ]
  },
  {
   "cell_type": "code",
   "execution_count": 34,
   "id": "06f9003b-332d-4144-8e52-40fd6c4b278b",
   "metadata": {},
   "outputs": [
    {
     "name": "stdin",
     "output_type": "stream",
     "text": [
      "type your full name here  :  Ranvijay Chauhan\n"
     ]
    },
    {
     "name": "stdout",
     "output_type": "stream",
     "text": [
      "Ranvijay"
     ]
    }
   ],
   "source": [
    "name = input('type your full name here  : ')\n",
    "for i in name:\n",
    "    if i==\" \":\n",
    "        break\n",
    "    print(i, end=\"\")"
   ]
  },
  {
   "cell_type": "code",
   "execution_count": 46,
   "id": "2e9bdd51-0639-4175-8c0e-b69bd7536b1c",
   "metadata": {},
   "outputs": [
    {
     "name": "stdin",
     "output_type": "stream",
     "text": [
      "type the word here :  i love python\n"
     ]
    },
    {
     "name": "stdout",
     "output_type": "stream",
     "text": [
      "ILovePython"
     ]
    }
   ],
   "source": [
    "word = input('type the word here : ')\n",
    "\n",
    "for i in word.split(\" \"):\n",
    "    print(i.title(), end=\"\")"
   ]
  },
  {
   "cell_type": "markdown",
   "id": "d9ab38dc-6773-4390-8730-472d34f92164",
   "metadata": {},
   "source": [
    "# ➩ __continue Statement in for loop__\n",
    "### _With the __continue statement__ we can stop the current iteration of the loop, and continue with the next :_"
   ]
  },
  {
   "cell_type": "code",
   "execution_count": 47,
   "id": "3ea88e96-76a3-487b-9fa3-e2d28042782b",
   "metadata": {},
   "outputs": [
    {
     "name": "stdout",
     "output_type": "stream",
     "text": [
      "s\n",
      "a\n",
      "m\n",
      "p\n",
      "l\n",
      " \n",
      "t\n",
      "x\n",
      "t\n"
     ]
    }
   ],
   "source": [
    "text = 'sample text'\n",
    "\n",
    "for letter in text:    # letter by letter iterating\n",
    "    if letter=='e':\n",
    "        continue\n",
    "    print(letter)"
   ]
  },
  {
   "cell_type": "code",
   "execution_count": 33,
   "id": "526c8b3d-a331-4b13-87ec-b7d1d9d11cbd",
   "metadata": {},
   "outputs": [
    {
     "name": "stdout",
     "output_type": "stream",
     "text": [
      "sample\n",
      "text\n"
     ]
    }
   ],
   "source": [
    "for x in text.split(\" \"):\n",
    "    print(x)"
   ]
  },
  {
   "cell_type": "code",
   "execution_count": 34,
   "id": "502728f6-7381-4aaa-ae42-c83b16e3d374",
   "metadata": {},
   "outputs": [
    {
     "data": {
      "text/plain": [
       "'s a m p l e   t e x t'"
      ]
     },
     "execution_count": 34,
     "metadata": {},
     "output_type": "execute_result"
    }
   ],
   "source": [
    "' '.join(text)"
   ]
  },
  {
   "cell_type": "code",
   "execution_count": 35,
   "id": "f4249116-045f-4a1c-8074-94eae32dcad5",
   "metadata": {},
   "outputs": [
    {
     "data": {
      "text/plain": [
       "'s.a.m.p.l.e. .t.e.x.t'"
      ]
     },
     "execution_count": 35,
     "metadata": {},
     "output_type": "execute_result"
    }
   ],
   "source": [
    "'.'.join(text)"
   ]
  },
  {
   "cell_type": "code",
   "execution_count": 130,
   "id": "720cd2ee-4e6f-414a-a158-c920ca75d593",
   "metadata": {},
   "outputs": [
    {
     "name": "stdout",
     "output_type": "stream",
     "text": [
      "0\n",
      "1\n",
      "2\n",
      "4\n",
      "i am learning python\n"
     ]
    }
   ],
   "source": [
    "for i in range(5):\n",
    "    if i == 3:\n",
    "        continue\n",
    "    print(i)\n",
    "print(\"i am learning python\")"
   ]
  },
  {
   "cell_type": "code",
   "execution_count": 14,
   "id": "fd82d882-fde0-4257-a4be-190bb1788c3a",
   "metadata": {},
   "outputs": [
    {
     "name": "stdout",
     "output_type": "stream",
     "text": [
      "apple\n",
      "cherry\n"
     ]
    }
   ],
   "source": [
    "fruits = [\"apple\", \"banana\", \"cherry\"]\n",
    "for x in fruits:\n",
    "  if x == \"banana\":\n",
    "    continue\n",
    "  print(x)"
   ]
  },
  {
   "cell_type": "code",
   "execution_count": 49,
   "id": "438fa7c7-2972-43a3-a8cb-9d7a3d87b7b6",
   "metadata": {},
   "outputs": [
    {
     "name": "stdout",
     "output_type": "stream",
     "text": [
      "* * * * * \n",
      "* * * * * \n",
      "* * * * * \n"
     ]
    }
   ],
   "source": [
    "for i in range(3):\n",
    "    for j in range(5):\n",
    "        print(\"*\", end=\" \")\n",
    "    print()                      # this will execute total 3 times - each time breaking the line \"\\n\""
   ]
  },
  {
   "cell_type": "code",
   "execution_count": 51,
   "id": "c0b22787-e790-48b6-8ca7-c7fdd4b4ff79",
   "metadata": {},
   "outputs": [
    {
     "name": "stdout",
     "output_type": "stream",
     "text": [
      "* * * * * * \n",
      "*         * \n",
      "* * * * * * \n"
     ]
    }
   ],
   "source": [
    "for i in range(3):\n",
    "    for j in range(6):\n",
    "        if i==0 or i==2 or j==0 or j==5:\n",
    "            print(\"*\", end=\" \")\n",
    "        else:\n",
    "            print(\" \", end=\" \")\n",
    "    print()                         # this will execute total 3 times - each time breaking the line \"\\n\""
   ]
  },
  {
   "cell_type": "code",
   "execution_count": 52,
   "id": "a7809d05-23ad-484a-bf5b-1eefd1828a69",
   "metadata": {},
   "outputs": [
    {
     "name": "stdout",
     "output_type": "stream",
     "text": [
      "* \n",
      "* * \n",
      "* * * \n",
      "* * * * \n",
      "* * * * * \n"
     ]
    }
   ],
   "source": [
    "for i in range(1, 6):\n",
    "    for j in range(i):\n",
    "        print(\"*\", end=\" \")\n",
    "    print()"
   ]
  },
  {
   "cell_type": "code",
   "execution_count": 53,
   "id": "e7620247-00de-41c7-a4d1-475e8c386015",
   "metadata": {},
   "outputs": [
    {
     "name": "stdout",
     "output_type": "stream",
     "text": [
      "* * * * * * \n",
      "* * * * * \n",
      "* * * * \n",
      "* * * \n",
      "* * \n",
      "* \n"
     ]
    }
   ],
   "source": [
    "for i in range( 6, 0, -1):\n",
    "    for j in range(i):\n",
    "        print(\"*\", end=\" \")\n",
    "    print()"
   ]
  },
  {
   "cell_type": "code",
   "execution_count": 54,
   "id": "8d97a361-796a-4152-b1f2-bf8f3c756f21",
   "metadata": {},
   "outputs": [
    {
     "name": "stdout",
     "output_type": "stream",
     "text": [
      "* * * * * * \n",
      "*       * \n",
      "*     * \n",
      "*   * \n",
      "* * \n",
      "* \n"
     ]
    }
   ],
   "source": [
    "for i in range( 6, 0, -1):\n",
    "    for j in range(i):\n",
    "        if i==6 or i==0 or j==0 or j==i-1:\n",
    "            print(\"*\", end=\" \")\n",
    "        else:\n",
    "            print(\" \", end=\" \")\n",
    "    print()"
   ]
  },
  {
   "cell_type": "code",
   "execution_count": 55,
   "id": "3a29a0bf-23b6-4b9c-8cf2-81bd8a7a7761",
   "metadata": {},
   "outputs": [
    {
     "name": "stdout",
     "output_type": "stream",
     "text": [
      "         *        \n",
      "        * *       \n",
      "       * * *      \n",
      "      * * * *     \n",
      "     * * * * *    \n",
      "    * * * * * *   \n",
      "   * * * * * * *  \n",
      "  * * * * * * * * \n",
      "   * * * * * * *  \n",
      "    * * * * * *   \n",
      "     * * * * *    \n",
      "      * * * *     \n",
      "       * * *      \n",
      "        * *       \n",
      "         *        \n"
     ]
    }
   ],
   "source": [
    "for i in range(1, 8):\n",
    "    print(\" \"*(8-i), ' *'*i, \" \"*(8-i))\n",
    "for i in range( 8, 0, -1):\n",
    "    print(\" \"*(8-i), ' *'*i, \" \"*(8-i))"
   ]
  },
  {
   "cell_type": "code",
   "execution_count": 56,
   "id": "ac7fa866-93d5-41cf-8204-e70e3270fbec",
   "metadata": {},
   "outputs": [
    {
     "name": "stdout",
     "output_type": "stream",
     "text": [
      "        *        \n",
      "       **       \n",
      "      ***      \n",
      "     ****     \n",
      "    *****    \n",
      "   ******   \n",
      "  *******  \n",
      " ******** \n",
      "  *******  \n",
      "   ******   \n",
      "    *****    \n",
      "     ****     \n",
      "      ***      \n",
      "       **       \n",
      "        *        \n"
     ]
    }
   ],
   "source": [
    "for i in range(1, 8):\n",
    "    print(\" \"*(8-i), '*'*i, \" \"*(8-i))\n",
    "for i in range( 8, 0, -1):\n",
    "    print(\" \"*(8-i), '*'*i, \" \"*(8-i))"
   ]
  },
  {
   "cell_type": "code",
   "execution_count": 57,
   "id": "e6c88387-6134-4d35-8bc3-86b7eb4dda96",
   "metadata": {},
   "outputs": [
    {
     "name": "stdout",
     "output_type": "stream",
     "text": [
      "       *\n",
      "      * *\n",
      "     *   *\n",
      "    *     *\n",
      "   *       *\n",
      "  *         *\n",
      " *           *\n",
      "*             *\n",
      " *           *\n",
      "  *         *\n",
      "   *       *\n",
      "    *     *\n",
      "     *   *\n",
      "      * *\n",
      "       *\n"
     ]
    }
   ],
   "source": [
    "for i in range( 8):\n",
    "    spaces=\" \"*(8-i-1)\n",
    "    if i==0:\n",
    "        print(spaces+\"*\")\n",
    "    else:\n",
    "        print(spaces+\"*\"+\" \"*(2*i-1) + \"*\")\n",
    "for i in range(6,-1,-1):\n",
    "    spaces=\" \"*(8-i-1)\n",
    "    if i==0:\n",
    "        print(spaces+\"*\")\n",
    "    else:\n",
    "        print(spaces+\"*\"+\" \"*(2*i-1) + \"*\")\n"
   ]
  },
  {
   "cell_type": "code",
   "execution_count": 58,
   "id": "b07e5ff1-1a5e-4dc4-8df7-569d0f8951d5",
   "metadata": {},
   "outputs": [
    {
     "name": "stdout",
     "output_type": "stream",
     "text": [
      "       *\n",
      "      * *\n",
      "     *   *\n",
      "    *     *\n",
      "   *       *\n",
      "  *         *\n",
      " *           *\n",
      "*             *\n"
     ]
    }
   ],
   "source": [
    "for i in range( 8):\n",
    "    spaces=\" \"*(8-i-1)\n",
    "    if i==0:\n",
    "        print(spaces+\"*\")\n",
    "    else:\n",
    "        print(spaces+\"*\"+ \" \"*(2*i-1) + \"*\")"
   ]
  },
  {
   "cell_type": "markdown",
   "id": "4024220a-dfd0-4c25-91f7-fe16e9353121",
   "metadata": {},
   "source": [
    "### Practice Problems"
   ]
  },
  {
   "cell_type": "code",
   "execution_count": null,
   "id": "74b78c0d-650b-4823-9cd5-67d51b8634d5",
   "metadata": {},
   "outputs": [],
   "source": [
    "# PROBLEM : 1  \n",
    "\n",
    "=> write a program to print the square of the number till 10"
   ]
  },
  {
   "cell_type": "code",
   "execution_count": 22,
   "id": "7ea75966-5ec3-445f-ae1b-f4cda53ebbef",
   "metadata": {},
   "outputs": [
    {
     "name": "stdout",
     "output_type": "stream",
     "text": [
      "0\n",
      "1\n",
      "4\n",
      "9\n",
      "16\n",
      "25\n",
      "36\n",
      "49\n",
      "64\n",
      "81\n"
     ]
    }
   ],
   "source": [
    "for i in range(10):\n",
    "    x = i**2\n",
    "    print(x)"
   ]
  },
  {
   "cell_type": "code",
   "execution_count": 36,
   "id": "f9a8c2f9-9451-488b-b1aa-bc3acc2bf143",
   "metadata": {},
   "outputs": [
    {
     "name": "stdout",
     "output_type": "stream",
     "text": [
      "1\n",
      "2\n",
      "3\n",
      "4\n",
      "5\n",
      "6\n",
      "7\n",
      "8\n",
      "9\n",
      "10\n",
      "[0, 1, 4, 9, 16, 25, 36, 49, 64, 81]\n"
     ]
    }
   ],
   "source": [
    "L = []\n",
    "for i in range (10):\n",
    "    print(i+1)\n",
    "    L.append(i**2)\n",
    "print(L)"
   ]
  },
  {
   "cell_type": "code",
   "execution_count": null,
   "id": "eb19e3f7-453c-4a16-9225-fb11046168e4",
   "metadata": {},
   "outputs": [],
   "source": [
    "# PROBLEM : 2\n",
    "\n",
    "=> Write a program to seperate positive and negative integers from the list"
   ]
  },
  {
   "cell_type": "code",
   "execution_count": 40,
   "id": "1be0f702-5e89-4861-ac60-69d88354e280",
   "metadata": {},
   "outputs": [
    {
     "name": "stdout",
     "output_type": "stream",
     "text": [
      "the list of positive numbers are :  [23, 56, 87, 90, 34, 37, 54, 68, 87]\n",
      "the list of negative numbers are :  [-34, -76, -98, -65, -23, -54]\n"
     ]
    }
   ],
   "source": [
    "L = [23,-34,56,-76,87,-98,90,-65,34,-23,37,54,68,87,-54]\n",
    "L1 = []\n",
    "L2 = []\n",
    "\n",
    "for i in range (15):\n",
    "    if L[i]>=0:\n",
    "        L1.append(L[i])\n",
    "    else:\n",
    "        L2.append(L[i])\n",
    "\n",
    "print(\"the list of positive numbers are : \", L1)\n",
    "print(\"the list of negative numbers are : \", L2)"
   ]
  },
  {
   "cell_type": "code",
   "execution_count": null,
   "id": "33d23cd8-47d3-46aa-942e-fe1be7ef3c54",
   "metadata": {},
   "outputs": [],
   "source": [
    "# PROBLEM : 3\n",
    "\n",
    "An online essay writing competition was held in a school. The students were required to\n",
    "write at least 250 words. According to the rule, only that essay should be checked which\n",
    "contains at least 250 words. Teachers were just guessing the number of words in the\n",
    "essay but that was not an accurate way to count the number of words. So write a program\n",
    "that can count the number of words in an essay ( Hint: Take input and count the number of\n",
    "words using for loop | Note: to count the number of words you can just count the number\n",
    "of blank spaces given in the input. )"
   ]
  },
  {
   "cell_type": "code",
   "execution_count": 25,
   "id": "aabe9cae-56bf-41e7-b76b-cd55758dcc36",
   "metadata": {},
   "outputs": [
    {
     "name": "stdin",
     "output_type": "stream",
     "text": [
      "type essay here :  myself Ranvijay, im from Hyderabad\n"
     ]
    },
    {
     "name": "stdout",
     "output_type": "stream",
     "text": [
      "5\n"
     ]
    }
   ],
   "source": [
    "                                        # WORD COUNTER\n",
    "text = input('type essay here : ')\n",
    "\n",
    "spaces = 0\n",
    "for i in text:       # letter by letter iterating\n",
    "    if i==' ':\n",
    "        spaces+=1\n",
    "words = spaces+1\n",
    "print(words)"
   ]
  },
  {
   "cell_type": "code",
   "execution_count": null,
   "id": "37d0b93c-2834-4209-bf37-13a648f56661",
   "metadata": {},
   "outputs": [],
   "source": [
    "# PROBLEM  : 4\n",
    "\n",
    "Check how many vowel letters exists in te sentence (take the input from the user)"
   ]
  },
  {
   "cell_type": "code",
   "execution_count": 38,
   "id": "9a8229d7-bd46-4fd8-951a-73f62855b73a",
   "metadata": {},
   "outputs": [
    {
     "name": "stdin",
     "output_type": "stream",
     "text": [
      "type here:  i like coding\n"
     ]
    },
    {
     "name": "stdout",
     "output_type": "stream",
     "text": [
      "5\n"
     ]
    }
   ],
   "source": [
    "\n",
    "text = input('type a sentence here : ')\n",
    "count = 0\n",
    "for x in text:                     # looping through the text\n",
    "    if x=='a' or x=='e' or x=='i' or x=='o' or x=='u':\n",
    "        count+=1\n",
    "\n",
    "print(count)"
   ]
  },
  {
   "cell_type": "code",
   "execution_count": null,
   "id": "d7a658e6-f3cf-4df4-ac19-47c9bc61ad45",
   "metadata": {},
   "outputs": [],
   "source": [
    "# PROBLEM : 5 \n",
    "\n",
    "Multiplication table using for loop"
   ]
  },
  {
   "cell_type": "code",
   "execution_count": 8,
   "id": "0956a7dc-8e65-4c08-9a1b-53ea8528161b",
   "metadata": {},
   "outputs": [
    {
     "name": "stdout",
     "output_type": "stream",
     "text": [
      "1x1 = 1\n",
      "1x2 = 2\n",
      "1x3 = 3\n",
      "1x4 = 4\n",
      "1x5 = 5\n",
      "1x6 = 6\n",
      "1x7 = 7\n",
      "1x8 = 8\n",
      "1x9 = 9\n",
      "1x10 = 10\n",
      "----------\n",
      "2x1 = 2\n",
      "2x2 = 4\n",
      "2x3 = 6\n",
      "2x4 = 8\n",
      "2x5 = 10\n",
      "2x6 = 12\n",
      "2x7 = 14\n",
      "2x8 = 16\n",
      "2x9 = 18\n",
      "2x10 = 20\n",
      "----------\n",
      "3x1 = 3\n",
      "3x2 = 6\n",
      "3x3 = 9\n",
      "3x4 = 12\n",
      "3x5 = 15\n",
      "3x6 = 18\n",
      "3x7 = 21\n",
      "3x8 = 24\n",
      "3x9 = 27\n",
      "3x10 = 30\n",
      "----------\n",
      "4x1 = 4\n",
      "4x2 = 8\n",
      "4x3 = 12\n",
      "4x4 = 16\n",
      "4x5 = 20\n",
      "4x6 = 24\n",
      "4x7 = 28\n",
      "4x8 = 32\n",
      "4x9 = 36\n",
      "4x10 = 40\n",
      "----------\n",
      "5x1 = 5\n",
      "5x2 = 10\n",
      "5x3 = 15\n",
      "5x4 = 20\n",
      "5x5 = 25\n",
      "5x6 = 30\n",
      "5x7 = 35\n",
      "5x8 = 40\n",
      "5x9 = 45\n",
      "5x10 = 50\n",
      "----------\n"
     ]
    }
   ],
   "source": [
    "for n in range(1,6):\n",
    "    for i in range(1,11):\n",
    "        print(f\"{n}x{i} = {n*i}\")\n",
    "    print(\"----------\")\n",
    "    "
   ]
  },
  {
   "cell_type": "code",
   "execution_count": 54,
   "id": "a26cb5ee-8b74-4179-a22f-d361fcaa0832",
   "metadata": {},
   "outputs": [
    {
     "name": "stdout",
     "output_type": "stream",
     "text": [
      "2x1 = 2   3x1 = 3   4x1 = 4\n",
      "2x2 = 4   3x2 = 6   4x2 = 8\n",
      "2x3 = 6   3x3 = 9   4x3 = 12\n",
      "2x4 = 8   3x4 = 12   4x4 = 16\n",
      "2x5 = 10   3x5 = 15   4x5 = 20\n",
      "2x6 = 12   3x6 = 18   4x6 = 24\n",
      "2x7 = 14   3x7 = 21   4x7 = 28\n",
      "2x8 = 16   3x8 = 24   4x8 = 32\n",
      "2x9 = 18   3x9 = 27   4x9 = 36\n",
      "2x10 = 20   3x10 = 30   4x10 = 40\n",
      "----------\n"
     ]
    }
   ],
   "source": [
    "for i in range(1,11):\n",
    "    print(f\"{2}x{i} = {2*i}  \",  f\"{3}x{i} = {3*i}  \", f\"{4}x{i} = {4*i}\")\n",
    "print(\"----------\")"
   ]
  },
  {
   "cell_type": "code",
   "execution_count": null,
   "id": "b9acf9bf-d784-486b-ae73-66b37bcd6dd5",
   "metadata": {},
   "outputs": [],
   "source": []
  }
 ],
 "metadata": {
  "kernelspec": {
   "display_name": "Python 3 (ipykernel)",
   "language": "python",
   "name": "python3"
  },
  "language_info": {
   "codemirror_mode": {
    "name": "ipython",
    "version": 3
   },
   "file_extension": ".py",
   "mimetype": "text/x-python",
   "name": "python",
   "nbconvert_exporter": "python",
   "pygments_lexer": "ipython3",
   "version": "3.12.7"
  }
 },
 "nbformat": 4,
 "nbformat_minor": 5
}
