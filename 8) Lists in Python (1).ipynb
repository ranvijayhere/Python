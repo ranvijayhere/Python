{
 "cells": [
  {
   "cell_type": "markdown",
   "id": "84277782-3e59-4e92-9081-b562a4ab778c",
   "metadata": {},
   "source": [
    "# __8) Lists in Python__\n",
    "### _Lists are used to store multiple items in a single variable._\n",
    "\n",
    "### _Lists are one of 4 built-in data types in Python used to store collections of data , the other 3 are Tuple , Set , and Dictionary , all with different qualities and usage._"
   ]
  },
  {
   "cell_type": "code",
   "execution_count": 1,
   "id": "9a58a04d-1f18-4816-aa9c-78529d870871",
   "metadata": {},
   "outputs": [
    {
     "name": "stdout",
     "output_type": "stream",
     "text": [
      "['apple', 'banana', 'cherry']\n"
     ]
    }
   ],
   "source": [
    "thislist = [\"apple\", \"banana\", \"cherry\"]\n",
    "print(thislist)"
   ]
  },
  {
   "cell_type": "code",
   "execution_count": 1,
   "id": "003ce4c1-8f17-471d-a77d-982f72e78b2e",
   "metadata": {},
   "outputs": [
    {
     "name": "stdout",
     "output_type": "stream",
     "text": [
      "[4, 55, 64, 32, 16, 32]\n",
      "<class 'list'>\n"
     ]
    }
   ],
   "source": [
    "num = [4, 55, 64, 32, 16, 32]\n",
    "print(num)\n",
    "print(type(num))"
   ]
  },
  {
   "cell_type": "code",
   "execution_count": 3,
   "id": "38e010a1-7103-417c-afd5-85691b08efb3",
   "metadata": {},
   "outputs": [
    {
     "name": "stdout",
     "output_type": "stream",
     "text": [
      "['a', 'b', 'c']\n",
      "<class 'list'>\n"
     ]
    }
   ],
   "source": [
    "mylist = [\"a\",\"b\",\"c\"]\n",
    "print(mylist)\n",
    "print(type(mylist))"
   ]
  },
  {
   "cell_type": "code",
   "execution_count": 4,
   "id": "b4eb598f-aefa-48b5-b20e-d8e900d4bf04",
   "metadata": {},
   "outputs": [
    {
     "name": "stdout",
     "output_type": "stream",
     "text": [
      "3\n"
     ]
    }
   ],
   "source": [
    "thislist = [\"apple\", \"banana\", \"cherry\"]\n",
    "print(len(thislist))"
   ]
  },
  {
   "cell_type": "markdown",
   "id": "e2269f75-4bfe-43df-8ada-50bdd7058d7c",
   "metadata": {},
   "source": [
    "## Python Collections (Arrays)\n",
    "### There are four collection data types in the Python programming language :\n",
    "\n",
    "#### 1) __List__ is a collection which is __ordered and changeable(mutable). Allows duplicate members__.\n",
    "#### 2) __Tuple__ is a collection which is __ordered and unchangeable. Allows duplicate members__.\n",
    "#### 3) __Set__ is a collection which is __unordered, unchangeable*, and unindexed. No duplicate members__.\n",
    "#### 4) __Dictionary__ is a collection which is __ordered** and changeable. No duplicate members__.\n"
   ]
  },
  {
   "cell_type": "markdown",
   "id": "e87ba7e8-4a42-4e08-a4ac-7ad8b745669f",
   "metadata": {},
   "source": [
    "# __Properties of Lists__\n",
    "##### 1) __Ordered__ :      The elements in a list are ordered, which means that you can access them by their index.\n",
    "##### 2) __Mutable__ :      Unlike tuples, lists are mutable, which means that you can add, remove, or modify elements in a list.\n",
    "##### 3) __Heterogeneous__ : A list can contain elements of different data types.\n",
    "##### 4) __Iterable__ :     You can iterate over the elements of a list using a loop.\n",
    "##### 5) __Indexable__ :    You can access the elements of a list using their index.\n",
    "##### 6) __Nested__ :       You can nest lists within other lists to create complex data structures."
   ]
  },
  {
   "cell_type": "markdown",
   "id": "65aeb84d-a3e1-40e4-bd72-9bae9feeddc3",
   "metadata": {},
   "source": [
    "# Ordered\n",
    "#### _When we say that lists are ordered, it means that the items have a defined order, and that order will not change._"
   ]
  },
  {
   "cell_type": "code",
   "execution_count": 6,
   "id": "f9156e10-805f-4acc-bc36-548647e9c155",
   "metadata": {},
   "outputs": [
    {
     "name": "stdout",
     "output_type": "stream",
     "text": [
      "apple\n"
     ]
    }
   ],
   "source": [
    "fruits = [\"apple\", \"banana\", \"cherry\", \"mango\", \"orange\"]\n",
    "print(fruits[0])"
   ]
  },
  {
   "cell_type": "code",
   "execution_count": 5,
   "id": "a3754e49-35f3-4818-83e4-cfc44d6dfddc",
   "metadata": {},
   "outputs": [
    {
     "name": "stdout",
     "output_type": "stream",
     "text": [
      "cherry\n"
     ]
    }
   ],
   "source": [
    "fruits = [\"apple\", \"banana\", \"cherry\", \"mango\", \"orange\"]\n",
    "print(fruits[2])"
   ]
  },
  {
   "cell_type": "code",
   "execution_count": 4,
   "id": "1c058424-7abe-4cf6-aa34-f017ec1dd686",
   "metadata": {},
   "outputs": [
    {
     "name": "stdout",
     "output_type": "stream",
     "text": [
      "mango\n"
     ]
    }
   ],
   "source": [
    "fruits = [\"apple\", \"banana\", \"cherry\", \"mango\", \"orange\"]\n",
    "print(fruits[3])"
   ]
  },
  {
   "cell_type": "code",
   "execution_count": 3,
   "id": "6daceebd-17bf-4859-9d0f-b318057fd5ba",
   "metadata": {},
   "outputs": [
    {
     "name": "stdout",
     "output_type": "stream",
     "text": [
      "['banana', 'cherry']\n"
     ]
    }
   ],
   "source": [
    "fruits = [\"apple\", \"banana\", \"cherry\", \"mango\", \"orange\"]\n",
    "print(fruits[1:3])"
   ]
  },
  {
   "cell_type": "code",
   "execution_count": 5,
   "id": "db3e36c2-7c4d-4f18-84f8-ad9fdf7387ea",
   "metadata": {},
   "outputs": [
    {
     "name": "stdout",
     "output_type": "stream",
     "text": [
      "<class 'list'>\n",
      "13 None\n",
      "[43, 37, 86, 45, 86, 67]\n"
     ]
    }
   ],
   "source": [
    "x = [12,24,43,37,86,45,86,67,65,43,32,65,68]\n",
    "\n",
    "print(len(x,), print(type(x)))\n",
    "print(x[2:-5])"
   ]
  },
  {
   "cell_type": "markdown",
   "id": "da851102-d4ea-4139-a5e7-a4383fb98678",
   "metadata": {},
   "source": [
    "# Mutable or Changeable"
   ]
  },
  {
   "cell_type": "code",
   "execution_count": null,
   "id": "4a4e936b-4fb7-45f8-9235-1aa6748b853b",
   "metadata": {},
   "outputs": [],
   "source": []
  },
  {
   "cell_type": "markdown",
   "id": "0a9999e7-53b4-42b8-b0ab-f9fa379d0534",
   "metadata": {},
   "source": [
    "#  Heterogenous\n",
    "### _A heterogeneous structure involves different file types being concatenated in the list._   \n",
    "#### _such as __[123,\"hello\", True [\"4324.543.54.\"]]__ etc..._"
   ]
  },
  {
   "cell_type": "code",
   "execution_count": 11,
   "id": "495aa8e5-b44a-4249-9323-b6aebd2942b4",
   "metadata": {},
   "outputs": [
    {
     "name": "stdout",
     "output_type": "stream",
     "text": [
      "['apple', 3.34, [2, 4, 6]]\n"
     ]
    }
   ],
   "source": [
    "mixed_list = [ \"apple\", 3.34, [2,4,6]]\n",
    "print(mixed_list)"
   ]
  },
  {
   "cell_type": "code",
   "execution_count": 19,
   "id": "8d740911-7969-499a-b9e2-b8f070449fe1",
   "metadata": {},
   "outputs": [
    {
     "name": "stdout",
     "output_type": "stream",
     "text": [
      "14\n",
      "<class 'list'>\n"
     ]
    }
   ],
   "source": [
    "list1 = [\"apple\", \"banana\", \"cherry\",1, 5, 7, 9, 3,True, False,23.4,34.5,0.45,3.5]\n",
    "print(len(list1))\n",
    "print(type(list1))"
   ]
  },
  {
   "cell_type": "markdown",
   "id": "e7f95a61-7855-4794-9c6e-0c5bde09fd6b",
   "metadata": {},
   "source": [
    "# Allow Duplicates\n",
    "### _Since lists are indexed, lists can have items with the same value :_"
   ]
  },
  {
   "cell_type": "code",
   "execution_count": 1,
   "id": "30636899-280f-4143-a5ad-56504382905a",
   "metadata": {},
   "outputs": [
    {
     "name": "stdout",
     "output_type": "stream",
     "text": [
      "['apple', 'banana', 'cherry', 'apple', 'cherry']\n"
     ]
    }
   ],
   "source": [
    "thislist = [\"apple\", \"banana\", \"cherry\", \"apple\", \"cherry\"]\n",
    "print(thislist)"
   ]
  },
  {
   "cell_type": "markdown",
   "id": "8eb0f988-2f2d-42b3-bc90-eb97bf744472",
   "metadata": {},
   "source": [
    "# List Length\n",
    "### _To determine how many items a list has , use the __len() function__ :_"
   ]
  },
  {
   "cell_type": "code",
   "execution_count": 1,
   "id": "7ce7c75e-ca53-4abc-b1c3-0cd6a92696ef",
   "metadata": {},
   "outputs": [
    {
     "name": "stdout",
     "output_type": "stream",
     "text": [
      "1\n"
     ]
    }
   ],
   "source": [
    "thislist = [\"apple banana\"]\n",
    "print(len(thislist))"
   ]
  },
  {
   "cell_type": "code",
   "execution_count": 7,
   "id": "5edb2c7d-bbc0-4a25-950e-7b3d21e6f392",
   "metadata": {},
   "outputs": [
    {
     "name": "stdout",
     "output_type": "stream",
     "text": [
      "3\n"
     ]
    }
   ],
   "source": [
    "thislist = [\"apple\", \"banana\", \"cherry\"]\n",
    "print(len(thislist))"
   ]
  },
  {
   "cell_type": "code",
   "execution_count": 23,
   "id": "bddb2c44-91b2-45d3-b480-8de4a140ceef",
   "metadata": {},
   "outputs": [
    {
     "name": "stdout",
     "output_type": "stream",
     "text": [
      "8\n",
      "<class 'list'>\n"
     ]
    }
   ],
   "source": [
    "list1 = [\"apple..-.banana\",\"color\", \"cherry\",1,9, 3,True,3.5]\n",
    "print(len(list1))\n",
    "print(type(list1))"
   ]
  },
  {
   "cell_type": "markdown",
   "id": "fabacc38-e3d3-4706-b0c9-27a96e6c2432",
   "metadata": {},
   "source": [
    "# List Items\n",
    "### _List items are ordered, changeable, and allow duplicate values._\n",
    "\n",
    "### _List items are indexed, the first item has index [0], the second item has index [1] etc._"
   ]
  },
  {
   "cell_type": "markdown",
   "id": "8a739ae6-07c2-4fd6-b955-d0cd835236b2",
   "metadata": {},
   "source": [
    "# ➩ __List items - Data types__\n",
    "### _Lists are used to store multiple items in a single variable. Lists are one of 4 built-in data types in Python used to store collections of data._  \n",
    "### _List items can be of any data type :_\n"
   ]
  },
  {
   "cell_type": "code",
   "execution_count": 26,
   "id": "b37c1798-0379-4d78-ba10-0dfbfbf90b64",
   "metadata": {},
   "outputs": [
    {
     "name": "stdout",
     "output_type": "stream",
     "text": [
      "['apple', 'banana', 'cherry']\n",
      "['apple', 'banana', 'cherry'] [1, 5, 7, 9, 3]\n",
      "[1, 5, 7, 9, 3]\n",
      "[True, False, False]\n",
      "[23.4, 34.5, 0.45, 3.4] <class 'list'>\n"
     ]
    }
   ],
   "source": [
    "list1 = [\"apple\", \"banana\", \"cherry\"]\n",
    "list2 = [1, 5, 7, 9, 3]\n",
    "list3 = [True, False, False]\n",
    "list4 = [23.4,34.5,0.45,3.4]\n",
    "\n",
    "print(list1)\n",
    "print(list1, list2)\n",
    "print(list2)\n",
    "print(list3)\n",
    "print(list4, type(list4))"
   ]
  },
  {
   "cell_type": "code",
   "execution_count": 3,
   "id": "740ede68-50fd-47b0-b2a1-1e4c393f34f5",
   "metadata": {},
   "outputs": [
    {
     "name": "stdout",
     "output_type": "stream",
     "text": [
      "[4, 8, 100, 'hello', True, 8.39]\n",
      "<class 'list'>\n",
      "6\n"
     ]
    }
   ],
   "source": [
    "lst = [4,8,100,'hello', True, 8.39]\n",
    "print(lst)\n",
    "print(type(lst))\n",
    "print(len(lst))"
   ]
  },
  {
   "cell_type": "code",
   "execution_count": 7,
   "id": "321378c8-f626-4389-baee-1caed226a68c",
   "metadata": {},
   "outputs": [
    {
     "name": "stdout",
     "output_type": "stream",
     "text": [
      "['abc', 34, True, 40, 50.02, 60.45, (56+6j), 'male', 'books']\n",
      "<class 'list'>\n",
      "<class 'int'>\n"
     ]
    }
   ],
   "source": [
    "# A list can contain different data types : A list with strings, integers and boolean values :\n",
    "\n",
    "list1 = [\"abc\", 34, True, 40, 50.02,60.45, 56+6j, \"male\",\"books\"]\n",
    "print(list1)\n",
    "print(type(list1))\n",
    "print(type(list1[1]))"
   ]
  },
  {
   "cell_type": "code",
   "execution_count": 8,
   "id": "6cfc104b-c2b8-4342-831a-18d78e700e09",
   "metadata": {},
   "outputs": [
    {
     "name": "stdout",
     "output_type": "stream",
     "text": [
      "<class 'float'>\n"
     ]
    }
   ],
   "source": [
    "print(type(list1[4]))"
   ]
  },
  {
   "cell_type": "code",
   "execution_count": 9,
   "id": "8b53223f-c83a-4718-b1d4-520083fafffe",
   "metadata": {},
   "outputs": [
    {
     "name": "stdout",
     "output_type": "stream",
     "text": [
      "<class 'complex'>\n"
     ]
    }
   ],
   "source": [
    "print(type(list1[6]))"
   ]
  },
  {
   "cell_type": "markdown",
   "id": "fbfc0a79-da5b-407d-86b0-a449fe6fe593",
   "metadata": {},
   "source": [
    "# ➩ __The list() Constructor__\n",
    "### It is also possible to use the list() constructor when creating a new list."
   ]
  },
  {
   "cell_type": "code",
   "execution_count": 7,
   "id": "11d85c8a-9438-4917-b0f9-e35161812414",
   "metadata": {},
   "outputs": [
    {
     "name": "stdout",
     "output_type": "stream",
     "text": [
      "['apple', 'banana', 'cherry']\n"
     ]
    }
   ],
   "source": [
    "lst = list((\"apple\", \"banana\", \"cherry\"))          # note the double round-brackets\n",
    "print(lst)"
   ]
  },
  {
   "cell_type": "code",
   "execution_count": 28,
   "id": "acc7eb21-02a1-4158-a8dc-d56c6b4d497d",
   "metadata": {},
   "outputs": [
    {
     "name": "stdout",
     "output_type": "stream",
     "text": [
      "[2, 2, 2, 2, 2]\n",
      "[0, 0, 0, 0, 0, 0, 0]\n",
      "['Hello', 'Hello', 'Hello', 'Hello']\n",
      "[2, 2, 2, 2, 2, 'Hello', 'Hello', 'Hello', 'Hello']\n"
     ]
    }
   ],
   "source": [
    "a = [2] * 5               # Create a list [0, 0, 0, 0, 0, 0, 0]  \n",
    "b = [0] * 7\n",
    "c = [\"Hello\"] * 4\n",
    "\n",
    "print(a)\n",
    "print(b)\n",
    "print(c)\n",
    "print(a +c)"
   ]
  },
  {
   "cell_type": "markdown",
   "id": "5ae2594d-13a7-4e38-9def-942957da9d6c",
   "metadata": {},
   "source": [
    "# ➩ __Index() method__  ( to check the specific index numbers)\n",
    "### _Returns the index of the first element with the specified value :_"
   ]
  },
  {
   "cell_type": "code",
   "execution_count": 33,
   "id": "b838e1d0-97bb-439b-bba6-2cf20d94c940",
   "metadata": {},
   "outputs": [
    {
     "name": "stdout",
     "output_type": "stream",
     "text": [
      "2\n",
      "banana\n"
     ]
    }
   ],
   "source": [
    "f = ['apple', 'banana', 'cherry']\n",
    "x =  f.index(\"cherry\")\n",
    "\n",
    "print(x)\n",
    "print(f[1])"
   ]
  },
  {
   "cell_type": "code",
   "execution_count": 14,
   "id": "1c14d41a-1aab-4c91-9604-081eb3c0f0bc",
   "metadata": {},
   "outputs": [
    {
     "name": "stdout",
     "output_type": "stream",
     "text": [
      "1\n",
      "2\n",
      "5\n"
     ]
    }
   ],
   "source": [
    "f = ['apple', True, 56.78, 56+6j, 56,67,98]\n",
    "\n",
    "print(f.index(True))\n",
    "print(f.index(56.78))\n",
    "print(f.index(67))"
   ]
  },
  {
   "cell_type": "code",
   "execution_count": 15,
   "id": "5200f7b9-88fb-4a5e-8fd9-9660023f4816",
   "metadata": {},
   "outputs": [
    {
     "name": "stdout",
     "output_type": "stream",
     "text": [
      "3\n"
     ]
    }
   ],
   "source": [
    "nums = [4, 55, 64, 32, 16, 32]\n",
    "x = nums.index(32)\n",
    "print(x)"
   ]
  },
  {
   "cell_type": "code",
   "execution_count": 10,
   "id": "5b58f25c-197b-48cb-8715-45e019799d87",
   "metadata": {},
   "outputs": [
    {
     "name": "stdout",
     "output_type": "stream",
     "text": [
      "2\n"
     ]
    }
   ],
   "source": [
    "fruits = ['apple', 'banana', 'cherry', 'kiwi', 'mango', 'orange', 'cherry']\n",
    "x = fruits.index(\"cherry\")\n",
    "print(x)"
   ]
  },
  {
   "cell_type": "code",
   "execution_count": 11,
   "id": "f8f7e90c-b9af-4913-9573-e833b3ba8088",
   "metadata": {},
   "outputs": [
    {
     "name": "stdout",
     "output_type": "stream",
     "text": [
      "String found at index 1\n"
     ]
    }
   ],
   "source": [
    "a = ['Learn', 'Python', 'with', 'me']\n",
    "try:\n",
    "    index = a.index('Python')\n",
    "    print(\"String found at index\", index)\n",
    "except ValueError:\n",
    "    print(\"String not found!\")"
   ]
  },
  {
   "cell_type": "markdown",
   "id": "c2ebe8b1-e1f6-46f1-a8e0-941e5f9041b4",
   "metadata": {},
   "source": [
    "#             ➩➩   __Access list Items__  (indexing)\n",
    "### _List items are indexed and you can access them by referring to the index number:_"
   ]
  },
  {
   "cell_type": "markdown",
   "id": "d27912a7-cf2d-4dbd-bdac-584773243977",
   "metadata": {},
   "source": [
    "# Range of positive indexes\n",
    "### You can specify a range of indexes by specifying where to start and where to end the range."
   ]
  },
  {
   "cell_type": "code",
   "execution_count": 16,
   "id": "ff419639-fadf-424a-9116-c6da976cd053",
   "metadata": {},
   "outputs": [
    {
     "name": "stdout",
     "output_type": "stream",
     "text": [
      "banana\n"
     ]
    }
   ],
   "source": [
    "thislist = [\"apple\", \"banana\", \"cherry\"]                # Access second element\n",
    "print(thislist[1])"
   ]
  },
  {
   "cell_type": "code",
   "execution_count": 7,
   "id": "2982b4cc-7a2c-4083-bc73-db209d3c7d9b",
   "metadata": {},
   "outputs": [
    {
     "name": "stdout",
     "output_type": "stream",
     "text": [
      "dog\n",
      "fish\n"
     ]
    }
   ],
   "source": [
    "animals = ['cat', 'dog', 'bird', 'fish']\n",
    "print(animals[1])\n",
    "print(animals[3])"
   ]
  },
  {
   "cell_type": "code",
   "execution_count": 6,
   "id": "b9c7af46-f23c-405a-a82f-8adc170395e8",
   "metadata": {},
   "outputs": [
    {
     "name": "stdout",
     "output_type": "stream",
     "text": [
      "10\n"
     ]
    }
   ],
   "source": [
    "a = [10, 20, 30, 40, 50]                 # Access first element\n",
    "print(a[0])    "
   ]
  },
  {
   "cell_type": "code",
   "execution_count": 26,
   "id": "1ab0be38-3dfc-46c6-8196-0b820793471b",
   "metadata": {},
   "outputs": [
    {
     "name": "stdout",
     "output_type": "stream",
     "text": [
      "0\n",
      "1\n"
     ]
    }
   ],
   "source": [
    "li = ['0', '1', '2']\n",
    "print(li[0])  \n",
    "print(li[1]) "
   ]
  },
  {
   "cell_type": "code",
   "execution_count": 3,
   "id": "75741d61-0427-4414-9466-b230fe61d80e",
   "metadata": {},
   "outputs": [
    {
     "name": "stdout",
     "output_type": "stream",
     "text": [
      "[4, 8, 100, 'hello', True, 8.39]\n",
      "4\n",
      "8\n",
      "100\n",
      "hello\n",
      "8.39\n"
     ]
    }
   ],
   "source": [
    "lst = [4,8,100,'hello', True, 8.39]\n",
    "\n",
    "print(lst)\n",
    "print(lst[0])\n",
    "print(lst[1])\n",
    "print(lst[2])\n",
    "print(lst[3])\n",
    "\n",
    "print(lst[-1])"
   ]
  },
  {
   "cell_type": "markdown",
   "id": "5b790b69-8d73-4182-8c67-fdebf549622c",
   "metadata": {},
   "source": [
    "# Range of Negative Indexes"
   ]
  },
  {
   "cell_type": "code",
   "execution_count": 9,
   "id": "c2c0e064-4443-4046-aaf6-20bc2fb5fae3",
   "metadata": {},
   "outputs": [
    {
     "name": "stdout",
     "output_type": "stream",
     "text": [
      "cherry\n"
     ]
    }
   ],
   "source": [
    "thislist = [\"apple\", \"banana\", \"cherry\"]           # Access last element\n",
    "print(thislist[-1])"
   ]
  },
  {
   "cell_type": "code",
   "execution_count": 8,
   "id": "9e737c38-c0c3-4d13-a02e-7fb115f6c720",
   "metadata": {},
   "outputs": [
    {
     "name": "stdout",
     "output_type": "stream",
     "text": [
      "3\n",
      "2\n"
     ]
    }
   ],
   "source": [
    "li = [1, 2, 3]\n",
    "print(li[-1])  \n",
    "print(li[-2])"
   ]
  },
  {
   "cell_type": "markdown",
   "id": "587e4e5f-26fc-4322-bb6b-1509f0cbd5ee",
   "metadata": {},
   "source": [
    " # ➩ __Slicing list items__  \n",
    "### _You can return a range of characters by using the slice syntax. Specify the start index and the end index, separated by a colon, to return a part of the string._    \n",
    "## start : stop : step\n",
    "# __Basic list slicing__"
   ]
  },
  {
   "cell_type": "code",
   "execution_count": 10,
   "id": "0ff8b342-f544-4b39-a41b-5b36647654b7",
   "metadata": {},
   "outputs": [
    {
     "name": "stdout",
     "output_type": "stream",
     "text": [
      "[10, 20, 30]\n"
     ]
    }
   ],
   "source": [
    "a = [10, 20, 30, 40, 50]           \n",
    "print(a[0:3])    "
   ]
  },
  {
   "cell_type": "code",
   "execution_count": 11,
   "id": "9db42d91-9c0f-4da5-9550-26dad4367906",
   "metadata": {},
   "outputs": [
    {
     "name": "stdout",
     "output_type": "stream",
     "text": [
      "[12, 32, 54, 35]\n"
     ]
    }
   ],
   "source": [
    "numbers = [12,32,54,35,78,98,73,45,34,75]\n",
    "print(numbers[0:4])"
   ]
  },
  {
   "cell_type": "code",
   "execution_count": 12,
   "id": "b0e44ad6-cdfc-462e-9949-fbe646432693",
   "metadata": {},
   "outputs": [
    {
     "name": "stdout",
     "output_type": "stream",
     "text": [
      "['apple', 'banana', 'cherry', 'orange']\n"
     ]
    }
   ],
   "source": [
    "list = [\"apple\", \"banana\", \"cherry\", \"orange\", \"kiwi\", \"melon\", \"mango\"]   # omiting slicing\n",
    "print(list[:4])"
   ]
  },
  {
   "cell_type": "code",
   "execution_count": 13,
   "id": "e6565c02-6c47-42ef-9340-80814de92685",
   "metadata": {},
   "outputs": [
    {
     "name": "stdout",
     "output_type": "stream",
     "text": [
      "['cherry', 'orange', 'kiwi', 'melon', 'mango']\n"
     ]
    }
   ],
   "source": [
    "list1 = [\"apple\", \"banana\", \"cherry\", \"orange\", \"kiwi\", \"melon\", \"mango\"]    # omiting slicing\n",
    "print(list1[2:])"
   ]
  },
  {
   "cell_type": "code",
   "execution_count": 14,
   "id": "33b954cf-6c7e-4ac4-86b3-c0e7d722dfc6",
   "metadata": {},
   "outputs": [
    {
     "name": "stdout",
     "output_type": "stream",
     "text": [
      "[12, 32, 64, 54, 78, 98, 74, 45, 34, 75]\n"
     ]
    }
   ],
   "source": [
    "numbers = [12,32,64,54,78,98,74,45,34,75]                    # omiting slicing\n",
    "print(numbers[:])"
   ]
  },
  {
   "cell_type": "code",
   "execution_count": 15,
   "id": "262e8fd8-fb7b-4bc8-8553-5c1b6b719c7f",
   "metadata": {},
   "outputs": [
    {
     "name": "stdout",
     "output_type": "stream",
     "text": [
      "[2, 3, 4]\n"
     ]
    }
   ],
   "source": [
    "a = [1, 2, 3, 4, 5, 6, 7, 8, 9]\n",
    "b = a[1:4]\n",
    "print(b)"
   ]
  },
  {
   "cell_type": "code",
   "execution_count": 16,
   "id": "e22f72c4-1bd0-4822-ae62-3b5971c82aed",
   "metadata": {},
   "outputs": [
    {
     "name": "stdout",
     "output_type": "stream",
     "text": [
      "[]\n",
      "[2, 5, 8]\n"
     ]
    }
   ],
   "source": [
    "a = [1, 2, 3, 4, 5, 6, 7, 8, 9]\n",
    "b = a[2:2]\n",
    "print(b)\n",
    "c = a[1:8:3]\n",
    "print(c)"
   ]
  },
  {
   "cell_type": "code",
   "execution_count": 17,
   "id": "210f88ed-115b-4dc1-8192-7ceb20d730ad",
   "metadata": {},
   "outputs": [
    {
     "name": "stdout",
     "output_type": "stream",
     "text": [
      "[43, 54]\n"
     ]
    }
   ],
   "source": [
    "num = [43,54,56,76,87,9,86,16,53,12,42,24,22,54]\n",
    "print(num[:2:])"
   ]
  },
  {
   "cell_type": "markdown",
   "id": "9d06cbd8-1ac7-4367-8856-9de6c23d3921",
   "metadata": {},
   "source": [
    "# __indexing with step__"
   ]
  },
  {
   "cell_type": "code",
   "execution_count": 18,
   "id": "e0586b71-cbe1-4c6c-bc9a-e197c1692f68",
   "metadata": {},
   "outputs": [
    {
     "name": "stdout",
     "output_type": "stream",
     "text": [
      "[43, 56, 87, 86, 53, 42, 22]\n"
     ]
    }
   ],
   "source": [
    "num = [43,54,56,76,87,9,86,16,53,12,42,24,22,54]\n",
    "print(num[::2])                   # index positon  always starts with 0 "
   ]
  },
  {
   "cell_type": "code",
   "execution_count": 19,
   "id": "6fea5573-bd3c-4a4e-9f82-8e916d6b1c47",
   "metadata": {},
   "outputs": [
    {
     "name": "stdout",
     "output_type": "stream",
     "text": [
      "[43, 87, 53, 22]\n"
     ]
    }
   ],
   "source": [
    "num = [43,54,56,76,87,9,86,16,53,12,42,24,22,54]\n",
    "print(num[::4])"
   ]
  },
  {
   "cell_type": "code",
   "execution_count": 20,
   "id": "842963d1-3a9e-4c29-996c-fb6fcc1a029e",
   "metadata": {},
   "outputs": [
    {
     "name": "stdout",
     "output_type": "stream",
     "text": [
      "[1, 2, 3, 4, 5, 6, 7, 8, 9]\n",
      "[1, 2, 3, 4, 5, 6, 7, 8, 9]\n"
     ]
    }
   ],
   "source": [
    "a = [1, 2, 3, 4, 5, 6, 7, 8, 9]\n",
    "\n",
    "              # Get all elements in the list\n",
    "print(a[::])\n",
    "print(a[:])"
   ]
  },
  {
   "cell_type": "code",
   "execution_count": 21,
   "id": "3de3ccc1-975d-4fc5-a9f5-cd33d2d88411",
   "metadata": {},
   "outputs": [
    {
     "name": "stdout",
     "output_type": "stream",
     "text": [
      "['hello', True, 8.39]\n",
      "[8, 100, 'hello', True, 8.39]\n",
      "[4, 8, 100]\n",
      "[4, 100, True]\n",
      "[8.39, True, 'hello', 100, 8, 4]\n",
      "[8.39, True, 'hello', 100, 8, 4]\n"
     ]
    }
   ],
   "source": [
    "lst = [4,8,100,'hello', True, 8.39]\n",
    "print(lst[3:6])       # start : stop : steps\n",
    "print(lst[1:])        # index 1 to the end\n",
    "print(lst[:3])        # from index 0 to 2\n",
    "\n",
    "print(lst[0:6:2])\n",
    "print(lst[6::-1])\n",
    "print(lst[::-1])      # reversing a list"
   ]
  },
  {
   "cell_type": "code",
   "execution_count": 25,
   "id": "bd11b8af-5f17-42c9-92cb-62bc8d763d14",
   "metadata": {},
   "outputs": [
    {
     "name": "stdout",
     "output_type": "stream",
     "text": [
      "[23, 345, 56.77, 56.78, 'hello', 'hi', True, 76, 78, 56, 45, (78+8j), 34, 456, 76, 'vijay', 'Chauhan']\n",
      "(78+8j)\n",
      "[(78+8j), 34, 456, 76, 'vijay', 'Chauhan']\n"
     ]
    }
   ],
   "source": [
    "c =[23,345,56.77,56.78,\"hello\",\"hi\", True,76,78,56,45,78+8j]\n",
    "d = [ 34,456,76,\"vijay\", \"Chauhan\"]\n",
    "e = c + d\n",
    "\n",
    "print(e)\n",
    "print(e[11])\n",
    "print(e[11:])"
   ]
  },
  {
   "cell_type": "markdown",
   "id": "1c1118fd-cc82-4d58-9977-6ee1a0ad176b",
   "metadata": {},
   "source": [
    "# ➩➩ __Change List items__ (mutability property of lists)\n",
    "#### Change the item value\n",
    "# __Changing Elements == Updating Elements into List__\n",
    "### _We can change the value of an element by accessing it using it's index_."
   ]
  },
  {
   "cell_type": "code",
   "execution_count": 22,
   "id": "3f75a312-2d43-467a-8bc2-e7252e8be14e",
   "metadata": {},
   "outputs": [
    {
     "name": "stdout",
     "output_type": "stream",
     "text": [
      "['apple', 'blackcurrant', 'cherry']\n"
     ]
    }
   ],
   "source": [
    "thislist = [\"apple\", \"banana\", \"cherry\"]\n",
    "thislist[1] = \"blackcurrant\"\n",
    "print(thislist)"
   ]
  },
  {
   "cell_type": "code",
   "execution_count": 26,
   "id": "d6f2551a-847e-4815-a82f-63a5384cd951",
   "metadata": {},
   "outputs": [
    {
     "name": "stdout",
     "output_type": "stream",
     "text": [
      "[12, 23, 54, 'Students', 87, 98, 76, 54, 43, 21]\n"
     ]
    }
   ],
   "source": [
    "a = [12,23,54,76,87,98,76,54,43,21]\n",
    "a[3] = \"Students\"\n",
    "print(a)"
   ]
  },
  {
   "cell_type": "code",
   "execution_count": 27,
   "id": "b1657f25-6d43-45a0-8fdf-b647c9674d38",
   "metadata": {},
   "outputs": [
    {
     "name": "stdout",
     "output_type": "stream",
     "text": [
      "[10, 25, 30, 40, 50]\n"
     ]
    }
   ],
   "source": [
    "a = [10, 20, 30, 40, 50]\n",
    "a[1] = 25 \n",
    "print(a)"
   ]
  },
  {
   "cell_type": "markdown",
   "id": "1d061847-ed89-443f-8f46-19502d67f014",
   "metadata": {},
   "source": [
    "# ➩ Change a Range of Item Values\n",
    "### _To change the value of items within a specific range, define a list with the new values, and refer to the range of index numbers where you want to insert the new values_:"
   ]
  },
  {
   "cell_type": "code",
   "execution_count": 23,
   "id": "6eeed077-052b-4c9f-9892-13adcf87a542",
   "metadata": {},
   "outputs": [
    {
     "name": "stdout",
     "output_type": "stream",
     "text": [
      "['apple', 'blackcurrant', 'watermelon', 'orange', 'kiwi', 'mango']\n"
     ]
    }
   ],
   "source": [
    "thislist = [\"apple\", \"banana\", \"cherry\", \"orange\", \"kiwi\", \"mango\"]\n",
    "thislist[1:3] = [\"blackcurrant\", \"watermelon\"]\n",
    "print(thislist)"
   ]
  },
  {
   "cell_type": "code",
   "execution_count": 24,
   "id": "debbffc3-e236-44fa-935d-b55499040061",
   "metadata": {},
   "outputs": [
    {
     "name": "stdout",
     "output_type": "stream",
     "text": [
      "['apple', 'blackcurrant', 'watermelon', 'cherry']\n"
     ]
    }
   ],
   "source": [
    "thislist = [\"apple\", \"banana\", \"cherry\"]\n",
    "thislist[1:2] = [\"blackcurrant\", \"watermelon\"]\n",
    "print(thislist)"
   ]
  },
  {
   "cell_type": "code",
   "execution_count": 25,
   "id": "d566cf17-f8a7-493b-bd5f-a8bcc1f0b369",
   "metadata": {},
   "outputs": [
    {
     "name": "stdout",
     "output_type": "stream",
     "text": [
      "['apple', 'watermelon']\n"
     ]
    }
   ],
   "source": [
    "thislist = [\"apple\", \"banana\", \"cherry\"]\n",
    "thislist[1:3] = [\"watermelon\"]\n",
    "print(thislist)"
   ]
  },
  {
   "cell_type": "code",
   "execution_count": 28,
   "id": "36d6ed6a-0eda-447a-81b5-c1b246796126",
   "metadata": {},
   "outputs": [
    {
     "name": "stdout",
     "output_type": "stream",
     "text": [
      "[12, 23, 'Students', 'class', 54673, 87, 98, 76, 54, 43, 21]\n"
     ]
    }
   ],
   "source": [
    "a = [12,23,54,76,87,98,76,54,43,21]\n",
    "a[2:4] = [\"Students\", \"class\",54673]\n",
    "print(a)"
   ]
  },
  {
   "cell_type": "code",
   "execution_count": 29,
   "id": "d64f1688-ec1e-4a44-99cb-09ab75530e89",
   "metadata": {},
   "outputs": [
    {
     "name": "stdout",
     "output_type": "stream",
     "text": [
      "[12, 23, 54, 'Students', 'class']\n"
     ]
    }
   ],
   "source": [
    "a = [12,23,54,76,87,98,76,54,43,21]\n",
    "a[3:] = \"Students\", \"class\"\n",
    "print(a)"
   ]
  },
  {
   "cell_type": "code",
   "execution_count": 30,
   "id": "8fac48c5-20e3-44a0-a067-98eada8863ec",
   "metadata": {},
   "outputs": [
    {
     "name": "stdout",
     "output_type": "stream",
     "text": [
      "[10, 25, 23, 30, 40, 50]\n"
     ]
    }
   ],
   "source": [
    "a = [10, 20, 30, 40, 50]\n",
    "a[1:2] = 25 , 23\n",
    "print(a)"
   ]
  },
  {
   "cell_type": "markdown",
   "id": "48232d93-7062-4b93-90c2-3af6ca0e81b4",
   "metadata": {},
   "source": [
    "# Chceck if the element is present in the list"
   ]
  },
  {
   "cell_type": "code",
   "execution_count": 31,
   "id": "30277f4b-5f0c-4515-a239-9e29f6c5fa0c",
   "metadata": {},
   "outputs": [
    {
     "name": "stdout",
     "output_type": "stream",
     "text": [
      "Yes, 'apple' is in the fruits list\n"
     ]
    }
   ],
   "source": [
    "list = [\"apple\", \"banana\", \"cherry\"]\n",
    "if \"apple\" in list:\n",
    "  print(\"Yes, 'apple' is in the fruits list\")"
   ]
  },
  {
   "cell_type": "code",
   "execution_count": 32,
   "id": "405bdacc-b5f1-4ae0-b912-a4cfdc7270fd",
   "metadata": {},
   "outputs": [
    {
     "data": {
      "text/plain": [
       "True"
      ]
     },
     "execution_count": 32,
     "metadata": {},
     "output_type": "execute_result"
    }
   ],
   "source": [
    "li = [\"hello\",\"Ranvijay\", 'a','c', 'k', 45,65,67,False,85.5,34,56.678,4.4,True]\n",
    "65 in li"
   ]
  },
  {
   "cell_type": "code",
   "execution_count": 33,
   "id": "d80400d6-d31e-4a71-8076-db14959c9d7b",
   "metadata": {},
   "outputs": [
    {
     "data": {
      "text/plain": [
       "False"
      ]
     },
     "execution_count": 33,
     "metadata": {},
     "output_type": "execute_result"
    }
   ],
   "source": [
    "li = [\"hello\",\"Ranvijay\", 'a','c', 'k', 45,65,67,False,85.5,34,56.678,4.4,True]\n",
    "88.7 in li"
   ]
  },
  {
   "cell_type": "code",
   "execution_count": 34,
   "id": "b92f50d5-fd18-442c-bc9b-8e05610d02ac",
   "metadata": {},
   "outputs": [
    {
     "name": "stdout",
     "output_type": "stream",
     "text": [
      "Ranvijay is present\n"
     ]
    }
   ],
   "source": [
    "list1 = [\"hello\",\"Ranvijay\", 'a','c', 'k', 45,65,67,False,85.5,34,56.678,4.4,True]\n",
    "if \"Ranvijay\" in list1:\n",
    "    print(\"Ranvijay is present\")\n",
    "else:\n",
    "    print(\"Not Found!\")"
   ]
  },
  {
   "cell_type": "markdown",
   "id": "645bab0a-207a-4fcb-b3d8-bced5ce9412b",
   "metadata": {},
   "source": [
    "# ➩➩   __Add List Items__\n",
    "\n",
    "### Methods to add list items -- ___by taking index of element, replacing values ,  append() , insert() , extend() , and we can also use '+' operator to join multiple lists___.\n",
    "# ⮩ __Append Items__\n",
    "### _The __append()__ method appends (adds) an element to the end of the list._"
   ]
  },
  {
   "cell_type": "code",
   "execution_count": 18,
   "id": "b1865c49-c7cf-4912-94e0-5b3931755b78",
   "metadata": {},
   "outputs": [
    {
     "name": "stdout",
     "output_type": "stream",
     "text": [
      "[1, 2, 3, 4]\n"
     ]
    }
   ],
   "source": [
    "li = [1, 2, 3]\n",
    "li.append(4)\n",
    "print(li)"
   ]
  },
  {
   "cell_type": "code",
   "execution_count": 19,
   "id": "6db689ca-fd3e-474f-933c-8d54285c8080",
   "metadata": {},
   "outputs": [
    {
     "name": "stdout",
     "output_type": "stream",
     "text": [
      "[1, 2, 3, 4, 5, 6]\n"
     ]
    }
   ],
   "source": [
    "li = [1, 2, 3]\n",
    "li.extend([4, 5, 6])\n",
    "print(li)"
   ]
  },
  {
   "cell_type": "code",
   "execution_count": 28,
   "id": "e50ab047-97d7-433e-97b7-0e1b7b8af286",
   "metadata": {},
   "outputs": [
    {
     "name": "stdout",
     "output_type": "stream",
     "text": [
      "['apple', 'banana', 'cherry', 'orange']\n"
     ]
    }
   ],
   "source": [
    "list = [\"apple\", \"banana\", \"cherry\"]\n",
    "list.append(\"orange\")\n",
    "print(list)"
   ]
  },
  {
   "cell_type": "code",
   "execution_count": 77,
   "id": "807c0fda-a4d9-4719-90d1-f0bbbc1f4a90",
   "metadata": {},
   "outputs": [
    {
     "name": "stdout",
     "output_type": "stream",
     "text": [
      "['apple', 'banana', 'cherry', ['Ford', 'BMW', 'Volvo']]\n"
     ]
    }
   ],
   "source": [
    "a = [\"apple\", \"banana\", \"cherry\"]\n",
    "b = [\"Ford\", \"BMW\", \"Volvo\"]\n",
    "a.append(b)\n",
    "print(a)"
   ]
  },
  {
   "cell_type": "code",
   "execution_count": 22,
   "id": "af685f2e-a6d3-4a06-8916-4ecbc96c8c75",
   "metadata": {},
   "outputs": [
    {
     "name": "stdout",
     "output_type": "stream",
     "text": [
      "[0, 1, 2, 3, 4]\n"
     ]
    }
   ],
   "source": [
    "li = []                # adding items using loop\n",
    "for i in range(5):\n",
    "    li.append(i)\n",
    "print(li)"
   ]
  },
  {
   "cell_type": "code",
   "execution_count": 31,
   "id": "d3039e0e-44ba-4b5f-ae61-08b7e336ab16",
   "metadata": {},
   "outputs": [
    {
     "name": "stdout",
     "output_type": "stream",
     "text": [
      "[]\n"
     ]
    }
   ],
   "source": [
    "newnames = []\n",
    "for i in names:\n",
    "    if i[0]=='a':\n",
    "        newnames.append(i)\n",
    "\n",
    "print(newnames)"
   ]
  },
  {
   "cell_type": "code",
   "execution_count": 19,
   "id": "9a04e3e1-031c-43aa-a43c-14521b9505fc",
   "metadata": {},
   "outputs": [
    {
     "name": "stdout",
     "output_type": "stream",
     "text": [
      "[1, 2, 3, 4, 5, 6, 7, 8, 9, 11, 22, 33, 44, 55, 66, 77, 88, 99, 101, 111, 121, 131, 141, 151, 161, 171, 181, 191, 202, 212, 222, 232, 242, 252, 262, 272, 282, 292, 303, 313, 323, 333, 343, 353, 363, 373, 383, 393, 404, 414, 424, 434, 444, 454, 464, 474, 484, 494, 505, 515, 525, 535, 545, 555, 565, 575, 585, 595, 606, 616, 626, 636, 646, 656, 666, 676, 686, 696, 707, 717, 727, 737, 747, 757, 767, 777, 787, 797, 808, 818, 828, 838, 848, 858, 868, 878, 888, 898, 909, 919, 929, 939, 949, 959, 969, 979, 989, 999]\n"
     ]
    }
   ],
   "source": [
    "mylist= []\n",
    "for i in range(1,1000):\n",
    "    if str(i)[::-1] == str(i):\n",
    "        mylist.append(i)\n",
    "\n",
    "print(mylist)"
   ]
  },
  {
   "cell_type": "code",
   "execution_count": 42,
   "id": "1a1e0cf8-cda6-4295-b622-4be1349bf461",
   "metadata": {},
   "outputs": [
    {
     "name": "stdout",
     "output_type": "stream",
     "text": [
      "['apple', 'banana', 'mango']\n"
     ]
    }
   ],
   "source": [
    "# Based on a list of fruits, you want a new list, containing only the fruits with the letter \"a\" in the name.\n",
    "\n",
    "fruits = [\"apple\", \"banana\", \"cherry\", \"kiwi\", \"mango\"]\n",
    "newlist = []\n",
    "\n",
    "for x in fruits:\n",
    "  if \"a\" in x:\n",
    "    newlist.append(x)\n",
    "\n",
    "print(newlist)"
   ]
  },
  {
   "cell_type": "code",
   "execution_count": 20,
   "id": "767a611e-813b-43fe-9056-afd4308453e9",
   "metadata": {},
   "outputs": [
    {
     "name": "stdin",
     "output_type": "stream",
     "text": [
      " 56\n",
      " True\n",
      " Vijay\n",
      " 56.8\n",
      " 6+8j\n",
      " 89\n"
     ]
    },
    {
     "name": "stdout",
     "output_type": "stream",
     "text": [
      "['56', 'True', 'Vijay', '56.8', '6+8j', '89']\n"
     ]
    }
   ],
   "source": [
    "# names = []\n",
    "\n",
    "for i in range(6):\n",
    "    name = input()\n",
    "    names.append(name)\n",
    "print(names)\n",
    "for i in names:\n",
    "    if i[0]=='a':\n",
    "        print(i)"
   ]
  },
  {
   "cell_type": "markdown",
   "id": "07be1124-200a-492e-8beb-e357b7414c46",
   "metadata": {},
   "source": [
    "# ⮩ __Insert List Items__\n",
    "### _To insert a new list item, without replacing any of the existing values, we can use the __insert() method.___  \n",
    "### _The __insert()__ method inserts the specified value at the specified position._"
   ]
  },
  {
   "cell_type": "code",
   "execution_count": 29,
   "id": "6cb88350-0d81-4441-86a3-d71c9ba4b04f",
   "metadata": {},
   "outputs": [
    {
     "name": "stdout",
     "output_type": "stream",
     "text": [
      "['apple', 'orange', 'banana', 'cherry']\n"
     ]
    }
   ],
   "source": [
    "thislist = [\"apple\", \"banana\", \"cherry\"]\n",
    "thislist.insert(1, \"orange\")\n",
    "print(thislist)"
   ]
  },
  {
   "cell_type": "code",
   "execution_count": 37,
   "id": "05f931c0-7df0-4ccb-9276-b9c702ae8846",
   "metadata": {},
   "outputs": [
    {
     "name": "stdout",
     "output_type": "stream",
     "text": [
      "['apple', 'orange', 'cherry']\n"
     ]
    }
   ],
   "source": [
    "mylst = [\"apple\", \"banana\", \"cherry\"]\n",
    "mylst[1] = (\"orange\")\n",
    "print(mylst)"
   ]
  },
  {
   "cell_type": "code",
   "execution_count": 26,
   "id": "cb0d93d0-63c0-450c-86ab-6a675892c6bb",
   "metadata": {},
   "outputs": [
    {
     "name": "stdout",
     "output_type": "stream",
     "text": [
      "['apple', 'banana', 'watermelon', 'cherry']\n"
     ]
    }
   ],
   "source": [
    "thislist = [\"apple\", \"banana\", \"cherry\"]\n",
    "thislist.insert(2, \"watermelon\")\n",
    "print(thislist)\n"
   ]
  },
  {
   "cell_type": "code",
   "execution_count": 38,
   "id": "5dd58be8-a757-4df8-9980-1449ea39f2fb",
   "metadata": {},
   "outputs": [
    {
     "name": "stdout",
     "output_type": "stream",
     "text": [
      "[1, 100, 2, 3]\n"
     ]
    }
   ],
   "source": [
    "a = [1, 2, 3]\n",
    "a.insert(1, 100)\n",
    "print(a)"
   ]
  },
  {
   "cell_type": "code",
   "execution_count": 40,
   "id": "c528db21-94eb-44d9-a8bd-307537bd6db8",
   "metadata": {},
   "outputs": [
    {
     "name": "stdout",
     "output_type": "stream",
     "text": [
      "[1, 6, 5, 4, 2, 3]\n"
     ]
    }
   ],
   "source": [
    "li = [1, 2, 3]\n",
    "for i in [4, 5, 6]:\n",
    "    li.insert(1, i)  # Inserts items at index 1 one by one\n",
    "print(li)"
   ]
  },
  {
   "cell_type": "markdown",
   "id": "4f4fd6ea-5fe6-47b2-93f5-613fc2800046",
   "metadata": {},
   "source": [
    "# ⮩ __extend() method__\n",
    "### _To append elements from another list to the current list, use the __extend() method.___  \n",
    "### _The __extend()__ method adds the specified list elements (or any iterable) to the end of the current list._"
   ]
  },
  {
   "cell_type": "code",
   "execution_count": 41,
   "id": "3ff04dab-55a9-410c-b578-ced981437658",
   "metadata": {},
   "outputs": [
    {
     "name": "stdout",
     "output_type": "stream",
     "text": [
      "['apple', 'banana', 'cherry', 'mango', 'pineapple', 'papaya']\n"
     ]
    }
   ],
   "source": [
    "x = [\"apple\", \"banana\", \"cherry\"]\n",
    "y = [\"mango\", \"pineapple\", \"papaya\"]\n",
    "x.extend(y)\n",
    "print(x)"
   ]
  },
  {
   "cell_type": "code",
   "execution_count": 37,
   "id": "928eb9f6-22af-426c-8bf0-a8ab7c6f9e5e",
   "metadata": {},
   "outputs": [
    {
     "name": "stdout",
     "output_type": "stream",
     "text": [
      "['apple', 'banana', 'cherry', 'Ford', 'BMW', 'Volvo']\n"
     ]
    }
   ],
   "source": [
    "fruits = ['apple', 'banana', 'cherry']\n",
    "cars = ['Ford', 'BMW', 'Volvo']\n",
    "fruits.extend(cars)\n",
    "\n",
    "print(fruits)"
   ]
  },
  {
   "cell_type": "code",
   "execution_count": 38,
   "id": "2f2ae6b0-0078-4d21-b0db-7693dcd00b41",
   "metadata": {},
   "outputs": [
    {
     "name": "stdout",
     "output_type": "stream",
     "text": [
      "['apple', 'banana', 'cherry', 1, 4, 5, 9]\n"
     ]
    }
   ],
   "source": [
    "fruits = ['apple', 'banana', 'cherry']\n",
    "points = (1, 4, 5, 9)\n",
    "fruits.extend(points)\n",
    "\n",
    "print(fruits)"
   ]
  },
  {
   "cell_type": "code",
   "execution_count": 39,
   "id": "d9639130-91ef-4b9e-a191-7ade7f2c97dd",
   "metadata": {},
   "outputs": [
    {
     "name": "stdout",
     "output_type": "stream",
     "text": [
      "[4, 8, 100, 'hello', True, 8.39, 1, 2, 3, 4]\n"
     ]
    }
   ],
   "source": [
    "lst = [4,8,100,'hello', True, 8.39] \n",
    "new = [1,2,3,4]\n",
    "\n",
    "lst.extend(new)\n",
    "print(lst)"
   ]
  },
  {
   "cell_type": "code",
   "execution_count": 40,
   "id": "8b39b43f-f2de-4b65-99e6-5ff9d99088bc",
   "metadata": {},
   "outputs": [
    {
     "name": "stdout",
     "output_type": "stream",
     "text": [
      "['apple', 'banana', 'cherry', 'kiwi', 'orange']\n"
     ]
    }
   ],
   "source": [
    "thislist = [\"apple\", \"banana\", \"cherry\"]\n",
    "thistuple = (\"kiwi\", \"orange\")\n",
    "thislist.extend(thistuple)\n",
    "print(thislist)"
   ]
  },
  {
   "cell_type": "code",
   "execution_count": 41,
   "id": "72e08d4e-afad-4acb-8c85-8dc5aaddec39",
   "metadata": {},
   "outputs": [
    {
     "name": "stdout",
     "output_type": "stream",
     "text": [
      "[1, 2, 3, 4, 5, 6, 7, 8, 9]\n"
     ]
    }
   ],
   "source": [
    "a = [1, 2, 3]          # Iterate any item using extend method\n",
    "a.extend([4, 5, 6])\n",
    "\n",
    "b = [x for x in range(7, 10)]\n",
    "a.extend(b)\n",
    "\n",
    "print(a)"
   ]
  },
  {
   "cell_type": "markdown",
   "id": "b0246fb3-6e80-47a6-a010-a555c017b1ba",
   "metadata": {},
   "source": [
    "# ⮩ replacing the elements"
   ]
  },
  {
   "cell_type": "code",
   "execution_count": 24,
   "id": "da698d00-f93b-4e96-8aab-97a5f720929d",
   "metadata": {},
   "outputs": [
    {
     "name": "stdout",
     "output_type": "stream",
     "text": [
      "[4, 8, 'hi there', 'hello', True, 8.39]\n"
     ]
    }
   ],
   "source": [
    "lst = [4,8,100,'hello', True, 8.39]                      # replacing an element of a list\n",
    "lst[2] = 'hi there'\n",
    "print(lst)"
   ]
  },
  {
   "cell_type": "code",
   "execution_count": 25,
   "id": "7ccaf0fd-6847-4f79-898d-6d082b20f48b",
   "metadata": {},
   "outputs": [
    {
     "name": "stdout",
     "output_type": "stream",
     "text": [
      "[4, 8, 'hi there', 'hello', True, 'How are you']\n"
     ]
    }
   ],
   "source": [
    "lst[5] = \"How are you\"\n",
    "print(lst)"
   ]
  },
  {
   "cell_type": "code",
   "execution_count": 26,
   "id": "251d0663-b9a7-43c6-9f84-331926b3bc12",
   "metadata": {},
   "outputs": [
    {
     "name": "stdout",
     "output_type": "stream",
     "text": [
      "6\n"
     ]
    }
   ],
   "source": [
    "print( len(lst) )"
   ]
  },
  {
   "cell_type": "code",
   "execution_count": 27,
   "id": "5d4aef92-02f6-4197-a4d2-0f55a24eaf13",
   "metadata": {},
   "outputs": [
    {
     "data": {
      "text/plain": [
       "list"
      ]
     },
     "execution_count": 27,
     "metadata": {},
     "output_type": "execute_result"
    }
   ],
   "source": [
    "type(lst)"
   ]
  },
  {
   "cell_type": "markdown",
   "id": "2e354afc-eeca-43a7-8d20-4a77a96b867a",
   "metadata": {},
   "source": [
    "#  ➩ __Join Two Lists__\n",
    "### _There are several ways to join , or concatenate , two or more lists in Python._\n",
    "### _One of the easiest ways are by using the + operator._"
   ]
  },
  {
   "cell_type": "code",
   "execution_count": 28,
   "id": "49b8b5ce-820e-4ba0-b6e7-824d1c3bb34a",
   "metadata": {},
   "outputs": [
    {
     "name": "stdout",
     "output_type": "stream",
     "text": [
      "[1, 2, 3, 4, 5, 6]\n"
     ]
    }
   ],
   "source": [
    "a = [1, 2, 3]\n",
    "b = [4, 5, 6]\n",
    "c = a + b\n",
    "print(c)"
   ]
  },
  {
   "cell_type": "code",
   "execution_count": 29,
   "id": "016bdd05-5a1e-43e2-a045-9d7e3c660995",
   "metadata": {},
   "outputs": [
    {
     "name": "stdout",
     "output_type": "stream",
     "text": [
      "['hello', 'Ranvijay', 45, 65, 67, 78, 90, 98, 85.5, 3.4, '5.67.00', 7.8, 0.04, True, False]\n"
     ]
    }
   ],
   "source": [
    "list1 = [\"hello\",\"Ranvijay\"] \n",
    "list2 = [45,65,67,78,90,98]\n",
    "list3 = [85.5,3.4,\"5.67.00\",7.8,0.04,]\n",
    "list4 = [ True, False]\n",
    "\n",
    "print(list1 + list2 + list3 + list4)"
   ]
  },
  {
   "cell_type": "code",
   "execution_count": 128,
   "id": "24a57316-1ad0-468e-886b-ecec41c57945",
   "metadata": {},
   "outputs": [
    {
     "name": "stdout",
     "output_type": "stream",
     "text": [
      "['a', 'b', 'c', 1, 2, 3]\n"
     ]
    }
   ],
   "source": [
    "list1 = [\"a\", \"b\", \"c\"]\n",
    "list2 = [1, 2, 3]\n",
    "\n",
    "list3 = list1 + list2\n",
    "print(list3)"
   ]
  },
  {
   "cell_type": "code",
   "execution_count": 68,
   "id": "02bc6e7f-1edd-46f1-a751-3b3af781102a",
   "metadata": {},
   "outputs": [
    {
     "name": "stdout",
     "output_type": "stream",
     "text": [
      "['a', 'b', 'c', '2']\n"
     ]
    }
   ],
   "source": [
    "list1 = [\"a\", \"b\" , \"c\"]      # Append list2 into list1:\n",
    "list1.append('2')\n",
    "\n",
    "print(list1)"
   ]
  },
  {
   "cell_type": "code",
   "execution_count": 66,
   "id": "09da81ec-5dc5-458b-83ac-6a69ba7601cc",
   "metadata": {},
   "outputs": [
    {
     "name": "stdout",
     "output_type": "stream",
     "text": [
      "['a', 'b', 'c', '2']\n"
     ]
    }
   ],
   "source": [
    "list1 = [\"a\", \"b\" , \"c\"]      # Append list2 into list1:\n",
    "list2 = [1, 2, 3]\n",
    "\n",
    "for x in list2:\n",
    "  list1.append(x)\n",
    "\n",
    "print(list1)"
   ]
  },
  {
   "cell_type": "code",
   "execution_count": 64,
   "id": "cfeaa7fb-6b57-451d-b38b-45df671cf8e7",
   "metadata": {},
   "outputs": [
    {
     "name": "stdout",
     "output_type": "stream",
     "text": [
      "['a', 'b', 'c', 1, 2, 3]\n"
     ]
    }
   ],
   "source": [
    "list1 = [\"a\", \"b\" , \"c\"]              # extend method\n",
    "list2 = [1, 2, 3]\n",
    "\n",
    "list1.extend(list2)\n",
    "print(list1)\n"
   ]
  },
  {
   "cell_type": "code",
   "execution_count": 39,
   "id": "aef6afb9-39d7-4b54-aabc-5d0b3463d9df",
   "metadata": {},
   "outputs": [
    {
     "name": "stdout",
     "output_type": "stream",
     "text": [
      "[1, 2, 3, 4, 5]\n"
     ]
    }
   ],
   "source": [
    "a = [1, 2, 3]           # list concatenation\n",
    "a = a + [4, 5]\n",
    "print(a)"
   ]
  },
  {
   "cell_type": "markdown",
   "id": "90f152b6-7817-4cb8-8c49-6b94caad7638",
   "metadata": {},
   "source": [
    "# ➩ __Remove List Items__\n",
    "### ⮩ _The __remove()__ method removes the specified item._  \n",
    "### _The __remove()__ method removes the first occurrence of the element with the specified value._\n",
    "\n",
    "### _Methods to remove list items -- __remove(), pop() ,  del keyword, clear() method___"
   ]
  },
  {
   "cell_type": "code",
   "execution_count": 51,
   "id": "308f8d13-4c8a-4ea2-9b55-cd352a235e63",
   "metadata": {},
   "outputs": [
    {
     "name": "stdout",
     "output_type": "stream",
     "text": [
      "['apple', 'cherry']\n"
     ]
    }
   ],
   "source": [
    "thislist = [\"apple\", \"banana\", \"cherry\"]\n",
    "thislist.remove(\"banana\")\n",
    "print(thislist)"
   ]
  },
  {
   "cell_type": "code",
   "execution_count": 34,
   "id": "c9d76f6d-3bfc-4343-825c-a6e29ac7d52a",
   "metadata": {},
   "outputs": [
    {
     "name": "stdout",
     "output_type": "stream",
     "text": [
      "['apple', 'cherry', 'banana', 'kiwi']\n"
     ]
    }
   ],
   "source": [
    "thislist = [\"apple\", \"banana\", \"cherry\", \"banana\", \"kiwi\"]\n",
    "thislist.remove(\"banana\")\n",
    "print(thislist)"
   ]
  },
  {
   "cell_type": "code",
   "execution_count": 126,
   "id": "ff013f03-a004-491c-9ee5-bb19ccc6f680",
   "metadata": {},
   "outputs": [
    {
     "name": "stdout",
     "output_type": "stream",
     "text": [
      "[10, 20, 30, 50]\n"
     ]
    }
   ],
   "source": [
    "a = [10, 20, 30, 40, 50]\n",
    "a.remove(40)\n",
    "print(a)"
   ]
  },
  {
   "cell_type": "code",
   "execution_count": 73,
   "id": "07823171-e5a2-4853-8c4b-0f7c54e72da7",
   "metadata": {},
   "outputs": [
    {
     "name": "stdout",
     "output_type": "stream",
     "text": [
      "[15, 22, 32, 34, 32, 72, 63, 75]\n",
      "[15, 22, 34, 32, 72, 63, 75]\n"
     ]
    }
   ],
   "source": [
    "new1 = [15,22,32,34,32,72,63,75]\n",
    "print(new1)\n",
    "\n",
    "new1.remove(32)\n",
    "print(new1)"
   ]
  },
  {
   "cell_type": "code",
   "execution_count": 7,
   "id": "5580b3c7-77e3-4540-9784-d88e60c9e8bd",
   "metadata": {},
   "outputs": [
    {
     "name": "stdout",
     "output_type": "stream",
     "text": [
      "[4, 8, 100, 'hello', True, 8.39, 'anything']\n",
      "[4, 8, 'hello', True, 8.39, 'anything']\n"
     ]
    }
   ],
   "source": [
    "                                          # append - to append something in the list\n",
    "lst = [4,8,100,'hello', True, 8.39]\n",
    "lst.append('anything')\n",
    "print(lst)\n",
    "\n",
    "                                         # remove - to remove something in the list\n",
    "lst.remove(100)\n",
    "print(lst)"
   ]
  },
  {
   "cell_type": "markdown",
   "id": "4f0655eb-f7f5-427e-af2f-39a49cc98faa",
   "metadata": {},
   "source": [
    "# ⮩ __pop() method__ \n",
    "### _The __pop()__ method removes the specified index._"
   ]
  },
  {
   "cell_type": "code",
   "execution_count": 33,
   "id": "ba1c1b79-1b4f-44fd-a6d8-c2b8436cb77b",
   "metadata": {},
   "outputs": [
    {
     "name": "stdout",
     "output_type": "stream",
     "text": [
      "['apple', 'cherry']\n"
     ]
    }
   ],
   "source": [
    "thislist = [\"apple\", \"banana\", \"cherry\"]\n",
    "thislist.pop(1)\n",
    "print(thislist)"
   ]
  },
  {
   "cell_type": "code",
   "execution_count": 40,
   "id": "50a6843d-aa75-4c8f-8cde-15bc54984095",
   "metadata": {},
   "outputs": [
    {
     "name": "stdout",
     "output_type": "stream",
     "text": [
      "cherry\n"
     ]
    }
   ],
   "source": [
    "fruits = ['apple', 'banana', 'cherry']\n",
    "x = fruits.pop(2)\n",
    "\n",
    "print(x)"
   ]
  },
  {
   "cell_type": "code",
   "execution_count": 25,
   "id": "f63593f8-e2a6-4a8c-93d3-f05e18522e5a",
   "metadata": {},
   "outputs": [
    {
     "name": "stdout",
     "output_type": "stream",
     "text": [
      "['apple', 'banana']\n"
     ]
    }
   ],
   "source": [
    "list6 = [\"apple\", \"banana\", \"cherry\"]\n",
    "list6.pop()\n",
    "print(list6)"
   ]
  },
  {
   "cell_type": "code",
   "execution_count": 41,
   "id": "b4442673-83f4-4a95-9ee7-712e6a40a9bd",
   "metadata": {},
   "outputs": [
    {
     "name": "stdout",
     "output_type": "stream",
     "text": [
      "['apple', 22, 45, True, 55.2, 'banana', 'cherry']\n"
     ]
    }
   ],
   "source": [
    "lst2 = [\"apple\",22,45,True,55.2,01.00545, \"banana\", \"cherry\"]\n",
    "lst2.pop(-3)\n",
    "print(lst2)"
   ]
  },
  {
   "cell_type": "code",
   "execution_count": 9,
   "id": "8c009af6-3803-4e24-bbd1-c48f15fae82a",
   "metadata": {},
   "outputs": [
    {
     "name": "stdout",
     "output_type": "stream",
     "text": [
      "[4, 8, 100, 'python', 'hello', True, 8.39]\n",
      "[4, 8, 100, 'python', True, 8.39]\n"
     ]
    }
   ],
   "source": [
    "                                      # insert - to insert something at any index\n",
    "lst = [4,8,100,'hello', True, 8.39]\n",
    "lst.insert(3, 'python')\n",
    "print(lst)\n",
    "\n",
    "          # pop -             to remove something from a list using index\n",
    "lst.pop(4)\n",
    "print(lst)"
   ]
  },
  {
   "cell_type": "markdown",
   "id": "1e20e8ea-5a68-43ca-8e3b-73fbff2f1379",
   "metadata": {},
   "source": [
    "# ⮩ __del keyword__\n",
    "### _The __del__ keyword also removes the specified index :_\n",
    "### _The pop() method and Del keyword removes the list items with specified indexes_."
   ]
  },
  {
   "cell_type": "code",
   "execution_count": 38,
   "id": "29d1ac7f-07a1-448f-b58d-44f84ecd96e6",
   "metadata": {},
   "outputs": [
    {
     "name": "stdout",
     "output_type": "stream",
     "text": [
      "['banana', 'cherry']\n"
     ]
    }
   ],
   "source": [
    "thislist = [\"apple\", \"banana\", \"cherry\"]\n",
    "del thislist[0]\n",
    "print(thislist)"
   ]
  },
  {
   "cell_type": "code",
   "execution_count": 77,
   "id": "7d4f6b71-1337-465a-9c58-a3561a6c198c",
   "metadata": {},
   "outputs": [
    {
     "name": "stdout",
     "output_type": "stream",
     "text": [
      "['apple', 2453, 46655, 7666, 9658]\n"
     ]
    }
   ],
   "source": [
    "mylist = [\"apple\", \"banana\", \"cherry\", 2453, 46655, 7666, 9658, 66567]\n",
    "\n",
    "del mylist [2]\n",
    "del mylist[-1]\n",
    "del mylist[-5]\n",
    "\n",
    "print(mylist) "
   ]
  },
  {
   "cell_type": "markdown",
   "id": "7f8b423b-b9ef-4be5-9e22-e3699ded234a",
   "metadata": {},
   "source": [
    "#  ⮩ __Clear the List__\n",
    "### _The __clear()__ method empties the list._"
   ]
  },
  {
   "cell_type": "code",
   "execution_count": 40,
   "id": "55bfde06-449d-48c4-be2f-aaf870b68ad7",
   "metadata": {},
   "outputs": [
    {
     "name": "stdout",
     "output_type": "stream",
     "text": [
      "[]\n"
     ]
    }
   ],
   "source": [
    "thislist = [\"apple\", \"banana\", \"cherry\"]\n",
    "thislist.clear()\n",
    "print(thislist)"
   ]
  },
  {
   "cell_type": "code",
   "execution_count": 79,
   "id": "effff723-e0e2-4148-b8c1-c3815ee0e996",
   "metadata": {},
   "outputs": [
    {
     "name": "stdout",
     "output_type": "stream",
     "text": [
      "[]\n"
     ]
    }
   ],
   "source": [
    "fruits = ['apple', 'banana', 'cherry', 'orange']\n",
    "fruits.clear()\n",
    "print(fruits)"
   ]
  },
  {
   "cell_type": "markdown",
   "id": "69f1dce3-9009-4a1e-b49e-4f0ba9399095",
   "metadata": {},
   "source": [
    "# ➩ __Loop Lists__\n",
    "# __Loop through a List__\n",
    "## _Iterate over a list - using For loop_"
   ]
  },
  {
   "cell_type": "code",
   "execution_count": 17,
   "id": "18b664bc-0746-4703-bac9-fe1d6b580b21",
   "metadata": {},
   "outputs": [
    {
     "name": "stdout",
     "output_type": "stream",
     "text": [
      "h\n",
      "e\n",
      "l\n",
      "l\n",
      "o\n"
     ]
    }
   ],
   "source": [
    "word = 'hello'\n",
    "for i in word:\n",
    "    print(i)"
   ]
  },
  {
   "cell_type": "code",
   "execution_count": 18,
   "id": "ada8c55c-5f92-45b9-bf02-40ffe334b972",
   "metadata": {},
   "outputs": [
    {
     "name": "stdout",
     "output_type": "stream",
     "text": [
      "4\n",
      "8\n",
      "100\n",
      "hello\n",
      "True\n",
      "8.39\n"
     ]
    }
   ],
   "source": [
    "lst = [4,8,100,'hello', True, 8.39]\n",
    "for i in lst:\n",
    "    \n",
    "    print(i)"
   ]
  },
  {
   "cell_type": "code",
   "execution_count": 19,
   "id": "f7e56b7c-5db0-4b98-af85-f0ee968913f6",
   "metadata": {},
   "outputs": [
    {
     "name": "stdout",
     "output_type": "stream",
     "text": [
      "4\n",
      "8\n",
      "100\n",
      "hello\n",
      "True\n",
      "8.39\n"
     ]
    }
   ],
   "source": [
    "lst = [4,8,100,'hello', True, 8.39]\n",
    "for i in range(6):\n",
    "    \n",
    "    print( lst[i] )"
   ]
  },
  {
   "cell_type": "code",
   "execution_count": 20,
   "id": "20b83b1c-6b03-4f6e-bed2-100bf1392b21",
   "metadata": {},
   "outputs": [
    {
     "data": {
      "text/plain": [
       "100"
      ]
     },
     "execution_count": 20,
     "metadata": {},
     "output_type": "execute_result"
    }
   ],
   "source": [
    "lst[2]"
   ]
  },
  {
   "cell_type": "code",
   "execution_count": 47,
   "id": "b5544b0f-eeaa-46c6-bbf0-b09cd3c5aae6",
   "metadata": {},
   "outputs": [
    {
     "name": "stdout",
     "output_type": "stream",
     "text": [
      "10\n",
      "20\n",
      "30\n",
      "40\n",
      "50\n"
     ]
    }
   ],
   "source": [
    "numbers = [10, 20, 30, 40, 50]\n",
    "\n",
    "                     # Using a for loop to access list items\n",
    "for num in numbers:\n",
    "    print(num)"
   ]
  },
  {
   "cell_type": "code",
   "execution_count": 36,
   "id": "254b9ae1-ff10-4f63-828d-1a15a9cd2897",
   "metadata": {},
   "outputs": [
    {
     "name": "stdout",
     "output_type": "stream",
     "text": [
      "1\n",
      "3\n",
      "5\n",
      "7\n",
      "9\n"
     ]
    }
   ],
   "source": [
    "a = [1, 3, 5, 7, 9]\n",
    "n = len(a) \n",
    "                         # Iterates over the indices from 0 to n-1 (i.e., 0 to 4)\n",
    "for i in range(n):\n",
    "    print(a[i])"
   ]
  },
  {
   "cell_type": "code",
   "execution_count": 42,
   "id": "0558c235-77c5-4dbf-985a-4284d098f803",
   "metadata": {},
   "outputs": [
    {
     "name": "stdout",
     "output_type": "stream",
     "text": [
      "apple\n",
      "banana\n",
      "cherry\n"
     ]
    }
   ],
   "source": [
    "thislist = [\"apple\", \"banana\", \"cherry\"]\n",
    "for x in thislist:\n",
    "    print(x)"
   ]
  },
  {
   "cell_type": "code",
   "execution_count": 41,
   "id": "cdc8e637-e757-4082-8980-e7d176ee2d4a",
   "metadata": {},
   "outputs": [
    {
     "name": "stdout",
     "output_type": "stream",
     "text": [
      "apple\n",
      "banana\n",
      "cherry\n"
     ]
    }
   ],
   "source": [
    "thislist = [\"apple\", \"banana\", \"cherry\"]\n",
    "for i in range(len(thislist)):\n",
    "  print(thislist[i])"
   ]
  },
  {
   "cell_type": "code",
   "execution_count": 81,
   "id": "92a23f62-c9c9-466d-a925-eed89c345f96",
   "metadata": {},
   "outputs": [
    {
     "name": "stdout",
     "output_type": "stream",
     "text": [
      "apple\n",
      "banana\n",
      "cherry\n"
     ]
    },
    {
     "data": {
      "text/plain": [
       "[None, None, None]"
      ]
     },
     "execution_count": 81,
     "metadata": {},
     "output_type": "execute_result"
    }
   ],
   "source": [
    "list1 = [\"apple\", \"banana\", \"cherry\"]\n",
    "[print(x) for x in list1]"
   ]
  },
  {
   "cell_type": "code",
   "execution_count": 82,
   "id": "df5961c6-168d-43db-b67a-9550ee01761c",
   "metadata": {},
   "outputs": [
    {
     "name": "stdout",
     "output_type": "stream",
     "text": [
      "String found!\n"
     ]
    }
   ],
   "source": [
    "lst = ['Learn', 'Python', 'With', 'Ranvijay']\n",
    "\n",
    "found = False\n",
    "for item in lst:\n",
    "    if item == 'Python':\n",
    "        found = True\n",
    "        break\n",
    "\n",
    "if found:\n",
    "    print(\"String found!\")\n",
    "else:\n",
    "    print(\"String not found!\")"
   ]
  },
  {
   "cell_type": "markdown",
   "id": "8468dfe4-d61c-40a5-91c5-6da9008806c7",
   "metadata": {},
   "source": [
    "## ⮩ _Iterate over a list - Using while loop_\n",
    "#### You can loop through the list items by using a while loop."
   ]
  },
  {
   "cell_type": "code",
   "execution_count": 43,
   "id": "a8163136-f3a7-4119-a36d-9b6bc84e96c5",
   "metadata": {},
   "outputs": [
    {
     "name": "stdout",
     "output_type": "stream",
     "text": [
      "apple\n",
      "banana\n",
      "cherry\n"
     ]
    }
   ],
   "source": [
    "thislist = [\"apple\", \"banana\", \"cherry\"]\n",
    "i = 0\n",
    "while i < len(thislist):\n",
    "    print(thislist[i])\n",
    "  i = i + 1             # i += 1"
   ]
  },
  {
   "cell_type": "code",
   "execution_count": 35,
   "id": "9dec6dc2-dc5b-4651-94a0-88b783d80bae",
   "metadata": {},
   "outputs": [
    {
     "name": "stdout",
     "output_type": "stream",
     "text": [
      "1\n",
      "3\n",
      "5\n",
      "7\n",
      "9\n"
     ]
    }
   ],
   "source": [
    "a = [1, 3, 5, 7, 9]\n",
    "i = 0 \n",
    "                              # The loop runs till the last index (i.e., 4)\n",
    "while i < len(a):\n",
    "    print(a[i])\n",
    "    i += 1"
   ]
  },
  {
   "cell_type": "markdown",
   "id": "b9e1448a-970a-4a5b-844c-ead42db8aaef",
   "metadata": {},
   "source": [
    "# ➩   __List Comprehension__\n",
    "### _List comprehension offers a shorter syntax when you want to create a new list based on the values of an existing list._"
   ]
  },
  {
   "cell_type": "code",
   "execution_count": 34,
   "id": "dd038104-2e85-4fc6-84f7-d032b54d1a82",
   "metadata": {},
   "outputs": [
    {
     "name": "stdout",
     "output_type": "stream",
     "text": [
      "[1, 2, 3, 4, 5, 6, 7, 8, 9, 10]\n"
     ]
    }
   ],
   "source": [
    "x = [i for i in range(1,11)]\n",
    "print(x)"
   ]
  },
  {
   "cell_type": "code",
   "execution_count": 47,
   "id": "213aa579-571e-4355-abde-1fa2d1251daf",
   "metadata": {},
   "outputs": [
    {
     "name": "stdout",
     "output_type": "stream",
     "text": [
      "['apple', 'banana', 'mango']\n"
     ]
    }
   ],
   "source": [
    "fruits = [\"apple\", \"banana\", \"cherry\", \"kiwi\", \"mango\"]\n",
    "\n",
    "newlist = [x for x in fruits if \"a\" in x]\n",
    "\n",
    "print(newlist)"
   ]
  },
  {
   "cell_type": "code",
   "execution_count": 49,
   "id": "9abec35f-8fc8-43f9-89a3-902f81963e73",
   "metadata": {},
   "outputs": [
    {
     "name": "stdout",
     "output_type": "stream",
     "text": [
      "['apple', 'banana', 'cherry', 'kiwi', 'mango']\n"
     ]
    }
   ],
   "source": [
    "fruits = [\"apple\", \"banana\", \"cherry\", \"kiwi\", \"mango\"]\n",
    "\n",
    "newlist = [x for x in fruits]\n",
    "\n",
    "print(newlist)"
   ]
  },
  {
   "cell_type": "code",
   "execution_count": 50,
   "id": "666514df-c51d-4f73-9365-c9ad35840c2f",
   "metadata": {},
   "outputs": [
    {
     "name": "stdout",
     "output_type": "stream",
     "text": [
      "['banana', 'cherry', 'kiwi', 'mango']\n"
     ]
    }
   ],
   "source": [
    "fruits = [\"apple\", \"banana\", \"cherry\", \"kiwi\", \"mango\"]\n",
    "\n",
    "newlist = [x for x in fruits if x != \"apple\"]\n",
    "\n",
    "print(newlist)"
   ]
  },
  {
   "cell_type": "code",
   "execution_count": 51,
   "id": "198ef90c-67c8-471f-bb7d-455f47a92039",
   "metadata": {},
   "outputs": [
    {
     "name": "stdout",
     "output_type": "stream",
     "text": [
      "[0, 1, 2, 3, 4, 5, 6, 7, 8, 9]\n"
     ]
    }
   ],
   "source": [
    "fruits = [\"apple\", \"banana\", \"cherry\", \"kiwi\", \"mango\"]           # Using range function\n",
    "\n",
    "newlist = [x for x in range(10)]\n",
    "\n",
    "print(newlist)"
   ]
  },
  {
   "cell_type": "code",
   "execution_count": 56,
   "id": "1640c100-535b-4c68-a2c0-8935d26ddfca",
   "metadata": {},
   "outputs": [
    {
     "name": "stdout",
     "output_type": "stream",
     "text": [
      "['APPLE', 'BANANA', 'CHERRY', 'KIWI', 'MANGO']\n"
     ]
    }
   ],
   "source": [
    "fruits = [\"apple\", \"banana\", \"cherry\", \"kiwi\", \"mango\"]           # Using upper function\n",
    "\n",
    "newlist = [x.upper() for x in fruits]\n",
    "\n",
    "print(newlist)"
   ]
  },
  {
   "cell_type": "code",
   "execution_count": 55,
   "id": "a7303759-757f-48cc-9c49-c8c342aba9bf",
   "metadata": {},
   "outputs": [
    {
     "name": "stdout",
     "output_type": "stream",
     "text": [
      "['apple', 'orange', 'cherry', 'kiwi', 'mango']\n"
     ]
    }
   ],
   "source": [
    "fruits = [\"apple\", \"banana\", \"cherry\", \"kiwi\", \"mango\"]           \n",
    "\n",
    "newlist = [x if x != \"banana\" else \"orange\" for x in fruits]\n",
    "\n",
    "print(newlist)"
   ]
  },
  {
   "cell_type": "code",
   "execution_count": 29,
   "id": "bc658937-bf46-49b6-8548-4606b469c11c",
   "metadata": {},
   "outputs": [
    {
     "name": "stdout",
     "output_type": "stream",
     "text": [
      "[20, 40, 50]\n"
     ]
    }
   ],
   "source": [
    "a = [10, 20, 30, 40, 50]\n",
    "b = [1, 3, 4]\n",
    "\n",
    "res = [a[i] for i in b]\n",
    "print(res)"
   ]
  },
  {
   "cell_type": "code",
   "execution_count": 40,
   "id": "95b4ced3-8ddb-4f80-95f5-70f6819dea5b",
   "metadata": {},
   "outputs": [
    {
     "name": "stdout",
     "output_type": "stream",
     "text": [
      "[1, 2, 3, 4, 5, 6]\n"
     ]
    }
   ],
   "source": [
    "a = [[1, 2], [3, 4], [5, 6]]\n",
    "b = [i for sub in a for i in sub]\n",
    "\n",
    "print(b)"
   ]
  },
  {
   "cell_type": "code",
   "execution_count": 44,
   "id": "8a24b1b8-1638-49ce-840f-35b7ff1c11af",
   "metadata": {},
   "outputs": [
    {
     "name": "stdout",
     "output_type": "stream",
     "text": [
      "[1, 2, 3, 4, 5, 6, 7, 8, 9, 11, 22, 33, 44, 55, 66, 77, 88, 99, 101, 111, 121, 131, 141, 151, 161, 171, 181, 191, 202, 212, 222, 232, 242, 252, 262, 272, 282, 292, 303, 313, 323, 333, 343, 353, 363, 373, 383, 393, 404, 414, 424, 434, 444, 454, 464, 474, 484, 494, 505, 515, 525, 535, 545, 555, 565, 575, 585, 595, 606, 616, 626, 636, 646, 656, 666, 676, 686, 696, 707, 717, 727, 737, 747, 757, 767, 777, 787, 797, 808, 818, 828, 838, 848, 858, 868, 878, 888, 898, 909, 919, 929, 939, 949, 959, 969, 979, 989, 999]\n"
     ]
    }
   ],
   "source": [
    "pals1 = [i for i in range(1,1000) if str(i)[::-1] == str(i)]\n",
    "\n",
    "print(pals1)"
   ]
  },
  {
   "cell_type": "code",
   "execution_count": 45,
   "id": "fa06d9d3-edbb-475e-80f8-294d21096260",
   "metadata": {},
   "outputs": [
    {
     "name": "stdout",
     "output_type": "stream",
     "text": [
      "[2, 4, 6, 8, 22, 44, 66, 88, 202, 212, 222, 232, 242, 252, 262, 272, 282, 292, 404, 414, 424, 434, 444, 454, 464, 474, 484, 494, 606, 616, 626, 636, 646, 656, 666, 676, 686, 696, 808, 818, 828, 838, 848, 858, 868, 878, 888, 898]\n"
     ]
    }
   ],
   "source": [
    "even_pals = [i for i in pals1 if i%2==0]\n",
    "print(even_pals)"
   ]
  },
  {
   "cell_type": "code",
   "execution_count": 46,
   "id": "98b3bda9-75da-4f50-be37-5a3c45fad995",
   "metadata": {},
   "outputs": [
    {
     "name": "stdout",
     "output_type": "stream",
     "text": [
      "[1, 3, 5, 7, 9, 11, 33, 55, 77, 99, 101, 111, 121, 131, 141, 151, 161, 171, 181, 191, 303, 313, 323, 333, 343, 353, 363, 373, 383, 393, 505, 515, 525, 535, 545, 555, 565, 575, 585, 595, 707, 717, 727, 737, 747, 757, 767, 777, 787, 797, 909, 919, 929, 939, 949, 959, 969, 979, 989, 999]\n"
     ]
    }
   ],
   "source": [
    "odd_pals = [i for i in pals1 if i%2!=0]\n",
    "print(odd_pals)"
   ]
  },
  {
   "cell_type": "code",
   "execution_count": 41,
   "id": "a51aea37-ab8b-4834-be03-64658809c741",
   "metadata": {},
   "outputs": [
    {
     "data": {
      "text/plain": [
       "0"
      ]
     },
     "execution_count": 41,
     "metadata": {},
     "output_type": "execute_result"
    }
   ],
   "source": [
    "122%2"
   ]
  },
  {
   "cell_type": "code",
   "execution_count": null,
   "id": "13416a90-4c94-49b9-84a4-e5dc22b4e3b5",
   "metadata": {},
   "outputs": [],
   "source": [
    "# Example Problem in list comprehension.\n",
    "\n",
    "A teacher created a list of names of the students. Now teachers want to get the name of all those\n",
    "students whose name starts with the letter “A”. To help the teacher write a python program and create\n",
    "a list of names of students. Then print the names which start with the letter “A”. (Hint: Use for loop and\n",
    "give condition I [0] == “A” )"
   ]
  },
  {
   "cell_type": "code",
   "execution_count": 44,
   "id": "300a97b3-6338-4dff-963e-4e4b23c02376",
   "metadata": {},
   "outputs": [
    {
     "name": "stdout",
     "output_type": "stream",
     "text": [
      "['abhishek', 'arman', 'adele']\n"
     ]
    }
   ],
   "source": [
    "studs = ['jimmy', 'rocky', 'abhishek', 'simba', 'arman', 'sabrina', 'adele']\n",
    "\n",
    "studs2 = [name for name in studs if name[0]=='a']\n",
    "print(studs2)"
   ]
  },
  {
   "cell_type": "markdown",
   "id": "d47727a3-84e2-4bfc-9c95-2a67ae7f189b",
   "metadata": {},
   "source": [
    "# ➩ __Sort Lists__\n",
    "### _List objects have a __sort()__ method that will sort the list alphanumerically , ascending , by default :_   \n",
    "# ➩ Sort Ascending\n",
    "### ⮩ _The __sort()__ method sorts the list ascending by default._"
   ]
  },
  {
   "cell_type": "code",
   "execution_count": 83,
   "id": "dcc8bb2d-9865-4187-8f8b-ff3b73d36ceb",
   "metadata": {},
   "outputs": [
    {
     "name": "stdout",
     "output_type": "stream",
     "text": [
      "['banana', 'kiwi', 'mango', 'orange', 'pineapple']\n"
     ]
    }
   ],
   "source": [
    "mylist = [\"orange\", \"mango\", \"kiwi\", \"pineapple\", \"banana\"]\n",
    "mylist.sort()\n",
    "print(mylist)"
   ]
  },
  {
   "cell_type": "code",
   "execution_count": null,
   "id": "f4e9c0b3-6bd0-42a2-a2ac-6831f077bde9",
   "metadata": {},
   "outputs": [],
   "source": [
    "thislist = [\"banana\", \"Orange\", \"Kiwi\", \"cherry\"]          # Case sensitive sort\n",
    "thislist.sort()\n",
    "print(thislist)\n"
   ]
  },
  {
   "cell_type": "code",
   "execution_count": 86,
   "id": "7346b991-39ca-467b-b64d-1bd4f5d6cdd7",
   "metadata": {},
   "outputs": [
    {
     "name": "stdout",
     "output_type": "stream",
     "text": [
      "[23, 42, 50, 65, 82, 96, 100]\n"
     ]
    }
   ],
   "source": [
    "mylist = [100, 96, 50, 65, 82, 42, 23]\n",
    "mylist.sort()\n",
    "print(mylist)"
   ]
  },
  {
   "cell_type": "code",
   "execution_count": 89,
   "id": "2f79b868-d891-417a-be9b-f59d4056c6ad",
   "metadata": {},
   "outputs": [
    {
     "name": "stdout",
     "output_type": "stream",
     "text": [
      "[0.00656, 1, 2, 2.78, 3, 4, 5]\n"
     ]
    }
   ],
   "source": [
    "                                               # sorting a list\n",
    "numlist = [1, 2, 3, 4, 2.78, 5, 0.00656 ]\n",
    "numlist.sort()\n",
    "print(numlist)"
   ]
  },
  {
   "cell_type": "code",
   "execution_count": 51,
   "id": "c992c9c3-f9e3-41dc-801d-a99edfce778b",
   "metadata": {},
   "outputs": [
    {
     "name": "stdout",
     "output_type": "stream",
     "text": [
      "['buddy', 'cool', 'hey', 'obvious', 'python']\n"
     ]
    }
   ],
   "source": [
    "words = ['hey', 'buddy', 'cool', 'python', 'obvious']\n",
    "words.sort()\n",
    "print(words)"
   ]
  },
  {
   "cell_type": "markdown",
   "id": "0c6553e2-de40-43c7-9316-4f3e1725681d",
   "metadata": {},
   "source": [
    "# ⮩ Sorting with __def function__"
   ]
  },
  {
   "cell_type": "code",
   "execution_count": 90,
   "id": "bd11db6d-a498-4e6b-baf0-9bbf56469d59",
   "metadata": {},
   "outputs": [
    {
     "name": "stdout",
     "output_type": "stream",
     "text": [
      "['VW', 'BMW', 'Ford', 'Mitsubishi']\n"
     ]
    }
   ],
   "source": [
    "                                    # A function that returns the length of the value:\n",
    "def myfunc(e):\n",
    "  return len(e)\n",
    "\n",
    "cars = ['Ford', 'Mitsubishi', 'BMW', 'VW']\n",
    "cars.sort(key = myfunc)\n",
    "print(cars)\n"
   ]
  },
  {
   "cell_type": "code",
   "execution_count": 33,
   "id": "39d0f624-e46f-4696-a989-9bb898130a31",
   "metadata": {},
   "outputs": [
    {
     "name": "stdout",
     "output_type": "stream",
     "text": [
      "[50, 65, 23, 82, 100]\n"
     ]
    }
   ],
   "source": [
    "def myfunc(n):                   # Custemized sort function\n",
    "  return abs(n - 50)\n",
    "\n",
    "thislist = [100, 50, 65, 82, 23]\n",
    "thislist.sort(key = myfunc)\n",
    "print(thislist)"
   ]
  },
  {
   "cell_type": "code",
   "execution_count": 36,
   "id": "abef4296-f044-45bd-8264-8fb92a666002",
   "metadata": {},
   "outputs": [
    {
     "name": "stdout",
     "output_type": "stream",
     "text": [
      "[{'car': 'Mitsubishi', 'year': 2000}, {'car': 'Ford', 'year': 2005}, {'car': 'VW', 'year': 2011}, {'car': 'BMW', 'year': 2019}]\n"
     ]
    }
   ],
   "source": [
    "def myFunc(e):\n",
    "  return e['year']\n",
    "\n",
    "cars = [\n",
    "  {'car': 'Ford', 'year': 2005},\n",
    "  {'car': 'Mitsubishi', 'year': 2000},\n",
    "  {'car': 'BMW', 'year': 2019},\n",
    "  {'car': 'VW', 'year': 2011}\n",
    "]\n",
    "cars.sort(key=myFunc)\n",
    "print(cars)"
   ]
  },
  {
   "cell_type": "code",
   "execution_count": 37,
   "id": "cdc7a4cb-8c3f-49c9-b452-b86a1288edfe",
   "metadata": {},
   "outputs": [
    {
     "name": "stdout",
     "output_type": "stream",
     "text": [
      "['Mitsubishi', 'Ford', 'BMW', 'VW']\n"
     ]
    }
   ],
   "source": [
    "def myFunc(e):                      # A function that returns the length of the value:\n",
    "  return len(e)\n",
    "\n",
    "cars = ['Ford', 'Mitsubishi', 'BMW', 'VW']\n",
    "\n",
    "cars.sort(reverse=True, key = myFunc)\n",
    "print(cars)"
   ]
  },
  {
   "cell_type": "markdown",
   "id": "b648a4c3-375c-4671-bd4b-90db957833df",
   "metadata": {},
   "source": [
    "# ➩ Sort Descending\n",
    "## _To sort descending , use the keyword argument __reverse = True__ :_"
   ]
  },
  {
   "cell_type": "code",
   "execution_count": null,
   "id": "7ac951d9-25df-41de-8172-33fcb0d54905",
   "metadata": {},
   "outputs": [],
   "source": [
    "thislist = [\"orange\", \"mango\", \"kiwi\", \"pineapple\", \"banana\"]\n",
    "thislist.sort(reverse = True)\n",
    "print(thislist)"
   ]
  },
  {
   "cell_type": "code",
   "execution_count": 52,
   "id": "8703d328-1913-42c5-be91-958371e0a4f2",
   "metadata": {},
   "outputs": [
    {
     "name": "stdout",
     "output_type": "stream",
     "text": [
      "['Volvo', 'Ford', 'BMW']\n"
     ]
    }
   ],
   "source": [
    "cars = ['Ford', 'BMW', 'Volvo']\n",
    "cars.sort(reverse=True)\n",
    "print(cars)"
   ]
  },
  {
   "cell_type": "code",
   "execution_count": 59,
   "id": "aa049e85-d027-40d9-bcca-bfb8481d22da",
   "metadata": {},
   "outputs": [
    {
     "name": "stdout",
     "output_type": "stream",
     "text": [
      "[100, 82, 65, 50, 23]\n"
     ]
    }
   ],
   "source": [
    "thislist = [100, 50, 65, 82, 23]\n",
    "thislist.sort(reverse = True)\n",
    "print(thislist)\n"
   ]
  },
  {
   "cell_type": "code",
   "execution_count": 53,
   "id": "d23f2ed6-0aeb-4668-816d-28199ac4732f",
   "metadata": {},
   "outputs": [
    {
     "name": "stdout",
     "output_type": "stream",
     "text": [
      "['python', 'obvious', 'hey', 'cool', 'buddy']\n"
     ]
    }
   ],
   "source": [
    "words = ['hey', 'buddy', 'cool', 'python', 'obvious']\n",
    "words.sort(reverse=True)\n",
    "print(words)"
   ]
  },
  {
   "cell_type": "code",
   "execution_count": 93,
   "id": "29c51968-d8c0-450c-9445-41ccdac856dc",
   "metadata": {},
   "outputs": [
    {
     "name": "stdout",
     "output_type": "stream",
     "text": [
      "['banana', 'cherry', 'Kiwi', 'Orange']\n"
     ]
    }
   ],
   "source": [
    "thislist = [\"banana\", \"Orange\", \"Kiwi\", \"cherry\"]      # Case insensitive sort\n",
    "thislist.sort(key = str.lower)\n",
    "print(thislist)"
   ]
  },
  {
   "cell_type": "markdown",
   "id": "7a6e6d2e-1c2a-4bf5-96e7-e30791da1436",
   "metadata": {},
   "source": [
    "# ➩ __Reverse Order__\n",
    "### _The __reverse()__ method reverses the current sorting order of the elements._"
   ]
  },
  {
   "cell_type": "code",
   "execution_count": 62,
   "id": "a8ca054c-e14a-497f-9387-7cc79d5a3437",
   "metadata": {},
   "outputs": [
    {
     "name": "stdout",
     "output_type": "stream",
     "text": [
      "['cherry', 'Kiwi', 'Orange', 'banana']\n"
     ]
    }
   ],
   "source": [
    "thislist = [\"banana\", \"Orange\", \"Kiwi\", \"cherry\"]\n",
    "thislist.reverse()\n",
    "print(thislist)"
   ]
  },
  {
   "cell_type": "code",
   "execution_count": 91,
   "id": "eece322b-c79b-4f0d-8b92-7fabbecd31a2",
   "metadata": {},
   "outputs": [
    {
     "name": "stdout",
     "output_type": "stream",
     "text": [
      "['cherry', 'banana', 'apple']\n"
     ]
    }
   ],
   "source": [
    "fruits = ['apple', 'banana', 'cherry']\n",
    "fruits.reverse()\n",
    "print(fruits)"
   ]
  },
  {
   "cell_type": "code",
   "execution_count": 42,
   "id": "13cffe7b-de4e-483b-a834-89335d18f365",
   "metadata": {},
   "outputs": [
    {
     "name": "stdout",
     "output_type": "stream",
     "text": [
      "['cherry', 'banana', 'apple']\n"
     ]
    }
   ],
   "source": [
    "fruits = ['apple', 'banana', 'cherry']\n",
    "fruits.reverse()\n",
    "print(fruits)"
   ]
  },
  {
   "cell_type": "code",
   "execution_count": 144,
   "id": "9ab0b02b-a13e-4eb8-9971-5c9f2a2c0a06",
   "metadata": {},
   "outputs": [
    {
     "name": "stdout",
     "output_type": "stream",
     "text": [
      "[50, 40, 30, 20, 10]\n"
     ]
    }
   ],
   "source": [
    "a = [10, 20, 30, 40, 50]\n",
    "a.reverse()\n",
    "print(a)"
   ]
  },
  {
   "cell_type": "code",
   "execution_count": 45,
   "id": "a3a1a0cf-da0a-428a-9ec2-96a064f5bd5f",
   "metadata": {},
   "outputs": [
    {
     "name": "stdout",
     "output_type": "stream",
     "text": [
      "d\n",
      "c\n",
      "b\n",
      "a\n"
     ]
    }
   ],
   "source": [
    "a = [\"a\", \"b\", \"c\", \"d\"]\n",
    "b = reversed(a)\n",
    "for x in b:\n",
    "  print(x)"
   ]
  },
  {
   "cell_type": "markdown",
   "id": "9d8d6d17-386c-43ba-a829-d0dba8fce198",
   "metadata": {},
   "source": [
    "# ➩ __Copy a List__\n",
    "### _You cannot copy a list simply by typing list2 = list1, because: list2 will only be a reference to list1, and changes made in list1 will automatically also be made in list2._\n",
    "# ⮩ __copy() method__\n",
    "### _You can use the built-in List method __copy()__ to copy a list._"
   ]
  },
  {
   "cell_type": "code",
   "execution_count": 69,
   "id": "fefae49f-cff0-4de5-bff2-2c1369e77066",
   "metadata": {},
   "outputs": [
    {
     "name": "stdout",
     "output_type": "stream",
     "text": [
      "['apple', 'banana', 'cherry']\n"
     ]
    }
   ],
   "source": [
    "thislist = [\"apple\", \"banana\", \"cherry\"]\n",
    "mylist = thislist.copy()\n",
    "print(mylist)"
   ]
  },
  {
   "cell_type": "code",
   "execution_count": 46,
   "id": "013373e8-02ed-4659-8c98-aefe5a4d0836",
   "metadata": {},
   "outputs": [
    {
     "name": "stdout",
     "output_type": "stream",
     "text": [
      "['apple', 'banana', 'cherry']\n"
     ]
    }
   ],
   "source": [
    "thislist = (\"apple\", \"banana\", \"cherry\")\n",
    "mylist = list(thislist)\n",
    "print(mylist)"
   ]
  },
  {
   "cell_type": "code",
   "execution_count": 47,
   "id": "a6bab9b7-7881-423d-a249-89eab5266e39",
   "metadata": {},
   "outputs": [
    {
     "name": "stdout",
     "output_type": "stream",
     "text": [
      "['apple', 'banana', 'cherry']\n"
     ]
    }
   ],
   "source": [
    "thislist = [\"apple\", \"banana\", \"cherry\"]             # Using slice\n",
    "mylist = thislist[:]\n",
    "print(mylist)"
   ]
  },
  {
   "cell_type": "markdown",
   "id": "c989077b-1075-431a-9909-67342db4f60e",
   "metadata": {},
   "source": [
    "# ⮩  __count() method__ \n",
    "### _The __count()__ method  returns the number of elements with the specified value._"
   ]
  },
  {
   "cell_type": "code",
   "execution_count": 49,
   "id": "9a610bcb-ab6f-40de-8fb2-1813b74977f2",
   "metadata": {},
   "outputs": [
    {
     "name": "stdout",
     "output_type": "stream",
     "text": [
      "1\n"
     ]
    }
   ],
   "source": [
    "fruits = ['apple', 'banana', 'cherry']\n",
    "x = fruits.count(\"cherry\")\n",
    "print(x)"
   ]
  },
  {
   "cell_type": "code",
   "execution_count": 50,
   "id": "37d660c2-4083-45ae-9232-ab27da52fd9d",
   "metadata": {},
   "outputs": [
    {
     "name": "stdout",
     "output_type": "stream",
     "text": [
      "3\n"
     ]
    }
   ],
   "source": [
    "points = [1, 4, 3, 1, 9, 7, 2, 9, 7, 8, 9, 3, 1]\n",
    "\n",
    "print(points.count(9))"
   ]
  },
  {
   "cell_type": "code",
   "execution_count": 51,
   "id": "a289fe73-0765-4b69-96ef-a5b5e46d9976",
   "metadata": {},
   "outputs": [
    {
     "name": "stdout",
     "output_type": "stream",
     "text": [
      "2\n"
     ]
    }
   ],
   "source": [
    "points = [1, 4, 2, 9, 7, 8, 9, 3, 1]\n",
    "x = points.count(9)\n",
    "print(x)"
   ]
  },
  {
   "cell_type": "markdown",
   "id": "c44ead11-1f36-4d29-8937-ff65cbcad36e",
   "metadata": {},
   "source": [
    "# ➩ __Nested Lists in Python__\n",
    "### _A nested list is a list within another list, which is useful for representing matrices or tables . We can access nested elements by chaining indexes ._"
   ]
  },
  {
   "cell_type": "code",
   "execution_count": 52,
   "id": "1d713aa4-a567-4f83-9841-dff7240d38ae",
   "metadata": {},
   "outputs": [
    {
     "name": "stdout",
     "output_type": "stream",
     "text": [
      "6\n"
     ]
    }
   ],
   "source": [
    "matrix = [\n",
    "    [1, 2, 3],\n",
    "    [4, 5, 6],\n",
    "    [7, 8, 9]\n",
    "]                                # Access element at row 2, column 3\n",
    "print(matrix[1][2])"
   ]
  },
  {
   "cell_type": "code",
   "execution_count": 37,
   "id": "cc962f4d-82f9-44e4-84e2-3aaf41f5c9d0",
   "metadata": {},
   "outputs": [
    {
     "name": "stdout",
     "output_type": "stream",
     "text": [
      "1\n",
      "2\n",
      "3\n",
      "4\n",
      "5\n",
      "6\n"
     ]
    }
   ],
   "source": [
    "a = [[1, 2], [3, 4], [5, 6]]\n",
    "\n",
    "for sublist in a:\n",
    "    for item in sublist:\n",
    "        print(item)"
   ]
  },
  {
   "cell_type": "code",
   "execution_count": 38,
   "id": "9d48d0cd-2acc-4bdf-88c2-37254e02a17e",
   "metadata": {},
   "outputs": [
    {
     "name": "stdout",
     "output_type": "stream",
     "text": [
      "1 2 3 \n",
      "4 5 6 \n",
      "7 8 9 \n"
     ]
    }
   ],
   "source": [
    "                                        # Itrate over list of lists\n",
    "a = [[1, 2, 3], [4, 5, 6], [7, 8, 9]]\n",
    "\n",
    "for i in a:\n",
    "    for j in i:\n",
    "        print(j, end=' ')\n",
    "    print()"
   ]
  },
  {
   "cell_type": "markdown",
   "id": "a13e1af4-71c5-4f82-9be6-687509aed38d",
   "metadata": {},
   "source": [
    "# ➩ __Get list as input Using split() Method__\n",
    "###  ⮩ ___input() function__ can be combined with __split()__ to accept multiple elements in a single line and store them in a list._    \n",
    "### _The __split()__ method separates input based on spaces and returns a list._"
   ]
  },
  {
   "cell_type": "code",
   "execution_count": 100,
   "id": "86a84996-5eae-4c72-b2c6-98171691ddcf",
   "metadata": {},
   "outputs": [
    {
     "name": "stdin",
     "output_type": "stream",
     "text": [
      "Enter elements separated by space:  567,678,56,779,897,789\n"
     ]
    },
    {
     "name": "stdout",
     "output_type": "stream",
     "text": [
      "List: ['567,678,56,779,897,789']\n"
     ]
    }
   ],
   "source": [
    "user_input = input(\"Enter elements separated by space: \").split()\n",
    "\n",
    "print(\"List:\", user_input)"
   ]
  },
  {
   "cell_type": "code",
   "execution_count": 107,
   "id": "c4b5766a-5971-40fa-aa5c-a4d310bc145e",
   "metadata": {},
   "outputs": [
    {
     "name": "stdin",
     "output_type": "stream",
     "text": [
      "Enter numbers separated by space:  56 65 67 78 98 \n"
     ]
    },
    {
     "name": "stdout",
     "output_type": "stream",
     "text": [
      "List: [56, 65, 67, 78, 98]\n"
     ]
    }
   ],
   "source": [
    "# Get user input, split it, and convert to integers\n",
    "\n",
    "user_input = list(map(int, input(\"Enter numbers separated by space: \").split()))\n",
    "print(\"List:\", user_input)"
   ]
  },
  {
   "cell_type": "code",
   "execution_count": 17,
   "id": "7d77ebb1-d9d8-476f-9090-6bb071e4589d",
   "metadata": {},
   "outputs": [
    {
     "name": "stdin",
     "output_type": "stream",
     "text": [
      "Enter nested list (use commas and semicolons):  hello, hi\n"
     ]
    },
    {
     "name": "stdout",
     "output_type": "stream",
     "text": [
      "Nested List: [['hello', ' hi']]\n"
     ]
    }
   ],
   "source": [
    "# Get user input for a nested list\n",
    "\n",
    "user_input = [x.split(\",\") for x in input(\"Enter nested list (use commas and semicolons): \").split(\";\")]\n",
    "\n",
    "print(\"Nested List:\", user_input)"
   ]
  },
  {
   "cell_type": "code",
   "execution_count": 16,
   "id": "b09e20a3-be9d-4ed3-b011-fcefa9d09906",
   "metadata": {},
   "outputs": [
    {
     "name": "stdin",
     "output_type": "stream",
     "text": [
      "Enter the number of elements:  2\n",
      "Enter element 1:  hello\n",
      "Enter element 2:  hi\n"
     ]
    },
    {
     "name": "stdout",
     "output_type": "stream",
     "text": [
      "List: ['hello', 'hi']\n"
     ]
    }
   ],
   "source": [
    "n = int(input(\"Enter the number of elements: \"))\n",
    "\n",
    "# Use list comprehension to get inputs\n",
    "a = [input(f\"Enter element {i+1}: \") for i in range(n)]\n",
    "\n",
    "print(\"List:\", a)"
   ]
  },
  {
   "cell_type": "code",
   "execution_count": 13,
   "id": "8e1abb23-5551-4477-ac05-25a1ce587d0b",
   "metadata": {},
   "outputs": [
    {
     "name": "stdin",
     "output_type": "stream",
     "text": [
      "Enter the number of elements:  3\n",
      "Enter element 1:  python\n",
      "Enter element 2:  is\n",
      "Enter element 3:  awesome\n"
     ]
    },
    {
     "name": "stdout",
     "output_type": "stream",
     "text": [
      "List: ['python', 'is', 'awesome']\n"
     ]
    }
   ],
   "source": [
    "a = []\n",
    "                                            # Get the number of elements\n",
    "n = int(input(\"Enter the number of elements: \"))\n",
    "                                            # Append elements to the list\n",
    "for i in range(n):\n",
    "    element = input(f\"Enter element {i+1}: \")\n",
    "    a.append(element)\n",
    "\n",
    "print(\"List:\", a)"
   ]
  },
  {
   "cell_type": "code",
   "execution_count": 110,
   "id": "ddb8d6d8-dc73-4cce-a8c0-675cd2cf02ec",
   "metadata": {},
   "outputs": [
    {
     "name": "stdout",
     "output_type": "stream",
     "text": [
      "[[4, 3, 5, 1, 3], [1, 2, 3, 9, 3, 5, 7], [3, 7, 4, 8]]\n"
     ]
    }
   ],
   "source": [
    "a = [[4, 3, 5], [1, 2, 3], [3, 7, 4]]\n",
    "b = [[1, 3], [9, 3, 5, 7], [8]]\n",
    "\n",
    "a = [x + y for x, y in zip(a, b)]\n",
    "print(a)"
   ]
  },
  {
   "cell_type": "markdown",
   "id": "515d30eb-7f64-4530-89a8-7db4f90e7490",
   "metadata": {},
   "source": [
    "# ⮩ __Using map Function__\n",
    "### _The __map ()__ function is another way to access elements at specific indexes. It applies a function to every item in the list of indexes and gives us the result as a list_."
   ]
  },
  {
   "cell_type": "code",
   "execution_count": 160,
   "id": "f05f4798-0ef0-4f25-9d03-ecb7ddb95d31",
   "metadata": {},
   "outputs": [
    {
     "name": "stdout",
     "output_type": "stream",
     "text": [
      "<map object at 0x000002B870D94640>\n"
     ]
    }
   ],
   "source": [
    "def myfunc(n):\n",
    "  return len(n)\n",
    "\n",
    "x = map(myfunc, ('apple', 'banana', 'cherry'))\n",
    "print(x)"
   ]
  },
  {
   "cell_type": "code",
   "execution_count": 159,
   "id": "0feb1c88-d85d-4c93-914d-19aa570ba578",
   "metadata": {},
   "outputs": [
    {
     "name": "stdout",
     "output_type": "stream",
     "text": [
      "<map object at 0x000002B870E7A530>\n"
     ]
    }
   ],
   "source": [
    "def myfunc(a, b):\n",
    "  return a + b\n",
    "\n",
    "x = map(myfunc, ('apple', 'banana', 'cherry'), ('orange', 'lemon', 'pineapple'))\n",
    "print(x)"
   ]
  },
  {
   "cell_type": "markdown",
   "id": "5628d6a9-110a-4a2f-ae82-8151b5007a69",
   "metadata": {},
   "source": [
    "# ➩ __lambda function__\n",
    "### _Lambda functions in Python are small, anonymous functions defined using the lambda keyword._\n",
    "###  _A lambda function can take any number of arguments, but can only have one expression._"
   ]
  },
  {
   "cell_type": "code",
   "execution_count": 111,
   "id": "0cbd26e6-df97-467e-8366-da555198b01b",
   "metadata": {},
   "outputs": [
    {
     "name": "stdout",
     "output_type": "stream",
     "text": [
      "15\n"
     ]
    }
   ],
   "source": [
    "x = lambda a : a + 10\n",
    "print(x(5))"
   ]
  },
  {
   "cell_type": "code",
   "execution_count": 112,
   "id": "8fb3b709-600e-4c8a-ab3f-f4d3952b038e",
   "metadata": {},
   "outputs": [
    {
     "data": {
      "text/plain": [
       "16"
      ]
     },
     "execution_count": 112,
     "metadata": {},
     "output_type": "execute_result"
    }
   ],
   "source": [
    "x(6)"
   ]
  },
  {
   "cell_type": "code",
   "execution_count": 161,
   "id": "f47e939d-bc92-409b-b0da-f8c20e6aabba",
   "metadata": {},
   "outputs": [
    {
     "name": "stdout",
     "output_type": "stream",
     "text": [
      "30\n"
     ]
    }
   ],
   "source": [
    "x = lambda a, b : a * b\n",
    "print(x(5, 6))"
   ]
  },
  {
   "cell_type": "code",
   "execution_count": 162,
   "id": "c68467cc-808c-42a0-94cd-e0b77e5f601f",
   "metadata": {},
   "outputs": [
    {
     "name": "stdout",
     "output_type": "stream",
     "text": [
      "22\n"
     ]
    }
   ],
   "source": [
    "def myfunc(n):\n",
    "  return lambda a : a * n\n",
    "\n",
    "mydoubler = myfunc(2)\n",
    "\n",
    "print(mydoubler(11))"
   ]
  },
  {
   "cell_type": "code",
   "execution_count": 163,
   "id": "5f5efec0-c7f8-4d6f-9b7c-c18ca58e97fe",
   "metadata": {},
   "outputs": [
    {
     "name": "stdout",
     "output_type": "stream",
     "text": [
      "22\n",
      "33\n"
     ]
    }
   ],
   "source": [
    "def myfunc(n):\n",
    "  return lambda a : a * n\n",
    "\n",
    "mydoubler = myfunc(2)\n",
    "mytripler = myfunc(3)\n",
    "\n",
    "print(mydoubler(11))\n",
    "print(mytripler(11))"
   ]
  },
  {
   "cell_type": "code",
   "execution_count": 113,
   "id": "3266682a-cbd2-4ded-90ad-e88ad9016429",
   "metadata": {},
   "outputs": [
    {
     "name": "stdout",
     "output_type": "stream",
     "text": [
      "[20, 40, 50]\n"
     ]
    }
   ],
   "source": [
    "a = [10, 20, 30, 40, 50]\n",
    "b = [1, 3, 4] \n",
    "\n",
    "res = list(map(lambda i : a[i], b))\n",
    "print(res)"
   ]
  },
  {
   "cell_type": "code",
   "execution_count": 114,
   "id": "5e626b0a-eb16-4132-9ec3-85f5bdef0bac",
   "metadata": {},
   "outputs": [
    {
     "name": "stdout",
     "output_type": "stream",
     "text": [
      "[1, 4, 9, 16, 25]\n"
     ]
    }
   ],
   "source": [
    "numbers = [1, 2, 3, 4, 5]\n",
    "squared_numbers = list(map(lambda x: x**2, numbers))\n",
    "print(squared_numbers)\n",
    "\n",
    "# Output: [1, 4, 9, 16, 25]"
   ]
  },
  {
   "cell_type": "code",
   "execution_count": 115,
   "id": "23a35d4b-c94a-47df-a24b-fd499a5400e6",
   "metadata": {},
   "outputs": [
    {
     "name": "stdout",
     "output_type": "stream",
     "text": [
      "[1, 4, 9, 16, 25]\n"
     ]
    }
   ],
   "source": [
    "a = [1, 2, 3, 4, 5]\n",
    "\n",
    "# Use map() with lambda to square each number\n",
    "b = map(lambda x: x**2, a)\n",
    "\n",
    "# Convert the map object to a list and print it\n",
    "print(list(b))"
   ]
  },
  {
   "cell_type": "markdown",
   "id": "a3f9f8b8-b820-48e4-8e4d-bde90bb1516d",
   "metadata": {},
   "source": [
    "# Converting Set into List\n",
    "\n",
    "### _Note :Set does'nt allow duplicates._"
   ]
  },
  {
   "cell_type": "code",
   "execution_count": 55,
   "id": "9c3b138f-13fb-43c9-859f-d7cbe7cfdc98",
   "metadata": {},
   "outputs": [
    {
     "name": "stdout",
     "output_type": "stream",
     "text": [
      "{1, 2, 3, 'hello', 4, 2.78, 5, 6, 'python'}\n"
     ]
    }
   ],
   "source": [
    "nums={1,2,2,2,2,2,2,'hello', 3,'python', 4,2.78, 5, 4, 3, 2, 3, 5, 6, 4, 3, 2, 3, 2}\n",
    "print(nums)"
   ]
  },
  {
   "cell_type": "code",
   "execution_count": 56,
   "id": "58c1b798-b5de-44e9-b3ea-a46308327af1",
   "metadata": {},
   "outputs": [
    {
     "name": "stdout",
     "output_type": "stream",
     "text": [
      "{1, 2, 3, 'hello', 4, 2.78, 5, 6, 'python', 'interesting'}\n"
     ]
    }
   ],
   "source": [
    "nums.add('interesting')\n",
    "print(nums)"
   ]
  },
  {
   "cell_type": "code",
   "execution_count": 57,
   "id": "e41b2a6f-568d-4d76-893a-ad57e1e6d523",
   "metadata": {},
   "outputs": [
    {
     "name": "stdout",
     "output_type": "stream",
     "text": [
      "{1, 2, 'hello', 4, 2.78, 5, 6, 'python', 'interesting'}\n"
     ]
    }
   ],
   "source": [
    "nums.remove(3)\n",
    "print(nums)"
   ]
  },
  {
   "cell_type": "code",
   "execution_count": 116,
   "id": "023740ef-b243-44ed-8e46-de5a433e59c9",
   "metadata": {},
   "outputs": [
    {
     "name": "stdout",
     "output_type": "stream",
     "text": [
      "[1, 2, 2, 2, 2, 2, 2, 'hello', 3, 'python', 4, 2.78, 5, 4, 3, 2, 3, 5, 6, 4, 3, 2, 3, 2]\n",
      "{1, 2, 3, 4, 2.78, 'hello', 5, 6, 'python'}\n",
      "[1, 2, 3, 4, 2.78, 'hello', 5, 6, 'python']\n"
     ]
    }
   ],
   "source": [
    "\n",
    "numslist = [1,2,2,2,2,2,2,'hello', 3,'python', 4,2.78, 5, 4, 3, 2, 3, 5, 6, 4, 3, 2, 3, 2]\n",
    "print(numslist)\n",
    "\n",
    "                                          # removing duplicates\n",
    "numslist = set(numslist)\n",
    "print(numslist)\n",
    "\n",
    "                                          # converting back into a list\n",
    "numslist = list(numslist)\n",
    "print(numslist)"
   ]
  },
  {
   "cell_type": "markdown",
   "id": "7c9cb188-ddb1-47f6-a300-bd38643c919a",
   "metadata": {},
   "source": [
    "# Practice Questions"
   ]
  },
  {
   "cell_type": "code",
   "execution_count": null,
   "id": "64e168e3-1bc4-4dd6-9b55-cdb5de7a7c42",
   "metadata": {},
   "outputs": [],
   "source": [
    "# PROBLEM : 1 \n",
    "\n",
    "Given the listscores = [55, 89, 76, 65, 93, 50, 72]\n",
    "Write a Python expression to create a new list that contains only the scores that are above 70."
   ]
  },
  {
   "cell_type": "code",
   "execution_count": 67,
   "id": "9a466325-e690-41d6-b25c-44a4ae6ba8ba",
   "metadata": {},
   "outputs": [
    {
     "name": "stdout",
     "output_type": "stream",
     "text": [
      "[89, 76, 93, 72]\n"
     ]
    }
   ],
   "source": [
    "scores = [55, 89, 76, 65, 93, 50, 72]\n",
    "high_score = []\n",
    "\n",
    "for score in scores:\n",
    "    if score > 70:\n",
    "        high_score.append(score)\n",
    "    else:\n",
    "        pass\n",
    "\n",
    "print(high_score)"
   ]
  },
  {
   "cell_type": "code",
   "execution_count": null,
   "id": "10b123cb-5eee-4b94-b8b2-334949bb2a43",
   "metadata": {},
   "outputs": [],
   "source": [
    "# PROBLEM : 2\n",
    "\n",
    "Given the listdata = [1, 2, 3, 4, 5, 6, 7, 8, 9, 10]\n",
    "Write a Python expression to:\n",
    "\n",
    "1. Get the sum of the first five elements.\n",
    "2. Reverse the entire list."
   ]
  },
  {
   "cell_type": "code",
   "execution_count": 68,
   "id": "bc1676ec-4014-44c5-9c7d-b3c8f4eea688",
   "metadata": {},
   "outputs": [
    {
     "name": "stdout",
     "output_type": "stream",
     "text": [
      "the sum of first five item is 15\n",
      "the reverse string is [10, 9, 8, 7, 6, 5, 4, 3, 2, 1]\n"
     ]
    }
   ],
   "source": [
    "data = [1, 2, 3, 4, 5, 6, 7, 8, 9, 10]\n",
    "\n",
    "sum_first_five = sum(data[:5])\n",
    "print(\"the sum of first five item is\", sum_first_five)\n",
    "\n",
    "reverse = data[::-1]\n",
    "print(\"the reverse string is\", reverse)"
   ]
  },
  {
   "cell_type": "code",
   "execution_count": null,
   "id": "116e0c1d-2a1b-4cd1-8de0-848838791214",
   "metadata": {},
   "outputs": [],
   "source": [
    "# PROBLEM : 3\n",
    "\n",
    "Given the list numbers = [1, 2, 3, 4, 5, 6, 7, 8, 9, 10]\n",
    "Write Python expressions to:\n",
    "1. Create a new list with the first half and the second half swapped.\n",
    "2. Print the sum of the last three elements.\n",
    "\n",
    "Input:\n",
    "numbers = [1, 2, 3, 4, 5, 6, 7, 8, 9, 10]\n",
    "Output should be:\n",
    "[6, 7, 8, 9, 10, 1, 2, 3, 4, 5]\n",
    "27"
   ]
  },
  {
   "cell_type": "code",
   "execution_count": 75,
   "id": "d2eadbe8-9bb7-48e6-91a3-02d139db5098",
   "metadata": {},
   "outputs": [
    {
     "name": "stdout",
     "output_type": "stream",
     "text": [
      "New list with the first half :   [1, 2, 3, 4, 5]\n",
      "Second half       :        [6, 7, 8, 9, 10]\n",
      "\n",
      "[6, 7, 8, 9, 10, 1, 2, 3, 4, 5]\n"
     ]
    }
   ],
   "source": [
    "numbers = [1, 2, 3, 4, 5, 6, 7, 8, 9, 10]\n",
    "\n",
    "new_list = numbers[:5]\n",
    "scnd_half = numbers[5:]\n",
    "swap = scnd_half + new_list\n",
    "\n",
    "print( \"New list with the first half :  \", new_list)\n",
    "print(\"Second half       :       \", scnd_half)\n",
    "print()\n",
    "print(swap)"
   ]
  },
  {
   "cell_type": "code",
   "execution_count": null,
   "id": "895f47c2-2357-433b-a581-42aed6e667b4",
   "metadata": {},
   "outputs": [],
   "source": [
    "# PROBLEM : 4\n",
    "\n",
    "write a python program to interchange first and last elements in a list"
   ]
  },
  {
   "cell_type": "code",
   "execution_count": 148,
   "id": "5e12b173-43c7-4ccc-a020-3d1410e3883d",
   "metadata": {},
   "outputs": [
    {
     "name": "stdout",
     "output_type": "stream",
     "text": [
      "[10, 23, 67, 78, 20, 56, 30, 55, 68, 40, 85, 50, 95, 56, 45]\n",
      "15\n",
      "now the new list is :  [45, 23, 67, 78, 20, 56, 30, 55, 68, 40, 85, 50, 95, 56, 10]\n"
     ]
    }
   ],
   "source": [
    "a = [10,23,67,78,20, 56,30,55, 68, 40, 85,50,95,56,45]\n",
    "print(a)\n",
    "print(len(a))\n",
    "\n",
    "b = a[0]\n",
    "a[0] = a[14]\n",
    "a[14] = b\n",
    "\n",
    "print(\"now the new list is : \", a)"
   ]
  },
  {
   "cell_type": "code",
   "execution_count": null,
   "id": "a42cf832-0043-4139-8545-74539251f564",
   "metadata": {},
   "outputs": [],
   "source": [
    "# PROBLEM : 5\n",
    "\n",
    "Task: Data Cleaning\n",
    "You have a list responses containing responses from a survey. However, some responses are recorded as empty strings due to data entry errors.\n",
    "Your task is to remove these empty responses from the list.\n",
    "\n",
    "Write Python code to remove all empty responses from the responses list:\n",
    "responses = [\"Yes\", \"\", \"No\", \"\", \"Maybe\", \"\", \"\", \"Yes\", \"No\", \"\"]"
   ]
  },
  {
   "cell_type": "code",
   "execution_count": 47,
   "id": "e17803e5-6e96-45bb-96bc-1b80a8014da8",
   "metadata": {},
   "outputs": [
    {
     "name": "stdout",
     "output_type": "stream",
     "text": [
      "['Yes', 'No', 'Maybe', 'Yes', 'No']\n"
     ]
    }
   ],
   "source": [
    "responses = [\"Yes\", \"\", \"No\", \"\", \"Maybe\", \"\", \"\", \"Yes\", \"No\", \"\"]\n",
    "clean = []\n",
    "\n",
    "for response in responses:\n",
    "    if response != \"\":\n",
    "        clean.append(response)\n",
    "    else:\n",
    "        pass\n",
    "\n",
    "print(clean)"
   ]
  },
  {
   "cell_type": "code",
   "execution_count": null,
   "id": "a0938b6b-ae5c-40af-9118-cb68501394c9",
   "metadata": {},
   "outputs": [],
   "source": [
    "# PROBLEM : 6\n",
    "\n",
    "Data Analysis Scenario:\n",
    "You have two lists containing exam scores of students from two different classes.\n",
    "The lists are class1_scores and class2_scores.\n",
    "You need to analyze the performance of the classes by calculating the average score for each class.\n",
    "Write Python code to calculate the average score for each class:\n",
    "\n",
    "class1_scores = [85, 90, 88, 92, 78]\n",
    "class2_scores = [75, 82, 80, 85, 79]"
   ]
  },
  {
   "cell_type": "code",
   "execution_count": 193,
   "id": "a016fb79-1fde-44a9-8765-cdf6fabd1b5a",
   "metadata": {},
   "outputs": [
    {
     "name": "stdout",
     "output_type": "stream",
     "text": [
      "The average score of class 1 is :  80\n",
      "The average score of class 2 is :  76\n"
     ]
    }
   ],
   "source": [
    "class1_scores = [85, 90, 88, 92, 78,86,67,63,78]\n",
    "class2_scores = [75, 82, 80, 85, 79,65,60,75,85]\n",
    "\n",
    "average1 = sum(class1_scores)/len(class1_scores)\n",
    "average2 = sum(class2_scores)/len(class2_scores)\n",
    "\n",
    "print(\"The average score of class 1 is : \", int(average1))\n",
    "print(\"The average score of class 2 is : \", int(average2))"
   ]
  },
  {
   "cell_type": "code",
   "execution_count": null,
   "id": "ff9b71e6-7a36-42aa-89c6-4dd8d11cb744",
   "metadata": {},
   "outputs": [],
   "source": [
    "# PROBLEM : 7\n",
    "Given two lists:\n",
    "list1 = [[1, 2], [3, 4], [5, 6]]   and list2 = [[7, 8], [9, 10]]\n",
    "Concatenate them into a single list of lists:"
   ]
  },
  {
   "cell_type": "code",
   "execution_count": 119,
   "id": "520642a3-2a1b-4a02-96be-9f93a71b592c",
   "metadata": {},
   "outputs": [
    {
     "name": "stdout",
     "output_type": "stream",
     "text": [
      "[[1, 2], [3, 4], [5, 6], [7, 8], [9, 10]]\n"
     ]
    }
   ],
   "source": [
    "list1 = [[1, 2], [3, 4], [5, 6]]  \n",
    "list2 = [[7, 8], [9, 10]]\n",
    "combined = list1 + list2\n",
    "print(combined)"
   ]
  },
  {
   "cell_type": "code",
   "execution_count": null,
   "id": "11fd2341-5384-497c-aa48-929cc79fae80",
   "metadata": {},
   "outputs": [],
   "source": [
    "# PROBLEM : 8\n",
    "\n",
    "Given a list of sentences:\n",
    "sentences = [\"Hello, world!\", \"Python is awesome!\", \"I love coding!\"]\n",
    "Join the sentences into a single string separated by newline characters:"
   ]
  },
  {
   "cell_type": "code",
   "execution_count": 197,
   "id": "209e7458-0105-4e5b-8b75-ff93da48de8e",
   "metadata": {},
   "outputs": [
    {
     "name": "stdout",
     "output_type": "stream",
     "text": [
      "Joined string with newline characters:\n",
      " Hello, world!\n",
      "Python is awesome!\n",
      "I love coding!\n"
     ]
    }
   ],
   "source": [
    "sentences = [\"Hello, world!\", \"Python is awesome!\", \"I love coding!\"]\n",
    "\n",
    "joined_string = \"\\n\".join(sentences)\n",
    "print(\"Joined string with newline characters:\\n\", joined_string)\n"
   ]
  },
  {
   "cell_type": "code",
   "execution_count": null,
   "id": "0e060179-57e5-4fdd-9f3c-4cdeb2d1f79d",
   "metadata": {},
   "outputs": [],
   "source": [
    "# PROBLEM : 9\n",
    "a. Create a list named data_points containing integers representing data values: [10, 20, 25, 30, 35, 40, 50, 55]\n",
    "b. Add the value 60 to the end of the list.\n",
    "c. Insert the value 5 at the beginning of the list.\n",
    "d. Remove the value 30 from the list.\n",
    "e. Print the modified list."
   ]
  },
  {
   "cell_type": "code",
   "execution_count": 6,
   "id": "d94d109a-14e4-401d-9681-e06db1ca35c8",
   "metadata": {},
   "outputs": [
    {
     "name": "stdout",
     "output_type": "stream",
     "text": [
      "[15, 20, 25, 30, 35, 40, 50, 55, 60]\n",
      "[5, 15, 20, 25, 30, 35, 40, 50, 55, 60]\n",
      "modifies list is :  [5, 15, 20, 25, 35, 40, 50, 55, 60]\n"
     ]
    }
   ],
   "source": [
    "data_points = [15, 20, 25, 30, 35, 40, 50, 55]\n",
    "\n",
    "data_points.append(60)\n",
    "print(data_points)\n",
    "data_points.insert(0, 5)\n",
    "print(data_points)\n",
    "data_points.remove(30)\n",
    "\n",
    "print(\"modifies list is : \", data_points)"
   ]
  },
  {
   "cell_type": "code",
   "execution_count": null,
   "id": "f9bf3b42-279d-477b-b1cf-94585430b238",
   "metadata": {},
   "outputs": [],
   "source": [
    "# PROBLEM : 10\n",
    "\n",
    "Student Enrollment Status:\n",
    "\n",
    "You are managing student enrollments for a course and want to determine their enrollment status based on their course credits.\n",
    "Create a program that:\n",
    "\n",
    "1. Asks the user to input the number of students.\n",
    "2. Asks the user to input the course credits for each student, storing them in a list.\n",
    "3. Determines the enrollment status for each student:\n",
    "\"Full-time\" if course credits are greater than or equal to 12.\n",
    "\"Part-time\" if course credits are less than 12.\n",
    "4. Prints out the enrollment status for each student."
   ]
  },
  {
   "cell_type": "code",
   "execution_count": 7,
   "id": "1c22a625-c7e4-40e9-a2ac-faef83b73406",
   "metadata": {},
   "outputs": [
    {
     "name": "stdin",
     "output_type": "stream",
     "text": [
      "enter the number of students 3\n",
      "enter the course credit for student: 14\n"
     ]
    },
    {
     "name": "stdout",
     "output_type": "stream",
     "text": [
      "[14]\n"
     ]
    },
    {
     "name": "stdin",
     "output_type": "stream",
     "text": [
      "enter the course credit for student: 26\n"
     ]
    },
    {
     "name": "stdout",
     "output_type": "stream",
     "text": [
      "[14, 26]\n"
     ]
    },
    {
     "name": "stdin",
     "output_type": "stream",
     "text": [
      "enter the course credit for student: 20\n"
     ]
    },
    {
     "name": "stdout",
     "output_type": "stream",
     "text": [
      "[14, 26, 20]\n",
      "student 1 : enrollment status - Full_time\n",
      "student 2 : enrollment status - Full_time\n",
      "student 3 : enrollment status - Full_time\n"
     ]
    }
   ],
   "source": [
    "num_students = int(input(\"enter the number of students\"))\n",
    "\n",
    "course_credits = []\n",
    "\n",
    "for i in range(num_students):\n",
    "    credits = int(input(\"enter the course credit for student:\"))\n",
    "    course_credits.append(credits)\n",
    "    print(course_credits)\n",
    "\n",
    "enrollment_status = []\n",
    "\n",
    "for credits in course_credits:\n",
    "    if credits >= 12:\n",
    "        enrollment_status.append(\"Full_time\")\n",
    "    else:\n",
    "        enrollment_status.append(\"part-time\")\n",
    "\n",
    "for i in range(num_students):\n",
    "    print(f\"student {i+1} : enrollment status - {enrollment_status[i]}\")"
   ]
  },
  {
   "cell_type": "code",
   "execution_count": null,
   "id": "2bbcd8ba-edc7-4e25-92f6-0eabf19c97f7",
   "metadata": {},
   "outputs": [],
   "source": [
    "# PROBLEM : 11\n",
    "\n",
    "Age Group Classification:\n",
    "\n",
    "You are analyzing demographic data and want to classify people into different age groups. Create a program that:\n",
    "Asks the user to input the number of people.\n",
    "Asks the user to input the ages of each person, storing them in a list.\n",
    "Classifies each person into one of the following age groups: \"Child\" (age < 18), \"Adult\" (18 <= age < 65), or \"Senior\" (age >= 65).\n",
    "Prints out the number of people in each age group."
   ]
  },
  {
   "cell_type": "code",
   "execution_count": 10,
   "id": "9ea682d0-f0dd-4128-8bd0-88be5c92855d",
   "metadata": {},
   "outputs": [
    {
     "name": "stdin",
     "output_type": "stream",
     "text": [
      "enter the number of people :  3\n",
      "enter the age of the person :  15\n",
      "enter the age of the person :  45\n",
      "enter the age of the person :  68\n"
     ]
    },
    {
     "name": "stdout",
     "output_type": "stream",
     "text": [
      "Number of people in each age group : \n",
      "children :  1\n",
      "adult :  1\n",
      "senior :  1\n"
     ]
    }
   ],
   "source": [
    "num_people = int(input(\"enter the number of people : \"))\n",
    "\n",
    "ages = []\n",
    "\n",
    "for i in range(num_people):\n",
    "    age = int(input(\"enter the age of the person : \"))\n",
    "    ages.append(age)\n",
    "\n",
    "child_count = 0\n",
    "adult_count = 0\n",
    "senior_count = 0\n",
    "\n",
    "for age in ages:\n",
    "    if age < 18:\n",
    "        child_count = child_count + 1\n",
    "    elif age >= 18 and age < 65:\n",
    "        adult_count = adult_count + 1\n",
    "    else:\n",
    "        senior_count = senior_count + 1\n",
    "\n",
    "print(\"Number of people in each age group : \")\n",
    "print(\"children : \", child_count)\n",
    "print(\"adult : \", adult_count)\n",
    "print(\"senior : \", senior_count)\n"
   ]
  },
  {
   "cell_type": "code",
   "execution_count": null,
   "id": "626add59-9ea8-4cf1-8f01-8bbf1899bc84",
   "metadata": {},
   "outputs": [],
   "source": [
    "# PROBLEM : 12 (HOME WORK)\n",
    "\n",
    "String Methods: \n",
    "a. Create a string variable sentence with any sentence of your choice.\n",
    "b. Convert the sentence to uppercase.\n",
    "c. Split the sentence into a list of words.\n",
    "d. Join the words in the list using a space as the separator.\n",
    "e. Print the modified sentence.\n"
   ]
  },
  {
   "cell_type": "code",
   "execution_count": 10,
   "id": "0133953e-a889-4eec-8147-f9fa706fb696",
   "metadata": {},
   "outputs": [
    {
     "name": "stdout",
     "output_type": "stream",
     "text": [
      "Python lists are versatile\n",
      "PYTHON LISTS ARE VERSATILE\n",
      "['Python', 'lists', 'are', 'versatile']\n"
     ]
    }
   ],
   "source": [
    "mylist = \"Python lists are versatile\"\n",
    "print(mylist)\n",
    "up = mylist.upper()\n",
    "print(up)\n",
    "sp = mylist.split()\n",
    "print(sp)\n"
   ]
  },
  {
   "cell_type": "code",
   "execution_count": null,
   "id": "1528cb6f-d245-42d7-9858-24fd2568be01",
   "metadata": {},
   "outputs": [],
   "source": [
    "# PROBLEM : 13 (HOME WORK)\n",
    "\n",
    "List Sorting: \n",
    "a. Create a list named ages containing integers representing ages of individuals.\n",
    "b. Sort the list in ascending order.\n",
    "c. Sort the list in descending order.\n",
    "d. Print the sorted lists."
   ]
  },
  {
   "cell_type": "code",
   "execution_count": 126,
   "id": "7f982d6e-803d-49e6-a1f4-870098da6c6c",
   "metadata": {},
   "outputs": [
    {
     "name": "stdout",
     "output_type": "stream",
     "text": [
      "[21, 24, 26, 28, 31, 32, 34, 43, 45]\n",
      "The sorted list : [45, 43, 34, 32, 31, 28, 26, 24, 21]\n"
     ]
    }
   ],
   "source": [
    "ages = [ 24,43,32,21,26,28,34,45,31]\n",
    "ages.sort()\n",
    "print(ages)\n",
    "ages.sort(reverse = True)\n",
    "print(\"The sorted list :\", ages)"
   ]
  },
  {
   "cell_type": "code",
   "execution_count": 129,
   "id": "827cd8a8-4e43-4d82-9cd7-b2a53e4a392a",
   "metadata": {},
   "outputs": [
    {
     "name": "stdout",
     "output_type": "stream",
     "text": [
      "[[23], [24], [32], [33], [43]]\n",
      "The sorted ages list is :  [[43], [33], [32], [24], [23]]\n"
     ]
    }
   ],
   "source": [
    "ages = [ [24],[43],[32],[23], [33]]\n",
    "ages.sort()\n",
    "print(ages)\n",
    "\n",
    "ages.sort(reverse = True)\n",
    "print(\"The sorted ages list is : \", ages)"
   ]
  },
  {
   "cell_type": "code",
   "execution_count": null,
   "id": "d4b37072-325f-4af3-adaa-af736bdc9b71",
   "metadata": {},
   "outputs": [],
   "source": [
    "# PROBLEM"
   ]
  },
  {
   "cell_type": "code",
   "execution_count": 23,
   "id": "0f7c0854-d0d2-4f31-bc9d-ff32a96d600f",
   "metadata": {},
   "outputs": [
    {
     "name": "stdin",
     "output_type": "stream",
     "text": [
      "type the item you wanna add in the list:  banana\n"
     ]
    },
    {
     "name": "stdout",
     "output_type": "stream",
     "text": [
      "['banana']\n"
     ]
    },
    {
     "name": "stdin",
     "output_type": "stream",
     "text": [
      "type the item you wanna add in the list:  carrot\n"
     ]
    },
    {
     "name": "stdout",
     "output_type": "stream",
     "text": [
      "['banana', 'carrot']\n"
     ]
    },
    {
     "name": "stdin",
     "output_type": "stream",
     "text": [
      "type the item you wanna add in the list:  apple\n"
     ]
    },
    {
     "name": "stdout",
     "output_type": "stream",
     "text": [
      "['banana', 'carrot', 'apple']\n"
     ]
    },
    {
     "name": "stdin",
     "output_type": "stream",
     "text": [
      "type the item you wanna add in the list:  cherry\n"
     ]
    },
    {
     "name": "stdout",
     "output_type": "stream",
     "text": [
      "['banana', 'carrot', 'apple', 'cherry']\n"
     ]
    },
    {
     "name": "stdin",
     "output_type": "stream",
     "text": [
      "type the item you wanna add in the list:  orange\n"
     ]
    },
    {
     "name": "stdout",
     "output_type": "stream",
     "text": [
      "['banana', 'carrot', 'apple', 'cherry', 'orange']\n"
     ]
    },
    {
     "name": "stdin",
     "output_type": "stream",
     "text": [
      "do you wanna remove something? apple\n"
     ]
    },
    {
     "name": "stdout",
     "output_type": "stream",
     "text": [
      "enjoy your picnic mate\n"
     ]
    }
   ],
   "source": [
    "picnic = []             # empty list\n",
    "\n",
    "for i in range(5):\n",
    "    item = input('type the item you wanna add in the list: ')    # step 1\n",
    "    picnic.append(item)   # step 2\n",
    "    print(picnic)\n",
    "\n",
    "ask = input('do you wanna remove something?')\n",
    "if ask=='yes':\n",
    "    item = input('what do u wanna remove buddy?')\n",
    "    picnic.remove(item)\n",
    "    print(picnic)\n",
    "else:\n",
    "    print('enjoy your picnic mate')"
   ]
  },
  {
   "cell_type": "code",
   "execution_count": 32,
   "id": "77a5778e-fedd-4f1f-ab5a-d640cfee1375",
   "metadata": {},
   "outputs": [
    {
     "name": "stdin",
     "output_type": "stream",
     "text": [
      "type name here:  rv\n",
      "type your height here:  177\n",
      "type name here:  ronak\n",
      "type your height here:  176\n",
      "type name here:  rann\n",
      "type your height here:  178\n",
      "type name here:  ram\n",
      "type your height here:  180\n",
      "type name here:  ronnie\n",
      "type your height here:  166\n"
     ]
    },
    {
     "name": "stdout",
     "output_type": "stream",
     "text": [
      "[('rv', 177), ('ronak', 176), ('rann', 178), ('ram', 180)]\n"
     ]
    }
   ],
   "source": [
    "players = []            # empty  list\n",
    "\n",
    "for i in range(5):    \n",
    "    name = input('type name here: ')\n",
    "    height = int(input('type your height here: '))\n",
    "    if height>167:\n",
    "        tup = (name, height)\n",
    "        players.append(tup)\n",
    "print(players)"
   ]
  },
  {
   "cell_type": "code",
   "execution_count": 4,
   "id": "f8079edf-eef7-4939-97d2-605ea4128004",
   "metadata": {},
   "outputs": [
    {
     "name": "stdout",
     "output_type": "stream",
     "text": [
      "The largest number is :  [87]\n",
      "The second largest number is :  [85]\n"
     ]
    }
   ],
   "source": [
    "# Problem : Finding the largest and second largest numbers.\n",
    "\n",
    "x = [23,34,45,56,67,87,85,65,54,43]\n",
    "x.sort(reverse = True)\n",
    "print(\"The largest number is : \", x[:1])\n",
    "print(\"The second largest number is : \", x[1:2])\n"
   ]
  },
  {
   "cell_type": "code",
   "execution_count": 5,
   "id": "e1443994-8920-4cc5-a023-066fdf704f03",
   "metadata": {},
   "outputs": [
    {
     "name": "stdout",
     "output_type": "stream",
     "text": [
      "The largest number is :  [87]\n"
     ]
    }
   ],
   "source": [
    "x = [23,34,45,56,67,87,85,65,54,43]\n",
    "for i in x :\n",
    "    x.sort(reverse = True)\n",
    "print(\"The largest number is : \", x[:1])\n",
    "\n",
    "    "
   ]
  },
  {
   "cell_type": "code",
   "execution_count": 6,
   "id": "7984583b-0cf4-4ed0-a6d4-a258921fbd40",
   "metadata": {},
   "outputs": [
    {
     "name": "stdin",
     "output_type": "stream",
     "text": [
      " 56\n",
      " 67\n",
      " 78\n",
      " 76\n",
      " 54\n"
     ]
    },
    {
     "name": "stdout",
     "output_type": "stream",
     "text": [
      "the second second largest number is :  [76]\n"
     ]
    }
   ],
   "source": [
    "y = []\n",
    "\n",
    "for i in range (5):\n",
    "    x = int(input())\n",
    "    y.append(x)\n",
    "    y.sort(reverse = True)\n",
    "    \n",
    "print(\"the second second largest number is : \", y[1:2])\n"
   ]
  },
  {
   "cell_type": "code",
   "execution_count": null,
   "id": "36f8eb4d-59af-4cdf-87cc-22571dbe1221",
   "metadata": {},
   "outputs": [],
   "source": []
  }
 ],
 "metadata": {
  "kernelspec": {
   "display_name": "Python 3 (ipykernel)",
   "language": "python",
   "name": "python3"
  },
  "language_info": {
   "codemirror_mode": {
    "name": "ipython",
    "version": 3
   },
   "file_extension": ".py",
   "mimetype": "text/x-python",
   "name": "python",
   "nbconvert_exporter": "python",
   "pygments_lexer": "ipython3",
   "version": "3.12.7"
  }
 },
 "nbformat": 4,
 "nbformat_minor": 5
}
