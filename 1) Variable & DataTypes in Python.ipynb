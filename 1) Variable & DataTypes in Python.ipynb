{
 "cells": [
  {
   "cell_type": "markdown",
   "id": "39230665-98bb-4ff4-a1d3-2a6324bcdfc6",
   "metadata": {},
   "source": [
    "# __1) Variables & DataTypes__"
   ]
  },
  {
   "cell_type": "markdown",
   "id": "f7489f09-8d51-427d-ae06-1f785c4c568a",
   "metadata": {},
   "source": [
    "## ➩ Writing the first 'hello world' Program"
   ]
  },
  {
   "cell_type": "code",
   "execution_count": 1,
   "id": "1bdde7b4-3cc6-4fb8-865a-e68615617930",
   "metadata": {},
   "outputs": [
    {
     "name": "stdout",
     "output_type": "stream",
     "text": [
      "hello, world\n"
     ]
    }
   ],
   "source": [
    "print(\"hello, world\")"
   ]
  },
  {
   "cell_type": "code",
   "execution_count": 2,
   "id": "238bb7a6-59df-4d4d-aa5e-2baeab318f21",
   "metadata": {},
   "outputs": [
    {
     "name": "stdout",
     "output_type": "stream",
     "text": [
      "6\n"
     ]
    }
   ],
   "source": [
    "print (2+4)"
   ]
  },
  {
   "cell_type": "markdown",
   "id": "771e6c21-f611-48e3-864d-aed1cd50d59c",
   "metadata": {},
   "source": [
    "## To check the Python version ⮯"
   ]
  },
  {
   "cell_type": "code",
   "execution_count": 1,
   "id": "00e48730-64a5-4d3a-9fae-b2c37743a912",
   "metadata": {},
   "outputs": [
    {
     "data": {
      "text/plain": [
       "'3.12.7 | packaged by Anaconda, Inc. | (main, Oct  4 2024, 13:17:27) [MSC v.1929 64 bit (AMD64)]'"
      ]
     },
     "execution_count": 1,
     "metadata": {},
     "output_type": "execute_result"
    }
   ],
   "source": [
    "\n",
    "import sys\n",
    "sys.version"
   ]
  },
  {
   "cell_type": "markdown",
   "id": "99f03f60-5cde-4c3b-83b2-6fa4a51a99cd",
   "metadata": {},
   "source": [
    "### Syntax"
   ]
  },
  {
   "cell_type": "code",
   "execution_count": 1,
   "id": "8107edc0-197e-4e6e-a061-8aae90fdbf59",
   "metadata": {},
   "outputs": [
    {
     "name": "stdout",
     "output_type": "stream",
     "text": [
      "Five is greater than two!\n",
      "Five is greater than two!\n"
     ]
    }
   ],
   "source": [
    "\n",
    "if 5 > 2:\n",
    "        print(\"Five is greater than two!\") \n",
    "if 5 > 2:\n",
    "        print(\"Five is greater than two!\") "
   ]
  },
  {
   "cell_type": "code",
   "execution_count": 2,
   "id": "8a6d8ed4-be96-4468-a6cd-7b819a777293",
   "metadata": {},
   "outputs": [
    {
     "name": "stdout",
     "output_type": "stream",
     "text": [
      "Five is greater than two!\n",
      "Five is less than two!\n"
     ]
    }
   ],
   "source": [
    "if 5 > 2:\n",
    "    print(\"Five is greater than two!\")\n",
    "    print(\"Five is less than two!\")"
   ]
  },
  {
   "cell_type": "markdown",
   "id": "c45f1bb6-fdd0-43f0-b757-92c499c671f4",
   "metadata": {},
   "source": [
    "### Syntax error"
   ]
  },
  {
   "cell_type": "code",
   "execution_count": 4,
   "id": "4bacfc7b-c44e-4c6b-bfef-8a07abd9b4f7",
   "metadata": {},
   "outputs": [
    {
     "name": "stdout",
     "output_type": "stream",
     "text": [
      "101\n",
      "hello\n",
      "I like coding.\n"
     ]
    }
   ],
   "source": [
    "print(101)\n",
    "print('hello')\n",
    "print(\"I like coding.\")\n",
    "\n",
    "# make sure to follow the syntax\n",
    "\n",
    "Print('hello)    # incorrect\n",
    "PRINT('hello')    # incorrect "
   ]
  },
  {
   "cell_type": "markdown",
   "id": "0779e3e7-18f7-4b2a-81d3-dfc1176e5756",
   "metadata": {},
   "source": [
    "# ➩ Python Comments"
   ]
  },
  {
   "cell_type": "markdown",
   "id": "77f7f67f-c757-405c-9efb-9acae05eace1",
   "metadata": {},
   "source": [
    "#### ___creating a single comment___"
   ]
  },
  {
   "cell_type": "code",
   "execution_count": 6,
   "id": "8a5290ad-7754-42d7-9151-1706ea8a851f",
   "metadata": {},
   "outputs": [
    {
     "name": "stdout",
     "output_type": "stream",
     "text": [
      "hello,world\n"
     ]
    }
   ],
   "source": [
    "                            # This is a comment\n",
    "print ('hello,world')"
   ]
  },
  {
   "cell_type": "code",
   "execution_count": 7,
   "id": "ac78f953-b81f-4776-8f6d-73bdc951e5cf",
   "metadata": {},
   "outputs": [
    {
     "name": "stdout",
     "output_type": "stream",
     "text": [
      "hello world\n"
     ]
    }
   ],
   "source": [
    "print(\"hello world\")           # This is also a comment"
   ]
  },
  {
   "cell_type": "code",
   "execution_count": 8,
   "id": "91f05d66-6f41-4eb3-9623-b24ce2a7fd76",
   "metadata": {},
   "outputs": [
    {
     "name": "stdout",
     "output_type": "stream",
     "text": [
      "This is python programming!\n"
     ]
    }
   ],
   "source": [
    "                           # print(\"This is python programming!\")\n",
    "\n",
    "print((\"This is python programming!\"))"
   ]
  },
  {
   "cell_type": "code",
   "execution_count": 1,
   "id": "aa32a3eb-1553-4b21-843e-3d1c19e9d4f1",
   "metadata": {},
   "outputs": [
    {
     "name": "stdout",
     "output_type": "stream",
     "text": [
      "Hello, World!\n"
     ]
    }
   ],
   "source": [
    "                           # print(\"Hello, World!\")\n",
    "print(\"Hello, World!\")"
   ]
  },
  {
   "cell_type": "markdown",
   "id": "bafa884e-e66c-4709-b323-8418b161e986",
   "metadata": {},
   "source": [
    "## Multiline Comments"
   ]
  },
  {
   "cell_type": "code",
   "execution_count": 9,
   "id": "52c2f644-933c-4b59-81b4-0208817c8701",
   "metadata": {},
   "outputs": [
    {
     "name": "stdout",
     "output_type": "stream",
     "text": [
      "hello world\n"
     ]
    }
   ],
   "source": [
    "              # This is a comment 1\n",
    "                   # This is a comment 2\n",
    "# This is a comment 3\n",
    "\n",
    "print(\"hello world\")"
   ]
  },
  {
   "cell_type": "code",
   "execution_count": 3,
   "id": "fcc6b414-e5db-476d-8c48-96aa7ad6baad",
   "metadata": {},
   "outputs": [
    {
     "data": {
      "text/plain": [
       "' anything can be written in this multi line comment\\nthis is also a part of the comment\\nas lng as this text is in triple quotes, it will remain a part of the comment'"
      ]
     },
     "execution_count": 3,
     "metadata": {},
     "output_type": "execute_result"
    }
   ],
   "source": [
    "\"\"\" anything can be written in this multi line comment\n",
    "this is also a part of the comment\n",
    "as lng as this text is in triple quotes, it will remain a part of the comment\"\"\""
   ]
  },
  {
   "cell_type": "code",
   "execution_count": 10,
   "id": "7b29f127-95e8-416c-a357-cd7609bd6bd4",
   "metadata": {},
   "outputs": [
    {
     "name": "stdout",
     "output_type": "stream",
     "text": [
      "hello world\n"
     ]
    }
   ],
   "source": [
    "\"\"\"This is a comment 1\"\"\"\n",
    "print(\"hello world\")"
   ]
  },
  {
   "cell_type": "code",
   "execution_count": 21,
   "id": "523c425d-f4cb-4d32-be43-4ae79468de78",
   "metadata": {},
   "outputs": [
    {
     "name": "stdout",
     "output_type": "stream",
     "text": [
      "a hypothetical framework in physics that aims to unify\n",
      "all fundamental forces and particles of nature,\n",
      "including gravity, electromagnetism\n"
     ]
    }
   ],
   "source": [
    "\"\"\"This is a comment written in more than one line\"\"\"\n",
    "\n",
    "print(\"\"\"a hypothetical framework in physics that aims to unify\n",
    "all fundamental forces and particles of nature,\n",
    "including gravity, electromagnetism\"\"\")"
   ]
  },
  {
   "cell_type": "markdown",
   "id": "b10779ac-1b0a-40ad-8d98-f7b2f3b73cae",
   "metadata": {},
   "source": [
    "# ➩➩ __Python Variables__"
   ]
  },
  {
   "cell_type": "markdown",
   "id": "30701974-445f-4f0b-8d49-748c3993c083",
   "metadata": {},
   "source": [
    "## _Variables serve as named storage locations or containers for data values. They allow for the manipulation and recall of data throughout a program's execution._\n",
    "## _A variable is created the moment you first assign a value to it._\n",
    "\n",
    "#### ⮩ Creating a variable"
   ]
  },
  {
   "cell_type": "code",
   "execution_count": 15,
   "id": "266466a3-e12e-4ecb-b5cb-e2acafddd536",
   "metadata": {},
   "outputs": [
    {
     "name": "stdout",
     "output_type": "stream",
     "text": [
      "5\n"
     ]
    }
   ],
   "source": [
    "x = 5\n",
    "print(x)"
   ]
  },
  {
   "cell_type": "code",
   "execution_count": 53,
   "id": "a21cfb53-18a4-4c8e-89fa-7044a9fafcb3",
   "metadata": {},
   "outputs": [
    {
     "name": "stdout",
     "output_type": "stream",
     "text": [
      "5 John\n"
     ]
    }
   ],
   "source": [
    "x = 5\n",
    "y = \"John\"\n",
    "print(x, y)"
   ]
  },
  {
   "cell_type": "code",
   "execution_count": 22,
   "id": "2ac65317-0c05-49d4-96c0-0a9bd4933b01",
   "metadata": {},
   "outputs": [
    {
     "name": "stdout",
     "output_type": "stream",
     "text": [
      "Sally\n"
     ]
    }
   ],
   "source": [
    "x = 4                 # x is of type int\n",
    "x = \"Sally\"           # x is now of type str\n",
    "print(x)"
   ]
  },
  {
   "cell_type": "code",
   "execution_count": 16,
   "id": "3bfcaaa7-d6c4-4e0a-b02f-4ca40d83aabb",
   "metadata": {},
   "outputs": [
    {
     "name": "stdout",
     "output_type": "stream",
     "text": [
      "5\n",
      "apple\n",
      "10.23\n"
     ]
    }
   ],
   "source": [
    "x = 5\n",
    "y = \"apple\"\n",
    "z = 10.23\n",
    "print(x)\n",
    "print(y)\n",
    "print(z)"
   ]
  },
  {
   "cell_type": "code",
   "execution_count": 6,
   "id": "89c7d83a-9b80-4ecc-a0ba-eaee02a70e2c",
   "metadata": {},
   "outputs": [
    {
     "name": "stdout",
     "output_type": "stream",
     "text": [
      "13\n",
      "40\n",
      "0.625\n"
     ]
    }
   ],
   "source": [
    "x = 5\n",
    "y = 8\n",
    "print(x+y)\n",
    "print(x*y)\n",
    "print(x/y)"
   ]
  },
  {
   "cell_type": "code",
   "execution_count": 9,
   "id": "3a4be4ee-eb8a-4246-8f0e-4de2ab9336a0",
   "metadata": {},
   "outputs": [
    {
     "name": "stdout",
     "output_type": "stream",
     "text": [
      "Ranvijay\n",
      "I am name\n",
      "I am Ranvijay\n"
     ]
    }
   ],
   "source": [
    "name = 'Ranvijay'    # variable\n",
    "print(name)\n",
    "\n",
    "                          # putting multiple things in print() function\n",
    "print(\"I am\", 'name')\n",
    "print(\"I am\", name)"
   ]
  },
  {
   "cell_type": "code",
   "execution_count": 49,
   "id": "ee625799-8401-4f8d-bcec-bb36def6669f",
   "metadata": {},
   "outputs": [
    {
     "name": "stdout",
     "output_type": "stream",
     "text": [
      "Python is awesome\n"
     ]
    }
   ],
   "source": [
    "x = \"Python\"\n",
    "y = \"is\"\n",
    "z = \"awesome\"\n",
    "print(x, y, z)"
   ]
  },
  {
   "cell_type": "code",
   "execution_count": 12,
   "id": "4d071788-15e1-49a2-ac50-78804f95b287",
   "metadata": {},
   "outputs": [
    {
     "name": "stdout",
     "output_type": "stream",
     "text": [
      "Python is awesome\n"
     ]
    }
   ],
   "source": [
    "x = \"Python \"\n",
    "y = \"is \"\n",
    "z = \"awesome\"\n",
    "print(x + y + z)\n"
   ]
  },
  {
   "cell_type": "code",
   "execution_count": 13,
   "id": "9c4b4f52-f438-4896-9e2b-b8efbfe1b165",
   "metadata": {},
   "outputs": [
    {
     "name": "stdout",
     "output_type": "stream",
     "text": [
      "371495974599.0737\n",
      "Ranvijay\n"
     ]
    }
   ],
   "source": [
    "print(10+20+40*54/23*38478*2364523/23)\n",
    "print('Ranvijay')"
   ]
  },
  {
   "cell_type": "markdown",
   "id": "e4a5d7bb-b52f-4516-a97f-efdd9a89e915",
   "metadata": {},
   "source": [
    "### ⮩ __Using sep =  function__"
   ]
  },
  {
   "cell_type": "code",
   "execution_count": 4,
   "id": "30da96d5-9e63-4960-afb5-906aa133795b",
   "metadata": {},
   "outputs": [
    {
     "name": "stdout",
     "output_type": "stream",
     "text": [
      "I got 5 apples\n",
      "I got5apples\n",
      "I got-----5-----apples\n",
      "I got....#....5....#....apples\n"
     ]
    }
   ],
   "source": [
    "n = 5\n",
    "print('I got',n,'apples', sep=' ')\n",
    "print('I got',n,'apples', sep='')\n",
    "print('I got',n,'apples', sep='-----')\n",
    "print( 'I got',n,'apples',  sep='....#....')"
   ]
  },
  {
   "cell_type": "markdown",
   "id": "af7d2ab7-a745-45cb-916a-3f05102a8b85",
   "metadata": {},
   "source": [
    "###  ⮩ __'\\n' is used for a line-break__"
   ]
  },
  {
   "cell_type": "code",
   "execution_count": 9,
   "id": "dd22228e-c9cd-496d-89fe-3a0405e578e9",
   "metadata": {},
   "outputs": [
    {
     "name": "stdout",
     "output_type": "stream",
     "text": [
      "I like\n",
      "Python\n",
      "jkfhgkljsdhfgkllskdfhglkjd\n",
      "jhsdf\n"
     ]
    }
   ],
   "source": [
    "print(\"I like\\nPython\")\n",
    "print('jkfhgkljsdhfgkllskdfhglkjd\\njhsdf')"
   ]
  },
  {
   "cell_type": "markdown",
   "id": "0bf5df97-1678-4091-bbf2-c28b6c0c4a77",
   "metadata": {},
   "source": [
    "### ⮩ __Using end = function__"
   ]
  },
  {
   "cell_type": "code",
   "execution_count": 3,
   "id": "5097cd22-7395-40c6-b68e-9ca49696eece",
   "metadata": {},
   "outputs": [
    {
     "name": "stdout",
     "output_type": "stream",
     "text": [
      "hello\n",
      "hello.hey****I love Python\n"
     ]
    }
   ],
   "source": [
    "print('hello', end=\"\\n\")\n",
    "print('hello', end=\".\")\n",
    "print('hey', end=\"****\")\n",
    "print('I love Python')\n"
   ]
  },
  {
   "cell_type": "markdown",
   "id": "4e54c64d-92e2-4820-99ba-e08e18620ea2",
   "metadata": {},
   "source": [
    "### The %whos command in Python is an IPython magic command used to display information about variables and modules currently loaded into memory within an IPython terminalor Jupyter Notebook environment.\n",
    "\n",
    "## %whos  "
   ]
  },
  {
   "cell_type": "code",
   "execution_count": 6,
   "id": "abf4323f-15d7-40df-9fdc-f77845e02107",
   "metadata": {},
   "outputs": [
    {
     "name": "stdout",
     "output_type": "stream",
     "text": [
      "Variable   Type    Data/Info\n",
      "----------------------------\n",
      "n          int     5\n"
     ]
    }
   ],
   "source": [
    "%whos"
   ]
  },
  {
   "cell_type": "markdown",
   "id": "345a875e-4245-48f2-9ef2-3b6c8d0be81c",
   "metadata": {},
   "source": [
    "# __➩➩ Rules for Python variables__"
   ]
  },
  {
   "cell_type": "markdown",
   "id": "aacd3f79-27f8-49d0-b059-18509cf87476",
   "metadata": {},
   "source": [
    "\n",
    "##### 1) A variable name must start with a letter or the underscore character\n",
    "##### 2) A variable name cannot start with a number\n",
    "#####  3) A variable name can only contain alpha-numeric characters and underscores (A-z, 0-9, and _ )\n",
    "##### 4) Variable names are case-sensitive (age, Age and AGE are three different variables)\n",
    "##### 5) A variable name cannot be any of the Python keywords.\n"
   ]
  },
  {
   "cell_type": "markdown",
   "id": "ccd76136-7a85-4506-962e-06d052117c69",
   "metadata": {},
   "source": [
    "# 1) A variable name must start with a letter or the underscore character"
   ]
  },
  {
   "cell_type": "code",
   "execution_count": null,
   "id": "f96a1262-c4df-42ea-a7b8-7a79fb7755a9",
   "metadata": {},
   "outputs": [],
   "source": [
    "                # Legal variable names:\n",
    "\n",
    "myvar = \"John\"\n",
    "my_var = \"John\"\n",
    "_my_var = \"John\"\n",
    "myVar = \"John\"\n",
    "MYVAR = \"John\"\n",
    "myvar2 = \"John\""
   ]
  },
  {
   "cell_type": "code",
   "execution_count": 25,
   "id": "8099feb8-4a07-4f33-88f1-721e6d01a47f",
   "metadata": {},
   "outputs": [
    {
     "name": "stdout",
     "output_type": "stream",
     "text": [
      "5\n"
     ]
    }
   ],
   "source": [
    "a = 5\n",
    "print(a)"
   ]
  },
  {
   "cell_type": "code",
   "execution_count": 27,
   "id": "519682ed-de8d-49ca-b2d5-e62d6d2e2d61",
   "metadata": {},
   "outputs": [
    {
     "name": "stdout",
     "output_type": "stream",
     "text": [
      "123\n"
     ]
    }
   ],
   "source": [
    "apple_box = 123\n",
    "print(apple_box)"
   ]
  },
  {
   "cell_type": "code",
   "execution_count": 29,
   "id": "c2b9c403-ae9c-492d-8c1d-265e2a2d0404",
   "metadata": {},
   "outputs": [
    {
     "name": "stdout",
     "output_type": "stream",
     "text": [
      "12\n",
      "Apple\n"
     ]
    }
   ],
   "source": [
    "_5 = 12\n",
    "___456 = \"Apple\"\n",
    "print(_5)\n",
    "print(___456)"
   ]
  },
  {
   "cell_type": "code",
   "execution_count": 30,
   "id": "b452e1ab-073b-4535-b42d-c2b408623ae9",
   "metadata": {},
   "outputs": [
    {
     "name": "stdout",
     "output_type": "stream",
     "text": [
      "John Ronnie 4321\n"
     ]
    }
   ],
   "source": [
    "my_var = \"John\"\n",
    "_my_var = \"Ronnie\"\n",
    "myVar = 4321\n",
    "\n",
    "print(my_var,_my_var,myVar )"
   ]
  },
  {
   "cell_type": "markdown",
   "id": "0a15770e-f9e9-41e8-8fb3-3c39544331b0",
   "metadata": {},
   "source": [
    "# 2) A variable name cannot start with a number"
   ]
  },
  {
   "cell_type": "code",
   "execution_count": null,
   "id": "e182867d-2181-49ec-856b-5b66ee415adc",
   "metadata": {},
   "outputs": [],
   "source": [
    "                   # Illegal variable names:\n",
    "\n",
    "2myvar = \"John\"\n",
    "my-var = \"John\"\n",
    "my var = \"John\"]\n"
   ]
  },
  {
   "cell_type": "code",
   "execution_count": 31,
   "id": "c600cc8b-a20e-40c4-b965-0a1e6f042920",
   "metadata": {},
   "outputs": [
    {
     "ename": "SyntaxError",
     "evalue": "cannot assign to literal here. Maybe you meant '==' instead of '='? (1510144204.py, line 1)",
     "output_type": "error",
     "traceback": [
      "\u001b[1;36m  Cell \u001b[1;32mIn[31], line 1\u001b[1;36m\u001b[0m\n\u001b[1;33m    1 = 2442\u001b[0m\n\u001b[1;37m    ^\u001b[0m\n\u001b[1;31mSyntaxError\u001b[0m\u001b[1;31m:\u001b[0m cannot assign to literal here. Maybe you meant '==' instead of '='?\n"
     ]
    }
   ],
   "source": [
    "1 = 2442\n",
    "print(1)"
   ]
  },
  {
   "cell_type": "code",
   "execution_count": 33,
   "id": "64f0e285-2ef7-4d16-81fa-0079b9394ca5",
   "metadata": {},
   "outputs": [
    {
     "ename": "SyntaxError",
     "evalue": "invalid decimal literal (1337762635.py, line 1)",
     "output_type": "error",
     "traceback": [
      "\u001b[1;36m  Cell \u001b[1;32mIn[33], line 1\u001b[1;36m\u001b[0m\n\u001b[1;33m    5numbers = 1,2,3,4,5\u001b[0m\n\u001b[1;37m    ^\u001b[0m\n\u001b[1;31mSyntaxError\u001b[0m\u001b[1;31m:\u001b[0m invalid decimal literal\n"
     ]
    }
   ],
   "source": [
    "5numbers = 1,2,3,4,5\n",
    "print(5numbers)"
   ]
  },
  {
   "cell_type": "code",
   "execution_count": 34,
   "id": "b8c9d506-54e6-482e-a1ac-bafb3fdb0894",
   "metadata": {},
   "outputs": [
    {
     "ename": "SyntaxError",
     "evalue": "invalid decimal literal (2574754669.py, line 1)",
     "output_type": "error",
     "traceback": [
      "\u001b[1;36m  Cell \u001b[1;32mIn[34], line 1\u001b[1;36m\u001b[0m\n\u001b[1;33m    1_apple = 2433\u001b[0m\n\u001b[1;37m     ^\u001b[0m\n\u001b[1;31mSyntaxError\u001b[0m\u001b[1;31m:\u001b[0m invalid decimal literal\n"
     ]
    }
   ],
   "source": [
    "1_apple = 2433\n",
    "print(1_apple)"
   ]
  },
  {
   "cell_type": "markdown",
   "id": "2c6d0102-0b32-461d-87b9-b37800df609a",
   "metadata": {},
   "source": [
    "# 3) A variable name can only contain alpha-numeric characters and underscores (A-z, 0-9, and _ )"
   ]
  },
  {
   "cell_type": "code",
   "execution_count": 36,
   "id": "852af9ad-83a3-44ec-b40b-78136020f588",
   "metadata": {},
   "outputs": [
    {
     "name": "stdout",
     "output_type": "stream",
     "text": [
      "345\n"
     ]
    }
   ],
   "source": [
    "a_1 = 345\n",
    "print(a_1)"
   ]
  },
  {
   "cell_type": "code",
   "execution_count": 38,
   "id": "a452396f-ab09-4f71-b161-c03ce8aed753",
   "metadata": {},
   "outputs": [
    {
     "name": "stdout",
     "output_type": "stream",
     "text": [
      "5.756666666666667\n"
     ]
    }
   ],
   "source": [
    "abc123xyz  = 34.54/6\n",
    "print(abc123xyz)"
   ]
  },
  {
   "cell_type": "markdown",
   "id": "7cbdfff7-7ec8-4499-a1e3-5af981490282",
   "metadata": {},
   "source": [
    "#### Note : A variable cannot be any special symbols"
   ]
  },
  {
   "cell_type": "code",
   "execution_count": 39,
   "id": "a5a09372-505c-443a-8892-2a490b7afd3d",
   "metadata": {},
   "outputs": [
    {
     "ename": "SyntaxError",
     "evalue": "invalid syntax (1103374149.py, line 1)",
     "output_type": "error",
     "traceback": [
      "\u001b[1;36m  Cell \u001b[1;32mIn[39], line 1\u001b[1;36m\u001b[0m\n\u001b[1;33m    &$% = 3\u001b[0m\n\u001b[1;37m    ^\u001b[0m\n\u001b[1;31mSyntaxError\u001b[0m\u001b[1;31m:\u001b[0m invalid syntax\n"
     ]
    }
   ],
   "source": [
    "&$% = 3\n",
    "print(&$%)"
   ]
  },
  {
   "cell_type": "code",
   "execution_count": 40,
   "id": "e07abb4a-cb3b-43fd-83fa-44e41ff30660",
   "metadata": {},
   "outputs": [
    {
     "ename": "SyntaxError",
     "evalue": "invalid syntax (1607490560.py, line 1)",
     "output_type": "error",
     "traceback": [
      "\u001b[1;36m  Cell \u001b[1;32mIn[40], line 1\u001b[1;36m\u001b[0m\n\u001b[1;33m    abc&$% = 3\u001b[0m\n\u001b[1;37m        ^\u001b[0m\n\u001b[1;31mSyntaxError\u001b[0m\u001b[1;31m:\u001b[0m invalid syntax\n"
     ]
    }
   ],
   "source": [
    "abc&$% = 3\n",
    "print(abc&$%)"
   ]
  },
  {
   "cell_type": "markdown",
   "id": "39f3f2c1-b5f3-46d7-b302-0e95c8bc08b2",
   "metadata": {},
   "source": [
    "# 4) Variable names are case-sensitive (age, Age and AGE are three different variables)"
   ]
  },
  {
   "cell_type": "code",
   "execution_count": 1,
   "id": "76c111a1-96a3-4ac8-bad1-da9051a26344",
   "metadata": {},
   "outputs": [
    {
     "name": "stdout",
     "output_type": "stream",
     "text": [
      "John\n",
      "Ramesh\n",
      "Vijay\n"
     ]
    }
   ],
   "source": [
    "                                               # Camel Case\n",
    "                                     # Each word, except the first, starts with a capital letter:\n",
    "myVariableName = \"John\"\n",
    "                                              # Pascal Case\n",
    "                                     # Each word starts with a capital letter:\n",
    "MyVariableName = \"Ramesh\"\n",
    "                                                # Snake Case\n",
    "                                    # Each word is separated by an underscore character:\n",
    "my_variable_name = \"Vijay\"\n",
    "\n",
    "print(myVariableName)\n",
    "print(MyVariableName)\n",
    "print(my_variable_name)"
   ]
  },
  {
   "cell_type": "code",
   "execution_count": 41,
   "id": "8e2533dc-ab13-4277-b0b1-b338dd9f5127",
   "metadata": {},
   "outputs": [
    {
     "name": "stdout",
     "output_type": "stream",
     "text": [
      "45\n",
      "34\n",
      "23\n",
      "28\n"
     ]
    }
   ],
   "source": [
    "age = 45\n",
    "Age = 34\n",
    "AgE = 23\n",
    "AGE = 28\n",
    "print(age)\n",
    "print(Age)\n",
    "print(AgE)\n",
    "print(AGE)"
   ]
  },
  {
   "cell_type": "markdown",
   "id": "d26b66bc-b71a-4d15-abf4-e6081df2a2d2",
   "metadata": {},
   "source": [
    "# 5) A variable cannot be any of python keywords\n",
    "#### _if , else , while , for , def , print , class , import , return , True , False , and None._  \n",
    "#### _Attempting to assign a value to a keyword will result in an error :_\n",
    "# A variable cannot be any of python Data types like , string ,  int , float, bool\n",
    "#### _any data type as a vraibale can give you an output but you will rise an error for other task and you get errors like ,  __'int'__ cannot be callable or __'str'__ cannot be callable_"
   ]
  },
  {
   "cell_type": "code",
   "execution_count": null,
   "id": "a38d4f84-9e33-40ae-b001-b87dfc3ad3b1",
   "metadata": {},
   "outputs": [],
   "source": [
    "                # int = \"helllo\"\n",
    "print(int)"
   ]
  },
  {
   "cell_type": "code",
   "execution_count": null,
   "id": "03f18649-0ab6-4a50-bf51-0aabf7bfbb67",
   "metadata": {},
   "outputs": [],
   "source": [
    "# float = 5\n",
    "# print(float)"
   ]
  },
  {
   "cell_type": "code",
   "execution_count": null,
   "id": "e6d45f9c-b4a3-4dfc-8598-d4860a3fc924",
   "metadata": {},
   "outputs": [],
   "source": [
    "# float = 56.8\n",
    "# print(float)"
   ]
  },
  {
   "cell_type": "code",
   "execution_count": null,
   "id": "be8d8fae-2a97-4337-ac4d-dabc7dd8d716",
   "metadata": {},
   "outputs": [],
   "source": [
    "# def = 'Hello'\n",
    "# print(def)"
   ]
  },
  {
   "cell_type": "code",
   "execution_count": null,
   "id": "291c4b4e-f792-4e4e-a1e9-5b5f4dee9c23",
   "metadata": {},
   "outputs": [],
   "source": [
    "# print = 435   # print is one of python builtin keywords\n",
    "# print(type(print))"
   ]
  },
  {
   "cell_type": "markdown",
   "id": "ae8eab29-39c4-46d7-acbf-47bc0a485bde",
   "metadata": {},
   "source": [
    "# Packing : \n",
    "### _Packing allows multiple values to be combined into a single parameter using * (for tuples/lists) and ** (for dictionaries)._"
   ]
  },
  {
   "cell_type": "code",
   "execution_count": 4,
   "id": "4d2ae769-a5c9-4db6-882e-e3e7141562f5",
   "metadata": {},
   "outputs": [
    {
     "name": "stdout",
     "output_type": "stream",
     "text": [
      "(156, 'Hello', 365)\n"
     ]
    }
   ],
   "source": [
    "num1 = 156                     # Pacing a List\n",
    "num2 = \"Hello\"\n",
    "num3 = 365\n",
    "number = [num1, num2, num3]\n",
    "print(number)"
   ]
  },
  {
   "cell_type": "code",
   "execution_count": 5,
   "id": "cba754ee-0712-48ee-9924-6a62dad5fcfd",
   "metadata": {},
   "outputs": [
    {
     "name": "stdout",
     "output_type": "stream",
     "text": [
      "(1, 2, 3)\n"
     ]
    }
   ],
   "source": [
    "num1 = 1                       # Pacing a Tuple\n",
    "num2 = 2\n",
    "num3 = 3\n",
    "number = (num1, num2, num3)\n",
    "print(number)"
   ]
  },
  {
   "cell_type": "code",
   "execution_count": 5,
   "id": "f4b7e4f4-8fe1-4be6-b0f3-458c0b2780bb",
   "metadata": {},
   "outputs": [
    {
     "name": "stdout",
     "output_type": "stream",
     "text": [
      "{56.8, 'Hello', 'im from hyderabad'}\n"
     ]
    }
   ],
   "source": [
    "x = \"Hello\"                             # Packing a Set\n",
    "y = 56.8\n",
    "z = 'im from hyderabad'\n",
    "\n",
    "a = {x, y, z}\n",
    "print(a)"
   ]
  },
  {
   "cell_type": "markdown",
   "id": "1c66bc80-d305-4da1-9c0e-eb5e1488fdbe",
   "metadata": {},
   "source": [
    "# _Unpacking :_\n",
    "### _Unpacking allows values from an iterable (list, tuple, or dictionary) to be passed as separate arguments to a function._"
   ]
  },
  {
   "cell_type": "code",
   "execution_count": 24,
   "id": "4085175b-cada-48ef-8e68-3888e68405c5",
   "metadata": {},
   "outputs": [
    {
     "name": "stdout",
     "output_type": "stream",
     "text": [
      "apple\n",
      "banana\n",
      "cherry\n"
     ]
    }
   ],
   "source": [
    "                                             # UnPacking a String\n",
    "fruits = \"apple\", \"banana\", \"cherry\"\n",
    "x, y, z = fruits\n",
    "print(x)\n",
    "print(y)\n",
    "print(z)\n"
   ]
  },
  {
   "cell_type": "code",
   "execution_count": 17,
   "id": "f3aef6f6-51a8-45c9-a9f5-6a19ad01466d",
   "metadata": {},
   "outputs": [
    {
     "name": "stdout",
     "output_type": "stream",
     "text": [
      "apple\n",
      "banana\n",
      "cherry\n"
     ]
    }
   ],
   "source": [
    "fruits = (\"apple\", \"banana\", \"cherry\")             # Unpacking a Tuple\n",
    "(green, yellow, red) = fruits\n",
    " \n",
    "print(green)\n",
    "print(yellow)\n",
    "print(red)"
   ]
  },
  {
   "cell_type": "code",
   "execution_count": 2,
   "id": "ab3e9f85-c294-4d16-9df6-490a30d5d950",
   "metadata": {},
   "outputs": [
    {
     "name": "stdout",
     "output_type": "stream",
     "text": [
      "[10, 20, 30]\n",
      "20\n"
     ]
    }
   ],
   "source": [
    "myList = [10, 20, 30]                  # Unpacking a list\n",
    "a, b, c = myList\n",
    "print(myList)\n",
    "print(b)"
   ]
  },
  {
   "cell_type": "code",
   "execution_count": 7,
   "id": "18ca7ccc-ca30-435c-96a7-1cc67f0f0c2b",
   "metadata": {},
   "outputs": [
    {
     "name": "stdout",
     "output_type": "stream",
     "text": [
      "dict_values(['Jack', 'Wallen', 'USA'])\n"
     ]
    }
   ],
   "source": [
    "myDict = {'fname': 'Jack', 'lname': 'Wallen', 'country': 'USA'}      # Unpacking a Dict\n",
    "fname, lname, country = myDict.values()\n",
    "print(myDict.values())"
   ]
  },
  {
   "cell_type": "code",
   "execution_count": 2,
   "id": "79e3d037-5556-413a-aa46-dcdffe15d86d",
   "metadata": {},
   "outputs": [
    {
     "name": "stdout",
     "output_type": "stream",
     "text": [
      "Orange\n",
      "Orange\n",
      "Orange\n"
     ]
    }
   ],
   "source": [
    "                                # One Value to Multiple Variables\n",
    "                                # And you can assign the same value to multiple variables in one line:\n",
    "\n",
    "x = y = z = \"Orange\"\n",
    "print(x)\n",
    "print(y)\n",
    "print(z)"
   ]
  },
  {
   "cell_type": "code",
   "execution_count": 46,
   "id": "6cfb9bb8-4511-4889-8947-b9c84d7871d6",
   "metadata": {},
   "outputs": [
    {
     "name": "stdout",
     "output_type": "stream",
     "text": [
      "Orange\n",
      "Banana\n",
      "Cherry\n"
     ]
    }
   ],
   "source": [
    "                  # Many Values to Multiple Variables\n",
    "                  # Python allows you to assign values to multiple variables in one line\n",
    "\n",
    "x, y, z = (\"Orange\", \"Banana\", \"Cherry\")\n",
    "print(x)\n",
    "print(y)\n",
    "print(z)"
   ]
  },
  {
   "cell_type": "markdown",
   "id": "7a75a521-5c5b-474c-99b9-8d7b82afce28",
   "metadata": {},
   "source": [
    "# ➩ Python Local and Global Variables\n",
    "### _Variables that are created outside of a function are known as global variables._\n",
    "### _Global variables can be used by everyone, both inside of functions and outside._\n",
    "#### _If you create a variable with the same name inside a function, this variable will be local, and can only be used inside the function. The global variable with the same name will remain as it was, global and with the original value._"
   ]
  },
  {
   "cell_type": "code",
   "execution_count": 6,
   "id": "5979e133-4114-4dd0-b42f-37cc8a96c65b",
   "metadata": {},
   "outputs": [
    {
     "name": "stdout",
     "output_type": "stream",
     "text": [
      "I am local\n"
     ]
    }
   ],
   "source": [
    "def my_function():\n",
    "    local_variable = \"I am local\"  # This is a local variable\n",
    "    print(local_variable)\n",
    "\n",
    "my_function()"
   ]
  },
  {
   "cell_type": "code",
   "execution_count": 7,
   "id": "3cced914-47a3-4f72-9197-35d0ede46639",
   "metadata": {},
   "outputs": [],
   "source": [
    "def my_function():\n",
    "    local_variable = \"I am local\"  # This is a local variable\n",
    "    print(local_variable)\n",
    "\n",
    "    my_function()\n",
    "\n",
    "    # print(local_variable) # This would raise a NameError because local_variable is not defined outside the function"
   ]
  },
  {
   "cell_type": "code",
   "execution_count": 5,
   "id": "1b6d5bf0-aee1-4348-995b-df98258bb738",
   "metadata": {},
   "outputs": [
    {
     "name": "stdout",
     "output_type": "stream",
     "text": [
      "Python is awesome\n"
     ]
    }
   ],
   "source": [
    "x = \"awesome\"\n",
    "def myfunc():                                 \n",
    "  print(\"Python is \" + x)\n",
    "myfunc()"
   ]
  },
  {
   "cell_type": "code",
   "execution_count": 9,
   "id": "9070473d-09e6-4e22-81d3-8d0e6ce7b766",
   "metadata": {},
   "outputs": [
    {
     "name": "stdout",
     "output_type": "stream",
     "text": [
      "I am global\n",
      "I have been modified globally\n"
     ]
    }
   ],
   "source": [
    "global_variable = \"I am global\"  # This is a global variable\n",
    "\n",
    "def another_function():\n",
    "    print(global_variable)  # Can access the global variable\n",
    "\n",
    "def modify_global():\n",
    "    global global_variable  # Declare intent to modify the global variable\n",
    "    global_variable = \"I have been modified globally\"\n",
    "\n",
    "another_function()\n",
    "modify_global()\n",
    "print(global_variable)"
   ]
  },
  {
   "cell_type": "code",
   "execution_count": 6,
   "id": "8d1d831a-3e87-48dc-89d5-a9d123fdcb01",
   "metadata": {},
   "outputs": [
    {
     "name": "stdout",
     "output_type": "stream",
     "text": [
      "Python is fantastic\n",
      "Python is awesome\n"
     ]
    }
   ],
   "source": [
    "# Create a variable inside a function, with the same name as the global variable\n",
    "\n",
    "x = \"awesome\"\n",
    "\n",
    "def myfunc():\n",
    "  x = \"fantastic\"\n",
    "  print(\"Python is \" + x)\n",
    "\n",
    "myfunc()\n",
    "print(\"Python is \" + x)"
   ]
  },
  {
   "cell_type": "markdown",
   "id": "d13f91dd-06a0-4342-9321-a3f2531a8933",
   "metadata": {},
   "source": [
    "# ➩➩ __DataTypes in Python__\n",
    "### _Variables can store data of different types, and different types can do different things._"
   ]
  },
  {
   "cell_type": "code",
   "execution_count": null,
   "id": "41e87c2c-1cb9-4c36-bd41-38862db48522",
   "metadata": {},
   "outputs": [],
   "source": [
    "Text Type       :  str \n",
    "Numeric Types   :  int, float, complex  \n",
    "Sequence Types  :  list, tuple, range  \n",
    "Mapping Type    :  dict  \n",
    "Set Types       :  set, frozenset  \n",
    "Boolean Type    :  bool  \n",
    "Binary Types    :  bytes, bytearray, memoryview  \n",
    "None Type       :  NoneType"
   ]
  },
  {
   "cell_type": "code",
   "execution_count": 1,
   "id": "633ff038-ed04-443d-ba8e-60305d3146f3",
   "metadata": {},
   "outputs": [
    {
     "name": "stdout",
     "output_type": "stream",
     "text": [
      "<class 'int'>\n",
      "<class 'float'>\n",
      "<class 'str'>\n",
      "<class 'bool'> <class 'bool'>\n"
     ]
    }
   ],
   "source": [
    "x = -5            # integer - whole numbers(either negative or positive)\n",
    "print(  type(x) )\n",
    "\n",
    "y = 5.83          # float - all the decimal values are known as float\n",
    "print(type(y))\n",
    "   \n",
    "z = \"hello\"       # string - all the letters, words, sentences, text\n",
    "print( type(z) )\n",
    "\n",
    "a = True\n",
    "b = False         # boolean - they just have2 values; True or False\n",
    "\n",
    "print( type(a),    type(b))"
   ]
  },
  {
   "cell_type": "markdown",
   "id": "13bb76d6-3afb-4ea7-b7f8-6382ce9d3c69",
   "metadata": {},
   "source": [
    "# ➩  __Python Numbers__\n",
    "### _There are three numeric types in Python :_\n",
    "\n",
    "### __int , float , complex__\n",
    "\n",
    "### _Variables of numeric types are created when you assign a value to them :_"
   ]
  },
  {
   "cell_type": "code",
   "execution_count": null,
   "id": "0653bd14-d4ee-4c29-bcfb-362250e67eee",
   "metadata": {},
   "outputs": [],
   "source": [
    "# In Python, the data type is set when you assign a value to a variable :\n",
    "\n",
    "# ExampleData Type\t\n",
    "\n",
    "x =  \"Hello World\"\tstr\t\n",
    "x =  20\t         int\t\n",
    "x =  20.5\t         float\t\n",
    "x =  1j\t           complex\t\n",
    "x =  [\"apple\", \"banana\", \"cherry\"]     \tlist\t\n",
    "x =  (\"apple\", \"banana\", \"cherry\")      \ttuple\t\n",
    "x =  range(6)       \trange\t\n",
    "x =  {\"name\" : \"John\", \"age\" : 36}\t  dict\t\n",
    "x =  {\"apple\", \"banana\", \"cherry\"}    \tset\t\n",
    "x =  frozenset({\"apple\", \"banana\", \"cherry\"})\t frozenset\t\n",
    "x =  True\t  bool\t\n",
    "x =  b\"Hello\"  \tbytes\t\n",
    "x =  bytearray(5)\t  bytearray\t\n",
    "x =  memoryview(bytes(5))    \tmemoryview\t\n",
    "x =  None\t  NoneType"
   ]
  },
  {
   "cell_type": "code",
   "execution_count": 25,
   "id": "ff268150-58d0-4ad2-8914-ab162c676a86",
   "metadata": {},
   "outputs": [
    {
     "name": "stdout",
     "output_type": "stream",
     "text": [
      "1.0\n",
      "2\n",
      "(1+0j)\n",
      "<class 'float'>\n",
      "<class 'int'>\n",
      "<class 'complex'>\n"
     ]
    }
   ],
   "source": [
    "x = 1           # int\n",
    "y = 2.8         # float\n",
    "z = 1j          # complex\n",
    "\n",
    "a = float(x)       # convert from int to float :\n",
    "b = int(y)         # convert from float to int :\n",
    "c = complex(x)     # convert from int to complex :\n",
    "\n",
    "print(a)\n",
    "print(b)\n",
    "print(c)\n",
    "\n",
    "print(type(a))\n",
    "print(type(b))\n",
    "print(type(c))"
   ]
  },
  {
   "cell_type": "markdown",
   "id": "e39b762b-4da0-4fb6-8158-5a34b4b0472d",
   "metadata": {},
   "source": [
    "### ___Note :__ You cannot convert complex numbers into another number type._ ⮨"
   ]
  },
  {
   "cell_type": "code",
   "execution_count": 2,
   "id": "9fddfc90-1b22-46e8-a17f-87220ecc4c29",
   "metadata": {},
   "outputs": [
    {
     "name": "stdout",
     "output_type": "stream",
     "text": [
      "2\n",
      "<class 'int'>\n",
      "5.6\n",
      "<class 'float'>\n",
      "my name is Vijay\n",
      "<class 'str'>\n"
     ]
    }
   ],
   "source": [
    "a = 2\n",
    "b = 5.6\n",
    "c = \"my name is Vijay\"\n",
    "print(a)\n",
    "print(type(a))\n",
    "print(b)\n",
    "print(type(b))\n",
    "print(c)\n",
    "print(type(c))"
   ]
  },
  {
   "cell_type": "code",
   "execution_count": 16,
   "id": "96de54c4-970b-43b8-90a6-eefdf951b28e",
   "metadata": {},
   "outputs": [
    {
     "name": "stdout",
     "output_type": "stream",
     "text": [
      "[5, 6, 7, 8]\n",
      "<class 'list'>\n"
     ]
    }
   ],
   "source": [
    "b = [5,6,7,8]\n",
    "print(b)\n",
    "print(type(b))"
   ]
  },
  {
   "cell_type": "code",
   "execution_count": 18,
   "id": "33cc9f1e-f42c-4560-a25d-1e90338e4874",
   "metadata": {},
   "outputs": [
    {
     "name": "stdout",
     "output_type": "stream",
     "text": [
      "(3, 44, 5.6) <class 'tuple'>\n"
     ]
    }
   ],
   "source": [
    "c = (3,44,5.6)\n",
    "print(c,type(c))"
   ]
  },
  {
   "cell_type": "code",
   "execution_count": 19,
   "id": "bf74849b-1810-4e16-91bb-d174f64befa1",
   "metadata": {},
   "outputs": [
    {
     "name": "stdout",
     "output_type": "stream",
     "text": [
      "(2+4j)\n",
      "<class 'complex'>\n"
     ]
    }
   ],
   "source": [
    "num = 2+4j             # 4j is expected value\n",
    "print(num)\n",
    "print(type(num))"
   ]
  },
  {
   "cell_type": "code",
   "execution_count": 22,
   "id": "1c1cef7e-bbf6-4706-99e9-8b6ca73d8fe3",
   "metadata": {},
   "outputs": [
    {
     "name": "stdout",
     "output_type": "stream",
     "text": [
      "True\n",
      "<class 'bool'>\n",
      "False\n",
      "<class 'bool'>\n"
     ]
    }
   ],
   "source": [
    "num1  = True\n",
    "num2 = False\n",
    "print(num1)\n",
    "print(type(num1))\n",
    "print(num2)\n",
    "print(type(num2))"
   ]
  },
  {
   "cell_type": "markdown",
   "id": "53b463db-87c3-488a-b328-1975afc161cb",
   "metadata": {},
   "source": [
    "# ➩➩ __TypeCasting in Python  -  [ Casting ]__\n",
    "\n",
    "## Casting in Python, also known as type conversion, is the process of changing the data type of a value or variable from one type to another.\n",
    "### Casting in python is therefore done using constructor functions:\n",
    "\n",
    "##### ___int()__ - constructs an integer number from an integer literal, a float literal (by removing all decimals), or a string literal (providing the string represents a whole number)_\n",
    "\n",
    "##### ___float()__ - constructs a float number from an integer literal, a float literal or a string literal (providing the string represents a float or an integer)_\n",
    "\n",
    "##### ___str()__ - constructs a string from a wide variety of data types, including strings, integer literals and float literals._"
   ]
  },
  {
   "cell_type": "code",
   "execution_count": 26,
   "id": "4153fc56-2b7c-4ef9-b5ac-df3166ed5f29",
   "metadata": {},
   "outputs": [
    {
     "name": "stdout",
     "output_type": "stream",
     "text": [
      "1\n",
      "2\n",
      "3\n"
     ]
    }
   ],
   "source": [
    "                                    # Integers :\n",
    "x = int(1)         # x will be 1\n",
    "y = int(2.8)       # y will be 2\n",
    "z = int(\"3\")       # z will be 3\n",
    "\n",
    "print(x)\n",
    "print(y)\n",
    "print(z)"
   ]
  },
  {
   "cell_type": "code",
   "execution_count": 27,
   "id": "81918521-52f5-4374-9806-fec2b9b4dd24",
   "metadata": {},
   "outputs": [
    {
     "name": "stdout",
     "output_type": "stream",
     "text": [
      "1.0\n",
      "2.8\n",
      "3.0\n",
      "4.2\n"
     ]
    }
   ],
   "source": [
    "                                       # Floats :\n",
    "x = float(1)       # x will be 1.0\n",
    "y = float(2.8)     # y will be 2.8\n",
    "z = float(\"3\")     # z will be 3.0\n",
    "w = float(\"4.2\")   # w will be 4.2\n",
    "\n",
    "print(x)\n",
    "print(y)\n",
    "print(z)\n",
    "print(w)"
   ]
  },
  {
   "cell_type": "code",
   "execution_count": 28,
   "id": "56fbfbc9-5e85-46b1-a6d0-459c5f3f9915",
   "metadata": {},
   "outputs": [
    {
     "name": "stdout",
     "output_type": "stream",
     "text": [
      "s1\n",
      "2\n",
      "3.0\n"
     ]
    }
   ],
   "source": [
    "                                         # Strings :\n",
    "x = str(\"s1\") # x will be 's1'\n",
    "y = str(2)    # y will be '2'\n",
    "z = str(3.0)  # z will be '3.0'\n",
    "\n",
    "print(x)\n",
    "print(y)\n",
    "print(z)"
   ]
  },
  {
   "cell_type": "code",
   "execution_count": 3,
   "id": "3eb49d6a-ab2b-4b43-8750-8e52ac86b864",
   "metadata": {},
   "outputs": [
    {
     "name": "stdout",
     "output_type": "stream",
     "text": [
      "<class 'str'>\n"
     ]
    }
   ],
   "source": [
    "z = \"hello\"         # string - all the letters, words, sentences, text\n",
    "print( type(z) )"
   ]
  },
  {
   "cell_type": "code",
   "execution_count": 4,
   "id": "d38b443f-fd97-4f6a-91e5-cc32b4f3c817",
   "metadata": {},
   "outputs": [
    {
     "name": "stdout",
     "output_type": "stream",
     "text": [
      "5\n",
      "<class 'int'>\n",
      "5.0\n",
      "<class 'float'>\n",
      "6.83\n",
      "<class 'float'>\n",
      "6\n",
      "<class 'int'>\n"
     ]
    }
   ],
   "source": [
    "x = 5\n",
    "print(x)\n",
    "print(type(x))\n",
    "\n",
    "                     # converting x into float\n",
    "x = float(x)\n",
    "print(x)\n",
    "print(type(x))\n",
    "\n",
    "y = 6.83\n",
    "print(y)\n",
    "print(type(y))\n",
    "\n",
    "                     # converting y into integer\n",
    "y = int(y)\n",
    "print(y)\n",
    "print(type(y))"
   ]
  },
  {
   "cell_type": "markdown",
   "id": "a805af7f-358b-4834-82db-66a3c9907fad",
   "metadata": {},
   "source": [
    "#### _String variables can be declared either by using single or double quotes :_ ⮯"
   ]
  },
  {
   "cell_type": "code",
   "execution_count": 5,
   "id": "ee409a1e-7d69-4428-8267-a8184f506c4c",
   "metadata": {},
   "outputs": [
    {
     "name": "stdout",
     "output_type": "stream",
     "text": [
      "John\n"
     ]
    }
   ],
   "source": [
    "x = \"John\"                     # x is the same as x\n",
    "x = 'John'\n",
    "print(x)"
   ]
  },
  {
   "cell_type": "code",
   "execution_count": 6,
   "id": "121baea9-91b2-4b22-81cb-dea76dd0749d",
   "metadata": {},
   "outputs": [
    {
     "name": "stdout",
     "output_type": "stream",
     "text": [
      "3 3\n"
     ]
    }
   ],
   "source": [
    "# If you want to specify the data type of a variable, this can be done with casting.\n",
    "\n",
    "x = str(3)    # x will be '3'\n",
    "y = int(3)    # y will be 3\n",
    "z = float(3)  # z will be 3.0\n",
    "\n",
    "print(x, y)\n"
   ]
  },
  {
   "cell_type": "markdown",
   "id": "d18a5db3-d765-4057-bf6f-d75f28b09889",
   "metadata": {},
   "source": [
    "# ➩➩ __User input__\n",
    "### _Python allows for __user input__. That means we are able to ask the user for input._\n",
    "### _The __input()__ function is used to obtain data from the user during program execution._"
   ]
  },
  {
   "cell_type": "code",
   "execution_count": 8,
   "id": "3f30383d-eb0b-4691-90dc-a777c4444c9f",
   "metadata": {},
   "outputs": [
    {
     "name": "stdin",
     "output_type": "stream",
     "text": [
      "type your name here :  Ranvijay \n"
     ]
    },
    {
     "name": "stdout",
     "output_type": "stream",
     "text": [
      "I am Ranvijay \n"
     ]
    }
   ],
   "source": [
    "name = input('type your name here : ')     # this input will be string\n",
    "print(\"I am\", name)"
   ]
  },
  {
   "cell_type": "code",
   "execution_count": 8,
   "id": "af8f68ad-9a28-4fe7-852e-f949e3ac01d5",
   "metadata": {},
   "outputs": [
    {
     "name": "stdin",
     "output_type": "stream",
     "text": [
      "type a number here 456\n",
      "type another number 567\n"
     ]
    },
    {
     "name": "stdout",
     "output_type": "stream",
     "text": [
      "1023.0\n"
     ]
    }
   ],
   "source": [
    "x = int( input('type a number here') )\n",
    "y = float( input('type another number') )\n",
    "\n",
    "print(x+y)"
   ]
  },
  {
   "cell_type": "code",
   "execution_count": 10,
   "id": "56e32a4f-1426-4be0-98ed-8aa6b70ef1d9",
   "metadata": {},
   "outputs": [
    {
     "name": "stdin",
     "output_type": "stream",
     "text": [
      "What is your age? 28\n"
     ]
    },
    {
     "name": "stdout",
     "output_type": "stream",
     "text": [
      "33\n"
     ]
    }
   ],
   "source": [
    "age = int(input('What is your age?'))\n",
    "print(age+5)"
   ]
  },
  {
   "cell_type": "code",
   "execution_count": null,
   "id": "d0b99551-b04a-4c32-84f7-aa0725b44d24",
   "metadata": {},
   "outputs": [],
   "source": [
    "# EXAMPLE PROBLEM 1 : \n",
    "\n",
    "A teacher told students to write an essay on themselves. Nidhi created a python program that can generate an essay just by taking inputs.   \n",
    "She shared the program with her friends to help them.   \n",
    "Write a python program that can take inputs like name, age, address, etc, and convert it into an essay."
   ]
  },
  {
   "cell_type": "code",
   "execution_count": 7,
   "id": "487fb7f3-4e90-4984-ac3b-433f30f9973a",
   "metadata": {},
   "outputs": [
    {
     "name": "stdin",
     "output_type": "stream",
     "text": [
      "type your name here:  Ranvijay \n",
      "What is your age? 28\n",
      "type your address here:  Hyderabad \n"
     ]
    },
    {
     "name": "stdout",
     "output_type": "stream",
     "text": [
      "My name is Ranvijay  I am 28 years old. I live in Hyderabad \n",
      "My name is Ranvijay  I am 28 years old. I live in Hyderabad \n",
      "My name is Ranvijay  I am 28 years old. I live in Hyderabad \n"
     ]
    }
   ],
   "source": [
    "name = input('type your name here: ')\n",
    "age=int(input('What is your age?'))\n",
    "add = input('type your address here: ')\n",
    "\n",
    "print('My name is', name, 'I am', age, 'years old.', 'I live in', add)\n",
    "\n",
    "        # string formatting\n",
    "\n",
    "print(f\"My name is {name} I am {age} years old. I live in {add}\")\n",
    "print(\"My name is {} I am {} years old. I live in {}\".format(name, age, add))\n"
   ]
  },
  {
   "cell_type": "code",
   "execution_count": null,
   "id": "67638ab2-bfba-4713-97c4-bd1c2331db34",
   "metadata": {},
   "outputs": [],
   "source": [
    "# PROBLEM  2 : \n",
    "\n",
    "Himanshu sells notebooks. Sometimes it becomes a bit difficult for him to calculate the total amount to\n",
    "charge from the customer. To help Himanshu create a program that asks the user to enter the number\n",
    "of books to buy and then print the amount to be paid.\n",
    "● Hint: Assume the cost of one notebook - $2"
   ]
  },
  {
   "cell_type": "code",
   "execution_count": 14,
   "id": "97092168-60ee-48f3-be38-bbd2fe7e663d",
   "metadata": {},
   "outputs": [
    {
     "name": "stdin",
     "output_type": "stream",
     "text": [
      "how many notebooks are you selling?  5\n"
     ]
    },
    {
     "name": "stdout",
     "output_type": "stream",
     "text": [
      "you need to pay 10\n"
     ]
    }
   ],
   "source": [
    "notebooks = int(input('how many notebooks are you selling? '))\n",
    "price = 2\n",
    "\n",
    "total = notebooks*price\n",
    "print('you need to pay', total)"
   ]
  },
  {
   "cell_type": "code",
   "execution_count": null,
   "id": "62254b28-b8a7-4aad-ab98-73006e740631",
   "metadata": {},
   "outputs": [],
   "source": [
    "# PROBLEM : 3\n",
    "\n",
    "Rakshita wants to calculate her age. So she subtracted her year of birth from the current year. Her\n",
    "classmates also wanted to find their age in the same way. So she decides to write a python program\n",
    "where students can input their year of birth, then the program will print their age. Write the same\n",
    "program to find your age and help your classmates in finding their age."
   ]
  },
  {
   "cell_type": "code",
   "execution_count": 15,
   "id": "a44ec606-04c9-4c28-93a2-221f6fb8a99d",
   "metadata": {},
   "outputs": [
    {
     "name": "stdin",
     "output_type": "stream",
     "text": [
      "What is your birthyear? 1997\n"
     ]
    },
    {
     "name": "stdout",
     "output_type": "stream",
     "text": [
      "28\n"
     ]
    }
   ],
   "source": [
    "birthyear=int(input('What is your birthyear?'))\n",
    "age = 2025-birthyear\n",
    "print(age)"
   ]
  },
  {
   "cell_type": "code",
   "execution_count": null,
   "id": "41f7506a-5858-4ff3-bd36-21d42e284368",
   "metadata": {},
   "outputs": [],
   "source": [
    "# PROBLEM : 4 \n",
    "Rakshita wants to create a simple chatbot using python language. Write a program in python to help Rakshita in creating the\n",
    "chatbot.\n",
    "● Hint: with the help of variables store the answers of the user and use it for further conversation by the chatbot.\n",
    "● Example :\n",
    "● >>\n",
    "● Hi, I am a chatbot. What is your name?\n",
    "● >>Nidhi\n",
    "● Oh, Nidhi in which grade you are right now?\n",
    "● >>8\n",
    "● Nidhi you are in 8th grade. Can I ask you one question? yes or no?\n",
    "● >>yes\n",
    "● Tell me 1024+98=?\n",
    "● >>1122\n",
    "● Good! Your answer is correct. Bye\n",
    "● >>bye"
   ]
  },
  {
   "cell_type": "code",
   "execution_count": 8,
   "id": "cf729a4c-476d-4536-af77-38fb55ff6428",
   "metadata": {},
   "outputs": [
    {
     "name": "stdin",
     "output_type": "stream",
     "text": [
      "Hi, I am a chatbot. What is your name ? : Ranvijay \n"
     ]
    },
    {
     "name": "stdout",
     "output_type": "stream",
     "text": [
      "Oh, Ranvijay  in which grade you are right now ? : \n"
     ]
    },
    {
     "name": "stdin",
     "output_type": "stream",
     "text": [
      " 13\n"
     ]
    },
    {
     "name": "stdout",
     "output_type": "stream",
     "text": [
      "Ranvijay  you are in 13 grade. :\n"
     ]
    },
    {
     "name": "stdin",
     "output_type": "stream",
     "text": [
      "Can I ask you one question ? Yes or No ? :  Yes\n"
     ]
    },
    {
     "name": "stdout",
     "output_type": "stream",
     "text": [
      "Tell Me 1024 + 98 = ?\n"
     ]
    },
    {
     "name": "stdin",
     "output_type": "stream",
     "text": [
      " 1122\n"
     ]
    },
    {
     "name": "stdout",
     "output_type": "stream",
     "text": [
      "Good! Your answer is correct. Bye\n"
     ]
    },
    {
     "name": "stdin",
     "output_type": "stream",
     "text": [
      " bye\n"
     ]
    },
    {
     "name": "stdout",
     "output_type": "stream",
     "text": [
      "bye\n"
     ]
    }
   ],
   "source": [
    "bot =  str(input('Hi, I am a chatbot. What is your name ? :'))\n",
    "print('Oh,', bot, 'in which grade you are right now ? : ')\n",
    "grade = int(input())\n",
    "print(bot, 'you are in', grade, 'grade. :') \n",
    "qtn = input('Can I ask you one question ? Yes or No ? : ')\n",
    "if qtn == 'Yes'or 'Sure':\n",
    "    print('Tell Me 1024 + 98 = ?')\n",
    "else:\n",
    "    print('Bye!', bot)\n",
    "answer = int(input())\n",
    "if answer == 1122:\n",
    "    print('Good! Your answer is correct.')\n",
    "else:\n",
    "    print('Oops!! Your Answer is Wrong. Bye')\n",
    "b = str(input())\n",
    "print(b)\n"
   ]
  },
  {
   "cell_type": "code",
   "execution_count": null,
   "id": "19072345-791c-4d35-b6a1-1b06741b3118",
   "metadata": {},
   "outputs": [],
   "source": []
  }
 ],
 "metadata": {
  "kernelspec": {
   "display_name": "Python 3 (ipykernel)",
   "language": "python",
   "name": "python3"
  },
  "language_info": {
   "codemirror_mode": {
    "name": "ipython",
    "version": 3
   },
   "file_extension": ".py",
   "mimetype": "text/x-python",
   "name": "python",
   "nbconvert_exporter": "python",
   "pygments_lexer": "ipython3",
   "version": "3.12.7"
  }
 },
 "nbformat": 4,
 "nbformat_minor": 5
}
