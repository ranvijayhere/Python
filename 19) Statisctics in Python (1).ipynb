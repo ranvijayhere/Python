{
 "cells": [
  {
   "cell_type": "markdown",
   "id": "14d4dd24-87b6-45b2-bb7f-fb6ce6cb885a",
   "metadata": {},
   "source": [
    "# 19) __Statistics with Python__"
   ]
  },
  {
   "cell_type": "markdown",
   "id": "bd2cdd5b-591b-475f-ab69-0bee7a974057",
   "metadata": {},
   "source": [
    "# ➩  Mean\n",
    "\n",
    "### _The __mean()__ function returns the mean or average of the data passed in its arguments_ ."
   ]
  },
  {
   "cell_type": "code",
   "execution_count": 1,
   "id": "74330ef7-8c95-4659-bb9a-261316970e7a",
   "metadata": {},
   "outputs": [
    {
     "name": "stdout",
     "output_type": "stream",
     "text": [
      "45500.0\n"
     ]
    }
   ],
   "source": [
    "# program to find Average\n",
    "\n",
    "salary = [24000, 35000, 57000, 39000, 76000, 42000]\n",
    "mean = sum(salary)/ len(salary)\n",
    "print(mean)"
   ]
  },
  {
   "cell_type": "code",
   "execution_count": 2,
   "id": "d4e35897-68ba-475a-9799-1d26f0f2c8ca",
   "metadata": {},
   "outputs": [
    {
     "data": {
      "text/plain": [
       "53.92857142857143"
      ]
     },
     "execution_count": 2,
     "metadata": {},
     "output_type": "execute_result"
    }
   ],
   "source": [
    "runs = [57, 36, 83, 93, 58, 23, 0, 65, 45, 76, 23, 65, 49, 82]\n",
    "mean = sum(runs)/len(runs)\n",
    "mean"
   ]
  },
  {
   "cell_type": "code",
   "execution_count": 3,
   "id": "f84c7e9d-49c7-4e2c-bbc3-5e9961352f6d",
   "metadata": {},
   "outputs": [
    {
     "name": "stdout",
     "output_type": "stream",
     "text": [
      "706\n",
      "50.42857142857143\n"
     ]
    }
   ],
   "source": [
    "runs = [57, 36, 83, 93, 58, 20, 0, 65, 45, 76, 23, 19, 49, 82]\n",
    "total = sum(runs)\n",
    "print(total)\n",
    "\n",
    "mean = total/len(runs)\n",
    "print(mean)"
   ]
  },
  {
   "cell_type": "code",
   "execution_count": 4,
   "id": "54a81907-22d3-4540-bf7b-72c9de4a6b8c",
   "metadata": {},
   "outputs": [
    {
     "name": "stdout",
     "output_type": "stream",
     "text": [
      "The average of list values is : 2\n"
     ]
    }
   ],
   "source": [
    "import statistics \n",
    "\n",
    "li = [1, 2, 3, 3, 2, 2, 2, 1] \n",
    "                                   # using mean() to calculate average of list elements \n",
    "\n",
    "print (\"The average of list values is : \",end=\"\") \n",
    "print (statistics.mean(li))"
   ]
  },
  {
   "cell_type": "markdown",
   "id": "f540b422-9c15-4a5b-8add-d665ab1a5256",
   "metadata": {},
   "source": [
    "# ➩   Median\n",
    "### _It is the middle value of the data set. It splits the data into two halves. If the number of elements in the data set is odd then the center element is the median , and if it is even then the median would be the average of two central elements ._"
   ]
  },
  {
   "cell_type": "code",
   "execution_count": 5,
   "id": "f03fba43-bf73-4fb0-8f26-5dc27c2b57fb",
   "metadata": {},
   "outputs": [
    {
     "name": "stdout",
     "output_type": "stream",
     "text": [
      "[0, 23, 23, 36, 45, 49, 57, 58, 65, 65, 76, 82, 83, 93]\n"
     ]
    },
    {
     "data": {
      "text/plain": [
       "57.5"
      ]
     },
     "execution_count": 5,
     "metadata": {},
     "output_type": "execute_result"
    }
   ],
   "source": [
    "runs = [57, 36, 83, 93, 58, 23, 0, 65, 45, 76, 23, 65, 49, 82]\n",
    "\n",
    "runs.sort()\n",
    "print(runs)                     \n",
    "                                         # median - the middlemost value           \n",
    "\n",
    "median = ( runs[len(runs)//2] + runs[len(runs)//2-1] )/2\n",
    "median"
   ]
  },
  {
   "cell_type": "code",
   "execution_count": 6,
   "id": "0db8bf0c-a758-45ab-846c-9c5a78faa410",
   "metadata": {},
   "outputs": [
    {
     "data": {
      "text/plain": [
       "7"
      ]
     },
     "execution_count": 6,
     "metadata": {},
     "output_type": "execute_result"
    }
   ],
   "source": [
    "len(runs)//2"
   ]
  },
  {
   "cell_type": "code",
   "execution_count": 7,
   "id": "8261dcff-24ac-4c13-9769-412094e5dde8",
   "metadata": {},
   "outputs": [
    {
     "name": "stdout",
     "output_type": "stream",
     "text": [
      "Median of data - set 1 is :   5\n",
      "Median of data - set 2 is :   5.9\n",
      "Median of data - set 3 is :   2\n",
      "Median of data - set 4 is :   -5\n",
      "Median of data - set 5 is :   0.0\n"
     ]
    }
   ],
   "source": [
    "                                       # importing the statistics module \n",
    "from statistics import median \n",
    "\n",
    "from fractions import Fraction as fr \n",
    "                                          \n",
    "data1 = (2, 3, 4, 5, 7, 9, 11)                        # tuple of positive integers                          \n",
    "data2 = (2.4, 5.1, 6.7, 8.9)                         # tuple of floating unumbers\n",
    "                                                       # tuple of fractional numbers \n",
    "data3 = (fr(1, 2), fr(44, 12), fr(10, 3), fr(2, 3)) \n",
    "data4 = (-5, -1, -12, -19, -3)                          # tuple of negative integers \n",
    "data5 = (-1, -2, -3, -4, 4, 3, 2, 1)                      # tuple of positive and negative integers\n",
    "\n",
    "                # Printing the median of above datasets \n",
    "\n",
    "print(\"Median of data - set 1 is :  \", (median(data1))) \n",
    "print(\"Median of data - set 2 is :  \", (median(data2))) \n",
    "print(\"Median of data - set 3 is :  \", (median(data3))) \n",
    "print(\"Median of data - set 4 is :  \", (median(data4))) \n",
    "print(\"Median of data - set 5 is :  \", (median(data5)))"
   ]
  },
  {
   "cell_type": "markdown",
   "id": "cef077dc-a817-4aef-b455-1e25b45f3349",
   "metadata": {},
   "source": [
    "## Median Low\n",
    "### _The __median_low()__ function returns the median of data in case of odd number of elements, but in case of even number of elements, returns the lower of two middle elements_ ."
   ]
  },
  {
   "cell_type": "code",
   "execution_count": 8,
   "id": "396a8031-d575-4609-a028-bec70ccfac5e",
   "metadata": {},
   "outputs": [
    {
     "name": "stdout",
     "output_type": "stream",
     "text": [
      "Median of the set is :  3.5\n",
      "Low Median of the set is :  3\n"
     ]
    }
   ],
   "source": [
    "                                 # working of median_low() \n",
    "import statistics \n",
    "\n",
    "set1 = [1, 3, 3, 4, 5, 7] \n",
    "print(\"Median of the set is : \", (statistics.median(set1))) \n",
    "                                                                         # Print low median of the data-set \n",
    "print(\"Low Median of the set is : \" , (statistics.median_low(set1)))"
   ]
  },
  {
   "cell_type": "markdown",
   "id": "26307554-a936-4c39-b9cc-352dd4d0a3d1",
   "metadata": {},
   "source": [
    "## Median High\n",
    "### _The __median_high()__ function returns the median of data in case of odd number of elements, but in case of even number of elements, returns the higher of two middle elements . If passed argument is empty, StatisticsError is raised_ ."
   ]
  },
  {
   "cell_type": "code",
   "execution_count": 9,
   "id": "edc1be68-53fe-4a78-9796-c7add9c61229",
   "metadata": {},
   "outputs": [
    {
     "name": "stdout",
     "output_type": "stream",
     "text": [
      "Median of the set is :  3.5\n",
      "High Median of the set is :  4\n"
     ]
    }
   ],
   "source": [
    "# Working of median_high() and median() to demonstrate the difference between them. \n",
    "\n",
    "import statistics \n",
    "\n",
    "set1 = [1, 3, 3, 4, 5, 7] \n",
    "print(\"Median of the set is : \", (statistics.median(set1))) \n",
    "\n",
    "                      # Print high median of the data - set \n",
    "\n",
    "print(\"High Median of the set is : \", (statistics.median_high(set1)))"
   ]
  },
  {
   "cell_type": "code",
   "execution_count": 10,
   "id": "c200dcda-89d2-4515-b427-65d8d5d15158",
   "metadata": {},
   "outputs": [
    {
     "name": "stdout",
     "output_type": "stream",
     "text": [
      "181857.14285714287\n"
     ]
    }
   ],
   "source": [
    "salary = [24000, 35000, 57000, 39000, 76000, 42000, 1000000]\n",
    "mean = sum(salary)/ len(salary)\n",
    "print(mean)"
   ]
  },
  {
   "cell_type": "markdown",
   "id": "b6ac83c1-1676-4862-9566-23f75fa02b25",
   "metadata": {},
   "source": [
    "# ➩ Mode\n",
    "### _It is the value that has the highest frequency in the given data set . The data set may have no mode if the frequency of all data points is the same . Also , we can have more than one mode if we encounter two or more data points having the same frequency ._\n",
    "### _The __mode()__ function returns the number with the maximum number of occurrences_ ."
   ]
  },
  {
   "cell_type": "code",
   "execution_count": 11,
   "id": "4208c0f6-5d79-4ca6-aa69-0dad4bcd5baa",
   "metadata": {},
   "outputs": [
    {
     "name": "stdout",
     "output_type": "stream",
     "text": [
      "Mode of data set 1 is :  5\n",
      "Mode of data set 2 is :  1.3\n",
      "Mode of data set 3 is :  1/2\n",
      "Mode of data set 4 is :  -2\n",
      "Mode of data set 5 is :  black\n"
     ]
    }
   ],
   "source": [
    "from statistics import mode \n",
    "from fractions import Fraction as fr \n",
    "\n",
    "data1 = (2, 3, 3, 4, 5, 5, 5, 5, 6, 6, 6, 7)                           # tuple of  integers\n",
    "data2 = (2.4, 1.3, 1.3, 1.3, 2.4, 4.6)                                # tuple of float\n",
    "data3 = (fr(1, 2), fr(1, 2), fr(10, 3), fr(2, 3))                     # tuple of fractional numbers\n",
    "data4 = (-1, -2, -2, -2, -7, -7, -9)                                   # tuple of negative intergers\n",
    "data5 = (\"red\", \"blue\", \"black\", \"blue\", \"black\", \"black\", \"brown\") \n",
    "\n",
    "# Printing out the mode of the above data-sets \n",
    "\n",
    "print(\"Mode of data set 1 is : \", (mode(data1))) \n",
    "print(\"Mode of data set 2 is : \",  (mode(data2))) \n",
    "print(\"Mode of data set 3 is : \", (mode(data3))) \n",
    "print(\"Mode of data set 4 is : \", (mode(data4))) \n",
    "print(\"Mode of data set 5 is : \", (mode(data5)))"
   ]
  },
  {
   "cell_type": "code",
   "execution_count": 12,
   "id": "a6397d83-df8c-4167-9642-9365bb9eda73",
   "metadata": {},
   "outputs": [
    {
     "name": "stdout",
     "output_type": "stream",
     "text": [
      "53.92857142857143\n",
      "57.5\n",
      "23\n"
     ]
    }
   ],
   "source": [
    "import statistics as st\n",
    "\n",
    "runs = [57, 36, 83, 93, 58, 23, 0, 65, 45, 76, 23, 65, 49, 82]\n",
    "print( st.mean(runs) )\n",
    "print( st.median(runs) )\n",
    "print( st.mode(runs) )"
   ]
  },
  {
   "cell_type": "markdown",
   "id": "e77ddeaa-7fc0-4087-92bd-bc2ac313f561",
   "metadata": {},
   "source": [
    "# ➩  Range\n",
    "### _The difference between the largest and smallest data point in our data set is known as the range. The range is directly proportional to the spread of data which means the bigger the range, the more the spread of data and vice versa_ .\n",
    "#### _We can calculate the maximum and minimum values using the max() and min() methods respectively ._\n",
    "\n",
    "#### _Example : Python code to calculate Range_ ⮯ "
   ]
  },
  {
   "cell_type": "code",
   "execution_count": 13,
   "id": "56ef8ac5-fac4-401a-ad79-ea968aa0395c",
   "metadata": {},
   "outputs": [
    {
     "name": "stdout",
     "output_type": "stream",
     "text": [
      "Maximum = 5, Minimum = 1 and Range = 4\n"
     ]
    }
   ],
   "source": [
    "arr = [1, 2, 3, 4, 5]\n",
    "\n",
    "Maximum = max(arr)           # Finding Max \n",
    "Minimum = min(arr)           # Finding Min \n",
    "                            # Difference Of Max and Min\n",
    "Range = Maximum-Minimum     \n",
    "print(\"Maximum = {}, Minimum = {} and Range = {}\".format(Maximum, Minimum, Range))"
   ]
  },
  {
   "cell_type": "markdown",
   "id": "6197e060-01c5-4c38-a870-6cba3287a636",
   "metadata": {},
   "source": [
    "# ➩  Variance\n",
    "### _It is defined as an average squared deviation from the mean . It is calculated by finding the difference between every data point and the average which is also known as the mean, squaring them, adding all of them , and then dividing by the number of data points present in our data set ._\n",
    "#### _The statistics module provides the variance() method that does all the maths behind the scene_ ."
   ]
  },
  {
   "cell_type": "code",
   "execution_count": 14,
   "id": "d0054c80-366f-4349-afd9-74264b785dee",
   "metadata": {},
   "outputs": [
    {
     "data": {
      "text/plain": [
       "181803.21608611633"
      ]
     },
     "execution_count": 14,
     "metadata": {},
     "output_type": "execute_result"
    }
   ],
   "source": [
    "runs = [57, 36, 83, 93, 58, 23, 0, 65, 45, 76, 23, 65, 49, 82]\n",
    "variance = 0\n",
    "for i in runs:\n",
    "    variance+=(i-mean)**2\n",
    "\n",
    "var = variance/len(runs)\n",
    "std = var**0.5\n",
    "std"
   ]
  },
  {
   "cell_type": "code",
   "execution_count": 15,
   "id": "2991c9ae-4ef0-42cb-adc2-d0a0bd373877",
   "metadata": {},
   "outputs": [
    {
     "name": "stdout",
     "output_type": "stream",
     "text": [
      "Variance of Sample1 is :  15.80952380952381\n",
      "Variance of Sample2 is :  3.5\n",
      "Variance of Sample3 is :  61.125\n",
      "Variance of Sample4 is :  1/45\n",
      "Variance of Sample5 is :  0.17613000000000006\n"
     ]
    }
   ],
   "source": [
    "from statistics import variance\n",
    "from fractions import Fraction as fr\n",
    "\n",
    "sample1 = (1, 2, 5, 4, 8, 9, 12)                                # tuple of integers\n",
    "sample2 = (-2, -4, -3, -1, -5, -6)                               # tuple of negative intergers\n",
    "sample3 = (-9, -1, -0, 2, 1, 3, 4, 19)                             # tuple of negative and postive integers\n",
    "sample4 = (fr(1, 2), fr(2, 3), fr(3, 4),fr(5, 6), fr(7, 8))       # fractional numbers\n",
    "sample5 = (1.23, 1.45, 2.1, 2.2, 1.9)                             # tuple of floating numbers  \n",
    "\n",
    "# Print the variance of each samples\n",
    "\n",
    "print(\"Variance of Sample1 is : \", (variance(sample1)))\n",
    "print(\"Variance of Sample2 is : \", (variance(sample2)))\n",
    "print(\"Variance of Sample3 is : \", (variance(sample3)))\n",
    "print(\"Variance of Sample4 is : \", (variance(sample4)))\n",
    "print(\"Variance of Sample5 is : \", (variance(sample5)))"
   ]
  },
  {
   "cell_type": "code",
   "execution_count": 16,
   "id": "f5c3f547-82e1-404f-ae5e-6b48feb5086f",
   "metadata": {},
   "outputs": [
    {
     "name": "stdout",
     "output_type": "stream",
     "text": [
      "The variance of data is : "
     ]
    }
   ],
   "source": [
    "import statistics\n",
    "\n",
    "li = [1.5, 2.5, 2.5, 3.5, 3.5, 3.5]\n",
    "\n",
    "print (\"The variance of data is : \", end = \"\")"
   ]
  },
  {
   "cell_type": "code",
   "execution_count": 17,
   "id": "1576d383-2fe7-41a4-a9c4-d4c2a9ac6fae",
   "metadata": {},
   "outputs": [
    {
     "name": "stdout",
     "output_type": "stream",
     "text": [
      "The population variance of data is : 0.5555555555555556\n"
     ]
    }
   ],
   "source": [
    "# using pvariance to calculate population variance of data\n",
    "\n",
    "import statistics\n",
    "\n",
    "list1 = [1.5, 2.5, 2.5, 3.5, 3.5, 3.5]\n",
    "\n",
    "print (\"The population variance of data is : \", end=\"\")\n",
    "print (statistics.pvariance(list1))"
   ]
  },
  {
   "cell_type": "markdown",
   "id": "46380f7e-cbea-40db-b129-bb20266c8799",
   "metadata": {},
   "source": [
    "# ➩  Standard Deviation\n",
    "### _It is defined as the square root of the variance. It is calculated by finding the Mean, then subtracting each number from the Mean which is also known as the average , and squaring the result . Adding all the values and then dividing by the no of terms followed by the square root ._\n",
    "#### _The __stdev()__ method of the statistics module returns the standard deviation of the data ._"
   ]
  },
  {
   "cell_type": "code",
   "execution_count": 18,
   "id": "4f8dd3b7-daa0-41c4-ab68-11fbddae4e29",
   "metadata": {},
   "outputs": [
    {
     "name": "stdout",
     "output_type": "stream",
     "text": [
      "The Standard Deviation of Sample1 is :  3.9761191895520196\n",
      "The Standard Deviation of Sample2 is :  1.8708286933869707\n",
      "The Standard Deviation of Sample3 is :  7.8182478855559445\n",
      "The Standard Deviation of Sample4 is :  0.41967844833872525\n"
     ]
    }
   ],
   "source": [
    "from statistics import stdev\n",
    "from fractions import Fraction as fr\n",
    "\n",
    "sample1 = (1, 2, 5, 4, 8, 9, 12)                    # tuple of positive integers\n",
    "sample2 = (-2, -4, -3, -1, -5, -6)                  # tuple of negative intergers\n",
    "sample3 = (-9, -1, -0, 2, 1, 3, 4, 19)             # tuple of negative and postive integers\n",
    "sample4 = (1.23, 1.45, 2.1, 2.2, 1.9)              # tuple of floating numbers\n",
    "\n",
    "print(\"The Standard Deviation of Sample1 is : \", (stdev(sample1)))\n",
    "print(\"The Standard Deviation of Sample2 is : \", (stdev(sample2)))\n",
    "print(\"The Standard Deviation of Sample3 is : \", (stdev(sample3)))\n",
    "print(\"The Standard Deviation of Sample4 is : \", (stdev(sample4)))"
   ]
  },
  {
   "cell_type": "code",
   "execution_count": 19,
   "id": "be8acfcc-20ba-4df4-bc0e-3a72f15d6986",
   "metadata": {},
   "outputs": [
    {
     "name": "stdout",
     "output_type": "stream",
     "text": [
      "The standard deviation of data is : 0.816496580927726\n"
     ]
    }
   ],
   "source": [
    "                                    # working of stdev() and pstdev()\n",
    "import statistics\n",
    "\n",
    "li = [1.5, 2.5, 2.5, 3.5, 3.5, 3.5]\n",
    "                 # using stdev to calculate standard deviation of data\n",
    "\n",
    "print (\"The standard deviation of data is : \",end = \"\")\n",
    "print (statistics.stdev(li))"
   ]
  },
  {
   "cell_type": "code",
   "execution_count": 20,
   "id": "04007bbd-a139-4e8f-970a-1a893dfee6c1",
   "metadata": {},
   "outputs": [
    {
     "name": "stdout",
     "output_type": "stream",
     "text": [
      "The population standard deviation of data is : 0.7453559924999299\n"
     ]
    }
   ],
   "source": [
    "                        # working of stdev() and pstdev()\n",
    "import statistics\n",
    "\n",
    "lis = [1.5, 2.5, 2.5, 3.5, 3.5, 3.5]\n",
    "\n",
    "# using pstdev to calculate population standard deviation of data\n",
    "\n",
    "print (\"The population standard deviation of data is : \", end = \"\")\n",
    "print (statistics.pstdev(lis))"
   ]
  },
  {
   "cell_type": "code",
   "execution_count": 21,
   "id": "93fd76f0-f1be-43bc-8be3-c897db34cb28",
   "metadata": {},
   "outputs": [
    {
     "data": {
      "text/plain": [
       "0.7453559924999299"
      ]
     },
     "execution_count": 21,
     "metadata": {},
     "output_type": "execute_result"
    }
   ],
   "source": [
    "st.pstdev(lis)"
   ]
  },
  {
   "cell_type": "code",
   "execution_count": null,
   "id": "9547453d-5322-4789-aa39-a04b35078efa",
   "metadata": {},
   "outputs": [],
   "source": []
  }
 ],
 "metadata": {
  "kernelspec": {
   "display_name": "Python 3 (ipykernel)",
   "language": "python",
   "name": "python3"
  },
  "language_info": {
   "codemirror_mode": {
    "name": "ipython",
    "version": 3
   },
   "file_extension": ".py",
   "mimetype": "text/x-python",
   "name": "python",
   "nbconvert_exporter": "python",
   "pygments_lexer": "ipython3",
   "version": "3.12.7"
  }
 },
 "nbformat": 4,
 "nbformat_minor": 5
}
