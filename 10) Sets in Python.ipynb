{
 "cells": [
  {
   "cell_type": "markdown",
   "id": "d134c3c5-d0d7-4381-8fba-54368cc4f66b",
   "metadata": {},
   "source": [
    "# __9) Sets in Python__\n",
    "### _Sets are used to store multiple items in a single variable. Set is one of 4 built-in data types in Python used to store collections of data._"
   ]
  },
  {
   "cell_type": "markdown",
   "id": "58ca4bb1-a092-475a-b3ad-cfdc183b80fa",
   "metadata": {},
   "source": [
    "# Python Collections (Arrays)\n",
    "__There are four collection data types in the Python programming language :__\n",
    "\n",
    "__1. List is a collection which is ordered and changeable. Allows duplicate members.__  \n",
    "__2. Tuple is a collection which is ordered and unchangeable. Allows duplicate members.__  \n",
    "__3. Set is a collection which is unordered, unchangeable*, and unindexed. No duplicate members.__    \n",
    "__4. Dictionary is a collection which is ordered** and changeable. No duplicate members.__"
   ]
  },
  {
   "cell_type": "markdown",
   "id": "6a3e6564-e57a-4e50-a9a3-6402b4ff1983",
   "metadata": {},
   "source": [
    "# Creating a Set"
   ]
  },
  {
   "cell_type": "code",
   "execution_count": 2,
   "id": "5f0b17a9-f480-41d1-92cd-c71e58ae86db",
   "metadata": {},
   "outputs": [
    {
     "name": "stdout",
     "output_type": "stream",
     "text": [
      "{'banana', 'cherry', 'apple'}\n"
     ]
    }
   ],
   "source": [
    "myset = {\"apple\", \"banana\", \"cherry\"}\n",
    "print(myset)"
   ]
  },
  {
   "cell_type": "code",
   "execution_count": 5,
   "id": "670c8fb6-d7fe-4717-b297-71582c108b11",
   "metadata": {},
   "outputs": [
    {
     "name": "stdout",
     "output_type": "stream",
     "text": [
      "People: = {'Archi', 'Jay', 'Irish'}\n"
     ]
    }
   ],
   "source": [
    "people = {\"Jay\", \"Irish\", \"Archi\"}\n",
    "\n",
    "print(\"People:\", end = \" = \")\n",
    "print(people)"
   ]
  },
  {
   "cell_type": "markdown",
   "id": "8acc14fb-1a68-4cea-b0f1-5d9f7e61d33a",
   "metadata": {},
   "source": [
    "# Empty set"
   ]
  },
  {
   "cell_type": "code",
   "execution_count": 7,
   "id": "32a1985e-c1d1-4c49-93f0-dfc4af710bea",
   "metadata": {},
   "outputs": [
    {
     "name": "stdout",
     "output_type": "stream",
     "text": [
      "{}\n",
      "<class 'dict'>\n"
     ]
    }
   ],
   "source": [
    "abc = {}\n",
    "print(abc)\n",
    "print(type(abc))"
   ]
  },
  {
   "cell_type": "code",
   "execution_count": 8,
   "id": "98f77818-f6ec-48f6-b113-0f1cb8988bbb",
   "metadata": {},
   "outputs": [
    {
     "name": "stdout",
     "output_type": "stream",
     "text": [
      "set()\n",
      "<class 'set'>\n"
     ]
    }
   ],
   "source": [
    "xyz = set()\n",
    "print(xyz)\n",
    "print(type (xyz))"
   ]
  },
  {
   "cell_type": "markdown",
   "id": "dc6c1eeb-c72c-413e-9a5e-266b0b5b1ccc",
   "metadata": {},
   "source": [
    "# ➩ __Set Items__\n",
    "### _Set items are unordered , unchangeable , and do not allow duplicate values._\n",
    "# Unordered\n",
    "#### _Unordered means that the items in a set do not have a defined order._\n",
    "#### _Set items can appear in a different order every time you use them, and cannot be referred to by index or key._\n",
    "# Unchangeable\n",
    "#### _Set items are unchangeable, meaning that we cannot change the items after the set has been created._\n",
    "#### _Once a set is created, you cannot change its items, but you can remove items and add new items._\n",
    "# Duplicates Not Allowed\n",
    "#### _Sets cannot have two items with the same value_"
   ]
  },
  {
   "cell_type": "code",
   "execution_count": 3,
   "id": "5c13cdee-091a-4941-994e-d9e5d31e2832",
   "metadata": {},
   "outputs": [
    {
     "name": "stdout",
     "output_type": "stream",
     "text": [
      "{'banana', 'cherry', 'apple'}\n"
     ]
    }
   ],
   "source": [
    "thisset = {\"apple\", \"banana\", \"cherry\", \"apple\"}\n",
    "print(thisset)"
   ]
  },
  {
   "cell_type": "markdown",
   "id": "100e0bb2-03ea-4c51-b1d8-ec4156a70031",
   "metadata": {},
   "source": [
    "### True and 1 is considered the same value :"
   ]
  },
  {
   "cell_type": "code",
   "execution_count": 6,
   "id": "c12c0dfb-48cb-4ac2-b1ac-b398688ad5d6",
   "metadata": {},
   "outputs": [
    {
     "name": "stdout",
     "output_type": "stream",
     "text": [
      "{True, 2, 'apple', 'banana', 'cherry'}\n"
     ]
    }
   ],
   "source": [
    "thisset = {\"apple\", \"banana\", \"cherry\", True, 1, 2}\n",
    "print(thisset)"
   ]
  },
  {
   "cell_type": "markdown",
   "id": "033efdb8-f4bd-41aa-917b-7a178308b88d",
   "metadata": {},
   "source": [
    "False and 0 is considered the same value:"
   ]
  },
  {
   "cell_type": "code",
   "execution_count": 5,
   "id": "ecf8dbd5-9d30-4b00-a5c1-8e2c8ffe76f3",
   "metadata": {},
   "outputs": [
    {
     "name": "stdout",
     "output_type": "stream",
     "text": [
      "{'banana', False, True, 'apple', 'cherry'}\n"
     ]
    }
   ],
   "source": [
    "thisset = {\"apple\", \"banana\", \"cherry\", False, True, 0}\n",
    "print(thisset)"
   ]
  },
  {
   "cell_type": "markdown",
   "id": "5d1e3e45-a3b9-4010-99a7-9641ea77ee5d",
   "metadata": {},
   "source": [
    "# __Length of a Set__\n",
    "### _To determine how many items a set has, use the __len()__ function._"
   ]
  },
  {
   "cell_type": "code",
   "execution_count": 6,
   "id": "1077aeb0-09cf-4191-9d50-4a8dbe1bbeaa",
   "metadata": {},
   "outputs": [
    {
     "name": "stdout",
     "output_type": "stream",
     "text": [
      "3\n"
     ]
    }
   ],
   "source": [
    "s = {\"apple\", \"banana\", \"cherry\"}\n",
    "print(len(s))"
   ]
  },
  {
   "cell_type": "code",
   "execution_count": 1,
   "id": "bb30b4a2-22c1-43fd-8982-700341425353",
   "metadata": {},
   "outputs": [
    {
     "name": "stdout",
     "output_type": "stream",
     "text": [
      "{10, 50, 20}\n",
      "<class 'set'>\n"
     ]
    }
   ],
   "source": [
    "s = {10, 50, 20}\n",
    "print(s)\n",
    "print(type(s))"
   ]
  },
  {
   "cell_type": "code",
   "execution_count": 10,
   "id": "070dab90-c40f-4068-84d8-0c25f0655b38",
   "metadata": {},
   "outputs": [
    {
     "name": "stdout",
     "output_type": "stream",
     "text": [
      "5\n"
     ]
    }
   ],
   "source": [
    "l = {1, 2, 3, 4, 5}\n",
    "l = len(l)  \n",
    "print(l)"
   ]
  },
  {
   "cell_type": "code",
   "execution_count": 11,
   "id": "2fd7799f-9568-470e-8d0d-3aaae355f19e",
   "metadata": {},
   "outputs": [
    {
     "name": "stdout",
     "output_type": "stream",
     "text": [
      "5\n"
     ]
    }
   ],
   "source": [
    "a = {1, 2, 3, 4, 5}                 # finding length using for loop\n",
    "c = 0\n",
    "for element in a:\n",
    "                    # Increment the count for each element\n",
    "    c += 1 \n",
    "print(c)"
   ]
  },
  {
   "cell_type": "markdown",
   "id": "31ecce93-6589-44b3-a071-172fa0a70089",
   "metadata": {},
   "source": [
    "# ➩ __Typecasting in sets__\n",
    "### _Typecasting into sets in Python , involves __converting other iterable data types__ , such as __Lists , Tuples , or Strings___ , _into a set. This is primarily done using the built-in __set() constructor___"
   ]
  },
  {
   "cell_type": "code",
   "execution_count": 13,
   "id": "fe0b2560-cb2e-489c-af36-c00155f93855",
   "metadata": {},
   "outputs": [
    {
     "name": "stdout",
     "output_type": "stream",
     "text": [
      "{'b', 'a', 'c'}\n"
     ]
    }
   ],
   "source": [
    "s = set([\"a\", \"b\", \"c\"])\n",
    "print(s)"
   ]
  },
  {
   "cell_type": "code",
   "execution_count": 14,
   "id": "fde15910-f64a-4def-a850-8a5d98d518b4",
   "metadata": {},
   "outputs": [
    {
     "name": "stdout",
     "output_type": "stream",
     "text": [
      "{1, 2, 3, 4, 5, 6}\n",
      "{1, 2, 3, 4, 5, 6}\n"
     ]
    }
   ],
   "source": [
    "# Typecasting list into set\n",
    "\n",
    "li = [1, 2, 3, 3, 4, 5, 5, 6, 2]\n",
    "set1 = set(li)\n",
    "print(set1)\n",
    "# or\n",
    "print(set(li))"
   ]
  },
  {
   "cell_type": "code",
   "execution_count": 15,
   "id": "7a99767c-b713-4930-b1b2-ad71872fa98e",
   "metadata": {},
   "outputs": [
    {
     "name": "stdout",
     "output_type": "stream",
     "text": [
      "{'R', 'a', 'C', 'i', 'u', 'v', 'n', 'j', 'h', 'y'}\n"
     ]
    }
   ],
   "source": [
    "                             # Typecasting string into set\n",
    "s = \"RanvijayChauhan\"\n",
    "set1 = set(s)\n",
    "print(set1)"
   ]
  },
  {
   "cell_type": "code",
   "execution_count": 19,
   "id": "01cd437f-a5f7-42cb-b7c9-cdfb28086438",
   "metadata": {},
   "outputs": [
    {
     "name": "stdout",
     "output_type": "stream",
     "text": [
      "{1, 2, 3}\n",
      "{1, 2, 3}\n",
      "{'Three', 'Two', 'One'}\n"
     ]
    }
   ],
   "source": [
    "                                     # Typecasting dictionary into set\n",
    "d = {1: \"One\", 2: \"Two\", 3: \"Three\"}\n",
    "set1 = set(d)\n",
    "print(set1)\n",
    "                           # or\n",
    "print(set(d.keys()))\n",
    "print(set(d.values()))"
   ]
  },
  {
   "cell_type": "markdown",
   "id": "f51ab635-7b2f-4154-8777-4f0f86832c77",
   "metadata": {},
   "source": [
    "# ➩➩ __Set Items - Data Types__\n",
    "#### _Set items can be of any data type :_"
   ]
  },
  {
   "cell_type": "code",
   "execution_count": 20,
   "id": "f7ee6947-aad3-41df-a631-27e7799a41dd",
   "metadata": {},
   "outputs": [
    {
     "name": "stdout",
     "output_type": "stream",
     "text": [
      "<class 'set'>\n",
      "<class 'set'>\n",
      "{'apple', 'banana', 'cherry'} {1, 3, 5, 7, 9} {False, True} {4.5, 6.02, 23.4}\n"
     ]
    }
   ],
   "source": [
    "set1 = {\"apple\", \"banana\", \"cherry\"}\n",
    "set2 = {1, 5, 7, 9,1, 5, 9, 7, 3}\n",
    "set3 = {True, False, False}\n",
    "set4 = {23.4,4.5,6.02}\n",
    "\n",
    "\n",
    "print(type(set1))\n",
    "print(type(set2))\n",
    "print(set1,set2,set3,set4)"
   ]
  },
  {
   "cell_type": "code",
   "execution_count": 21,
   "id": "79691129-c99d-4284-9579-292bd918421d",
   "metadata": {},
   "outputs": [
    {
     "name": "stdout",
     "output_type": "stream",
     "text": [
      "{True, 34, 40, 'abc', 'male'}\n",
      "<class 'set'>\n"
     ]
    }
   ],
   "source": [
    "set1 = {\"abc\", 34, True, 40, \"male\", 34, True, 40, \"male\"}\n",
    "print(set1)\n",
    "print(type(set1))"
   ]
  },
  {
   "cell_type": "markdown",
   "id": "89308ab3-592e-4e28-975b-583221fe6c76",
   "metadata": {},
   "source": [
    "# The set() Constructor\n",
    "### _It is also possible to use the __set()__ constructor to make a set._"
   ]
  },
  {
   "cell_type": "code",
   "execution_count": 23,
   "id": "a0f4ac99-4a2d-44e0-a965-b39c75e7ca97",
   "metadata": {},
   "outputs": [
    {
     "name": "stdout",
     "output_type": "stream",
     "text": [
      "{'apple', 'banana', 'cherry'}\n",
      "<class 'set'>\n"
     ]
    }
   ],
   "source": [
    "st = set((\"apple\", \"banana\", \"cherry\"))             # note the double round-brackets\n",
    "print(st)\n",
    "print(type(st))"
   ]
  },
  {
   "cell_type": "code",
   "execution_count": 24,
   "id": "b3f08e63-7011-401a-bd0e-3415e71897ca",
   "metadata": {},
   "outputs": [
    {
     "name": "stdout",
     "output_type": "stream",
     "text": [
      "[56, 56, 67, 78, 89]\n",
      "(76, 87, 98, 78)\n",
      "{56, 65, 67, 87}\n"
     ]
    }
   ],
   "source": [
    "lis = list((56,56,67,78,89))\n",
    "tup = tuple((76,87,98,78))\n",
    "sett = set((65,67,87,56))\n",
    "\n",
    "print(lis)\n",
    "print(tup)\n",
    "print(set(sett))"
   ]
  },
  {
   "cell_type": "markdown",
   "id": "b0213917-3886-49e4-b8a2-84c9bb48d508",
   "metadata": {},
   "source": [
    "# ➩➩ __Properties of Sets__"
   ]
  },
  {
   "cell_type": "markdown",
   "id": "245219d8-048a-406b-878b-0669e82e7f06",
   "metadata": {},
   "source": [
    "## _1) Unordered_"
   ]
  },
  {
   "cell_type": "code",
   "execution_count": 25,
   "id": "9a1ac102-055c-408c-91c8-867b515c2a91",
   "metadata": {},
   "outputs": [
    {
     "name": "stdout",
     "output_type": "stream",
     "text": [
      "{1, 3, 4, 5, 6, 7, 8, 9}\n"
     ]
    }
   ],
   "source": [
    "my_set = { 3,3,4,5,6,6,5,4,7,9,8,1}\n",
    "print(my_set)"
   ]
  },
  {
   "cell_type": "markdown",
   "id": "80ed09ef-8e9e-4936-a42a-835c27621c7a",
   "metadata": {},
   "source": [
    "## _2) No Indexing / Slicing_"
   ]
  },
  {
   "cell_type": "code",
   "execution_count": 26,
   "id": "ac0f08b6-aa17-42a2-9c2e-ad518748dbe7",
   "metadata": {},
   "outputs": [
    {
     "ename": "TypeError",
     "evalue": "'set' object is not subscriptable",
     "output_type": "error",
     "traceback": [
      "\u001b[1;31m---------------------------------------------------------------------------\u001b[0m",
      "\u001b[1;31mTypeError\u001b[0m                                 Traceback (most recent call last)",
      "Cell \u001b[1;32mIn[26], line 2\u001b[0m\n\u001b[0;32m      1\u001b[0m a \u001b[38;5;241m=\u001b[39m {\u001b[38;5;124m\"\u001b[39m\u001b[38;5;124manimals\u001b[39m\u001b[38;5;124m\"\u001b[39m, \u001b[38;5;124m\"\u001b[39m\u001b[38;5;124mcat\u001b[39m\u001b[38;5;124m\"\u001b[39m , \u001b[38;5;124m\"\u001b[39m\u001b[38;5;124mdog\u001b[39m\u001b[38;5;124m\"\u001b[39m}\n\u001b[1;32m----> 2\u001b[0m \u001b[38;5;28mprint\u001b[39m(a[\u001b[38;5;241m0\u001b[39m])\n",
      "\u001b[1;31mTypeError\u001b[0m: 'set' object is not subscriptable"
     ]
    }
   ],
   "source": [
    "a = {\"animals\", \"cat\" , \"dog\"}\n",
    "print(a[0])"
   ]
  },
  {
   "cell_type": "markdown",
   "id": "5573c57c-f4e8-490d-9d96-d90ae2f40e08",
   "metadata": {},
   "source": [
    "## _3) Unique elements_"
   ]
  },
  {
   "cell_type": "code",
   "execution_count": 27,
   "id": "55e8c9c9-5555-49f0-8ab0-8f35b818222d",
   "metadata": {},
   "outputs": [
    {
     "name": "stdout",
     "output_type": "stream",
     "text": [
      "{0, 2, 3, 4, 5, 6, 7, 8}\n"
     ]
    }
   ],
   "source": [
    "my_set = {2,3,0,4,3,5,4,6,5,6,5,7,6,5,2,3,4,2,2,4,4,3,4,5,2,3,7,8,4,3}\n",
    "print(my_set)"
   ]
  },
  {
   "cell_type": "markdown",
   "id": "b83d87be-8b9c-4dc1-bbf4-20bc5dbb22c1",
   "metadata": {},
   "source": [
    "## _4) Iterable_"
   ]
  },
  {
   "cell_type": "code",
   "execution_count": 28,
   "id": "da2eb1c6-42f3-46f3-bf39-6fc4d3c6168c",
   "metadata": {},
   "outputs": [
    {
     "name": "stdout",
     "output_type": "stream",
     "text": [
      "34\n",
      "89\n",
      "90\n",
      "45\n",
      "78\n"
     ]
    }
   ],
   "source": [
    "my_set = {34,45,78,89,90}\n",
    "for element in my_set:\n",
    "    print(element)"
   ]
  },
  {
   "cell_type": "markdown",
   "id": "ba15f21e-5518-46cc-a45f-a0b1d754eeaf",
   "metadata": {},
   "source": [
    "## _5) Hashable elements_\n",
    "### _only Hashable objects ( objects with the fixed hash values ) can be added to a set. This sets cannot contain mutable types like lists or dictionaries._    "
   ]
  },
  {
   "cell_type": "code",
   "execution_count": 3,
   "id": "c269e8ae-0d6d-4482-88bc-aec7afba44a1",
   "metadata": {},
   "outputs": [
    {
     "name": "stdout",
     "output_type": "stream",
     "text": [
      "{1, 2, 3, 4, 'a', 3.5, (20, 30)}\n"
     ]
    }
   ],
   "source": [
    "myset = {1,2,3,4,\"a\", 3.5,(20,30)}\n",
    "print(myset)"
   ]
  },
  {
   "cell_type": "code",
   "execution_count": 2,
   "id": "e1b312f1-cac0-4be1-8692-74af9fcd4a3b",
   "metadata": {},
   "outputs": [
    {
     "ename": "TypeError",
     "evalue": "unhashable type: 'list'",
     "output_type": "error",
     "traceback": [
      "\u001b[1;31m---------------------------------------------------------------------------\u001b[0m",
      "\u001b[1;31mTypeError\u001b[0m                                 Traceback (most recent call last)",
      "Cell \u001b[1;32mIn[2], line 1\u001b[0m\n\u001b[1;32m----> 1\u001b[0m myset \u001b[38;5;241m=\u001b[39m {\u001b[38;5;241m1\u001b[39m,\u001b[38;5;241m2\u001b[39m,\u001b[38;5;241m3\u001b[39m,\u001b[38;5;241m4\u001b[39m,\u001b[38;5;124m\"\u001b[39m\u001b[38;5;124ma\u001b[39m\u001b[38;5;124m\"\u001b[39m, \u001b[38;5;241m3.5\u001b[39m,[\u001b[38;5;241m20\u001b[39m,\u001b[38;5;241m30\u001b[39m]}\n\u001b[0;32m      2\u001b[0m \u001b[38;5;28mprint\u001b[39m(myset)\n",
      "\u001b[1;31mTypeError\u001b[0m: unhashable type: 'list'"
     ]
    }
   ],
   "source": [
    "myset = {1,2,3,4,\"a\", 3.5,[20,30]}\n",
    "print(myset)"
   ]
  },
  {
   "cell_type": "code",
   "execution_count": 30,
   "id": "e5f4d389-a153-449c-af7f-cdabf9f45296",
   "metadata": {},
   "outputs": [
    {
     "ename": "TypeError",
     "evalue": "unhashable type: 'dict'",
     "output_type": "error",
     "traceback": [
      "\u001b[1;31m---------------------------------------------------------------------------\u001b[0m",
      "\u001b[1;31mTypeError\u001b[0m                                 Traceback (most recent call last)",
      "Cell \u001b[1;32mIn[30], line 1\u001b[0m\n\u001b[1;32m----> 1\u001b[0m x \u001b[38;5;241m=\u001b[39m {{\u001b[38;5;124m'\u001b[39m\u001b[38;5;124ma\u001b[39m\u001b[38;5;124m'\u001b[39m:\u001b[38;5;241m1\u001b[39m, \u001b[38;5;124m'\u001b[39m\u001b[38;5;124mb\u001b[39m\u001b[38;5;124m'\u001b[39m:\u001b[38;5;241m2\u001b[39m}}\n\u001b[0;32m      2\u001b[0m \u001b[38;5;28mprint\u001b[39m(x)\n",
      "\u001b[1;31mTypeError\u001b[0m: unhashable type: 'dict'"
     ]
    }
   ],
   "source": [
    "x = {{'a':1, 'b':2}}\n",
    "print(x)"
   ]
  },
  {
   "cell_type": "markdown",
   "id": "242c24b1-79fc-4af5-ab3b-fe7140479f39",
   "metadata": {},
   "source": [
    "# __Nested__ is not a property of the set"
   ]
  },
  {
   "cell_type": "code",
   "execution_count": 35,
   "id": "04f2aa8c-87b8-4dde-95c4-1319d884ccbc",
   "metadata": {},
   "outputs": [
    {
     "ename": "TypeError",
     "evalue": "unhashable type: 'set'",
     "output_type": "error",
     "traceback": [
      "\u001b[1;31m---------------------------------------------------------------------------\u001b[0m",
      "\u001b[1;31mTypeError\u001b[0m                                 Traceback (most recent call last)",
      "Cell \u001b[1;32mIn[35], line 1\u001b[0m\n\u001b[1;32m----> 1\u001b[0m a \u001b[38;5;241m=\u001b[39m {{\u001b[38;5;241m11\u001b[39m,\u001b[38;5;241m12\u001b[39m,\u001b[38;5;241m13\u001b[39m},{\u001b[38;5;241m4\u001b[39m,\u001b[38;5;241m5\u001b[39m,\u001b[38;5;241m6\u001b[39m}}\n\u001b[0;32m      2\u001b[0m \u001b[38;5;28mprint\u001b[39m(a)\n",
      "\u001b[1;31mTypeError\u001b[0m: unhashable type: 'set'"
     ]
    }
   ],
   "source": [
    "a = {{11,12,13},{4,5,6}}\n",
    "print(a)"
   ]
  },
  {
   "cell_type": "markdown",
   "id": "50fc464f-3c9f-4893-ab23-6374856c03cf",
   "metadata": {},
   "source": [
    "# ➩➩ __Access set Items__\n",
    "###  _We cannot access items in a set by referring to an index or a key._\n",
    "### _But you can loop through the set items using a for loop, or ask if a specified value is present in a set, by using the __in__ keyword._"
   ]
  },
  {
   "cell_type": "code",
   "execution_count": 13,
   "id": "14d107d0-af9a-415d-b883-32606779dcb7",
   "metadata": {},
   "outputs": [
    {
     "name": "stdout",
     "output_type": "stream",
     "text": [
      "banana\n",
      "cherry\n",
      "apple\n"
     ]
    }
   ],
   "source": [
    "st = {\"apple\", \"banana\", \"cherry\"}\n",
    "\n",
    "for x in st:\n",
    "  print(x)"
   ]
  },
  {
   "cell_type": "code",
   "execution_count": 4,
   "id": "a4f7b6da-2e40-4db5-a6c9-0895978f64ef",
   "metadata": {},
   "outputs": [
    {
     "name": "stdout",
     "output_type": "stream",
     "text": [
      "b\n",
      "a\n",
      "c\n"
     ]
    }
   ],
   "source": [
    "a = {\"a\",\"b\",\"c\"}\n",
    "for x in a:\n",
    "    print(x)"
   ]
  },
  {
   "cell_type": "markdown",
   "id": "d8053345-c3c6-48ff-884a-388daa9576e3",
   "metadata": {},
   "source": [
    "# Check if element is Present or Not\n",
    "## _( Membership testing )_"
   ]
  },
  {
   "cell_type": "code",
   "execution_count": 14,
   "id": "bc339d06-310b-46a6-9b28-8a7b93b08386",
   "metadata": {},
   "outputs": [
    {
     "name": "stdout",
     "output_type": "stream",
     "text": [
      "True\n"
     ]
    }
   ],
   "source": [
    "set2 = {\"apple\", \"banana\", \"cherry\"}           # checking if present\n",
    "print(\"banana\" in set2"
   ]
  },
  {
   "cell_type": "code",
   "execution_count": 91,
   "id": "bb16c1ae-e787-426c-960f-6c0e218b0493",
   "metadata": {},
   "outputs": [
    {
     "name": "stdout",
     "output_type": "stream",
     "text": [
      "Element found in the set\n",
      "False\n",
      "True\n"
     ]
    }
   ],
   "source": [
    "s = {21, 23, '#', \"Python\", \"coding\", 35, -22}\n",
    "if 35 in s:\n",
    "    print(\"Element found in the set\")\n",
    "else:\n",
    "    print(\"Element not found in the set\")\n",
    "    \n",
    "print(70 in s)\n",
    "print(\"coding\" in s)"
   ]
  },
  {
   "cell_type": "code",
   "execution_count": 88,
   "id": "fc34d886-d8b3-4bb4-9192-332f3a3c9dc5",
   "metadata": {},
   "outputs": [
    {
     "name": "stdout",
     "output_type": "stream",
     "text": [
      "True\n",
      "False\n"
     ]
    }
   ],
   "source": [
    "fruit = {'orange', 'banana', 'pear', 'apple'}\n",
    "print('pear' in fruit)\n",
    "print('mango' in fruit)"
   ]
  },
  {
   "cell_type": "code",
   "execution_count": 15,
   "id": "80f10477-0b53-4967-9370-340905744e72",
   "metadata": {},
   "outputs": [
    {
     "name": "stdout",
     "output_type": "stream",
     "text": [
      "False\n"
     ]
    }
   ],
   "source": [
    "                              # checking if not present \n",
    "\n",
    "set3= {\"apple\", \"banana\", \"cherry\"} \n",
    "print(\"banana\" not in set3)"
   ]
  },
  {
   "cell_type": "code",
   "execution_count": 92,
   "id": "7b0b8192-8b08-493f-9d67-ea4541507580",
   "metadata": {},
   "outputs": [
    {
     "name": "stdout",
     "output_type": "stream",
     "text": [
      "True\n",
      "False\n"
     ]
    }
   ],
   "source": [
    "s = {21, 23, '#', \"Python\", \"coding\", 35, -22}\n",
    "print(70  not in s)\n",
    "print(\"coding\" not in s)"
   ]
  },
  {
   "cell_type": "markdown",
   "id": "a0e66464-24ac-4265-810c-54f021ba27a7",
   "metadata": {},
   "source": [
    "# ➩ __Change Items__\n",
    "###  _Once a set is created, you cannot change its items, but you can add new items._"
   ]
  },
  {
   "cell_type": "markdown",
   "id": "f7c6dc52-54d6-4b90-b5a0-a69bfa20c9c2",
   "metadata": {},
   "source": [
    "# Add Items\n",
    "#### _Once a set is created, you cannot change its items, but you can add new items._\n",
    "\n",
    "# ⮩ To add one item to a set use the __add () method.__\n",
    "### _The __add ()__ method can be used to add only a single item. To add multiple items we use __update() method___.     \n",
    "### _If the element already exists, the __add ()__ method does not add the element_."
   ]
  },
  {
   "cell_type": "code",
   "execution_count": 16,
   "id": "4b06d064-3ec2-465a-9810-7eaaff069141",
   "metadata": {},
   "outputs": [
    {
     "name": "stdout",
     "output_type": "stream",
     "text": [
      "{'banana', 'cherry', 'orange', 'apple'}\n"
     ]
    }
   ],
   "source": [
    "thisset = {\"apple\", \"banana\", \"cherry\"}\n",
    "thisset.add(\"orange\")\n",
    "print(thisset)"
   ]
  },
  {
   "cell_type": "code",
   "execution_count": 36,
   "id": "14d386b1-e261-4002-b1d0-faada62ba5e0",
   "metadata": {},
   "outputs": [
    {
     "name": "stdout",
     "output_type": "stream",
     "text": [
      "{'b', 'a', 'c', 'd'}\n"
     ]
    }
   ],
   "source": [
    "s = set([\"a\", \"b\", \"c\"])\n",
    "\n",
    "s.add(\"d\")\n",
    "print(s)"
   ]
  },
  {
   "cell_type": "code",
   "execution_count": 37,
   "id": "3886c15f-6c41-4148-8985-be5208f1db74",
   "metadata": {},
   "outputs": [
    {
     "name": "stdout",
     "output_type": "stream",
     "text": [
      "{'b', 'a', 'c'}\n"
     ]
    }
   ],
   "source": [
    "s = set([\"a\", \"b\", \"c\"])\n",
    "\n",
    "s.add(\"c\")\n",
    "print(s)"
   ]
  },
  {
   "cell_type": "markdown",
   "id": "f150869c-a4c4-4014-a7b1-756fc0fabf86",
   "metadata": {},
   "source": [
    "## As a shortcut, you can use the __|= operator__ instead of __add() method__"
   ]
  },
  {
   "cell_type": "code",
   "execution_count": 38,
   "id": "030d2d51-66d5-4c57-83eb-7589b90fc369",
   "metadata": {},
   "outputs": [
    {
     "name": "stdout",
     "output_type": "stream",
     "text": [
      "{'apple', 'banana', 'cherry', 'microsoft', 'google'}\n"
     ]
    }
   ],
   "source": [
    "x = {\"apple\", \"banana\", \"cherry\"}\n",
    "y = {\"google\", \"microsoft\", \"apple\"}\n",
    "x |= y\n",
    "print(x)"
   ]
  },
  {
   "cell_type": "code",
   "execution_count": 7,
   "id": "2bdb2130-eea1-44de-9153-48df0b48668b",
   "metadata": {},
   "outputs": [
    {
     "name": "stdout",
     "output_type": "stream",
     "text": [
      "{'microsoft', 'micra', 'apple', 'cherry', 'bluebird', 'banana', 'google'}\n"
     ]
    }
   ],
   "source": [
    "x = {\"apple\", \"banana\", \"cherry\"}\n",
    "y = {\"google\", \"microsoft\", \"apple\"}\n",
    "z = {\"cherry\", \"micra\", \"bluebird\"}\n",
    "x |= y | z\n",
    "\n",
    "print(x)"
   ]
  },
  {
   "cell_type": "markdown",
   "id": "17845d8d-697a-4e7b-b089-c07fd74ae5ab",
   "metadata": {},
   "source": [
    "## ⮩ Add Any Iterable usig __update() method__\n",
    "### _The object in the __update()__ method does not have to be a set, it can be any iterable object (tuples, lists, dictionaries etc._\n",
    "\n",
    "### _To add multiple items we use __update()__ method._"
   ]
  },
  {
   "cell_type": "code",
   "execution_count": 5,
   "id": "a17362af-82ab-425c-b3a0-50b1da8f0a6f",
   "metadata": {},
   "outputs": [
    {
     "name": "stdout",
     "output_type": "stream",
     "text": [
      "{'apple', 'kiwi', 'cherry', 'banana', 'orange'}\n"
     ]
    }
   ],
   "source": [
    "thisset = {\"apple\", \"banana\", \"cherry\"}\n",
    "mylist = [\"kiwi\", \"orange\"]\n",
    "\n",
    "thisset.update(mylist)\n",
    "\n",
    "print(thisset)"
   ]
  },
  {
   "cell_type": "code",
   "execution_count": 6,
   "id": "d59d8cfd-0bf7-4219-908a-0f10c1dc1ba8",
   "metadata": {},
   "outputs": [
    {
     "name": "stdout",
     "output_type": "stream",
     "text": [
      "{'mango', 'banana', 'pineapple', 'apple', 'cherry', 'papaya'}\n"
     ]
    }
   ],
   "source": [
    "thisset = {\"apple\", \"banana\", \"cherry\"}\n",
    "tropical = {\"pineapple\", \"mango\", \"papaya\"}\n",
    "\n",
    "thisset.update(tropical)\n",
    "print(thisset)"
   ]
  },
  {
   "cell_type": "code",
   "execution_count": 40,
   "id": "17ccff4c-bb14-4607-8a9f-02d25f2391ec",
   "metadata": {},
   "outputs": [
    {
     "name": "stdout",
     "output_type": "stream",
     "text": [
      "{'apple', 'bluebird', 'banana', 'cherry', 'microsoft', 'micra', 'google'}\n"
     ]
    }
   ],
   "source": [
    "x = {\"apple\", \"banana\", \"cherry\"}\n",
    "y = {\"google\", \"microsoft\", \"apple\"}\n",
    "z = {\"cherry\", \"micra\", \"bluebird\"}\n",
    "x.update(y, z)\n",
    "\n",
    "print(x)"
   ]
  },
  {
   "cell_type": "code",
   "execution_count": 44,
   "id": "a02ae37b-fc39-4dd0-9461-2190da54a5f3",
   "metadata": {},
   "outputs": [
    {
     "name": "stdout",
     "output_type": "stream",
     "text": [
      "{1, 2, 3, 4, 5, 6}\n"
     ]
    }
   ],
   "source": [
    "set1 = {1, 2, 3}\n",
    "set1.add(4)\n",
    "set1.update([5, 6])\n",
    "\n",
    "print(set1)"
   ]
  },
  {
   "cell_type": "code",
   "execution_count": 45,
   "id": "9f62c3c3-cbec-41a6-abf2-fa16c1e0db62",
   "metadata": {},
   "outputs": [
    {
     "name": "stdout",
     "output_type": "stream",
     "text": [
      "Set after adding elements : {1, 2, 4, 5, 6, 7, 9, 10}\n"
     ]
    }
   ],
   "source": [
    "test_set = {6, 4, 2, 7, 9}\n",
    "s = [1, 5, 10]\n",
    "\n",
    "test_set.update(s)\n",
    "print(\"Set after adding elements : \" + str(test_set))"
   ]
  },
  {
   "cell_type": "markdown",
   "id": "c0f8637f-e0f0-4274-8c76-92614446b4ce",
   "metadata": {},
   "source": [
    "# ➩ __Remove Set Items__\n",
    "\n",
    "#  ⮩ __Remove () method__\n",
    "### To remove an item in a set, use the __remove() method__\n",
    "#### _If the item to remove does not exist, __remove()__ will raise an error._   \n",
    "#### _If the item to remove does not exist, __discard()__ will NOT raise an error._"
   ]
  },
  {
   "cell_type": "code",
   "execution_count": 19,
   "id": "c53f0063-136c-4470-8c54-a998ce0687ff",
   "metadata": {},
   "outputs": [
    {
     "name": "stdout",
     "output_type": "stream",
     "text": [
      "{'cherry', 'apple'}\n"
     ]
    }
   ],
   "source": [
    "thisset = {\"apple\", \"banana\", \"cherry\"}\n",
    "thisset.remove(\"banana\")\n",
    "\n",
    "print(thisset)"
   ]
  },
  {
   "cell_type": "code",
   "execution_count": 46,
   "id": "5df3bf8c-28dd-45bf-9512-43ac01756b62",
   "metadata": {},
   "outputs": [
    {
     "name": "stdout",
     "output_type": "stream",
     "text": [
      "{True, 34, 'banana', 12, 'apple', 23, 23.4}\n"
     ]
    }
   ],
   "source": [
    "myset = {\"apple\",12,23,34,\"banana\",23.4,34.0, \"cherry\", True }\n",
    "myset.remove(\"cherry\")\n",
    "print(myset)"
   ]
  },
  {
   "cell_type": "code",
   "execution_count": 47,
   "id": "aaa274c0-782c-4a60-b7c9-92408168c84d",
   "metadata": {},
   "outputs": [
    {
     "name": "stdout",
     "output_type": "stream",
     "text": [
      "{True, 'cherry', 12, 23, 23.4}\n"
     ]
    }
   ],
   "source": [
    "myset = {\"apple\",12,23,34,\"banana\",23.4,34.0, \"cherry\", True }\n",
    "\n",
    "myset.remove(\"apple\")\n",
    "myset.remove(34.0)\n",
    "myset.remove(\"banana\")\n",
    "\n",
    "print(myset)"
   ]
  },
  {
   "cell_type": "code",
   "execution_count": 9,
   "id": "63dca22c-2b43-4c5e-8b5c-44f826e905e4",
   "metadata": {},
   "outputs": [
    {
     "name": "stdout",
     "output_type": "stream",
     "text": [
      "The original set is : {2, 4, 6, 7, 9}\n",
      "Set after removal : {9, 6, 7}\n"
     ]
    }
   ],
   "source": [
    "myset = {6, 4, 2, 7, 9}\n",
    "print(\"The original set is : \" + str(myset))\n",
    "l = [2, 4, 8]\n",
    "\n",
    "r = myset - set(l)\n",
    "print(\"Set after removal : \" + str(r))"
   ]
  },
  {
   "cell_type": "code",
   "execution_count": 49,
   "id": "1d0b3093-fc09-4fd7-bb0a-70f8384cc7c8",
   "metadata": {},
   "outputs": [
    {
     "name": "stdout",
     "output_type": "stream",
     "text": [
      "{1, 2, 3}\n"
     ]
    }
   ],
   "source": [
    "s = {1, 2, 3, 4}\n",
    "s = set(list(s)[:-1])\n",
    "print(s)"
   ]
  },
  {
   "cell_type": "markdown",
   "id": "32637db2-3535-4680-8c88-8aa9af2a28af",
   "metadata": {},
   "source": [
    "#  ⮩ The __discard () method__\n",
    "### _The __discard()__ method removes the specified item from the set_.\n",
    "\n",
    "### _This method is different from the __remove() method__, because the __remove() method__ will raise an error if the specified item does not exist, and the __discard() method__ will not._"
   ]
  },
  {
   "cell_type": "code",
   "execution_count": 20,
   "id": "1691c780-582b-403f-9a3b-ceafc699e8a7",
   "metadata": {},
   "outputs": [
    {
     "name": "stdout",
     "output_type": "stream",
     "text": [
      "{'cherry', 'apple'}\n"
     ]
    }
   ],
   "source": [
    "thisset = {\"apple\", \"banana\", \"cherry\"}\n",
    "thisset.discard(\"banana\")\n",
    "\n",
    "print(thisset)"
   ]
  },
  {
   "cell_type": "code",
   "execution_count": 95,
   "id": "05b287e9-4b83-4f92-8bf6-6cb60043da00",
   "metadata": {},
   "outputs": [
    {
     "name": "stdout",
     "output_type": "stream",
     "text": [
      "{1, 2, 4, 5}\n"
     ]
    }
   ],
   "source": [
    "a = {1, 2, 3, 4, 5}\n",
    "\n",
    "a.discard(3)\n",
    "a.discard(6)  \n",
    "\n",
    "print(a)"
   ]
  },
  {
   "cell_type": "code",
   "execution_count": 50,
   "id": "6eb6d336-785f-4701-8e26-800ccf44ad0d",
   "metadata": {},
   "outputs": [
    {
     "name": "stdout",
     "output_type": "stream",
     "text": [
      "{1, 2, 3, 4, 5, 6, 7, 8, 9, 10, 11, 12}\n",
      "\n",
      "resultant set :  {1, 2, 3, 4, 5, 6, 7, 8, 9, 10, 12}\n"
     ]
    }
   ],
   "source": [
    "numbers = {1, 2, 3, 4, 5, 6, 7, 8, 9,10, 11, 12}\n",
    "print(numbers)\n",
    "\n",
    "numbers.discard(11)\n",
    "print(\"\\nresultant set : \", numbers)"
   ]
  },
  {
   "cell_type": "markdown",
   "id": "a48cbd21-d57a-4f4b-8734-69d60b1578ed",
   "metadata": {},
   "source": [
    "#  ⮩ __using pop() method__\n",
    "### _the pop() method to remove an item_,  \n",
    "### _but this method __will remove a random item__, so you cannot be sure what item that gets removed_."
   ]
  },
  {
   "cell_type": "code",
   "execution_count": 21,
   "id": "738b9efb-0e4a-4c74-97bc-4cad9b98bda7",
   "metadata": {},
   "outputs": [
    {
     "name": "stdout",
     "output_type": "stream",
     "text": [
      "banana\n",
      "{'cherry', 'apple'}\n"
     ]
    }
   ],
   "source": [
    "thisset = {\"apple\", \"banana\", \"cherry\"}\n",
    "x = thisset.pop()\n",
    "\n",
    "print(x)\n",
    "print(thisset)"
   ]
  },
  {
   "cell_type": "code",
   "execution_count": 51,
   "id": "7cdb6722-66ff-461b-a602-88e75386fde0",
   "metadata": {},
   "outputs": [
    {
     "name": "stdout",
     "output_type": "stream",
     "text": [
      "After 3 elements popped, s1: {4}\n"
     ]
    }
   ],
   "source": [
    "s1 = {1, 2, 3, 4}\n",
    "s1.pop()\n",
    "s1.pop()\n",
    "s1.pop()\n",
    "\n",
    "print(\"After 3 elements popped, s1:\", s1)"
   ]
  },
  {
   "cell_type": "code",
   "execution_count": 52,
   "id": "a1d43db6-c8bd-429e-ad84-8831e91914b7",
   "metadata": {},
   "outputs": [
    {
     "name": "stdout",
     "output_type": "stream",
     "text": [
      "{34, 'apple', 23, 'banana', 23.4, 12}\n"
     ]
    }
   ],
   "source": [
    "myset = {\"apple\",12,23,34,\"banana\",23.4,34.0, True }\n",
    "myset.pop()\n",
    "print(myset)"
   ]
  },
  {
   "cell_type": "code",
   "execution_count": 53,
   "id": "c31978cc-567d-4384-af9b-42d908631664",
   "metadata": {},
   "outputs": [
    {
     "name": "stdout",
     "output_type": "stream",
     "text": [
      "Removed: 1\n",
      "{2, 3, 4, 5}\n"
     ]
    }
   ],
   "source": [
    "a = {1, 2, 3, 4, 5}\n",
    "r = a.pop()\n",
    "print(f\"Removed: {r}\")\n",
    "print(a)"
   ]
  },
  {
   "cell_type": "markdown",
   "id": "ebe11b2e-6d46-4bb1-8c09-0827444f368e",
   "metadata": {},
   "source": [
    "#  ⮩ __clear () method__\n",
    "## _The __clear()__ method empties the set :_"
   ]
  },
  {
   "cell_type": "code",
   "execution_count": 22,
   "id": "7a32afd9-e025-4875-89ee-b12cee58f62f",
   "metadata": {},
   "outputs": [
    {
     "name": "stdout",
     "output_type": "stream",
     "text": [
      "set()\n"
     ]
    }
   ],
   "source": [
    "thisset = {\"apple\", \"banana\", \"cherry\"}\n",
    "\n",
    "thisset.clear()\n",
    "print(thisset)"
   ]
  },
  {
   "cell_type": "code",
   "execution_count": 83,
   "id": "d6656a47-46cd-46c6-a983-3ed203314a11",
   "metadata": {},
   "outputs": [
    {
     "name": "stdout",
     "output_type": "stream",
     "text": [
      "set()\n"
     ]
    }
   ],
   "source": [
    "set1 = {1, 2, 3, 4, 5}\n",
    "set1.clear()\n",
    "print(set1)"
   ]
  },
  {
   "cell_type": "code",
   "execution_count": 54,
   "id": "73b2c19c-607f-4095-a7e7-b1e0ef3ea749",
   "metadata": {},
   "outputs": [
    {
     "name": "stdout",
     "output_type": "stream",
     "text": [
      "After clear() on test_set: set()\n"
     ]
    }
   ],
   "source": [
    "test_set = {1, 2, 3, 4}\n",
    "test_set.clear()\n",
    "print(\"After clear() on test_set:\", test_set)"
   ]
  },
  {
   "cell_type": "code",
   "execution_count": 55,
   "id": "c7f0b575-60f1-4884-9093-6454be65f138",
   "metadata": {},
   "outputs": [
    {
     "name": "stdout",
     "output_type": "stream",
     "text": [
      "set()\n"
     ]
    }
   ],
   "source": [
    "myset = {\"apple\",12,23,34,\"banana\",23.4,34.0, \"cherry\", True }\n",
    "myset.clear()\n",
    "print(myset)"
   ]
  },
  {
   "cell_type": "markdown",
   "id": "348053bd-3f46-43bc-aa22-e1aa998c66b0",
   "metadata": {},
   "source": [
    "#  ⮩ __using del keyword__\n",
    "## _the __del__ keyword will delete the set completely :_"
   ]
  },
  {
   "cell_type": "code",
   "execution_count": 23,
   "id": "882a0ad3-0bbf-4e26-aeef-4af6d82507b3",
   "metadata": {},
   "outputs": [
    {
     "ename": "NameError",
     "evalue": "name 'thisset' is not defined",
     "output_type": "error",
     "traceback": [
      "\u001b[1;31m---------------------------------------------------------------------------\u001b[0m",
      "\u001b[1;31mNameError\u001b[0m                                 Traceback (most recent call last)",
      "Cell \u001b[1;32mIn[23], line 4\u001b[0m\n\u001b[0;32m      1\u001b[0m thisset \u001b[38;5;241m=\u001b[39m {\u001b[38;5;124m\"\u001b[39m\u001b[38;5;124mapple\u001b[39m\u001b[38;5;124m\"\u001b[39m, \u001b[38;5;124m\"\u001b[39m\u001b[38;5;124mbanana\u001b[39m\u001b[38;5;124m\"\u001b[39m, \u001b[38;5;124m\"\u001b[39m\u001b[38;5;124mcherry\u001b[39m\u001b[38;5;124m\"\u001b[39m}\n\u001b[0;32m      3\u001b[0m \u001b[38;5;28;01mdel\u001b[39;00m thisset\n\u001b[1;32m----> 4\u001b[0m \u001b[38;5;28mprint\u001b[39m(thisset)\n",
      "\u001b[1;31mNameError\u001b[0m: name 'thisset' is not defined"
     ]
    }
   ],
   "source": [
    "thisset = {\"apple\", \"banana\", \"cherry\"}      #it will show error as output because it is already deleted after applying del method\n",
    "del thisset\n",
    "print(thisset)"
   ]
  },
  {
   "cell_type": "markdown",
   "id": "ea3ef983-03db-485f-929f-4396e7f44794",
   "metadata": {},
   "source": [
    "# ➩ __Loop Sets__\n",
    "### iterate over a set using for loop\n",
    "# Loop Items\n",
    "### _You can loop through the set items by using a for loop :_   "
   ]
  },
  {
   "cell_type": "code",
   "execution_count": 56,
   "id": "604efb2b-bfca-4310-a79f-1f6241ce0e7c",
   "metadata": {},
   "outputs": [
    {
     "name": "stdout",
     "output_type": "stream",
     "text": [
      "A\n",
      "i\n",
      "V\n",
      "j\n",
      "y\n"
     ]
    }
   ],
   "source": [
    "a = set(\"VijAy\")\n",
    "for i in a:\n",
    "    print(i)"
   ]
  },
  {
   "cell_type": "code",
   "execution_count": 57,
   "id": "31fcb8df-d762-4c86-802b-e0bc10ac102a",
   "metadata": {},
   "outputs": [
    {
     "name": "stdout",
     "output_type": "stream",
     "text": [
      "apple\n",
      "banana\n",
      "cherry\n"
     ]
    }
   ],
   "source": [
    "thisset = {\"apple\", \"banana\", \"cherry\"}\n",
    "\n",
    "for x in thisset:\n",
    "  print(x)"
   ]
  },
  {
   "cell_type": "code",
   "execution_count": 58,
   "id": "32586592-8cb4-4882-9693-404d7fcabf07",
   "metadata": {},
   "outputs": [
    {
     "name": "stdout",
     "output_type": "stream",
     "text": [
      "apple\n",
      "banana\n",
      "cherry\n"
     ]
    }
   ],
   "source": [
    "for x in {'apple', 'banana', 'cherry'}:\n",
    "  print(x)"
   ]
  },
  {
   "cell_type": "code",
   "execution_count": 10,
   "id": "4064f47a-ace8-46d9-961f-a5237a681d6f",
   "metadata": {},
   "outputs": [
    {
     "name": "stdout",
     "output_type": "stream",
     "text": [
      "python coding is awesome True\n"
     ]
    }
   ],
   "source": [
    "set1 = sets = ([\"python\", \"coding\", \"is\", \"awesome\"])\n",
    "for i in set1:\n",
    "    print(i, end=\" \")\n",
    "    \n",
    "print(\"python\" in set1)"
   ]
  },
  {
   "cell_type": "markdown",
   "id": "6fc39f5a-c18a-432a-a77b-8d7085a3ab69",
   "metadata": {},
   "source": [
    "# ➩➩ __Join Sets__ (Set operations)\n",
    "### _There are several ways to join two or more sets in Python._ \n",
    "#### _The __union()__ and __update()__ methods joins all items from both sets_.  \n",
    "#### _The __intersection()__ method keeps ONLY the duplicates._   \n",
    "#### _The __difference() method__ keeps the items from the first set that are not in the other set(s)._ \n",
    "#### _The __symmetric_difference()__ method keeps all items EXCEPT the duplicates._"
   ]
  },
  {
   "cell_type": "markdown",
   "id": "a2b731e0-efd7-416a-9169-cee3071e1f92",
   "metadata": {},
   "source": [
    "# ⮩ __Union () method__\n",
    "### _The __union()__ method returns a new set with all items from both sets._  \n",
    "### _The __union() method__ returns a set that contains all items from the original set, and all items from the specified set(s)._"
   ]
  },
  {
   "cell_type": "code",
   "execution_count": 28,
   "id": "b515cda3-1894-43ff-879e-82d37c20613b",
   "metadata": {},
   "outputs": [
    {
     "name": "stdout",
     "output_type": "stream",
     "text": [
      "{'a', 1, 2, 3, 'b', 'c'}\n"
     ]
    }
   ],
   "source": [
    "set1 = {\"a\", \"b\", \"c\"}\n",
    "set2 = {1, 2, 3}\n",
    "\n",
    "set3 = set1.union(set2)\n",
    "print(set3)"
   ]
  },
  {
   "cell_type": "code",
   "execution_count": 32,
   "id": "15f89bec-f4af-4f34-b292-3149d51f2f01",
   "metadata": {},
   "outputs": [
    {
     "name": "stdout",
     "output_type": "stream",
     "text": [
      "{1, 2, 3, 'b', 'a', 'c'}\n"
     ]
    }
   ],
   "source": [
    "x = {\"a\", \"b\", \"c\"}\n",
    "y = (1, 2, 3)\n",
    "\n",
    "z = x.union(y)\n",
    "print(z)"
   ]
  },
  {
   "cell_type": "code",
   "execution_count": 67,
   "id": "8d1636f2-3439-4938-823f-fc4b8b81b956",
   "metadata": {},
   "outputs": [
    {
     "name": "stdout",
     "output_type": "stream",
     "text": [
      "{'a', 'b', 'f', 'c', 'e', 'd'}\n"
     ]
    }
   ],
   "source": [
    "x = {\"a\", \"b\", \"c\"}\n",
    "y = {\"f\", \"d\", \"a\"}\n",
    "z = {\"c\", \"d\", \"e\"}\n",
    "\n",
    "result = x.union(y, z)\n",
    "\n",
    "print(result)\n"
   ]
  },
  {
   "cell_type": "code",
   "execution_count": 63,
   "id": "cecd1276-d05d-4c85-b810-e066814e9b19",
   "metadata": {},
   "outputs": [
    {
     "name": "stdout",
     "output_type": "stream",
     "text": [
      "using union(): {1, 2, 3, 4, 5, 6}\n"
     ]
    }
   ],
   "source": [
    "A = {1, 2, 3, 4}\n",
    "B = {3, 4, 5, 6}\n",
    "                                         # Using union() method\n",
    "un = A.union(B)\n",
    "print(\"using union():\",un)"
   ]
  },
  {
   "cell_type": "code",
   "execution_count": 158,
   "id": "6ffa99f5-e82f-4c17-b710-c6c8d9d8550c",
   "metadata": {},
   "outputs": [
    {
     "name": "stdout",
     "output_type": "stream",
     "text": [
      "A U B U C: {2, 4, 5, 6, 7, 8, 9, 10}\n",
      "A U B U C: {2, 4, 5, 6, 7, 8, 9, 10}\n"
     ]
    }
   ],
   "source": [
    "A = {2, 4, 5, 6}\n",
    "B = {4, 6, 7, 8}\n",
    "C = {7, 8, 9, 10}\n",
    "\n",
    "print(\"A U B U C:\", A.union(B).union(C))\n",
    "\n",
    "print(\"A U B U C:\", A.union(B, C))"
   ]
  },
  {
   "cell_type": "markdown",
   "id": "cbcb624e-665f-4770-918e-cda9ee6c70e5",
   "metadata": {},
   "source": [
    "## You can use the __|  operator__ instead of the __union() method__, you will get the same result .    "
   ]
  },
  {
   "cell_type": "code",
   "execution_count": 29,
   "id": "7c9ce4c2-65df-4c61-9e6c-d2784b94e15f",
   "metadata": {},
   "outputs": [
    {
     "name": "stdout",
     "output_type": "stream",
     "text": [
      "{'a', 1, 2, 3, 'b', 'c'}\n"
     ]
    }
   ],
   "source": [
    "set1 = {\"a\", \"b\", \"c\"}\n",
    "set2 = {1, 2, 3}\n",
    "\n",
    "set3 = set1 | set2\n",
    "print(set3)"
   ]
  },
  {
   "cell_type": "code",
   "execution_count": 68,
   "id": "d3e949bc-51dd-46d3-95ac-6e29df91dd28",
   "metadata": {},
   "outputs": [
    {
     "name": "stdout",
     "output_type": "stream",
     "text": [
      "{'f', 'a', 'b', 'd', 'c', 'e', 'g'}\n"
     ]
    }
   ],
   "source": [
    "x = {\"a\", \"b\", \"c\"}\n",
    "y = {\"c\", \"d\", \"e\"}\n",
    "z = {\"f\", \"g\", \"c\"}\n",
    "\n",
    "result = x | y | z\n",
    "\n",
    "print(result)"
   ]
  },
  {
   "cell_type": "code",
   "execution_count": 99,
   "id": "8d2e1da7-93cd-441a-b55f-c76541ca9924",
   "metadata": {},
   "outputs": [
    {
     "name": "stdout",
     "output_type": "stream",
     "text": [
      "using '|': {1, 2, 3, 4, 5, 6}\n"
     ]
    }
   ],
   "source": [
    "A = {1, 2, 3, 4}\n",
    "B = {3, 4, 5, 6}\n",
    "                                      # Using '|' operator\n",
    "res1 = A | B\n",
    "print(\"using '|':\", res1)"
   ]
  },
  {
   "cell_type": "markdown",
   "id": "16723bc2-c513-4bca-b107-04cd0a589f56",
   "metadata": {},
   "source": [
    "# __Join Multiple Sets__\n",
    "### _All the joining methods and operators can be used to join multiple sets._\n",
    "### _When using a method , just add more sets in the parentheses , separated by commas :_"
   ]
  },
  {
   "cell_type": "code",
   "execution_count": 30,
   "id": "04b039a5-216f-4416-815e-bccbab91e7dd",
   "metadata": {},
   "outputs": [
    {
     "name": "stdout",
     "output_type": "stream",
     "text": [
      "{1, 2, 3, 'b', 'bananas', 'cherry', 'apple', 'Elena', 'a', 'John', 'c'}\n"
     ]
    }
   ],
   "source": [
    "set1 = {\"a\", \"b\", \"c\"}\n",
    "set2 = {1, 2, 3}\n",
    "set3 = {\"John\", \"Elena\"}\n",
    "set4 = {\"apple\", \"bananas\", \"cherry\"}\n",
    "\n",
    "myset = set1.union(set2, set3, set4)\n",
    "print(myset)"
   ]
  },
  {
   "cell_type": "code",
   "execution_count": 31,
   "id": "01fe08b1-1e11-449d-9d47-e19628434a0d",
   "metadata": {},
   "outputs": [
    {
     "name": "stdout",
     "output_type": "stream",
     "text": [
      "{1, 2, 3, 'b', 'bananas', 'cherry', 'apple', 'Elena', 'a', 'John', 'c'}\n"
     ]
    }
   ],
   "source": [
    "set1 = {\"a\", \"b\", \"c\"}\n",
    "set2 = {1, 2, 3}\n",
    "set3 = {\"John\", \"Elena\"}\n",
    "set4 = {\"apple\", \"bananas\", \"cherry\"}\n",
    "\n",
    "myset = set1 | set2 | set3 |set4\n",
    "print(myset)"
   ]
  },
  {
   "cell_type": "markdown",
   "id": "a4a8a032-b41b-4625-b39a-90f849b37ca4",
   "metadata": {},
   "source": [
    "# ⮩ __The Update () method__\n",
    "### _The __update()__ method inserts all items from one set into another._ \n",
    "### _The _update()_ changes the original set , and does not return a new set._"
   ]
  },
  {
   "cell_type": "code",
   "execution_count": 33,
   "id": "8caf8c37-909d-4990-b63c-363f44f868f3",
   "metadata": {},
   "outputs": [
    {
     "name": "stdout",
     "output_type": "stream",
     "text": [
      "{'a', 1, 2, 3, 'b', 'c'}\n"
     ]
    }
   ],
   "source": [
    "set1 = {\"a\", \"b\" , \"c\"}\n",
    "set2 = {1, 2, 3}\n",
    "\n",
    "set1.update(set2)\n",
    "print(set1)"
   ]
  },
  {
   "cell_type": "markdown",
   "id": "ea8967f0-04da-469f-bf23-5b5388f77525",
   "metadata": {},
   "source": [
    " ### ___Both union() and update() will exclude any duplicate items.___"
   ]
  },
  {
   "cell_type": "markdown",
   "id": "cd45b5d0-fc52-47dd-9c23-4c1a4494587c",
   "metadata": {},
   "source": [
    "# ⮩ __Intersection () method__\n",
    "### _This method Keeps ONLY the duplicates_\n",
    "### _The __intersection() method__ will return a new set, that only contains the items that are present in both sets._\n",
    "\n",
    "#### __Meaning :__ The returned set contains only items that exist in both sets, or in all sets if the comparison is done with more than two sets."
   ]
  },
  {
   "cell_type": "code",
   "execution_count": 64,
   "id": "ed0faf11-1ffe-48bc-baf7-19403ac6ad0a",
   "metadata": {},
   "outputs": [
    {
     "name": "stdout",
     "output_type": "stream",
     "text": [
      "set1 intersection set2 :  set()\n"
     ]
    }
   ],
   "source": [
    "set1 = {}                                     # intersection of two empty sets are same\n",
    "set2 = {}\n",
    "print(\"set1 intersection set2 : \",\n",
    "      set(set1).intersection(set(set2)))"
   ]
  },
  {
   "cell_type": "code",
   "execution_count": 34,
   "id": "f8814729-8fae-4b38-b8f8-4540a91c9bde",
   "metadata": {},
   "outputs": [
    {
     "name": "stdout",
     "output_type": "stream",
     "text": [
      "{'apple'}\n"
     ]
    }
   ],
   "source": [
    "set1 = {\"apple\", \"banana\", \"cherry\"}\n",
    "set2 = {\"google\", \"microsoft\", \"apple\"}\n",
    "\n",
    "set3 = set1.intersection(set2)\n",
    "print(set3)"
   ]
  },
  {
   "cell_type": "code",
   "execution_count": 65,
   "id": "e9d292dd-41ea-4258-8ad6-ebb615819e00",
   "metadata": {},
   "outputs": [
    {
     "name": "stdout",
     "output_type": "stream",
     "text": [
      "using intersection(): {3, 4}\n"
     ]
    }
   ],
   "source": [
    "A = {1, 2, 3, 4}\n",
    "B = {3, 4, 5, 6}\n",
    "                                           # Using intersection() method\n",
    "inter= A.intersection(B)\n",
    "print(\"using intersection():\"  ,inter)"
   ]
  },
  {
   "cell_type": "code",
   "execution_count": 66,
   "id": "8e766b3b-062c-4883-b9c3-f41524e8ce10",
   "metadata": {},
   "outputs": [
    {
     "name": "stdout",
     "output_type": "stream",
     "text": [
      "{False, 1, 'apple'}\n"
     ]
    }
   ],
   "source": [
    "set1 = {\"apple\", 1,  \"banana\", 0, \"cherry\"}           # in sets 0 - considered as 'False',  and 1 - Is considered as 'True'\n",
    "set2 = {False, \"google\", 1, \"apple\", 2, True}\n",
    "\n",
    "set3 = set1.intersection(set2)\n",
    "print(set3)"
   ]
  },
  {
   "cell_type": "code",
   "execution_count": 53,
   "id": "086dc2c7-501c-4cfe-8d70-9a641618522b",
   "metadata": {},
   "outputs": [
    {
     "name": "stdout",
     "output_type": "stream",
     "text": [
      "{'c'}\n"
     ]
    }
   ],
   "source": [
    "x = {\"a\", \"b\", \"c\"}             # multiple sets intersection\n",
    "y = {\"c\", \"d\", \"e\"}\n",
    "z = {\"f\", \"g\", \"c\"}\n",
    "\n",
    "result = x.intersection(y, z)\n",
    "print(result)"
   ]
  },
  {
   "cell_type": "code",
   "execution_count": 71,
   "id": "6430395a-c610-4c29-ba12-81a1c3fd1239",
   "metadata": {},
   "outputs": [
    {
     "name": "stdout",
     "output_type": "stream",
     "text": [
      "{'c'}\n",
      "{2, 3}\n"
     ]
    }
   ],
   "source": [
    "                                                                # multiple sets intersection\n",
    "x, y, z = {\"a\", \"b\", \"c\"}, {\"c\", \"d\", \"e\"}, {\"a\", \"d\", \"c\"}\n",
    "a, b, c, d = {1, 2, 3}, {3, 2, 5}, {6, 7, 2, 3},{1, 2, 3}\n",
    "\n",
    "result = x.intersection(y, z)\n",
    "print(result)\n",
    "print(a.intersection(b, c, d))"
   ]
  },
  {
   "cell_type": "code",
   "execution_count": 72,
   "id": "438811ee-f252-4c4b-a32f-f26d87e1ed1b",
   "metadata": {},
   "outputs": [
    {
     "name": "stdout",
     "output_type": "stream",
     "text": [
      "{45, 69}\n"
     ]
    }
   ],
   "source": [
    "# PROBLEM\n",
    "\n",
    "# Return a new set of identical items from two sets :\n",
    "\n",
    "set1 = {23,34,45,56,69}\n",
    "set2 = {12,4,36,45,69}\n",
    "print( set1.intersection(set2))"
   ]
  },
  {
   "cell_type": "markdown",
   "id": "ac98d6c7-e33c-4aa4-836c-59bdeb8f2925",
   "metadata": {},
   "source": [
    "## you can use the __&  operator__ instead of the __intersection()__ method , you will get the same result ."
   ]
  },
  {
   "cell_type": "code",
   "execution_count": 35,
   "id": "7f426d32-1d6a-4183-b08c-9e2c66eb8a09",
   "metadata": {},
   "outputs": [
    {
     "name": "stdout",
     "output_type": "stream",
     "text": [
      "{'apple'}\n"
     ]
    }
   ],
   "source": [
    "set1 = {\"apple\", \"banana\", \"cherry\"}\n",
    "set2 = {\"google\", \"microsoft\", \"apple\"}\n",
    "\n",
    "set3 = set1 & set2\n",
    "print(set3)"
   ]
  },
  {
   "cell_type": "code",
   "execution_count": 52,
   "id": "18652564-e914-4d9f-8ace-8a0ad1662f68",
   "metadata": {},
   "outputs": [
    {
     "name": "stdout",
     "output_type": "stream",
     "text": [
      "{'apple'}\n"
     ]
    }
   ],
   "source": [
    "x = {\"apple\", \"banana\", \"cherry\"}\n",
    "y = {\"google\", \"microsoft\", \"apple\"}\n",
    "\n",
    "z = x & y\n",
    "print(z)"
   ]
  },
  {
   "cell_type": "code",
   "execution_count": 54,
   "id": "3903af3d-83dd-462c-8658-f7840d2640a3",
   "metadata": {},
   "outputs": [
    {
     "name": "stdout",
     "output_type": "stream",
     "text": [
      "{'c'}\n"
     ]
    }
   ],
   "source": [
    "x = {\"a\", \"b\", \"c\"}\n",
    "y = {\"c\", \"d\", \"e\"}\n",
    "z = {\"f\", \"g\", \"c\"}\n",
    "\n",
    "result = x & y & z\n",
    "print(result)"
   ]
  },
  {
   "cell_type": "code",
   "execution_count": 73,
   "id": "2bfcd768-d3f7-4115-96e2-cbfb21184ba9",
   "metadata": {},
   "outputs": [
    {
     "name": "stdout",
     "output_type": "stream",
     "text": [
      "{5, 21}\n"
     ]
    }
   ],
   "source": [
    "set_1 = {21, 10, 5, 11, 12}                       # multiple sets intersection\n",
    "set_2 = {5, 21, 3, 8, 9}\n",
    "set_3 = {1, 21, 5, 3, 4, 5}\n",
    "set_4 = set_1 & set_2 & set_3\n",
    "\n",
    "print(set_4)"
   ]
  },
  {
   "cell_type": "code",
   "execution_count": 75,
   "id": "0c3ae572-458e-4ea0-80cf-941b6a2a4a6b",
   "metadata": {},
   "outputs": [
    {
     "name": "stdout",
     "output_type": "stream",
     "text": [
      "using '&': {3, 4}\n"
     ]
    }
   ],
   "source": [
    "A = {1, 2, 3, 4}\n",
    "B = {3, 4, 5, 6}\n",
    "\n",
    "                           # Using '&' operator\n",
    "res1 = A & B\n",
    "print(\"using '&':\",  res1)"
   ]
  },
  {
   "cell_type": "markdown",
   "id": "0f2d47f7-c19a-47a6-b73a-c71bd839417b",
   "metadata": {},
   "source": [
    "# ⮩  __The intersection_update() method__ \n",
    "### _The __intersection_update()__ method will also KEEP ONLY THE DUPLICATES , but it will change the original set instead of returning a new set._"
   ]
  },
  {
   "cell_type": "code",
   "execution_count": 36,
   "id": "98ec953c-e6ba-46b2-8940-11542c9f7848",
   "metadata": {},
   "outputs": [
    {
     "name": "stdout",
     "output_type": "stream",
     "text": [
      "{'apple'}\n"
     ]
    }
   ],
   "source": [
    "set1 = {\"apple\", \"banana\", \"cherry\"}\n",
    "set2 = {\"google\", \"microsoft\", \"apple\"}\n",
    "\n",
    "set1.intersection_update(set2)\n",
    "\n",
    "print(set1)"
   ]
  },
  {
   "cell_type": "code",
   "execution_count": 56,
   "id": "82082b50-db78-4be5-bcae-2f115cd41df6",
   "metadata": {},
   "outputs": [
    {
     "name": "stdout",
     "output_type": "stream",
     "text": [
      "{'c'}\n"
     ]
    }
   ],
   "source": [
    "x = {\"a\", \"b\", \"c\"}\n",
    "y = {\"c\", \"d\", \"e\"}\n",
    "z = {\"f\", \"g\", \"c\"}\n",
    "\n",
    "x.intersection_update(y, z)\n",
    "\n",
    "print(x)"
   ]
  },
  {
   "cell_type": "code",
   "execution_count": 76,
   "id": "5f407408-7400-4763-a618-aa8bc9e481f3",
   "metadata": {},
   "outputs": [
    {
     "name": "stdout",
     "output_type": "stream",
     "text": [
      "set1: {'java', 'html', 'c/cpp', 'python'}\n",
      "set2: {'java', 'php', 'R', 'html'}\n",
      "set3: {'java', 'python', 'ml', 'dl'}\n",
      "set4: {'java', 'R', 'python', 'swift'}\n",
      "\n",
      "After intersection_update, set1: {'java'}\n"
     ]
    }
   ],
   "source": [
    "set1 = {\"java\", \"python\", \"c/cpp\", \"html\"}\n",
    "set2 = {\"php\", \"html\", \"java\", \"R\"}\n",
    "set3 = {\"java\", \"python\", \"ml\", \"dl\"}\n",
    "set4 = {\"python\", \"java\", \"swift\", \"R\"}\n",
    "\n",
    "print(\"set1: {}\\nset2: {}\\nset3: {}\\nset4: {}\\n\".format(set1, set2, set3, set4))\n",
    "\n",
    "set1.intersection_update(set2, set3, set4)\n",
    "\n",
    "print(\"After intersection_update, set1:\", set1)"
   ]
  },
  {
   "cell_type": "markdown",
   "id": "aefdd3bc-a384-41f1-9c51-e96289a52b05",
   "metadata": {},
   "source": [
    "## Use __&=__  as a shortcut instead of __intersection_update() :__ you get the same result"
   ]
  },
  {
   "cell_type": "code",
   "execution_count": 55,
   "id": "7640bfb7-ec13-448e-b87f-d0fe69512dad",
   "metadata": {},
   "outputs": [
    {
     "name": "stdout",
     "output_type": "stream",
     "text": [
      "{'apple'}\n"
     ]
    }
   ],
   "source": [
    "x = {\"apple\", \"banana\", \"cherry\"}\n",
    "y = {\"google\", \"microsoft\", \"apple\"}\n",
    "\n",
    "x &= y\n",
    "\n",
    "print(x)"
   ]
  },
  {
   "cell_type": "code",
   "execution_count": 82,
   "id": "88918543-e8e2-4bd4-b302-5fa666293d66",
   "metadata": {},
   "outputs": [
    {
     "name": "stdout",
     "output_type": "stream",
     "text": [
      "{'c'}\n"
     ]
    }
   ],
   "source": [
    "x = {\"a\", \"b\", \"c\"}\n",
    "y = {\"c\", \"d\", \"e\"}\n",
    "z = {\"f\", \"g\", \"c\"}\n",
    "\n",
    "x &= y & z\n",
    "\n",
    "print(result)"
   ]
  },
  {
   "cell_type": "markdown",
   "id": "90f6f8ab-4de9-4683-b69a-1ce8444dd92a",
   "metadata": {},
   "source": [
    "# ⮩ __difference () method__\n",
    "### _The __difference()__ method will return a new set that will contain only the items from the first set that are not present in the other set ._\n"
   ]
  },
  {
   "cell_type": "code",
   "execution_count": 44,
   "id": "45eafd2d-14cb-4f68-afea-eb5bce9624b4",
   "metadata": {},
   "outputs": [
    {
     "name": "stdout",
     "output_type": "stream",
     "text": [
      "{'banana', 'cherry'}\n"
     ]
    }
   ],
   "source": [
    "x = {\"apple\", \"banana\", \"cherry\"}\n",
    "y = {\"google\", \"microsoft\", \"apple\"}\n",
    "\n",
    "z = x.difference(y)\n",
    "\n",
    "print(z)"
   ]
  },
  {
   "cell_type": "code",
   "execution_count": 78,
   "id": "19b3b642-9986-441d-bedb-0e601c51b241",
   "metadata": {},
   "outputs": [
    {
     "name": "stdout",
     "output_type": "stream",
     "text": [
      "{'banana'}\n"
     ]
    }
   ],
   "source": [
    "a = {\"apple\", \"banana\", \"cherry\"}\n",
    "b = {\"google\", \"microsoft\", \"apple\"}\n",
    "c = {\"cherry\", \"micra\", \"bluebird\"}\n",
    "\n",
    "myset = a.difference(b, c)\n",
    "print(myset)"
   ]
  },
  {
   "cell_type": "code",
   "execution_count": 85,
   "id": "0f99b5e1-d4fb-4933-8beb-4ac5e9849a1b",
   "metadata": {},
   "outputs": [
    {
     "name": "stdout",
     "output_type": "stream",
     "text": [
      "{'microsoft', 'google'}\n",
      "{'banana', 'cherry'}\n"
     ]
    }
   ],
   "source": [
    "K = {\"apple\", \"banana\", \"cherry\"}\n",
    "L  = {\"google\", \"microsoft\", \"apple\"}\n",
    "\n",
    "M  = L.difference(K)\n",
    "print(M)\n",
    "print(K.difference(L))"
   ]
  },
  {
   "cell_type": "code",
   "execution_count": 86,
   "id": "6f4b4b56-30d6-4e98-86d8-2764d43e14f5",
   "metadata": {},
   "outputs": [
    {
     "name": "stdout",
     "output_type": "stream",
     "text": [
      "using difference(): {1, 2}\n"
     ]
    }
   ],
   "source": [
    "A = {1, 2, 3, 4}\n",
    "B = {3, 4, 5, 6}\n",
    "                                   # Using difference() method\n",
    "C = A.difference(B)\n",
    "print(\"using difference():\", C)"
   ]
  },
  {
   "cell_type": "code",
   "execution_count": 87,
   "id": "50a0b0d8-9dec-4cd4-88ca-98c8fe252b12",
   "metadata": {},
   "outputs": [
    {
     "name": "stdout",
     "output_type": "stream",
     "text": [
      "{40, 10, 20, 30}\n"
     ]
    }
   ],
   "source": [
    "A = {10, 20, 30, 40}\n",
    "B = set()\n",
    "print(A.difference(B))"
   ]
  },
  {
   "cell_type": "code",
   "execution_count": 88,
   "id": "f8ea2442-96cc-4a80-8257-cd7311a04d79",
   "metadata": {},
   "outputs": [
    {
     "name": "stdout",
     "output_type": "stream",
     "text": [
      "set()\n"
     ]
    }
   ],
   "source": [
    "A = {10, 20, 30, 40, 80}\n",
    "B = {10, 20, 30, 40, 80, 100}\n",
    "print(A.difference(B))                       # Returns an empty set as A is fully contained in B"
   ]
  },
  {
   "cell_type": "markdown",
   "id": "26ca4929-e4ca-431c-80e1-543a8c866542",
   "metadata": {},
   "source": [
    "## You can use the __- operator__  instead of the __difference() method__, and you will get the same result.."
   ]
  },
  {
   "cell_type": "code",
   "execution_count": 38,
   "id": "3b2d4b83-0f1a-4e96-9a13-99a4ef36d951",
   "metadata": {},
   "outputs": [
    {
     "name": "stdout",
     "output_type": "stream",
     "text": [
      "{'banana', 'cherry'}\n"
     ]
    }
   ],
   "source": [
    "set1 = {\"apple\", \"banana\", \"cherry\"}\n",
    "set2 = {\"google\", \"microsoft\", \"apple\"}\n",
    "\n",
    "set3 = set1 - set2\n",
    "print(set3)"
   ]
  },
  {
   "cell_type": "code",
   "execution_count": 45,
   "id": "f495df01-fc81-45e1-902a-1e645f5fe5a8",
   "metadata": {},
   "outputs": [
    {
     "name": "stdout",
     "output_type": "stream",
     "text": [
      "{'banana', 'cherry'}\n"
     ]
    }
   ],
   "source": [
    "a = {\"apple\", \"banana\", \"cherry\"}\n",
    "b = {\"google\", \"microsoft\", \"apple\"}\n",
    "\n",
    "myset = a - b\n",
    "\n",
    "print(myset)"
   ]
  },
  {
   "cell_type": "code",
   "execution_count": 47,
   "id": "9bdb2143-38b1-40a6-8e19-52936cdc7261",
   "metadata": {},
   "outputs": [
    {
     "name": "stdout",
     "output_type": "stream",
     "text": [
      "{'banana'}\n"
     ]
    }
   ],
   "source": [
    "a = {\"apple\", \"banana\", \"cherry\"}\n",
    "b = {\"google\", \"microsoft\", \"apple\"}\n",
    "c = {\"cherry\", \"micra\", \"bluebird\"}\n",
    "\n",
    "myset = a - b - c\n",
    "\n",
    "print(myset)"
   ]
  },
  {
   "cell_type": "code",
   "execution_count": 90,
   "id": "9e3968d7-90b4-40f6-97fc-06f1821e75c0",
   "metadata": {},
   "outputs": [
    {
     "name": "stdout",
     "output_type": "stream",
     "text": [
      "using '-': {1, 2}\n"
     ]
    }
   ],
   "source": [
    "A = {1, 2, 3, 4}\n",
    "B = {3, 4, 5, 6}\n",
    "\n",
    "                              # Using '-' operator\n",
    "res1 = A - B\n",
    "print(\"using '-':\", res1)"
   ]
  },
  {
   "cell_type": "markdown",
   "id": "6c18565b-9175-495c-8d42-95976bc3a0fa",
   "metadata": {},
   "source": [
    "# ⮩ __difference_update ()__\n",
    "### _The __difference_update()__ method removes the items that exist in both sets_.\n",
    "### _The __difference_update() method__ is different from the __difference() method__, because the __difference() method returns a new set__, without the unwanted items, and the difference_update() method removes the unwanted items from the original set._"
   ]
  },
  {
   "cell_type": "code",
   "execution_count": 49,
   "id": "f67845d8-823e-483a-b6d0-8693705d09c7",
   "metadata": {},
   "outputs": [
    {
     "name": "stdout",
     "output_type": "stream",
     "text": [
      "{'banana', 'cherry'}\n"
     ]
    }
   ],
   "source": [
    "x = {\"apple\", \"banana\", \"cherry\"}\n",
    "y = {\"google\", \"microsoft\", \"apple\"}\n",
    "\n",
    "x.difference_update(y)\n",
    "\n",
    "print(x)"
   ]
  },
  {
   "cell_type": "code",
   "execution_count": 51,
   "id": "f50e2cd0-4402-40bf-a945-30db78b40878",
   "metadata": {},
   "outputs": [
    {
     "name": "stdout",
     "output_type": "stream",
     "text": [
      "{'banana'}\n"
     ]
    }
   ],
   "source": [
    "a = {\"apple\", \"banana\", \"cherry\"}\n",
    "b = {\"google\", \"microsoft\", \"apple\"}\n",
    "c = {\"cherry\", \"micra\", \"bluebird\"}\n",
    "\n",
    "a.difference_update(b, c)\n",
    "\n",
    "print(a)"
   ]
  },
  {
   "cell_type": "code",
   "execution_count": 91,
   "id": "36bcaad9-e5dc-4216-a9bd-cd4b7a28982b",
   "metadata": {},
   "outputs": [
    {
     "name": "stdout",
     "output_type": "stream",
     "text": [
      "{20, 10}\n"
     ]
    }
   ],
   "source": [
    "A = {10, 20, 30, 40, 80}\n",
    "B = {100, 30, 80, 40, 60}\n",
    "\n",
    "A.difference_update(B)\n",
    "print (A)"
   ]
  },
  {
   "cell_type": "markdown",
   "id": "c51294e0-cddf-46a9-a7b7-db360937f4a6",
   "metadata": {},
   "source": [
    "## Use __-=__  as a shortcut instead of __difference_update()__ :"
   ]
  },
  {
   "cell_type": "code",
   "execution_count": 50,
   "id": "e3c34012-993a-43e1-b9a2-fa7a7445550b",
   "metadata": {},
   "outputs": [
    {
     "name": "stdout",
     "output_type": "stream",
     "text": [
      "{'banana', 'cherry'}\n"
     ]
    }
   ],
   "source": [
    "a = {\"apple\", \"banana\", \"cherry\"}\n",
    "b = {\"google\", \"microsoft\", \"apple\"}\n",
    "\n",
    "a -= b\n",
    "\n",
    "print(a)"
   ]
  },
  {
   "cell_type": "code",
   "execution_count": 92,
   "id": "ff90f36b-f4b4-45d7-9d0c-2af82e0dde74",
   "metadata": {},
   "outputs": [
    {
     "name": "stdout",
     "output_type": "stream",
     "text": [
      "{'banana'}\n"
     ]
    }
   ],
   "source": [
    "a = {\"apple\", \"banana\", \"cherry\"}\n",
    "b = {\"google\", \"microsoft\", \"apple\"}\n",
    "c = {\"cherry\", \"micra\", \"bluebird\"}\n",
    "\n",
    "a -= b | c\n",
    "\n",
    "print(myset)"
   ]
  },
  {
   "cell_type": "markdown",
   "id": "37eef02e-294a-40c0-9063-9c718c99b283",
   "metadata": {},
   "source": [
    "# ⮩  __Symmetric Difference ()__\n",
    "### _The __symmetric_difference()__ method will keep only the elements that are NOT present in both sets._    \n",
    "### _You can use the __^ operator__ instead of the __symmetric_difference() method__, and you will get the same result._"
   ]
  },
  {
   "cell_type": "code",
   "execution_count": 40,
   "id": "9925e9bd-8a14-4b9c-93ae-8c0b1164ece5",
   "metadata": {},
   "outputs": [
    {
     "name": "stdout",
     "output_type": "stream",
     "text": [
      "{'banana', 'microsoft', 'cherry', 'google'}\n"
     ]
    }
   ],
   "source": [
    "set1 = {\"apple\", \"banana\", \"cherry\"}\n",
    "set2 = {\"google\", \"microsoft\", \"apple\"}\n",
    "\n",
    "set3 = set1.symmetric_difference(set2)\n",
    "\n",
    "print(set3)"
   ]
  },
  {
   "cell_type": "code",
   "execution_count": 93,
   "id": "26617a82-d2ca-4cfe-8fdc-e024e94f365d",
   "metadata": {},
   "outputs": [
    {
     "name": "stdout",
     "output_type": "stream",
     "text": [
      "using symmetric_difference(): {1, 2, 5, 6}\n"
     ]
    }
   ],
   "source": [
    "A = {1, 2, 3, 4}\n",
    "B = {3, 4, 5, 6}\n",
    "                                         # Using symmetric_difference() method\n",
    "res2 = A.symmetric_difference(B)\n",
    "print(\"using symmetric_difference():\", res2)"
   ]
  },
  {
   "cell_type": "code",
   "execution_count": 94,
   "id": "dfd47e65-d344-41a1-ab0a-29da0ad0c03f",
   "metadata": {},
   "outputs": [
    {
     "name": "stdout",
     "output_type": "stream",
     "text": [
      "{2, 5, 7, 8}\n",
      "{0, 1, 2, 4, 5, 6, 12}\n",
      "{0, 1, 4, 6, 7, 8, 12}\n"
     ]
    }
   ],
   "source": [
    "set1 = {2, 4, 5, 6}\n",
    "set2 = {4, 6, 7, 8}\n",
    "set3 = {1, 0, 12}\n",
    "\n",
    "print(set1.symmetric_difference(set2))\n",
    "print(set1.symmetric_difference(set3))\n",
    "print(set2.symmetric_difference(set3))"
   ]
  },
  {
   "cell_type": "markdown",
   "id": "57f96470-27c6-43c7-9f73-4ce63302af2c",
   "metadata": {},
   "source": [
    "## use the __^ operator__ instead of the __symmetric_difference()__"
   ]
  },
  {
   "cell_type": "code",
   "execution_count": 41,
   "id": "3a0e472e-8503-4315-923d-e331e45c8a04",
   "metadata": {},
   "outputs": [
    {
     "name": "stdout",
     "output_type": "stream",
     "text": [
      "{'banana', 'microsoft', 'cherry', 'google'}\n"
     ]
    }
   ],
   "source": [
    "set1 = {\"apple\", \"banana\", \"cherry\"}\n",
    "set2 = {\"google\", \"microsoft\", \"apple\"}\n",
    "\n",
    "set3 = set1 ^ set2\n",
    "print(set3)"
   ]
  },
  {
   "cell_type": "code",
   "execution_count": 96,
   "id": "b8deb501-5627-42a6-9542-dd048f04b8f5",
   "metadata": {},
   "outputs": [
    {
     "name": "stdout",
     "output_type": "stream",
     "text": [
      "using '^': {1, 2, 5, 6}\n"
     ]
    }
   ],
   "source": [
    "A = {1, 2, 3, 4}\n",
    "B = {3, 4, 5, 6}\n",
    "\n",
    "                                  # Using '^' operator\n",
    "res1 = A ^ B\n",
    "print(\"using '^':\", res1)"
   ]
  },
  {
   "cell_type": "markdown",
   "id": "25476425-7f42-4f41-8873-aabbd1a2d2ff",
   "metadata": {},
   "source": [
    "# ⮩   __symmetric_difference_update() method__\n",
    "### _The __symmetric_difference_update() method__ updates the original set by removing items that are present in both sets, and inserting the other items._"
   ]
  },
  {
   "cell_type": "code",
   "execution_count": 42,
   "id": "0f1cf154-b378-4d22-8c3d-ce0d8a2d5eb3",
   "metadata": {},
   "outputs": [
    {
     "name": "stdout",
     "output_type": "stream",
     "text": [
      "{'banana', 'microsoft', 'cherry', 'google'}\n"
     ]
    }
   ],
   "source": [
    "set1 = {\"apple\", \"banana\", \"cherry\"}\n",
    "set2 = {\"google\", \"microsoft\", \"apple\"}\n",
    "\n",
    "set1.symmetric_difference_update(set2)\n",
    "\n",
    "print(set1)"
   ]
  },
  {
   "cell_type": "code",
   "execution_count": 97,
   "id": "18d436ab-1c50-4998-9c55-751cc7aa45db",
   "metadata": {},
   "outputs": [
    {
     "name": "stdout",
     "output_type": "stream",
     "text": [
      "A =  {1, 2, 3, 6, 7, 8}\n",
      "A =  {3, 5, 6, 8}\n"
     ]
    }
   ],
   "source": [
    "A = {1, 2, 3, 4, 5, 6}\n",
    "B = [4, 5, 7, 8]\n",
    "A.symmetric_difference_update(B)\n",
    "print(\"A = \", A)\n",
    "\n",
    "A = {2, 4, 6, 8}\n",
    "B = (i for i in range(2, 6))\n",
    "A.symmetric_difference_update(B)\n",
    "print(\"A = \", A)"
   ]
  },
  {
   "cell_type": "markdown",
   "id": "30770802-3bc3-4893-ae8f-b62289aaaf10",
   "metadata": {},
   "source": [
    "## Use __^=__ as a shortcut instead of __symmetric_difference_update()__ :"
   ]
  },
  {
   "cell_type": "code",
   "execution_count": 66,
   "id": "3c991583-7994-4ebb-b10a-5d9dcff20205",
   "metadata": {},
   "outputs": [
    {
     "name": "stdout",
     "output_type": "stream",
     "text": [
      "{'banana', 'microsoft', 'cherry', 'google'}\n"
     ]
    }
   ],
   "source": [
    "x = {\"apple\", \"banana\", \"cherry\"}\n",
    "y = {\"google\", \"microsoft\", \"apple\"}\n",
    "\n",
    "x ^= y\n",
    "\n",
    "print(x)"
   ]
  },
  {
   "cell_type": "markdown",
   "id": "0a3cdf86-b693-4168-a527-5deec7d7b34f",
   "metadata": {},
   "source": [
    "# ⮩ __copy() method__\n",
    "### _The __copy() method__ copies the set._"
   ]
  },
  {
   "cell_type": "code",
   "execution_count": 43,
   "id": "787420ed-a550-41f1-97be-b86541cade03",
   "metadata": {},
   "outputs": [
    {
     "name": "stdout",
     "output_type": "stream",
     "text": [
      "{'banana', 'cherry', 'apple'}\n"
     ]
    }
   ],
   "source": [
    "fruits = {\"apple\", \"banana\", \"cherry\"}\n",
    "x = fruits.copy()\n",
    "print(x)"
   ]
  },
  {
   "cell_type": "code",
   "execution_count": 98,
   "id": "c0b6f83f-87b3-422a-842b-2874ccf9d890",
   "metadata": {},
   "outputs": [
    {
     "name": "stdout",
     "output_type": "stream",
     "text": [
      "{1, 2, 3, 4}\n"
     ]
    }
   ],
   "source": [
    "set1 = {1, 2, 3, 4} \n",
    "set2 = set1.copy() \n",
    "\n",
    "print(set2)"
   ]
  },
  {
   "cell_type": "code",
   "execution_count": 103,
   "id": "a924ec92-645f-4b92-91b9-002059e620db",
   "metadata": {},
   "outputs": [
    {
     "name": "stdout",
     "output_type": "stream",
     "text": [
      "before adding : \n",
      "first :  {'v', 'a', 'r', 'n', 'i'}\n",
      "second :  {'v', 'a', 'r', 'n', 'i'}\n",
      "after adding : \n",
      "first :  {'v', 'a', 'r', 'n', 'i'}\n",
      "second :  {'v', 'a', 'r', 'n', 'j', 'i'}\n"
     ]
    }
   ],
   "source": [
    "first = {'r', 'a', 'n', 'v', 'i'}\n",
    "second = first.copy()\n",
    "                               # before adding\n",
    "print ('before adding : ')\n",
    "print ('first : ',first)\n",
    "print ('second : ', second )\n",
    "\n",
    "second.add('j')\n",
    "                               # after adding\n",
    "print ('after adding : ')\n",
    "print ('first : ', first)\n",
    "print ('second : ', second)"
   ]
  },
  {
   "cell_type": "markdown",
   "id": "baf08801-d3a4-4371-a784-f4097819f5ca",
   "metadata": {},
   "source": [
    "# ⮩ __isdisjoint () method__ \n",
    "### _The __isdisjoint() method__ returns __True__ , if none of the items are present in both sets , otherwise it returns __False__._\n",
    "\n"
   ]
  },
  {
   "cell_type": "code",
   "execution_count": 58,
   "id": "8e6c7da8-b7b3-4444-a584-c38958f962d7",
   "metadata": {},
   "outputs": [
    {
     "name": "stdout",
     "output_type": "stream",
     "text": [
      "False\n"
     ]
    }
   ],
   "source": [
    "x = {\"apple\", \"banana\", \"cherry\"}\n",
    "y = {\"google\", \"microsoft\", \"apple\"}\n",
    "\n",
    "z = x.isdisjoint(y)\n",
    "\n",
    "print(z)"
   ]
  },
  {
   "cell_type": "code",
   "execution_count": 100,
   "id": "b2aa2468-459d-4ae9-859a-36fde5f276f9",
   "metadata": {},
   "outputs": [
    {
     "name": "stdout",
     "output_type": "stream",
     "text": [
      "True\n"
     ]
    }
   ],
   "source": [
    "s1 = {1, 2, 3}\n",
    "s2 = {4, 5, 6}\n",
    "print(s1.isdisjoint(s2))"
   ]
  },
  {
   "cell_type": "code",
   "execution_count": 102,
   "id": "8d658d8a-726e-4b0b-9541-038dd41473d2",
   "metadata": {},
   "outputs": [
    {
     "name": "stdout",
     "output_type": "stream",
     "text": [
      "True\n"
     ]
    }
   ],
   "source": [
    "s1 = set()                                       # defining empty sets\n",
    "s2 = set()\n",
    "print(s1.isdisjoint(s2))"
   ]
  },
  {
   "cell_type": "code",
   "execution_count": 101,
   "id": "166229cb-fcff-4391-8775-674dfc7abe67",
   "metadata": {},
   "outputs": [
    {
     "name": "stdout",
     "output_type": "stream",
     "text": [
      "Set A and List lis disjoint?   :  False\n",
      "Set A and dict are disjoint?   :   False\n",
      "Set A and dict2 are disjoint?  :  True\n"
     ]
    }
   ],
   "source": [
    "A = {2, 4, 5, 6}\n",
    "lis = [1, 2, 3, 4, 5]                      # List\n",
    "\n",
    "dict = {1: 'Apple', 2: 'Orange'}          # dictionaries\n",
    "dict2 = {'Apple': 1, 'Orange': 2}\n",
    "\n",
    "print(\"Set A and List lis disjoint?   : \", A.isdisjoint(lis))\n",
    "print(\"Set A and dict are disjoint?   :  \" , A.isdisjoint(dict))\n",
    "print(\"Set A and dict2 are disjoint?  : \", A.isdisjoint(dict2))"
   ]
  },
  {
   "cell_type": "markdown",
   "id": "766b0806-1015-419e-aede-0cad9b76eb98",
   "metadata": {},
   "source": [
    "# ⮩ __issubset() method__\n",
    "### _The __issubset() method__ returns __True__ if all items in the set exists in the specified set, otherwise it returns __False__._      \n",
    "### _As a shortcut, you can use the __<= operator__ instead, see example below._"
   ]
  },
  {
   "cell_type": "code",
   "execution_count": 59,
   "id": "211dd14e-0dbf-4988-a769-36544d470a31",
   "metadata": {},
   "outputs": [
    {
     "name": "stdout",
     "output_type": "stream",
     "text": [
      "True\n"
     ]
    }
   ],
   "source": [
    "x = {\"a\", \"b\", \"c\"}\n",
    "y = {\"f\", \"e\", \"d\", \"c\", \"b\", \"a\"}\n",
    "\n",
    "z = x.issubset(y)\n",
    "\n",
    "print(z)"
   ]
  },
  {
   "cell_type": "code",
   "execution_count": 61,
   "id": "5470b52a-a264-484a-8dc0-a9bba2151371",
   "metadata": {},
   "outputs": [
    {
     "name": "stdout",
     "output_type": "stream",
     "text": [
      "False\n"
     ]
    }
   ],
   "source": [
    "x = {\"a\", \"b\", \"c\"}\n",
    "y = {\"f\", \"e\", \"d\", \"c\", \"b\"}\n",
    "\n",
    "z = x.issubset(y)\n",
    "\n",
    "print(z)"
   ]
  },
  {
   "cell_type": "code",
   "execution_count": 141,
   "id": "667c2189-4197-45e8-9b7b-5a256b96dbc7",
   "metadata": {},
   "outputs": [
    {
     "name": "stdout",
     "output_type": "stream",
     "text": [
      "True\n"
     ]
    }
   ],
   "source": [
    "s1 = {1, 2, 3, 4, 5}\n",
    "s2 = {4, 5}\n",
    "print(s2.issubset(s1))"
   ]
  },
  {
   "cell_type": "code",
   "execution_count": 142,
   "id": "46a7976b-569e-452e-a09c-41411ffdbc6b",
   "metadata": {},
   "outputs": [
    {
     "name": "stdout",
     "output_type": "stream",
     "text": [
      "True\n",
      "False\n"
     ]
    }
   ],
   "source": [
    "A = {4, 1, 3, 5}\n",
    "B = {6, 0, 4, 1, 5, 0, 3, 5}\n",
    "print(A.issubset(B))\n",
    "print(B.issubset(A))"
   ]
  },
  {
   "cell_type": "markdown",
   "id": "1d214cf7-4405-4b71-be0c-cf252171b430",
   "metadata": {},
   "source": [
    "## Use __<=__ as a shortcut instead of __issubset()__ :"
   ]
  },
  {
   "cell_type": "code",
   "execution_count": 60,
   "id": "4481161f-fd5d-46e1-a9b7-3ef2998bbaef",
   "metadata": {},
   "outputs": [
    {
     "name": "stdout",
     "output_type": "stream",
     "text": [
      "True\n"
     ]
    }
   ],
   "source": [
    "x = {\"a\", \"b\", \"c\"}\n",
    "y = {\"f\", \"e\", \"d\", \"c\", \"b\", \"a\"}\n",
    "z = x <= y\n",
    "print(z)"
   ]
  },
  {
   "cell_type": "markdown",
   "id": "167f4582-9f50-452d-8827-aa8f86e1f76d",
   "metadata": {},
   "source": [
    "# ⮩  __issuperset() method__\n",
    "### _The __issuperset() method__ returns __True__ , if all items in the specified set exists in the original set, otherwise it returns __False__._\n",
    "### As a shortcut, you can use the __>= operator__  instead of __issuperset ()__:"
   ]
  },
  {
   "cell_type": "code",
   "execution_count": 62,
   "id": "cfa79fd7-88c0-400e-9acc-f1eb98887859",
   "metadata": {},
   "outputs": [
    {
     "name": "stdout",
     "output_type": "stream",
     "text": [
      "True\n"
     ]
    }
   ],
   "source": [
    "x = {\"f\", \"e\", \"d\", \"c\", \"b\", \"a\"}\n",
    "y = {\"a\", \"b\", \"c\"}\n",
    "z = x.issuperset(y)\n",
    "print(z)"
   ]
  },
  {
   "cell_type": "code",
   "execution_count": 65,
   "id": "ef01418e-225d-45b9-b5ba-156048234b2a",
   "metadata": {},
   "outputs": [
    {
     "name": "stdout",
     "output_type": "stream",
     "text": [
      "False\n"
     ]
    }
   ],
   "source": [
    "x = {\"f\", \"e\", \"d\", \"c\", \"b\"}\n",
    "y = {\"a\", \"b\", \"c\"}\n",
    "z = x.issuperset(y)\n",
    "print(z)"
   ]
  },
  {
   "cell_type": "code",
   "execution_count": 104,
   "id": "673e5714-966b-4323-83e8-279fc24dc8de",
   "metadata": {},
   "outputs": [
    {
     "name": "stdout",
     "output_type": "stream",
     "text": [
      "A.issuperset(B) :  False\n",
      "B.issuperset(A) :  True\n",
      "A.issuperset(C) :  False\n",
      "C.issuperset(B) :  False\n"
     ]
    }
   ],
   "source": [
    "A = {1, 2, 3}\n",
    "B = {1, 2, 3, 4, 5}\n",
    "C = {1, 2, 4, 5}\n",
    "\n",
    "print(\"A.issuperset(B) : \", A.issuperset(B))\n",
    "print(\"B.issuperset(A) : \", B.issuperset(A))\n",
    "print(\"A.issuperset(C) : \", A.issuperset(C))\n",
    "print(\"C.issuperset(B) : \", C.issuperset(B))"
   ]
  },
  {
   "cell_type": "markdown",
   "id": "ed38074d-ff02-4909-9907-84c0c9f8aea4",
   "metadata": {},
   "source": [
    "## use the __>= operator__ instead of __issuperset ()__"
   ]
  },
  {
   "cell_type": "code",
   "execution_count": 64,
   "id": "40ad774a-f40f-4faf-8ce0-f83a21e0b7ab",
   "metadata": {},
   "outputs": [
    {
     "name": "stdout",
     "output_type": "stream",
     "text": [
      "True\n"
     ]
    }
   ],
   "source": [
    "x = {\"f\", \"e\", \"d\", \"c\", \"b\", \"a\"}\n",
    "y = {\"a\", \"b\", \"c\"}\n",
    "z = x >= y\n",
    "print(z)"
   ]
  },
  {
   "cell_type": "markdown",
   "id": "4723303a-6f1d-43d4-9153-6e01dc1d0914",
   "metadata": {},
   "source": [
    "# ⮩ Creating a frozenset() from a list\n",
    "### _frozenset is an immutable version of a set. This means that once a frozenset is created, its elements cannot be added, removed, or modified_. "
   ]
  },
  {
   "cell_type": "code",
   "execution_count": 84,
   "id": "9e379ef1-a3c2-41b4-832f-5bb9014e741f",
   "metadata": {},
   "outputs": [
    {
     "name": "stdout",
     "output_type": "stream",
     "text": [
      "frozenset({1, 2, 3, 4, 5})\n",
      "frozenset({1, 3, 4, 5})\n"
     ]
    }
   ],
   "source": [
    "fset = frozenset([1, 2, 3, 4, 5])\n",
    "print(fset)  \n",
    "                           # Creating a frozenset from a set\n",
    "set1 = {3, 1, 4, 1, 5}\n",
    "fset = frozenset(set1)\n",
    "print(fset)"
   ]
  },
  {
   "cell_type": "markdown",
   "id": "8c03e74d-da6d-44fd-8cef-8aa3d24e91cb",
   "metadata": {},
   "source": [
    "# ⮩ Maximum and Minimum elements in sets"
   ]
  },
  {
   "cell_type": "code",
   "execution_count": 105,
   "id": "47baab1b-f5c7-4fc8-90a7-82c694d0f157",
   "metadata": {},
   "outputs": [
    {
     "name": "stdout",
     "output_type": "stream",
     "text": [
      "Minimum element:  4\n",
      "Maximum element:  13\n"
     ]
    }
   ],
   "source": [
    "s1 = {4, 12, 10, 9, 4, 13}\n",
    "\n",
    "print(\"Minimum element: \", min(s1))      \n",
    "print(\"Maximum element: \", max(s1))"
   ]
  },
  {
   "cell_type": "code",
   "execution_count": 106,
   "id": "66ebcc0c-4278-438e-a7ed-593dd76d7774",
   "metadata": {},
   "outputs": [
    {
     "name": "stdout",
     "output_type": "stream",
     "text": [
      "the maximum value is :  89\n",
      "the minimum value is :  23\n"
     ]
    }
   ],
   "source": [
    "set5 = {23,34,45,56,67,78,89,88,87,76,65,78,89}\n",
    "print(\"the maximum value is : \", max(set5))\n",
    "print(\"the minimum value is : \", min(set5))"
   ]
  },
  {
   "cell_type": "code",
   "execution_count": 107,
   "id": "f018bdce-58e4-49da-b7c4-b0ce05721026",
   "metadata": {},
   "outputs": [
    {
     "name": "stdout",
     "output_type": "stream",
     "text": [
      "Minimum element:  1\n",
      "Maximum element:  9\n"
     ]
    }
   ],
   "source": [
    "s = {5, 3, 9, 1, 7}                            # Sorting the set \n",
    "\n",
    "sorted_s = sorted(s)\n",
    "print(\"Minimum element: \", sorted_s[0])\n",
    "print(\"Maximum element: \", sorted_s[-1])"
   ]
  },
  {
   "cell_type": "code",
   "execution_count": 108,
   "id": "0d0d4534-714a-4546-80ed-56b9167cb941",
   "metadata": {},
   "outputs": [
    {
     "name": "stdout",
     "output_type": "stream",
     "text": [
      "Minimum element: 1\n",
      "Maximum element: 9\n"
     ]
    }
   ],
   "source": [
    "s = {5, 3, 9, 1, 7}                       # using loops\n",
    "min_val = float('inf')\n",
    "max_val = float('-inf')\n",
    "\n",
    "for ele in s:\n",
    "    if ele < min_val:\n",
    "        min_val = ele\n",
    "    if ele > max_val:\n",
    "        max_val = ele\n",
    "\n",
    "print(\"Minimum element:\", min_val)\n",
    "print(\"Maximum element:\", max_val)"
   ]
  },
  {
   "cell_type": "code",
   "execution_count": null,
   "id": "90b0308b-103c-457c-b1ec-cc40aa3b047f",
   "metadata": {},
   "outputs": [],
   "source": [
    "#PROBLEM : \n",
    "\n",
    "Define two sets students_passed_math and students_passed_science containing student IDs who passed Math and Science respectively.\n",
    "Write Python code to:\n",
    "\n",
    "1. Print the number of students who passed both Math and Science.\n",
    "2. Print the student IDs who passed only Math.\n",
    "3. Print the student IDs who passed only Science.\n",
    "4. Determine if students_passed_math is a subset of students_passed_science.\n",
    "5. Determine if students_passed_science is a superset of students_passed_math.\n"
   ]
  },
  {
   "cell_type": "code",
   "execution_count": 109,
   "id": "a9205fb7-df55-4656-8f44-90c4d8a48ac0",
   "metadata": {},
   "outputs": [
    {
     "name": "stdout",
     "output_type": "stream",
     "text": [
      "The student IDs of those who have passed in Math and Science: {104, 105, 103}\n",
      "Total students passed in both Math and Science :         3\n",
      "Those students who have passed in Math only  :        {101, 102}\n",
      "Those students who have passed in Science only   :       {106, 107}\n",
      "Is students passed in Math a subset of students passed in Science: False\n",
      "Is students passed in Science a superset of students passed in Maths: False\n"
     ]
    }
   ],
   "source": [
    "# Define the two sets\n",
    "students_passed_maths = {101, 102, 103, 104, 105}\n",
    "students_passed_science = {103, 104, 105, 106, 107}\n",
    "\n",
    "# 1. Students who passed both Math and Science\n",
    "\n",
    "both_passed = students_passed_maths.intersection(students_passed_science)\n",
    "print(\"The student IDs of those who have passed in Math and Science:\", both_passed)\n",
    "print(\"Total students passed in both Math and Science :        \", len(both_passed))\n",
    "\n",
    "# 2. Students who passed only Math\n",
    "only_math = students_passed_maths.difference(students_passed_science)\n",
    "print(\"Those students who have passed in Math only  :       \", only_math)\n",
    "\n",
    "# 3. Students who passed only Science\n",
    "only_science = students_passed_science.difference(students_passed_maths)\n",
    "print(\"Those students who have passed in Science only   :      \", only_science)\n",
    "\n",
    "# 4. Check if students_passed_math is a subset of students_passed_science\n",
    "sub = students_passed_maths.issubset(students_passed_science)\n",
    "print(\"Is students passed in Math a subset of students passed in Science:\", sub)\n",
    "\n",
    "# 5. Check if students_passed_science is a superset of students_passed_math\n",
    "sub2 = students_passed_science.issuperset(students_passed_maths)\n",
    "print(\"Is students passed in Science a superset of students passed in Maths:\", sub2)"
   ]
  },
  {
   "cell_type": "code",
   "execution_count": null,
   "id": "bd0d9d2d-ef99-4c4a-8f38-b0a0c57a7ee2",
   "metadata": {},
   "outputs": [],
   "source": []
  }
 ],
 "metadata": {
  "kernelspec": {
   "display_name": "Python 3 (ipykernel)",
   "language": "python",
   "name": "python3"
  },
  "language_info": {
   "codemirror_mode": {
    "name": "ipython",
    "version": 3
   },
   "file_extension": ".py",
   "mimetype": "text/x-python",
   "name": "python",
   "nbconvert_exporter": "python",
   "pygments_lexer": "ipython3",
   "version": "3.12.7"
  }
 },
 "nbformat": 4,
 "nbformat_minor": 5
}
