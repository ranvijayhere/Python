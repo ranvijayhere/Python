{
 "cells": [
  {
   "cell_type": "markdown",
   "id": "d1c92239-7a40-437f-ad66-eee1956b7b80",
   "metadata": {
    "jp-MarkdownHeadingCollapsed": true
   },
   "source": [
    "# __4) Controlflow Statements__ or __Conditional Statements in Python__"
   ]
  },
  {
   "cell_type": "markdown",
   "id": "24676c08-ec49-474c-8ba0-f47d1029dc0d",
   "metadata": {},
   "source": [
    "# __➩➩ if conditon__\n",
    "### _In Python , the if statement is a fundamental conditional statement used for __decision-making in programs.__ It allows the execution of specific blocks of code based on whether a given condition evaluates to __True or False.___ "
   ]
  },
  {
   "cell_type": "markdown",
   "id": "abf63318-a1ab-4460-8c75-c82dd873084c",
   "metadata": {},
   "source": [
    "## Python supports the usual logical conditions from mathematics :\n",
    "\n",
    "__Equals   :     a == b__   \n",
    "__Not Equals  :  a != b__  \n",
    "__Less than  :    a < b__  \n",
    "__Less than or equal to  :  a <= b   \n",
    "Greater than  :   a > b__   \n",
    "__Greater than or equal to  :   a >= b__"
   ]
  },
  {
   "cell_type": "code",
   "execution_count": 2,
   "id": "fcd81758-ccfd-4af8-ab99-5baf0ddedb00",
   "metadata": {},
   "outputs": [
    {
     "name": "stdout",
     "output_type": "stream",
     "text": [
      "b is greater than a\n"
     ]
    }
   ],
   "source": [
    "a = 33\n",
    "b = 200\n",
    "if b > a:\n",
    "  print(\"b is greater than a\")"
   ]
  },
  {
   "cell_type": "markdown",
   "id": "7b78b43e-2c0f-4c49-812f-a379a887db6e",
   "metadata": {},
   "source": [
    "#### Python relies on indentation (whitespace at the beginning of a line)"
   ]
  },
  {
   "cell_type": "code",
   "execution_count": 1,
   "id": "8aa1fb30-8439-46c4-abb9-1babd9d827b9",
   "metadata": {},
   "outputs": [
    {
     "ename": "IndentationError",
     "evalue": "expected an indented block after 'if' statement on line 4 (3208426963.py, line 5)",
     "output_type": "error",
     "traceback": [
      "\u001b[1;36m  Cell \u001b[1;32mIn[1], line 5\u001b[1;36m\u001b[0m\n\u001b[1;33m    print(\"b is greater than a\") # you will get an error\u001b[0m\n\u001b[1;37m    ^\u001b[0m\n\u001b[1;31mIndentationError\u001b[0m\u001b[1;31m:\u001b[0m expected an indented block after 'if' statement on line 4\n"
     ]
    }
   ],
   "source": [
    "            # Python relies on indentation (whitespace at the beginning of a line)\n",
    "a = 33\n",
    "b = 200\n",
    "if (b > a):\n",
    "print(\"b is greater than a\") # you will get an error\n",
    "\n",
    "          # If statement, without indentation (will raise an error) :"
   ]
  },
  {
   "cell_type": "code",
   "execution_count": 3,
   "id": "ddcb51c3-2935-4248-98b2-3887bc825f78",
   "metadata": {},
   "outputs": [],
   "source": [
    "a = 33\n",
    "b = 200\n",
    "\n",
    "if a > b: \n",
    " print(\"a is greater than b\")"
   ]
  },
  {
   "cell_type": "code",
   "execution_count": 9,
   "id": "f5e15b04-084a-44e6-af27-656254884826",
   "metadata": {},
   "outputs": [
    {
     "name": "stdout",
     "output_type": "stream",
     "text": [
      "im outside the if condition\n"
     ]
    }
   ],
   "source": [
    "i = 10\n",
    "if(i>15):\n",
    "    print(\"10 is less than 15\")\n",
    "print(\"im outside the if condition\")"
   ]
  },
  {
   "cell_type": "markdown",
   "id": "5ba2fcc1-3814-41f4-a430-0af9e4d9f0b0",
   "metadata": {},
   "source": [
    "## _➩ The '__and__' keyword is a logical operator, and is used to combine conditional statements :_"
   ]
  },
  {
   "cell_type": "code",
   "execution_count": 18,
   "id": "3a811178-43ad-4a7d-8a8a-2f2890dd828f",
   "metadata": {},
   "outputs": [
    {
     "name": "stdout",
     "output_type": "stream",
     "text": [
      "Both conditions are True\n"
     ]
    }
   ],
   "source": [
    "a = 200\n",
    "b = 33\n",
    "c = 500\n",
    "if a > b and c > a:\n",
    "  print(\"Both conditions are True\")"
   ]
  },
  {
   "cell_type": "markdown",
   "id": "a0a10d21-d620-47c2-9a63-959baf241e91",
   "metadata": {},
   "source": [
    "## _➩ The '__or__' keyword is a logical operator, and is used to combine conditional statements :_"
   ]
  },
  {
   "cell_type": "code",
   "execution_count": 20,
   "id": "77519fce-798c-4e1c-9689-1ecaa27734bb",
   "metadata": {},
   "outputs": [
    {
     "name": "stdout",
     "output_type": "stream",
     "text": [
      "At least one of the conditions is True\n"
     ]
    }
   ],
   "source": [
    "a = 200\n",
    "b = 33\n",
    "c = 500\n",
    "if a > b or a > c:\n",
    "  print(\"At least one of the conditions is True\")"
   ]
  },
  {
   "cell_type": "markdown",
   "id": "9855752d-afef-4b22-b23d-1e26c29d923f",
   "metadata": {},
   "source": [
    "## _➩ The '__not__' keyword is a logical operator , and is used to reverse the result of the conditional statement :_"
   ]
  },
  {
   "cell_type": "code",
   "execution_count": 21,
   "id": "d306b061-fbb2-4fc7-aded-005ca32805ec",
   "metadata": {},
   "outputs": [
    {
     "name": "stdout",
     "output_type": "stream",
     "text": [
      "a is NOT greater than b\n"
     ]
    }
   ],
   "source": [
    "a = 33\n",
    "b = 200\n",
    "if not a > b:\n",
    "  print(\"a is NOT greater than b\")"
   ]
  },
  {
   "cell_type": "markdown",
   "id": "53dfcd75-aa19-44be-8b35-5b9138c8e69c",
   "metadata": {},
   "source": [
    "# The pass Statement\n",
    "### _if statements cannot be empty , but if you for some reason have an if statement with no content , put in the pass statement to avoid getting an error ._"
   ]
  },
  {
   "cell_type": "code",
   "execution_count": 6,
   "id": "41f3ef84-7252-49cf-8893-d646f72e8956",
   "metadata": {},
   "outputs": [],
   "source": [
    "a = 33\n",
    "b = 200\n",
    "\n",
    "if b > a :\n",
    "  pass"
   ]
  },
  {
   "cell_type": "markdown",
   "id": "be5a1f09-6378-4227-94d8-8e2920633555",
   "metadata": {},
   "source": [
    "#    ➩ __nested if__\n",
    "### _You can have __if__ statements inside __if__ statements, this is called __nested if statements__._"
   ]
  },
  {
   "cell_type": "code",
   "execution_count": 1,
   "id": "7b26115f-4f63-4c3b-97dd-86c6554e9cbe",
   "metadata": {},
   "outputs": [
    {
     "name": "stdout",
     "output_type": "stream",
     "text": [
      "Above ten,\n",
      "and also above 20!\n"
     ]
    }
   ],
   "source": [
    "x = 41\n",
    "\n",
    "if x > 10:\n",
    "  print(\"Above ten,\")\n",
    "  if x > 20:\n",
    "    print(\"and also above 20!\")\n",
    "  else:\n",
    "    print(\"but not above 20.\")"
   ]
  },
  {
   "cell_type": "code",
   "execution_count": null,
   "id": "1c33dffa-e9ff-4180-b07a-a36afb2f77fd",
   "metadata": {},
   "outputs": [],
   "source": [
    "# EXAMPLE PROBLEM :\n",
    "assigning grades (A,B,C)based on marks obtained by a student\n",
    "\n",
    "if the percentage is above 90,assign grade A\n",
    "if the percentage is above 75,assign grade B\n",
    "if the percentage is above 65,assign grade C"
   ]
  },
  {
   "cell_type": "code",
   "execution_count": 16,
   "id": "c596f84a-6630-4036-8ec9-7ae9352d157a",
   "metadata": {},
   "outputs": [
    {
     "name": "stdin",
     "output_type": "stream",
     "text": [
      "enter the marks scored by a student :  77\n"
     ]
    },
    {
     "name": "stdout",
     "output_type": "stream",
     "text": [
      "student has obtained B grade\n"
     ]
    }
   ],
   "source": [
    "a = int(input(\"enter the marks scored by a student : \"))\n",
    "if a>=90:\n",
    "    print(\"student has obtained A grade\")\n",
    "if a>=75 and a<90:\n",
    "    print(\"student has obtained B grade\")\n",
    "if a>=65 and a<75:\n",
    "    print(\"student has obtained C grade\")\n",
    "    "
   ]
  },
  {
   "cell_type": "markdown",
   "id": "ae47c6db-c7d5-47ba-8020-b460896c807a",
   "metadata": {},
   "source": [
    "#  __➩➩ if -else statement__\n",
    "## __else :__\n",
    "### _The __else__ keyword catches anything which isn't caught by the preceding conditions._"
   ]
  },
  {
   "cell_type": "code",
   "execution_count": 34,
   "id": "3df9ced4-ca0e-4a11-818c-88eb33d82ff7",
   "metadata": {},
   "outputs": [
    {
     "name": "stdout",
     "output_type": "stream",
     "text": [
      "Welcome\n"
     ]
    }
   ],
   "source": [
    "x = 5\n",
    "y = 8\n",
    "if x > y:\n",
    "  print('Hello')\n",
    "else:\n",
    "  print('Welcome')"
   ]
  },
  {
   "cell_type": "code",
   "execution_count": 9,
   "id": "5fd613a3-1730-46b7-8c2b-a8e475d32732",
   "metadata": {},
   "outputs": [
    {
     "name": "stdin",
     "output_type": "stream",
     "text": [
      "type a number here to check whether it is even or odd :  56\n"
     ]
    },
    {
     "name": "stdout",
     "output_type": "stream",
     "text": [
      "even number\n"
     ]
    }
   ],
   "source": [
    "x = int(input('type a number here to check whether it is even or odd : '))\n",
    "\n",
    "if x%2 == 0:\n",
    "    print('even number')\n",
    "else:\n",
    "    print('odd number')"
   ]
  },
  {
   "cell_type": "code",
   "execution_count": null,
   "id": "2d4861aa-1acd-4623-a576-35af6b0deb6b",
   "metadata": {},
   "outputs": [],
   "source": [
    "# PROBLEM : 1\n",
    "\n",
    "Write a python program to display \"Hello\" if the number entered by a user is a multiple of 5 otherwise print \"Bye\""
   ]
  },
  {
   "cell_type": "code",
   "execution_count": 3,
   "id": "9f22ba71-a232-4d58-9657-edb07288b779",
   "metadata": {},
   "outputs": [
    {
     "name": "stdin",
     "output_type": "stream",
     "text": [
      "enter the number 55\n"
     ]
    },
    {
     "name": "stdout",
     "output_type": "stream",
     "text": [
      "Hello\n"
     ]
    }
   ],
   "source": [
    "a = int(input(\"enter the number\"))\n",
    "if a % 5== 0 or a % 5 == 5:\n",
    "    print(\"Hello\")\n",
    "else:\n",
    "    print(\"Bye\")"
   ]
  },
  {
   "cell_type": "code",
   "execution_count": null,
   "id": "364f107d-2fe9-4f99-89f4-597806900ad8",
   "metadata": {},
   "outputs": [],
   "source": [
    "# PROBLEM : 2  \n",
    "\n",
    "Write a python program to check whether a person is eligible for voting or not"
   ]
  },
  {
   "cell_type": "code",
   "execution_count": 44,
   "id": "d5a7ee54-90b4-45b0-99a5-fddb323923a5",
   "metadata": {},
   "outputs": [
    {
     "name": "stdin",
     "output_type": "stream",
     "text": [
      "enter your age :  25\n"
     ]
    },
    {
     "name": "stdout",
     "output_type": "stream",
     "text": [
      "you are eligible to vote\n"
     ]
    }
   ],
   "source": [
    "age = int(input(\"enter your age : \"))\n",
    "\n",
    "if age >=18:\n",
    "    print(\"you are eligible to vote\")\n",
    "else:\n",
    "    print(\"you are not eligible to vote\")"
   ]
  },
  {
   "cell_type": "code",
   "execution_count": null,
   "id": "f60cea95-29f8-43f1-b3cf-b1b6cbecdd86",
   "metadata": {},
   "outputs": [],
   "source": [
    "# PROBLEM : 3 \n",
    "\n",
    "Write a program to check whether the number entered by a user is positive or negative"
   ]
  },
  {
   "cell_type": "code",
   "execution_count": 14,
   "id": "c1c0dc14-25ae-42bd-9994-015203b97ba5",
   "metadata": {},
   "outputs": [
    {
     "name": "stdin",
     "output_type": "stream",
     "text": [
      "please enter the number :  122\n"
     ]
    },
    {
     "name": "stdout",
     "output_type": "stream",
     "text": [
      "the number is positive\n"
     ]
    }
   ],
   "source": [
    "num = int(input(\"please enter the number : \"))\n",
    "if num>=0:\n",
    "    print(\"the number is positive\")\n",
    "else:\n",
    "    print(\"the number is negative\")\n",
    "    "
   ]
  },
  {
   "cell_type": "code",
   "execution_count": 19,
   "id": "884bac89-270a-440f-ad82-a6b3b9ee1332",
   "metadata": {},
   "outputs": [
    {
     "name": "stdin",
     "output_type": "stream",
     "text": [
      "please enter the number :  -78\n"
     ]
    },
    {
     "name": "stdout",
     "output_type": "stream",
     "text": [
      "the number is negative\n"
     ]
    }
   ],
   "source": [
    "num = input(\"please enter the number : \")\n",
    "if '-' in num :\n",
    "    print(\"the number is negative\")\n",
    "else:\n",
    "    print(\"the number is positive\")\n",
    "     "
   ]
  },
  {
   "cell_type": "code",
   "execution_count": 16,
   "id": "76321097-a80d-4cc6-989d-7a440de1a2e4",
   "metadata": {},
   "outputs": [
    {
     "name": "stdout",
     "output_type": "stream",
     "text": [
      "they are not equal\n"
     ]
    }
   ],
   "source": [
    "x = 5\n",
    "y = 10\n",
    "if x == y:                              # this condition is false for the above values\n",
    "    print('they are equal')\n",
    "else:                                 # if the above condition is false, this will run\n",
    "    print('they are not equal')"
   ]
  },
  {
   "cell_type": "code",
   "execution_count": 17,
   "id": "345be3e0-68d9-46b3-81a3-0286d763d63f",
   "metadata": {},
   "outputs": [
    {
     "name": "stdin",
     "output_type": "stream",
     "text": [
      "enter the number :  6\n",
      "enter the number :  8\n"
     ]
    },
    {
     "name": "stdout",
     "output_type": "stream",
     "text": [
      "they are not equal\n"
     ]
    }
   ],
   "source": [
    "x = int(input('enter the number : '))\n",
    "y = int(input('enter the number : '))\n",
    " \n",
    "if x == y:                             # if this condition is true, this code will run\n",
    "    print('they are equal')\n",
    "else:                                 # if the above condition is false, this will run\n",
    "    print('they are not equal')"
   ]
  },
  {
   "cell_type": "markdown",
   "id": "f0aaf862-f274-42c4-a4dd-8a21063667ed",
   "metadata": {},
   "source": [
    "# __➩➩ if-elif-else statement__\n",
    "# Elif                                            \n",
    "### _The __elif__ keyword is Python's way of saying \"__if the previous conditions were not true, then try this condition\"___"
   ]
  },
  {
   "cell_type": "code",
   "execution_count": 50,
   "id": "b8716a88-3288-4297-b05e-c0587a8c06a1",
   "metadata": {},
   "outputs": [
    {
     "name": "stdout",
     "output_type": "stream",
     "text": [
      "a and b are equal\n"
     ]
    }
   ],
   "source": [
    "a = 33\n",
    "b = 33\n",
    "if b > a:\n",
    "  print(\"b is greater than a\")\n",
    "elif a == b:\n",
    "  print(\"a and b are equal\")"
   ]
  },
  {
   "cell_type": "code",
   "execution_count": 35,
   "id": "ced8b408-b147-45e4-a27b-9cdf8ce2a726",
   "metadata": {},
   "outputs": [
    {
     "name": "stdout",
     "output_type": "stream",
     "text": [
      "=\n"
     ]
    }
   ],
   "source": [
    "a = 330\n",
    "b = 330\n",
    "print(\"A\") if a > b else print(\"=\") if a == b else print(\"B\")"
   ]
  },
  {
   "cell_type": "code",
   "execution_count": 52,
   "id": "79f416fe-3df1-48e6-8f65-4fe3e21ffc99",
   "metadata": {},
   "outputs": [
    {
     "name": "stdout",
     "output_type": "stream",
     "text": [
      "a is greater than b\n"
     ]
    }
   ],
   "source": [
    "a = 200\n",
    "b = 33\n",
    "if b > a:\n",
    "  print(\"b is greater than a\")\n",
    "elif a == b:\n",
    "  print(\"a and b are equal\")\n",
    "else:\n",
    "  print(\"a is greater than b\")"
   ]
  },
  {
   "cell_type": "code",
   "execution_count": 9,
   "id": "1aeb895a-bdff-4ffc-8ec7-4e8d6064f1f0",
   "metadata": {},
   "outputs": [
    {
     "name": "stdin",
     "output_type": "stream",
     "text": [
      " 55\n",
      " 56\n"
     ]
    },
    {
     "name": "stdout",
     "output_type": "stream",
     "text": [
      "y is greater\n"
     ]
    }
   ],
   "source": [
    "x = int(input())\n",
    "y = int(input())\n",
    "\n",
    "if x==y:                         # if this condition is true, this code will run\n",
    "    print('they are equal')\n",
    "elif x>y:\n",
    "    print('x is greater')\n",
    "elif x<y:\n",
    "    print('y is greater')\n",
    "else:                             # if the above condition is false, this will run\n",
    "    print('they are not equal')"
   ]
  },
  {
   "cell_type": "code",
   "execution_count": null,
   "id": "14ac4d84-ee15-4b61-bea8-cc7a99690ec4",
   "metadata": {},
   "outputs": [],
   "source": [
    "# PROBLEM : 1\n",
    "Accept any city from the user and display the monument of the city;\n",
    "delhi  -  Red fort\n",
    "agra   - Taj mahal\n",
    "jaipur - Jalmahal\n",
    "orissa - Konark Temple\n",
    "hyderabad - charminar"
   ]
  },
  {
   "cell_type": "code",
   "execution_count": 57,
   "id": "a2e35a39-9621-43c5-b306-b5e5ec3e32f5",
   "metadata": {},
   "outputs": [
    {
     "name": "stdin",
     "output_type": "stream",
     "text": [
      "enter the city:  hyderabad\n"
     ]
    },
    {
     "name": "stdout",
     "output_type": "stream",
     "text": [
      "the monument of hyderabad is Charminar\n"
     ]
    }
   ],
   "source": [
    "a = input(\"enter the city: \")\n",
    "if a==\"delhi\":\n",
    "  print(\"the monument of delhi is Red fort\")\n",
    "elif a==\"agra\":\n",
    "  print(\"the monument of agra is Taj Mahal\")\n",
    "elif a==\"jaipur\":\n",
    "    print(\"the monument of jaiput is Jalmahal\")\n",
    "elif a==\"orissa\":\n",
    "    print(\"the monument of orissa is Konark Temple\")\n",
    "elif a==\"hyderabad\":\n",
    "    print(\"the monument of hyderabad is Charminar\")\n",
    "else:\n",
    "    print(\"no record found\")"
   ]
  },
  {
   "cell_type": "code",
   "execution_count": null,
   "id": "5c8ef1fd-db49-4279-b462-72e232e18016",
   "metadata": {},
   "outputs": [],
   "source": [
    "# PROBLEM : 2\n",
    "\n",
    "Accept the number of days from user and calculate the charge of library, data as following;\n",
    "\n",
    "till 5 days   - 2rs per day\n",
    "6 to 10 days  - 3rs per day\n",
    "11 to 15days  - 4rs per day\n",
    "after 15 days - 5rs per day"
   ]
  },
  {
   "cell_type": "code",
   "execution_count": 58,
   "id": "1fc1af17-0a7e-4650-bcd9-b8c988397186",
   "metadata": {},
   "outputs": [
    {
     "name": "stdin",
     "output_type": "stream",
     "text": [
      "enter the number of days you wanna keep the book 7\n"
     ]
    },
    {
     "name": "stdout",
     "output_type": "stream",
     "text": [
      "you need to pay 21 rs\n"
     ]
    }
   ],
   "source": [
    "d = int(input(\"enter the number of days you wanna keep the book\"))\n",
    "if d<=5:\n",
    "    print(\"you need to pay\", d*2,\"rs\")\n",
    "elif d>=6 and d<=10:\n",
    "    print(\"you need to pay\", d*3,\"rs\")\n",
    "elif d>=11 and d<=15:\n",
    "    print(\"you need to pay\", d*4,\"rs\")\n",
    "elif d>=15:\n",
    "    print(\"you need to pay\", d*5,\"rs\")"
   ]
  },
  {
   "cell_type": "code",
   "execution_count": null,
   "id": "86e8ea83-cda8-40fa-9831-2bdbc2dabb57",
   "metadata": {},
   "outputs": [],
   "source": [
    "# PROBLEM : 3\n",
    "\n",
    "Develop a temperature converter in Python for a cold storage that converts temperatures between Celsius and Fahrenheit scales.  \n",
    "The program should take a temperature value and a unit (C or F) as input. \n",
    "\n",
    "If the temperature is less than 15 degrees Celsius, \n",
    "inform the user that the temperature is not convenient. \n",
    "If the temperature is between 24 to 28 degrees Celsius, \n",
    "inform the user that the temperature is convenient."
   ]
  },
  {
   "cell_type": "code",
   "execution_count": 4,
   "id": "9e1954e5-c821-4eaf-86ec-4202ec7ffcda",
   "metadata": {},
   "outputs": [
    {
     "name": "stdin",
     "output_type": "stream",
     "text": [
      "enter the temperature :  15\n"
     ]
    },
    {
     "name": "stdout",
     "output_type": "stream",
     "text": [
      "the temperature is not convinient\n"
     ]
    }
   ],
   "source": [
    "temp = float(input(\"enter the temperature : \"))\n",
    "if temp<=15:\n",
    "    print(\"the temperature is not convinient\")\n",
    "if temp<=24 and temp>=28:\n",
    "    print(\" the temperature is convinient\")\n"
   ]
  },
  {
   "cell_type": "code",
   "execution_count": null,
   "id": "86afc61f-f088-410b-9bb6-a3130bab0191",
   "metadata": {},
   "outputs": [],
   "source": [
    "# PROBLEM : 4\n",
    "BMI Calculation"
   ]
  },
  {
   "cell_type": "code",
   "execution_count": 4,
   "id": "ce80419f-bb3d-4ba1-a652-289389278b80",
   "metadata": {},
   "outputs": [
    {
     "name": "stdin",
     "output_type": "stream",
     "text": [
      "type your weight here: 65\n",
      "type your height here: 172\n"
     ]
    },
    {
     "name": "stdout",
     "output_type": "stream",
     "text": [
      "0.0\n",
      "underweight\n"
     ]
    }
   ],
   "source": [
    "weight= float(input('type your weight here:'))\n",
    "height= float(input('type your height here:'))\n",
    "\n",
    "bmi = round( weight/(height**2) , 2)    # ROUNDING UPTO 2 DECIMAL POINTS\n",
    "print( bmi )\n",
    "\n",
    "if bmi<18.5:\n",
    "    print('underweight')\n",
    "elif bmi>=18.5 and bmi<=24.9:\n",
    "    print('you are healthy')\n",
    "elif bmi>=25 and bmi<=29.9:\n",
    "    print('you are overweight')\n",
    "else:\n",
    "    print('you are obese')"
   ]
  },
  {
   "cell_type": "code",
   "execution_count": null,
   "id": "c4afd404-4e6e-42fb-8d88-20fd628877a4",
   "metadata": {},
   "outputs": [],
   "source": [
    "# PROBLEM : 5 \n",
    "pH level - solution\n",
    "● 1 - 3 strong acid\n",
    "● 4 - 6 weak acid\n",
    "● 7 neutral\n",
    "● 8 - 11 weak base\n",
    "● 12-14 strong base\n",
    "● Else not valid ph level"
   ]
  },
  {
   "cell_type": "code",
   "execution_count": 17,
   "id": "a2fc9c1e-5b77-41da-9293-8fdfb3e9cff6",
   "metadata": {},
   "outputs": [
    {
     "name": "stdin",
     "output_type": "stream",
     "text": [
      "type the ph level: 13\n"
     ]
    },
    {
     "name": "stdout",
     "output_type": "stream",
     "text": [
      "strong base\n"
     ]
    }
   ],
   "source": [
    "ph = int(input('type the ph level:'))\n",
    "\n",
    "if ph>=1 and ph<=3:\n",
    "    print('strong acid')\n",
    "elif ph>=4 and ph<=6:\n",
    "    print('weak acid')\n",
    "elif ph==7:\n",
    "    print('neutral')\n",
    "elif ph>=8 and ph<=11:\n",
    "    print('weak base')\n",
    "elif ph>=12 and ph<=14:\n",
    "    print('strong base')\n",
    "else:\n",
    "    print('this is not a valid ph level')"
   ]
  },
  {
   "cell_type": "code",
   "execution_count": null,
   "id": "9c2e720a-c0c6-499c-89f1-e26817c367c4",
   "metadata": {},
   "outputs": [],
   "source": [
    "# PROBLEM : 6\n",
    "You are tasked with developing a Python program to manage employee salaries for a company. \n",
    "Your program should calculate the net salary of each employee based on their base salary, deduction, and bonuses. \n",
    "Additionally, employees who have been with the company for more than 5 years are eligible for an additional loyalty bonus. 8% of salary,\n",
    "deduction of tax will be 12%.\n",
    "\n",
    "Write a Python script that prompts the user to input the following information for each employee:\n",
    "Base Year, \n",
    "Years of Salary\n",
    "\n",
    "After calculating the net salary, the program should print a summary for each employee, \n",
    "including their base salary, deduction, bonuses, loyalty bonus, (if applicable) and net salary."
   ]
  },
  {
   "cell_type": "code",
   "execution_count": 20,
   "id": "689eee8e-584e-463c-9e1a-73194721894c",
   "metadata": {},
   "outputs": [
    {
     "name": "stdin",
     "output_type": "stream",
     "text": [
      "enter your base salary :  35000\n",
      "enter your years of service :  7\n"
     ]
    },
    {
     "name": "stdout",
     "output_type": "stream",
     "text": [
      "you will get net salary :  33600.0\n"
     ]
    }
   ],
   "source": [
    "base_salary = float(input(\"enter your base salary : \"))\n",
    "years_of_service = int(input(\"enter your years of service : \"))\n",
    "\n",
    "if years_of_service>5:\n",
    "    total_salary = base_salary+(0.08*base_salary)-(0.12*base_salary)\n",
    "    print(\"you will get net salary : \", total_salary)\n",
    "else:\n",
    "    net_salary = base_salary - (0.12*base_salary)\n",
    "    print(\"your net salary is : \", net_salary)\n"
   ]
  },
  {
   "cell_type": "markdown",
   "id": "e8daf381-9780-4a61-8977-9fb887e51071",
   "metadata": {},
   "source": [
    "# __➩➩ Python Try Except__\n",
    "### _The __try__ block lets you test a block of code for errors ._\n",
    "### _The __except__ block lets you handle the error ._\n",
    "### _The __else__ block lets you execute code when there is no error ._\n",
    "### _The __finally__ block lets you execute code, regardless of the result of the try- and except blocks ._"
   ]
  },
  {
   "cell_type": "markdown",
   "id": "93d12a2c-c509-49ac-828a-8525c794457f",
   "metadata": {},
   "source": [
    "# ➩ Exception Handling\n",
    "### _When an error occurs, or exception as we call it, Python will normally stop and generate an error message ._\n",
    "#### _These exceptions can be handled using the try statement :_"
   ]
  },
  {
   "cell_type": "code",
   "execution_count": 1,
   "id": "9b3b98d2-2c06-4cf4-8891-048001307d54",
   "metadata": {},
   "outputs": [
    {
     "name": "stdout",
     "output_type": "stream",
     "text": [
      "An exception occurred\n"
     ]
    }
   ],
   "source": [
    "try:                          # The try block will generate an exception, because x is not defined:\n",
    "  print(x)\n",
    "except:\n",
    "  print(\"An exception occurred\")"
   ]
  },
  {
   "cell_type": "code",
   "execution_count": 8,
   "id": "336ea401-2414-4d91-8838-2e076dcaa3c6",
   "metadata": {},
   "outputs": [
    {
     "name": "stdout",
     "output_type": "stream",
     "text": [
      "An exception occurred.\n"
     ]
    }
   ],
   "source": [
    "try:\n",
    "                # Code that may raise an exception\n",
    "    x = 3 / 0\n",
    "    print(x)\n",
    "except:\n",
    "                             # exception occurs, if code under try throws error\n",
    "    print(\"An exception occurred.\")"
   ]
  },
  {
   "cell_type": "code",
   "execution_count": 9,
   "id": "ae44fdc2-a038-4598-951e-62916d554e64",
   "metadata": {},
   "outputs": [
    {
     "name": "stdout",
     "output_type": "stream",
     "text": [
      "Yeah ! Your answer is : 1\n"
     ]
    }
   ],
   "source": [
    "def divide(x, y):\n",
    "    try:\n",
    "                              # Floor Division : Gives only Fractional Part as Answer\n",
    "        result = x // y\n",
    "        print(\"Yeah ! Your answer is :\", result)\n",
    "    except ZeroDivisionError:\n",
    "        print(\"Sorry ! You are dividing by zero \")\n",
    "                             # Look at parameters and note the working of Program\n",
    "divide(3, 2)"
   ]
  },
  {
   "cell_type": "code",
   "execution_count": 5,
   "id": "33f9236f-40e0-4ff8-afc8-8c0359f198c8",
   "metadata": {},
   "outputs": [
    {
     "name": "stdout",
     "output_type": "stream",
     "text": [
      "The error is:  unsupported operand type(s) for //: 'int' and 'str'\n",
      "The error is:  integer division or modulo by zero\n",
      "Yeah ! Your answer is : 3\n"
     ]
    }
   ],
   "source": [
    "def divide(x, y):\n",
    "    try:\n",
    "        result = x // y\n",
    "        print(\"Yeah ! Your answer is :\", result)\n",
    "    except Exception as e:\n",
    "        print(\"The error is: \",e)\n",
    "        \n",
    "divide(3, \"RAN\") \n",
    "divide(3,0)\n",
    "divide(9,3)"
   ]
  },
  {
   "cell_type": "markdown",
   "id": "9377151f-2727-4249-83bd-e76f3bae5f38",
   "metadata": {},
   "source": [
    "## Many Exceptions\n",
    "### _You can define as many exception blocks as you want, e.g. if you want to execute a special block of code for a special kind of error :_"
   ]
  },
  {
   "cell_type": "code",
   "execution_count": 2,
   "id": "62bbda6c-338f-44a3-ba6d-08ccf4451b9a",
   "metadata": {},
   "outputs": [
    {
     "name": "stdout",
     "output_type": "stream",
     "text": [
      "Variable x is not defined\n"
     ]
    }
   ],
   "source": [
    "                              # The try block will generate a NameError, because x is not defined:\n",
    "try:\n",
    "    print(x)\n",
    "except NameError:\n",
    "    print(\"Variable x is not defined\")\n",
    "except:\n",
    "    print(\"Something else went wrong\")"
   ]
  },
  {
   "cell_type": "code",
   "execution_count": 6,
   "id": "32accb47-96fd-4d20-8f71-4e5bf1f80631",
   "metadata": {},
   "outputs": [
    {
     "name": "stdout",
     "output_type": "stream",
     "text": [
      "Error: Cannot divide by zero!\n"
     ]
    }
   ],
   "source": [
    "try:\n",
    "    result = 10 / 0\n",
    "    print(result)\n",
    "except ZeroDivisionError:\n",
    "    print(\"Error: Cannot divide by zero!\")\n",
    "except ValueError:\n",
    "    print(\"Error: Invalid value encountered.\")"
   ]
  },
  {
   "cell_type": "markdown",
   "id": "1090d520-7f97-4f47-9f2f-e764ebbae26b",
   "metadata": {},
   "source": [
    "## ➩ Else Clause\n",
    "### _You can use the __else__ keyword to define a block of code to be executed if no errors were raised :_"
   ]
  },
  {
   "cell_type": "code",
   "execution_count": 3,
   "id": "64cd811e-32cb-4a25-b604-1d6820e2b30f",
   "metadata": {},
   "outputs": [
    {
     "name": "stdout",
     "output_type": "stream",
     "text": [
      "Hello\n",
      "Nothing went wrong\n"
     ]
    }
   ],
   "source": [
    "# In this example, the try block does not generate any error:\n",
    "\n",
    "try:\n",
    "  print(\"Hello\")\n",
    "except:\n",
    "  print(\"Something went wrong\")\n",
    "else:\n",
    "  print(\"Nothing went wrong\")"
   ]
  },
  {
   "cell_type": "code",
   "execution_count": 24,
   "id": "337044d7-bd6a-469a-a3dd-9ebcd9196b23",
   "metadata": {},
   "outputs": [
    {
     "name": "stdout",
     "output_type": "stream",
     "text": [
      "-5.0\n",
      "a/b result in 0\n"
     ]
    }
   ],
   "source": [
    "def myfunc(a , b):\n",
    "    try:\n",
    "        c = ((a+b) // (a-b))\n",
    "    except ZeroDivisionError:\n",
    "        print (\"a/b result in 0\")\n",
    "    else:\n",
    "        print (c)\n",
    "        \n",
    "myfunc(2.0, 3.0)\n",
    "myfunc(3.0, 3.0)"
   ]
  },
  {
   "cell_type": "markdown",
   "id": "3fc78214-e165-4cf2-89f4-95ae29e6caa5",
   "metadata": {},
   "source": [
    "## ➩ Finally block\n",
    "### _The finally block, if specified, will be executed regardless if the try block raises an error or not._"
   ]
  },
  {
   "cell_type": "code",
   "execution_count": 8,
   "id": "e4fee6d0-0866-40bb-a1f8-a353d914431f",
   "metadata": {},
   "outputs": [
    {
     "name": "stdout",
     "output_type": "stream",
     "text": [
      "Something went wrong\n",
      "The 'try except' is finished\n"
     ]
    }
   ],
   "source": [
    "try:\n",
    "    print(L)\n",
    "except:\n",
    "    print(\"Something went wrong\")\n",
    "finally:\n",
    "    print(\"The 'try except' is finished\")"
   ]
  },
  {
   "cell_type": "code",
   "execution_count": 5,
   "id": "d7c4a06c-c4d4-46cb-834a-d65eb0022dd8",
   "metadata": {},
   "outputs": [
    {
     "name": "stdout",
     "output_type": "stream",
     "text": [
      "Something went wrong when opening the file\n"
     ]
    }
   ],
   "source": [
    "# Try to open and write to a file that is not writable:\n",
    "\n",
    "try:\n",
    "  f = open(\"demofile.txt\")\n",
    "  try:\n",
    "    f.write(\"Lorum Ipsum\")\n",
    "  except:\n",
    "    print(\"Something went wrong when writing to the file\")\n",
    "  finally:\n",
    "    f.close()\n",
    "except:\n",
    "  print(\"Something went wrong when opening the file\")"
   ]
  },
  {
   "cell_type": "code",
   "execution_count": 13,
   "id": "0ba4d2fd-91c1-4304-8e84-599366cbe466",
   "metadata": {},
   "outputs": [
    {
     "name": "stdout",
     "output_type": "stream",
     "text": [
      "Can't divide by zero\n",
      "This is always executed\n"
     ]
    }
   ],
   "source": [
    "                          # No exception Exception raised in try block \n",
    "try: \n",
    "    k = 5//0               # raises divide by zero exception. \n",
    "    print(k) \n",
    "   \n",
    "                            # handles zerodivision exception     \n",
    "except ZeroDivisionError:    \n",
    "    print(\"Can't divide by zero\") \n",
    "       \n",
    "finally: \n",
    "                                                      # this block is always executed  \n",
    "                                                     # regardless of exception generation. \n",
    "    print('This is always executed')"
   ]
  },
  {
   "cell_type": "markdown",
   "id": "68621994-6e23-4b42-8fcd-dd87db62ab69",
   "metadata": {},
   "source": [
    "## Raise an exception\n",
    "### _As a Python developer you can choose to throw an exception if a condition occurs._\n",
    "### _To throw (or raise) an exception, use the raise keyword._"
   ]
  },
  {
   "cell_type": "code",
   "execution_count": 6,
   "id": "e61688e1-b026-4d26-85ff-3e810f38220f",
   "metadata": {},
   "outputs": [
    {
     "ename": "Exception",
     "evalue": "Sorry, no numbers below zero",
     "output_type": "error",
     "traceback": [
      "\u001b[1;31m---------------------------------------------------------------------------\u001b[0m",
      "\u001b[1;31mException\u001b[0m                                 Traceback (most recent call last)",
      "Cell \u001b[1;32mIn[6], line 4\u001b[0m\n\u001b[0;32m      1\u001b[0m x \u001b[38;5;241m=\u001b[39m \u001b[38;5;241m-\u001b[39m\u001b[38;5;241m1\u001b[39m\n\u001b[0;32m      3\u001b[0m \u001b[38;5;28;01mif\u001b[39;00m x \u001b[38;5;241m<\u001b[39m \u001b[38;5;241m0\u001b[39m:\n\u001b[1;32m----> 4\u001b[0m   \u001b[38;5;28;01mraise\u001b[39;00m \u001b[38;5;167;01mException\u001b[39;00m(\u001b[38;5;124m\"\u001b[39m\u001b[38;5;124mSorry, no numbers below zero\u001b[39m\u001b[38;5;124m\"\u001b[39m)\n",
      "\u001b[1;31mException\u001b[0m: Sorry, no numbers below zero"
     ]
    }
   ],
   "source": [
    "x = -1       \n",
    "\n",
    "if x < 0:\n",
    "  raise Exception(\"Sorry, no numbers below zero\")"
   ]
  },
  {
   "cell_type": "code",
   "execution_count": 7,
   "id": "103f67dc-03c9-447e-b2c3-566b85c57c62",
   "metadata": {},
   "outputs": [
    {
     "ename": "TypeError",
     "evalue": "Only integers are allowed",
     "output_type": "error",
     "traceback": [
      "\u001b[1;31m---------------------------------------------------------------------------\u001b[0m",
      "\u001b[1;31mTypeError\u001b[0m                                 Traceback (most recent call last)",
      "Cell \u001b[1;32mIn[7], line 5\u001b[0m\n\u001b[0;32m      2\u001b[0m x \u001b[38;5;241m=\u001b[39m \u001b[38;5;124m\"\u001b[39m\u001b[38;5;124mhello\u001b[39m\u001b[38;5;124m\"\u001b[39m\n\u001b[0;32m      4\u001b[0m \u001b[38;5;28;01mif\u001b[39;00m \u001b[38;5;129;01mnot\u001b[39;00m \u001b[38;5;28mtype\u001b[39m(x) \u001b[38;5;129;01mis\u001b[39;00m \u001b[38;5;28mint\u001b[39m:\n\u001b[1;32m----> 5\u001b[0m   \u001b[38;5;28;01mraise\u001b[39;00m \u001b[38;5;167;01mTypeError\u001b[39;00m(\u001b[38;5;124m\"\u001b[39m\u001b[38;5;124mOnly integers are allowed\u001b[39m\u001b[38;5;124m\"\u001b[39m)\n",
      "\u001b[1;31mTypeError\u001b[0m: Only integers are allowed"
     ]
    }
   ],
   "source": [
    "                                      # Raise a TypeError if x is not an integer:\n",
    "x = \"hello\"\n",
    "\n",
    "if not type(x) is int:\n",
    "  raise TypeError(\"Only integers are allowed\")"
   ]
  },
  {
   "cell_type": "code",
   "execution_count": null,
   "id": "195fef11-88cc-4302-b1dc-4f7f9b8ff93d",
   "metadata": {},
   "outputs": [],
   "source": []
  }
 ],
 "metadata": {
  "kernelspec": {
   "display_name": "Python 3 (ipykernel)",
   "language": "python",
   "name": "python3"
  },
  "language_info": {
   "codemirror_mode": {
    "name": "ipython",
    "version": 3
   },
   "file_extension": ".py",
   "mimetype": "text/x-python",
   "name": "python",
   "nbconvert_exporter": "python",
   "pygments_lexer": "ipython3",
   "version": "3.12.7"
  }
 },
 "nbformat": 4,
 "nbformat_minor": 5
}
